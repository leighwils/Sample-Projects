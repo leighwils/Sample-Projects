{
 "cells": [
  {
   "cell_type": "markdown",
   "metadata": {},
   "source": [
    "<div style=\"border:solid green 2px; padding: 20px\"> \n",
    "    \n",
    "Hello Catharine, \n",
    "    \n",
    "    \n",
    "my name is Aleksandra. I'm going to review your project! Nice to meet you! 🙌\n",
    "\n",
    "You can find my comments under the heading **«Review»**. I will categorize my comments in green, blue or red boxes like this:\n",
    "\n",
    "<div class=\"alert alert-success\">\n",
    "    <b>Success:</b> if everything is done successfully\n",
    "</div>\n",
    "<div class=\"alert alert-warning\">\n",
    "    <b>Remarks:</b> if I can give some recommendations or ways to improve the project\n",
    "</div>\n",
    "<div class=\"alert alert-danger\">\n",
    "    <b>Needs fixing:</b> if the block requires some corrections. Work can't be accepted with the red comments\n",
    "</div>\n",
    "\n",
    "Please don't remove my comments :) If you have any questions don't hesitate to respond to my comments in a different section. "
   ]
  },
  {
   "cell_type": "markdown",
   "metadata": {},
   "source": [
    "<div class=\"alert alert-block alert-success\">\n",
    "<b>Overall reviewer's comment v1</b> <a class=\"tocSkip\"></a>\n",
    "    \n",
    "Catharine, thank you so much for the project! I can see that a lot of effort has been made and it turned out to be very strong. You work very carefully with data and make qualitative assumptions - like a real analyst.\n",
    "    \n",
    "There are no critical comments. I left a few directional comments. If you have any questions, feel free to ask them through your tutor. Good luck in the next steps! \n",
    "</div>"
   ]
  },
  {
   "cell_type": "markdown",
   "metadata": {},
   "source": [
    "# Analyzing borrowers’ risk of defaulting\n",
    "\n",
    "Your project is to prepare a report for a bank’s loan division. You’ll need to find out if a customer’s marital status and number of children has an impact on whether they will default on a loan. The bank already has some data on customers’ credit worthiness.\n",
    "\n",
    "Your report will be considered when building the **credit score** of a potential customer. The **credit score** is used to evaluate the ability of a potential borrower to repay their loan."
   ]
  },
  {
   "cell_type": "markdown",
   "metadata": {},
   "source": [
    "# Project Purpose\n",
    "The purpose of this project is to determine if a customer's marital status and number of children correlates to their likelihood to default on a loan. The conclusion will be used to inform how to build credit scores for potential customers. \n",
    "\n",
    "# Hypothesis\n",
    "A customer's marital status and the number of children will impact their likelihood to repay a loan. Specifically:\n",
    "* Being unmarried will correlate with a greater likelihood of defaulting on a loan.\n",
    "* Having children will correlate with a greater likelihood of defaulting on a loan."
   ]
  },
  {
   "cell_type": "markdown",
   "metadata": {},
   "source": [
    "## Open the data file and have a look at the general information. "
   ]
  },
  {
   "cell_type": "code",
   "execution_count": 372,
   "metadata": {},
   "outputs": [],
   "source": [
    "import pandas as pd # Loading all the libraries\n",
    "import math\n",
    "\n",
    "loan_data = pd.read_csv('/datasets/credit_scoring_eng.csv') # Load the data\n"
   ]
  },
  {
   "cell_type": "markdown",
   "metadata": {},
   "source": [
    "## Task 1. Data exploration\n",
    "\n",
    "**Description of the data**\n",
    "- `children` - the number of children in the family\n",
    "- `days_employed` - work experience in days\n",
    "- `dob_years` - client's age in years\n",
    "- `education` - client's education\n",
    "- `education_id` - education identifier\n",
    "- `family_status` - marital status\n",
    "- `family_status_id` - marital status identifier\n",
    "- `gender` - gender of the client\n",
    "- `income_type` - type of employment\n",
    "- `debt` - was there any debt on loan repayment\n",
    "- `total_income` - monthly income\n",
    "- `purpose` - the purpose of obtaining a loan"
   ]
  },
  {
   "cell_type": "code",
   "execution_count": 373,
   "metadata": {},
   "outputs": [
    {
     "data": {
      "text/plain": [
       "(21525, 12)"
      ]
     },
     "execution_count": 373,
     "metadata": {},
     "output_type": "execute_result"
    }
   ],
   "source": [
    "loan_data.shape # Checks the number of rows and columns our dataset has"
   ]
  },
  {
   "cell_type": "code",
   "execution_count": 374,
   "metadata": {
    "scrolled": true
   },
   "outputs": [
    {
     "data": {
      "text/html": [
       "<div>\n",
       "<style scoped>\n",
       "    .dataframe tbody tr th:only-of-type {\n",
       "        vertical-align: middle;\n",
       "    }\n",
       "\n",
       "    .dataframe tbody tr th {\n",
       "        vertical-align: top;\n",
       "    }\n",
       "\n",
       "    .dataframe thead th {\n",
       "        text-align: right;\n",
       "    }\n",
       "</style>\n",
       "<table border=\"1\" class=\"dataframe\">\n",
       "  <thead>\n",
       "    <tr style=\"text-align: right;\">\n",
       "      <th></th>\n",
       "      <th>children</th>\n",
       "      <th>days_employed</th>\n",
       "      <th>dob_years</th>\n",
       "      <th>education</th>\n",
       "      <th>education_id</th>\n",
       "      <th>family_status</th>\n",
       "      <th>family_status_id</th>\n",
       "      <th>gender</th>\n",
       "      <th>income_type</th>\n",
       "      <th>debt</th>\n",
       "      <th>total_income</th>\n",
       "      <th>purpose</th>\n",
       "    </tr>\n",
       "  </thead>\n",
       "  <tbody>\n",
       "    <tr>\n",
       "      <td>0</td>\n",
       "      <td>1</td>\n",
       "      <td>-8437.673028</td>\n",
       "      <td>42</td>\n",
       "      <td>bachelor's degree</td>\n",
       "      <td>0</td>\n",
       "      <td>married</td>\n",
       "      <td>0</td>\n",
       "      <td>F</td>\n",
       "      <td>employee</td>\n",
       "      <td>0</td>\n",
       "      <td>40620.102</td>\n",
       "      <td>purchase of the house</td>\n",
       "    </tr>\n",
       "    <tr>\n",
       "      <td>1</td>\n",
       "      <td>1</td>\n",
       "      <td>-4024.803754</td>\n",
       "      <td>36</td>\n",
       "      <td>secondary education</td>\n",
       "      <td>1</td>\n",
       "      <td>married</td>\n",
       "      <td>0</td>\n",
       "      <td>F</td>\n",
       "      <td>employee</td>\n",
       "      <td>0</td>\n",
       "      <td>17932.802</td>\n",
       "      <td>car purchase</td>\n",
       "    </tr>\n",
       "    <tr>\n",
       "      <td>2</td>\n",
       "      <td>0</td>\n",
       "      <td>-5623.422610</td>\n",
       "      <td>33</td>\n",
       "      <td>Secondary Education</td>\n",
       "      <td>1</td>\n",
       "      <td>married</td>\n",
       "      <td>0</td>\n",
       "      <td>M</td>\n",
       "      <td>employee</td>\n",
       "      <td>0</td>\n",
       "      <td>23341.752</td>\n",
       "      <td>purchase of the house</td>\n",
       "    </tr>\n",
       "    <tr>\n",
       "      <td>3</td>\n",
       "      <td>3</td>\n",
       "      <td>-4124.747207</td>\n",
       "      <td>32</td>\n",
       "      <td>secondary education</td>\n",
       "      <td>1</td>\n",
       "      <td>married</td>\n",
       "      <td>0</td>\n",
       "      <td>M</td>\n",
       "      <td>employee</td>\n",
       "      <td>0</td>\n",
       "      <td>42820.568</td>\n",
       "      <td>supplementary education</td>\n",
       "    </tr>\n",
       "    <tr>\n",
       "      <td>4</td>\n",
       "      <td>0</td>\n",
       "      <td>340266.072047</td>\n",
       "      <td>53</td>\n",
       "      <td>secondary education</td>\n",
       "      <td>1</td>\n",
       "      <td>civil partnership</td>\n",
       "      <td>1</td>\n",
       "      <td>F</td>\n",
       "      <td>retiree</td>\n",
       "      <td>0</td>\n",
       "      <td>25378.572</td>\n",
       "      <td>to have a wedding</td>\n",
       "    </tr>\n",
       "    <tr>\n",
       "      <td>5</td>\n",
       "      <td>0</td>\n",
       "      <td>-926.185831</td>\n",
       "      <td>27</td>\n",
       "      <td>bachelor's degree</td>\n",
       "      <td>0</td>\n",
       "      <td>civil partnership</td>\n",
       "      <td>1</td>\n",
       "      <td>M</td>\n",
       "      <td>business</td>\n",
       "      <td>0</td>\n",
       "      <td>40922.170</td>\n",
       "      <td>purchase of the house</td>\n",
       "    </tr>\n",
       "    <tr>\n",
       "      <td>6</td>\n",
       "      <td>0</td>\n",
       "      <td>-2879.202052</td>\n",
       "      <td>43</td>\n",
       "      <td>bachelor's degree</td>\n",
       "      <td>0</td>\n",
       "      <td>married</td>\n",
       "      <td>0</td>\n",
       "      <td>F</td>\n",
       "      <td>business</td>\n",
       "      <td>0</td>\n",
       "      <td>38484.156</td>\n",
       "      <td>housing transactions</td>\n",
       "    </tr>\n",
       "    <tr>\n",
       "      <td>7</td>\n",
       "      <td>0</td>\n",
       "      <td>-152.779569</td>\n",
       "      <td>50</td>\n",
       "      <td>SECONDARY EDUCATION</td>\n",
       "      <td>1</td>\n",
       "      <td>married</td>\n",
       "      <td>0</td>\n",
       "      <td>M</td>\n",
       "      <td>employee</td>\n",
       "      <td>0</td>\n",
       "      <td>21731.829</td>\n",
       "      <td>education</td>\n",
       "    </tr>\n",
       "    <tr>\n",
       "      <td>8</td>\n",
       "      <td>2</td>\n",
       "      <td>-6929.865299</td>\n",
       "      <td>35</td>\n",
       "      <td>BACHELOR'S DEGREE</td>\n",
       "      <td>0</td>\n",
       "      <td>civil partnership</td>\n",
       "      <td>1</td>\n",
       "      <td>F</td>\n",
       "      <td>employee</td>\n",
       "      <td>0</td>\n",
       "      <td>15337.093</td>\n",
       "      <td>having a wedding</td>\n",
       "    </tr>\n",
       "    <tr>\n",
       "      <td>9</td>\n",
       "      <td>0</td>\n",
       "      <td>-2188.756445</td>\n",
       "      <td>41</td>\n",
       "      <td>secondary education</td>\n",
       "      <td>1</td>\n",
       "      <td>married</td>\n",
       "      <td>0</td>\n",
       "      <td>M</td>\n",
       "      <td>employee</td>\n",
       "      <td>0</td>\n",
       "      <td>23108.150</td>\n",
       "      <td>purchase of the house for my family</td>\n",
       "    </tr>\n",
       "  </tbody>\n",
       "</table>\n",
       "</div>"
      ],
      "text/plain": [
       "   children  days_employed  dob_years            education  education_id  \\\n",
       "0         1   -8437.673028         42    bachelor's degree             0   \n",
       "1         1   -4024.803754         36  secondary education             1   \n",
       "2         0   -5623.422610         33  Secondary Education             1   \n",
       "3         3   -4124.747207         32  secondary education             1   \n",
       "4         0  340266.072047         53  secondary education             1   \n",
       "5         0    -926.185831         27    bachelor's degree             0   \n",
       "6         0   -2879.202052         43    bachelor's degree             0   \n",
       "7         0    -152.779569         50  SECONDARY EDUCATION             1   \n",
       "8         2   -6929.865299         35    BACHELOR'S DEGREE             0   \n",
       "9         0   -2188.756445         41  secondary education             1   \n",
       "\n",
       "       family_status  family_status_id gender income_type  debt  total_income  \\\n",
       "0            married                 0      F    employee     0     40620.102   \n",
       "1            married                 0      F    employee     0     17932.802   \n",
       "2            married                 0      M    employee     0     23341.752   \n",
       "3            married                 0      M    employee     0     42820.568   \n",
       "4  civil partnership                 1      F     retiree     0     25378.572   \n",
       "5  civil partnership                 1      M    business     0     40922.170   \n",
       "6            married                 0      F    business     0     38484.156   \n",
       "7            married                 0      M    employee     0     21731.829   \n",
       "8  civil partnership                 1      F    employee     0     15337.093   \n",
       "9            married                 0      M    employee     0     23108.150   \n",
       "\n",
       "                               purpose  \n",
       "0                purchase of the house  \n",
       "1                         car purchase  \n",
       "2                purchase of the house  \n",
       "3              supplementary education  \n",
       "4                    to have a wedding  \n",
       "5                purchase of the house  \n",
       "6                 housing transactions  \n",
       "7                            education  \n",
       "8                     having a wedding  \n",
       "9  purchase of the house for my family  "
      ]
     },
     "execution_count": 374,
     "metadata": {},
     "output_type": "execute_result"
    }
   ],
   "source": [
    "loan_data.head(10) # Prints the first 10 rows"
   ]
  },
  {
   "cell_type": "markdown",
   "metadata": {},
   "source": [
    "**Observations**:\n",
    "\n",
    "The following are initial observations that need to be further investigated:\n",
    "* Days_employed column has negative numbers\n",
    "* Age seems to concentrated around 30s and 40s\n",
    "* Education column has inconsistent use of lower and capital letters\n",
    "* Purpose column has inconsistent language across similar categories \n",
    "* Do not see any missing values in this initial snapshot, but needs further analysis"
   ]
  },
  {
   "cell_type": "markdown",
   "metadata": {},
   "source": [
    "<div class=\"alert alert-success\">\n",
    "<b>Reviewer's comment v1</b> Correct"
   ]
  },
  {
   "cell_type": "code",
   "execution_count": 375,
   "metadata": {
    "scrolled": true
   },
   "outputs": [
    {
     "name": "stdout",
     "output_type": "stream",
     "text": [
      "<class 'pandas.core.frame.DataFrame'>\n",
      "RangeIndex: 21525 entries, 0 to 21524\n",
      "Data columns (total 12 columns):\n",
      "children            21525 non-null int64\n",
      "days_employed       19351 non-null float64\n",
      "dob_years           21525 non-null int64\n",
      "education           21525 non-null object\n",
      "education_id        21525 non-null int64\n",
      "family_status       21525 non-null object\n",
      "family_status_id    21525 non-null int64\n",
      "gender              21525 non-null object\n",
      "income_type         21525 non-null object\n",
      "debt                21525 non-null int64\n",
      "total_income        19351 non-null float64\n",
      "purpose             21525 non-null object\n",
      "dtypes: float64(2), int64(5), object(5)\n",
      "memory usage: 2.0+ MB\n"
     ]
    },
    {
     "data": {
      "text/plain": [
       "children             0.000000\n",
       "days_employed       10.099884\n",
       "dob_years            0.000000\n",
       "education            0.000000\n",
       "education_id         0.000000\n",
       "family_status        0.000000\n",
       "family_status_id     0.000000\n",
       "gender               0.000000\n",
       "income_type          0.000000\n",
       "debt                 0.000000\n",
       "total_income        10.099884\n",
       "purpose              0.000000\n",
       "dtype: float64"
      ]
     },
     "execution_count": 375,
     "metadata": {},
     "output_type": "execute_result"
    }
   ],
   "source": [
    "loan_data.info() # Gets general info on data\n",
    "\n",
    "loan_data.isna().sum() # Looks at number of missing values in each column\n",
    "\n",
    "loan_data.isna().sum()/len(loan_data) * 100 # Looks at percentage of missing values compared to the whole dataset "
   ]
  },
  {
   "cell_type": "markdown",
   "metadata": {},
   "source": [
    "**Observations**:\n",
    "\n",
    "The 'days_employed\" and \"total_income\" columns have missing values. They contain the same number of missing values (2174), which make up 10% of the total data. "
   ]
  },
  {
   "cell_type": "code",
   "execution_count": 376,
   "metadata": {
    "scrolled": true
   },
   "outputs": [
    {
     "data": {
      "text/plain": [
       "2174"
      ]
     },
     "execution_count": 376,
     "metadata": {},
     "output_type": "execute_result"
    }
   ],
   "source": [
    "loan_data.loc[loan_data['days_employed'].isna()]# Looks at a filtered table with missing values in the 'days_employed' column\n",
    "\n",
    "loan_data.loc[loan_data['total_income'].isna()] # Looks at filtered table with missing values in the total_income column to compare to the table above. \n",
    " \n",
    "loan_data['days_employed'].isna().sum() # Looks at the total number of null values in the column\n",
    "\n",
    "loan_data['total_income'].isna().sum() # Looks at the total number of null values in the column\n"
   ]
  },
  {
   "cell_type": "markdown",
   "metadata": {},
   "source": [
    "**Observations:**\n",
    "\n",
    "The 'days_employed' and the 'total_income' columns have the same number of missing datapoints, which may mean that rows with missing days of employment are also missing income. We will need to further investigate to confirm that this is true.   \n"
   ]
  },
  {
   "cell_type": "code",
   "execution_count": 377,
   "metadata": {},
   "outputs": [
    {
     "data": {
      "text/plain": [
       "(2174, 12)"
      ]
     },
     "execution_count": 377,
     "metadata": {},
     "output_type": "execute_result"
    }
   ],
   "source": [
    "# Let's apply multiple conditions for filtering data and look at the number of rows in the filtered table.\n",
    "\n",
    "table_filtered = loan_data.loc[loan_data['total_income'].isna() & loan_data['total_income'].isna()] # Creates a filtered table that contains only the rows where 'total_income' and 'days_employed' have null values\n",
    "\n",
    "table_filtered.shape # Checks number of rows and columns in the filtered table"
   ]
  },
  {
   "cell_type": "markdown",
   "metadata": {},
   "source": [
    "**Intermediate conclusion**\n",
    "\n",
    "* The number of rows in the filtered table equals the number of missing values in each column.\n",
    "* All rows that have a missing value in days_employed also have a missing value in total_income and vice versa.\n",
    "\n",
    "Per my calculations above, the missing values account for about 10% of the dataset. As a next step, I will look at the filtered table and analyze whether the null values are random or if they coorelate with other categories. "
   ]
  },
  {
   "cell_type": "markdown",
   "metadata": {},
   "source": [
    "<div class=\"alert alert-success\">\n",
    "<b>Reviewer's comment v1</b> Well done"
   ]
  },
  {
   "cell_type": "code",
   "execution_count": 378,
   "metadata": {},
   "outputs": [
    {
     "data": {
      "text/html": [
       "<div>\n",
       "<style scoped>\n",
       "    .dataframe tbody tr th:only-of-type {\n",
       "        vertical-align: middle;\n",
       "    }\n",
       "\n",
       "    .dataframe tbody tr th {\n",
       "        vertical-align: top;\n",
       "    }\n",
       "\n",
       "    .dataframe thead th {\n",
       "        text-align: right;\n",
       "    }\n",
       "</style>\n",
       "<table border=\"1\" class=\"dataframe\">\n",
       "  <thead>\n",
       "    <tr style=\"text-align: right;\">\n",
       "      <th></th>\n",
       "      <th>children</th>\n",
       "      <th>days_employed</th>\n",
       "      <th>dob_years</th>\n",
       "      <th>education</th>\n",
       "      <th>education_id</th>\n",
       "      <th>family_status</th>\n",
       "      <th>family_status_id</th>\n",
       "      <th>gender</th>\n",
       "      <th>income_type</th>\n",
       "      <th>debt</th>\n",
       "      <th>total_income</th>\n",
       "      <th>purpose</th>\n",
       "    </tr>\n",
       "  </thead>\n",
       "  <tbody>\n",
       "    <tr>\n",
       "      <td>12</td>\n",
       "      <td>0</td>\n",
       "      <td>NaN</td>\n",
       "      <td>65</td>\n",
       "      <td>secondary education</td>\n",
       "      <td>1</td>\n",
       "      <td>civil partnership</td>\n",
       "      <td>1</td>\n",
       "      <td>M</td>\n",
       "      <td>retiree</td>\n",
       "      <td>0</td>\n",
       "      <td>NaN</td>\n",
       "      <td>to have a wedding</td>\n",
       "    </tr>\n",
       "    <tr>\n",
       "      <td>26</td>\n",
       "      <td>0</td>\n",
       "      <td>NaN</td>\n",
       "      <td>41</td>\n",
       "      <td>secondary education</td>\n",
       "      <td>1</td>\n",
       "      <td>married</td>\n",
       "      <td>0</td>\n",
       "      <td>M</td>\n",
       "      <td>civil servant</td>\n",
       "      <td>0</td>\n",
       "      <td>NaN</td>\n",
       "      <td>education</td>\n",
       "    </tr>\n",
       "    <tr>\n",
       "      <td>29</td>\n",
       "      <td>0</td>\n",
       "      <td>NaN</td>\n",
       "      <td>63</td>\n",
       "      <td>secondary education</td>\n",
       "      <td>1</td>\n",
       "      <td>unmarried</td>\n",
       "      <td>4</td>\n",
       "      <td>F</td>\n",
       "      <td>retiree</td>\n",
       "      <td>0</td>\n",
       "      <td>NaN</td>\n",
       "      <td>building a real estate</td>\n",
       "    </tr>\n",
       "    <tr>\n",
       "      <td>41</td>\n",
       "      <td>0</td>\n",
       "      <td>NaN</td>\n",
       "      <td>50</td>\n",
       "      <td>secondary education</td>\n",
       "      <td>1</td>\n",
       "      <td>married</td>\n",
       "      <td>0</td>\n",
       "      <td>F</td>\n",
       "      <td>civil servant</td>\n",
       "      <td>0</td>\n",
       "      <td>NaN</td>\n",
       "      <td>second-hand car purchase</td>\n",
       "    </tr>\n",
       "    <tr>\n",
       "      <td>55</td>\n",
       "      <td>0</td>\n",
       "      <td>NaN</td>\n",
       "      <td>54</td>\n",
       "      <td>secondary education</td>\n",
       "      <td>1</td>\n",
       "      <td>civil partnership</td>\n",
       "      <td>1</td>\n",
       "      <td>F</td>\n",
       "      <td>retiree</td>\n",
       "      <td>1</td>\n",
       "      <td>NaN</td>\n",
       "      <td>to have a wedding</td>\n",
       "    </tr>\n",
       "    <tr>\n",
       "      <td>...</td>\n",
       "      <td>...</td>\n",
       "      <td>...</td>\n",
       "      <td>...</td>\n",
       "      <td>...</td>\n",
       "      <td>...</td>\n",
       "      <td>...</td>\n",
       "      <td>...</td>\n",
       "      <td>...</td>\n",
       "      <td>...</td>\n",
       "      <td>...</td>\n",
       "      <td>...</td>\n",
       "      <td>...</td>\n",
       "    </tr>\n",
       "    <tr>\n",
       "      <td>21489</td>\n",
       "      <td>2</td>\n",
       "      <td>NaN</td>\n",
       "      <td>47</td>\n",
       "      <td>Secondary Education</td>\n",
       "      <td>1</td>\n",
       "      <td>married</td>\n",
       "      <td>0</td>\n",
       "      <td>M</td>\n",
       "      <td>business</td>\n",
       "      <td>0</td>\n",
       "      <td>NaN</td>\n",
       "      <td>purchase of a car</td>\n",
       "    </tr>\n",
       "    <tr>\n",
       "      <td>21495</td>\n",
       "      <td>1</td>\n",
       "      <td>NaN</td>\n",
       "      <td>50</td>\n",
       "      <td>secondary education</td>\n",
       "      <td>1</td>\n",
       "      <td>civil partnership</td>\n",
       "      <td>1</td>\n",
       "      <td>F</td>\n",
       "      <td>employee</td>\n",
       "      <td>0</td>\n",
       "      <td>NaN</td>\n",
       "      <td>wedding ceremony</td>\n",
       "    </tr>\n",
       "    <tr>\n",
       "      <td>21497</td>\n",
       "      <td>0</td>\n",
       "      <td>NaN</td>\n",
       "      <td>48</td>\n",
       "      <td>BACHELOR'S DEGREE</td>\n",
       "      <td>0</td>\n",
       "      <td>married</td>\n",
       "      <td>0</td>\n",
       "      <td>F</td>\n",
       "      <td>business</td>\n",
       "      <td>0</td>\n",
       "      <td>NaN</td>\n",
       "      <td>building a property</td>\n",
       "    </tr>\n",
       "    <tr>\n",
       "      <td>21502</td>\n",
       "      <td>1</td>\n",
       "      <td>NaN</td>\n",
       "      <td>42</td>\n",
       "      <td>secondary education</td>\n",
       "      <td>1</td>\n",
       "      <td>married</td>\n",
       "      <td>0</td>\n",
       "      <td>F</td>\n",
       "      <td>employee</td>\n",
       "      <td>0</td>\n",
       "      <td>NaN</td>\n",
       "      <td>building a real estate</td>\n",
       "    </tr>\n",
       "    <tr>\n",
       "      <td>21510</td>\n",
       "      <td>2</td>\n",
       "      <td>NaN</td>\n",
       "      <td>28</td>\n",
       "      <td>secondary education</td>\n",
       "      <td>1</td>\n",
       "      <td>married</td>\n",
       "      <td>0</td>\n",
       "      <td>F</td>\n",
       "      <td>employee</td>\n",
       "      <td>0</td>\n",
       "      <td>NaN</td>\n",
       "      <td>car purchase</td>\n",
       "    </tr>\n",
       "  </tbody>\n",
       "</table>\n",
       "<p>2174 rows × 12 columns</p>\n",
       "</div>"
      ],
      "text/plain": [
       "       children  days_employed  dob_years            education  education_id  \\\n",
       "12            0            NaN         65  secondary education             1   \n",
       "26            0            NaN         41  secondary education             1   \n",
       "29            0            NaN         63  secondary education             1   \n",
       "41            0            NaN         50  secondary education             1   \n",
       "55            0            NaN         54  secondary education             1   \n",
       "...         ...            ...        ...                  ...           ...   \n",
       "21489         2            NaN         47  Secondary Education             1   \n",
       "21495         1            NaN         50  secondary education             1   \n",
       "21497         0            NaN         48    BACHELOR'S DEGREE             0   \n",
       "21502         1            NaN         42  secondary education             1   \n",
       "21510         2            NaN         28  secondary education             1   \n",
       "\n",
       "           family_status  family_status_id gender    income_type  debt  \\\n",
       "12     civil partnership                 1      M        retiree     0   \n",
       "26               married                 0      M  civil servant     0   \n",
       "29             unmarried                 4      F        retiree     0   \n",
       "41               married                 0      F  civil servant     0   \n",
       "55     civil partnership                 1      F        retiree     1   \n",
       "...                  ...               ...    ...            ...   ...   \n",
       "21489            married                 0      M       business     0   \n",
       "21495  civil partnership                 1      F       employee     0   \n",
       "21497            married                 0      F       business     0   \n",
       "21502            married                 0      F       employee     0   \n",
       "21510            married                 0      F       employee     0   \n",
       "\n",
       "       total_income                   purpose  \n",
       "12              NaN         to have a wedding  \n",
       "26              NaN                 education  \n",
       "29              NaN    building a real estate  \n",
       "41              NaN  second-hand car purchase  \n",
       "55              NaN         to have a wedding  \n",
       "...             ...                       ...  \n",
       "21489           NaN         purchase of a car  \n",
       "21495           NaN          wedding ceremony  \n",
       "21497           NaN       building a property  \n",
       "21502           NaN    building a real estate  \n",
       "21510           NaN              car purchase  \n",
       "\n",
       "[2174 rows x 12 columns]"
      ]
     },
     "execution_count": 378,
     "metadata": {},
     "output_type": "execute_result"
    }
   ],
   "source": [
    "table_filtered # Calls this filtered table to look at client characteristics only for rows with missing data. "
   ]
  },
  {
   "cell_type": "markdown",
   "metadata": {},
   "source": [
    "**Observations:**\n",
    "\n",
    "In this initial view (needs further analysis):\n",
    "* Most of the clients do not have children. \n",
    "* Clients skew older (50s and 60s)\n",
    "* Most have a secondary education\n",
    "* There are no observable differences in family_status, gender, income_type or purpose. \n",
    "* Most did not have debt on loan repayment.\n",
    "\n"
   ]
  },
  {
   "cell_type": "code",
   "execution_count": 379,
   "metadata": {},
   "outputs": [
    {
     "data": {
      "text/plain": [
       "purpose\n",
       "building a property                         2.713891\n",
       "building a real estate                      2.115915\n",
       "buy commercial real estate                  3.081877\n",
       "buy real estate                             3.311868\n",
       "buy residential real estate                 2.805888\n",
       "buying a second-hand car                    1.931923\n",
       "buying my own car                           2.437902\n",
       "buying property for renting out             2.989880\n",
       "car                                         1.885925\n",
       "car purchase                                1.977921\n",
       "cars                                        2.621895\n",
       "construction of own property                3.449862\n",
       "education                                   1.931923\n",
       "getting an education                        2.299908\n",
       "getting higher education                    1.655934\n",
       "going to university                         2.575897\n",
       "having a wedding                            4.231831\n",
       "housing                                     2.759890\n",
       "housing renovation                          3.219871\n",
       "housing transactions                        3.403864\n",
       "profile education                           2.161914\n",
       "property                                    2.851886\n",
       "purchase of a car                           2.115915\n",
       "purchase of my own house                    2.115915\n",
       "purchase of the house                       2.391904\n",
       "purchase of the house for my family         3.265869\n",
       "real estate transactions                    2.805888\n",
       "second-hand car purchase                    2.483901\n",
       "supplementary education                     2.207912\n",
       "to become educated                          2.529899\n",
       "to buy a car                                1.379945\n",
       "to get a supplementary education            2.345906\n",
       "to have a wedding                           3.725851\n",
       "to own a car                                2.391904\n",
       "transactions with commercial real estate    3.219871\n",
       "transactions with my real estate            3.265869\n",
       "university education                        1.839926\n",
       "wedding ceremony                            3.495860\n",
       "Name: education, dtype: float64"
      ]
     },
     "execution_count": 379,
     "metadata": {},
     "output_type": "execute_result"
    }
   ],
   "source": [
    "# Checking distribution\n",
    "\n",
    "def distrib(col): # Defines a function to look at distribution across different columns.\n",
    "    column2 = table_filtered[col]\n",
    "    return table_filtered.groupby(column2)['education'].count() / len(table_filtered) * 100 \n",
    "\n",
    "distrib('children') # Looks at distribution of missing values across number of children\n",
    "\n",
    "distrib('dob_years') # Looks at distribution of missing values across age\n",
    "\n",
    "distrib('education_id') #  Looks at distribution of missing values across type of education. Used education_id due to duplicates in the education column.\n",
    "\n",
    "distrib('family_status_id') # Looks at distribution of missing values across family status. Used family_status_id due to duplicates in the family status column.\n",
    "\n",
    "distrib('gender') # Looks at distribution of missing values across gender\n",
    "\n",
    "distrib('income_type') # Looks at distribution of missing values across income type\n",
    "\n",
    "distrib('debt') # Looks at distribution of missing values across debt\n",
    "\n",
    "distrib('purpose') # Looks at distribution of missing values across purpose\n",
    "\n"
   ]
  },
  {
   "cell_type": "markdown",
   "metadata": {},
   "source": [
    "**Observations:**\n",
    "\n",
    "* Clients without any children are more likely to have missing days employed/income: 66% of the clients with missing days employed/income had 0 children.\n",
    "* Missing values are fairly evenly distributed across age, although slightly more concentrated in mid-20s to mid-60s. \n",
    "* Clients with secondary education are most likely to have missing values in days employed/income (70%) followed by those with a bachelor's degree(25%). \n",
    "* Clients who are married are most likely to have missing days employed/income (57%), followed up those in a civil partnershop (20%).\n",
    "* Female clients are more likely to have missing data (68%)\n",
    "* Employees are more likely to have missing data (51%), followed by business (23%) as income type and then retiree (19%)\n",
    "* Clients with missing values were much more likely to have no debt on loan repayment (92%).\n",
    "* There did not seem to be a relationship between loan purpose and missing values.\n",
    "\n",
    "**Possible reasons for missing values in data:**\n",
    "* My hypothesis is that the missing values are distributed throughout the original dataframe at random, meaning that the same characteristics observed above will be also be reflected in the entire dataset. \n",
    "\n"
   ]
  },
  {
   "cell_type": "code",
   "execution_count": 380,
   "metadata": {},
   "outputs": [
    {
     "data": {
      "text/plain": [
       "purpose\n",
       "building a property                         2.880372\n",
       "building a real estate                      2.908246\n",
       "buy commercial real estate                  3.084785\n",
       "buy real estate                             2.898955\n",
       "buy residential real estate                 2.819977\n",
       "buying a second-hand car                    2.225319\n",
       "buying my own car                           2.346109\n",
       "buying property for renting out             3.033682\n",
       "car                                         2.299652\n",
       "car purchase                                2.146341\n",
       "cars                                        2.220674\n",
       "construction of own property                2.950058\n",
       "education                                   2.076655\n",
       "getting an education                        2.058072\n",
       "getting higher education                    1.979094\n",
       "going to university                         2.304297\n",
       "having a wedding                            3.609756\n",
       "housing                                     3.005807\n",
       "housing renovation                          2.843206\n",
       "housing transactions                        3.033682\n",
       "profile education                           2.025552\n",
       "property                                    2.945412\n",
       "purchase of a car                           2.113821\n",
       "purchase of my own house                    2.880372\n",
       "purchase of the house                       3.005807\n",
       "purchase of the house for my family         2.977933\n",
       "real estate transactions                    3.140534\n",
       "second-hand car purchase                    2.271777\n",
       "supplementary education                     2.146341\n",
       "to become educated                          1.914053\n",
       "to buy a car                                2.192799\n",
       "to get a supplementary education            2.076655\n",
       "to have a wedding                           3.595819\n",
       "to own a car                                2.229965\n",
       "transactions with commercial real estate    3.024390\n",
       "transactions with my real estate            2.926829\n",
       "university education                        2.104530\n",
       "wedding ceremony                            3.702671\n",
       "Name: education, dtype: float64"
      ]
     },
     "execution_count": 380,
     "metadata": {},
     "output_type": "execute_result"
    }
   ],
   "source": [
    "# Checking the distribution in the whole dataset\n",
    "\n",
    "def distrib(col): # Defines a function to look at distribution across different columns.\n",
    "    column2 = loan_data[col]\n",
    "    return loan_data.groupby(column2)['education'].count() / len(loan_data) * 100 \n",
    "\n",
    "distrib('children') # Looks at distribution across number of children\n",
    "\n",
    "distrib('dob_years') # Looks at distribution  across age\n",
    "\n",
    "distrib('education_id') #  Looks at distribution across type of education. Used education_id due to duplicates in the education column.\n",
    "\n",
    "distrib('family_status_id') # Looks at distribution across family status. Used family_status_id due to duplicates in the family status column.\n",
    "\n",
    "distrib('gender') # Looks at distribution across gender\n",
    "\n",
    "distrib('income_type') # Looks at distribution across income type\n",
    "\n",
    "distrib('debt') # Looks at distribution across debt\n",
    "\n",
    "distrib('purpose') # Looks at distribution across purpose"
   ]
  },
  {
   "cell_type": "markdown",
   "metadata": {},
   "source": [
    "**Conclusions**\n",
    "\n",
    "The distribution of factors (ex. number of children, age, employment status, etc.) within the filtered table that represents only rows with missing values, is similar to the larger dataset. This means that my earlier hypothesis was correct, and that the missing values are likely randomly distributed throughout the data. \n",
    "\n",
    "Based on the analysis above, we can determine that the missing values are distributed throughout the dataset at random. I did not find any patterns that were unique to the rows with missing values, compared to the larger table. I looked at the distribution of missing values across all of the client characteristics (ex. number of children, age, employment status, etc.) and found that the distribution was similar in the overall dataset compared to only the rows with missing values. Therefore, I concluded at the missing values are present at random throughout the table. \n",
    "\n",
    "Both of the columns that have missing data are represented by numbers (float type). Therefore I will take the following steps to fill in the missing values:\n",
    "* Look at the relationship between days employed and total income with other categories - ex. age, family status and education. \n",
    "* Based on this analysis, I will calculate the mean (if there are not extreme outliers) or median of days employed/total income according to the selected category, and replace the missing value with that number. \n",
    "\n",
    "In addition to the missing values, I plan to address the following issues: \n",
    "* Columns that contain negative numbers (ex. The number of children and days_employed columns)\n",
    "* The inconsistent use of lower and capital letters (ex. The education column)\n",
    "* Inconsistent language/dulplicates across similar categories (ex. The purpose column)"
   ]
  },
  {
   "cell_type": "markdown",
   "metadata": {},
   "source": [
    "<div class=\"alert alert-success\">\n",
    "<b>Reviewer's comment v1</b> We could report bank about the problem and ask it for meta data for further investigation"
   ]
  },
  {
   "cell_type": "markdown",
   "metadata": {},
   "source": [
    "## Data transformation"
   ]
  },
  {
   "cell_type": "markdown",
   "metadata": {},
   "source": [
    "**Fixing the duplicate values in the education column**"
   ]
  },
  {
   "cell_type": "code",
   "execution_count": 381,
   "metadata": {},
   "outputs": [
    {
     "data": {
      "text/plain": [
       "array([\"BACHELOR'S DEGREE\", \"Bachelor's Degree\", 'GRADUATE DEGREE',\n",
       "       'Graduate Degree', 'PRIMARY EDUCATION', 'Primary Education',\n",
       "       'SECONDARY EDUCATION', 'SOME COLLEGE', 'Secondary Education',\n",
       "       'Some College', \"bachelor's degree\", 'graduate degree',\n",
       "       'primary education', 'secondary education', 'some college'],\n",
       "      dtype=object)"
      ]
     },
     "execution_count": 381,
     "metadata": {},
     "output_type": "execute_result"
    }
   ],
   "source": [
    "loan_data['education'].sort_values().unique() # Checks for unique values in the education column, sorted alphabetically so that it's easier to read\n"
   ]
  },
  {
   "cell_type": "code",
   "execution_count": 382,
   "metadata": {
    "scrolled": true
   },
   "outputs": [],
   "source": [
    "loan_data['education'] = loan_data['education'].str.lower() # Changes all of the letters to lowercase so that the column can be de-duplicated"
   ]
  },
  {
   "cell_type": "markdown",
   "metadata": {},
   "source": [
    "<div class=\"alert alert-success\">\n",
    "<b>Reviewer's comment v1</b> Great! We have dealed with duplicates"
   ]
  },
  {
   "cell_type": "code",
   "execution_count": 383,
   "metadata": {},
   "outputs": [
    {
     "data": {
      "text/plain": [
       "array([\"bachelor's degree\", 'graduate degree', 'primary education',\n",
       "       'secondary education', 'some college'], dtype=object)"
      ]
     },
     "execution_count": 383,
     "metadata": {},
     "output_type": "execute_result"
    }
   ],
   "source": [
    "loan_data['education'].sort_values().unique() # Checks to make sure the unique values are reflecting the change to all lowercase letters"
   ]
  },
  {
   "cell_type": "markdown",
   "metadata": {},
   "source": [
    "**Fixing the values in the children column**"
   ]
  },
  {
   "cell_type": "code",
   "execution_count": 384,
   "metadata": {},
   "outputs": [
    {
     "data": {
      "text/plain": [
       "children\n",
       "-1      0.218351\n",
       " 0     65.732869\n",
       " 1     22.383275\n",
       " 2      9.547038\n",
       " 3      1.533101\n",
       " 4      0.190476\n",
       " 5      0.041812\n",
       " 20     0.353078\n",
       "Name: education, dtype: float64"
      ]
     },
     "execution_count": 384,
     "metadata": {},
     "output_type": "execute_result"
    }
   ],
   "source": [
    "loan_data.groupby('children')['education'].count() # Looks at distribution of values across children's ages\n",
    "\n",
    "loan_data.groupby('children')['education'].count() / len(loan_data) * 100 # Looks at distribution of values by percentage across children's ages"
   ]
  },
  {
   "cell_type": "markdown",
   "metadata": {},
   "source": [
    "**Observations**\n",
    "\n",
    "* 47 rows have a negative number for the number of children which isn't possible.\n",
    "* This only represents .2% of the data. \n",
    "* This mistake is most likely due to entry error. It could be that these families are supposed to have 0 children, or it could be families with 1 child that accidentally got coded as a negative number. Since there is no way for us to know, and because these data represent such a small percentage of the overall dataset and will not impact our overall analysis, I will choose to drop these rows. "
   ]
  },
  {
   "cell_type": "markdown",
   "metadata": {},
   "source": [
    "<div class=\"alert alert-success\">\n",
    "<b>Reviewer's comment v1</b> Great that you have found that abnormal value! Now the proportion of anomalies is small and it will not affect anything"
   ]
  },
  {
   "cell_type": "code",
   "execution_count": 385,
   "metadata": {},
   "outputs": [],
   "source": [
    "children_neg = loan_data.loc[loan_data['children'] == -1].index\n",
    "                             \n",
    "loan_data.drop(children_neg, inplace=True) # Drops the rows where the number of children is -1"
   ]
  },
  {
   "cell_type": "code",
   "execution_count": 386,
   "metadata": {},
   "outputs": [
    {
     "data": {
      "text/plain": [
       "children\n",
       "0     65.876711\n",
       "1     22.432256\n",
       "2      9.567930\n",
       "3      1.536456\n",
       "4      0.190893\n",
       "5      0.041903\n",
       "20     0.353850\n",
       "Name: education, dtype: float64"
      ]
     },
     "execution_count": 386,
     "metadata": {},
     "output_type": "execute_result"
    }
   ],
   "source": [
    "loan_data.groupby('children')['education'].count() # Checks the distribution of values across children's ages to make sure we removed -1\n",
    "\n",
    "loan_data.groupby('children')['education'].count() / len(loan_data) * 100 # Looks at distribution of values by percentage across children's ages. This also shows me that the percentage of clients with no children did not change signficantly."
   ]
  },
  {
   "cell_type": "markdown",
   "metadata": {},
   "source": [
    "**Fixing the values in the days_employed column**\n",
    "\n",
    "I saw previously that this column has negative numbers. This could again be entry error and could negatively impact analysis. "
   ]
  },
  {
   "cell_type": "code",
   "execution_count": 387,
   "metadata": {},
   "outputs": [
    {
     "data": {
      "text/plain": [
       "73.884905484682"
      ]
     },
     "execution_count": 387,
     "metadata": {},
     "output_type": "execute_result"
    }
   ],
   "source": [
    "loan_data.loc[loan_data['days_employed'] < 0].shape # Locates all of the rows for which days_employed is a negative number, and returns the number of rows/columns. This tells us that there are 15,906 instances of a negative number.\n",
    "\n",
    "loan_data.loc[loan_data['days_employed'] < 0]['children'].count() / len(loan_data) * 100 # Looks at percentage of rows that have a negative number for days_employed."
   ]
  },
  {
   "cell_type": "markdown",
   "metadata": {},
   "source": [
    "**Observations**\n",
    "\n",
    "* 74% of rows have a negative number for days employed, which is too high to drop from the table. \n",
    "* Due to the large amount of data this impacts, I will assume that these numbers were incorretly entered as negative and change them from a negative to a positive number so that I can use them in the analysis."
   ]
  },
  {
   "cell_type": "code",
   "execution_count": 388,
   "metadata": {},
   "outputs": [],
   "source": [
    "loan_data['days_employed'] = loan_data['days_employed'].abs() # Changes all of the numbers in the column to positive numbers. \n"
   ]
  },
  {
   "cell_type": "code",
   "execution_count": 389,
   "metadata": {},
   "outputs": [
    {
     "data": {
      "text/plain": [
       "24.14163324048118"
      ]
     },
     "execution_count": 389,
     "metadata": {},
     "output_type": "execute_result"
    }
   ],
   "source": [
    "loan_data['days_employed'].sort_values() # Checks values, sorted from low to high, which shows us that there are no negative numbers.\n",
    "\n",
    "loan_data['days_employed'].min() # Checks the minimum number in the 'days_employed' column to make sure that it's not a negative number."
   ]
  },
  {
   "cell_type": "markdown",
   "metadata": {},
   "source": [
    "**Fixing the data in the age (dob_years) column**"
   ]
  },
  {
   "cell_type": "code",
   "execution_count": 390,
   "metadata": {
    "scrolled": true
   },
   "outputs": [
    {
     "data": {
      "text/plain": [
       "0.4702486265015364"
      ]
     },
     "execution_count": 390,
     "metadata": {},
     "output_type": "execute_result"
    }
   ],
   "source": [
    "loan_data['dob_years'].sort_values().unique() # Looks at the unique values in 'dob_years', sorted from low to high.\n",
    "\n",
    "loan_data.groupby('dob_years')['education'].count() # Looks at count of rows per age specified under \"'dob_years'\n",
    "\n",
    "loan_data.groupby('dob_years')['education'].count() /len(loan_data) * 100  # Looks at percentage of rows per age specified under 'dob_years'\n",
    "\n",
    "loan_data.loc[loan_data['dob_years'] == 0]['children'].count() / len(loan_data) * 100  # Double checks the numbers above, this looks at percentage of rows where the 'dob_years' = 0\n"
   ]
  },
  {
   "cell_type": "markdown",
   "metadata": {},
   "source": [
    "**Observations**\n",
    "\n",
    "* One of the ages specified is 0 which does not make sense. \n",
    "* From the analysis above we know that rows with the age 0 under 'dob_years' make up only .5% of total rows in the database.\n",
    "* Due to the small percentage of rows that this makes up, I would choose to drop these rows since it will not impact the overall analysis. "
   ]
  },
  {
   "cell_type": "markdown",
   "metadata": {},
   "source": [
    "<div class=\"alert alert-success\">\n",
    "<b>Reviewer's comment v1</b> Well done"
   ]
  },
  {
   "cell_type": "code",
   "execution_count": 391,
   "metadata": {},
   "outputs": [],
   "source": [
    "drop_age = loan_data.loc[loan_data['dob_years'] == 0].index # Identifies the rows where age = 0\n",
    "                             \n",
    "loan_data.drop(drop_age, inplace=True) # Drops rows where the age = 0 "
   ]
  },
  {
   "cell_type": "code",
   "execution_count": 392,
   "metadata": {},
   "outputs": [
    {
     "data": {
      "text/plain": [
       "dob_years\n",
       "19     14\n",
       "20     51\n",
       "21    111\n",
       "22    183\n",
       "23    253\n",
       "24    264\n",
       "25    357\n",
       "26    407\n",
       "27    492\n",
       "28    501\n",
       "29    545\n",
       "30    539\n",
       "31    558\n",
       "32    508\n",
       "33    579\n",
       "34    600\n",
       "35    616\n",
       "36    555\n",
       "37    535\n",
       "38    596\n",
       "39    573\n",
       "40    607\n",
       "41    605\n",
       "42    595\n",
       "43    512\n",
       "44    545\n",
       "45    497\n",
       "46    472\n",
       "47    480\n",
       "48    537\n",
       "49    508\n",
       "50    512\n",
       "51    447\n",
       "52    484\n",
       "53    458\n",
       "54    477\n",
       "55    442\n",
       "56    487\n",
       "57    458\n",
       "58    461\n",
       "59    443\n",
       "60    377\n",
       "61    354\n",
       "62    352\n",
       "63    268\n",
       "64    264\n",
       "65    194\n",
       "66    183\n",
       "67    167\n",
       "68     99\n",
       "69     84\n",
       "70     65\n",
       "71     58\n",
       "72     33\n",
       "73      8\n",
       "74      6\n",
       "75      1\n",
       "Name: education, dtype: int64"
      ]
     },
     "execution_count": 392,
     "metadata": {},
     "output_type": "execute_result"
    }
   ],
   "source": [
    "loan_data.groupby('dob_years')['education'].count() # Checks to make sure 0 has been dropped from the data. "
   ]
  },
  {
   "cell_type": "markdown",
   "metadata": {},
   "source": [
    "**Examining the data in the family status column**"
   ]
  },
  {
   "cell_type": "code",
   "execution_count": 393,
   "metadata": {},
   "outputs": [
    {
     "data": {
      "text/plain": [
       "family_status\n",
       "civil partnership    19.418066\n",
       "divorced              5.524629\n",
       "married              57.547832\n",
       "unmarried            13.060766\n",
       "widow / widower       4.448707\n",
       "Name: education, dtype: float64"
      ]
     },
     "execution_count": 393,
     "metadata": {},
     "output_type": "execute_result"
    }
   ],
   "source": [
    "loan_data['family_status'].sort_values().unique() # Looks at the unique values, sorted alphabetically\n",
    "\n",
    "loan_data.groupby('family_status')['education'].count() /len(loan_data) * 100  # Looks at percentage of rows per category specified under 'family_status', just to get a snapshot of the different categories\n"
   ]
  },
  {
   "cell_type": "markdown",
   "metadata": {},
   "source": [
    "**Observations:**\n",
    "* I do not see any obvious problems - no duplicate categories and no syntax issues.\n",
    "* You could argue that the civil partnership and marriage represent a similar category around long-term partnership and could be combined. Since the bank collected these categories separately I will assume that they want to see the analysis for each category, and will leave them separate. "
   ]
  },
  {
   "cell_type": "markdown",
   "metadata": {},
   "source": [
    "**Examining the data in the gender column**"
   ]
  },
  {
   "cell_type": "code",
   "execution_count": 394,
   "metadata": {},
   "outputs": [
    {
     "data": {
      "text/plain": [
       "gender\n",
       "F      66.094401\n",
       "M      33.900922\n",
       "XNA     0.004678\n",
       "Name: education, dtype: float64"
      ]
     },
     "execution_count": 394,
     "metadata": {},
     "output_type": "execute_result"
    }
   ],
   "source": [
    "loan_data['gender'].sort_values().unique() # Looks at the unique values, sorted alphabetically\n",
    "\n",
    "loan_data.groupby('gender')['education'].count() # Looks at count of each gender category.\n",
    "\n",
    "loan_data.groupby('gender')['education'].count() /len(loan_data) * 100  # Looks at percentage of rows per gender category\n"
   ]
  },
  {
   "cell_type": "markdown",
   "metadata": {},
   "source": [
    "**Observations**\n",
    "* There is one row that contains the gender category \"XNA\". This could be a coding error, could represent a missing gender value, or could represent it's own gender category (ex. non-binary). \n",
    "* Regardless of whether this row represent it's own gender category or an error, it is not enough data to do analysis with. I will change the \"XNA\" to \"Unknown\". "
   ]
  },
  {
   "cell_type": "code",
   "execution_count": 395,
   "metadata": {},
   "outputs": [],
   "source": [
    "loan_data['gender'] = loan_data['gender'].replace('XNA','Unknown') # Replaced the gender XNA with Unknown"
   ]
  },
  {
   "cell_type": "markdown",
   "metadata": {},
   "source": [
    "<div class=\"alert alert-success\">\n",
    "<b>Reviewer's comment v1</b> Good decision!"
   ]
  },
  {
   "cell_type": "code",
   "execution_count": 396,
   "metadata": {},
   "outputs": [
    {
     "data": {
      "text/plain": [
       "gender\n",
       "F          66.094401\n",
       "M          33.900922\n",
       "Unknown     0.004678\n",
       "Name: education, dtype: float64"
      ]
     },
     "execution_count": 396,
     "metadata": {},
     "output_type": "execute_result"
    }
   ],
   "source": [
    "loan_data.groupby('gender')['education'].count() # Looks at count of each gender category.\n",
    "\n",
    "loan_data.groupby('gender')['education'].count() /len(loan_data) * 100  # Looks at percentage of rows per gender category\n"
   ]
  },
  {
   "cell_type": "markdown",
   "metadata": {},
   "source": [
    "**Examining the income_type column**"
   ]
  },
  {
   "cell_type": "code",
   "execution_count": 397,
   "metadata": {},
   "outputs": [
    {
     "data": {
      "text/plain": [
       "income_type\n",
       "business                       23.651588\n",
       "civil servant                   6.778313\n",
       "employee                       51.634935\n",
       "entrepreneur                    0.009356\n",
       "paternity / maternity leave     0.004678\n",
       "retiree                        17.907096\n",
       "student                         0.004678\n",
       "unemployed                      0.009356\n",
       "Name: education, dtype: float64"
      ]
     },
     "execution_count": 397,
     "metadata": {},
     "output_type": "execute_result"
    }
   ],
   "source": [
    "loan_data['income_type'].sort_values().unique() # Looks at the unique values, sorted alphabetically\n",
    "\n",
    "loan_data.groupby('income_type')['education'].count() # Looks at count of each income type category.\n",
    "\n",
    "loan_data.groupby('income_type')['education'].count() /len(loan_data) * 100  # Looks at percentage of rows per income type category"
   ]
  },
  {
   "cell_type": "markdown",
   "metadata": {},
   "source": [
    "**Observations:**\n",
    "* I do not see any obvious problems with these categories. \n",
    "* I do think that it would be helpful to understand the difference between \"employee\" and other categories (ex. since a \"civil servant\" is also an \"employee\", but without knowing more details I will assume that the bank wants to see the difference between these two categories. "
   ]
  },
  {
   "cell_type": "markdown",
   "metadata": {},
   "source": [
    "<div class=\"alert alert-success\">\n",
    "<b>Reviewer's comment v1</b> Correct"
   ]
  },
  {
   "cell_type": "markdown",
   "metadata": {},
   "source": [
    "**Checking for duplicates**"
   ]
  },
  {
   "cell_type": "code",
   "execution_count": 398,
   "metadata": {},
   "outputs": [
    {
     "name": "stdout",
     "output_type": "stream",
     "text": [
      "<class 'pandas.core.frame.DataFrame'>\n",
      "Int64Index: 21377 entries, 0 to 21524\n",
      "Data columns (total 12 columns):\n",
      "children            21377 non-null int64\n",
      "days_employed       19216 non-null float64\n",
      "dob_years           21377 non-null int64\n",
      "education           21377 non-null object\n",
      "education_id        21377 non-null int64\n",
      "family_status       21377 non-null object\n",
      "family_status_id    21377 non-null int64\n",
      "gender              21377 non-null object\n",
      "income_type         21377 non-null object\n",
      "debt                21377 non-null int64\n",
      "total_income        19216 non-null float64\n",
      "purpose             21377 non-null object\n",
      "dtypes: float64(2), int64(5), object(5)\n",
      "memory usage: 2.1+ MB\n"
     ]
    },
    {
     "data": {
      "text/html": [
       "<div>\n",
       "<style scoped>\n",
       "    .dataframe tbody tr th:only-of-type {\n",
       "        vertical-align: middle;\n",
       "    }\n",
       "\n",
       "    .dataframe tbody tr th {\n",
       "        vertical-align: top;\n",
       "    }\n",
       "\n",
       "    .dataframe thead th {\n",
       "        text-align: right;\n",
       "    }\n",
       "</style>\n",
       "<table border=\"1\" class=\"dataframe\">\n",
       "  <thead>\n",
       "    <tr style=\"text-align: right;\">\n",
       "      <th></th>\n",
       "      <th>children</th>\n",
       "      <th>days_employed</th>\n",
       "      <th>dob_years</th>\n",
       "      <th>education</th>\n",
       "      <th>education_id</th>\n",
       "      <th>family_status</th>\n",
       "      <th>family_status_id</th>\n",
       "      <th>gender</th>\n",
       "      <th>income_type</th>\n",
       "      <th>debt</th>\n",
       "      <th>total_income</th>\n",
       "      <th>purpose</th>\n",
       "    </tr>\n",
       "  </thead>\n",
       "  <tbody>\n",
       "    <tr>\n",
       "      <td>2849</td>\n",
       "      <td>0</td>\n",
       "      <td>NaN</td>\n",
       "      <td>41</td>\n",
       "      <td>secondary education</td>\n",
       "      <td>1</td>\n",
       "      <td>married</td>\n",
       "      <td>0</td>\n",
       "      <td>F</td>\n",
       "      <td>employee</td>\n",
       "      <td>0</td>\n",
       "      <td>NaN</td>\n",
       "      <td>purchase of the house for my family</td>\n",
       "    </tr>\n",
       "    <tr>\n",
       "      <td>3290</td>\n",
       "      <td>0</td>\n",
       "      <td>NaN</td>\n",
       "      <td>58</td>\n",
       "      <td>secondary education</td>\n",
       "      <td>1</td>\n",
       "      <td>civil partnership</td>\n",
       "      <td>1</td>\n",
       "      <td>F</td>\n",
       "      <td>retiree</td>\n",
       "      <td>0</td>\n",
       "      <td>NaN</td>\n",
       "      <td>to have a wedding</td>\n",
       "    </tr>\n",
       "    <tr>\n",
       "      <td>4182</td>\n",
       "      <td>1</td>\n",
       "      <td>NaN</td>\n",
       "      <td>34</td>\n",
       "      <td>bachelor's degree</td>\n",
       "      <td>0</td>\n",
       "      <td>civil partnership</td>\n",
       "      <td>1</td>\n",
       "      <td>F</td>\n",
       "      <td>employee</td>\n",
       "      <td>0</td>\n",
       "      <td>NaN</td>\n",
       "      <td>wedding ceremony</td>\n",
       "    </tr>\n",
       "    <tr>\n",
       "      <td>4851</td>\n",
       "      <td>0</td>\n",
       "      <td>NaN</td>\n",
       "      <td>60</td>\n",
       "      <td>secondary education</td>\n",
       "      <td>1</td>\n",
       "      <td>civil partnership</td>\n",
       "      <td>1</td>\n",
       "      <td>F</td>\n",
       "      <td>retiree</td>\n",
       "      <td>0</td>\n",
       "      <td>NaN</td>\n",
       "      <td>wedding ceremony</td>\n",
       "    </tr>\n",
       "    <tr>\n",
       "      <td>5557</td>\n",
       "      <td>0</td>\n",
       "      <td>NaN</td>\n",
       "      <td>58</td>\n",
       "      <td>secondary education</td>\n",
       "      <td>1</td>\n",
       "      <td>civil partnership</td>\n",
       "      <td>1</td>\n",
       "      <td>F</td>\n",
       "      <td>retiree</td>\n",
       "      <td>0</td>\n",
       "      <td>NaN</td>\n",
       "      <td>to have a wedding</td>\n",
       "    </tr>\n",
       "    <tr>\n",
       "      <td>...</td>\n",
       "      <td>...</td>\n",
       "      <td>...</td>\n",
       "      <td>...</td>\n",
       "      <td>...</td>\n",
       "      <td>...</td>\n",
       "      <td>...</td>\n",
       "      <td>...</td>\n",
       "      <td>...</td>\n",
       "      <td>...</td>\n",
       "      <td>...</td>\n",
       "      <td>...</td>\n",
       "      <td>...</td>\n",
       "    </tr>\n",
       "    <tr>\n",
       "      <td>20702</td>\n",
       "      <td>0</td>\n",
       "      <td>NaN</td>\n",
       "      <td>64</td>\n",
       "      <td>secondary education</td>\n",
       "      <td>1</td>\n",
       "      <td>married</td>\n",
       "      <td>0</td>\n",
       "      <td>F</td>\n",
       "      <td>retiree</td>\n",
       "      <td>0</td>\n",
       "      <td>NaN</td>\n",
       "      <td>supplementary education</td>\n",
       "    </tr>\n",
       "    <tr>\n",
       "      <td>21032</td>\n",
       "      <td>0</td>\n",
       "      <td>NaN</td>\n",
       "      <td>60</td>\n",
       "      <td>secondary education</td>\n",
       "      <td>1</td>\n",
       "      <td>married</td>\n",
       "      <td>0</td>\n",
       "      <td>F</td>\n",
       "      <td>retiree</td>\n",
       "      <td>0</td>\n",
       "      <td>NaN</td>\n",
       "      <td>to become educated</td>\n",
       "    </tr>\n",
       "    <tr>\n",
       "      <td>21132</td>\n",
       "      <td>0</td>\n",
       "      <td>NaN</td>\n",
       "      <td>47</td>\n",
       "      <td>secondary education</td>\n",
       "      <td>1</td>\n",
       "      <td>married</td>\n",
       "      <td>0</td>\n",
       "      <td>F</td>\n",
       "      <td>employee</td>\n",
       "      <td>0</td>\n",
       "      <td>NaN</td>\n",
       "      <td>housing renovation</td>\n",
       "    </tr>\n",
       "    <tr>\n",
       "      <td>21281</td>\n",
       "      <td>1</td>\n",
       "      <td>NaN</td>\n",
       "      <td>30</td>\n",
       "      <td>bachelor's degree</td>\n",
       "      <td>0</td>\n",
       "      <td>married</td>\n",
       "      <td>0</td>\n",
       "      <td>F</td>\n",
       "      <td>employee</td>\n",
       "      <td>0</td>\n",
       "      <td>NaN</td>\n",
       "      <td>buy commercial real estate</td>\n",
       "    </tr>\n",
       "    <tr>\n",
       "      <td>21415</td>\n",
       "      <td>0</td>\n",
       "      <td>NaN</td>\n",
       "      <td>54</td>\n",
       "      <td>secondary education</td>\n",
       "      <td>1</td>\n",
       "      <td>married</td>\n",
       "      <td>0</td>\n",
       "      <td>F</td>\n",
       "      <td>retiree</td>\n",
       "      <td>0</td>\n",
       "      <td>NaN</td>\n",
       "      <td>housing transactions</td>\n",
       "    </tr>\n",
       "  </tbody>\n",
       "</table>\n",
       "<p>71 rows × 12 columns</p>\n",
       "</div>"
      ],
      "text/plain": [
       "       children  days_employed  dob_years            education  education_id  \\\n",
       "2849          0            NaN         41  secondary education             1   \n",
       "3290          0            NaN         58  secondary education             1   \n",
       "4182          1            NaN         34    bachelor's degree             0   \n",
       "4851          0            NaN         60  secondary education             1   \n",
       "5557          0            NaN         58  secondary education             1   \n",
       "...         ...            ...        ...                  ...           ...   \n",
       "20702         0            NaN         64  secondary education             1   \n",
       "21032         0            NaN         60  secondary education             1   \n",
       "21132         0            NaN         47  secondary education             1   \n",
       "21281         1            NaN         30    bachelor's degree             0   \n",
       "21415         0            NaN         54  secondary education             1   \n",
       "\n",
       "           family_status  family_status_id gender income_type  debt  \\\n",
       "2849             married                 0      F    employee     0   \n",
       "3290   civil partnership                 1      F     retiree     0   \n",
       "4182   civil partnership                 1      F    employee     0   \n",
       "4851   civil partnership                 1      F     retiree     0   \n",
       "5557   civil partnership                 1      F     retiree     0   \n",
       "...                  ...               ...    ...         ...   ...   \n",
       "20702            married                 0      F     retiree     0   \n",
       "21032            married                 0      F     retiree     0   \n",
       "21132            married                 0      F    employee     0   \n",
       "21281            married                 0      F    employee     0   \n",
       "21415            married                 0      F     retiree     0   \n",
       "\n",
       "       total_income                              purpose  \n",
       "2849            NaN  purchase of the house for my family  \n",
       "3290            NaN                    to have a wedding  \n",
       "4182            NaN                     wedding ceremony  \n",
       "4851            NaN                     wedding ceremony  \n",
       "5557            NaN                    to have a wedding  \n",
       "...             ...                                  ...  \n",
       "20702           NaN              supplementary education  \n",
       "21032           NaN                   to become educated  \n",
       "21132           NaN                   housing renovation  \n",
       "21281           NaN           buy commercial real estate  \n",
       "21415           NaN                 housing transactions  \n",
       "\n",
       "[71 rows x 12 columns]"
      ]
     },
     "execution_count": 398,
     "metadata": {},
     "output_type": "execute_result"
    }
   ],
   "source": [
    "loan_data.info() # Prints the basic table information, which I used to remind myself of all of the column names/information\n",
    "\n",
    "loan_data.duplicated().sum() # Returns the number of duplicate rows (71)\n",
    "\n",
    "loan_data.duplicated().sum() / len(loan_data) * 100 # Returns the percentage of duplicate rows compared to the entire dataframe \n",
    "\n",
    "loan_data[loan_data.duplicated()] # Returns the rows that are duplicates, allows me to get a snapshot of these duplicate rows\n"
   ]
  },
  {
   "cell_type": "markdown",
   "metadata": {},
   "source": [
    "**Observations:**\n",
    "* There are 71 duplicate rows, which make up .33% of the entire dataframe\n",
    "* I could choose to drop the duplicate rows using the .dropduplicates() function, but looking back at the basic table information, there are no columns that uniquely identify the individuals (ex. UserID, social security number, license number, etc.). Therefore, it is possible that two individuals could have the same information and we cannot assume that duplicates are belong to the same individual. "
   ]
  },
  {
   "cell_type": "code",
   "execution_count": 399,
   "metadata": {},
   "outputs": [
    {
     "data": {
      "text/plain": [
       "(21377, 12)"
      ]
     },
     "execution_count": 399,
     "metadata": {},
     "output_type": "execute_result"
    }
   ],
   "source": [
    "loan_data.shape # Checks the new size of the dataset"
   ]
  },
  {
   "cell_type": "markdown",
   "metadata": {},
   "source": [
    "**Observations**\n",
    "* In summary, I chose to remove rows for which there were problematic values, which were rows where clients were indicated to have \"-1\" children, and clients with an age of 0. \n",
    "* I chose not to remove duplicate rows, since there are no unique individual identifiers and technically clients could share the same demographic and loan informaton. \n",
    "* In the end, this resulted in removiing a total of 148 rows (21,525 rows to 21,377 rows), which represent 0.7% of the original number of rows. "
   ]
  },
  {
   "cell_type": "markdown",
   "metadata": {},
   "source": [
    "<div class=\"alert alert-success\">\n",
    "<b>Reviewer's comment v1</b> We have found all the duplicates. Great!"
   ]
  },
  {
   "cell_type": "markdown",
   "metadata": {},
   "source": [
    "# Working with missing values"
   ]
  },
  {
   "cell_type": "markdown",
   "metadata": {},
   "source": [
    "I created two dictionaries below - one to define reference IDs for family status and the other to define reference Ids for level of education. I want to be able to take both of these factors into account in my analysis below, and therefore want to use these dictionaries as reference in that analysis. "
   ]
  },
  {
   "cell_type": "code",
   "execution_count": 400,
   "metadata": {},
   "outputs": [
    {
     "data": {
      "text/html": [
       "<div>\n",
       "<style scoped>\n",
       "    .dataframe tbody tr th:only-of-type {\n",
       "        vertical-align: middle;\n",
       "    }\n",
       "\n",
       "    .dataframe tbody tr th {\n",
       "        vertical-align: top;\n",
       "    }\n",
       "\n",
       "    .dataframe thead th {\n",
       "        text-align: right;\n",
       "    }\n",
       "</style>\n",
       "<table border=\"1\" class=\"dataframe\">\n",
       "  <thead>\n",
       "    <tr style=\"text-align: right;\">\n",
       "      <th></th>\n",
       "      <th>education_id</th>\n",
       "      <th>education</th>\n",
       "    </tr>\n",
       "  </thead>\n",
       "  <tbody>\n",
       "    <tr>\n",
       "      <td>0</td>\n",
       "      <td>0</td>\n",
       "      <td>bachelor's degree</td>\n",
       "    </tr>\n",
       "    <tr>\n",
       "      <td>1</td>\n",
       "      <td>1</td>\n",
       "      <td>secondary education</td>\n",
       "    </tr>\n",
       "    <tr>\n",
       "      <td>2</td>\n",
       "      <td>2</td>\n",
       "      <td>some college</td>\n",
       "    </tr>\n",
       "    <tr>\n",
       "      <td>3</td>\n",
       "      <td>3</td>\n",
       "      <td>primary education</td>\n",
       "    </tr>\n",
       "    <tr>\n",
       "      <td>4</td>\n",
       "      <td>4</td>\n",
       "      <td>graduate degree</td>\n",
       "    </tr>\n",
       "  </tbody>\n",
       "</table>\n",
       "</div>"
      ],
      "text/plain": [
       "   education_id            education\n",
       "0             0    bachelor's degree\n",
       "1             1  secondary education\n",
       "2             2         some college\n",
       "3             3    primary education\n",
       "4             4      graduate degree"
      ]
     },
     "execution_count": 400,
     "metadata": {},
     "output_type": "execute_result"
    }
   ],
   "source": [
    "family_status_dict = loan_data[['family_status_id', 'family_status']].drop_duplicates().reset_index(drop=True) # Creates a family status dictionary\n",
    "\n",
    "education_dict = loan_data[['education_id', 'education']].drop_duplicates().reset_index(drop=True) # Creates an education_id dictionary\n",
    "\n",
    "family_status_dict\n",
    "\n",
    "education_dict\n"
   ]
  },
  {
   "cell_type": "markdown",
   "metadata": {},
   "source": [
    "### Restoring missing values in `total_income`"
   ]
  },
  {
   "cell_type": "markdown",
   "metadata": {},
   "source": [
    "**Initial observations and plans for missing values:**\n",
    "\n",
    "Two columns in this dataset have missing values: days_employed and total_income. Both have the float type. Therefore I will take the following steps to fill in the missing values:\n",
    "* Look at the relationship between days employed and total income with other categories - ex. number of children, age, etc. \n",
    "* Based on this analysis, I will calculate the mean (if there are not extreme outliers) or median (if there are extreme outliers that impact the mean) of days employed/total income according to the selected category, and replace the missing value with that number.\n"
   ]
  },
  {
   "cell_type": "code",
   "execution_count": 401,
   "metadata": {},
   "outputs": [],
   "source": [
    "# Let's write a function that calculates the age category\n",
    "def age_group(row): # Function that creates age groups according to decade which is common practice\n",
    "    age = row['dob_years']\n",
    "    if age < 10:\n",
    "        return '0-9'\n",
    "    elif age < 20:\n",
    "        return '10-19'\n",
    "    elif age < 30:\n",
    "        return '20-29'\n",
    "    elif age < 40:\n",
    "        return '30-39'\n",
    "    elif age < 50:\n",
    "        return '40-49'\n",
    "    elif age < 60:\n",
    "        return '50-59'\n",
    "    elif age < 70:\n",
    "        return '60-69'\n",
    "    else:\n",
    "        return '70+'"
   ]
  },
  {
   "cell_type": "code",
   "execution_count": 402,
   "metadata": {},
   "outputs": [
    {
     "name": "stdout",
     "output_type": "stream",
     "text": [
      "40-49\n"
     ]
    }
   ],
   "source": [
    "row_values = [47] # Creates a list that indicates row value\n",
    "row_columns = ['dob_years'] # Creates list that indicates column name\n",
    "\n",
    "row = pd.Series(data=row_values, index=row_columns) # Creates a new row with the above values\n",
    "\n",
    "print(age_group(row)) # Passes the row through the function"
   ]
  },
  {
   "cell_type": "code",
   "execution_count": 403,
   "metadata": {},
   "outputs": [],
   "source": [
    "loan_data['age_group'] = loan_data.apply(age_group, axis=1) # Applys the function to loan_data and returns the result in a new column called 'age_group'"
   ]
  },
  {
   "cell_type": "code",
   "execution_count": 404,
   "metadata": {},
   "outputs": [
    {
     "data": {
      "text/html": [
       "<div>\n",
       "<style scoped>\n",
       "    .dataframe tbody tr th:only-of-type {\n",
       "        vertical-align: middle;\n",
       "    }\n",
       "\n",
       "    .dataframe tbody tr th {\n",
       "        vertical-align: top;\n",
       "    }\n",
       "\n",
       "    .dataframe thead th {\n",
       "        text-align: right;\n",
       "    }\n",
       "</style>\n",
       "<table border=\"1\" class=\"dataframe\">\n",
       "  <thead>\n",
       "    <tr style=\"text-align: right;\">\n",
       "      <th></th>\n",
       "      <th>children</th>\n",
       "      <th>days_employed</th>\n",
       "      <th>dob_years</th>\n",
       "      <th>education</th>\n",
       "      <th>education_id</th>\n",
       "      <th>family_status</th>\n",
       "      <th>family_status_id</th>\n",
       "      <th>gender</th>\n",
       "      <th>income_type</th>\n",
       "      <th>debt</th>\n",
       "      <th>total_income</th>\n",
       "      <th>purpose</th>\n",
       "      <th>age_group</th>\n",
       "    </tr>\n",
       "  </thead>\n",
       "  <tbody>\n",
       "    <tr>\n",
       "      <td>0</td>\n",
       "      <td>1</td>\n",
       "      <td>8437.673028</td>\n",
       "      <td>42</td>\n",
       "      <td>bachelor's degree</td>\n",
       "      <td>0</td>\n",
       "      <td>married</td>\n",
       "      <td>0</td>\n",
       "      <td>F</td>\n",
       "      <td>employee</td>\n",
       "      <td>0</td>\n",
       "      <td>40620.102</td>\n",
       "      <td>purchase of the house</td>\n",
       "      <td>40-49</td>\n",
       "    </tr>\n",
       "    <tr>\n",
       "      <td>1</td>\n",
       "      <td>1</td>\n",
       "      <td>4024.803754</td>\n",
       "      <td>36</td>\n",
       "      <td>secondary education</td>\n",
       "      <td>1</td>\n",
       "      <td>married</td>\n",
       "      <td>0</td>\n",
       "      <td>F</td>\n",
       "      <td>employee</td>\n",
       "      <td>0</td>\n",
       "      <td>17932.802</td>\n",
       "      <td>car purchase</td>\n",
       "      <td>30-39</td>\n",
       "    </tr>\n",
       "    <tr>\n",
       "      <td>2</td>\n",
       "      <td>0</td>\n",
       "      <td>5623.422610</td>\n",
       "      <td>33</td>\n",
       "      <td>secondary education</td>\n",
       "      <td>1</td>\n",
       "      <td>married</td>\n",
       "      <td>0</td>\n",
       "      <td>M</td>\n",
       "      <td>employee</td>\n",
       "      <td>0</td>\n",
       "      <td>23341.752</td>\n",
       "      <td>purchase of the house</td>\n",
       "      <td>30-39</td>\n",
       "    </tr>\n",
       "    <tr>\n",
       "      <td>3</td>\n",
       "      <td>3</td>\n",
       "      <td>4124.747207</td>\n",
       "      <td>32</td>\n",
       "      <td>secondary education</td>\n",
       "      <td>1</td>\n",
       "      <td>married</td>\n",
       "      <td>0</td>\n",
       "      <td>M</td>\n",
       "      <td>employee</td>\n",
       "      <td>0</td>\n",
       "      <td>42820.568</td>\n",
       "      <td>supplementary education</td>\n",
       "      <td>30-39</td>\n",
       "    </tr>\n",
       "    <tr>\n",
       "      <td>4</td>\n",
       "      <td>0</td>\n",
       "      <td>340266.072047</td>\n",
       "      <td>53</td>\n",
       "      <td>secondary education</td>\n",
       "      <td>1</td>\n",
       "      <td>civil partnership</td>\n",
       "      <td>1</td>\n",
       "      <td>F</td>\n",
       "      <td>retiree</td>\n",
       "      <td>0</td>\n",
       "      <td>25378.572</td>\n",
       "      <td>to have a wedding</td>\n",
       "      <td>50-59</td>\n",
       "    </tr>\n",
       "    <tr>\n",
       "      <td>5</td>\n",
       "      <td>0</td>\n",
       "      <td>926.185831</td>\n",
       "      <td>27</td>\n",
       "      <td>bachelor's degree</td>\n",
       "      <td>0</td>\n",
       "      <td>civil partnership</td>\n",
       "      <td>1</td>\n",
       "      <td>M</td>\n",
       "      <td>business</td>\n",
       "      <td>0</td>\n",
       "      <td>40922.170</td>\n",
       "      <td>purchase of the house</td>\n",
       "      <td>20-29</td>\n",
       "    </tr>\n",
       "    <tr>\n",
       "      <td>6</td>\n",
       "      <td>0</td>\n",
       "      <td>2879.202052</td>\n",
       "      <td>43</td>\n",
       "      <td>bachelor's degree</td>\n",
       "      <td>0</td>\n",
       "      <td>married</td>\n",
       "      <td>0</td>\n",
       "      <td>F</td>\n",
       "      <td>business</td>\n",
       "      <td>0</td>\n",
       "      <td>38484.156</td>\n",
       "      <td>housing transactions</td>\n",
       "      <td>40-49</td>\n",
       "    </tr>\n",
       "    <tr>\n",
       "      <td>7</td>\n",
       "      <td>0</td>\n",
       "      <td>152.779569</td>\n",
       "      <td>50</td>\n",
       "      <td>secondary education</td>\n",
       "      <td>1</td>\n",
       "      <td>married</td>\n",
       "      <td>0</td>\n",
       "      <td>M</td>\n",
       "      <td>employee</td>\n",
       "      <td>0</td>\n",
       "      <td>21731.829</td>\n",
       "      <td>education</td>\n",
       "      <td>50-59</td>\n",
       "    </tr>\n",
       "    <tr>\n",
       "      <td>8</td>\n",
       "      <td>2</td>\n",
       "      <td>6929.865299</td>\n",
       "      <td>35</td>\n",
       "      <td>bachelor's degree</td>\n",
       "      <td>0</td>\n",
       "      <td>civil partnership</td>\n",
       "      <td>1</td>\n",
       "      <td>F</td>\n",
       "      <td>employee</td>\n",
       "      <td>0</td>\n",
       "      <td>15337.093</td>\n",
       "      <td>having a wedding</td>\n",
       "      <td>30-39</td>\n",
       "    </tr>\n",
       "    <tr>\n",
       "      <td>9</td>\n",
       "      <td>0</td>\n",
       "      <td>2188.756445</td>\n",
       "      <td>41</td>\n",
       "      <td>secondary education</td>\n",
       "      <td>1</td>\n",
       "      <td>married</td>\n",
       "      <td>0</td>\n",
       "      <td>M</td>\n",
       "      <td>employee</td>\n",
       "      <td>0</td>\n",
       "      <td>23108.150</td>\n",
       "      <td>purchase of the house for my family</td>\n",
       "      <td>40-49</td>\n",
       "    </tr>\n",
       "  </tbody>\n",
       "</table>\n",
       "</div>"
      ],
      "text/plain": [
       "   children  days_employed  dob_years            education  education_id  \\\n",
       "0         1    8437.673028         42    bachelor's degree             0   \n",
       "1         1    4024.803754         36  secondary education             1   \n",
       "2         0    5623.422610         33  secondary education             1   \n",
       "3         3    4124.747207         32  secondary education             1   \n",
       "4         0  340266.072047         53  secondary education             1   \n",
       "5         0     926.185831         27    bachelor's degree             0   \n",
       "6         0    2879.202052         43    bachelor's degree             0   \n",
       "7         0     152.779569         50  secondary education             1   \n",
       "8         2    6929.865299         35    bachelor's degree             0   \n",
       "9         0    2188.756445         41  secondary education             1   \n",
       "\n",
       "       family_status  family_status_id gender income_type  debt  total_income  \\\n",
       "0            married                 0      F    employee     0     40620.102   \n",
       "1            married                 0      F    employee     0     17932.802   \n",
       "2            married                 0      M    employee     0     23341.752   \n",
       "3            married                 0      M    employee     0     42820.568   \n",
       "4  civil partnership                 1      F     retiree     0     25378.572   \n",
       "5  civil partnership                 1      M    business     0     40922.170   \n",
       "6            married                 0      F    business     0     38484.156   \n",
       "7            married                 0      M    employee     0     21731.829   \n",
       "8  civil partnership                 1      F    employee     0     15337.093   \n",
       "9            married                 0      M    employee     0     23108.150   \n",
       "\n",
       "                               purpose age_group  \n",
       "0                purchase of the house     40-49  \n",
       "1                         car purchase     30-39  \n",
       "2                purchase of the house     30-39  \n",
       "3              supplementary education     30-39  \n",
       "4                    to have a wedding     50-59  \n",
       "5                purchase of the house     20-29  \n",
       "6                 housing transactions     40-49  \n",
       "7                            education     50-59  \n",
       "8                     having a wedding     30-39  \n",
       "9  purchase of the house for my family     40-49  "
      ]
     },
     "execution_count": 404,
     "metadata": {},
     "output_type": "execute_result"
    }
   ],
   "source": [
    "loan_data.head(10) # Prints the first 10 rows to confirm the new column has been added"
   ]
  },
  {
   "cell_type": "code",
   "execution_count": 405,
   "metadata": {},
   "outputs": [
    {
     "data": {
      "text/html": [
       "<div>\n",
       "<style scoped>\n",
       "    .dataframe tbody tr th:only-of-type {\n",
       "        vertical-align: middle;\n",
       "    }\n",
       "\n",
       "    .dataframe tbody tr th {\n",
       "        vertical-align: top;\n",
       "    }\n",
       "\n",
       "    .dataframe thead th {\n",
       "        text-align: right;\n",
       "    }\n",
       "</style>\n",
       "<table border=\"1\" class=\"dataframe\">\n",
       "  <thead>\n",
       "    <tr style=\"text-align: right;\">\n",
       "      <th></th>\n",
       "      <th>children</th>\n",
       "      <th>days_employed</th>\n",
       "      <th>dob_years</th>\n",
       "      <th>education</th>\n",
       "      <th>education_id</th>\n",
       "      <th>family_status</th>\n",
       "      <th>family_status_id</th>\n",
       "      <th>gender</th>\n",
       "      <th>income_type</th>\n",
       "      <th>debt</th>\n",
       "      <th>total_income</th>\n",
       "      <th>purpose</th>\n",
       "      <th>age_group</th>\n",
       "    </tr>\n",
       "  </thead>\n",
       "  <tbody>\n",
       "    <tr>\n",
       "      <td>0</td>\n",
       "      <td>1</td>\n",
       "      <td>8437.673028</td>\n",
       "      <td>42</td>\n",
       "      <td>bachelor's degree</td>\n",
       "      <td>0</td>\n",
       "      <td>married</td>\n",
       "      <td>0</td>\n",
       "      <td>F</td>\n",
       "      <td>employee</td>\n",
       "      <td>0</td>\n",
       "      <td>40620.102</td>\n",
       "      <td>purchase of the house</td>\n",
       "      <td>40-49</td>\n",
       "    </tr>\n",
       "    <tr>\n",
       "      <td>1</td>\n",
       "      <td>1</td>\n",
       "      <td>4024.803754</td>\n",
       "      <td>36</td>\n",
       "      <td>secondary education</td>\n",
       "      <td>1</td>\n",
       "      <td>married</td>\n",
       "      <td>0</td>\n",
       "      <td>F</td>\n",
       "      <td>employee</td>\n",
       "      <td>0</td>\n",
       "      <td>17932.802</td>\n",
       "      <td>car purchase</td>\n",
       "      <td>30-39</td>\n",
       "    </tr>\n",
       "    <tr>\n",
       "      <td>2</td>\n",
       "      <td>0</td>\n",
       "      <td>5623.422610</td>\n",
       "      <td>33</td>\n",
       "      <td>secondary education</td>\n",
       "      <td>1</td>\n",
       "      <td>married</td>\n",
       "      <td>0</td>\n",
       "      <td>M</td>\n",
       "      <td>employee</td>\n",
       "      <td>0</td>\n",
       "      <td>23341.752</td>\n",
       "      <td>purchase of the house</td>\n",
       "      <td>30-39</td>\n",
       "    </tr>\n",
       "    <tr>\n",
       "      <td>3</td>\n",
       "      <td>3</td>\n",
       "      <td>4124.747207</td>\n",
       "      <td>32</td>\n",
       "      <td>secondary education</td>\n",
       "      <td>1</td>\n",
       "      <td>married</td>\n",
       "      <td>0</td>\n",
       "      <td>M</td>\n",
       "      <td>employee</td>\n",
       "      <td>0</td>\n",
       "      <td>42820.568</td>\n",
       "      <td>supplementary education</td>\n",
       "      <td>30-39</td>\n",
       "    </tr>\n",
       "    <tr>\n",
       "      <td>4</td>\n",
       "      <td>0</td>\n",
       "      <td>340266.072047</td>\n",
       "      <td>53</td>\n",
       "      <td>secondary education</td>\n",
       "      <td>1</td>\n",
       "      <td>civil partnership</td>\n",
       "      <td>1</td>\n",
       "      <td>F</td>\n",
       "      <td>retiree</td>\n",
       "      <td>0</td>\n",
       "      <td>25378.572</td>\n",
       "      <td>to have a wedding</td>\n",
       "      <td>50-59</td>\n",
       "    </tr>\n",
       "    <tr>\n",
       "      <td>5</td>\n",
       "      <td>0</td>\n",
       "      <td>926.185831</td>\n",
       "      <td>27</td>\n",
       "      <td>bachelor's degree</td>\n",
       "      <td>0</td>\n",
       "      <td>civil partnership</td>\n",
       "      <td>1</td>\n",
       "      <td>M</td>\n",
       "      <td>business</td>\n",
       "      <td>0</td>\n",
       "      <td>40922.170</td>\n",
       "      <td>purchase of the house</td>\n",
       "      <td>20-29</td>\n",
       "    </tr>\n",
       "    <tr>\n",
       "      <td>6</td>\n",
       "      <td>0</td>\n",
       "      <td>2879.202052</td>\n",
       "      <td>43</td>\n",
       "      <td>bachelor's degree</td>\n",
       "      <td>0</td>\n",
       "      <td>married</td>\n",
       "      <td>0</td>\n",
       "      <td>F</td>\n",
       "      <td>business</td>\n",
       "      <td>0</td>\n",
       "      <td>38484.156</td>\n",
       "      <td>housing transactions</td>\n",
       "      <td>40-49</td>\n",
       "    </tr>\n",
       "    <tr>\n",
       "      <td>7</td>\n",
       "      <td>0</td>\n",
       "      <td>152.779569</td>\n",
       "      <td>50</td>\n",
       "      <td>secondary education</td>\n",
       "      <td>1</td>\n",
       "      <td>married</td>\n",
       "      <td>0</td>\n",
       "      <td>M</td>\n",
       "      <td>employee</td>\n",
       "      <td>0</td>\n",
       "      <td>21731.829</td>\n",
       "      <td>education</td>\n",
       "      <td>50-59</td>\n",
       "    </tr>\n",
       "    <tr>\n",
       "      <td>8</td>\n",
       "      <td>2</td>\n",
       "      <td>6929.865299</td>\n",
       "      <td>35</td>\n",
       "      <td>bachelor's degree</td>\n",
       "      <td>0</td>\n",
       "      <td>civil partnership</td>\n",
       "      <td>1</td>\n",
       "      <td>F</td>\n",
       "      <td>employee</td>\n",
       "      <td>0</td>\n",
       "      <td>15337.093</td>\n",
       "      <td>having a wedding</td>\n",
       "      <td>30-39</td>\n",
       "    </tr>\n",
       "    <tr>\n",
       "      <td>9</td>\n",
       "      <td>0</td>\n",
       "      <td>2188.756445</td>\n",
       "      <td>41</td>\n",
       "      <td>secondary education</td>\n",
       "      <td>1</td>\n",
       "      <td>married</td>\n",
       "      <td>0</td>\n",
       "      <td>M</td>\n",
       "      <td>employee</td>\n",
       "      <td>0</td>\n",
       "      <td>23108.150</td>\n",
       "      <td>purchase of the house for my family</td>\n",
       "      <td>40-49</td>\n",
       "    </tr>\n",
       "  </tbody>\n",
       "</table>\n",
       "</div>"
      ],
      "text/plain": [
       "   children  days_employed  dob_years            education  education_id  \\\n",
       "0         1    8437.673028         42    bachelor's degree             0   \n",
       "1         1    4024.803754         36  secondary education             1   \n",
       "2         0    5623.422610         33  secondary education             1   \n",
       "3         3    4124.747207         32  secondary education             1   \n",
       "4         0  340266.072047         53  secondary education             1   \n",
       "5         0     926.185831         27    bachelor's degree             0   \n",
       "6         0    2879.202052         43    bachelor's degree             0   \n",
       "7         0     152.779569         50  secondary education             1   \n",
       "8         2    6929.865299         35    bachelor's degree             0   \n",
       "9         0    2188.756445         41  secondary education             1   \n",
       "\n",
       "       family_status  family_status_id gender income_type  debt  total_income  \\\n",
       "0            married                 0      F    employee     0     40620.102   \n",
       "1            married                 0      F    employee     0     17932.802   \n",
       "2            married                 0      M    employee     0     23341.752   \n",
       "3            married                 0      M    employee     0     42820.568   \n",
       "4  civil partnership                 1      F     retiree     0     25378.572   \n",
       "5  civil partnership                 1      M    business     0     40922.170   \n",
       "6            married                 0      F    business     0     38484.156   \n",
       "7            married                 0      M    employee     0     21731.829   \n",
       "8  civil partnership                 1      F    employee     0     15337.093   \n",
       "9            married                 0      M    employee     0     23108.150   \n",
       "\n",
       "                               purpose age_group  \n",
       "0                purchase of the house     40-49  \n",
       "1                         car purchase     30-39  \n",
       "2                purchase of the house     30-39  \n",
       "3              supplementary education     30-39  \n",
       "4                    to have a wedding     50-59  \n",
       "5                purchase of the house     20-29  \n",
       "6                 housing transactions     40-49  \n",
       "7                            education     50-59  \n",
       "8                     having a wedding     30-39  \n",
       "9  purchase of the house for my family     40-49  "
      ]
     },
     "execution_count": 405,
     "metadata": {},
     "output_type": "execute_result"
    }
   ],
   "source": [
    "loan_data_filtered = loan_data.loc[loan_data['total_income'] > 0] # Creates a table without missing values\n",
    "\n",
    "loan_data_filtered.head(10) # Prints first 10 rows\n"
   ]
  },
  {
   "cell_type": "code",
   "execution_count": 406,
   "metadata": {},
   "outputs": [
    {
     "data": {
      "text/plain": [
       "age_group\n",
       "10-19    16993.942462\n",
       "20-29    25575.666766\n",
       "30-39    28316.552125\n",
       "40-49    28565.424392\n",
       "50-59    25821.596685\n",
       "60-69    23228.696417\n",
       "70+      20125.658331\n",
       "Name: total_income, dtype: float64"
      ]
     },
     "execution_count": 406,
     "metadata": {},
     "output_type": "execute_result"
    }
   ],
   "source": [
    "loan_data_filtered.groupby('age_group')['total_income'].mean() # Finds the mean of the income column for each age group\n"
   ]
  },
  {
   "cell_type": "code",
   "execution_count": 407,
   "metadata": {
    "scrolled": true
   },
   "outputs": [
    {
     "data": {
      "text/plain": [
       "age_group\n",
       "10-19    14934.9010\n",
       "20-29    22801.8085\n",
       "30-39    24692.4500\n",
       "40-49    24768.1370\n",
       "50-59    22201.4960\n",
       "60-69    19811.3260\n",
       "70+      18751.3240\n",
       "Name: total_income, dtype: float64"
      ]
     },
     "execution_count": 407,
     "metadata": {},
     "output_type": "execute_result"
    }
   ],
   "source": [
    "loan_data_filtered.groupby('age_group')['total_income'].median() # Finds the median of the income column for each age group"
   ]
  },
  {
   "cell_type": "code",
   "execution_count": 408,
   "metadata": {},
   "outputs": [
    {
     "data": {
      "text/html": [
       "<div>\n",
       "<style scoped>\n",
       "    .dataframe tbody tr th:only-of-type {\n",
       "        vertical-align: middle;\n",
       "    }\n",
       "\n",
       "    .dataframe tbody tr th {\n",
       "        vertical-align: top;\n",
       "    }\n",
       "\n",
       "    .dataframe thead tr th {\n",
       "        text-align: left;\n",
       "    }\n",
       "\n",
       "    .dataframe thead tr:last-of-type th {\n",
       "        text-align: right;\n",
       "    }\n",
       "</style>\n",
       "<table border=\"1\" class=\"dataframe\">\n",
       "  <thead>\n",
       "    <tr>\n",
       "      <th></th>\n",
       "      <th colspan=\"2\" halign=\"left\">total_income</th>\n",
       "    </tr>\n",
       "    <tr>\n",
       "      <th></th>\n",
       "      <th>max</th>\n",
       "      <th>min</th>\n",
       "    </tr>\n",
       "    <tr>\n",
       "      <th>age_group</th>\n",
       "      <th></th>\n",
       "      <th></th>\n",
       "    </tr>\n",
       "  </thead>\n",
       "  <tbody>\n",
       "    <tr>\n",
       "      <td>10-19</td>\n",
       "      <td>26753.823</td>\n",
       "      <td>9459.851</td>\n",
       "    </tr>\n",
       "    <tr>\n",
       "      <td>20-29</td>\n",
       "      <td>131588.163</td>\n",
       "      <td>4494.861</td>\n",
       "    </tr>\n",
       "    <tr>\n",
       "      <td>30-39</td>\n",
       "      <td>352136.354</td>\n",
       "      <td>3392.845</td>\n",
       "    </tr>\n",
       "    <tr>\n",
       "      <td>40-49</td>\n",
       "      <td>362496.645</td>\n",
       "      <td>4036.463</td>\n",
       "    </tr>\n",
       "    <tr>\n",
       "      <td>50-59</td>\n",
       "      <td>195686.797</td>\n",
       "      <td>3306.762</td>\n",
       "    </tr>\n",
       "    <tr>\n",
       "      <td>60-69</td>\n",
       "      <td>274402.943</td>\n",
       "      <td>3471.216</td>\n",
       "    </tr>\n",
       "    <tr>\n",
       "      <td>70+</td>\n",
       "      <td>57508.032</td>\n",
       "      <td>3595.641</td>\n",
       "    </tr>\n",
       "  </tbody>\n",
       "</table>\n",
       "</div>"
      ],
      "text/plain": [
       "          total_income          \n",
       "                   max       min\n",
       "age_group                       \n",
       "10-19        26753.823  9459.851\n",
       "20-29       131588.163  4494.861\n",
       "30-39       352136.354  3392.845\n",
       "40-49       362496.645  4036.463\n",
       "50-59       195686.797  3306.762\n",
       "60-69       274402.943  3471.216\n",
       "70+          57508.032  3595.641"
      ]
     },
     "execution_count": 408,
     "metadata": {},
     "output_type": "execute_result"
    }
   ],
   "source": [
    "loan_data_filtered.groupby('age_group').agg({'total_income': [max, min]}) #Looks at range of data  across each age group"
   ]
  },
  {
   "cell_type": "code",
   "execution_count": 409,
   "metadata": {},
   "outputs": [
    {
     "data": {
      "text/html": [
       "<div>\n",
       "<style scoped>\n",
       "    .dataframe tbody tr th:only-of-type {\n",
       "        vertical-align: middle;\n",
       "    }\n",
       "\n",
       "    .dataframe tbody tr th {\n",
       "        vertical-align: top;\n",
       "    }\n",
       "\n",
       "    .dataframe thead th {\n",
       "        text-align: right;\n",
       "    }\n",
       "</style>\n",
       "<table border=\"1\" class=\"dataframe\">\n",
       "  <thead>\n",
       "    <tr style=\"text-align: right;\">\n",
       "      <th>education_id</th>\n",
       "      <th>0</th>\n",
       "      <th>1</th>\n",
       "      <th>2</th>\n",
       "      <th>3</th>\n",
       "      <th>4</th>\n",
       "    </tr>\n",
       "    <tr>\n",
       "      <th>age_group</th>\n",
       "      <th></th>\n",
       "      <th></th>\n",
       "      <th></th>\n",
       "      <th></th>\n",
       "      <th></th>\n",
       "    </tr>\n",
       "  </thead>\n",
       "  <tbody>\n",
       "    <tr>\n",
       "      <td>10-19</td>\n",
       "      <td>NaN</td>\n",
       "      <td>15761.5690</td>\n",
       "      <td>14575.7170</td>\n",
       "      <td>NaN</td>\n",
       "      <td>NaN</td>\n",
       "    </tr>\n",
       "    <tr>\n",
       "      <td>20-29</td>\n",
       "      <td>25948.0270</td>\n",
       "      <td>21176.7800</td>\n",
       "      <td>22698.1735</td>\n",
       "      <td>25488.9160</td>\n",
       "      <td>NaN</td>\n",
       "    </tr>\n",
       "    <tr>\n",
       "      <td>30-39</td>\n",
       "      <td>28801.6055</td>\n",
       "      <td>22907.8415</td>\n",
       "      <td>28463.4390</td>\n",
       "      <td>19542.3265</td>\n",
       "      <td>18187.3015</td>\n",
       "    </tr>\n",
       "    <tr>\n",
       "      <td>40-49</td>\n",
       "      <td>30322.0090</td>\n",
       "      <td>22971.2210</td>\n",
       "      <td>29323.6730</td>\n",
       "      <td>21511.5635</td>\n",
       "      <td>31771.3210</td>\n",
       "    </tr>\n",
       "    <tr>\n",
       "      <td>50-59</td>\n",
       "      <td>28153.0340</td>\n",
       "      <td>21236.0770</td>\n",
       "      <td>21132.3090</td>\n",
       "      <td>16922.6250</td>\n",
       "      <td>42945.7940</td>\n",
       "    </tr>\n",
       "    <tr>\n",
       "      <td>60-69</td>\n",
       "      <td>25195.1730</td>\n",
       "      <td>18873.7640</td>\n",
       "      <td>28058.6760</td>\n",
       "      <td>17657.4995</td>\n",
       "      <td>28334.2150</td>\n",
       "    </tr>\n",
       "    <tr>\n",
       "      <td>70+</td>\n",
       "      <td>25497.3920</td>\n",
       "      <td>18508.5770</td>\n",
       "      <td>14479.1930</td>\n",
       "      <td>15013.5050</td>\n",
       "      <td>NaN</td>\n",
       "    </tr>\n",
       "  </tbody>\n",
       "</table>\n",
       "</div>"
      ],
      "text/plain": [
       "education_id           0           1           2           3           4\n",
       "age_group                                                               \n",
       "10-19                NaN  15761.5690  14575.7170         NaN         NaN\n",
       "20-29         25948.0270  21176.7800  22698.1735  25488.9160         NaN\n",
       "30-39         28801.6055  22907.8415  28463.4390  19542.3265  18187.3015\n",
       "40-49         30322.0090  22971.2210  29323.6730  21511.5635  31771.3210\n",
       "50-59         28153.0340  21236.0770  21132.3090  16922.6250  42945.7940\n",
       "60-69         25195.1730  18873.7640  28058.6760  17657.4995  28334.2150\n",
       "70+           25497.3920  18508.5770  14479.1930  15013.5050         NaN"
      ]
     },
     "execution_count": 409,
     "metadata": {},
     "output_type": "execute_result"
    }
   ],
   "source": [
    "income_median = loan_data_filtered.pivot_table(index=['age_group'], columns=['education_id'], values='total_income', aggfunc='median')\n",
    "\n",
    "income_median\n"
   ]
  },
  {
   "cell_type": "markdown",
   "metadata": {},
   "source": [
    "**Observations**\n",
    "\n",
    "* Looking at the breakdown across age groups, the mean is larger than the median, which indicates that there are outliers. This was confirmed by looking at the minimum and maximum income in each age category. \n",
    "* Therefore, the median will be a better representation of the income data. \n",
    "* Age group is not the only category that can influence income. I looked at the breakdown of income by education level and family status for each age group. Income was not greatly impact by family status, but it was impacted by education level. Therefore I will use the median of age group and education level to fill in missing values. "
   ]
  },
  {
   "cell_type": "markdown",
   "metadata": {},
   "source": [
    "<div class=\"alert alert-success\">\n",
    "<b>Reviewer's comment v1</b> Great!"
   ]
  },
  {
   "cell_type": "code",
   "execution_count": 410,
   "metadata": {},
   "outputs": [],
   "source": [
    "def fill_income(row): # Creates a function to fill in missing values in the total_income column\n",
    "    age_group = row['age_group']\n",
    "    education_id = row['education_id']\n",
    "    total_income = row['total_income']\n",
    "    if math.isnan(total_income):\n",
    "        return income_median[education_id][age_group]\n",
    "    else:\n",
    "        return total_income"
   ]
  },
  {
   "cell_type": "code",
   "execution_count": 411,
   "metadata": {},
   "outputs": [
    {
     "data": {
      "text/plain": [
       "25497.392000000003"
      ]
     },
     "execution_count": 411,
     "metadata": {},
     "output_type": "execute_result"
    }
   ],
   "source": [
    "row_values = ['70+', 0, float('NaN')] # Creates a row\n",
    "row_columns = ['age_group', 'education_id', 'total_income'] # Creates columns\n",
    "row = pd.Series(data=row_values, index=row_columns) # Passes the row and columns through the function to make sure we get the expected result\n",
    "\n",
    "fill_income(row)\n"
   ]
  },
  {
   "cell_type": "code",
   "execution_count": 412,
   "metadata": {},
   "outputs": [
    {
     "data": {
      "text/html": [
       "<div>\n",
       "<style scoped>\n",
       "    .dataframe tbody tr th:only-of-type {\n",
       "        vertical-align: middle;\n",
       "    }\n",
       "\n",
       "    .dataframe tbody tr th {\n",
       "        vertical-align: top;\n",
       "    }\n",
       "\n",
       "    .dataframe thead th {\n",
       "        text-align: right;\n",
       "    }\n",
       "</style>\n",
       "<table border=\"1\" class=\"dataframe\">\n",
       "  <thead>\n",
       "    <tr style=\"text-align: right;\">\n",
       "      <th></th>\n",
       "      <th>children</th>\n",
       "      <th>days_employed</th>\n",
       "      <th>dob_years</th>\n",
       "      <th>education</th>\n",
       "      <th>education_id</th>\n",
       "      <th>family_status</th>\n",
       "      <th>family_status_id</th>\n",
       "      <th>gender</th>\n",
       "      <th>income_type</th>\n",
       "      <th>debt</th>\n",
       "      <th>total_income</th>\n",
       "      <th>purpose</th>\n",
       "      <th>age_group</th>\n",
       "      <th>total_income_new</th>\n",
       "    </tr>\n",
       "  </thead>\n",
       "  <tbody>\n",
       "    <tr>\n",
       "      <td>0</td>\n",
       "      <td>1</td>\n",
       "      <td>8437.673028</td>\n",
       "      <td>42</td>\n",
       "      <td>bachelor's degree</td>\n",
       "      <td>0</td>\n",
       "      <td>married</td>\n",
       "      <td>0</td>\n",
       "      <td>F</td>\n",
       "      <td>employee</td>\n",
       "      <td>0</td>\n",
       "      <td>40620.102</td>\n",
       "      <td>purchase of the house</td>\n",
       "      <td>40-49</td>\n",
       "      <td>40620.102</td>\n",
       "    </tr>\n",
       "    <tr>\n",
       "      <td>1</td>\n",
       "      <td>1</td>\n",
       "      <td>4024.803754</td>\n",
       "      <td>36</td>\n",
       "      <td>secondary education</td>\n",
       "      <td>1</td>\n",
       "      <td>married</td>\n",
       "      <td>0</td>\n",
       "      <td>F</td>\n",
       "      <td>employee</td>\n",
       "      <td>0</td>\n",
       "      <td>17932.802</td>\n",
       "      <td>car purchase</td>\n",
       "      <td>30-39</td>\n",
       "      <td>17932.802</td>\n",
       "    </tr>\n",
       "    <tr>\n",
       "      <td>2</td>\n",
       "      <td>0</td>\n",
       "      <td>5623.422610</td>\n",
       "      <td>33</td>\n",
       "      <td>secondary education</td>\n",
       "      <td>1</td>\n",
       "      <td>married</td>\n",
       "      <td>0</td>\n",
       "      <td>M</td>\n",
       "      <td>employee</td>\n",
       "      <td>0</td>\n",
       "      <td>23341.752</td>\n",
       "      <td>purchase of the house</td>\n",
       "      <td>30-39</td>\n",
       "      <td>23341.752</td>\n",
       "    </tr>\n",
       "    <tr>\n",
       "      <td>3</td>\n",
       "      <td>3</td>\n",
       "      <td>4124.747207</td>\n",
       "      <td>32</td>\n",
       "      <td>secondary education</td>\n",
       "      <td>1</td>\n",
       "      <td>married</td>\n",
       "      <td>0</td>\n",
       "      <td>M</td>\n",
       "      <td>employee</td>\n",
       "      <td>0</td>\n",
       "      <td>42820.568</td>\n",
       "      <td>supplementary education</td>\n",
       "      <td>30-39</td>\n",
       "      <td>42820.568</td>\n",
       "    </tr>\n",
       "    <tr>\n",
       "      <td>4</td>\n",
       "      <td>0</td>\n",
       "      <td>340266.072047</td>\n",
       "      <td>53</td>\n",
       "      <td>secondary education</td>\n",
       "      <td>1</td>\n",
       "      <td>civil partnership</td>\n",
       "      <td>1</td>\n",
       "      <td>F</td>\n",
       "      <td>retiree</td>\n",
       "      <td>0</td>\n",
       "      <td>25378.572</td>\n",
       "      <td>to have a wedding</td>\n",
       "      <td>50-59</td>\n",
       "      <td>25378.572</td>\n",
       "    </tr>\n",
       "    <tr>\n",
       "      <td>5</td>\n",
       "      <td>0</td>\n",
       "      <td>926.185831</td>\n",
       "      <td>27</td>\n",
       "      <td>bachelor's degree</td>\n",
       "      <td>0</td>\n",
       "      <td>civil partnership</td>\n",
       "      <td>1</td>\n",
       "      <td>M</td>\n",
       "      <td>business</td>\n",
       "      <td>0</td>\n",
       "      <td>40922.170</td>\n",
       "      <td>purchase of the house</td>\n",
       "      <td>20-29</td>\n",
       "      <td>40922.170</td>\n",
       "    </tr>\n",
       "    <tr>\n",
       "      <td>6</td>\n",
       "      <td>0</td>\n",
       "      <td>2879.202052</td>\n",
       "      <td>43</td>\n",
       "      <td>bachelor's degree</td>\n",
       "      <td>0</td>\n",
       "      <td>married</td>\n",
       "      <td>0</td>\n",
       "      <td>F</td>\n",
       "      <td>business</td>\n",
       "      <td>0</td>\n",
       "      <td>38484.156</td>\n",
       "      <td>housing transactions</td>\n",
       "      <td>40-49</td>\n",
       "      <td>38484.156</td>\n",
       "    </tr>\n",
       "    <tr>\n",
       "      <td>7</td>\n",
       "      <td>0</td>\n",
       "      <td>152.779569</td>\n",
       "      <td>50</td>\n",
       "      <td>secondary education</td>\n",
       "      <td>1</td>\n",
       "      <td>married</td>\n",
       "      <td>0</td>\n",
       "      <td>M</td>\n",
       "      <td>employee</td>\n",
       "      <td>0</td>\n",
       "      <td>21731.829</td>\n",
       "      <td>education</td>\n",
       "      <td>50-59</td>\n",
       "      <td>21731.829</td>\n",
       "    </tr>\n",
       "    <tr>\n",
       "      <td>8</td>\n",
       "      <td>2</td>\n",
       "      <td>6929.865299</td>\n",
       "      <td>35</td>\n",
       "      <td>bachelor's degree</td>\n",
       "      <td>0</td>\n",
       "      <td>civil partnership</td>\n",
       "      <td>1</td>\n",
       "      <td>F</td>\n",
       "      <td>employee</td>\n",
       "      <td>0</td>\n",
       "      <td>15337.093</td>\n",
       "      <td>having a wedding</td>\n",
       "      <td>30-39</td>\n",
       "      <td>15337.093</td>\n",
       "    </tr>\n",
       "    <tr>\n",
       "      <td>9</td>\n",
       "      <td>0</td>\n",
       "      <td>2188.756445</td>\n",
       "      <td>41</td>\n",
       "      <td>secondary education</td>\n",
       "      <td>1</td>\n",
       "      <td>married</td>\n",
       "      <td>0</td>\n",
       "      <td>M</td>\n",
       "      <td>employee</td>\n",
       "      <td>0</td>\n",
       "      <td>23108.150</td>\n",
       "      <td>purchase of the house for my family</td>\n",
       "      <td>40-49</td>\n",
       "      <td>23108.150</td>\n",
       "    </tr>\n",
       "    <tr>\n",
       "      <td>10</td>\n",
       "      <td>2</td>\n",
       "      <td>4171.483647</td>\n",
       "      <td>36</td>\n",
       "      <td>bachelor's degree</td>\n",
       "      <td>0</td>\n",
       "      <td>married</td>\n",
       "      <td>0</td>\n",
       "      <td>M</td>\n",
       "      <td>business</td>\n",
       "      <td>0</td>\n",
       "      <td>18230.959</td>\n",
       "      <td>buy real estate</td>\n",
       "      <td>30-39</td>\n",
       "      <td>18230.959</td>\n",
       "    </tr>\n",
       "    <tr>\n",
       "      <td>11</td>\n",
       "      <td>0</td>\n",
       "      <td>792.701887</td>\n",
       "      <td>40</td>\n",
       "      <td>secondary education</td>\n",
       "      <td>1</td>\n",
       "      <td>married</td>\n",
       "      <td>0</td>\n",
       "      <td>F</td>\n",
       "      <td>employee</td>\n",
       "      <td>0</td>\n",
       "      <td>12331.077</td>\n",
       "      <td>buy commercial real estate</td>\n",
       "      <td>40-49</td>\n",
       "      <td>12331.077</td>\n",
       "    </tr>\n",
       "    <tr>\n",
       "      <td>12</td>\n",
       "      <td>0</td>\n",
       "      <td>NaN</td>\n",
       "      <td>65</td>\n",
       "      <td>secondary education</td>\n",
       "      <td>1</td>\n",
       "      <td>civil partnership</td>\n",
       "      <td>1</td>\n",
       "      <td>M</td>\n",
       "      <td>retiree</td>\n",
       "      <td>0</td>\n",
       "      <td>NaN</td>\n",
       "      <td>to have a wedding</td>\n",
       "      <td>60-69</td>\n",
       "      <td>18873.764</td>\n",
       "    </tr>\n",
       "    <tr>\n",
       "      <td>13</td>\n",
       "      <td>0</td>\n",
       "      <td>1846.641941</td>\n",
       "      <td>54</td>\n",
       "      <td>some college</td>\n",
       "      <td>2</td>\n",
       "      <td>married</td>\n",
       "      <td>0</td>\n",
       "      <td>F</td>\n",
       "      <td>employee</td>\n",
       "      <td>0</td>\n",
       "      <td>20873.317</td>\n",
       "      <td>car purchase</td>\n",
       "      <td>50-59</td>\n",
       "      <td>20873.317</td>\n",
       "    </tr>\n",
       "    <tr>\n",
       "      <td>14</td>\n",
       "      <td>0</td>\n",
       "      <td>1844.956182</td>\n",
       "      <td>56</td>\n",
       "      <td>bachelor's degree</td>\n",
       "      <td>0</td>\n",
       "      <td>civil partnership</td>\n",
       "      <td>1</td>\n",
       "      <td>F</td>\n",
       "      <td>business</td>\n",
       "      <td>1</td>\n",
       "      <td>26420.466</td>\n",
       "      <td>buy residential real estate</td>\n",
       "      <td>50-59</td>\n",
       "      <td>26420.466</td>\n",
       "    </tr>\n",
       "    <tr>\n",
       "      <td>15</td>\n",
       "      <td>1</td>\n",
       "      <td>972.364419</td>\n",
       "      <td>26</td>\n",
       "      <td>secondary education</td>\n",
       "      <td>1</td>\n",
       "      <td>married</td>\n",
       "      <td>0</td>\n",
       "      <td>F</td>\n",
       "      <td>employee</td>\n",
       "      <td>0</td>\n",
       "      <td>18691.345</td>\n",
       "      <td>construction of own property</td>\n",
       "      <td>20-29</td>\n",
       "      <td>18691.345</td>\n",
       "    </tr>\n",
       "    <tr>\n",
       "      <td>16</td>\n",
       "      <td>0</td>\n",
       "      <td>1719.934226</td>\n",
       "      <td>35</td>\n",
       "      <td>secondary education</td>\n",
       "      <td>1</td>\n",
       "      <td>married</td>\n",
       "      <td>0</td>\n",
       "      <td>F</td>\n",
       "      <td>employee</td>\n",
       "      <td>0</td>\n",
       "      <td>46272.433</td>\n",
       "      <td>property</td>\n",
       "      <td>30-39</td>\n",
       "      <td>46272.433</td>\n",
       "    </tr>\n",
       "    <tr>\n",
       "      <td>17</td>\n",
       "      <td>0</td>\n",
       "      <td>2369.999720</td>\n",
       "      <td>33</td>\n",
       "      <td>bachelor's degree</td>\n",
       "      <td>0</td>\n",
       "      <td>civil partnership</td>\n",
       "      <td>1</td>\n",
       "      <td>M</td>\n",
       "      <td>employee</td>\n",
       "      <td>0</td>\n",
       "      <td>14465.694</td>\n",
       "      <td>building a property</td>\n",
       "      <td>30-39</td>\n",
       "      <td>14465.694</td>\n",
       "    </tr>\n",
       "    <tr>\n",
       "      <td>18</td>\n",
       "      <td>0</td>\n",
       "      <td>400281.136913</td>\n",
       "      <td>53</td>\n",
       "      <td>secondary education</td>\n",
       "      <td>1</td>\n",
       "      <td>widow / widower</td>\n",
       "      <td>2</td>\n",
       "      <td>F</td>\n",
       "      <td>retiree</td>\n",
       "      <td>0</td>\n",
       "      <td>9091.804</td>\n",
       "      <td>buying a second-hand car</td>\n",
       "      <td>50-59</td>\n",
       "      <td>9091.804</td>\n",
       "    </tr>\n",
       "    <tr>\n",
       "      <td>19</td>\n",
       "      <td>0</td>\n",
       "      <td>10038.818549</td>\n",
       "      <td>48</td>\n",
       "      <td>secondary education</td>\n",
       "      <td>1</td>\n",
       "      <td>divorced</td>\n",
       "      <td>3</td>\n",
       "      <td>F</td>\n",
       "      <td>employee</td>\n",
       "      <td>0</td>\n",
       "      <td>38852.977</td>\n",
       "      <td>buying my own car</td>\n",
       "      <td>40-49</td>\n",
       "      <td>38852.977</td>\n",
       "    </tr>\n",
       "    <tr>\n",
       "      <td>20</td>\n",
       "      <td>1</td>\n",
       "      <td>1311.604166</td>\n",
       "      <td>36</td>\n",
       "      <td>secondary education</td>\n",
       "      <td>1</td>\n",
       "      <td>married</td>\n",
       "      <td>0</td>\n",
       "      <td>M</td>\n",
       "      <td>employee</td>\n",
       "      <td>0</td>\n",
       "      <td>33528.423</td>\n",
       "      <td>property</td>\n",
       "      <td>30-39</td>\n",
       "      <td>33528.423</td>\n",
       "    </tr>\n",
       "    <tr>\n",
       "      <td>21</td>\n",
       "      <td>1</td>\n",
       "      <td>253.685166</td>\n",
       "      <td>33</td>\n",
       "      <td>secondary education</td>\n",
       "      <td>1</td>\n",
       "      <td>civil partnership</td>\n",
       "      <td>1</td>\n",
       "      <td>F</td>\n",
       "      <td>employee</td>\n",
       "      <td>0</td>\n",
       "      <td>21089.953</td>\n",
       "      <td>car purchase</td>\n",
       "      <td>30-39</td>\n",
       "      <td>21089.953</td>\n",
       "    </tr>\n",
       "    <tr>\n",
       "      <td>22</td>\n",
       "      <td>1</td>\n",
       "      <td>1766.644138</td>\n",
       "      <td>24</td>\n",
       "      <td>secondary education</td>\n",
       "      <td>1</td>\n",
       "      <td>civil partnership</td>\n",
       "      <td>1</td>\n",
       "      <td>F</td>\n",
       "      <td>employee</td>\n",
       "      <td>0</td>\n",
       "      <td>23948.983</td>\n",
       "      <td>buying a second-hand car</td>\n",
       "      <td>20-29</td>\n",
       "      <td>23948.983</td>\n",
       "    </tr>\n",
       "    <tr>\n",
       "      <td>23</td>\n",
       "      <td>0</td>\n",
       "      <td>272.981385</td>\n",
       "      <td>21</td>\n",
       "      <td>bachelor's degree</td>\n",
       "      <td>0</td>\n",
       "      <td>civil partnership</td>\n",
       "      <td>1</td>\n",
       "      <td>M</td>\n",
       "      <td>employee</td>\n",
       "      <td>0</td>\n",
       "      <td>20522.515</td>\n",
       "      <td>to have a wedding</td>\n",
       "      <td>20-29</td>\n",
       "      <td>20522.515</td>\n",
       "    </tr>\n",
       "    <tr>\n",
       "      <td>24</td>\n",
       "      <td>1</td>\n",
       "      <td>338551.952911</td>\n",
       "      <td>57</td>\n",
       "      <td>secondary education</td>\n",
       "      <td>1</td>\n",
       "      <td>unmarried</td>\n",
       "      <td>4</td>\n",
       "      <td>F</td>\n",
       "      <td>retiree</td>\n",
       "      <td>0</td>\n",
       "      <td>46487.558</td>\n",
       "      <td>transactions with commercial real estate</td>\n",
       "      <td>50-59</td>\n",
       "      <td>46487.558</td>\n",
       "    </tr>\n",
       "    <tr>\n",
       "      <td>25</td>\n",
       "      <td>0</td>\n",
       "      <td>363548.489348</td>\n",
       "      <td>67</td>\n",
       "      <td>secondary education</td>\n",
       "      <td>1</td>\n",
       "      <td>married</td>\n",
       "      <td>0</td>\n",
       "      <td>M</td>\n",
       "      <td>retiree</td>\n",
       "      <td>0</td>\n",
       "      <td>8818.041</td>\n",
       "      <td>buy real estate</td>\n",
       "      <td>60-69</td>\n",
       "      <td>8818.041</td>\n",
       "    </tr>\n",
       "    <tr>\n",
       "      <td>26</td>\n",
       "      <td>0</td>\n",
       "      <td>NaN</td>\n",
       "      <td>41</td>\n",
       "      <td>secondary education</td>\n",
       "      <td>1</td>\n",
       "      <td>married</td>\n",
       "      <td>0</td>\n",
       "      <td>M</td>\n",
       "      <td>civil servant</td>\n",
       "      <td>0</td>\n",
       "      <td>NaN</td>\n",
       "      <td>education</td>\n",
       "      <td>40-49</td>\n",
       "      <td>22971.221</td>\n",
       "    </tr>\n",
       "    <tr>\n",
       "      <td>27</td>\n",
       "      <td>0</td>\n",
       "      <td>529.191635</td>\n",
       "      <td>28</td>\n",
       "      <td>bachelor's degree</td>\n",
       "      <td>0</td>\n",
       "      <td>married</td>\n",
       "      <td>0</td>\n",
       "      <td>M</td>\n",
       "      <td>employee</td>\n",
       "      <td>0</td>\n",
       "      <td>49415.837</td>\n",
       "      <td>construction of own property</td>\n",
       "      <td>20-29</td>\n",
       "      <td>49415.837</td>\n",
       "    </tr>\n",
       "    <tr>\n",
       "      <td>28</td>\n",
       "      <td>1</td>\n",
       "      <td>717.274324</td>\n",
       "      <td>26</td>\n",
       "      <td>bachelor's degree</td>\n",
       "      <td>0</td>\n",
       "      <td>married</td>\n",
       "      <td>0</td>\n",
       "      <td>F</td>\n",
       "      <td>employee</td>\n",
       "      <td>0</td>\n",
       "      <td>30058.118</td>\n",
       "      <td>construction of own property</td>\n",
       "      <td>20-29</td>\n",
       "      <td>30058.118</td>\n",
       "    </tr>\n",
       "    <tr>\n",
       "      <td>29</td>\n",
       "      <td>0</td>\n",
       "      <td>NaN</td>\n",
       "      <td>63</td>\n",
       "      <td>secondary education</td>\n",
       "      <td>1</td>\n",
       "      <td>unmarried</td>\n",
       "      <td>4</td>\n",
       "      <td>F</td>\n",
       "      <td>retiree</td>\n",
       "      <td>0</td>\n",
       "      <td>NaN</td>\n",
       "      <td>building a real estate</td>\n",
       "      <td>60-69</td>\n",
       "      <td>18873.764</td>\n",
       "    </tr>\n",
       "  </tbody>\n",
       "</table>\n",
       "</div>"
      ],
      "text/plain": [
       "    children  days_employed  dob_years            education  education_id  \\\n",
       "0          1    8437.673028         42    bachelor's degree             0   \n",
       "1          1    4024.803754         36  secondary education             1   \n",
       "2          0    5623.422610         33  secondary education             1   \n",
       "3          3    4124.747207         32  secondary education             1   \n",
       "4          0  340266.072047         53  secondary education             1   \n",
       "5          0     926.185831         27    bachelor's degree             0   \n",
       "6          0    2879.202052         43    bachelor's degree             0   \n",
       "7          0     152.779569         50  secondary education             1   \n",
       "8          2    6929.865299         35    bachelor's degree             0   \n",
       "9          0    2188.756445         41  secondary education             1   \n",
       "10         2    4171.483647         36    bachelor's degree             0   \n",
       "11         0     792.701887         40  secondary education             1   \n",
       "12         0            NaN         65  secondary education             1   \n",
       "13         0    1846.641941         54         some college             2   \n",
       "14         0    1844.956182         56    bachelor's degree             0   \n",
       "15         1     972.364419         26  secondary education             1   \n",
       "16         0    1719.934226         35  secondary education             1   \n",
       "17         0    2369.999720         33    bachelor's degree             0   \n",
       "18         0  400281.136913         53  secondary education             1   \n",
       "19         0   10038.818549         48  secondary education             1   \n",
       "20         1    1311.604166         36  secondary education             1   \n",
       "21         1     253.685166         33  secondary education             1   \n",
       "22         1    1766.644138         24  secondary education             1   \n",
       "23         0     272.981385         21    bachelor's degree             0   \n",
       "24         1  338551.952911         57  secondary education             1   \n",
       "25         0  363548.489348         67  secondary education             1   \n",
       "26         0            NaN         41  secondary education             1   \n",
       "27         0     529.191635         28    bachelor's degree             0   \n",
       "28         1     717.274324         26    bachelor's degree             0   \n",
       "29         0            NaN         63  secondary education             1   \n",
       "\n",
       "        family_status  family_status_id gender    income_type  debt  \\\n",
       "0             married                 0      F       employee     0   \n",
       "1             married                 0      F       employee     0   \n",
       "2             married                 0      M       employee     0   \n",
       "3             married                 0      M       employee     0   \n",
       "4   civil partnership                 1      F        retiree     0   \n",
       "5   civil partnership                 1      M       business     0   \n",
       "6             married                 0      F       business     0   \n",
       "7             married                 0      M       employee     0   \n",
       "8   civil partnership                 1      F       employee     0   \n",
       "9             married                 0      M       employee     0   \n",
       "10            married                 0      M       business     0   \n",
       "11            married                 0      F       employee     0   \n",
       "12  civil partnership                 1      M        retiree     0   \n",
       "13            married                 0      F       employee     0   \n",
       "14  civil partnership                 1      F       business     1   \n",
       "15            married                 0      F       employee     0   \n",
       "16            married                 0      F       employee     0   \n",
       "17  civil partnership                 1      M       employee     0   \n",
       "18    widow / widower                 2      F        retiree     0   \n",
       "19           divorced                 3      F       employee     0   \n",
       "20            married                 0      M       employee     0   \n",
       "21  civil partnership                 1      F       employee     0   \n",
       "22  civil partnership                 1      F       employee     0   \n",
       "23  civil partnership                 1      M       employee     0   \n",
       "24          unmarried                 4      F        retiree     0   \n",
       "25            married                 0      M        retiree     0   \n",
       "26            married                 0      M  civil servant     0   \n",
       "27            married                 0      M       employee     0   \n",
       "28            married                 0      F       employee     0   \n",
       "29          unmarried                 4      F        retiree     0   \n",
       "\n",
       "    total_income                                   purpose age_group  \\\n",
       "0      40620.102                     purchase of the house     40-49   \n",
       "1      17932.802                              car purchase     30-39   \n",
       "2      23341.752                     purchase of the house     30-39   \n",
       "3      42820.568                   supplementary education     30-39   \n",
       "4      25378.572                         to have a wedding     50-59   \n",
       "5      40922.170                     purchase of the house     20-29   \n",
       "6      38484.156                      housing transactions     40-49   \n",
       "7      21731.829                                 education     50-59   \n",
       "8      15337.093                          having a wedding     30-39   \n",
       "9      23108.150       purchase of the house for my family     40-49   \n",
       "10     18230.959                           buy real estate     30-39   \n",
       "11     12331.077                buy commercial real estate     40-49   \n",
       "12           NaN                         to have a wedding     60-69   \n",
       "13     20873.317                              car purchase     50-59   \n",
       "14     26420.466               buy residential real estate     50-59   \n",
       "15     18691.345              construction of own property     20-29   \n",
       "16     46272.433                                  property     30-39   \n",
       "17     14465.694                       building a property     30-39   \n",
       "18      9091.804                  buying a second-hand car     50-59   \n",
       "19     38852.977                         buying my own car     40-49   \n",
       "20     33528.423                                  property     30-39   \n",
       "21     21089.953                              car purchase     30-39   \n",
       "22     23948.983                  buying a second-hand car     20-29   \n",
       "23     20522.515                         to have a wedding     20-29   \n",
       "24     46487.558  transactions with commercial real estate     50-59   \n",
       "25      8818.041                           buy real estate     60-69   \n",
       "26           NaN                                 education     40-49   \n",
       "27     49415.837              construction of own property     20-29   \n",
       "28     30058.118              construction of own property     20-29   \n",
       "29           NaN                    building a real estate     60-69   \n",
       "\n",
       "    total_income_new  \n",
       "0          40620.102  \n",
       "1          17932.802  \n",
       "2          23341.752  \n",
       "3          42820.568  \n",
       "4          25378.572  \n",
       "5          40922.170  \n",
       "6          38484.156  \n",
       "7          21731.829  \n",
       "8          15337.093  \n",
       "9          23108.150  \n",
       "10         18230.959  \n",
       "11         12331.077  \n",
       "12         18873.764  \n",
       "13         20873.317  \n",
       "14         26420.466  \n",
       "15         18691.345  \n",
       "16         46272.433  \n",
       "17         14465.694  \n",
       "18          9091.804  \n",
       "19         38852.977  \n",
       "20         33528.423  \n",
       "21         21089.953  \n",
       "22         23948.983  \n",
       "23         20522.515  \n",
       "24         46487.558  \n",
       "25          8818.041  \n",
       "26         22971.221  \n",
       "27         49415.837  \n",
       "28         30058.118  \n",
       "29         18873.764  "
      ]
     },
     "execution_count": 412,
     "metadata": {},
     "output_type": "execute_result"
    }
   ],
   "source": [
    "loan_data['total_income_new'] = loan_data.apply(lambda x: fill_income(x), axis=1) # Applies the function to the loan_data dataframe and returns value to new column\n",
    "\n",
    "loan_data.head(30) # Checks that the table has the new column "
   ]
  },
  {
   "cell_type": "code",
   "execution_count": 413,
   "metadata": {},
   "outputs": [
    {
     "data": {
      "text/plain": [
       "0"
      ]
     },
     "execution_count": 413,
     "metadata": {},
     "output_type": "execute_result"
    }
   ],
   "source": [
    "loan_data['total_income_new'].isna().sum() # Checks to make sure the new column got rid of null values "
   ]
  },
  {
   "cell_type": "code",
   "execution_count": 414,
   "metadata": {},
   "outputs": [
    {
     "name": "stdout",
     "output_type": "stream",
     "text": [
      "<class 'pandas.core.frame.DataFrame'>\n",
      "Int64Index: 21377 entries, 0 to 21524\n",
      "Data columns (total 14 columns):\n",
      "children            21377 non-null int64\n",
      "days_employed       19216 non-null float64\n",
      "dob_years           21377 non-null int64\n",
      "education           21377 non-null object\n",
      "education_id        21377 non-null int64\n",
      "family_status       21377 non-null object\n",
      "family_status_id    21377 non-null int64\n",
      "gender              21377 non-null object\n",
      "income_type         21377 non-null object\n",
      "debt                21377 non-null int64\n",
      "total_income        19216 non-null float64\n",
      "purpose             21377 non-null object\n",
      "age_group           21377 non-null object\n",
      "total_income_new    21377 non-null float64\n",
      "dtypes: float64(3), int64(5), object(6)\n",
      "memory usage: 2.4+ MB\n"
     ]
    }
   ],
   "source": [
    "loan_data.info() # Checks the number of entries in the columns"
   ]
  },
  {
   "cell_type": "markdown",
   "metadata": {},
   "source": [
    "###  Restoring values in `days_employed`"
   ]
  },
  {
   "cell_type": "code",
   "execution_count": 415,
   "metadata": {
    "pycharm": {
     "name": "#%%\n"
    }
   },
   "outputs": [
    {
     "data": {
      "text/html": [
       "<div>\n",
       "<style scoped>\n",
       "    .dataframe tbody tr th:only-of-type {\n",
       "        vertical-align: middle;\n",
       "    }\n",
       "\n",
       "    .dataframe tbody tr th {\n",
       "        vertical-align: top;\n",
       "    }\n",
       "\n",
       "    .dataframe thead th {\n",
       "        text-align: right;\n",
       "    }\n",
       "</style>\n",
       "<table border=\"1\" class=\"dataframe\">\n",
       "  <thead>\n",
       "    <tr style=\"text-align: right;\">\n",
       "      <th>education_id</th>\n",
       "      <th>0</th>\n",
       "      <th>1</th>\n",
       "      <th>2</th>\n",
       "      <th>3</th>\n",
       "      <th>4</th>\n",
       "    </tr>\n",
       "    <tr>\n",
       "      <th>age_group</th>\n",
       "      <th></th>\n",
       "      <th></th>\n",
       "      <th></th>\n",
       "      <th></th>\n",
       "      <th></th>\n",
       "    </tr>\n",
       "  </thead>\n",
       "  <tbody>\n",
       "    <tr>\n",
       "      <td>10-19</td>\n",
       "      <td>NaN</td>\n",
       "      <td>640.290559</td>\n",
       "      <td>796.983636</td>\n",
       "      <td>NaN</td>\n",
       "      <td>NaN</td>\n",
       "    </tr>\n",
       "    <tr>\n",
       "      <td>20-29</td>\n",
       "      <td>1005.389899</td>\n",
       "      <td>1018.350987</td>\n",
       "      <td>891.699189</td>\n",
       "      <td>1030.219648</td>\n",
       "      <td>NaN</td>\n",
       "    </tr>\n",
       "    <tr>\n",
       "      <td>30-39</td>\n",
       "      <td>1598.195256</td>\n",
       "      <td>1639.634599</td>\n",
       "      <td>1209.230373</td>\n",
       "      <td>1110.847169</td>\n",
       "      <td>4159.753909</td>\n",
       "    </tr>\n",
       "    <tr>\n",
       "      <td>40-49</td>\n",
       "      <td>2080.471069</td>\n",
       "      <td>2130.417977</td>\n",
       "      <td>2063.961740</td>\n",
       "      <td>1108.837429</td>\n",
       "      <td>409.200149</td>\n",
       "    </tr>\n",
       "    <tr>\n",
       "      <td>50-59</td>\n",
       "      <td>4109.333294</td>\n",
       "      <td>5131.992936</td>\n",
       "      <td>2917.701025</td>\n",
       "      <td>334483.493054</td>\n",
       "      <td>5352.038180</td>\n",
       "    </tr>\n",
       "    <tr>\n",
       "      <td>60-69</td>\n",
       "      <td>342046.496714</td>\n",
       "      <td>356180.806455</td>\n",
       "      <td>352184.250110</td>\n",
       "      <td>358139.948376</td>\n",
       "      <td>356930.517546</td>\n",
       "    </tr>\n",
       "    <tr>\n",
       "      <td>70+</td>\n",
       "      <td>352635.085407</td>\n",
       "      <td>362034.079738</td>\n",
       "      <td>396422.414465</td>\n",
       "      <td>360639.907161</td>\n",
       "      <td>NaN</td>\n",
       "    </tr>\n",
       "  </tbody>\n",
       "</table>\n",
       "</div>"
      ],
      "text/plain": [
       "education_id              0              1              2              3  \\\n",
       "age_group                                                                  \n",
       "10-19                   NaN     640.290559     796.983636            NaN   \n",
       "20-29           1005.389899    1018.350987     891.699189    1030.219648   \n",
       "30-39           1598.195256    1639.634599    1209.230373    1110.847169   \n",
       "40-49           2080.471069    2130.417977    2063.961740    1108.837429   \n",
       "50-59           4109.333294    5131.992936    2917.701025  334483.493054   \n",
       "60-69         342046.496714  356180.806455  352184.250110  358139.948376   \n",
       "70+           352635.085407  362034.079738  396422.414465  360639.907161   \n",
       "\n",
       "education_id              4  \n",
       "age_group                    \n",
       "10-19                   NaN  \n",
       "20-29                   NaN  \n",
       "30-39           4159.753909  \n",
       "40-49            409.200149  \n",
       "50-59           5352.038180  \n",
       "60-69         356930.517546  \n",
       "70+                     NaN  "
      ]
     },
     "execution_count": 415,
     "metadata": {},
     "output_type": "execute_result"
    }
   ],
   "source": [
    "days_employed_median = loan_data_filtered.pivot_table(index=['age_group'], columns=['education_id'], values='days_employed', aggfunc='median') # Looks at distribution of `days_employed` medians based on education_id\n",
    "\n",
    "days_employed_median\n"
   ]
  },
  {
   "cell_type": "code",
   "execution_count": 416,
   "metadata": {},
   "outputs": [
    {
     "data": {
      "text/html": [
       "<div>\n",
       "<style scoped>\n",
       "    .dataframe tbody tr th:only-of-type {\n",
       "        vertical-align: middle;\n",
       "    }\n",
       "\n",
       "    .dataframe tbody tr th {\n",
       "        vertical-align: top;\n",
       "    }\n",
       "\n",
       "    .dataframe thead th {\n",
       "        text-align: right;\n",
       "    }\n",
       "</style>\n",
       "<table border=\"1\" class=\"dataframe\">\n",
       "  <thead>\n",
       "    <tr style=\"text-align: right;\">\n",
       "      <th>education_id</th>\n",
       "      <th>0</th>\n",
       "      <th>1</th>\n",
       "      <th>2</th>\n",
       "      <th>3</th>\n",
       "      <th>4</th>\n",
       "    </tr>\n",
       "    <tr>\n",
       "      <th>age_group</th>\n",
       "      <th></th>\n",
       "      <th></th>\n",
       "      <th></th>\n",
       "      <th></th>\n",
       "      <th></th>\n",
       "    </tr>\n",
       "  </thead>\n",
       "  <tbody>\n",
       "    <tr>\n",
       "      <td>10-19</td>\n",
       "      <td>NaN</td>\n",
       "      <td>550.174786</td>\n",
       "      <td>767.283365</td>\n",
       "      <td>NaN</td>\n",
       "      <td>NaN</td>\n",
       "    </tr>\n",
       "    <tr>\n",
       "      <td>20-29</td>\n",
       "      <td>1643.408086</td>\n",
       "      <td>2314.388515</td>\n",
       "      <td>1050.326009</td>\n",
       "      <td>1236.562385</td>\n",
       "      <td>NaN</td>\n",
       "    </tr>\n",
       "    <tr>\n",
       "      <td>30-39</td>\n",
       "      <td>3325.186149</td>\n",
       "      <td>4623.358528</td>\n",
       "      <td>1574.576678</td>\n",
       "      <td>7233.407335</td>\n",
       "      <td>4159.753909</td>\n",
       "    </tr>\n",
       "    <tr>\n",
       "      <td>40-49</td>\n",
       "      <td>11406.384940</td>\n",
       "      <td>12544.778139</td>\n",
       "      <td>12673.184467</td>\n",
       "      <td>17720.818483</td>\n",
       "      <td>409.200149</td>\n",
       "    </tr>\n",
       "    <tr>\n",
       "      <td>50-59</td>\n",
       "      <td>109021.282638</td>\n",
       "      <td>137948.961319</td>\n",
       "      <td>110861.951090</td>\n",
       "      <td>204410.044227</td>\n",
       "      <td>5352.038180</td>\n",
       "    </tr>\n",
       "    <tr>\n",
       "      <td>60-69</td>\n",
       "      <td>234253.941889</td>\n",
       "      <td>294402.445053</td>\n",
       "      <td>234832.804041</td>\n",
       "      <td>321462.637175</td>\n",
       "      <td>356930.517546</td>\n",
       "    </tr>\n",
       "    <tr>\n",
       "      <td>70+</td>\n",
       "      <td>303999.187231</td>\n",
       "      <td>320231.552828</td>\n",
       "      <td>381900.045298</td>\n",
       "      <td>360567.950991</td>\n",
       "      <td>NaN</td>\n",
       "    </tr>\n",
       "  </tbody>\n",
       "</table>\n",
       "</div>"
      ],
      "text/plain": [
       "education_id              0              1              2              3  \\\n",
       "age_group                                                                  \n",
       "10-19                   NaN     550.174786     767.283365            NaN   \n",
       "20-29           1643.408086    2314.388515    1050.326009    1236.562385   \n",
       "30-39           3325.186149    4623.358528    1574.576678    7233.407335   \n",
       "40-49          11406.384940   12544.778139   12673.184467   17720.818483   \n",
       "50-59         109021.282638  137948.961319  110861.951090  204410.044227   \n",
       "60-69         234253.941889  294402.445053  234832.804041  321462.637175   \n",
       "70+           303999.187231  320231.552828  381900.045298  360567.950991   \n",
       "\n",
       "education_id              4  \n",
       "age_group                    \n",
       "10-19                   NaN  \n",
       "20-29                   NaN  \n",
       "30-39           4159.753909  \n",
       "40-49            409.200149  \n",
       "50-59           5352.038180  \n",
       "60-69         356930.517546  \n",
       "70+                     NaN  "
      ]
     },
     "execution_count": 416,
     "metadata": {},
     "output_type": "execute_result"
    }
   ],
   "source": [
    "days_employed_mean = loan_data_filtered.pivot_table(index=['age_group'], columns=['education_id'], values='days_employed', aggfunc='mean') # Looks at distribution of `days_employed` means based on education_id\n",
    "\n",
    "days_employed_mean"
   ]
  },
  {
   "cell_type": "markdown",
   "metadata": {},
   "source": [
    "**Observations**\n",
    "\n",
    "By comparing the medians and means, we can see that the means for some categories vary significantly from the medians, indicating there are outliers for those data. Therefore, I will use the medians to represent the data. "
   ]
  },
  {
   "cell_type": "code",
   "execution_count": 417,
   "metadata": {},
   "outputs": [],
   "source": [
    "def fill_days_employed(row): # Creates a function to fill in missing values in days_employed with the median based on age_group and education level \n",
    "    age_group = row['age_group']\n",
    "    education_id = row['education_id']\n",
    "    days_employed = row['days_employed']\n",
    "    if math.isnan(days_employed):\n",
    "        return days_employed_median[education_id][age_group]\n",
    "    else:\n",
    "        return days_employed\n"
   ]
  },
  {
   "cell_type": "code",
   "execution_count": 418,
   "metadata": {},
   "outputs": [
    {
     "data": {
      "text/plain": [
       "1018.3509869969278"
      ]
     },
     "execution_count": 418,
     "metadata": {},
     "output_type": "execute_result"
    }
   ],
   "source": [
    "row_values = ['20-29', 1, float('NaN')] # Creates a row\n",
    "row_columns = ['age_group', 'education_id', 'days_employed'] # Creates columns \n",
    "row = pd.Series(data=row_values, index=row_columns) # Passes the row and columns through the function to make sure we get the expected result\n",
    "\n",
    "fill_days_employed(row)\n"
   ]
  },
  {
   "cell_type": "code",
   "execution_count": 419,
   "metadata": {},
   "outputs": [],
   "source": [
    "loan_data['days_employed_new'] = loan_data.apply(lambda x: fill_days_employed(x), axis=1) # Applys the function to the income_type\n",
    "\n"
   ]
  },
  {
   "cell_type": "code",
   "execution_count": 420,
   "metadata": {},
   "outputs": [
    {
     "data": {
      "text/plain": [
       "0"
      ]
     },
     "execution_count": 420,
     "metadata": {},
     "output_type": "execute_result"
    }
   ],
   "source": [
    "loan_data.head(30) # Checks that the function worked by calling the dataframe\n",
    "\n",
    "loan_data['days_employed_new'].isna().sum() # Checks to make sure we no longer have null values in the new days employed column"
   ]
  },
  {
   "cell_type": "markdown",
   "metadata": {},
   "source": [
    "<div class=\"alert alert-success\">\n",
    "<b>Reviewer's comment v1</b> Great job on filling missing values!"
   ]
  },
  {
   "cell_type": "markdown",
   "metadata": {},
   "source": [
    "## Categorization of data\n",
    "\n",
    "**Observations**\n",
    "\n",
    "* Based on the data needed to test the hypothesis, I will look at the columns children, family status and total_income to look at whether I need to do further categorization for analysis. "
   ]
  },
  {
   "cell_type": "code",
   "execution_count": 421,
   "metadata": {
    "scrolled": false
   },
   "outputs": [
    {
     "data": {
      "text/html": [
       "<div>\n",
       "<style scoped>\n",
       "    .dataframe tbody tr th:only-of-type {\n",
       "        vertical-align: middle;\n",
       "    }\n",
       "\n",
       "    .dataframe tbody tr th {\n",
       "        vertical-align: top;\n",
       "    }\n",
       "\n",
       "    .dataframe thead th {\n",
       "        text-align: right;\n",
       "    }\n",
       "</style>\n",
       "<table border=\"1\" class=\"dataframe\">\n",
       "  <thead>\n",
       "    <tr style=\"text-align: right;\">\n",
       "      <th></th>\n",
       "      <th>children</th>\n",
       "      <th>days_employed</th>\n",
       "      <th>dob_years</th>\n",
       "      <th>education</th>\n",
       "      <th>education_id</th>\n",
       "      <th>family_status</th>\n",
       "      <th>family_status_id</th>\n",
       "      <th>gender</th>\n",
       "      <th>income_type</th>\n",
       "      <th>debt</th>\n",
       "      <th>total_income</th>\n",
       "      <th>purpose</th>\n",
       "      <th>age_group</th>\n",
       "      <th>total_income_new</th>\n",
       "      <th>days_employed_new</th>\n",
       "    </tr>\n",
       "  </thead>\n",
       "  <tbody>\n",
       "    <tr>\n",
       "      <td>0</td>\n",
       "      <td>1</td>\n",
       "      <td>8437.673028</td>\n",
       "      <td>42</td>\n",
       "      <td>bachelor's degree</td>\n",
       "      <td>0</td>\n",
       "      <td>married</td>\n",
       "      <td>0</td>\n",
       "      <td>F</td>\n",
       "      <td>employee</td>\n",
       "      <td>0</td>\n",
       "      <td>40620.102</td>\n",
       "      <td>purchase of the house</td>\n",
       "      <td>40-49</td>\n",
       "      <td>40620.102</td>\n",
       "      <td>8437.673028</td>\n",
       "    </tr>\n",
       "    <tr>\n",
       "      <td>1</td>\n",
       "      <td>1</td>\n",
       "      <td>4024.803754</td>\n",
       "      <td>36</td>\n",
       "      <td>secondary education</td>\n",
       "      <td>1</td>\n",
       "      <td>married</td>\n",
       "      <td>0</td>\n",
       "      <td>F</td>\n",
       "      <td>employee</td>\n",
       "      <td>0</td>\n",
       "      <td>17932.802</td>\n",
       "      <td>car purchase</td>\n",
       "      <td>30-39</td>\n",
       "      <td>17932.802</td>\n",
       "      <td>4024.803754</td>\n",
       "    </tr>\n",
       "    <tr>\n",
       "      <td>2</td>\n",
       "      <td>0</td>\n",
       "      <td>5623.422610</td>\n",
       "      <td>33</td>\n",
       "      <td>secondary education</td>\n",
       "      <td>1</td>\n",
       "      <td>married</td>\n",
       "      <td>0</td>\n",
       "      <td>M</td>\n",
       "      <td>employee</td>\n",
       "      <td>0</td>\n",
       "      <td>23341.752</td>\n",
       "      <td>purchase of the house</td>\n",
       "      <td>30-39</td>\n",
       "      <td>23341.752</td>\n",
       "      <td>5623.422610</td>\n",
       "    </tr>\n",
       "    <tr>\n",
       "      <td>3</td>\n",
       "      <td>3</td>\n",
       "      <td>4124.747207</td>\n",
       "      <td>32</td>\n",
       "      <td>secondary education</td>\n",
       "      <td>1</td>\n",
       "      <td>married</td>\n",
       "      <td>0</td>\n",
       "      <td>M</td>\n",
       "      <td>employee</td>\n",
       "      <td>0</td>\n",
       "      <td>42820.568</td>\n",
       "      <td>supplementary education</td>\n",
       "      <td>30-39</td>\n",
       "      <td>42820.568</td>\n",
       "      <td>4124.747207</td>\n",
       "    </tr>\n",
       "    <tr>\n",
       "      <td>4</td>\n",
       "      <td>0</td>\n",
       "      <td>340266.072047</td>\n",
       "      <td>53</td>\n",
       "      <td>secondary education</td>\n",
       "      <td>1</td>\n",
       "      <td>civil partnership</td>\n",
       "      <td>1</td>\n",
       "      <td>F</td>\n",
       "      <td>retiree</td>\n",
       "      <td>0</td>\n",
       "      <td>25378.572</td>\n",
       "      <td>to have a wedding</td>\n",
       "      <td>50-59</td>\n",
       "      <td>25378.572</td>\n",
       "      <td>340266.072047</td>\n",
       "    </tr>\n",
       "    <tr>\n",
       "      <td>5</td>\n",
       "      <td>0</td>\n",
       "      <td>926.185831</td>\n",
       "      <td>27</td>\n",
       "      <td>bachelor's degree</td>\n",
       "      <td>0</td>\n",
       "      <td>civil partnership</td>\n",
       "      <td>1</td>\n",
       "      <td>M</td>\n",
       "      <td>business</td>\n",
       "      <td>0</td>\n",
       "      <td>40922.170</td>\n",
       "      <td>purchase of the house</td>\n",
       "      <td>20-29</td>\n",
       "      <td>40922.170</td>\n",
       "      <td>926.185831</td>\n",
       "    </tr>\n",
       "    <tr>\n",
       "      <td>6</td>\n",
       "      <td>0</td>\n",
       "      <td>2879.202052</td>\n",
       "      <td>43</td>\n",
       "      <td>bachelor's degree</td>\n",
       "      <td>0</td>\n",
       "      <td>married</td>\n",
       "      <td>0</td>\n",
       "      <td>F</td>\n",
       "      <td>business</td>\n",
       "      <td>0</td>\n",
       "      <td>38484.156</td>\n",
       "      <td>housing transactions</td>\n",
       "      <td>40-49</td>\n",
       "      <td>38484.156</td>\n",
       "      <td>2879.202052</td>\n",
       "    </tr>\n",
       "    <tr>\n",
       "      <td>7</td>\n",
       "      <td>0</td>\n",
       "      <td>152.779569</td>\n",
       "      <td>50</td>\n",
       "      <td>secondary education</td>\n",
       "      <td>1</td>\n",
       "      <td>married</td>\n",
       "      <td>0</td>\n",
       "      <td>M</td>\n",
       "      <td>employee</td>\n",
       "      <td>0</td>\n",
       "      <td>21731.829</td>\n",
       "      <td>education</td>\n",
       "      <td>50-59</td>\n",
       "      <td>21731.829</td>\n",
       "      <td>152.779569</td>\n",
       "    </tr>\n",
       "    <tr>\n",
       "      <td>8</td>\n",
       "      <td>2</td>\n",
       "      <td>6929.865299</td>\n",
       "      <td>35</td>\n",
       "      <td>bachelor's degree</td>\n",
       "      <td>0</td>\n",
       "      <td>civil partnership</td>\n",
       "      <td>1</td>\n",
       "      <td>F</td>\n",
       "      <td>employee</td>\n",
       "      <td>0</td>\n",
       "      <td>15337.093</td>\n",
       "      <td>having a wedding</td>\n",
       "      <td>30-39</td>\n",
       "      <td>15337.093</td>\n",
       "      <td>6929.865299</td>\n",
       "    </tr>\n",
       "    <tr>\n",
       "      <td>9</td>\n",
       "      <td>0</td>\n",
       "      <td>2188.756445</td>\n",
       "      <td>41</td>\n",
       "      <td>secondary education</td>\n",
       "      <td>1</td>\n",
       "      <td>married</td>\n",
       "      <td>0</td>\n",
       "      <td>M</td>\n",
       "      <td>employee</td>\n",
       "      <td>0</td>\n",
       "      <td>23108.150</td>\n",
       "      <td>purchase of the house for my family</td>\n",
       "      <td>40-49</td>\n",
       "      <td>23108.150</td>\n",
       "      <td>2188.756445</td>\n",
       "    </tr>\n",
       "    <tr>\n",
       "      <td>10</td>\n",
       "      <td>2</td>\n",
       "      <td>4171.483647</td>\n",
       "      <td>36</td>\n",
       "      <td>bachelor's degree</td>\n",
       "      <td>0</td>\n",
       "      <td>married</td>\n",
       "      <td>0</td>\n",
       "      <td>M</td>\n",
       "      <td>business</td>\n",
       "      <td>0</td>\n",
       "      <td>18230.959</td>\n",
       "      <td>buy real estate</td>\n",
       "      <td>30-39</td>\n",
       "      <td>18230.959</td>\n",
       "      <td>4171.483647</td>\n",
       "    </tr>\n",
       "    <tr>\n",
       "      <td>11</td>\n",
       "      <td>0</td>\n",
       "      <td>792.701887</td>\n",
       "      <td>40</td>\n",
       "      <td>secondary education</td>\n",
       "      <td>1</td>\n",
       "      <td>married</td>\n",
       "      <td>0</td>\n",
       "      <td>F</td>\n",
       "      <td>employee</td>\n",
       "      <td>0</td>\n",
       "      <td>12331.077</td>\n",
       "      <td>buy commercial real estate</td>\n",
       "      <td>40-49</td>\n",
       "      <td>12331.077</td>\n",
       "      <td>792.701887</td>\n",
       "    </tr>\n",
       "    <tr>\n",
       "      <td>12</td>\n",
       "      <td>0</td>\n",
       "      <td>NaN</td>\n",
       "      <td>65</td>\n",
       "      <td>secondary education</td>\n",
       "      <td>1</td>\n",
       "      <td>civil partnership</td>\n",
       "      <td>1</td>\n",
       "      <td>M</td>\n",
       "      <td>retiree</td>\n",
       "      <td>0</td>\n",
       "      <td>NaN</td>\n",
       "      <td>to have a wedding</td>\n",
       "      <td>60-69</td>\n",
       "      <td>18873.764</td>\n",
       "      <td>356180.806455</td>\n",
       "    </tr>\n",
       "    <tr>\n",
       "      <td>13</td>\n",
       "      <td>0</td>\n",
       "      <td>1846.641941</td>\n",
       "      <td>54</td>\n",
       "      <td>some college</td>\n",
       "      <td>2</td>\n",
       "      <td>married</td>\n",
       "      <td>0</td>\n",
       "      <td>F</td>\n",
       "      <td>employee</td>\n",
       "      <td>0</td>\n",
       "      <td>20873.317</td>\n",
       "      <td>car purchase</td>\n",
       "      <td>50-59</td>\n",
       "      <td>20873.317</td>\n",
       "      <td>1846.641941</td>\n",
       "    </tr>\n",
       "    <tr>\n",
       "      <td>14</td>\n",
       "      <td>0</td>\n",
       "      <td>1844.956182</td>\n",
       "      <td>56</td>\n",
       "      <td>bachelor's degree</td>\n",
       "      <td>0</td>\n",
       "      <td>civil partnership</td>\n",
       "      <td>1</td>\n",
       "      <td>F</td>\n",
       "      <td>business</td>\n",
       "      <td>1</td>\n",
       "      <td>26420.466</td>\n",
       "      <td>buy residential real estate</td>\n",
       "      <td>50-59</td>\n",
       "      <td>26420.466</td>\n",
       "      <td>1844.956182</td>\n",
       "    </tr>\n",
       "    <tr>\n",
       "      <td>15</td>\n",
       "      <td>1</td>\n",
       "      <td>972.364419</td>\n",
       "      <td>26</td>\n",
       "      <td>secondary education</td>\n",
       "      <td>1</td>\n",
       "      <td>married</td>\n",
       "      <td>0</td>\n",
       "      <td>F</td>\n",
       "      <td>employee</td>\n",
       "      <td>0</td>\n",
       "      <td>18691.345</td>\n",
       "      <td>construction of own property</td>\n",
       "      <td>20-29</td>\n",
       "      <td>18691.345</td>\n",
       "      <td>972.364419</td>\n",
       "    </tr>\n",
       "    <tr>\n",
       "      <td>16</td>\n",
       "      <td>0</td>\n",
       "      <td>1719.934226</td>\n",
       "      <td>35</td>\n",
       "      <td>secondary education</td>\n",
       "      <td>1</td>\n",
       "      <td>married</td>\n",
       "      <td>0</td>\n",
       "      <td>F</td>\n",
       "      <td>employee</td>\n",
       "      <td>0</td>\n",
       "      <td>46272.433</td>\n",
       "      <td>property</td>\n",
       "      <td>30-39</td>\n",
       "      <td>46272.433</td>\n",
       "      <td>1719.934226</td>\n",
       "    </tr>\n",
       "    <tr>\n",
       "      <td>17</td>\n",
       "      <td>0</td>\n",
       "      <td>2369.999720</td>\n",
       "      <td>33</td>\n",
       "      <td>bachelor's degree</td>\n",
       "      <td>0</td>\n",
       "      <td>civil partnership</td>\n",
       "      <td>1</td>\n",
       "      <td>M</td>\n",
       "      <td>employee</td>\n",
       "      <td>0</td>\n",
       "      <td>14465.694</td>\n",
       "      <td>building a property</td>\n",
       "      <td>30-39</td>\n",
       "      <td>14465.694</td>\n",
       "      <td>2369.999720</td>\n",
       "    </tr>\n",
       "    <tr>\n",
       "      <td>18</td>\n",
       "      <td>0</td>\n",
       "      <td>400281.136913</td>\n",
       "      <td>53</td>\n",
       "      <td>secondary education</td>\n",
       "      <td>1</td>\n",
       "      <td>widow / widower</td>\n",
       "      <td>2</td>\n",
       "      <td>F</td>\n",
       "      <td>retiree</td>\n",
       "      <td>0</td>\n",
       "      <td>9091.804</td>\n",
       "      <td>buying a second-hand car</td>\n",
       "      <td>50-59</td>\n",
       "      <td>9091.804</td>\n",
       "      <td>400281.136913</td>\n",
       "    </tr>\n",
       "    <tr>\n",
       "      <td>19</td>\n",
       "      <td>0</td>\n",
       "      <td>10038.818549</td>\n",
       "      <td>48</td>\n",
       "      <td>secondary education</td>\n",
       "      <td>1</td>\n",
       "      <td>divorced</td>\n",
       "      <td>3</td>\n",
       "      <td>F</td>\n",
       "      <td>employee</td>\n",
       "      <td>0</td>\n",
       "      <td>38852.977</td>\n",
       "      <td>buying my own car</td>\n",
       "      <td>40-49</td>\n",
       "      <td>38852.977</td>\n",
       "      <td>10038.818549</td>\n",
       "    </tr>\n",
       "  </tbody>\n",
       "</table>\n",
       "</div>"
      ],
      "text/plain": [
       "    children  days_employed  dob_years            education  education_id  \\\n",
       "0          1    8437.673028         42    bachelor's degree             0   \n",
       "1          1    4024.803754         36  secondary education             1   \n",
       "2          0    5623.422610         33  secondary education             1   \n",
       "3          3    4124.747207         32  secondary education             1   \n",
       "4          0  340266.072047         53  secondary education             1   \n",
       "5          0     926.185831         27    bachelor's degree             0   \n",
       "6          0    2879.202052         43    bachelor's degree             0   \n",
       "7          0     152.779569         50  secondary education             1   \n",
       "8          2    6929.865299         35    bachelor's degree             0   \n",
       "9          0    2188.756445         41  secondary education             1   \n",
       "10         2    4171.483647         36    bachelor's degree             0   \n",
       "11         0     792.701887         40  secondary education             1   \n",
       "12         0            NaN         65  secondary education             1   \n",
       "13         0    1846.641941         54         some college             2   \n",
       "14         0    1844.956182         56    bachelor's degree             0   \n",
       "15         1     972.364419         26  secondary education             1   \n",
       "16         0    1719.934226         35  secondary education             1   \n",
       "17         0    2369.999720         33    bachelor's degree             0   \n",
       "18         0  400281.136913         53  secondary education             1   \n",
       "19         0   10038.818549         48  secondary education             1   \n",
       "\n",
       "        family_status  family_status_id gender income_type  debt  \\\n",
       "0             married                 0      F    employee     0   \n",
       "1             married                 0      F    employee     0   \n",
       "2             married                 0      M    employee     0   \n",
       "3             married                 0      M    employee     0   \n",
       "4   civil partnership                 1      F     retiree     0   \n",
       "5   civil partnership                 1      M    business     0   \n",
       "6             married                 0      F    business     0   \n",
       "7             married                 0      M    employee     0   \n",
       "8   civil partnership                 1      F    employee     0   \n",
       "9             married                 0      M    employee     0   \n",
       "10            married                 0      M    business     0   \n",
       "11            married                 0      F    employee     0   \n",
       "12  civil partnership                 1      M     retiree     0   \n",
       "13            married                 0      F    employee     0   \n",
       "14  civil partnership                 1      F    business     1   \n",
       "15            married                 0      F    employee     0   \n",
       "16            married                 0      F    employee     0   \n",
       "17  civil partnership                 1      M    employee     0   \n",
       "18    widow / widower                 2      F     retiree     0   \n",
       "19           divorced                 3      F    employee     0   \n",
       "\n",
       "    total_income                              purpose age_group  \\\n",
       "0      40620.102                purchase of the house     40-49   \n",
       "1      17932.802                         car purchase     30-39   \n",
       "2      23341.752                purchase of the house     30-39   \n",
       "3      42820.568              supplementary education     30-39   \n",
       "4      25378.572                    to have a wedding     50-59   \n",
       "5      40922.170                purchase of the house     20-29   \n",
       "6      38484.156                 housing transactions     40-49   \n",
       "7      21731.829                            education     50-59   \n",
       "8      15337.093                     having a wedding     30-39   \n",
       "9      23108.150  purchase of the house for my family     40-49   \n",
       "10     18230.959                      buy real estate     30-39   \n",
       "11     12331.077           buy commercial real estate     40-49   \n",
       "12           NaN                    to have a wedding     60-69   \n",
       "13     20873.317                         car purchase     50-59   \n",
       "14     26420.466          buy residential real estate     50-59   \n",
       "15     18691.345         construction of own property     20-29   \n",
       "16     46272.433                             property     30-39   \n",
       "17     14465.694                  building a property     30-39   \n",
       "18      9091.804             buying a second-hand car     50-59   \n",
       "19     38852.977                    buying my own car     40-49   \n",
       "\n",
       "    total_income_new  days_employed_new  \n",
       "0          40620.102        8437.673028  \n",
       "1          17932.802        4024.803754  \n",
       "2          23341.752        5623.422610  \n",
       "3          42820.568        4124.747207  \n",
       "4          25378.572      340266.072047  \n",
       "5          40922.170         926.185831  \n",
       "6          38484.156        2879.202052  \n",
       "7          21731.829         152.779569  \n",
       "8          15337.093        6929.865299  \n",
       "9          23108.150        2188.756445  \n",
       "10         18230.959        4171.483647  \n",
       "11         12331.077         792.701887  \n",
       "12         18873.764      356180.806455  \n",
       "13         20873.317        1846.641941  \n",
       "14         26420.466        1844.956182  \n",
       "15         18691.345         972.364419  \n",
       "16         46272.433        1719.934226  \n",
       "17         14465.694        2369.999720  \n",
       "18          9091.804      400281.136913  \n",
       "19         38852.977       10038.818549  "
      ]
     },
     "execution_count": 421,
     "metadata": {},
     "output_type": "execute_result"
    }
   ],
   "source": [
    "loan_data.head(20) # Prints an overview of the data so I can look at snapshot of the columns of interest: children, family_status & total_income\n"
   ]
  },
  {
   "cell_type": "code",
   "execution_count": 422,
   "metadata": {},
   "outputs": [
    {
     "data": {
      "text/plain": [
       "array(['married', 'civil partnership', 'widow / widower', 'divorced',\n",
       "       'unmarried'], dtype=object)"
      ]
     },
     "execution_count": 422,
     "metadata": {},
     "output_type": "execute_result"
    }
   ],
   "source": [
    "loan_data['children'].unique() # Checks the unique values \n",
    "\n",
    "loan_data['family_status'].unique() # Checks the unique values"
   ]
  },
  {
   "cell_type": "markdown",
   "metadata": {},
   "source": [
    "**Observations**\n",
    "* Based on looking at the unique values in each column, family status does not need to be further categorized. \n",
    "* I will start by categorizing the children column so that it's a binary variable (\"yes\" or \"no\" to having children).\n",
    "* Then I will take a closer look at the total_income column to decide how to categorize those data."
   ]
  },
  {
   "cell_type": "markdown",
   "metadata": {},
   "source": [
    "**Creating categories for children**"
   ]
  },
  {
   "cell_type": "code",
   "execution_count": 423,
   "metadata": {},
   "outputs": [],
   "source": [
    "def children_group(row): # Function that creates age groups according to decade which is common practice\n",
    "    children = row['children']\n",
    "    if children == 0:\n",
    "        return 'no'\n",
    "    elif children > 0:\n",
    "        return 'yes'"
   ]
  },
  {
   "cell_type": "code",
   "execution_count": 424,
   "metadata": {},
   "outputs": [
    {
     "data": {
      "text/plain": [
       "no     14080\n",
       "yes     7297\n",
       "Name: children_new, dtype: int64"
      ]
     },
     "execution_count": 424,
     "metadata": {},
     "output_type": "execute_result"
    }
   ],
   "source": [
    "loan_data['children_new'] = loan_data.apply(children_group, axis=1) # Creates a column with the new categories for children\n",
    "\n",
    "loan_data['children_new'].value_counts() # Counts the values in each category"
   ]
  },
  {
   "cell_type": "markdown",
   "metadata": {},
   "source": [
    "**Creating categories for purpose**"
   ]
  },
  {
   "cell_type": "code",
   "execution_count": 425,
   "metadata": {},
   "outputs": [
    {
     "data": {
      "text/plain": [
       "array(['building a property', 'building a real estate',\n",
       "       'buy commercial real estate', 'buy real estate',\n",
       "       'buy residential real estate', 'buying a second-hand car',\n",
       "       'buying my own car', 'buying property for renting out', 'car',\n",
       "       'car purchase', 'cars', 'construction of own property',\n",
       "       'education', 'getting an education', 'getting higher education',\n",
       "       'going to university', 'having a wedding', 'housing',\n",
       "       'housing renovation', 'housing transactions', 'profile education',\n",
       "       'property', 'purchase of a car', 'purchase of my own house',\n",
       "       'purchase of the house', 'purchase of the house for my family',\n",
       "       'real estate transactions', 'second-hand car purchase',\n",
       "       'supplementary education', 'to become educated', 'to buy a car',\n",
       "       'to get a supplementary education', 'to have a wedding',\n",
       "       'to own a car', 'transactions with commercial real estate',\n",
       "       'transactions with my real estate', 'university education',\n",
       "       'wedding ceremony'], dtype=object)"
      ]
     },
     "execution_count": 425,
     "metadata": {},
     "output_type": "execute_result"
    }
   ],
   "source": [
    "loan_data['purpose'].sort_values().unique() # Looks at the unique values in the purpose column, sorted them alphabetically"
   ]
  },
  {
   "cell_type": "code",
   "execution_count": 426,
   "metadata": {},
   "outputs": [],
   "source": [
    "def purpose(row): # Create a function to create new categories for the purpose column\n",
    "    purpose = row['purpose']\n",
    "    if 'build' in purpose or 'estate' in purpose or 'property' in purpose:\n",
    "        return 'real estate'\n",
    "    elif 'car' in purpose:\n",
    "        return 'car'\n",
    "    elif 'educ' in purpose or 'university' in purpose:\n",
    "        return 'education'\n",
    "    elif 'housing' in purpose or 'house' in purpose: \n",
    "        return 'housing'\n",
    "    elif 'wedding' in purpose:\n",
    "        return 'wedding'    "
   ]
  },
  {
   "cell_type": "code",
   "execution_count": 427,
   "metadata": {},
   "outputs": [
    {
     "data": {
      "text/plain": [
       "array(['housing', 'car', 'education', 'wedding', 'real estate'],\n",
       "      dtype=object)"
      ]
     },
     "execution_count": 427,
     "metadata": {},
     "output_type": "execute_result"
    }
   ],
   "source": [
    "loan_data['purpose_new'] = loan_data.apply(purpose, axis=1) # Applys the function to the entire data frame\n",
    "\n",
    "loan_data.head(10) # Prints the first 10 rows of the dataframe to make sure the new purpose column is added \n",
    "\n",
    "loan_data['purpose_new'].unique() # Checks unique values in purpose_new column to make sure no values were left out"
   ]
  },
  {
   "cell_type": "markdown",
   "metadata": {},
   "source": [
    "**Creating categories for total_income**"
   ]
  },
  {
   "cell_type": "code",
   "execution_count": 428,
   "metadata": {},
   "outputs": [
    {
     "data": {
      "text/plain": [
       "array([40620.102, 17932.802, 23341.752, ..., 14347.61 , 39054.888,\n",
       "       13127.587])"
      ]
     },
     "execution_count": 428,
     "metadata": {},
     "output_type": "execute_result"
    }
   ],
   "source": [
    "loan_data['total_income'].unique() # Looks at unique values in the total_income column.\n"
   ]
  },
  {
   "cell_type": "code",
   "execution_count": 429,
   "metadata": {},
   "outputs": [
    {
     "data": {
      "text/plain": [
       "count     19216.000000\n",
       "mean      26799.419120\n",
       "std       16504.133012\n",
       "min        3306.762000\n",
       "25%       16493.009500\n",
       "50%       23201.873500\n",
       "75%       32551.144000\n",
       "max      362496.645000\n",
       "Name: total_income, dtype: float64"
      ]
     },
     "execution_count": 429,
     "metadata": {},
     "output_type": "execute_result"
    }
   ],
   "source": [
    "loan_data['total_income'].describe() # Gets summary statistics for total_income\n"
   ]
  },
  {
   "cell_type": "markdown",
   "metadata": {},
   "source": [
    "**Observations**\n",
    "* Based on the statistical description of the data, I see that the data ranges from 3306 to 362,496.\n",
    "* Based on the mean of 26,799, and the fact that 75% of the data is under 32,000, I expect the data to skew low.\n",
    "* Therefore, I plan to make the categories in 25,000 increments, stopping at a 100,000+ category.   "
   ]
  },
  {
   "cell_type": "code",
   "execution_count": 430,
   "metadata": {},
   "outputs": [],
   "source": [
    "def total_income_func(row): # Function that creates age groups according to decade which is common practice\n",
    "    total_income = row['total_income']\n",
    "    if total_income < 25000:\n",
    "        return '0 - 24,999'\n",
    "    elif total_income < 50000:\n",
    "        return '25,000 - 49,999'\n",
    "    elif total_income < 75000:\n",
    "        return '50,000 - 74,999'\n",
    "    elif total_income < 100000:\n",
    "        return '75,000 - 99,999'\n",
    "    else:\n",
    "        return '100,000+'"
   ]
  },
  {
   "cell_type": "code",
   "execution_count": 431,
   "metadata": {},
   "outputs": [
    {
     "data": {
      "text/html": [
       "<div>\n",
       "<style scoped>\n",
       "    .dataframe tbody tr th:only-of-type {\n",
       "        vertical-align: middle;\n",
       "    }\n",
       "\n",
       "    .dataframe tbody tr th {\n",
       "        vertical-align: top;\n",
       "    }\n",
       "\n",
       "    .dataframe thead th {\n",
       "        text-align: right;\n",
       "    }\n",
       "</style>\n",
       "<table border=\"1\" class=\"dataframe\">\n",
       "  <thead>\n",
       "    <tr style=\"text-align: right;\">\n",
       "      <th></th>\n",
       "      <th>children</th>\n",
       "      <th>days_employed</th>\n",
       "      <th>dob_years</th>\n",
       "      <th>education</th>\n",
       "      <th>education_id</th>\n",
       "      <th>family_status</th>\n",
       "      <th>family_status_id</th>\n",
       "      <th>gender</th>\n",
       "      <th>income_type</th>\n",
       "      <th>debt</th>\n",
       "      <th>total_income</th>\n",
       "      <th>purpose</th>\n",
       "      <th>age_group</th>\n",
       "      <th>total_income_new</th>\n",
       "      <th>days_employed_new</th>\n",
       "      <th>children_new</th>\n",
       "      <th>purpose_new</th>\n",
       "    </tr>\n",
       "  </thead>\n",
       "  <tbody>\n",
       "    <tr>\n",
       "      <td>0</td>\n",
       "      <td>1</td>\n",
       "      <td>8437.673028</td>\n",
       "      <td>42</td>\n",
       "      <td>bachelor's degree</td>\n",
       "      <td>0</td>\n",
       "      <td>married</td>\n",
       "      <td>0</td>\n",
       "      <td>F</td>\n",
       "      <td>employee</td>\n",
       "      <td>0</td>\n",
       "      <td>40620.102</td>\n",
       "      <td>purchase of the house</td>\n",
       "      <td>40-49</td>\n",
       "      <td>25,000 - 49,999</td>\n",
       "      <td>8437.673028</td>\n",
       "      <td>yes</td>\n",
       "      <td>housing</td>\n",
       "    </tr>\n",
       "    <tr>\n",
       "      <td>1</td>\n",
       "      <td>1</td>\n",
       "      <td>4024.803754</td>\n",
       "      <td>36</td>\n",
       "      <td>secondary education</td>\n",
       "      <td>1</td>\n",
       "      <td>married</td>\n",
       "      <td>0</td>\n",
       "      <td>F</td>\n",
       "      <td>employee</td>\n",
       "      <td>0</td>\n",
       "      <td>17932.802</td>\n",
       "      <td>car purchase</td>\n",
       "      <td>30-39</td>\n",
       "      <td>0 - 24,999</td>\n",
       "      <td>4024.803754</td>\n",
       "      <td>yes</td>\n",
       "      <td>car</td>\n",
       "    </tr>\n",
       "    <tr>\n",
       "      <td>2</td>\n",
       "      <td>0</td>\n",
       "      <td>5623.422610</td>\n",
       "      <td>33</td>\n",
       "      <td>secondary education</td>\n",
       "      <td>1</td>\n",
       "      <td>married</td>\n",
       "      <td>0</td>\n",
       "      <td>M</td>\n",
       "      <td>employee</td>\n",
       "      <td>0</td>\n",
       "      <td>23341.752</td>\n",
       "      <td>purchase of the house</td>\n",
       "      <td>30-39</td>\n",
       "      <td>0 - 24,999</td>\n",
       "      <td>5623.422610</td>\n",
       "      <td>no</td>\n",
       "      <td>housing</td>\n",
       "    </tr>\n",
       "    <tr>\n",
       "      <td>3</td>\n",
       "      <td>3</td>\n",
       "      <td>4124.747207</td>\n",
       "      <td>32</td>\n",
       "      <td>secondary education</td>\n",
       "      <td>1</td>\n",
       "      <td>married</td>\n",
       "      <td>0</td>\n",
       "      <td>M</td>\n",
       "      <td>employee</td>\n",
       "      <td>0</td>\n",
       "      <td>42820.568</td>\n",
       "      <td>supplementary education</td>\n",
       "      <td>30-39</td>\n",
       "      <td>25,000 - 49,999</td>\n",
       "      <td>4124.747207</td>\n",
       "      <td>yes</td>\n",
       "      <td>education</td>\n",
       "    </tr>\n",
       "    <tr>\n",
       "      <td>4</td>\n",
       "      <td>0</td>\n",
       "      <td>340266.072047</td>\n",
       "      <td>53</td>\n",
       "      <td>secondary education</td>\n",
       "      <td>1</td>\n",
       "      <td>civil partnership</td>\n",
       "      <td>1</td>\n",
       "      <td>F</td>\n",
       "      <td>retiree</td>\n",
       "      <td>0</td>\n",
       "      <td>25378.572</td>\n",
       "      <td>to have a wedding</td>\n",
       "      <td>50-59</td>\n",
       "      <td>25,000 - 49,999</td>\n",
       "      <td>340266.072047</td>\n",
       "      <td>no</td>\n",
       "      <td>wedding</td>\n",
       "    </tr>\n",
       "    <tr>\n",
       "      <td>5</td>\n",
       "      <td>0</td>\n",
       "      <td>926.185831</td>\n",
       "      <td>27</td>\n",
       "      <td>bachelor's degree</td>\n",
       "      <td>0</td>\n",
       "      <td>civil partnership</td>\n",
       "      <td>1</td>\n",
       "      <td>M</td>\n",
       "      <td>business</td>\n",
       "      <td>0</td>\n",
       "      <td>40922.170</td>\n",
       "      <td>purchase of the house</td>\n",
       "      <td>20-29</td>\n",
       "      <td>25,000 - 49,999</td>\n",
       "      <td>926.185831</td>\n",
       "      <td>no</td>\n",
       "      <td>housing</td>\n",
       "    </tr>\n",
       "    <tr>\n",
       "      <td>6</td>\n",
       "      <td>0</td>\n",
       "      <td>2879.202052</td>\n",
       "      <td>43</td>\n",
       "      <td>bachelor's degree</td>\n",
       "      <td>0</td>\n",
       "      <td>married</td>\n",
       "      <td>0</td>\n",
       "      <td>F</td>\n",
       "      <td>business</td>\n",
       "      <td>0</td>\n",
       "      <td>38484.156</td>\n",
       "      <td>housing transactions</td>\n",
       "      <td>40-49</td>\n",
       "      <td>25,000 - 49,999</td>\n",
       "      <td>2879.202052</td>\n",
       "      <td>no</td>\n",
       "      <td>housing</td>\n",
       "    </tr>\n",
       "    <tr>\n",
       "      <td>7</td>\n",
       "      <td>0</td>\n",
       "      <td>152.779569</td>\n",
       "      <td>50</td>\n",
       "      <td>secondary education</td>\n",
       "      <td>1</td>\n",
       "      <td>married</td>\n",
       "      <td>0</td>\n",
       "      <td>M</td>\n",
       "      <td>employee</td>\n",
       "      <td>0</td>\n",
       "      <td>21731.829</td>\n",
       "      <td>education</td>\n",
       "      <td>50-59</td>\n",
       "      <td>0 - 24,999</td>\n",
       "      <td>152.779569</td>\n",
       "      <td>no</td>\n",
       "      <td>education</td>\n",
       "    </tr>\n",
       "    <tr>\n",
       "      <td>8</td>\n",
       "      <td>2</td>\n",
       "      <td>6929.865299</td>\n",
       "      <td>35</td>\n",
       "      <td>bachelor's degree</td>\n",
       "      <td>0</td>\n",
       "      <td>civil partnership</td>\n",
       "      <td>1</td>\n",
       "      <td>F</td>\n",
       "      <td>employee</td>\n",
       "      <td>0</td>\n",
       "      <td>15337.093</td>\n",
       "      <td>having a wedding</td>\n",
       "      <td>30-39</td>\n",
       "      <td>0 - 24,999</td>\n",
       "      <td>6929.865299</td>\n",
       "      <td>yes</td>\n",
       "      <td>wedding</td>\n",
       "    </tr>\n",
       "    <tr>\n",
       "      <td>9</td>\n",
       "      <td>0</td>\n",
       "      <td>2188.756445</td>\n",
       "      <td>41</td>\n",
       "      <td>secondary education</td>\n",
       "      <td>1</td>\n",
       "      <td>married</td>\n",
       "      <td>0</td>\n",
       "      <td>M</td>\n",
       "      <td>employee</td>\n",
       "      <td>0</td>\n",
       "      <td>23108.150</td>\n",
       "      <td>purchase of the house for my family</td>\n",
       "      <td>40-49</td>\n",
       "      <td>0 - 24,999</td>\n",
       "      <td>2188.756445</td>\n",
       "      <td>no</td>\n",
       "      <td>housing</td>\n",
       "    </tr>\n",
       "  </tbody>\n",
       "</table>\n",
       "</div>"
      ],
      "text/plain": [
       "   children  days_employed  dob_years            education  education_id  \\\n",
       "0         1    8437.673028         42    bachelor's degree             0   \n",
       "1         1    4024.803754         36  secondary education             1   \n",
       "2         0    5623.422610         33  secondary education             1   \n",
       "3         3    4124.747207         32  secondary education             1   \n",
       "4         0  340266.072047         53  secondary education             1   \n",
       "5         0     926.185831         27    bachelor's degree             0   \n",
       "6         0    2879.202052         43    bachelor's degree             0   \n",
       "7         0     152.779569         50  secondary education             1   \n",
       "8         2    6929.865299         35    bachelor's degree             0   \n",
       "9         0    2188.756445         41  secondary education             1   \n",
       "\n",
       "       family_status  family_status_id gender income_type  debt  total_income  \\\n",
       "0            married                 0      F    employee     0     40620.102   \n",
       "1            married                 0      F    employee     0     17932.802   \n",
       "2            married                 0      M    employee     0     23341.752   \n",
       "3            married                 0      M    employee     0     42820.568   \n",
       "4  civil partnership                 1      F     retiree     0     25378.572   \n",
       "5  civil partnership                 1      M    business     0     40922.170   \n",
       "6            married                 0      F    business     0     38484.156   \n",
       "7            married                 0      M    employee     0     21731.829   \n",
       "8  civil partnership                 1      F    employee     0     15337.093   \n",
       "9            married                 0      M    employee     0     23108.150   \n",
       "\n",
       "                               purpose age_group total_income_new  \\\n",
       "0                purchase of the house     40-49  25,000 - 49,999   \n",
       "1                         car purchase     30-39       0 - 24,999   \n",
       "2                purchase of the house     30-39       0 - 24,999   \n",
       "3              supplementary education     30-39  25,000 - 49,999   \n",
       "4                    to have a wedding     50-59  25,000 - 49,999   \n",
       "5                purchase of the house     20-29  25,000 - 49,999   \n",
       "6                 housing transactions     40-49  25,000 - 49,999   \n",
       "7                            education     50-59       0 - 24,999   \n",
       "8                     having a wedding     30-39       0 - 24,999   \n",
       "9  purchase of the house for my family     40-49       0 - 24,999   \n",
       "\n",
       "   days_employed_new children_new purpose_new  \n",
       "0        8437.673028          yes     housing  \n",
       "1        4024.803754          yes         car  \n",
       "2        5623.422610           no     housing  \n",
       "3        4124.747207          yes   education  \n",
       "4      340266.072047           no     wedding  \n",
       "5         926.185831           no     housing  \n",
       "6        2879.202052           no     housing  \n",
       "7         152.779569           no   education  \n",
       "8        6929.865299          yes     wedding  \n",
       "9        2188.756445           no     housing  "
      ]
     },
     "execution_count": 431,
     "metadata": {},
     "output_type": "execute_result"
    }
   ],
   "source": [
    "loan_data['total_income_new'] = loan_data.apply(total_income_func, axis=1)\n",
    "\n",
    "loan_data.head(10)"
   ]
  },
  {
   "cell_type": "code",
   "execution_count": 432,
   "metadata": {
    "scrolled": true
   },
   "outputs": [
    {
     "data": {
      "text/plain": [
       "0 - 24,999         10674\n",
       "25,000 - 49,999     7226\n",
       "100,000+            2260\n",
       "50,000 - 74,999     1028\n",
       "75,000 - 99,999      189\n",
       "Name: total_income_new, dtype: int64"
      ]
     },
     "execution_count": 432,
     "metadata": {},
     "output_type": "execute_result"
    }
   ],
   "source": [
    "loan_data['total_income_new'].value_counts() # Counts each categories values to see the distribution"
   ]
  },
  {
   "cell_type": "markdown",
   "metadata": {},
   "source": [
    "<div class=\"alert alert-success\">\n",
    "<b>Reviewer's comment v1</b> Categorization will help to answer the questions below"
   ]
  },
  {
   "cell_type": "markdown",
   "metadata": {},
   "source": [
    "## Checking the Hypotheses\n"
   ]
  },
  {
   "cell_type": "markdown",
   "metadata": {},
   "source": [
    "**Is there a correlation between having children and paying back on time?**"
   ]
  },
  {
   "cell_type": "code",
   "execution_count": 433,
   "metadata": {},
   "outputs": [
    {
     "data": {
      "text/plain": [
       "children_new\n",
       "no     61.08545\n",
       "yes    38.91455\n",
       "Name: debt, dtype: float64"
      ]
     },
     "execution_count": 433,
     "metadata": {},
     "output_type": "execute_result"
    }
   ],
   "source": [
    "loan_data.groupby('children_new')['debt'].sum() / loan_data['debt'].sum() * 100 # Calculates the rate of loan defaults based on whether or not families have kids\n"
   ]
  },
  {
   "cell_type": "markdown",
   "metadata": {},
   "source": [
    "**Conclusion**\n",
    "\n",
    "Yes, there is a correlation between having children and paying back a loan on time. Clients who do not have children are more likely to default on their loan. \n"
   ]
  },
  {
   "cell_type": "markdown",
   "metadata": {},
   "source": [
    "<div class=\"alert alert-success\">\n",
    "<b>Reviewer's comment v1</b> Correct"
   ]
  },
  {
   "cell_type": "markdown",
   "metadata": {},
   "source": [
    "**Is there a correlation between family status and paying back on time?**"
   ]
  },
  {
   "cell_type": "code",
   "execution_count": 434,
   "metadata": {},
   "outputs": [
    {
     "data": {
      "text/plain": [
       "family_status\n",
       "civil partnership    22.286374\n",
       "divorced              4.907621\n",
       "married              53.464203\n",
       "unmarried            15.762125\n",
       "widow / widower       3.579677\n",
       "Name: debt, dtype: float64"
      ]
     },
     "execution_count": 434,
     "metadata": {},
     "output_type": "execute_result"
    }
   ],
   "source": [
    "loan_data.groupby('family_status')['debt'].sum() / loan_data['debt'].sum() * 100 # Calculates the rate of loan defaults based on family status\n"
   ]
  },
  {
   "cell_type": "markdown",
   "metadata": {},
   "source": [
    "**Conclusion**\n",
    "\n",
    "Yes, family status has a correlation with paying back a loan on time. Being married is associated with a higher likelihood of having debt on their loan, followed by civil partnership."
   ]
  },
  {
   "cell_type": "markdown",
   "metadata": {},
   "source": [
    "**Is there a correlation between income level and paying back on time?**"
   ]
  },
  {
   "cell_type": "code",
   "execution_count": 435,
   "metadata": {},
   "outputs": [
    {
     "data": {
      "text/plain": [
       "total_income_new\n",
       "0 - 24,999         51.385681\n",
       "100,000+           10.161663\n",
       "25,000 - 49,999    33.487298\n",
       "50,000 - 74,999     4.387991\n",
       "75,000 - 99,999     0.577367\n",
       "Name: debt, dtype: float64"
      ]
     },
     "execution_count": 435,
     "metadata": {},
     "output_type": "execute_result"
    }
   ],
   "source": [
    "loan_data.groupby('total_income_new')['debt'].sum() / loan_data['debt'].sum() * 100 # Calculates the rate of loan defaults based on income categories\n"
   ]
  },
  {
   "cell_type": "markdown",
   "metadata": {},
   "source": [
    "**Conclusion**\n",
    "\n",
    "Yes, income has a correlation with paying back a loan on time. A lower income is associated with a higher likelihood of having debt on their loan."
   ]
  },
  {
   "cell_type": "markdown",
   "metadata": {},
   "source": [
    "**How does credit purpose affect the default rate?**"
   ]
  },
  {
   "cell_type": "code",
   "execution_count": 436,
   "metadata": {},
   "outputs": [
    {
     "data": {
      "text/plain": [
       "purpose_new\n",
       "car            23.036952\n",
       "education      21.362587\n",
       "housing        14.665127\n",
       "real estate    30.311778\n",
       "wedding        10.623557\n",
       "Name: debt, dtype: float64"
      ]
     },
     "execution_count": 436,
     "metadata": {},
     "output_type": "execute_result"
    }
   ],
   "source": [
    "# Check the percentages for default rate for each credit purpose and analyze them\n",
    "\n",
    "loan_data.groupby('purpose_new')['debt'].sum() / loan_data['debt'].sum() * 100\n"
   ]
  },
  {
   "cell_type": "markdown",
   "metadata": {},
   "source": [
    "**Conclusion**\n",
    "\n",
    "* Clients who have no children are more likely to default on their loan. \n",
    "* Clients who are married are more likely to default on their loan, following by those in a civil partnership. \n",
    "* Clients with a lower income are more likely to default on their loan. \n",
    "* Clients who got a loan for real estate purposes are most likely to default on their loan, followed by those who got a loan for a car and for education purposes.\n"
   ]
  },
  {
   "cell_type": "markdown",
   "metadata": {},
   "source": [
    "<div class=\"alert alert-success\">\n",
    "<b>Reviewer's comment v1</b> Well done!"
   ]
  },
  {
   "cell_type": "markdown",
   "metadata": {},
   "source": [
    "# General Conclusion \n",
    "\n",
    "**Summary of Process**\n",
    "In summary, before conducting the analysis I did the following:\n",
    "* De-duplicated values in the education column (by changing all of the values to lowercase)\n",
    "* Removed rows that indicated a negative number of children and indicated an age of 0.\n",
    "* Changed all of the values in days_employed to be positive.\n",
    "* Filled in missing values in the days_employed and total_income columns with the median values based on age group and education status. \n",
    "\n",
    "**Final analysis**\n",
    "\n",
    "After completeing these steps, I conducted the analysis to test my hypothesis. \n",
    "\n",
    "My original hypotheses were incorrect.\n",
    "\n",
    "The final conclusions were:\n",
    "* Clients who have no children are more likely to default on their loan. \n",
    "* Clients who are married are more likely to default on their loan, following by those in a civil partnership. \n",
    "* Clients with a lower income are more likely to default on their loan. \n",
    "* Clients who got a loan for real estate purposes are most likely to default on their loan, followed by those who got a loan for a car and for education purposes.\n"
   ]
  },
  {
   "cell_type": "markdown",
   "metadata": {},
   "source": [
    "<div class=\"alert alert-success\">\n",
    "<b>Reviewer's comment v1</b> Thanks a lot for the project! A very usefull information for the bank"
   ]
  },
  {
   "cell_type": "code",
   "execution_count": null,
   "metadata": {},
   "outputs": [],
   "source": []
  }
 ],
 "metadata": {
  "ExecuteTimeLog": [
   {
    "duration": 2741,
    "start_time": "2021-10-21T01:08:49.480Z"
   },
   {
    "duration": 52,
    "start_time": "2021-10-21T01:08:53.315Z"
   },
   {
    "duration": 49,
    "start_time": "2021-10-21T01:08:57.432Z"
   },
   {
    "duration": 70,
    "start_time": "2021-10-21T01:09:07.706Z"
   },
   {
    "duration": 870,
    "start_time": "2022-01-16T15:15:46.161Z"
   },
   {
    "duration": 486,
    "start_time": "2022-01-16T15:16:04.672Z"
   },
   {
    "duration": 76,
    "start_time": "2022-01-16T15:16:33.945Z"
   },
   {
    "duration": 344,
    "start_time": "2022-01-16T15:16:51.147Z"
   },
   {
    "duration": 20,
    "start_time": "2022-01-16T15:17:13.355Z"
   },
   {
    "duration": 7,
    "start_time": "2022-01-16T15:23:24.019Z"
   },
   {
    "duration": 23,
    "start_time": "2022-01-16T15:24:09.100Z"
   },
   {
    "duration": 286,
    "start_time": "2022-01-16T15:52:11.957Z"
   },
   {
    "duration": 8,
    "start_time": "2022-01-16T15:52:19.717Z"
   },
   {
    "duration": 6,
    "start_time": "2022-01-16T15:53:12.867Z"
   },
   {
    "duration": 6,
    "start_time": "2022-01-16T15:53:18.646Z"
   },
   {
    "duration": 5,
    "start_time": "2022-01-16T15:53:26.125Z"
   },
   {
    "duration": 35,
    "start_time": "2022-01-16T15:54:00.864Z"
   },
   {
    "duration": 37,
    "start_time": "2022-01-16T15:56:01.533Z"
   },
   {
    "duration": 24,
    "start_time": "2022-01-16T15:56:45.144Z"
   },
   {
    "duration": 8,
    "start_time": "2022-01-16T15:56:53.822Z"
   },
   {
    "duration": 15,
    "start_time": "2022-01-16T15:57:05.994Z"
   },
   {
    "duration": 6,
    "start_time": "2022-01-16T15:57:18.058Z"
   },
   {
    "duration": 9,
    "start_time": "2022-01-16T15:57:22.493Z"
   },
   {
    "duration": 6,
    "start_time": "2022-01-16T15:57:28.836Z"
   },
   {
    "duration": 7,
    "start_time": "2022-01-16T15:58:39.155Z"
   },
   {
    "duration": 37,
    "start_time": "2022-01-16T15:58:47.058Z"
   },
   {
    "duration": 56,
    "start_time": "2022-01-16T15:59:56.177Z"
   },
   {
    "duration": 10,
    "start_time": "2022-01-16T16:03:18.487Z"
   },
   {
    "duration": 13,
    "start_time": "2022-01-16T16:05:27.652Z"
   },
   {
    "duration": 19,
    "start_time": "2022-01-16T16:05:47.554Z"
   },
   {
    "duration": 24,
    "start_time": "2022-01-16T16:06:43.234Z"
   },
   {
    "duration": 30,
    "start_time": "2022-01-16T16:07:14.850Z"
   },
   {
    "duration": 14,
    "start_time": "2022-01-16T16:13:48.293Z"
   },
   {
    "duration": 34,
    "start_time": "2022-01-16T16:14:20.638Z"
   },
   {
    "duration": 9,
    "start_time": "2022-01-16T16:14:53.653Z"
   },
   {
    "duration": 8,
    "start_time": "2022-01-16T16:16:13.105Z"
   },
   {
    "duration": 33,
    "start_time": "2022-01-16T16:16:34.166Z"
   },
   {
    "duration": 9,
    "start_time": "2022-01-16T16:17:07.848Z"
   },
   {
    "duration": 10,
    "start_time": "2022-01-16T16:18:19.302Z"
   },
   {
    "duration": 31,
    "start_time": "2022-01-16T16:21:26.102Z"
   },
   {
    "duration": 24,
    "start_time": "2022-01-16T16:22:23.357Z"
   },
   {
    "duration": 10,
    "start_time": "2022-01-16T16:27:43.967Z"
   },
   {
    "duration": 13,
    "start_time": "2022-01-16T16:28:02.478Z"
   },
   {
    "duration": 16,
    "start_time": "2022-01-16T16:28:20.792Z"
   },
   {
    "duration": 10,
    "start_time": "2022-01-16T16:28:26.541Z"
   },
   {
    "duration": 13,
    "start_time": "2022-01-16T16:29:56.709Z"
   },
   {
    "duration": 10,
    "start_time": "2022-01-16T16:30:10.816Z"
   },
   {
    "duration": 11,
    "start_time": "2022-01-16T16:30:27.339Z"
   },
   {
    "duration": 10,
    "start_time": "2022-01-16T16:30:58.116Z"
   },
   {
    "duration": 9,
    "start_time": "2022-01-16T16:31:07.928Z"
   },
   {
    "duration": 8,
    "start_time": "2022-01-16T16:31:30.288Z"
   },
   {
    "duration": 102,
    "start_time": "2022-01-16T16:31:44.682Z"
   },
   {
    "duration": 10,
    "start_time": "2022-01-16T16:31:58.921Z"
   },
   {
    "duration": 10,
    "start_time": "2022-01-16T16:32:04.465Z"
   },
   {
    "duration": 14,
    "start_time": "2022-01-16T16:32:14.366Z"
   },
   {
    "duration": 13,
    "start_time": "2022-01-16T16:34:28.769Z"
   },
   {
    "duration": 12,
    "start_time": "2022-01-16T16:37:16.166Z"
   },
   {
    "duration": 11,
    "start_time": "2022-01-16T16:38:46.566Z"
   },
   {
    "duration": 10,
    "start_time": "2022-01-16T16:44:50.797Z"
   },
   {
    "duration": 14,
    "start_time": "2022-01-16T16:49:21.516Z"
   },
   {
    "duration": 16,
    "start_time": "2022-01-16T16:49:27.701Z"
   },
   {
    "duration": 23,
    "start_time": "2022-01-16T16:49:35.360Z"
   },
   {
    "duration": 137,
    "start_time": "2022-01-16T17:50:45.114Z"
   },
   {
    "duration": 138,
    "start_time": "2022-01-16T17:51:05.022Z"
   },
   {
    "duration": 150,
    "start_time": "2022-01-16T17:51:11.117Z"
   },
   {
    "duration": 107,
    "start_time": "2022-01-16T17:51:32.217Z"
   },
   {
    "duration": 163,
    "start_time": "2022-01-16T17:51:47.003Z"
   },
   {
    "duration": 7,
    "start_time": "2022-01-16T17:51:57.597Z"
   },
   {
    "duration": 6,
    "start_time": "2022-01-16T17:52:04.067Z"
   },
   {
    "duration": 58,
    "start_time": "2022-01-16T17:52:10.567Z"
   },
   {
    "duration": 5,
    "start_time": "2022-01-16T17:52:10.628Z"
   },
   {
    "duration": 19,
    "start_time": "2022-01-16T17:52:10.664Z"
   },
   {
    "duration": 36,
    "start_time": "2022-01-16T17:52:10.687Z"
   },
   {
    "duration": 47,
    "start_time": "2022-01-16T17:52:10.726Z"
   },
   {
    "duration": 9,
    "start_time": "2022-01-16T17:52:10.775Z"
   },
   {
    "duration": 20,
    "start_time": "2022-01-16T17:52:10.786Z"
   },
   {
    "duration": 55,
    "start_time": "2022-01-16T17:52:10.808Z"
   },
   {
    "duration": 14,
    "start_time": "2022-01-16T17:52:10.867Z"
   },
   {
    "duration": 3,
    "start_time": "2022-01-16T17:52:10.884Z"
   },
   {
    "duration": 8,
    "start_time": "2022-01-16T17:52:10.890Z"
   },
   {
    "duration": 6,
    "start_time": "2022-01-16T17:52:10.900Z"
   },
   {
    "duration": 6,
    "start_time": "2022-01-16T17:52:10.908Z"
   },
   {
    "duration": 5,
    "start_time": "2022-01-16T17:52:10.916Z"
   },
   {
    "duration": 41,
    "start_time": "2022-01-16T17:52:10.923Z"
   },
   {
    "duration": 9,
    "start_time": "2022-01-16T17:52:10.966Z"
   },
   {
    "duration": 6,
    "start_time": "2022-01-16T17:52:10.977Z"
   },
   {
    "duration": 5,
    "start_time": "2022-01-16T17:52:10.985Z"
   },
   {
    "duration": 6,
    "start_time": "2022-01-16T17:52:10.992Z"
   },
   {
    "duration": 6,
    "start_time": "2022-01-16T17:52:11.000Z"
   },
   {
    "duration": 5,
    "start_time": "2022-01-16T17:52:11.008Z"
   },
   {
    "duration": 6,
    "start_time": "2022-01-16T17:52:11.015Z"
   },
   {
    "duration": 41,
    "start_time": "2022-01-16T17:52:11.023Z"
   },
   {
    "duration": 6,
    "start_time": "2022-01-16T17:52:11.067Z"
   },
   {
    "duration": 5,
    "start_time": "2022-01-16T17:52:11.076Z"
   },
   {
    "duration": 6,
    "start_time": "2022-01-16T17:52:11.083Z"
   },
   {
    "duration": 3,
    "start_time": "2022-01-16T17:52:11.096Z"
   },
   {
    "duration": 4,
    "start_time": "2022-01-16T17:52:11.102Z"
   },
   {
    "duration": 6,
    "start_time": "2022-01-16T17:52:11.108Z"
   },
   {
    "duration": 5,
    "start_time": "2022-01-16T17:52:11.116Z"
   },
   {
    "duration": 3,
    "start_time": "2022-01-16T17:52:11.164Z"
   },
   {
    "duration": 4,
    "start_time": "2022-01-16T17:52:11.170Z"
   },
   {
    "duration": 4,
    "start_time": "2022-01-16T17:52:11.177Z"
   },
   {
    "duration": 5,
    "start_time": "2022-01-16T17:52:11.183Z"
   },
   {
    "duration": 6,
    "start_time": "2022-01-16T17:52:11.191Z"
   },
   {
    "duration": 6,
    "start_time": "2022-01-16T17:52:11.199Z"
   },
   {
    "duration": 6,
    "start_time": "2022-01-16T17:52:11.208Z"
   },
   {
    "duration": 47,
    "start_time": "2022-01-16T17:52:11.216Z"
   },
   {
    "duration": 5,
    "start_time": "2022-01-16T17:52:11.265Z"
   },
   {
    "duration": 5,
    "start_time": "2022-01-16T17:52:11.273Z"
   },
   {
    "duration": 6,
    "start_time": "2022-01-16T17:52:11.280Z"
   },
   {
    "duration": 4,
    "start_time": "2022-01-16T17:52:11.289Z"
   },
   {
    "duration": 6,
    "start_time": "2022-01-16T17:52:11.296Z"
   },
   {
    "duration": 6,
    "start_time": "2022-01-16T17:52:11.305Z"
   },
   {
    "duration": 5,
    "start_time": "2022-01-16T17:52:11.314Z"
   },
   {
    "duration": 41,
    "start_time": "2022-01-16T17:52:11.322Z"
   },
   {
    "duration": 3,
    "start_time": "2022-01-16T17:52:11.366Z"
   },
   {
    "duration": 7,
    "start_time": "2022-01-16T17:52:11.372Z"
   },
   {
    "duration": 4,
    "start_time": "2022-01-16T17:52:11.382Z"
   },
   {
    "duration": 16,
    "start_time": "2022-01-16T17:52:11.389Z"
   },
   {
    "duration": 14,
    "start_time": "2022-01-16T17:52:11.408Z"
   },
   {
    "duration": 16,
    "start_time": "2022-01-16T17:52:11.424Z"
   },
   {
    "duration": 21,
    "start_time": "2022-01-16T17:52:11.443Z"
   },
   {
    "duration": 6,
    "start_time": "2022-01-16T17:52:11.467Z"
   },
   {
    "duration": 6,
    "start_time": "2022-01-16T17:52:11.475Z"
   },
   {
    "duration": 4,
    "start_time": "2022-01-16T17:52:11.484Z"
   },
   {
    "duration": 6,
    "start_time": "2022-01-16T17:52:11.491Z"
   },
   {
    "duration": 6,
    "start_time": "2022-01-16T17:52:11.499Z"
   },
   {
    "duration": 4,
    "start_time": "2022-01-16T17:52:11.508Z"
   },
   {
    "duration": 48,
    "start_time": "2022-01-16T17:52:11.515Z"
   },
   {
    "duration": 4,
    "start_time": "2022-01-16T17:52:11.566Z"
   },
   {
    "duration": 5,
    "start_time": "2022-01-16T17:52:11.573Z"
   },
   {
    "duration": 5,
    "start_time": "2022-01-16T17:52:11.581Z"
   },
   {
    "duration": 5,
    "start_time": "2022-01-16T17:52:11.589Z"
   },
   {
    "duration": 4,
    "start_time": "2022-01-16T17:52:11.597Z"
   },
   {
    "duration": 6,
    "start_time": "2022-01-16T17:52:11.604Z"
   },
   {
    "duration": 50,
    "start_time": "2022-01-16T17:52:11.612Z"
   },
   {
    "duration": 6,
    "start_time": "2022-01-16T17:52:11.665Z"
   },
   {
    "duration": 5,
    "start_time": "2022-01-16T17:52:11.673Z"
   },
   {
    "duration": 6,
    "start_time": "2022-01-16T17:52:11.680Z"
   },
   {
    "duration": 5,
    "start_time": "2022-01-16T17:52:11.689Z"
   },
   {
    "duration": 98,
    "start_time": "2022-01-16T17:54:25.441Z"
   },
   {
    "duration": 17,
    "start_time": "2022-01-16T17:54:32.116Z"
   },
   {
    "duration": 238,
    "start_time": "2022-01-16T17:56:00.417Z"
   },
   {
    "duration": 151,
    "start_time": "2022-01-16T17:59:50.561Z"
   },
   {
    "duration": 22,
    "start_time": "2022-01-16T17:59:57.641Z"
   },
   {
    "duration": 26,
    "start_time": "2022-01-16T18:00:15.906Z"
   },
   {
    "duration": 16,
    "start_time": "2022-01-16T18:00:31.848Z"
   },
   {
    "duration": 300,
    "start_time": "2022-01-16T18:01:32.802Z"
   },
   {
    "duration": 297,
    "start_time": "2022-01-16T18:02:41.340Z"
   },
   {
    "duration": 285,
    "start_time": "2022-01-16T18:02:55.719Z"
   },
   {
    "duration": 4,
    "start_time": "2022-01-16T18:03:54.525Z"
   },
   {
    "duration": 10,
    "start_time": "2022-01-16T18:04:02.490Z"
   },
   {
    "duration": 8,
    "start_time": "2022-01-16T18:04:34.574Z"
   },
   {
    "duration": 9,
    "start_time": "2022-01-16T18:05:06.920Z"
   },
   {
    "duration": 8,
    "start_time": "2022-01-16T18:05:19.207Z"
   },
   {
    "duration": 101,
    "start_time": "2022-01-16T18:05:45.749Z"
   },
   {
    "duration": 469,
    "start_time": "2022-01-16T18:05:52.553Z"
   },
   {
    "duration": 7,
    "start_time": "2022-01-16T18:06:02.173Z"
   },
   {
    "duration": 10,
    "start_time": "2022-01-16T18:07:03.657Z"
   },
   {
    "duration": 60,
    "start_time": "2022-01-16T18:07:21.914Z"
   },
   {
    "duration": 4,
    "start_time": "2022-01-16T18:07:21.977Z"
   },
   {
    "duration": 47,
    "start_time": "2022-01-16T18:07:21.984Z"
   },
   {
    "duration": 39,
    "start_time": "2022-01-16T18:07:22.033Z"
   },
   {
    "duration": 11,
    "start_time": "2022-01-16T18:07:22.074Z"
   },
   {
    "duration": 18,
    "start_time": "2022-01-16T18:07:22.087Z"
   },
   {
    "duration": 21,
    "start_time": "2022-01-16T18:07:22.107Z"
   },
   {
    "duration": 37,
    "start_time": "2022-01-16T18:07:22.131Z"
   },
   {
    "duration": 27,
    "start_time": "2022-01-16T18:07:22.172Z"
   },
   {
    "duration": 3,
    "start_time": "2022-01-16T18:07:22.202Z"
   },
   {
    "duration": 13,
    "start_time": "2022-01-16T18:07:22.208Z"
   },
   {
    "duration": 6,
    "start_time": "2022-01-16T18:07:22.224Z"
   },
   {
    "duration": 6,
    "start_time": "2022-01-16T18:07:22.232Z"
   },
   {
    "duration": 22,
    "start_time": "2022-01-16T18:07:22.240Z"
   },
   {
    "duration": 10,
    "start_time": "2022-01-16T18:07:22.265Z"
   },
   {
    "duration": 26,
    "start_time": "2022-01-16T18:07:22.277Z"
   },
   {
    "duration": 22,
    "start_time": "2022-01-16T18:07:22.306Z"
   },
   {
    "duration": 21,
    "start_time": "2022-01-16T18:07:22.331Z"
   },
   {
    "duration": 7,
    "start_time": "2022-01-16T18:07:22.354Z"
   },
   {
    "duration": 7,
    "start_time": "2022-01-16T18:07:22.364Z"
   },
   {
    "duration": 15,
    "start_time": "2022-01-16T18:07:22.373Z"
   },
   {
    "duration": 15,
    "start_time": "2022-01-16T18:07:22.391Z"
   },
   {
    "duration": 23,
    "start_time": "2022-01-16T18:07:22.408Z"
   },
   {
    "duration": 12,
    "start_time": "2022-01-16T18:07:22.433Z"
   },
   {
    "duration": 7,
    "start_time": "2022-01-16T18:07:22.448Z"
   },
   {
    "duration": 11,
    "start_time": "2022-01-16T18:07:22.458Z"
   },
   {
    "duration": 3,
    "start_time": "2022-01-16T18:07:22.476Z"
   },
   {
    "duration": 4,
    "start_time": "2022-01-16T18:07:22.483Z"
   },
   {
    "duration": 12,
    "start_time": "2022-01-16T18:07:22.490Z"
   },
   {
    "duration": 18,
    "start_time": "2022-01-16T18:07:22.504Z"
   },
   {
    "duration": 12,
    "start_time": "2022-01-16T18:07:22.524Z"
   },
   {
    "duration": 9,
    "start_time": "2022-01-16T18:07:22.539Z"
   },
   {
    "duration": 17,
    "start_time": "2022-01-16T18:07:22.550Z"
   },
   {
    "duration": 12,
    "start_time": "2022-01-16T18:07:22.569Z"
   },
   {
    "duration": 10,
    "start_time": "2022-01-16T18:07:22.583Z"
   },
   {
    "duration": 11,
    "start_time": "2022-01-16T18:07:22.595Z"
   },
   {
    "duration": 7,
    "start_time": "2022-01-16T18:07:22.608Z"
   },
   {
    "duration": 6,
    "start_time": "2022-01-16T18:07:22.618Z"
   },
   {
    "duration": 9,
    "start_time": "2022-01-16T18:07:22.626Z"
   },
   {
    "duration": 7,
    "start_time": "2022-01-16T18:07:22.637Z"
   },
   {
    "duration": 17,
    "start_time": "2022-01-16T18:07:22.646Z"
   },
   {
    "duration": 7,
    "start_time": "2022-01-16T18:07:22.665Z"
   },
   {
    "duration": 5,
    "start_time": "2022-01-16T18:07:22.674Z"
   },
   {
    "duration": 8,
    "start_time": "2022-01-16T18:07:22.682Z"
   },
   {
    "duration": 9,
    "start_time": "2022-01-16T18:07:22.693Z"
   },
   {
    "duration": 12,
    "start_time": "2022-01-16T18:07:22.704Z"
   },
   {
    "duration": 7,
    "start_time": "2022-01-16T18:07:22.718Z"
   },
   {
    "duration": 14,
    "start_time": "2022-01-16T18:07:22.727Z"
   },
   {
    "duration": 20,
    "start_time": "2022-01-16T18:07:22.743Z"
   },
   {
    "duration": 19,
    "start_time": "2022-01-16T18:07:22.766Z"
   },
   {
    "duration": 19,
    "start_time": "2022-01-16T18:07:22.788Z"
   },
   {
    "duration": 19,
    "start_time": "2022-01-16T18:07:22.809Z"
   },
   {
    "duration": 30,
    "start_time": "2022-01-16T18:07:22.830Z"
   },
   {
    "duration": 16,
    "start_time": "2022-01-16T18:07:22.863Z"
   },
   {
    "duration": 15,
    "start_time": "2022-01-16T18:07:22.882Z"
   },
   {
    "duration": 9,
    "start_time": "2022-01-16T18:07:22.900Z"
   },
   {
    "duration": 9,
    "start_time": "2022-01-16T18:07:22.911Z"
   },
   {
    "duration": 14,
    "start_time": "2022-01-16T18:07:22.922Z"
   },
   {
    "duration": 15,
    "start_time": "2022-01-16T18:07:22.939Z"
   },
   {
    "duration": 15,
    "start_time": "2022-01-16T18:07:22.957Z"
   },
   {
    "duration": 11,
    "start_time": "2022-01-16T18:07:22.975Z"
   },
   {
    "duration": 15,
    "start_time": "2022-01-16T18:07:22.988Z"
   },
   {
    "duration": 8,
    "start_time": "2022-01-16T18:07:23.006Z"
   },
   {
    "duration": 14,
    "start_time": "2022-01-16T18:07:23.016Z"
   },
   {
    "duration": 24,
    "start_time": "2022-01-16T18:07:23.033Z"
   },
   {
    "duration": 11,
    "start_time": "2022-01-16T18:07:23.060Z"
   },
   {
    "duration": 19,
    "start_time": "2022-01-16T18:07:23.073Z"
   },
   {
    "duration": 13,
    "start_time": "2022-01-16T18:07:23.094Z"
   },
   {
    "duration": 21,
    "start_time": "2022-01-16T18:07:23.110Z"
   },
   {
    "duration": 10,
    "start_time": "2022-01-16T18:07:23.134Z"
   },
   {
    "duration": 10,
    "start_time": "2022-01-16T18:07:23.147Z"
   },
   {
    "duration": 8,
    "start_time": "2022-01-16T18:07:48.309Z"
   },
   {
    "duration": 9,
    "start_time": "2022-01-16T18:14:29.058Z"
   },
   {
    "duration": 12,
    "start_time": "2022-01-16T18:14:49.509Z"
   },
   {
    "duration": 285,
    "start_time": "2022-01-16T18:15:14.626Z"
   },
   {
    "duration": 10,
    "start_time": "2022-01-16T18:15:27.426Z"
   },
   {
    "duration": 538,
    "start_time": "2022-01-16T18:17:13.887Z"
   },
   {
    "duration": 1076,
    "start_time": "2022-01-16T18:17:40.225Z"
   },
   {
    "duration": 9,
    "start_time": "2022-01-16T18:18:33.837Z"
   },
   {
    "duration": 308,
    "start_time": "2022-01-16T18:18:42.887Z"
   },
   {
    "duration": -254,
    "start_time": "2022-01-16T18:19:04.545Z"
   },
   {
    "duration": 43,
    "start_time": "2022-01-16T18:19:23.938Z"
   },
   {
    "duration": 10,
    "start_time": "2022-01-16T18:19:44.644Z"
   },
   {
    "duration": 9,
    "start_time": "2022-01-16T18:20:58.281Z"
   },
   {
    "duration": 12,
    "start_time": "2022-01-16T18:21:40.491Z"
   },
   {
    "duration": 550,
    "start_time": "2022-01-16T18:25:37.728Z"
   },
   {
    "duration": 769,
    "start_time": "2022-01-16T18:25:59.843Z"
   },
   {
    "duration": 15,
    "start_time": "2022-01-16T18:26:07.572Z"
   },
   {
    "duration": 11,
    "start_time": "2022-01-16T18:26:19.604Z"
   },
   {
    "duration": 11,
    "start_time": "2022-01-16T18:26:59.164Z"
   },
   {
    "duration": 161,
    "start_time": "2022-01-16T18:28:16.860Z"
   },
   {
    "duration": 173,
    "start_time": "2022-01-16T18:28:22.778Z"
   },
   {
    "duration": 9,
    "start_time": "2022-01-16T18:28:36.070Z"
   },
   {
    "duration": 10,
    "start_time": "2022-01-16T18:29:30.437Z"
   },
   {
    "duration": 11,
    "start_time": "2022-01-16T18:29:50.001Z"
   },
   {
    "duration": 15,
    "start_time": "2022-01-16T18:30:03.835Z"
   },
   {
    "duration": 28,
    "start_time": "2022-01-16T18:32:39.381Z"
   },
   {
    "duration": 35,
    "start_time": "2022-01-16T18:41:35.958Z"
   },
   {
    "duration": 12,
    "start_time": "2022-01-16T18:42:06.451Z"
   },
   {
    "duration": 14,
    "start_time": "2022-01-16T18:42:28.812Z"
   },
   {
    "duration": 20,
    "start_time": "2022-01-16T18:43:29.410Z"
   },
   {
    "duration": 20,
    "start_time": "2022-01-16T18:43:56.654Z"
   },
   {
    "duration": 23,
    "start_time": "2022-01-16T18:44:14.586Z"
   },
   {
    "duration": 26,
    "start_time": "2022-01-16T18:44:20.080Z"
   },
   {
    "duration": 27,
    "start_time": "2022-01-16T18:44:39.043Z"
   },
   {
    "duration": 36,
    "start_time": "2022-01-16T18:44:46.458Z"
   },
   {
    "duration": 32,
    "start_time": "2022-01-16T18:45:00.198Z"
   },
   {
    "duration": 37,
    "start_time": "2022-01-16T18:45:03.486Z"
   },
   {
    "duration": 112,
    "start_time": "2022-01-16T18:56:15.048Z"
   },
   {
    "duration": 659,
    "start_time": "2022-01-16T18:56:29.315Z"
   },
   {
    "duration": 301,
    "start_time": "2022-01-16T18:56:47.826Z"
   },
   {
    "duration": 443,
    "start_time": "2022-01-16T18:57:05.219Z"
   },
   {
    "duration": 512,
    "start_time": "2022-01-16T18:57:17.468Z"
   },
   {
    "duration": 600,
    "start_time": "2022-01-16T18:58:42.842Z"
   },
   {
    "duration": 432,
    "start_time": "2022-01-16T18:58:51.339Z"
   },
   {
    "duration": 365,
    "start_time": "2022-01-16T18:59:25.868Z"
   },
   {
    "duration": 2080,
    "start_time": "2022-01-16T18:59:39.219Z"
   },
   {
    "duration": 463,
    "start_time": "2022-01-16T19:00:15.570Z"
   },
   {
    "duration": 126,
    "start_time": "2022-01-16T19:01:57.407Z"
   },
   {
    "duration": 100,
    "start_time": "2022-01-16T19:02:08.967Z"
   },
   {
    "duration": 98,
    "start_time": "2022-01-16T19:02:16.065Z"
   },
   {
    "duration": 161,
    "start_time": "2022-01-16T19:02:24.765Z"
   },
   {
    "duration": 218,
    "start_time": "2022-01-16T19:02:40.105Z"
   },
   {
    "duration": 95,
    "start_time": "2022-01-16T19:02:53.564Z"
   },
   {
    "duration": 132,
    "start_time": "2022-01-16T19:03:01.912Z"
   },
   {
    "duration": 101,
    "start_time": "2022-01-16T19:03:08.450Z"
   },
   {
    "duration": 99,
    "start_time": "2022-01-16T19:03:17.036Z"
   },
   {
    "duration": 96,
    "start_time": "2022-01-16T19:03:23.238Z"
   },
   {
    "duration": 108,
    "start_time": "2022-01-16T19:03:32.621Z"
   },
   {
    "duration": 106,
    "start_time": "2022-01-16T19:03:39.395Z"
   },
   {
    "duration": 104,
    "start_time": "2022-01-16T19:03:51.201Z"
   },
   {
    "duration": 108,
    "start_time": "2022-01-16T19:04:07.083Z"
   },
   {
    "duration": 111,
    "start_time": "2022-01-16T19:04:27.080Z"
   },
   {
    "duration": 118,
    "start_time": "2022-01-16T19:04:32.692Z"
   },
   {
    "duration": 441,
    "start_time": "2022-01-16T19:04:50.711Z"
   },
   {
    "duration": 119,
    "start_time": "2022-01-16T19:05:44.975Z"
   },
   {
    "duration": 175,
    "start_time": "2022-01-16T19:06:55.674Z"
   },
   {
    "duration": 122,
    "start_time": "2022-01-16T19:07:08.357Z"
   },
   {
    "duration": 98,
    "start_time": "2022-01-16T19:07:21.620Z"
   },
   {
    "duration": 138,
    "start_time": "2022-01-16T19:07:46.540Z"
   },
   {
    "duration": 160,
    "start_time": "2022-01-16T19:07:53.905Z"
   },
   {
    "duration": 108,
    "start_time": "2022-01-16T19:08:00.709Z"
   },
   {
    "duration": 96,
    "start_time": "2022-01-16T19:08:11.640Z"
   },
   {
    "duration": 119,
    "start_time": "2022-01-16T19:08:18.670Z"
   },
   {
    "duration": 106,
    "start_time": "2022-01-16T19:08:47.933Z"
   },
   {
    "duration": 4,
    "start_time": "2022-01-16T19:08:57.528Z"
   },
   {
    "duration": 135,
    "start_time": "2022-01-16T21:49:43.058Z"
   },
   {
    "duration": 6,
    "start_time": "2022-01-16T21:49:47.952Z"
   },
   {
    "duration": 305,
    "start_time": "2022-01-16T21:49:54.244Z"
   },
   {
    "duration": 498,
    "start_time": "2022-01-16T21:50:00.368Z"
   },
   {
    "duration": 8,
    "start_time": "2022-01-16T21:50:12.576Z"
   },
   {
    "duration": 5,
    "start_time": "2022-01-16T21:51:05.175Z"
   },
   {
    "duration": 4,
    "start_time": "2022-01-16T21:51:08.857Z"
   },
   {
    "duration": 5,
    "start_time": "2022-01-16T21:51:11.171Z"
   },
   {
    "duration": 5,
    "start_time": "2022-01-16T21:51:33.681Z"
   },
   {
    "duration": 61,
    "start_time": "2022-01-16T21:51:40.730Z"
   },
   {
    "duration": 6,
    "start_time": "2022-01-16T21:51:40.794Z"
   },
   {
    "duration": 65,
    "start_time": "2022-01-16T21:51:40.804Z"
   },
   {
    "duration": 31,
    "start_time": "2022-01-16T21:51:40.872Z"
   },
   {
    "duration": 10,
    "start_time": "2022-01-16T21:51:40.905Z"
   },
   {
    "duration": 50,
    "start_time": "2022-01-16T21:51:40.918Z"
   },
   {
    "duration": 19,
    "start_time": "2022-01-16T21:51:40.970Z"
   },
   {
    "duration": 23,
    "start_time": "2022-01-16T21:51:40.992Z"
   },
   {
    "duration": 74,
    "start_time": "2022-01-16T21:51:41.019Z"
   },
   {
    "duration": 3,
    "start_time": "2022-01-16T21:51:41.096Z"
   },
   {
    "duration": 5,
    "start_time": "2022-01-16T21:51:41.101Z"
   },
   {
    "duration": 7,
    "start_time": "2022-01-16T21:51:41.108Z"
   },
   {
    "duration": 3,
    "start_time": "2022-01-16T21:51:41.118Z"
   },
   {
    "duration": 40,
    "start_time": "2022-01-16T21:51:41.123Z"
   },
   {
    "duration": 3,
    "start_time": "2022-01-16T21:51:41.165Z"
   },
   {
    "duration": 6,
    "start_time": "2022-01-16T21:51:41.170Z"
   },
   {
    "duration": 5,
    "start_time": "2022-01-16T21:51:41.179Z"
   },
   {
    "duration": 6,
    "start_time": "2022-01-16T21:51:41.187Z"
   },
   {
    "duration": 4,
    "start_time": "2022-01-16T21:51:41.195Z"
   },
   {
    "duration": 5,
    "start_time": "2022-01-16T21:51:41.202Z"
   },
   {
    "duration": 5,
    "start_time": "2022-01-16T21:51:41.209Z"
   },
   {
    "duration": 47,
    "start_time": "2022-01-16T21:51:41.217Z"
   },
   {
    "duration": 5,
    "start_time": "2022-01-16T21:51:41.267Z"
   },
   {
    "duration": 8,
    "start_time": "2022-01-16T21:51:41.274Z"
   },
   {
    "duration": 9,
    "start_time": "2022-01-16T21:51:41.284Z"
   },
   {
    "duration": 7,
    "start_time": "2022-01-16T21:51:41.295Z"
   },
   {
    "duration": 6,
    "start_time": "2022-01-16T21:51:41.309Z"
   },
   {
    "duration": 6,
    "start_time": "2022-01-16T21:51:41.319Z"
   },
   {
    "duration": 5,
    "start_time": "2022-01-16T21:51:41.328Z"
   },
   {
    "duration": 11,
    "start_time": "2022-01-16T21:51:41.364Z"
   },
   {
    "duration": 7,
    "start_time": "2022-01-16T21:51:41.377Z"
   },
   {
    "duration": 6,
    "start_time": "2022-01-16T21:51:41.386Z"
   },
   {
    "duration": 7,
    "start_time": "2022-01-16T21:51:41.394Z"
   },
   {
    "duration": 6,
    "start_time": "2022-01-16T21:51:41.403Z"
   },
   {
    "duration": 5,
    "start_time": "2022-01-16T21:51:41.411Z"
   },
   {
    "duration": 5,
    "start_time": "2022-01-16T21:51:41.419Z"
   },
   {
    "duration": 5,
    "start_time": "2022-01-16T21:51:41.426Z"
   },
   {
    "duration": 3,
    "start_time": "2022-01-16T21:51:41.463Z"
   },
   {
    "duration": 5,
    "start_time": "2022-01-16T21:51:41.468Z"
   },
   {
    "duration": 5,
    "start_time": "2022-01-16T21:51:41.475Z"
   },
   {
    "duration": 5,
    "start_time": "2022-01-16T21:51:41.482Z"
   },
   {
    "duration": 4,
    "start_time": "2022-01-16T21:51:41.489Z"
   },
   {
    "duration": 5,
    "start_time": "2022-01-16T21:51:41.495Z"
   },
   {
    "duration": 5,
    "start_time": "2022-01-16T21:51:41.502Z"
   },
   {
    "duration": 5,
    "start_time": "2022-01-16T21:51:41.509Z"
   },
   {
    "duration": 47,
    "start_time": "2022-01-16T21:51:41.517Z"
   },
   {
    "duration": 4,
    "start_time": "2022-01-16T21:51:41.568Z"
   },
   {
    "duration": 4,
    "start_time": "2022-01-16T21:51:41.575Z"
   },
   {
    "duration": 4,
    "start_time": "2022-01-16T21:51:41.583Z"
   },
   {
    "duration": 7,
    "start_time": "2022-01-16T21:51:41.591Z"
   },
   {
    "duration": 5,
    "start_time": "2022-01-16T21:51:41.600Z"
   },
   {
    "duration": 54,
    "start_time": "2022-01-16T21:51:41.608Z"
   },
   {
    "duration": 4,
    "start_time": "2022-01-16T21:51:41.665Z"
   },
   {
    "duration": 4,
    "start_time": "2022-01-16T21:51:41.672Z"
   },
   {
    "duration": 5,
    "start_time": "2022-01-16T21:51:41.678Z"
   },
   {
    "duration": 6,
    "start_time": "2022-01-16T21:51:41.685Z"
   },
   {
    "duration": 8,
    "start_time": "2022-01-16T21:51:41.693Z"
   },
   {
    "duration": 5,
    "start_time": "2022-01-16T21:51:41.703Z"
   },
   {
    "duration": 5,
    "start_time": "2022-01-16T21:51:41.710Z"
   },
   {
    "duration": 7,
    "start_time": "2022-01-16T21:51:41.717Z"
   },
   {
    "duration": 5,
    "start_time": "2022-01-16T21:51:41.763Z"
   },
   {
    "duration": 5,
    "start_time": "2022-01-16T21:51:41.770Z"
   },
   {
    "duration": 5,
    "start_time": "2022-01-16T21:51:41.777Z"
   },
   {
    "duration": 5,
    "start_time": "2022-01-16T21:51:41.785Z"
   },
   {
    "duration": 5,
    "start_time": "2022-01-16T21:51:41.792Z"
   },
   {
    "duration": 5,
    "start_time": "2022-01-16T21:51:41.799Z"
   },
   {
    "duration": 5,
    "start_time": "2022-01-16T21:51:41.806Z"
   },
   {
    "duration": 49,
    "start_time": "2022-01-16T21:51:41.814Z"
   },
   {
    "duration": 3,
    "start_time": "2022-01-16T21:51:41.868Z"
   },
   {
    "duration": 5,
    "start_time": "2022-01-16T21:51:41.873Z"
   },
   {
    "duration": 5,
    "start_time": "2022-01-16T21:51:41.880Z"
   },
   {
    "duration": 6,
    "start_time": "2022-01-16T21:51:55.717Z"
   },
   {
    "duration": 5,
    "start_time": "2022-01-16T21:52:02.291Z"
   },
   {
    "duration": 298,
    "start_time": "2022-01-16T21:52:30.521Z"
   },
   {
    "duration": 22,
    "start_time": "2022-01-16T21:54:37.843Z"
   },
   {
    "duration": 18,
    "start_time": "2022-01-16T21:55:40.013Z"
   },
   {
    "duration": 21,
    "start_time": "2022-01-16T21:55:56.721Z"
   },
   {
    "duration": 133,
    "start_time": "2022-01-16T21:56:08.911Z"
   },
   {
    "duration": 13,
    "start_time": "2022-01-16T21:56:13.174Z"
   },
   {
    "duration": 28,
    "start_time": "2022-01-16T21:56:18.313Z"
   },
   {
    "duration": 9,
    "start_time": "2022-01-16T21:58:12.047Z"
   },
   {
    "duration": 13,
    "start_time": "2022-01-16T22:01:34.406Z"
   },
   {
    "duration": 10,
    "start_time": "2022-01-16T22:10:39.246Z"
   },
   {
    "duration": 13,
    "start_time": "2022-01-16T22:10:55.491Z"
   },
   {
    "duration": 11,
    "start_time": "2022-01-16T22:11:07.209Z"
   },
   {
    "duration": 13,
    "start_time": "2022-01-16T22:11:09.013Z"
   },
   {
    "duration": 9,
    "start_time": "2022-01-16T22:11:16.048Z"
   },
   {
    "duration": 11,
    "start_time": "2022-01-16T22:11:19.204Z"
   },
   {
    "duration": 10,
    "start_time": "2022-01-16T22:11:23.012Z"
   },
   {
    "duration": 5,
    "start_time": "2022-01-16T22:11:38.665Z"
   },
   {
    "duration": 10,
    "start_time": "2022-01-16T22:11:39.698Z"
   },
   {
    "duration": 12,
    "start_time": "2022-01-16T22:12:28.374Z"
   },
   {
    "duration": 13,
    "start_time": "2022-01-16T22:13:23.133Z"
   },
   {
    "duration": 26,
    "start_time": "2022-01-16T22:15:31.863Z"
   },
   {
    "duration": 37,
    "start_time": "2022-01-16T22:17:33.576Z"
   },
   {
    "duration": 37,
    "start_time": "2022-01-16T22:17:44.979Z"
   },
   {
    "duration": 308,
    "start_time": "2022-01-16T22:17:56.761Z"
   },
   {
    "duration": 11,
    "start_time": "2022-01-16T22:18:04.808Z"
   },
   {
    "duration": 20,
    "start_time": "2022-01-16T22:19:44.968Z"
   },
   {
    "duration": 724,
    "start_time": "2022-01-16T22:20:03.051Z"
   },
   {
    "duration": 299,
    "start_time": "2022-01-16T22:20:13.367Z"
   },
   {
    "duration": 20,
    "start_time": "2022-01-16T22:20:20.819Z"
   },
   {
    "duration": 118,
    "start_time": "2022-01-16T22:20:31.312Z"
   },
   {
    "duration": 14,
    "start_time": "2022-01-16T22:20:34.353Z"
   },
   {
    "duration": 14,
    "start_time": "2022-01-16T22:20:47.052Z"
   },
   {
    "duration": 309,
    "start_time": "2022-01-16T22:23:23.239Z"
   },
   {
    "duration": 293,
    "start_time": "2022-01-16T22:23:52.260Z"
   },
   {
    "duration": 296,
    "start_time": "2022-01-16T22:24:23.392Z"
   },
   {
    "duration": 311,
    "start_time": "2022-01-16T22:24:46.797Z"
   },
   {
    "duration": 288,
    "start_time": "2022-01-16T22:30:29.734Z"
   },
   {
    "duration": 109,
    "start_time": "2022-01-16T22:32:52.840Z"
   },
   {
    "duration": 311,
    "start_time": "2022-01-16T22:33:11.987Z"
   },
   {
    "duration": 290,
    "start_time": "2022-01-16T22:33:25.488Z"
   },
   {
    "duration": 15,
    "start_time": "2022-01-16T22:33:39.702Z"
   },
   {
    "duration": -209,
    "start_time": "2022-01-16T22:34:13.298Z"
   },
   {
    "duration": 13,
    "start_time": "2022-01-16T22:34:28.506Z"
   },
   {
    "duration": 1913,
    "start_time": "2022-01-16T22:34:35.615Z"
   },
   {
    "duration": 12,
    "start_time": "2022-01-16T22:34:40.789Z"
   },
   {
    "duration": 9,
    "start_time": "2022-01-16T22:34:49.982Z"
   },
   {
    "duration": 11,
    "start_time": "2022-01-17T01:33:59.858Z"
   },
   {
    "duration": -330,
    "start_time": "2022-01-17T01:34:36.054Z"
   },
   {
    "duration": 302,
    "start_time": "2022-01-17T01:34:44.000Z"
   },
   {
    "duration": 13,
    "start_time": "2022-01-17T01:34:52.595Z"
   },
   {
    "duration": 39,
    "start_time": "2022-01-17T01:35:09.666Z"
   },
   {
    "duration": 95,
    "start_time": "2022-01-17T01:35:24.603Z"
   },
   {
    "duration": 13,
    "start_time": "2022-01-17T01:35:40.396Z"
   },
   {
    "duration": 12,
    "start_time": "2022-01-17T01:36:28.620Z"
   },
   {
    "duration": 11,
    "start_time": "2022-01-17T01:37:12.041Z"
   },
   {
    "duration": 35,
    "start_time": "2022-01-17T01:37:26.150Z"
   },
   {
    "duration": 37,
    "start_time": "2022-01-17T01:37:47.044Z"
   },
   {
    "duration": 38,
    "start_time": "2022-01-17T01:37:55.098Z"
   },
   {
    "duration": 36,
    "start_time": "2022-01-17T01:38:18.345Z"
   },
   {
    "duration": 37,
    "start_time": "2022-01-17T01:38:26.339Z"
   },
   {
    "duration": 16,
    "start_time": "2022-01-17T01:38:33.734Z"
   },
   {
    "duration": 18,
    "start_time": "2022-01-17T01:38:39.288Z"
   },
   {
    "duration": 58,
    "start_time": "2022-01-17T01:39:05.281Z"
   },
   {
    "duration": 5,
    "start_time": "2022-01-17T01:39:05.342Z"
   },
   {
    "duration": 28,
    "start_time": "2022-01-17T01:39:05.349Z"
   },
   {
    "duration": 30,
    "start_time": "2022-01-17T01:39:05.380Z"
   },
   {
    "duration": 12,
    "start_time": "2022-01-17T01:39:05.412Z"
   },
   {
    "duration": 43,
    "start_time": "2022-01-17T01:39:05.426Z"
   },
   {
    "duration": 19,
    "start_time": "2022-01-17T01:39:05.472Z"
   },
   {
    "duration": 24,
    "start_time": "2022-01-17T01:39:05.494Z"
   },
   {
    "duration": 34,
    "start_time": "2022-01-17T01:39:05.562Z"
   },
   {
    "duration": 3,
    "start_time": "2022-01-17T01:39:05.599Z"
   },
   {
    "duration": 5,
    "start_time": "2022-01-17T01:39:05.605Z"
   },
   {
    "duration": 57,
    "start_time": "2022-01-17T01:39:05.612Z"
   },
   {
    "duration": 15,
    "start_time": "2022-01-17T01:39:05.672Z"
   },
   {
    "duration": 30,
    "start_time": "2022-01-17T01:39:05.690Z"
   },
   {
    "duration": 47,
    "start_time": "2022-01-17T01:39:05.723Z"
   },
   {
    "duration": 34,
    "start_time": "2022-01-17T01:39:05.773Z"
   },
   {
    "duration": 16,
    "start_time": "2022-01-17T01:39:05.810Z"
   },
   {
    "duration": 15,
    "start_time": "2022-01-17T01:39:05.864Z"
   },
   {
    "duration": 3,
    "start_time": "2022-01-17T01:39:05.882Z"
   },
   {
    "duration": 6,
    "start_time": "2022-01-17T01:39:05.888Z"
   },
   {
    "duration": 6,
    "start_time": "2022-01-17T01:39:05.897Z"
   },
   {
    "duration": 3,
    "start_time": "2022-01-17T01:39:05.906Z"
   },
   {
    "duration": 6,
    "start_time": "2022-01-17T01:39:05.911Z"
   },
   {
    "duration": 5,
    "start_time": "2022-01-17T01:39:05.964Z"
   },
   {
    "duration": 5,
    "start_time": "2022-01-17T01:39:05.971Z"
   },
   {
    "duration": 10,
    "start_time": "2022-01-17T01:39:05.979Z"
   },
   {
    "duration": 3,
    "start_time": "2022-01-17T01:39:05.996Z"
   },
   {
    "duration": 7,
    "start_time": "2022-01-17T01:39:06.003Z"
   },
   {
    "duration": 11,
    "start_time": "2022-01-17T01:39:06.013Z"
   },
   {
    "duration": 5,
    "start_time": "2022-01-17T01:39:06.027Z"
   },
   {
    "duration": 30,
    "start_time": "2022-01-17T01:39:06.034Z"
   },
   {
    "duration": 5,
    "start_time": "2022-01-17T01:39:06.067Z"
   },
   {
    "duration": 6,
    "start_time": "2022-01-17T01:39:06.074Z"
   },
   {
    "duration": 5,
    "start_time": "2022-01-17T01:39:06.083Z"
   },
   {
    "duration": 5,
    "start_time": "2022-01-17T01:39:06.091Z"
   },
   {
    "duration": 6,
    "start_time": "2022-01-17T01:39:06.098Z"
   },
   {
    "duration": 5,
    "start_time": "2022-01-17T01:39:06.106Z"
   },
   {
    "duration": 6,
    "start_time": "2022-01-17T01:39:06.113Z"
   },
   {
    "duration": 5,
    "start_time": "2022-01-17T01:39:06.121Z"
   },
   {
    "duration": 3,
    "start_time": "2022-01-17T01:39:06.164Z"
   },
   {
    "duration": 5,
    "start_time": "2022-01-17T01:39:06.169Z"
   },
   {
    "duration": 6,
    "start_time": "2022-01-17T01:39:06.176Z"
   },
   {
    "duration": 5,
    "start_time": "2022-01-17T01:39:06.184Z"
   },
   {
    "duration": 7,
    "start_time": "2022-01-17T01:39:06.192Z"
   },
   {
    "duration": 6,
    "start_time": "2022-01-17T01:39:06.201Z"
   },
   {
    "duration": 5,
    "start_time": "2022-01-17T01:39:06.209Z"
   },
   {
    "duration": 46,
    "start_time": "2022-01-17T01:39:06.217Z"
   },
   {
    "duration": 4,
    "start_time": "2022-01-17T01:39:06.265Z"
   },
   {
    "duration": 6,
    "start_time": "2022-01-17T01:39:06.271Z"
   },
   {
    "duration": 5,
    "start_time": "2022-01-17T01:39:06.279Z"
   },
   {
    "duration": 5,
    "start_time": "2022-01-17T01:39:06.286Z"
   },
   {
    "duration": 9,
    "start_time": "2022-01-17T01:39:06.294Z"
   },
   {
    "duration": 5,
    "start_time": "2022-01-17T01:39:06.305Z"
   },
   {
    "duration": 4,
    "start_time": "2022-01-17T01:39:06.313Z"
   },
   {
    "duration": 43,
    "start_time": "2022-01-17T01:39:06.320Z"
   },
   {
    "duration": 6,
    "start_time": "2022-01-17T01:39:06.365Z"
   },
   {
    "duration": 7,
    "start_time": "2022-01-17T01:39:06.373Z"
   },
   {
    "duration": 6,
    "start_time": "2022-01-17T01:39:06.382Z"
   },
   {
    "duration": 6,
    "start_time": "2022-01-17T01:39:06.390Z"
   },
   {
    "duration": 6,
    "start_time": "2022-01-17T01:39:06.398Z"
   },
   {
    "duration": 5,
    "start_time": "2022-01-17T01:39:06.406Z"
   },
   {
    "duration": 9,
    "start_time": "2022-01-17T01:39:06.413Z"
   },
   {
    "duration": 39,
    "start_time": "2022-01-17T01:39:06.424Z"
   },
   {
    "duration": 6,
    "start_time": "2022-01-17T01:39:06.466Z"
   },
   {
    "duration": 5,
    "start_time": "2022-01-17T01:39:06.474Z"
   },
   {
    "duration": 4,
    "start_time": "2022-01-17T01:39:06.482Z"
   },
   {
    "duration": 4,
    "start_time": "2022-01-17T01:39:06.489Z"
   },
   {
    "duration": 6,
    "start_time": "2022-01-17T01:39:06.495Z"
   },
   {
    "duration": 5,
    "start_time": "2022-01-17T01:39:06.504Z"
   },
   {
    "duration": 4,
    "start_time": "2022-01-17T01:39:06.511Z"
   },
   {
    "duration": 5,
    "start_time": "2022-01-17T01:39:06.517Z"
   },
   {
    "duration": 12,
    "start_time": "2022-01-17T01:39:31.253Z"
   },
   {
    "duration": 297,
    "start_time": "2022-01-17T01:40:32.181Z"
   },
   {
    "duration": 12,
    "start_time": "2022-01-17T01:41:51.725Z"
   },
   {
    "duration": 14,
    "start_time": "2022-01-17T01:41:57.338Z"
   },
   {
    "duration": 15,
    "start_time": "2022-01-17T01:45:14.712Z"
   },
   {
    "duration": 15,
    "start_time": "2022-01-17T01:45:18.157Z"
   },
   {
    "duration": 22,
    "start_time": "2022-01-17T03:02:36.899Z"
   },
   {
    "duration": 8,
    "start_time": "2022-01-17T03:03:14.577Z"
   },
   {
    "duration": 6,
    "start_time": "2022-01-17T03:03:47.177Z"
   },
   {
    "duration": 10,
    "start_time": "2022-01-17T03:04:15.638Z"
   },
   {
    "duration": 15,
    "start_time": "2022-01-17T03:04:47.243Z"
   },
   {
    "duration": 11,
    "start_time": "2022-01-17T03:05:35.032Z"
   },
   {
    "duration": 9,
    "start_time": "2022-01-17T03:08:35.982Z"
   },
   {
    "duration": 8,
    "start_time": "2022-01-17T03:09:14.023Z"
   },
   {
    "duration": 342,
    "start_time": "2022-01-17T03:09:48.209Z"
   },
   {
    "duration": 6,
    "start_time": "2022-01-17T03:09:57.326Z"
   },
   {
    "duration": 283,
    "start_time": "2022-01-17T03:10:23.192Z"
   },
   {
    "duration": 11,
    "start_time": "2022-01-17T03:10:41.831Z"
   },
   {
    "duration": 13,
    "start_time": "2022-01-17T03:11:57.569Z"
   },
   {
    "duration": 9,
    "start_time": "2022-01-17T03:13:06.423Z"
   },
   {
    "duration": 7314,
    "start_time": "2022-01-17T03:17:32.491Z"
   },
   {
    "duration": 12,
    "start_time": "2022-01-17T03:17:58.643Z"
   },
   {
    "duration": 295,
    "start_time": "2022-01-17T03:18:04.159Z"
   },
   {
    "duration": 10,
    "start_time": "2022-01-17T03:18:09.397Z"
   },
   {
    "duration": 4,
    "start_time": "2022-01-17T13:53:14.839Z"
   },
   {
    "duration": 11,
    "start_time": "2022-01-17T13:53:21.416Z"
   },
   {
    "duration": 19,
    "start_time": "2022-01-17T13:54:10.570Z"
   },
   {
    "duration": 20,
    "start_time": "2022-01-17T13:54:26.904Z"
   },
   {
    "duration": 17,
    "start_time": "2022-01-17T13:54:33.747Z"
   },
   {
    "duration": 14,
    "start_time": "2022-01-17T13:54:41.712Z"
   },
   {
    "duration": 22,
    "start_time": "2022-01-17T13:55:26.975Z"
   },
   {
    "duration": 44,
    "start_time": "2022-01-17T13:55:56.071Z"
   },
   {
    "duration": 45,
    "start_time": "2022-01-17T13:56:58.402Z"
   },
   {
    "duration": 20,
    "start_time": "2022-01-17T13:59:41.574Z"
   },
   {
    "duration": 25,
    "start_time": "2022-01-17T14:15:33.715Z"
   },
   {
    "duration": 32,
    "start_time": "2022-01-17T14:15:47.066Z"
   },
   {
    "duration": 27,
    "start_time": "2022-01-17T14:15:52.698Z"
   },
   {
    "duration": 30,
    "start_time": "2022-01-17T14:16:36.218Z"
   },
   {
    "duration": 8,
    "start_time": "2022-01-17T14:20:03.874Z"
   },
   {
    "duration": 14,
    "start_time": "2022-01-17T14:20:27.120Z"
   },
   {
    "duration": 9,
    "start_time": "2022-01-17T14:20:40.029Z"
   },
   {
    "duration": 15,
    "start_time": "2022-01-17T14:20:43.210Z"
   },
   {
    "duration": 29,
    "start_time": "2022-01-17T14:21:02.961Z"
   },
   {
    "duration": 33,
    "start_time": "2022-01-17T14:21:24.710Z"
   },
   {
    "duration": 27,
    "start_time": "2022-01-17T14:21:52.663Z"
   },
   {
    "duration": 24,
    "start_time": "2022-01-17T14:26:11.050Z"
   },
   {
    "duration": 21,
    "start_time": "2022-01-17T14:26:16.012Z"
   },
   {
    "duration": 14,
    "start_time": "2022-01-17T14:27:35.188Z"
   },
   {
    "duration": 90,
    "start_time": "2022-01-17T14:32:05.061Z"
   },
   {
    "duration": 30,
    "start_time": "2022-01-17T14:32:26.077Z"
   },
   {
    "duration": 44,
    "start_time": "2022-01-17T14:33:18.661Z"
   },
   {
    "duration": 19,
    "start_time": "2022-01-17T14:33:26.045Z"
   },
   {
    "duration": 24,
    "start_time": "2022-01-17T14:33:42.177Z"
   },
   {
    "duration": 719,
    "start_time": "2022-01-17T14:33:55.322Z"
   },
   {
    "duration": 292,
    "start_time": "2022-01-17T14:35:31.662Z"
   },
   {
    "duration": 371,
    "start_time": "2022-01-17T14:35:56.388Z"
   },
   {
    "duration": 19,
    "start_time": "2022-01-17T14:36:11.975Z"
   },
   {
    "duration": 24,
    "start_time": "2022-01-17T14:36:22.205Z"
   },
   {
    "duration": 24,
    "start_time": "2022-01-17T14:36:40.489Z"
   },
   {
    "duration": 24,
    "start_time": "2022-01-17T14:37:10.146Z"
   },
   {
    "duration": 21,
    "start_time": "2022-01-17T14:37:45.651Z"
   },
   {
    "duration": 25,
    "start_time": "2022-01-17T14:37:51.745Z"
   },
   {
    "duration": 25,
    "start_time": "2022-01-17T14:38:06.790Z"
   },
   {
    "duration": 24,
    "start_time": "2022-01-17T14:38:47.711Z"
   },
   {
    "duration": 24,
    "start_time": "2022-01-17T14:39:03.411Z"
   },
   {
    "duration": 438,
    "start_time": "2022-01-17T14:39:19.127Z"
   },
   {
    "duration": 295,
    "start_time": "2022-01-17T14:39:32.361Z"
   },
   {
    "duration": 294,
    "start_time": "2022-01-17T14:39:48.677Z"
   },
   {
    "duration": 365,
    "start_time": "2022-01-17T14:40:08.076Z"
   },
   {
    "duration": 297,
    "start_time": "2022-01-17T14:45:25.662Z"
   },
   {
    "duration": 308,
    "start_time": "2022-01-17T14:45:39.052Z"
   },
   {
    "duration": 25,
    "start_time": "2022-01-17T14:45:54.746Z"
   },
   {
    "duration": 49,
    "start_time": "2022-01-17T14:46:00.709Z"
   },
   {
    "duration": 47,
    "start_time": "2022-01-17T14:46:16.059Z"
   },
   {
    "duration": 88,
    "start_time": "2022-01-17T14:48:02.705Z"
   },
   {
    "duration": 23,
    "start_time": "2022-01-17T14:48:11.638Z"
   },
   {
    "duration": 83,
    "start_time": "2022-01-17T14:49:14.737Z"
   },
   {
    "duration": 5,
    "start_time": "2022-01-17T14:50:11.340Z"
   },
   {
    "duration": 116,
    "start_time": "2022-01-17T16:53:08.357Z"
   },
   {
    "duration": 91,
    "start_time": "2022-01-17T16:53:19.365Z"
   },
   {
    "duration": 6,
    "start_time": "2022-01-17T16:53:32.145Z"
   },
   {
    "duration": 406,
    "start_time": "2022-01-17T16:55:51.964Z"
   },
   {
    "duration": 445,
    "start_time": "2022-01-17T16:57:26.659Z"
   },
   {
    "duration": 496,
    "start_time": "2022-01-17T16:57:40.377Z"
   },
   {
    "duration": 5,
    "start_time": "2022-01-17T16:57:48.976Z"
   },
   {
    "duration": 269,
    "start_time": "2022-01-17T16:59:50.726Z"
   },
   {
    "duration": 6,
    "start_time": "2022-01-17T17:00:01.665Z"
   },
   {
    "duration": 537,
    "start_time": "2022-01-17T17:00:28.714Z"
   },
   {
    "duration": 268,
    "start_time": "2022-01-17T17:00:50.790Z"
   },
   {
    "duration": 5,
    "start_time": "2022-01-17T17:00:57.328Z"
   },
   {
    "duration": 293,
    "start_time": "2022-01-17T17:01:06.090Z"
   },
   {
    "duration": 7,
    "start_time": "2022-01-17T17:01:39.667Z"
   },
   {
    "duration": 5,
    "start_time": "2022-01-17T17:02:00.826Z"
   },
   {
    "duration": 5,
    "start_time": "2022-01-17T17:02:09.047Z"
   },
   {
    "duration": 435,
    "start_time": "2022-01-17T17:03:24.709Z"
   },
   {
    "duration": 5,
    "start_time": "2022-01-17T17:03:35.392Z"
   },
   {
    "duration": 5,
    "start_time": "2022-01-17T17:03:47.690Z"
   },
   {
    "duration": 6,
    "start_time": "2022-01-17T17:06:55.417Z"
   },
   {
    "duration": 395,
    "start_time": "2022-01-17T17:06:57.721Z"
   },
   {
    "duration": 13,
    "start_time": "2022-01-17T17:07:00.006Z"
   },
   {
    "duration": 62,
    "start_time": "2022-01-17T17:09:16.827Z"
   },
   {
    "duration": 5,
    "start_time": "2022-01-17T17:09:16.892Z"
   },
   {
    "duration": 20,
    "start_time": "2022-01-17T17:09:16.900Z"
   },
   {
    "duration": 75,
    "start_time": "2022-01-17T17:09:16.923Z"
   },
   {
    "duration": 11,
    "start_time": "2022-01-17T17:09:17.000Z"
   },
   {
    "duration": 8,
    "start_time": "2022-01-17T17:09:17.014Z"
   },
   {
    "duration": 20,
    "start_time": "2022-01-17T17:09:17.066Z"
   },
   {
    "duration": 30,
    "start_time": "2022-01-17T17:09:17.089Z"
   },
   {
    "duration": 58,
    "start_time": "2022-01-17T17:09:17.123Z"
   },
   {
    "duration": 3,
    "start_time": "2022-01-17T17:09:17.184Z"
   },
   {
    "duration": 8,
    "start_time": "2022-01-17T17:09:17.190Z"
   },
   {
    "duration": 25,
    "start_time": "2022-01-17T17:09:17.200Z"
   },
   {
    "duration": 40,
    "start_time": "2022-01-17T17:09:17.228Z"
   },
   {
    "duration": 36,
    "start_time": "2022-01-17T17:09:17.271Z"
   },
   {
    "duration": 16,
    "start_time": "2022-01-17T17:09:17.309Z"
   },
   {
    "duration": 18,
    "start_time": "2022-01-17T17:09:17.328Z"
   },
   {
    "duration": 23,
    "start_time": "2022-01-17T17:09:17.348Z"
   },
   {
    "duration": 41,
    "start_time": "2022-01-17T17:09:17.373Z"
   },
   {
    "duration": 16,
    "start_time": "2022-01-17T17:09:17.416Z"
   },
   {
    "duration": 20,
    "start_time": "2022-01-17T17:09:17.434Z"
   },
   {
    "duration": 48,
    "start_time": "2022-01-17T17:09:17.456Z"
   },
   {
    "duration": 10,
    "start_time": "2022-01-17T17:09:17.506Z"
   },
   {
    "duration": 10,
    "start_time": "2022-01-17T17:09:17.518Z"
   },
   {
    "duration": 31,
    "start_time": "2022-01-17T17:09:17.530Z"
   },
   {
    "duration": 3,
    "start_time": "2022-01-17T17:09:17.564Z"
   },
   {
    "duration": 6,
    "start_time": "2022-01-17T17:09:17.570Z"
   },
   {
    "duration": 29,
    "start_time": "2022-01-17T17:09:17.584Z"
   },
   {
    "duration": 5,
    "start_time": "2022-01-17T17:09:17.617Z"
   },
   {
    "duration": 52,
    "start_time": "2022-01-17T17:09:17.625Z"
   },
   {
    "duration": 24,
    "start_time": "2022-01-17T17:09:17.679Z"
   },
   {
    "duration": 3,
    "start_time": "2022-01-17T17:09:17.705Z"
   },
   {
    "duration": 10,
    "start_time": "2022-01-17T17:09:17.711Z"
   },
   {
    "duration": 106,
    "start_time": "2022-01-17T17:09:17.723Z"
   },
   {
    "duration": 3,
    "start_time": "2022-01-17T17:09:17.832Z"
   },
   {
    "duration": 46,
    "start_time": "2022-01-17T17:09:17.837Z"
   },
   {
    "duration": 16,
    "start_time": "2022-01-17T17:09:17.886Z"
   },
   {
    "duration": 8,
    "start_time": "2022-01-17T17:09:17.904Z"
   },
   {
    "duration": 9,
    "start_time": "2022-01-17T17:09:17.914Z"
   },
   {
    "duration": 9,
    "start_time": "2022-01-17T17:09:17.925Z"
   },
   {
    "duration": 431,
    "start_time": "2022-01-17T17:09:17.937Z"
   },
   {
    "duration": 13,
    "start_time": "2022-01-17T17:09:18.370Z"
   },
   {
    "duration": 8,
    "start_time": "2022-01-17T17:09:18.386Z"
   },
   {
    "duration": 12,
    "start_time": "2022-01-17T17:09:18.396Z"
   },
   {
    "duration": 9,
    "start_time": "2022-01-17T17:09:18.410Z"
   },
   {
    "duration": 9,
    "start_time": "2022-01-17T17:09:18.421Z"
   },
   {
    "duration": 7,
    "start_time": "2022-01-17T17:09:18.433Z"
   },
   {
    "duration": 28,
    "start_time": "2022-01-17T17:09:18.443Z"
   },
   {
    "duration": 7,
    "start_time": "2022-01-17T17:09:18.474Z"
   },
   {
    "duration": 7,
    "start_time": "2022-01-17T17:09:18.483Z"
   },
   {
    "duration": 6,
    "start_time": "2022-01-17T17:09:18.492Z"
   },
   {
    "duration": 6,
    "start_time": "2022-01-17T17:09:18.501Z"
   },
   {
    "duration": 14,
    "start_time": "2022-01-17T17:09:18.510Z"
   },
   {
    "duration": 6,
    "start_time": "2022-01-17T17:09:18.526Z"
   },
   {
    "duration": 6,
    "start_time": "2022-01-17T17:09:18.535Z"
   },
   {
    "duration": 6,
    "start_time": "2022-01-17T17:09:18.565Z"
   },
   {
    "duration": 10,
    "start_time": "2022-01-17T17:09:18.573Z"
   },
   {
    "duration": 6,
    "start_time": "2022-01-17T17:09:18.585Z"
   },
   {
    "duration": 5,
    "start_time": "2022-01-17T17:09:18.594Z"
   },
   {
    "duration": 6,
    "start_time": "2022-01-17T17:09:18.601Z"
   },
   {
    "duration": 6,
    "start_time": "2022-01-17T17:09:18.609Z"
   },
   {
    "duration": 10,
    "start_time": "2022-01-17T17:09:18.617Z"
   },
   {
    "duration": 7,
    "start_time": "2022-01-17T17:09:18.629Z"
   },
   {
    "duration": 28,
    "start_time": "2022-01-17T17:09:18.638Z"
   },
   {
    "duration": 7,
    "start_time": "2022-01-17T17:09:18.669Z"
   },
   {
    "duration": 6,
    "start_time": "2022-01-17T17:09:18.678Z"
   },
   {
    "duration": 6,
    "start_time": "2022-01-17T17:09:18.687Z"
   },
   {
    "duration": 6,
    "start_time": "2022-01-17T17:09:18.695Z"
   },
   {
    "duration": 7,
    "start_time": "2022-01-17T17:09:18.704Z"
   },
   {
    "duration": 10,
    "start_time": "2022-01-17T17:09:18.713Z"
   },
   {
    "duration": 11,
    "start_time": "2022-01-17T17:09:18.726Z"
   },
   {
    "duration": 3,
    "start_time": "2022-01-17T17:09:18.764Z"
   },
   {
    "duration": 383,
    "start_time": "2022-01-19T01:11:45.408Z"
   },
   {
    "duration": 871,
    "start_time": "2022-01-19T01:12:00.960Z"
   },
   {
    "duration": 12,
    "start_time": "2022-01-19T01:12:01.834Z"
   },
   {
    "duration": 28,
    "start_time": "2022-01-19T01:12:01.849Z"
   },
   {
    "duration": 32,
    "start_time": "2022-01-19T01:12:01.880Z"
   },
   {
    "duration": 11,
    "start_time": "2022-01-19T01:12:01.915Z"
   },
   {
    "duration": 42,
    "start_time": "2022-01-19T01:12:01.929Z"
   },
   {
    "duration": 29,
    "start_time": "2022-01-19T01:12:01.973Z"
   },
   {
    "duration": 25,
    "start_time": "2022-01-19T01:12:02.007Z"
   },
   {
    "duration": 58,
    "start_time": "2022-01-19T01:12:02.035Z"
   },
   {
    "duration": 3,
    "start_time": "2022-01-19T01:12:02.096Z"
   },
   {
    "duration": 5,
    "start_time": "2022-01-19T01:12:02.102Z"
   },
   {
    "duration": 22,
    "start_time": "2022-01-19T01:12:02.110Z"
   },
   {
    "duration": 43,
    "start_time": "2022-01-19T01:12:02.135Z"
   },
   {
    "duration": 32,
    "start_time": "2022-01-19T01:12:02.180Z"
   },
   {
    "duration": 12,
    "start_time": "2022-01-19T01:12:02.215Z"
   },
   {
    "duration": 15,
    "start_time": "2022-01-19T01:12:02.229Z"
   },
   {
    "duration": 32,
    "start_time": "2022-01-19T01:12:02.246Z"
   },
   {
    "duration": 17,
    "start_time": "2022-01-19T01:12:02.281Z"
   },
   {
    "duration": 4,
    "start_time": "2022-01-19T01:12:02.300Z"
   },
   {
    "duration": 12,
    "start_time": "2022-01-19T01:12:02.306Z"
   },
   {
    "duration": 50,
    "start_time": "2022-01-19T01:12:02.320Z"
   },
   {
    "duration": 11,
    "start_time": "2022-01-19T01:12:02.372Z"
   },
   {
    "duration": 9,
    "start_time": "2022-01-19T01:12:02.389Z"
   },
   {
    "duration": 27,
    "start_time": "2022-01-19T01:12:02.402Z"
   },
   {
    "duration": 3,
    "start_time": "2022-01-19T01:12:02.431Z"
   },
   {
    "duration": 33,
    "start_time": "2022-01-19T01:12:02.437Z"
   },
   {
    "duration": 32,
    "start_time": "2022-01-19T01:12:02.473Z"
   },
   {
    "duration": 6,
    "start_time": "2022-01-19T01:12:02.507Z"
   },
   {
    "duration": 22,
    "start_time": "2022-01-19T01:12:02.515Z"
   },
   {
    "duration": 53,
    "start_time": "2022-01-19T01:12:02.539Z"
   },
   {
    "duration": 3,
    "start_time": "2022-01-19T01:12:02.594Z"
   },
   {
    "duration": 15,
    "start_time": "2022-01-19T01:12:02.599Z"
   },
   {
    "duration": 108,
    "start_time": "2022-01-19T01:12:02.616Z"
   },
   {
    "duration": 3,
    "start_time": "2022-01-19T01:12:02.726Z"
   },
   {
    "duration": 9,
    "start_time": "2022-01-19T01:12:02.731Z"
   },
   {
    "duration": 27,
    "start_time": "2022-01-19T01:12:02.742Z"
   },
   {
    "duration": 4,
    "start_time": "2022-01-19T01:12:02.771Z"
   },
   {
    "duration": 9,
    "start_time": "2022-01-19T01:12:02.777Z"
   },
   {
    "duration": 7,
    "start_time": "2022-01-19T01:12:02.789Z"
   },
   {
    "duration": 410,
    "start_time": "2022-01-19T01:12:02.798Z"
   },
   {
    "duration": 16,
    "start_time": "2022-01-19T01:12:03.211Z"
   },
   {
    "duration": 312,
    "start_time": "2022-01-19T01:12:03.229Z"
   },
   {
    "duration": -50,
    "start_time": "2022-01-19T01:12:03.593Z"
   },
   {
    "duration": -50,
    "start_time": "2022-01-19T01:12:03.595Z"
   },
   {
    "duration": -50,
    "start_time": "2022-01-19T01:12:03.597Z"
   },
   {
    "duration": -63,
    "start_time": "2022-01-19T01:12:03.611Z"
   },
   {
    "duration": -63,
    "start_time": "2022-01-19T01:12:03.613Z"
   },
   {
    "duration": -64,
    "start_time": "2022-01-19T01:12:03.615Z"
   },
   {
    "duration": -64,
    "start_time": "2022-01-19T01:12:03.617Z"
   },
   {
    "duration": -71,
    "start_time": "2022-01-19T01:12:03.625Z"
   },
   {
    "duration": -70,
    "start_time": "2022-01-19T01:12:03.626Z"
   },
   {
    "duration": -71,
    "start_time": "2022-01-19T01:12:03.628Z"
   },
   {
    "duration": -70,
    "start_time": "2022-01-19T01:12:03.629Z"
   },
   {
    "duration": -69,
    "start_time": "2022-01-19T01:12:03.630Z"
   },
   {
    "duration": -70,
    "start_time": "2022-01-19T01:12:03.632Z"
   },
   {
    "duration": -70,
    "start_time": "2022-01-19T01:12:03.633Z"
   },
   {
    "duration": -75,
    "start_time": "2022-01-19T01:12:03.640Z"
   },
   {
    "duration": -75,
    "start_time": "2022-01-19T01:12:03.641Z"
   },
   {
    "duration": -75,
    "start_time": "2022-01-19T01:12:03.643Z"
   },
   {
    "duration": -75,
    "start_time": "2022-01-19T01:12:03.644Z"
   },
   {
    "duration": -74,
    "start_time": "2022-01-19T01:12:03.645Z"
   },
   {
    "duration": -151,
    "start_time": "2022-01-19T01:12:03.723Z"
   },
   {
    "duration": -150,
    "start_time": "2022-01-19T01:12:03.724Z"
   },
   {
    "duration": -150,
    "start_time": "2022-01-19T01:12:03.725Z"
   },
   {
    "duration": -149,
    "start_time": "2022-01-19T01:12:03.726Z"
   },
   {
    "duration": -150,
    "start_time": "2022-01-19T01:12:03.728Z"
   },
   {
    "duration": -150,
    "start_time": "2022-01-19T01:12:03.729Z"
   },
   {
    "duration": -149,
    "start_time": "2022-01-19T01:12:03.730Z"
   },
   {
    "duration": -147,
    "start_time": "2022-01-19T01:12:03.730Z"
   },
   {
    "duration": -148,
    "start_time": "2022-01-19T01:12:03.732Z"
   },
   {
    "duration": -146,
    "start_time": "2022-01-19T01:12:03.732Z"
   },
   {
    "duration": 11,
    "start_time": "2022-01-19T01:12:28.060Z"
   },
   {
    "duration": 19,
    "start_time": "2022-01-19T01:12:45.408Z"
   },
   {
    "duration": 268,
    "start_time": "2022-01-19T01:13:08.330Z"
   },
   {
    "duration": 13,
    "start_time": "2022-01-19T01:13:17.802Z"
   },
   {
    "duration": 12,
    "start_time": "2022-01-19T01:13:28.691Z"
   },
   {
    "duration": 278,
    "start_time": "2022-01-19T01:13:34.590Z"
   },
   {
    "duration": 12,
    "start_time": "2022-01-19T01:13:43.765Z"
   },
   {
    "duration": 12,
    "start_time": "2022-01-19T01:13:54.034Z"
   },
   {
    "duration": 17,
    "start_time": "2022-01-19T01:14:16.204Z"
   },
   {
    "duration": 6,
    "start_time": "2022-01-19T01:15:08.331Z"
   },
   {
    "duration": 7,
    "start_time": "2022-01-19T01:15:31.942Z"
   },
   {
    "duration": 7,
    "start_time": "2022-01-19T01:18:12.460Z"
   },
   {
    "duration": 7,
    "start_time": "2022-01-19T01:18:18.840Z"
   },
   {
    "duration": 7,
    "start_time": "2022-01-19T01:21:12.734Z"
   },
   {
    "duration": 7,
    "start_time": "2022-01-19T01:23:21.790Z"
   },
   {
    "duration": 7,
    "start_time": "2022-01-19T01:24:22.975Z"
   },
   {
    "duration": 309,
    "start_time": "2022-01-19T01:24:30.615Z"
   },
   {
    "duration": 7,
    "start_time": "2022-01-19T01:24:44.516Z"
   },
   {
    "duration": 7,
    "start_time": "2022-01-19T01:24:49.312Z"
   },
   {
    "duration": 7,
    "start_time": "2022-01-19T01:25:00.694Z"
   },
   {
    "duration": 8,
    "start_time": "2022-01-19T01:25:02.643Z"
   },
   {
    "duration": 7,
    "start_time": "2022-01-19T01:25:07.192Z"
   },
   {
    "duration": 7,
    "start_time": "2022-01-19T01:25:09.762Z"
   },
   {
    "duration": 315,
    "start_time": "2022-01-19T01:25:16.143Z"
   },
   {
    "duration": 306,
    "start_time": "2022-01-19T01:25:17.127Z"
   },
   {
    "duration": 295,
    "start_time": "2022-01-19T01:25:32.241Z"
   },
   {
    "duration": 56,
    "start_time": "2022-01-19T01:25:36.159Z"
   },
   {
    "duration": 5,
    "start_time": "2022-01-19T01:25:36.217Z"
   },
   {
    "duration": 53,
    "start_time": "2022-01-19T01:25:36.225Z"
   },
   {
    "duration": 30,
    "start_time": "2022-01-19T01:25:36.280Z"
   },
   {
    "duration": 11,
    "start_time": "2022-01-19T01:25:36.312Z"
   },
   {
    "duration": 52,
    "start_time": "2022-01-19T01:25:36.325Z"
   },
   {
    "duration": 20,
    "start_time": "2022-01-19T01:25:36.380Z"
   },
   {
    "duration": 23,
    "start_time": "2022-01-19T01:25:36.404Z"
   },
   {
    "duration": 62,
    "start_time": "2022-01-19T01:25:36.430Z"
   },
   {
    "duration": 3,
    "start_time": "2022-01-19T01:25:36.494Z"
   },
   {
    "duration": 6,
    "start_time": "2022-01-19T01:25:36.499Z"
   },
   {
    "duration": 23,
    "start_time": "2022-01-19T01:25:36.508Z"
   },
   {
    "duration": 46,
    "start_time": "2022-01-19T01:25:36.534Z"
   },
   {
    "duration": 32,
    "start_time": "2022-01-19T01:25:36.583Z"
   },
   {
    "duration": 12,
    "start_time": "2022-01-19T01:25:36.617Z"
   },
   {
    "duration": 38,
    "start_time": "2022-01-19T01:25:36.631Z"
   },
   {
    "duration": 13,
    "start_time": "2022-01-19T01:25:36.671Z"
   },
   {
    "duration": 15,
    "start_time": "2022-01-19T01:25:36.686Z"
   },
   {
    "duration": 5,
    "start_time": "2022-01-19T01:25:36.704Z"
   },
   {
    "duration": 11,
    "start_time": "2022-01-19T01:25:36.712Z"
   },
   {
    "duration": 59,
    "start_time": "2022-01-19T01:25:36.725Z"
   },
   {
    "duration": 11,
    "start_time": "2022-01-19T01:25:36.787Z"
   },
   {
    "duration": 10,
    "start_time": "2022-01-19T01:25:36.806Z"
   },
   {
    "duration": 62,
    "start_time": "2022-01-19T01:25:36.820Z"
   },
   {
    "duration": 3,
    "start_time": "2022-01-19T01:25:36.884Z"
   },
   {
    "duration": 8,
    "start_time": "2022-01-19T01:25:36.889Z"
   },
   {
    "duration": 32,
    "start_time": "2022-01-19T01:25:36.899Z"
   },
   {
    "duration": 5,
    "start_time": "2022-01-19T01:25:36.933Z"
   },
   {
    "duration": 14,
    "start_time": "2022-01-19T01:25:36.969Z"
   },
   {
    "duration": 26,
    "start_time": "2022-01-19T01:25:36.986Z"
   },
   {
    "duration": 3,
    "start_time": "2022-01-19T01:25:37.014Z"
   },
   {
    "duration": 5,
    "start_time": "2022-01-19T01:25:37.019Z"
   },
   {
    "duration": 123,
    "start_time": "2022-01-19T01:25:37.026Z"
   },
   {
    "duration": 3,
    "start_time": "2022-01-19T01:25:37.151Z"
   },
   {
    "duration": 14,
    "start_time": "2022-01-19T01:25:37.156Z"
   },
   {
    "duration": 11,
    "start_time": "2022-01-19T01:25:37.172Z"
   },
   {
    "duration": 5,
    "start_time": "2022-01-19T01:25:37.185Z"
   },
   {
    "duration": 6,
    "start_time": "2022-01-19T01:25:37.192Z"
   },
   {
    "duration": 8,
    "start_time": "2022-01-19T01:25:37.200Z"
   },
   {
    "duration": 412,
    "start_time": "2022-01-19T01:25:37.210Z"
   },
   {
    "duration": 12,
    "start_time": "2022-01-19T01:25:37.625Z"
   },
   {
    "duration": 41,
    "start_time": "2022-01-19T01:25:37.639Z"
   },
   {
    "duration": 6,
    "start_time": "2022-01-19T01:25:37.682Z"
   },
   {
    "duration": 8,
    "start_time": "2022-01-19T01:25:37.691Z"
   },
   {
    "duration": 6,
    "start_time": "2022-01-19T01:25:37.702Z"
   },
   {
    "duration": 6,
    "start_time": "2022-01-19T01:25:37.711Z"
   },
   {
    "duration": 7,
    "start_time": "2022-01-19T01:25:37.720Z"
   },
   {
    "duration": 3,
    "start_time": "2022-01-19T01:25:37.770Z"
   },
   {
    "duration": 7,
    "start_time": "2022-01-19T01:25:37.776Z"
   },
   {
    "duration": 6,
    "start_time": "2022-01-19T01:25:37.785Z"
   },
   {
    "duration": 6,
    "start_time": "2022-01-19T01:25:37.793Z"
   },
   {
    "duration": 6,
    "start_time": "2022-01-19T01:25:37.801Z"
   },
   {
    "duration": 8,
    "start_time": "2022-01-19T01:25:37.809Z"
   },
   {
    "duration": 12,
    "start_time": "2022-01-19T01:25:37.819Z"
   },
   {
    "duration": 5,
    "start_time": "2022-01-19T01:25:37.834Z"
   },
   {
    "duration": 3,
    "start_time": "2022-01-19T01:25:37.870Z"
   },
   {
    "duration": 11,
    "start_time": "2022-01-19T01:25:37.875Z"
   },
   {
    "duration": 8,
    "start_time": "2022-01-19T01:25:37.888Z"
   },
   {
    "duration": 7,
    "start_time": "2022-01-19T01:25:37.898Z"
   },
   {
    "duration": 8,
    "start_time": "2022-01-19T01:25:37.907Z"
   },
   {
    "duration": 6,
    "start_time": "2022-01-19T01:25:37.917Z"
   },
   {
    "duration": 7,
    "start_time": "2022-01-19T01:25:37.925Z"
   },
   {
    "duration": 8,
    "start_time": "2022-01-19T01:25:37.934Z"
   },
   {
    "duration": 25,
    "start_time": "2022-01-19T01:25:37.944Z"
   },
   {
    "duration": 6,
    "start_time": "2022-01-19T01:25:37.972Z"
   },
   {
    "duration": 8,
    "start_time": "2022-01-19T01:25:37.981Z"
   },
   {
    "duration": 5,
    "start_time": "2022-01-19T01:25:37.992Z"
   },
   {
    "duration": 3,
    "start_time": "2022-01-19T01:25:38.006Z"
   },
   {
    "duration": 6,
    "start_time": "2022-01-19T01:25:38.012Z"
   },
   {
    "duration": 49,
    "start_time": "2022-01-19T01:25:38.020Z"
   },
   {
    "duration": 8,
    "start_time": "2022-01-19T01:25:38.072Z"
   },
   {
    "duration": 15,
    "start_time": "2022-01-19T01:25:38.083Z"
   },
   {
    "duration": 101,
    "start_time": "2022-01-19T02:29:17.281Z"
   },
   {
    "duration": 96,
    "start_time": "2022-01-19T02:30:03.402Z"
   },
   {
    "duration": 87,
    "start_time": "2022-01-19T02:30:25.368Z"
   },
   {
    "duration": 97,
    "start_time": "2022-01-19T02:30:31.482Z"
   },
   {
    "duration": 95,
    "start_time": "2022-01-19T02:30:45.806Z"
   },
   {
    "duration": 10,
    "start_time": "2022-01-19T02:31:12.746Z"
   },
   {
    "duration": 11,
    "start_time": "2022-01-19T02:31:19.834Z"
   },
   {
    "duration": 10,
    "start_time": "2022-01-19T02:32:00.476Z"
   },
   {
    "duration": 55,
    "start_time": "2022-01-19T02:39:25.163Z"
   },
   {
    "duration": 4,
    "start_time": "2022-01-19T02:39:25.220Z"
   },
   {
    "duration": 56,
    "start_time": "2022-01-19T02:39:25.227Z"
   },
   {
    "duration": 32,
    "start_time": "2022-01-19T02:39:25.286Z"
   },
   {
    "duration": 11,
    "start_time": "2022-01-19T02:39:25.320Z"
   },
   {
    "duration": 41,
    "start_time": "2022-01-19T02:39:25.333Z"
   },
   {
    "duration": 18,
    "start_time": "2022-01-19T02:39:25.377Z"
   },
   {
    "duration": 24,
    "start_time": "2022-01-19T02:39:25.397Z"
   },
   {
    "duration": 73,
    "start_time": "2022-01-19T02:39:25.424Z"
   },
   {
    "duration": 3,
    "start_time": "2022-01-19T02:39:25.500Z"
   },
   {
    "duration": 6,
    "start_time": "2022-01-19T02:39:25.505Z"
   },
   {
    "duration": 24,
    "start_time": "2022-01-19T02:39:25.513Z"
   },
   {
    "duration": 40,
    "start_time": "2022-01-19T02:39:25.540Z"
   },
   {
    "duration": 29,
    "start_time": "2022-01-19T02:39:25.582Z"
   },
   {
    "duration": 14,
    "start_time": "2022-01-19T02:39:25.613Z"
   },
   {
    "duration": 40,
    "start_time": "2022-01-19T02:39:25.629Z"
   },
   {
    "duration": 12,
    "start_time": "2022-01-19T02:39:25.672Z"
   },
   {
    "duration": 12,
    "start_time": "2022-01-19T02:39:25.686Z"
   },
   {
    "duration": 3,
    "start_time": "2022-01-19T02:39:25.701Z"
   },
   {
    "duration": 14,
    "start_time": "2022-01-19T02:39:25.706Z"
   },
   {
    "duration": 58,
    "start_time": "2022-01-19T02:39:25.723Z"
   },
   {
    "duration": 10,
    "start_time": "2022-01-19T02:39:25.783Z"
   },
   {
    "duration": 9,
    "start_time": "2022-01-19T02:39:25.795Z"
   },
   {
    "duration": 26,
    "start_time": "2022-01-19T02:39:25.807Z"
   },
   {
    "duration": 35,
    "start_time": "2022-01-19T02:39:25.836Z"
   },
   {
    "duration": 7,
    "start_time": "2022-01-19T02:39:25.873Z"
   },
   {
    "duration": 29,
    "start_time": "2022-01-19T02:39:25.887Z"
   },
   {
    "duration": 5,
    "start_time": "2022-01-19T02:39:25.919Z"
   },
   {
    "duration": 44,
    "start_time": "2022-01-19T02:39:25.927Z"
   },
   {
    "duration": 31,
    "start_time": "2022-01-19T02:39:25.974Z"
   },
   {
    "duration": 3,
    "start_time": "2022-01-19T02:39:26.008Z"
   },
   {
    "duration": 8,
    "start_time": "2022-01-19T02:39:26.013Z"
   },
   {
    "duration": 117,
    "start_time": "2022-01-19T02:39:26.023Z"
   },
   {
    "duration": 3,
    "start_time": "2022-01-19T02:39:26.143Z"
   },
   {
    "duration": 22,
    "start_time": "2022-01-19T02:39:26.149Z"
   },
   {
    "duration": 12,
    "start_time": "2022-01-19T02:39:26.173Z"
   },
   {
    "duration": 9,
    "start_time": "2022-01-19T02:39:26.187Z"
   },
   {
    "duration": 6,
    "start_time": "2022-01-19T02:39:26.198Z"
   },
   {
    "duration": 8,
    "start_time": "2022-01-19T02:39:26.207Z"
   },
   {
    "duration": 412,
    "start_time": "2022-01-19T02:39:26.217Z"
   },
   {
    "duration": 12,
    "start_time": "2022-01-19T02:39:26.631Z"
   },
   {
    "duration": 38,
    "start_time": "2022-01-19T02:39:26.646Z"
   },
   {
    "duration": 9,
    "start_time": "2022-01-19T02:39:26.687Z"
   },
   {
    "duration": 9,
    "start_time": "2022-01-19T02:39:26.698Z"
   },
   {
    "duration": 7,
    "start_time": "2022-01-19T02:39:26.710Z"
   },
   {
    "duration": 3,
    "start_time": "2022-01-19T02:39:26.719Z"
   },
   {
    "duration": 46,
    "start_time": "2022-01-19T02:39:26.724Z"
   },
   {
    "duration": 6,
    "start_time": "2022-01-19T02:39:26.773Z"
   },
   {
    "duration": 6,
    "start_time": "2022-01-19T02:39:26.781Z"
   },
   {
    "duration": 6,
    "start_time": "2022-01-19T02:39:26.789Z"
   },
   {
    "duration": 5,
    "start_time": "2022-01-19T02:39:26.797Z"
   },
   {
    "duration": 5,
    "start_time": "2022-01-19T02:39:26.805Z"
   },
   {
    "duration": 6,
    "start_time": "2022-01-19T02:39:26.812Z"
   },
   {
    "duration": 7,
    "start_time": "2022-01-19T02:39:26.820Z"
   },
   {
    "duration": 40,
    "start_time": "2022-01-19T02:39:26.830Z"
   },
   {
    "duration": 7,
    "start_time": "2022-01-19T02:39:26.872Z"
   },
   {
    "duration": 6,
    "start_time": "2022-01-19T02:39:26.882Z"
   },
   {
    "duration": 5,
    "start_time": "2022-01-19T02:39:26.891Z"
   },
   {
    "duration": 5,
    "start_time": "2022-01-19T02:39:26.899Z"
   },
   {
    "duration": 4,
    "start_time": "2022-01-19T02:39:26.907Z"
   },
   {
    "duration": 6,
    "start_time": "2022-01-19T02:39:26.914Z"
   },
   {
    "duration": 6,
    "start_time": "2022-01-19T02:39:26.922Z"
   },
   {
    "duration": 6,
    "start_time": "2022-01-19T02:39:26.930Z"
   },
   {
    "duration": 3,
    "start_time": "2022-01-19T02:39:26.971Z"
   },
   {
    "duration": 5,
    "start_time": "2022-01-19T02:39:26.976Z"
   },
   {
    "duration": 6,
    "start_time": "2022-01-19T02:39:26.984Z"
   },
   {
    "duration": 5,
    "start_time": "2022-01-19T02:39:26.992Z"
   },
   {
    "duration": 5,
    "start_time": "2022-01-19T02:39:27.000Z"
   },
   {
    "duration": 5,
    "start_time": "2022-01-19T02:39:27.007Z"
   },
   {
    "duration": 7,
    "start_time": "2022-01-19T02:39:27.014Z"
   },
   {
    "duration": 5,
    "start_time": "2022-01-19T02:39:27.024Z"
   },
   {
    "duration": 3,
    "start_time": "2022-01-19T02:39:27.070Z"
   },
   {
    "duration": 14,
    "start_time": "2022-01-19T02:43:04.130Z"
   },
   {
    "duration": 10,
    "start_time": "2022-01-19T02:43:26.303Z"
   },
   {
    "duration": 2366,
    "start_time": "2022-01-19T02:58:43.993Z"
   },
   {
    "duration": 94,
    "start_time": "2022-01-19T02:58:57.837Z"
   },
   {
    "duration": 102,
    "start_time": "2022-01-19T02:59:03.371Z"
   },
   {
    "duration": 88,
    "start_time": "2022-01-19T02:59:08.471Z"
   },
   {
    "duration": 5,
    "start_time": "2022-01-19T02:59:16.279Z"
   },
   {
    "duration": 676,
    "start_time": "2022-01-19T02:59:19.312Z"
   },
   {
    "duration": 5,
    "start_time": "2022-01-19T02:59:36.562Z"
   },
   {
    "duration": 595,
    "start_time": "2022-01-19T02:59:40.264Z"
   },
   {
    "duration": 21,
    "start_time": "2022-01-19T03:00:00.130Z"
   },
   {
    "duration": 7,
    "start_time": "2022-01-19T03:00:58.458Z"
   },
   {
    "duration": 29,
    "start_time": "2022-01-19T03:01:13.651Z"
   },
   {
    "duration": 4,
    "start_time": "2022-01-19T03:01:40.984Z"
   },
   {
    "duration": 588,
    "start_time": "2022-01-19T03:01:44.744Z"
   },
   {
    "duration": 5,
    "start_time": "2022-01-19T03:01:52.267Z"
   },
   {
    "duration": 579,
    "start_time": "2022-01-19T03:01:54.542Z"
   },
   {
    "duration": 29,
    "start_time": "2022-01-19T03:01:56.698Z"
   },
   {
    "duration": 5,
    "start_time": "2022-01-19T03:03:27.184Z"
   },
   {
    "duration": 602,
    "start_time": "2022-01-19T03:03:30.740Z"
   },
   {
    "duration": 4,
    "start_time": "2022-01-19T03:03:40.428Z"
   },
   {
    "duration": 538,
    "start_time": "2022-01-19T03:03:42.683Z"
   },
   {
    "duration": 4,
    "start_time": "2022-01-19T03:04:25.762Z"
   },
   {
    "duration": 594,
    "start_time": "2022-01-19T03:04:27.928Z"
   },
   {
    "duration": 29,
    "start_time": "2022-01-19T03:04:31.512Z"
   },
   {
    "duration": 5,
    "start_time": "2022-01-19T03:05:14.490Z"
   },
   {
    "duration": 556,
    "start_time": "2022-01-19T03:05:16.962Z"
   },
   {
    "duration": 4,
    "start_time": "2022-01-19T03:05:24.977Z"
   },
   {
    "duration": 587,
    "start_time": "2022-01-19T03:05:27.182Z"
   },
   {
    "duration": 29,
    "start_time": "2022-01-19T03:05:31.180Z"
   },
   {
    "duration": 83,
    "start_time": "2022-01-19T03:05:48.962Z"
   },
   {
    "duration": 590,
    "start_time": "2022-01-19T03:05:51.985Z"
   },
   {
    "duration": 28,
    "start_time": "2022-01-19T03:05:55.450Z"
   },
   {
    "duration": 627,
    "start_time": "2022-01-19T03:05:58.269Z"
   },
   {
    "duration": 32,
    "start_time": "2022-01-19T03:06:00.826Z"
   },
   {
    "duration": 82,
    "start_time": "2022-01-19T03:06:05.286Z"
   },
   {
    "duration": 5,
    "start_time": "2022-01-19T03:06:08.811Z"
   },
   {
    "duration": 587,
    "start_time": "2022-01-19T03:06:12.001Z"
   },
   {
    "duration": 29,
    "start_time": "2022-01-19T03:06:14.167Z"
   },
   {
    "duration": 8,
    "start_time": "2022-01-19T03:06:50.460Z"
   },
   {
    "duration": 577,
    "start_time": "2022-01-19T03:06:53.346Z"
   },
   {
    "duration": 5,
    "start_time": "2022-01-19T03:07:46.554Z"
   },
   {
    "duration": 5,
    "start_time": "2022-01-19T03:07:52.215Z"
   },
   {
    "duration": 550,
    "start_time": "2022-01-19T03:07:55.080Z"
   },
   {
    "duration": 5,
    "start_time": "2022-01-19T03:09:35.948Z"
   },
   {
    "duration": 3,
    "start_time": "2022-01-19T03:09:37.544Z"
   },
   {
    "duration": 588,
    "start_time": "2022-01-19T03:09:40.685Z"
   },
   {
    "duration": 29,
    "start_time": "2022-01-19T03:09:42.772Z"
   },
   {
    "duration": 4,
    "start_time": "2022-01-19T03:10:29.795Z"
   },
   {
    "duration": 3,
    "start_time": "2022-01-19T03:10:30.833Z"
   },
   {
    "duration": 583,
    "start_time": "2022-01-19T03:10:31.377Z"
   },
   {
    "duration": 29,
    "start_time": "2022-01-19T03:10:34.506Z"
   },
   {
    "duration": 4,
    "start_time": "2022-01-19T03:10:54.010Z"
   },
   {
    "duration": 4,
    "start_time": "2022-01-19T03:11:29.102Z"
   },
   {
    "duration": 4,
    "start_time": "2022-01-19T03:11:30.352Z"
   },
   {
    "duration": 606,
    "start_time": "2022-01-19T03:11:30.894Z"
   },
   {
    "duration": 29,
    "start_time": "2022-01-19T03:11:34.143Z"
   },
   {
    "duration": 5,
    "start_time": "2022-01-19T03:13:36.594Z"
   },
   {
    "duration": 558,
    "start_time": "2022-01-19T03:13:39.331Z"
   },
   {
    "duration": 4,
    "start_time": "2022-01-19T03:14:01.400Z"
   },
   {
    "duration": 576,
    "start_time": "2022-01-19T03:14:04.078Z"
   },
   {
    "duration": 106,
    "start_time": "2022-01-19T03:15:18.968Z"
   },
   {
    "duration": 5,
    "start_time": "2022-01-19T03:15:26.490Z"
   },
   {
    "duration": 283,
    "start_time": "2022-01-19T03:15:29.070Z"
   },
   {
    "duration": 579,
    "start_time": "2022-01-19T03:16:23.755Z"
   },
   {
    "duration": 29,
    "start_time": "2022-01-19T03:16:28.216Z"
   },
   {
    "duration": 4,
    "start_time": "2022-01-19T03:16:55.128Z"
   },
   {
    "duration": 3,
    "start_time": "2022-01-19T03:16:56.467Z"
   },
   {
    "duration": 573,
    "start_time": "2022-01-19T03:16:57.343Z"
   },
   {
    "duration": 8,
    "start_time": "2022-01-19T03:17:51.202Z"
   },
   {
    "duration": 12,
    "start_time": "2022-01-19T03:19:14.621Z"
   },
   {
    "duration": 8,
    "start_time": "2022-01-19T03:19:20.125Z"
   },
   {
    "duration": 265,
    "start_time": "2022-01-19T03:19:37.287Z"
   },
   {
    "duration": 9,
    "start_time": "2022-01-19T03:19:45.449Z"
   },
   {
    "duration": 292,
    "start_time": "2022-01-19T03:20:05.184Z"
   },
   {
    "duration": 8,
    "start_time": "2022-01-19T03:20:12.814Z"
   },
   {
    "duration": 5,
    "start_time": "2022-01-19T03:22:03.473Z"
   },
   {
    "duration": 9,
    "start_time": "2022-01-19T03:22:07.028Z"
   },
   {
    "duration": 3,
    "start_time": "2022-01-19T03:22:14.668Z"
   },
   {
    "duration": 523,
    "start_time": "2022-01-19T03:22:16.647Z"
   },
   {
    "duration": 5,
    "start_time": "2022-01-19T03:22:45.862Z"
   },
   {
    "duration": 1503,
    "start_time": "2022-01-19T03:22:48.747Z"
   },
   {
    "duration": 4,
    "start_time": "2022-01-19T03:23:13.147Z"
   },
   {
    "duration": 6958,
    "start_time": "2022-01-19T03:23:15.686Z"
   },
   {
    "duration": -259,
    "start_time": "2022-01-19T03:23:22.908Z"
   },
   {
    "duration": 5,
    "start_time": "2022-01-19T03:24:48.372Z"
   },
   {
    "duration": 545,
    "start_time": "2022-01-19T03:24:52.379Z"
   },
   {
    "duration": 4,
    "start_time": "2022-01-19T03:25:21.386Z"
   },
   {
    "duration": 549,
    "start_time": "2022-01-19T03:25:23.867Z"
   },
   {
    "duration": 5,
    "start_time": "2022-01-19T03:25:59.508Z"
   },
   {
    "duration": 525,
    "start_time": "2022-01-19T03:26:01.987Z"
   },
   {
    "duration": 4,
    "start_time": "2022-01-19T03:26:06.034Z"
   },
   {
    "duration": 603,
    "start_time": "2022-01-19T03:26:07.934Z"
   },
   {
    "duration": 5,
    "start_time": "2022-01-19T03:26:50.311Z"
   },
   {
    "duration": 585,
    "start_time": "2022-01-19T03:26:52.744Z"
   },
   {
    "duration": 35,
    "start_time": "2022-01-19T03:26:56.780Z"
   },
   {
    "duration": 59,
    "start_time": "2022-01-19T03:28:22.325Z"
   },
   {
    "duration": 5,
    "start_time": "2022-01-19T03:28:22.387Z"
   },
   {
    "duration": 26,
    "start_time": "2022-01-19T03:28:22.396Z"
   },
   {
    "duration": 31,
    "start_time": "2022-01-19T03:28:22.469Z"
   },
   {
    "duration": 11,
    "start_time": "2022-01-19T03:28:22.502Z"
   },
   {
    "duration": 9,
    "start_time": "2022-01-19T03:28:22.515Z"
   },
   {
    "duration": 52,
    "start_time": "2022-01-19T03:28:22.526Z"
   },
   {
    "duration": 25,
    "start_time": "2022-01-19T03:28:22.580Z"
   },
   {
    "duration": 60,
    "start_time": "2022-01-19T03:28:22.609Z"
   },
   {
    "duration": 3,
    "start_time": "2022-01-19T03:28:22.672Z"
   },
   {
    "duration": 7,
    "start_time": "2022-01-19T03:28:22.677Z"
   },
   {
    "duration": 26,
    "start_time": "2022-01-19T03:28:22.686Z"
   },
   {
    "duration": 14,
    "start_time": "2022-01-19T03:28:22.715Z"
   },
   {
    "duration": 57,
    "start_time": "2022-01-19T03:28:22.731Z"
   },
   {
    "duration": 12,
    "start_time": "2022-01-19T03:28:22.791Z"
   },
   {
    "duration": 11,
    "start_time": "2022-01-19T03:28:22.805Z"
   },
   {
    "duration": 13,
    "start_time": "2022-01-19T03:28:22.818Z"
   },
   {
    "duration": 46,
    "start_time": "2022-01-19T03:28:22.833Z"
   },
   {
    "duration": 4,
    "start_time": "2022-01-19T03:28:22.882Z"
   },
   {
    "duration": 11,
    "start_time": "2022-01-19T03:28:22.888Z"
   },
   {
    "duration": 17,
    "start_time": "2022-01-19T03:28:22.901Z"
   },
   {
    "duration": 49,
    "start_time": "2022-01-19T03:28:22.921Z"
   },
   {
    "duration": 12,
    "start_time": "2022-01-19T03:28:22.973Z"
   },
   {
    "duration": 29,
    "start_time": "2022-01-19T03:28:22.988Z"
   },
   {
    "duration": 3,
    "start_time": "2022-01-19T03:28:23.020Z"
   },
   {
    "duration": 44,
    "start_time": "2022-01-19T03:28:23.026Z"
   },
   {
    "duration": 30,
    "start_time": "2022-01-19T03:28:23.079Z"
   },
   {
    "duration": 6,
    "start_time": "2022-01-19T03:28:23.114Z"
   },
   {
    "duration": 54,
    "start_time": "2022-01-19T03:28:23.122Z"
   },
   {
    "duration": 33,
    "start_time": "2022-01-19T03:28:23.179Z"
   },
   {
    "duration": 3,
    "start_time": "2022-01-19T03:28:23.215Z"
   },
   {
    "duration": 5,
    "start_time": "2022-01-19T03:28:23.221Z"
   },
   {
    "duration": 119,
    "start_time": "2022-01-19T03:28:23.229Z"
   },
   {
    "duration": 4,
    "start_time": "2022-01-19T03:28:23.370Z"
   },
   {
    "duration": 5,
    "start_time": "2022-01-19T03:28:23.377Z"
   },
   {
    "duration": 10,
    "start_time": "2022-01-19T03:28:23.385Z"
   },
   {
    "duration": 3,
    "start_time": "2022-01-19T03:28:23.398Z"
   },
   {
    "duration": 7,
    "start_time": "2022-01-19T03:28:23.404Z"
   },
   {
    "duration": 56,
    "start_time": "2022-01-19T03:28:23.414Z"
   },
   {
    "duration": 391,
    "start_time": "2022-01-19T03:28:23.473Z"
   },
   {
    "duration": 14,
    "start_time": "2022-01-19T03:28:23.866Z"
   },
   {
    "duration": 24,
    "start_time": "2022-01-19T03:28:23.883Z"
   },
   {
    "duration": 12,
    "start_time": "2022-01-19T03:28:23.910Z"
   },
   {
    "duration": 52,
    "start_time": "2022-01-19T03:28:23.924Z"
   },
   {
    "duration": 13,
    "start_time": "2022-01-19T03:28:23.979Z"
   },
   {
    "duration": 4,
    "start_time": "2022-01-19T03:28:23.995Z"
   },
   {
    "duration": 6,
    "start_time": "2022-01-19T03:28:24.002Z"
   },
   {
    "duration": 612,
    "start_time": "2022-01-19T03:28:24.010Z"
   },
   {
    "duration": 30,
    "start_time": "2022-01-19T03:28:24.624Z"
   },
   {
    "duration": 3,
    "start_time": "2022-01-19T03:28:24.669Z"
   },
   {
    "duration": 6,
    "start_time": "2022-01-19T03:28:24.675Z"
   },
   {
    "duration": 6,
    "start_time": "2022-01-19T03:28:24.683Z"
   },
   {
    "duration": 5,
    "start_time": "2022-01-19T03:28:24.691Z"
   },
   {
    "duration": 6,
    "start_time": "2022-01-19T03:28:24.698Z"
   },
   {
    "duration": 5,
    "start_time": "2022-01-19T03:28:24.706Z"
   },
   {
    "duration": 7,
    "start_time": "2022-01-19T03:28:24.713Z"
   },
   {
    "duration": 5,
    "start_time": "2022-01-19T03:28:24.723Z"
   },
   {
    "duration": 40,
    "start_time": "2022-01-19T03:28:24.731Z"
   },
   {
    "duration": 6,
    "start_time": "2022-01-19T03:28:24.774Z"
   },
   {
    "duration": 5,
    "start_time": "2022-01-19T03:28:24.783Z"
   },
   {
    "duration": 5,
    "start_time": "2022-01-19T03:28:24.791Z"
   },
   {
    "duration": 5,
    "start_time": "2022-01-19T03:28:24.798Z"
   },
   {
    "duration": 4,
    "start_time": "2022-01-19T03:28:24.806Z"
   },
   {
    "duration": 5,
    "start_time": "2022-01-19T03:28:24.813Z"
   },
   {
    "duration": 3,
    "start_time": "2022-01-19T03:28:24.869Z"
   },
   {
    "duration": 9,
    "start_time": "2022-01-19T03:28:24.874Z"
   },
   {
    "duration": 6,
    "start_time": "2022-01-19T03:28:24.885Z"
   },
   {
    "duration": 6,
    "start_time": "2022-01-19T03:28:24.894Z"
   },
   {
    "duration": 5,
    "start_time": "2022-01-19T03:28:24.903Z"
   },
   {
    "duration": 5,
    "start_time": "2022-01-19T03:28:24.911Z"
   },
   {
    "duration": 4,
    "start_time": "2022-01-19T03:28:24.918Z"
   },
   {
    "duration": 5,
    "start_time": "2022-01-19T03:28:24.925Z"
   },
   {
    "duration": 103,
    "start_time": "2022-01-19T03:29:25.910Z"
   },
   {
    "duration": 4,
    "start_time": "2022-01-19T03:29:37.263Z"
   },
   {
    "duration": 582,
    "start_time": "2022-01-19T03:29:39.960Z"
   },
   {
    "duration": 28,
    "start_time": "2022-01-19T03:29:43.603Z"
   },
   {
    "duration": 4,
    "start_time": "2022-01-19T03:29:59.531Z"
   },
   {
    "duration": 591,
    "start_time": "2022-01-19T03:30:00.897Z"
   },
   {
    "duration": 29,
    "start_time": "2022-01-19T03:30:04.441Z"
   },
   {
    "duration": 96,
    "start_time": "2022-01-19T03:31:38.221Z"
   },
   {
    "duration": 5,
    "start_time": "2022-01-19T03:31:53.827Z"
   },
   {
    "duration": 597,
    "start_time": "2022-01-19T03:31:55.954Z"
   },
   {
    "duration": 28,
    "start_time": "2022-01-19T03:31:59.547Z"
   },
   {
    "duration": 1104,
    "start_time": "2022-01-19T03:32:14.002Z"
   },
   {
    "duration": 583,
    "start_time": "2022-01-19T03:32:20.629Z"
   },
   {
    "duration": 4,
    "start_time": "2022-01-19T03:34:36.325Z"
   },
   {
    "duration": 21,
    "start_time": "2022-01-19T03:34:52.117Z"
   },
   {
    "duration": 5,
    "start_time": "2022-01-19T03:35:01.875Z"
   },
   {
    "duration": 252,
    "start_time": "2022-01-19T03:35:19.637Z"
   },
   {
    "duration": 5,
    "start_time": "2022-01-19T03:35:25.870Z"
   },
   {
    "duration": 10,
    "start_time": "2022-01-19T03:35:29.424Z"
   },
   {
    "duration": 53,
    "start_time": "2022-01-19T03:35:37.420Z"
   },
   {
    "duration": 5,
    "start_time": "2022-01-19T03:35:37.476Z"
   },
   {
    "duration": 19,
    "start_time": "2022-01-19T03:35:37.484Z"
   },
   {
    "duration": 75,
    "start_time": "2022-01-19T03:35:37.506Z"
   },
   {
    "duration": 11,
    "start_time": "2022-01-19T03:35:37.583Z"
   },
   {
    "duration": 8,
    "start_time": "2022-01-19T03:35:37.596Z"
   },
   {
    "duration": 19,
    "start_time": "2022-01-19T03:35:37.606Z"
   },
   {
    "duration": 61,
    "start_time": "2022-01-19T03:35:37.627Z"
   },
   {
    "duration": 33,
    "start_time": "2022-01-19T03:35:37.692Z"
   },
   {
    "duration": 3,
    "start_time": "2022-01-19T03:35:37.728Z"
   },
   {
    "duration": 37,
    "start_time": "2022-01-19T03:35:37.733Z"
   },
   {
    "duration": 25,
    "start_time": "2022-01-19T03:35:37.773Z"
   },
   {
    "duration": 14,
    "start_time": "2022-01-19T03:35:37.800Z"
   },
   {
    "duration": 53,
    "start_time": "2022-01-19T03:35:37.816Z"
   },
   {
    "duration": 13,
    "start_time": "2022-01-19T03:35:37.872Z"
   },
   {
    "duration": 9,
    "start_time": "2022-01-19T03:35:37.887Z"
   },
   {
    "duration": 12,
    "start_time": "2022-01-19T03:35:37.899Z"
   },
   {
    "duration": 14,
    "start_time": "2022-01-19T03:35:37.913Z"
   },
   {
    "duration": 42,
    "start_time": "2022-01-19T03:35:37.929Z"
   },
   {
    "duration": 12,
    "start_time": "2022-01-19T03:35:37.974Z"
   },
   {
    "duration": 20,
    "start_time": "2022-01-19T03:35:37.989Z"
   },
   {
    "duration": 60,
    "start_time": "2022-01-19T03:35:38.012Z"
   },
   {
    "duration": 12,
    "start_time": "2022-01-19T03:35:38.075Z"
   },
   {
    "duration": 29,
    "start_time": "2022-01-19T03:35:38.090Z"
   },
   {
    "duration": 3,
    "start_time": "2022-01-19T03:35:38.122Z"
   },
   {
    "duration": 41,
    "start_time": "2022-01-19T03:35:38.128Z"
   },
   {
    "duration": 30,
    "start_time": "2022-01-19T03:35:38.179Z"
   },
   {
    "duration": 5,
    "start_time": "2022-01-19T03:35:38.214Z"
   },
   {
    "duration": 49,
    "start_time": "2022-01-19T03:35:38.222Z"
   },
   {
    "duration": 34,
    "start_time": "2022-01-19T03:35:38.274Z"
   },
   {
    "duration": 4,
    "start_time": "2022-01-19T03:35:38.311Z"
   },
   {
    "duration": 8,
    "start_time": "2022-01-19T03:35:38.318Z"
   },
   {
    "duration": 123,
    "start_time": "2022-01-19T03:35:38.329Z"
   },
   {
    "duration": 3,
    "start_time": "2022-01-19T03:35:38.470Z"
   },
   {
    "duration": 6,
    "start_time": "2022-01-19T03:35:38.477Z"
   },
   {
    "duration": 10,
    "start_time": "2022-01-19T03:35:38.485Z"
   },
   {
    "duration": 9,
    "start_time": "2022-01-19T03:35:38.497Z"
   },
   {
    "duration": 6,
    "start_time": "2022-01-19T03:35:38.508Z"
   },
   {
    "duration": 7,
    "start_time": "2022-01-19T03:35:38.516Z"
   },
   {
    "duration": 420,
    "start_time": "2022-01-19T03:35:38.525Z"
   },
   {
    "duration": 22,
    "start_time": "2022-01-19T03:35:38.948Z"
   },
   {
    "duration": 21,
    "start_time": "2022-01-19T03:35:38.972Z"
   },
   {
    "duration": 9,
    "start_time": "2022-01-19T03:35:38.996Z"
   },
   {
    "duration": 9,
    "start_time": "2022-01-19T03:35:39.007Z"
   },
   {
    "duration": 9,
    "start_time": "2022-01-19T03:35:39.018Z"
   },
   {
    "duration": 5,
    "start_time": "2022-01-19T03:35:39.070Z"
   },
   {
    "duration": 24,
    "start_time": "2022-01-19T03:35:39.077Z"
   },
   {
    "duration": 4,
    "start_time": "2022-01-19T03:35:39.103Z"
   },
   {
    "duration": 60,
    "start_time": "2022-01-19T03:35:39.109Z"
   },
   {
    "duration": 3,
    "start_time": "2022-01-19T03:35:39.172Z"
   },
   {
    "duration": 7,
    "start_time": "2022-01-19T03:35:39.177Z"
   },
   {
    "duration": 6,
    "start_time": "2022-01-19T03:35:39.187Z"
   },
   {
    "duration": 4,
    "start_time": "2022-01-19T03:35:39.195Z"
   },
   {
    "duration": 5,
    "start_time": "2022-01-19T03:35:39.202Z"
   },
   {
    "duration": 5,
    "start_time": "2022-01-19T03:35:39.210Z"
   },
   {
    "duration": 4,
    "start_time": "2022-01-19T03:35:39.217Z"
   },
   {
    "duration": 45,
    "start_time": "2022-01-19T03:35:39.224Z"
   },
   {
    "duration": 3,
    "start_time": "2022-01-19T03:35:39.272Z"
   },
   {
    "duration": 7,
    "start_time": "2022-01-19T03:35:39.277Z"
   },
   {
    "duration": 8,
    "start_time": "2022-01-19T03:35:39.286Z"
   },
   {
    "duration": 6,
    "start_time": "2022-01-19T03:35:39.296Z"
   },
   {
    "duration": 5,
    "start_time": "2022-01-19T03:35:39.305Z"
   },
   {
    "duration": 6,
    "start_time": "2022-01-19T03:35:39.312Z"
   },
   {
    "duration": 8,
    "start_time": "2022-01-19T03:35:39.320Z"
   },
   {
    "duration": 42,
    "start_time": "2022-01-19T03:35:39.330Z"
   },
   {
    "duration": 7,
    "start_time": "2022-01-19T03:35:39.374Z"
   },
   {
    "duration": 6,
    "start_time": "2022-01-19T03:35:39.383Z"
   },
   {
    "duration": 6,
    "start_time": "2022-01-19T03:35:39.392Z"
   },
   {
    "duration": 8,
    "start_time": "2022-01-19T03:35:39.400Z"
   },
   {
    "duration": 4,
    "start_time": "2022-01-19T03:35:39.411Z"
   },
   {
    "duration": 7,
    "start_time": "2022-01-19T03:35:39.418Z"
   },
   {
    "duration": 43,
    "start_time": "2022-01-19T03:35:39.427Z"
   },
   {
    "duration": 29,
    "start_time": "2022-01-19T03:36:07.895Z"
   },
   {
    "duration": 6,
    "start_time": "2022-01-19T03:36:33.327Z"
   },
   {
    "duration": 575,
    "start_time": "2022-01-19T03:36:41.431Z"
   },
   {
    "duration": 34,
    "start_time": "2022-01-19T03:36:44.168Z"
   },
   {
    "duration": 6,
    "start_time": "2022-01-19T03:36:58.140Z"
   },
   {
    "duration": 3,
    "start_time": "2022-01-19T03:37:03.151Z"
   },
   {
    "duration": 570,
    "start_time": "2022-01-19T03:37:05.642Z"
   },
   {
    "duration": 28,
    "start_time": "2022-01-19T03:37:07.838Z"
   },
   {
    "duration": 6,
    "start_time": "2022-01-19T03:37:56.360Z"
   },
   {
    "duration": 729,
    "start_time": "2022-01-19T03:37:59.542Z"
   },
   {
    "duration": 29,
    "start_time": "2022-01-19T03:38:01.284Z"
   },
   {
    "duration": 29,
    "start_time": "2022-01-19T03:38:04.218Z"
   },
   {
    "duration": 84,
    "start_time": "2022-01-19T03:40:43.579Z"
   },
   {
    "duration": 108,
    "start_time": "2022-01-19T03:41:08.195Z"
   },
   {
    "duration": 90,
    "start_time": "2022-01-19T03:41:15.944Z"
   },
   {
    "duration": 95,
    "start_time": "2022-01-19T03:41:30.929Z"
   },
   {
    "duration": 95,
    "start_time": "2022-01-19T03:41:47.579Z"
   },
   {
    "duration": 309,
    "start_time": "2022-01-20T02:21:52.259Z"
   },
   {
    "duration": 313,
    "start_time": "2022-01-20T02:22:26.135Z"
   },
   {
    "duration": 304,
    "start_time": "2022-01-20T02:22:39.136Z"
   },
   {
    "duration": 271,
    "start_time": "2022-01-20T02:23:39.663Z"
   },
   {
    "duration": 650,
    "start_time": "2022-01-20T02:23:54.580Z"
   },
   {
    "duration": 7,
    "start_time": "2022-01-20T02:23:55.232Z"
   },
   {
    "duration": 16,
    "start_time": "2022-01-20T02:23:55.242Z"
   },
   {
    "duration": 29,
    "start_time": "2022-01-20T02:23:55.260Z"
   },
   {
    "duration": 7,
    "start_time": "2022-01-20T02:23:55.290Z"
   },
   {
    "duration": 5,
    "start_time": "2022-01-20T02:23:55.298Z"
   },
   {
    "duration": 10,
    "start_time": "2022-01-20T02:23:55.305Z"
   },
   {
    "duration": 15,
    "start_time": "2022-01-20T02:23:55.316Z"
   },
   {
    "duration": 23,
    "start_time": "2022-01-20T02:23:55.333Z"
   },
   {
    "duration": 2,
    "start_time": "2022-01-20T02:23:55.358Z"
   },
   {
    "duration": 8,
    "start_time": "2022-01-20T02:23:55.361Z"
   },
   {
    "duration": 19,
    "start_time": "2022-01-20T02:23:55.370Z"
   },
   {
    "duration": 13,
    "start_time": "2022-01-20T02:23:55.390Z"
   },
   {
    "duration": 23,
    "start_time": "2022-01-20T02:23:55.405Z"
   },
   {
    "duration": 9,
    "start_time": "2022-01-20T02:23:55.429Z"
   },
   {
    "duration": 9,
    "start_time": "2022-01-20T02:23:55.439Z"
   },
   {
    "duration": 10,
    "start_time": "2022-01-20T02:23:55.450Z"
   },
   {
    "duration": 9,
    "start_time": "2022-01-20T02:23:55.461Z"
   },
   {
    "duration": 14,
    "start_time": "2022-01-20T02:23:55.472Z"
   },
   {
    "duration": 52,
    "start_time": "2022-01-20T02:23:55.488Z"
   },
   {
    "duration": 52,
    "start_time": "2022-01-20T02:23:55.541Z"
   },
   {
    "duration": 31,
    "start_time": "2022-01-20T02:23:55.595Z"
   },
   {
    "duration": 56,
    "start_time": "2022-01-20T02:23:55.628Z"
   },
   {
    "duration": 46,
    "start_time": "2022-01-20T02:23:55.685Z"
   },
   {
    "duration": 50,
    "start_time": "2022-01-20T02:23:55.732Z"
   },
   {
    "duration": 29,
    "start_time": "2022-01-20T02:23:55.784Z"
   },
   {
    "duration": 37,
    "start_time": "2022-01-20T02:23:55.817Z"
   },
   {
    "duration": 50,
    "start_time": "2022-01-20T02:23:55.856Z"
   },
   {
    "duration": 40,
    "start_time": "2022-01-20T02:23:55.908Z"
   },
   {
    "duration": 49,
    "start_time": "2022-01-20T02:23:55.949Z"
   },
   {
    "duration": 42,
    "start_time": "2022-01-20T02:23:55.999Z"
   },
   {
    "duration": 31,
    "start_time": "2022-01-20T02:23:56.043Z"
   },
   {
    "duration": 63,
    "start_time": "2022-01-20T02:23:56.075Z"
   },
   {
    "duration": 2,
    "start_time": "2022-01-20T02:23:56.140Z"
   },
   {
    "duration": 32,
    "start_time": "2022-01-20T02:23:56.144Z"
   },
   {
    "duration": 74,
    "start_time": "2022-01-20T02:23:56.178Z"
   },
   {
    "duration": 40,
    "start_time": "2022-01-20T02:23:56.253Z"
   },
   {
    "duration": 36,
    "start_time": "2022-01-20T02:23:56.295Z"
   },
   {
    "duration": 44,
    "start_time": "2022-01-20T02:23:56.332Z"
   },
   {
    "duration": 257,
    "start_time": "2022-01-20T02:23:56.378Z"
   },
   {
    "duration": 8,
    "start_time": "2022-01-20T02:23:56.637Z"
   },
   {
    "duration": 58,
    "start_time": "2022-01-20T02:23:56.646Z"
   },
   {
    "duration": 30,
    "start_time": "2022-01-20T02:23:56.706Z"
   },
   {
    "duration": 33,
    "start_time": "2022-01-20T02:23:56.737Z"
   },
   {
    "duration": 54,
    "start_time": "2022-01-20T02:23:56.771Z"
   },
   {
    "duration": 17,
    "start_time": "2022-01-20T02:23:56.826Z"
   },
   {
    "duration": 40,
    "start_time": "2022-01-20T02:23:56.844Z"
   },
   {
    "duration": 335,
    "start_time": "2022-01-20T02:23:56.886Z"
   },
   {
    "duration": 21,
    "start_time": "2022-01-20T02:23:57.222Z"
   },
   {
    "duration": 15,
    "start_time": "2022-01-20T02:23:57.245Z"
   },
   {
    "duration": 37,
    "start_time": "2022-01-20T02:23:57.262Z"
   },
   {
    "duration": 38,
    "start_time": "2022-01-20T02:23:57.301Z"
   },
   {
    "duration": 37,
    "start_time": "2022-01-20T02:23:57.340Z"
   },
   {
    "duration": 52,
    "start_time": "2022-01-20T02:23:57.379Z"
   },
   {
    "duration": 40,
    "start_time": "2022-01-20T02:23:57.433Z"
   },
   {
    "duration": 52,
    "start_time": "2022-01-20T02:23:57.474Z"
   },
   {
    "duration": 37,
    "start_time": "2022-01-20T02:23:57.528Z"
   },
   {
    "duration": 31,
    "start_time": "2022-01-20T02:23:57.566Z"
   },
   {
    "duration": 44,
    "start_time": "2022-01-20T02:23:57.598Z"
   },
   {
    "duration": 33,
    "start_time": "2022-01-20T02:23:57.643Z"
   },
   {
    "duration": 26,
    "start_time": "2022-01-20T02:23:57.678Z"
   },
   {
    "duration": 57,
    "start_time": "2022-01-20T02:23:57.705Z"
   },
   {
    "duration": 28,
    "start_time": "2022-01-20T02:23:57.763Z"
   },
   {
    "duration": 56,
    "start_time": "2022-01-20T02:23:57.793Z"
   },
   {
    "duration": 26,
    "start_time": "2022-01-20T02:23:57.851Z"
   },
   {
    "duration": 40,
    "start_time": "2022-01-20T02:23:57.878Z"
   },
   {
    "duration": 11,
    "start_time": "2022-01-20T02:23:57.920Z"
   },
   {
    "duration": 19,
    "start_time": "2022-01-20T02:23:57.933Z"
   },
   {
    "duration": 16,
    "start_time": "2022-01-20T02:23:57.954Z"
   },
   {
    "duration": 22,
    "start_time": "2022-01-20T02:23:57.971Z"
   },
   {
    "duration": 17,
    "start_time": "2022-01-20T02:23:57.995Z"
   },
   {
    "duration": 14,
    "start_time": "2022-01-20T02:23:58.014Z"
   },
   {
    "duration": 8,
    "start_time": "2022-01-20T02:24:09.568Z"
   },
   {
    "duration": 5,
    "start_time": "2022-01-20T02:25:09.795Z"
   },
   {
    "duration": 319,
    "start_time": "2022-01-20T02:25:20.743Z"
   },
   {
    "duration": 20,
    "start_time": "2022-01-20T02:25:53.776Z"
   },
   {
    "duration": 19,
    "start_time": "2022-01-20T02:28:14.387Z"
   },
   {
    "duration": 19,
    "start_time": "2022-01-20T02:28:35.684Z"
   },
   {
    "duration": 22,
    "start_time": "2022-01-20T02:29:31.128Z"
   },
   {
    "duration": 21,
    "start_time": "2022-01-20T02:30:23.538Z"
   },
   {
    "duration": 19,
    "start_time": "2022-01-20T02:30:48.556Z"
   },
   {
    "duration": 20,
    "start_time": "2022-01-20T02:31:23.589Z"
   },
   {
    "duration": 20,
    "start_time": "2022-01-20T02:31:42.326Z"
   },
   {
    "duration": 19,
    "start_time": "2022-01-20T02:31:55.778Z"
   },
   {
    "duration": 44,
    "start_time": "2022-01-20T02:32:27.299Z"
   },
   {
    "duration": 3,
    "start_time": "2022-01-20T02:32:27.345Z"
   },
   {
    "duration": 16,
    "start_time": "2022-01-20T02:32:27.350Z"
   },
   {
    "duration": 22,
    "start_time": "2022-01-20T02:32:27.368Z"
   },
   {
    "duration": 7,
    "start_time": "2022-01-20T02:32:27.391Z"
   },
   {
    "duration": 13,
    "start_time": "2022-01-20T02:32:27.400Z"
   },
   {
    "duration": 45,
    "start_time": "2022-01-20T02:32:27.415Z"
   },
   {
    "duration": 36,
    "start_time": "2022-01-20T02:32:27.462Z"
   },
   {
    "duration": 29,
    "start_time": "2022-01-20T02:32:27.501Z"
   },
   {
    "duration": 8,
    "start_time": "2022-01-20T02:32:27.532Z"
   },
   {
    "duration": 23,
    "start_time": "2022-01-20T02:32:27.542Z"
   },
   {
    "duration": 33,
    "start_time": "2022-01-20T02:32:27.566Z"
   },
   {
    "duration": 23,
    "start_time": "2022-01-20T02:32:27.601Z"
   },
   {
    "duration": 29,
    "start_time": "2022-01-20T02:32:27.626Z"
   },
   {
    "duration": 30,
    "start_time": "2022-01-20T02:32:27.657Z"
   },
   {
    "duration": 25,
    "start_time": "2022-01-20T02:32:27.689Z"
   },
   {
    "duration": 30,
    "start_time": "2022-01-20T02:32:27.716Z"
   },
   {
    "duration": 30,
    "start_time": "2022-01-20T02:32:27.748Z"
   },
   {
    "duration": 29,
    "start_time": "2022-01-20T02:32:27.779Z"
   },
   {
    "duration": 27,
    "start_time": "2022-01-20T02:32:27.810Z"
   },
   {
    "duration": 48,
    "start_time": "2022-01-20T02:32:27.839Z"
   },
   {
    "duration": 6,
    "start_time": "2022-01-20T02:32:27.889Z"
   },
   {
    "duration": 14,
    "start_time": "2022-01-20T02:32:27.897Z"
   },
   {
    "duration": 37,
    "start_time": "2022-01-20T02:32:27.912Z"
   },
   {
    "duration": 13,
    "start_time": "2022-01-20T02:32:27.950Z"
   },
   {
    "duration": 20,
    "start_time": "2022-01-20T02:32:27.964Z"
   },
   {
    "duration": 43,
    "start_time": "2022-01-20T02:32:27.988Z"
   },
   {
    "duration": 28,
    "start_time": "2022-01-20T02:32:28.034Z"
   },
   {
    "duration": 33,
    "start_time": "2022-01-20T02:32:28.064Z"
   },
   {
    "duration": 41,
    "start_time": "2022-01-20T02:32:28.099Z"
   },
   {
    "duration": 20,
    "start_time": "2022-01-20T02:32:28.142Z"
   },
   {
    "duration": 24,
    "start_time": "2022-01-20T02:32:28.163Z"
   },
   {
    "duration": 81,
    "start_time": "2022-01-20T02:32:28.189Z"
   },
   {
    "duration": 2,
    "start_time": "2022-01-20T02:32:28.272Z"
   },
   {
    "duration": 48,
    "start_time": "2022-01-20T02:32:28.275Z"
   },
   {
    "duration": 49,
    "start_time": "2022-01-20T02:32:28.325Z"
   },
   {
    "duration": 35,
    "start_time": "2022-01-20T02:32:28.375Z"
   },
   {
    "duration": 39,
    "start_time": "2022-01-20T02:32:28.412Z"
   },
   {
    "duration": 28,
    "start_time": "2022-01-20T02:32:28.452Z"
   },
   {
    "duration": 236,
    "start_time": "2022-01-20T02:32:28.481Z"
   },
   {
    "duration": 7,
    "start_time": "2022-01-20T02:32:28.719Z"
   },
   {
    "duration": 41,
    "start_time": "2022-01-20T02:32:28.728Z"
   },
   {
    "duration": 36,
    "start_time": "2022-01-20T02:32:28.771Z"
   },
   {
    "duration": 12,
    "start_time": "2022-01-20T02:32:28.809Z"
   },
   {
    "duration": 38,
    "start_time": "2022-01-20T02:32:28.823Z"
   },
   {
    "duration": 68,
    "start_time": "2022-01-20T02:32:28.863Z"
   },
   {
    "duration": 26,
    "start_time": "2022-01-20T02:32:28.933Z"
   },
   {
    "duration": 380,
    "start_time": "2022-01-20T02:32:28.961Z"
   },
   {
    "duration": 16,
    "start_time": "2022-01-20T02:32:29.343Z"
   },
   {
    "duration": 26,
    "start_time": "2022-01-20T02:32:29.361Z"
   },
   {
    "duration": 29,
    "start_time": "2022-01-20T02:32:29.388Z"
   },
   {
    "duration": 22,
    "start_time": "2022-01-20T02:32:29.419Z"
   },
   {
    "duration": 38,
    "start_time": "2022-01-20T02:32:29.443Z"
   },
   {
    "duration": 18,
    "start_time": "2022-01-20T02:32:29.482Z"
   },
   {
    "duration": 33,
    "start_time": "2022-01-20T02:32:29.502Z"
   },
   {
    "duration": 37,
    "start_time": "2022-01-20T02:32:29.536Z"
   },
   {
    "duration": 22,
    "start_time": "2022-01-20T02:32:29.574Z"
   },
   {
    "duration": 32,
    "start_time": "2022-01-20T02:32:29.598Z"
   },
   {
    "duration": 24,
    "start_time": "2022-01-20T02:32:29.631Z"
   },
   {
    "duration": 29,
    "start_time": "2022-01-20T02:32:29.657Z"
   },
   {
    "duration": 25,
    "start_time": "2022-01-20T02:32:29.688Z"
   },
   {
    "duration": 31,
    "start_time": "2022-01-20T02:32:29.714Z"
   },
   {
    "duration": 46,
    "start_time": "2022-01-20T02:32:29.747Z"
   },
   {
    "duration": 15,
    "start_time": "2022-01-20T02:32:29.795Z"
   },
   {
    "duration": 25,
    "start_time": "2022-01-20T02:32:29.812Z"
   },
   {
    "duration": 25,
    "start_time": "2022-01-20T02:32:29.838Z"
   },
   {
    "duration": 19,
    "start_time": "2022-01-20T02:32:29.865Z"
   },
   {
    "duration": 33,
    "start_time": "2022-01-20T02:32:29.885Z"
   },
   {
    "duration": 19,
    "start_time": "2022-01-20T02:32:29.920Z"
   },
   {
    "duration": 36,
    "start_time": "2022-01-20T02:32:29.941Z"
   },
   {
    "duration": 46,
    "start_time": "2022-01-20T02:32:29.978Z"
   },
   {
    "duration": 6,
    "start_time": "2022-01-20T02:32:30.026Z"
   },
   {
    "duration": 44,
    "start_time": "2022-01-20T02:33:37.837Z"
   },
   {
    "duration": 3,
    "start_time": "2022-01-20T02:33:37.883Z"
   },
   {
    "duration": 24,
    "start_time": "2022-01-20T02:33:37.888Z"
   },
   {
    "duration": 36,
    "start_time": "2022-01-20T02:33:37.914Z"
   },
   {
    "duration": 28,
    "start_time": "2022-01-20T02:33:37.951Z"
   },
   {
    "duration": 39,
    "start_time": "2022-01-20T02:33:37.981Z"
   },
   {
    "duration": 33,
    "start_time": "2022-01-20T02:33:38.022Z"
   },
   {
    "duration": 34,
    "start_time": "2022-01-20T02:33:38.056Z"
   },
   {
    "duration": 45,
    "start_time": "2022-01-20T02:33:38.092Z"
   },
   {
    "duration": 15,
    "start_time": "2022-01-20T02:33:38.139Z"
   },
   {
    "duration": 19,
    "start_time": "2022-01-20T02:33:38.156Z"
   },
   {
    "duration": 48,
    "start_time": "2022-01-20T02:33:38.177Z"
   },
   {
    "duration": 14,
    "start_time": "2022-01-20T02:33:38.226Z"
   },
   {
    "duration": 47,
    "start_time": "2022-01-20T02:33:38.241Z"
   },
   {
    "duration": 30,
    "start_time": "2022-01-20T02:33:38.290Z"
   },
   {
    "duration": 50,
    "start_time": "2022-01-20T02:33:38.321Z"
   },
   {
    "duration": 23,
    "start_time": "2022-01-20T02:33:38.373Z"
   },
   {
    "duration": 23,
    "start_time": "2022-01-20T02:33:38.397Z"
   },
   {
    "duration": 24,
    "start_time": "2022-01-20T02:33:38.422Z"
   },
   {
    "duration": 38,
    "start_time": "2022-01-20T02:33:38.448Z"
   },
   {
    "duration": 43,
    "start_time": "2022-01-20T02:33:38.488Z"
   },
   {
    "duration": 16,
    "start_time": "2022-01-20T02:33:38.533Z"
   },
   {
    "duration": 39,
    "start_time": "2022-01-20T02:33:38.550Z"
   },
   {
    "duration": 36,
    "start_time": "2022-01-20T02:33:38.591Z"
   },
   {
    "duration": 31,
    "start_time": "2022-01-20T02:33:38.628Z"
   },
   {
    "duration": 21,
    "start_time": "2022-01-20T02:33:38.660Z"
   },
   {
    "duration": 57,
    "start_time": "2022-01-20T02:33:38.684Z"
   },
   {
    "duration": 32,
    "start_time": "2022-01-20T02:33:38.743Z"
   },
   {
    "duration": 18,
    "start_time": "2022-01-20T02:33:38.777Z"
   },
   {
    "duration": 40,
    "start_time": "2022-01-20T02:33:38.797Z"
   },
   {
    "duration": 15,
    "start_time": "2022-01-20T02:33:38.838Z"
   },
   {
    "duration": 20,
    "start_time": "2022-01-20T02:33:38.855Z"
   },
   {
    "duration": 93,
    "start_time": "2022-01-20T02:33:38.876Z"
   },
   {
    "duration": 2,
    "start_time": "2022-01-20T02:33:38.970Z"
   },
   {
    "duration": 15,
    "start_time": "2022-01-20T02:33:38.974Z"
   },
   {
    "duration": 21,
    "start_time": "2022-01-20T02:33:38.990Z"
   },
   {
    "duration": 10,
    "start_time": "2022-01-20T02:33:39.012Z"
   },
   {
    "duration": 10,
    "start_time": "2022-01-20T02:33:39.024Z"
   },
   {
    "duration": 8,
    "start_time": "2022-01-20T02:33:39.035Z"
   },
   {
    "duration": 246,
    "start_time": "2022-01-20T02:33:39.045Z"
   },
   {
    "duration": 7,
    "start_time": "2022-01-20T02:33:39.293Z"
   },
   {
    "duration": 14,
    "start_time": "2022-01-20T02:33:39.301Z"
   },
   {
    "duration": 6,
    "start_time": "2022-01-20T02:33:39.316Z"
   },
   {
    "duration": 22,
    "start_time": "2022-01-20T02:33:39.323Z"
   },
   {
    "duration": 12,
    "start_time": "2022-01-20T02:33:39.347Z"
   },
   {
    "duration": 22,
    "start_time": "2022-01-20T02:33:39.360Z"
   },
   {
    "duration": 2,
    "start_time": "2022-01-20T02:33:39.383Z"
   },
   {
    "duration": 341,
    "start_time": "2022-01-20T02:33:39.387Z"
   },
   {
    "duration": 22,
    "start_time": "2022-01-20T02:33:39.730Z"
   },
   {
    "duration": 3,
    "start_time": "2022-01-20T02:33:39.754Z"
   },
   {
    "duration": 4,
    "start_time": "2022-01-20T02:33:39.759Z"
   },
   {
    "duration": 6,
    "start_time": "2022-01-20T02:33:39.765Z"
   },
   {
    "duration": 4,
    "start_time": "2022-01-20T02:33:39.772Z"
   },
   {
    "duration": 3,
    "start_time": "2022-01-20T02:33:39.778Z"
   },
   {
    "duration": 7,
    "start_time": "2022-01-20T02:33:39.783Z"
   },
   {
    "duration": 8,
    "start_time": "2022-01-20T02:33:39.791Z"
   },
   {
    "duration": 12,
    "start_time": "2022-01-20T02:33:39.801Z"
   },
   {
    "duration": 8,
    "start_time": "2022-01-20T02:33:39.814Z"
   },
   {
    "duration": 18,
    "start_time": "2022-01-20T02:33:39.823Z"
   },
   {
    "duration": 2,
    "start_time": "2022-01-20T02:33:39.842Z"
   },
   {
    "duration": 9,
    "start_time": "2022-01-20T02:33:39.846Z"
   },
   {
    "duration": 8,
    "start_time": "2022-01-20T02:33:39.856Z"
   },
   {
    "duration": 7,
    "start_time": "2022-01-20T02:33:39.866Z"
   },
   {
    "duration": 9,
    "start_time": "2022-01-20T02:33:39.874Z"
   },
   {
    "duration": 8,
    "start_time": "2022-01-20T02:33:39.884Z"
   },
   {
    "duration": 8,
    "start_time": "2022-01-20T02:33:39.894Z"
   },
   {
    "duration": 8,
    "start_time": "2022-01-20T02:33:39.903Z"
   },
   {
    "duration": 9,
    "start_time": "2022-01-20T02:33:39.913Z"
   },
   {
    "duration": 8,
    "start_time": "2022-01-20T02:33:39.923Z"
   },
   {
    "duration": 6,
    "start_time": "2022-01-20T02:33:39.933Z"
   },
   {
    "duration": 8,
    "start_time": "2022-01-20T02:33:39.940Z"
   },
   {
    "duration": 8,
    "start_time": "2022-01-20T02:33:39.950Z"
   },
   {
    "duration": 10,
    "start_time": "2022-01-20T02:34:31.838Z"
   },
   {
    "duration": 275,
    "start_time": "2022-01-20T02:34:43.792Z"
   },
   {
    "duration": 8,
    "start_time": "2022-01-20T02:34:48.814Z"
   },
   {
    "duration": 6,
    "start_time": "2022-01-20T02:35:02.440Z"
   },
   {
    "duration": 5,
    "start_time": "2022-01-20T02:35:13.311Z"
   },
   {
    "duration": 6,
    "start_time": "2022-01-20T02:35:17.160Z"
   },
   {
    "duration": 2,
    "start_time": "2022-01-20T02:35:17.317Z"
   },
   {
    "duration": 17,
    "start_time": "2022-01-20T02:35:23.068Z"
   },
   {
    "duration": 42,
    "start_time": "2022-01-20T02:35:37.474Z"
   },
   {
    "duration": 3,
    "start_time": "2022-01-20T02:35:37.518Z"
   },
   {
    "duration": 14,
    "start_time": "2022-01-20T02:35:37.523Z"
   },
   {
    "duration": 20,
    "start_time": "2022-01-20T02:35:37.539Z"
   },
   {
    "duration": 6,
    "start_time": "2022-01-20T02:35:37.561Z"
   },
   {
    "duration": 6,
    "start_time": "2022-01-20T02:35:37.569Z"
   },
   {
    "duration": 15,
    "start_time": "2022-01-20T02:35:37.576Z"
   },
   {
    "duration": 14,
    "start_time": "2022-01-20T02:35:37.593Z"
   },
   {
    "duration": 50,
    "start_time": "2022-01-20T02:35:37.610Z"
   },
   {
    "duration": 2,
    "start_time": "2022-01-20T02:35:37.662Z"
   },
   {
    "duration": 4,
    "start_time": "2022-01-20T02:35:37.665Z"
   },
   {
    "duration": 17,
    "start_time": "2022-01-20T02:35:37.671Z"
   },
   {
    "duration": 14,
    "start_time": "2022-01-20T02:35:37.690Z"
   },
   {
    "duration": 37,
    "start_time": "2022-01-20T02:35:37.706Z"
   },
   {
    "duration": 8,
    "start_time": "2022-01-20T02:35:37.745Z"
   },
   {
    "duration": 10,
    "start_time": "2022-01-20T02:35:37.755Z"
   },
   {
    "duration": 23,
    "start_time": "2022-01-20T02:35:37.767Z"
   },
   {
    "duration": 29,
    "start_time": "2022-01-20T02:35:37.792Z"
   },
   {
    "duration": 15,
    "start_time": "2022-01-20T02:35:37.822Z"
   },
   {
    "duration": 16,
    "start_time": "2022-01-20T02:35:37.838Z"
   },
   {
    "duration": 32,
    "start_time": "2022-01-20T02:35:37.856Z"
   },
   {
    "duration": 9,
    "start_time": "2022-01-20T02:35:37.890Z"
   },
   {
    "duration": 15,
    "start_time": "2022-01-20T02:35:37.900Z"
   },
   {
    "duration": 25,
    "start_time": "2022-01-20T02:35:37.917Z"
   },
   {
    "duration": 9,
    "start_time": "2022-01-20T02:35:37.943Z"
   },
   {
    "duration": 8,
    "start_time": "2022-01-20T02:35:37.954Z"
   },
   {
    "duration": 40,
    "start_time": "2022-01-20T02:35:37.965Z"
   },
   {
    "duration": 11,
    "start_time": "2022-01-20T02:35:38.007Z"
   },
   {
    "duration": 29,
    "start_time": "2022-01-20T02:35:38.020Z"
   },
   {
    "duration": 27,
    "start_time": "2022-01-20T02:35:38.050Z"
   },
   {
    "duration": 6,
    "start_time": "2022-01-20T02:35:38.079Z"
   },
   {
    "duration": 14,
    "start_time": "2022-01-20T02:35:38.086Z"
   },
   {
    "duration": 60,
    "start_time": "2022-01-20T02:35:38.101Z"
   },
   {
    "duration": 2,
    "start_time": "2022-01-20T02:35:38.162Z"
   },
   {
    "duration": 6,
    "start_time": "2022-01-20T02:35:38.165Z"
   },
   {
    "duration": 10,
    "start_time": "2022-01-20T02:35:38.172Z"
   },
   {
    "duration": 6,
    "start_time": "2022-01-20T02:35:38.183Z"
   },
   {
    "duration": 9,
    "start_time": "2022-01-20T02:35:38.190Z"
   },
   {
    "duration": 10,
    "start_time": "2022-01-20T02:35:38.200Z"
   },
   {
    "duration": 323,
    "start_time": "2022-01-20T02:35:38.211Z"
   },
   {
    "duration": 9,
    "start_time": "2022-01-20T02:35:38.536Z"
   },
   {
    "duration": 15,
    "start_time": "2022-01-20T02:35:38.547Z"
   },
   {
    "duration": 5,
    "start_time": "2022-01-20T02:35:38.564Z"
   },
   {
    "duration": 16,
    "start_time": "2022-01-20T02:35:38.570Z"
   },
   {
    "duration": 29,
    "start_time": "2022-01-20T02:35:38.587Z"
   },
   {
    "duration": 20,
    "start_time": "2022-01-20T02:35:38.618Z"
   },
   {
    "duration": 14,
    "start_time": "2022-01-20T02:35:38.639Z"
   },
   {
    "duration": 336,
    "start_time": "2022-01-20T02:35:38.654Z"
   },
   {
    "duration": 16,
    "start_time": "2022-01-20T02:35:38.991Z"
   },
   {
    "duration": 17,
    "start_time": "2022-01-20T02:35:39.009Z"
   },
   {
    "duration": 16,
    "start_time": "2022-01-20T02:35:39.028Z"
   },
   {
    "duration": 29,
    "start_time": "2022-01-20T02:35:39.045Z"
   },
   {
    "duration": 7,
    "start_time": "2022-01-20T02:35:39.076Z"
   },
   {
    "duration": 7,
    "start_time": "2022-01-20T02:35:39.084Z"
   },
   {
    "duration": 5,
    "start_time": "2022-01-20T02:35:39.092Z"
   },
   {
    "duration": 9,
    "start_time": "2022-01-20T02:35:39.098Z"
   },
   {
    "duration": 7,
    "start_time": "2022-01-20T02:35:39.109Z"
   },
   {
    "duration": 8,
    "start_time": "2022-01-20T02:35:39.117Z"
   },
   {
    "duration": 7,
    "start_time": "2022-01-20T02:35:39.126Z"
   },
   {
    "duration": 22,
    "start_time": "2022-01-20T02:35:39.135Z"
   },
   {
    "duration": 10,
    "start_time": "2022-01-20T02:35:39.158Z"
   },
   {
    "duration": 10,
    "start_time": "2022-01-20T02:35:39.169Z"
   },
   {
    "duration": 10,
    "start_time": "2022-01-20T02:35:39.180Z"
   },
   {
    "duration": 8,
    "start_time": "2022-01-20T02:35:39.191Z"
   },
   {
    "duration": 7,
    "start_time": "2022-01-20T02:35:39.200Z"
   },
   {
    "duration": 10,
    "start_time": "2022-01-20T02:35:39.208Z"
   },
   {
    "duration": 11,
    "start_time": "2022-01-20T02:35:39.219Z"
   },
   {
    "duration": 7,
    "start_time": "2022-01-20T02:35:39.231Z"
   },
   {
    "duration": 6,
    "start_time": "2022-01-20T02:35:39.240Z"
   },
   {
    "duration": 8,
    "start_time": "2022-01-20T02:35:39.248Z"
   },
   {
    "duration": 12,
    "start_time": "2022-01-20T02:35:39.257Z"
   },
   {
    "duration": 8,
    "start_time": "2022-01-20T02:35:39.270Z"
   },
   {
    "duration": 7,
    "start_time": "2022-01-20T02:45:37.057Z"
   },
   {
    "duration": 7,
    "start_time": "2022-01-20T02:45:46.154Z"
   },
   {
    "duration": 6,
    "start_time": "2022-01-20T02:45:56.612Z"
   },
   {
    "duration": 21,
    "start_time": "2022-01-20T02:46:22.376Z"
   },
   {
    "duration": 20,
    "start_time": "2022-01-20T02:52:56.326Z"
   },
   {
    "duration": 94,
    "start_time": "2022-01-20T02:53:15.782Z"
   },
   {
    "duration": 20,
    "start_time": "2022-01-20T02:53:26.968Z"
   },
   {
    "duration": 19,
    "start_time": "2022-01-20T02:54:00.737Z"
   },
   {
    "duration": 17,
    "start_time": "2022-01-20T02:54:09.351Z"
   },
   {
    "duration": 13,
    "start_time": "2022-01-20T02:54:23.126Z"
   },
   {
    "duration": 2,
    "start_time": "2022-01-20T02:54:31.328Z"
   },
   {
    "duration": 7,
    "start_time": "2022-01-20T02:54:39.362Z"
   },
   {
    "duration": 12,
    "start_time": "2022-01-20T02:54:42.996Z"
   },
   {
    "duration": 45,
    "start_time": "2022-01-20T02:54:49.347Z"
   },
   {
    "duration": 4,
    "start_time": "2022-01-20T02:54:49.394Z"
   },
   {
    "duration": 40,
    "start_time": "2022-01-20T02:54:49.399Z"
   },
   {
    "duration": 39,
    "start_time": "2022-01-20T02:54:49.441Z"
   },
   {
    "duration": 7,
    "start_time": "2022-01-20T02:54:49.481Z"
   },
   {
    "duration": 24,
    "start_time": "2022-01-20T02:54:49.490Z"
   },
   {
    "duration": 26,
    "start_time": "2022-01-20T02:54:49.516Z"
   },
   {
    "duration": 28,
    "start_time": "2022-01-20T02:54:49.543Z"
   },
   {
    "duration": 26,
    "start_time": "2022-01-20T02:54:49.574Z"
   },
   {
    "duration": 2,
    "start_time": "2022-01-20T02:54:49.602Z"
   },
   {
    "duration": 16,
    "start_time": "2022-01-20T02:54:49.605Z"
   },
   {
    "duration": 40,
    "start_time": "2022-01-20T02:54:49.623Z"
   },
   {
    "duration": 21,
    "start_time": "2022-01-20T02:54:49.664Z"
   },
   {
    "duration": 36,
    "start_time": "2022-01-20T02:54:49.686Z"
   },
   {
    "duration": 18,
    "start_time": "2022-01-20T02:54:49.723Z"
   },
   {
    "duration": 19,
    "start_time": "2022-01-20T02:54:49.743Z"
   },
   {
    "duration": 26,
    "start_time": "2022-01-20T02:54:49.764Z"
   },
   {
    "duration": 18,
    "start_time": "2022-01-20T02:54:49.792Z"
   },
   {
    "duration": 21,
    "start_time": "2022-01-20T02:54:49.812Z"
   },
   {
    "duration": 20,
    "start_time": "2022-01-20T02:54:49.834Z"
   },
   {
    "duration": 29,
    "start_time": "2022-01-20T02:54:49.855Z"
   },
   {
    "duration": 16,
    "start_time": "2022-01-20T02:54:49.886Z"
   },
   {
    "duration": 15,
    "start_time": "2022-01-20T02:54:49.904Z"
   },
   {
    "duration": 34,
    "start_time": "2022-01-20T02:54:49.921Z"
   },
   {
    "duration": 36,
    "start_time": "2022-01-20T02:54:49.957Z"
   },
   {
    "duration": 38,
    "start_time": "2022-01-20T02:54:49.994Z"
   },
   {
    "duration": 20,
    "start_time": "2022-01-20T02:54:50.037Z"
   },
   {
    "duration": 3,
    "start_time": "2022-01-20T02:54:50.060Z"
   },
   {
    "duration": 11,
    "start_time": "2022-01-20T02:54:50.065Z"
   },
   {
    "duration": 20,
    "start_time": "2022-01-20T02:54:50.077Z"
   },
   {
    "duration": 2,
    "start_time": "2022-01-20T02:54:50.099Z"
   },
   {
    "duration": 20,
    "start_time": "2022-01-20T02:54:50.102Z"
   },
   {
    "duration": 86,
    "start_time": "2022-01-20T02:54:50.124Z"
   },
   {
    "duration": 2,
    "start_time": "2022-01-20T02:54:50.211Z"
   },
   {
    "duration": 41,
    "start_time": "2022-01-20T02:54:50.214Z"
   },
   {
    "duration": 46,
    "start_time": "2022-01-20T02:54:50.256Z"
   },
   {
    "duration": 21,
    "start_time": "2022-01-20T02:54:50.304Z"
   },
   {
    "duration": 44,
    "start_time": "2022-01-20T02:54:50.327Z"
   },
   {
    "duration": 30,
    "start_time": "2022-01-20T02:54:50.372Z"
   },
   {
    "duration": 248,
    "start_time": "2022-01-20T02:54:50.403Z"
   },
   {
    "duration": 8,
    "start_time": "2022-01-20T02:54:50.652Z"
   },
   {
    "duration": 43,
    "start_time": "2022-01-20T02:54:50.661Z"
   },
   {
    "duration": 29,
    "start_time": "2022-01-20T02:54:50.705Z"
   },
   {
    "duration": 16,
    "start_time": "2022-01-20T02:54:50.736Z"
   },
   {
    "duration": 64,
    "start_time": "2022-01-20T02:54:50.753Z"
   },
   {
    "duration": 28,
    "start_time": "2022-01-20T02:54:50.819Z"
   },
   {
    "duration": 17,
    "start_time": "2022-01-20T02:54:50.849Z"
   },
   {
    "duration": 25,
    "start_time": "2022-01-20T02:54:50.868Z"
   },
   {
    "duration": 41823,
    "start_time": "2022-01-20T02:54:50.895Z"
   },
   {
    "duration": 25,
    "start_time": "2022-01-20T02:55:32.719Z"
   },
   {
    "duration": 4,
    "start_time": "2022-01-20T02:55:32.745Z"
   },
   {
    "duration": 4,
    "start_time": "2022-01-20T02:55:32.751Z"
   },
   {
    "duration": 4,
    "start_time": "2022-01-20T02:55:32.756Z"
   },
   {
    "duration": 5,
    "start_time": "2022-01-20T02:55:32.761Z"
   },
   {
    "duration": 4,
    "start_time": "2022-01-20T02:55:32.767Z"
   },
   {
    "duration": 10,
    "start_time": "2022-01-20T02:55:32.773Z"
   },
   {
    "duration": 9,
    "start_time": "2022-01-20T02:55:32.784Z"
   },
   {
    "duration": 9,
    "start_time": "2022-01-20T02:55:32.794Z"
   },
   {
    "duration": 8,
    "start_time": "2022-01-20T02:55:32.804Z"
   },
   {
    "duration": 8,
    "start_time": "2022-01-20T02:55:32.813Z"
   },
   {
    "duration": 7,
    "start_time": "2022-01-20T02:55:32.822Z"
   },
   {
    "duration": 9,
    "start_time": "2022-01-20T02:55:32.830Z"
   },
   {
    "duration": 8,
    "start_time": "2022-01-20T02:55:32.840Z"
   },
   {
    "duration": 7,
    "start_time": "2022-01-20T02:55:32.850Z"
   },
   {
    "duration": 8,
    "start_time": "2022-01-20T02:55:32.858Z"
   },
   {
    "duration": 8,
    "start_time": "2022-01-20T02:55:32.867Z"
   },
   {
    "duration": 8,
    "start_time": "2022-01-20T02:55:32.877Z"
   },
   {
    "duration": 8,
    "start_time": "2022-01-20T02:55:32.886Z"
   },
   {
    "duration": 7,
    "start_time": "2022-01-20T02:55:32.896Z"
   },
   {
    "duration": 8,
    "start_time": "2022-01-20T02:55:32.904Z"
   },
   {
    "duration": 11,
    "start_time": "2022-01-20T02:55:32.913Z"
   },
   {
    "duration": 8,
    "start_time": "2022-01-20T02:55:32.926Z"
   },
   {
    "duration": 8,
    "start_time": "2022-01-20T02:55:32.936Z"
   },
   {
    "duration": 20,
    "start_time": "2022-01-20T02:55:56.830Z"
   },
   {
    "duration": 7,
    "start_time": "2022-01-20T02:56:05.908Z"
   },
   {
    "duration": 44,
    "start_time": "2022-01-20T02:56:58.822Z"
   },
   {
    "duration": 3,
    "start_time": "2022-01-20T02:56:58.868Z"
   },
   {
    "duration": 21,
    "start_time": "2022-01-20T02:56:58.873Z"
   },
   {
    "duration": 48,
    "start_time": "2022-01-20T02:56:58.896Z"
   },
   {
    "duration": 7,
    "start_time": "2022-01-20T02:56:58.946Z"
   },
   {
    "duration": 5,
    "start_time": "2022-01-20T02:56:58.955Z"
   },
   {
    "duration": 11,
    "start_time": "2022-01-20T02:56:58.962Z"
   },
   {
    "duration": 19,
    "start_time": "2022-01-20T02:56:58.975Z"
   },
   {
    "duration": 47,
    "start_time": "2022-01-20T02:56:58.997Z"
   },
   {
    "duration": 3,
    "start_time": "2022-01-20T02:56:59.046Z"
   },
   {
    "duration": 5,
    "start_time": "2022-01-20T02:56:59.050Z"
   },
   {
    "duration": 17,
    "start_time": "2022-01-20T02:56:59.056Z"
   },
   {
    "duration": 10,
    "start_time": "2022-01-20T02:56:59.074Z"
   },
   {
    "duration": 20,
    "start_time": "2022-01-20T02:56:59.085Z"
   },
   {
    "duration": 11,
    "start_time": "2022-01-20T02:56:59.106Z"
   },
   {
    "duration": 12,
    "start_time": "2022-01-20T02:56:59.141Z"
   },
   {
    "duration": 24,
    "start_time": "2022-01-20T02:56:59.155Z"
   },
   {
    "duration": 14,
    "start_time": "2022-01-20T02:56:59.180Z"
   },
   {
    "duration": 14,
    "start_time": "2022-01-20T02:56:59.195Z"
   },
   {
    "duration": 19,
    "start_time": "2022-01-20T02:56:59.210Z"
   },
   {
    "duration": 34,
    "start_time": "2022-01-20T02:56:59.230Z"
   },
   {
    "duration": 15,
    "start_time": "2022-01-20T02:56:59.266Z"
   },
   {
    "duration": 17,
    "start_time": "2022-01-20T02:56:59.283Z"
   },
   {
    "duration": 31,
    "start_time": "2022-01-20T02:56:59.302Z"
   },
   {
    "duration": 8,
    "start_time": "2022-01-20T02:56:59.335Z"
   },
   {
    "duration": 18,
    "start_time": "2022-01-20T02:56:59.345Z"
   },
   {
    "duration": 37,
    "start_time": "2022-01-20T02:56:59.368Z"
   },
   {
    "duration": 19,
    "start_time": "2022-01-20T02:56:59.408Z"
   },
   {
    "duration": 20,
    "start_time": "2022-01-20T02:56:59.429Z"
   },
   {
    "duration": 31,
    "start_time": "2022-01-20T02:56:59.451Z"
   },
   {
    "duration": 8,
    "start_time": "2022-01-20T02:56:59.483Z"
   },
   {
    "duration": 15,
    "start_time": "2022-01-20T02:56:59.493Z"
   },
   {
    "duration": 67,
    "start_time": "2022-01-20T02:56:59.509Z"
   },
   {
    "duration": 2,
    "start_time": "2022-01-20T02:56:59.577Z"
   },
   {
    "duration": 20,
    "start_time": "2022-01-20T02:56:59.581Z"
   },
   {
    "duration": 21,
    "start_time": "2022-01-20T02:56:59.603Z"
   },
   {
    "duration": 13,
    "start_time": "2022-01-20T02:56:59.625Z"
   },
   {
    "duration": 25,
    "start_time": "2022-01-20T02:56:59.639Z"
   },
   {
    "duration": 20,
    "start_time": "2022-01-20T02:56:59.666Z"
   },
   {
    "duration": 228,
    "start_time": "2022-01-20T02:56:59.688Z"
   },
   {
    "duration": 8,
    "start_time": "2022-01-20T02:56:59.918Z"
   },
   {
    "duration": 30,
    "start_time": "2022-01-20T02:56:59.927Z"
   },
   {
    "duration": 12,
    "start_time": "2022-01-20T02:56:59.958Z"
   },
   {
    "duration": 14,
    "start_time": "2022-01-20T02:56:59.972Z"
   },
   {
    "duration": 25,
    "start_time": "2022-01-20T02:56:59.988Z"
   },
   {
    "duration": 40,
    "start_time": "2022-01-20T02:57:00.014Z"
   },
   {
    "duration": 22,
    "start_time": "2022-01-20T02:57:00.055Z"
   },
   {
    "duration": 18,
    "start_time": "2022-01-20T02:57:00.078Z"
   },
   {
    "duration": 41048,
    "start_time": "2022-01-20T02:57:00.097Z"
   },
   {
    "duration": 18,
    "start_time": "2022-01-20T02:57:41.147Z"
   },
   {
    "duration": 9,
    "start_time": "2022-01-20T02:57:41.166Z"
   },
   {
    "duration": 6,
    "start_time": "2022-01-20T02:57:41.176Z"
   },
   {
    "duration": 6,
    "start_time": "2022-01-20T02:57:41.183Z"
   },
   {
    "duration": 4,
    "start_time": "2022-01-20T02:57:41.190Z"
   },
   {
    "duration": 4,
    "start_time": "2022-01-20T02:57:41.196Z"
   },
   {
    "duration": 12,
    "start_time": "2022-01-20T02:57:41.202Z"
   },
   {
    "duration": 13,
    "start_time": "2022-01-20T02:57:41.215Z"
   },
   {
    "duration": 9,
    "start_time": "2022-01-20T02:57:41.229Z"
   },
   {
    "duration": 9,
    "start_time": "2022-01-20T02:57:41.240Z"
   },
   {
    "duration": 7,
    "start_time": "2022-01-20T02:57:41.250Z"
   },
   {
    "duration": 9,
    "start_time": "2022-01-20T02:57:41.258Z"
   },
   {
    "duration": 9,
    "start_time": "2022-01-20T02:57:41.268Z"
   },
   {
    "duration": 9,
    "start_time": "2022-01-20T02:57:41.278Z"
   },
   {
    "duration": 10,
    "start_time": "2022-01-20T02:57:41.288Z"
   },
   {
    "duration": 8,
    "start_time": "2022-01-20T02:57:41.300Z"
   },
   {
    "duration": 9,
    "start_time": "2022-01-20T02:57:41.309Z"
   },
   {
    "duration": 7,
    "start_time": "2022-01-20T02:57:41.319Z"
   },
   {
    "duration": 8,
    "start_time": "2022-01-20T02:57:41.328Z"
   },
   {
    "duration": 8,
    "start_time": "2022-01-20T02:57:41.338Z"
   },
   {
    "duration": 9,
    "start_time": "2022-01-20T02:57:41.347Z"
   },
   {
    "duration": 10,
    "start_time": "2022-01-20T02:57:41.357Z"
   },
   {
    "duration": 18,
    "start_time": "2022-01-20T02:57:41.368Z"
   },
   {
    "duration": 16,
    "start_time": "2022-01-20T02:57:41.388Z"
   },
   {
    "duration": 18,
    "start_time": "2022-01-20T02:57:41.408Z"
   },
   {
    "duration": 21,
    "start_time": "2022-01-20T02:57:41.427Z"
   },
   {
    "duration": 13,
    "start_time": "2022-01-20T02:57:57.651Z"
   },
   {
    "duration": 42,
    "start_time": "2022-01-20T02:58:09.221Z"
   },
   {
    "duration": 3,
    "start_time": "2022-01-20T02:58:09.265Z"
   },
   {
    "duration": 11,
    "start_time": "2022-01-20T02:58:09.270Z"
   },
   {
    "duration": 20,
    "start_time": "2022-01-20T02:58:09.283Z"
   },
   {
    "duration": 40,
    "start_time": "2022-01-20T02:58:09.304Z"
   },
   {
    "duration": 6,
    "start_time": "2022-01-20T02:58:09.345Z"
   },
   {
    "duration": 12,
    "start_time": "2022-01-20T02:58:09.352Z"
   },
   {
    "duration": 15,
    "start_time": "2022-01-20T02:58:09.366Z"
   },
   {
    "duration": 21,
    "start_time": "2022-01-20T02:58:09.383Z"
   },
   {
    "duration": 2,
    "start_time": "2022-01-20T02:58:09.406Z"
   },
   {
    "duration": 33,
    "start_time": "2022-01-20T02:58:09.409Z"
   },
   {
    "duration": 16,
    "start_time": "2022-01-20T02:58:09.443Z"
   },
   {
    "duration": 9,
    "start_time": "2022-01-20T02:58:09.460Z"
   },
   {
    "duration": 21,
    "start_time": "2022-01-20T02:58:09.470Z"
   },
   {
    "duration": 13,
    "start_time": "2022-01-20T02:58:09.492Z"
   },
   {
    "duration": 9,
    "start_time": "2022-01-20T02:58:09.506Z"
   },
   {
    "duration": 25,
    "start_time": "2022-01-20T02:58:09.516Z"
   },
   {
    "duration": 8,
    "start_time": "2022-01-20T02:58:09.542Z"
   },
   {
    "duration": 4,
    "start_time": "2022-01-20T02:58:09.551Z"
   },
   {
    "duration": 11,
    "start_time": "2022-01-20T02:58:09.556Z"
   },
   {
    "duration": 16,
    "start_time": "2022-01-20T02:58:09.568Z"
   },
   {
    "duration": 6,
    "start_time": "2022-01-20T02:58:09.585Z"
   },
   {
    "duration": 8,
    "start_time": "2022-01-20T02:58:09.592Z"
   },
   {
    "duration": 19,
    "start_time": "2022-01-20T02:58:09.601Z"
   },
   {
    "duration": 2,
    "start_time": "2022-01-20T02:58:09.641Z"
   },
   {
    "duration": 5,
    "start_time": "2022-01-20T02:58:09.644Z"
   },
   {
    "duration": 21,
    "start_time": "2022-01-20T02:58:09.653Z"
   },
   {
    "duration": 3,
    "start_time": "2022-01-20T02:58:09.676Z"
   },
   {
    "duration": 13,
    "start_time": "2022-01-20T02:58:09.680Z"
   },
   {
    "duration": 21,
    "start_time": "2022-01-20T02:58:09.695Z"
   },
   {
    "duration": 2,
    "start_time": "2022-01-20T02:58:09.718Z"
   },
   {
    "duration": 21,
    "start_time": "2022-01-20T02:58:09.721Z"
   },
   {
    "duration": 55,
    "start_time": "2022-01-20T02:58:09.743Z"
   },
   {
    "duration": 2,
    "start_time": "2022-01-20T02:58:09.800Z"
   },
   {
    "duration": 5,
    "start_time": "2022-01-20T02:58:09.804Z"
   },
   {
    "duration": 9,
    "start_time": "2022-01-20T02:58:09.810Z"
   },
   {
    "duration": 6,
    "start_time": "2022-01-20T02:58:09.821Z"
   },
   {
    "duration": 3,
    "start_time": "2022-01-20T02:58:09.841Z"
   },
   {
    "duration": 8,
    "start_time": "2022-01-20T02:58:09.846Z"
   },
   {
    "duration": 218,
    "start_time": "2022-01-20T02:58:09.856Z"
   },
   {
    "duration": 8,
    "start_time": "2022-01-20T02:58:10.076Z"
   },
   {
    "duration": 14,
    "start_time": "2022-01-20T02:58:10.086Z"
   },
   {
    "duration": 5,
    "start_time": "2022-01-20T02:58:10.102Z"
   },
   {
    "duration": 8,
    "start_time": "2022-01-20T02:58:10.108Z"
   },
   {
    "duration": 28,
    "start_time": "2022-01-20T02:58:10.117Z"
   },
   {
    "duration": 10,
    "start_time": "2022-01-20T02:58:10.147Z"
   },
   {
    "duration": 3,
    "start_time": "2022-01-20T02:58:10.158Z"
   },
   {
    "duration": 4,
    "start_time": "2022-01-20T02:58:10.163Z"
   },
   {
    "duration": 40904,
    "start_time": "2022-01-20T02:58:10.169Z"
   },
   {
    "duration": 19,
    "start_time": "2022-01-20T02:58:51.074Z"
   },
   {
    "duration": 8,
    "start_time": "2022-01-20T02:58:51.094Z"
   },
   {
    "duration": 6,
    "start_time": "2022-01-20T02:58:51.103Z"
   },
   {
    "duration": 6,
    "start_time": "2022-01-20T02:58:51.110Z"
   },
   {
    "duration": 6,
    "start_time": "2022-01-20T02:58:51.117Z"
   },
   {
    "duration": 6,
    "start_time": "2022-01-20T02:58:51.125Z"
   },
   {
    "duration": 7,
    "start_time": "2022-01-20T02:58:51.140Z"
   },
   {
    "duration": 6,
    "start_time": "2022-01-20T02:58:51.149Z"
   },
   {
    "duration": 8,
    "start_time": "2022-01-20T02:58:51.157Z"
   },
   {
    "duration": 8,
    "start_time": "2022-01-20T02:58:51.166Z"
   },
   {
    "duration": 8,
    "start_time": "2022-01-20T02:58:51.175Z"
   },
   {
    "duration": 11,
    "start_time": "2022-01-20T02:58:51.184Z"
   },
   {
    "duration": 9,
    "start_time": "2022-01-20T02:58:51.197Z"
   },
   {
    "duration": 9,
    "start_time": "2022-01-20T02:58:51.207Z"
   },
   {
    "duration": 7,
    "start_time": "2022-01-20T02:58:51.218Z"
   },
   {
    "duration": 8,
    "start_time": "2022-01-20T02:58:51.226Z"
   },
   {
    "duration": 8,
    "start_time": "2022-01-20T02:58:51.236Z"
   },
   {
    "duration": 8,
    "start_time": "2022-01-20T02:58:51.246Z"
   },
   {
    "duration": 7,
    "start_time": "2022-01-20T02:58:51.255Z"
   },
   {
    "duration": 8,
    "start_time": "2022-01-20T02:58:51.264Z"
   },
   {
    "duration": 9,
    "start_time": "2022-01-20T02:58:51.273Z"
   },
   {
    "duration": 10,
    "start_time": "2022-01-20T02:58:51.283Z"
   },
   {
    "duration": 8,
    "start_time": "2022-01-20T02:58:51.294Z"
   },
   {
    "duration": 8,
    "start_time": "2022-01-20T02:58:51.303Z"
   },
   {
    "duration": 19,
    "start_time": "2022-01-20T02:58:51.314Z"
   },
   {
    "duration": 15,
    "start_time": "2022-01-20T03:01:55.741Z"
   },
   {
    "duration": 6,
    "start_time": "2022-01-20T03:02:16.327Z"
   },
   {
    "duration": 4,
    "start_time": "2022-01-20T03:02:33.579Z"
   },
   {
    "duration": 13,
    "start_time": "2022-01-20T03:02:39.299Z"
   },
   {
    "duration": 247,
    "start_time": "2022-01-20T03:03:10.250Z"
   },
   {
    "duration": 13,
    "start_time": "2022-01-20T03:03:18.000Z"
   },
   {
    "duration": 14,
    "start_time": "2022-01-20T03:08:48.402Z"
   },
   {
    "duration": 6,
    "start_time": "2022-01-20T03:09:19.625Z"
   },
   {
    "duration": 6,
    "start_time": "2022-01-20T03:09:27.402Z"
   },
   {
    "duration": 366,
    "start_time": "2022-01-21T01:43:20.880Z"
   },
   {
    "duration": 697,
    "start_time": "2022-01-21T01:59:24.104Z"
   },
   {
    "duration": 7,
    "start_time": "2022-01-21T01:59:24.803Z"
   },
   {
    "duration": 13,
    "start_time": "2022-01-21T01:59:24.812Z"
   },
   {
    "duration": 20,
    "start_time": "2022-01-21T01:59:24.827Z"
   },
   {
    "duration": 6,
    "start_time": "2022-01-21T01:59:24.849Z"
   },
   {
    "duration": 5,
    "start_time": "2022-01-21T01:59:24.857Z"
   },
   {
    "duration": 17,
    "start_time": "2022-01-21T01:59:24.863Z"
   },
   {
    "duration": 13,
    "start_time": "2022-01-21T01:59:24.882Z"
   },
   {
    "duration": 21,
    "start_time": "2022-01-21T01:59:24.927Z"
   },
   {
    "duration": 2,
    "start_time": "2022-01-21T01:59:24.950Z"
   },
   {
    "duration": 5,
    "start_time": "2022-01-21T01:59:24.953Z"
   },
   {
    "duration": 18,
    "start_time": "2022-01-21T01:59:24.959Z"
   },
   {
    "duration": 9,
    "start_time": "2022-01-21T01:59:24.978Z"
   },
   {
    "duration": 40,
    "start_time": "2022-01-21T01:59:24.988Z"
   },
   {
    "duration": 8,
    "start_time": "2022-01-21T01:59:25.030Z"
   },
   {
    "duration": 6,
    "start_time": "2022-01-21T01:59:25.039Z"
   },
   {
    "duration": 10,
    "start_time": "2022-01-21T01:59:25.046Z"
   },
   {
    "duration": 8,
    "start_time": "2022-01-21T01:59:25.057Z"
   },
   {
    "duration": 2,
    "start_time": "2022-01-21T01:59:25.067Z"
   },
   {
    "duration": 7,
    "start_time": "2022-01-21T01:59:25.071Z"
   },
   {
    "duration": 10,
    "start_time": "2022-01-21T01:59:25.079Z"
   },
   {
    "duration": 42,
    "start_time": "2022-01-21T01:59:25.090Z"
   },
   {
    "duration": 7,
    "start_time": "2022-01-21T01:59:25.133Z"
   },
   {
    "duration": 17,
    "start_time": "2022-01-21T01:59:25.141Z"
   },
   {
    "duration": 2,
    "start_time": "2022-01-21T01:59:25.160Z"
   },
   {
    "duration": 7,
    "start_time": "2022-01-21T01:59:25.164Z"
   },
   {
    "duration": 19,
    "start_time": "2022-01-21T01:59:25.175Z"
   },
   {
    "duration": 3,
    "start_time": "2022-01-21T01:59:25.196Z"
   },
   {
    "duration": 34,
    "start_time": "2022-01-21T01:59:25.201Z"
   },
   {
    "duration": 20,
    "start_time": "2022-01-21T01:59:25.237Z"
   },
   {
    "duration": 2,
    "start_time": "2022-01-21T01:59:25.259Z"
   },
   {
    "duration": 4,
    "start_time": "2022-01-21T01:59:25.262Z"
   },
   {
    "duration": 74,
    "start_time": "2022-01-21T01:59:25.268Z"
   },
   {
    "duration": 2,
    "start_time": "2022-01-21T01:59:25.344Z"
   },
   {
    "duration": 4,
    "start_time": "2022-01-21T01:59:25.348Z"
   },
   {
    "duration": 5,
    "start_time": "2022-01-21T01:59:25.354Z"
   },
   {
    "duration": 3,
    "start_time": "2022-01-21T01:59:25.360Z"
   },
   {
    "duration": 4,
    "start_time": "2022-01-21T01:59:25.365Z"
   },
   {
    "duration": 4,
    "start_time": "2022-01-21T01:59:25.371Z"
   },
   {
    "duration": 240,
    "start_time": "2022-01-21T01:59:25.377Z"
   },
   {
    "duration": 12,
    "start_time": "2022-01-21T01:59:25.619Z"
   },
   {
    "duration": 16,
    "start_time": "2022-01-21T01:59:25.632Z"
   },
   {
    "duration": 5,
    "start_time": "2022-01-21T01:59:25.650Z"
   },
   {
    "duration": 6,
    "start_time": "2022-01-21T01:59:25.656Z"
   },
   {
    "duration": 5,
    "start_time": "2022-01-21T01:59:25.664Z"
   },
   {
    "duration": 4,
    "start_time": "2022-01-21T01:59:25.670Z"
   },
   {
    "duration": 3,
    "start_time": "2022-01-21T01:59:25.675Z"
   },
   {
    "duration": 3,
    "start_time": "2022-01-21T01:59:25.680Z"
   },
   {
    "duration": 394,
    "start_time": "2022-01-21T01:59:25.685Z"
   },
   {
    "duration": -426,
    "start_time": "2022-01-21T01:59:26.507Z"
   },
   {
    "duration": -428,
    "start_time": "2022-01-21T01:59:26.509Z"
   },
   {
    "duration": -427,
    "start_time": "2022-01-21T01:59:26.509Z"
   },
   {
    "duration": -433,
    "start_time": "2022-01-21T01:59:26.516Z"
   },
   {
    "duration": -433,
    "start_time": "2022-01-21T01:59:26.517Z"
   },
   {
    "duration": -434,
    "start_time": "2022-01-21T01:59:26.518Z"
   },
   {
    "duration": -434,
    "start_time": "2022-01-21T01:59:26.519Z"
   },
   {
    "duration": -434,
    "start_time": "2022-01-21T01:59:26.520Z"
   },
   {
    "duration": -434,
    "start_time": "2022-01-21T01:59:26.521Z"
   },
   {
    "duration": -434,
    "start_time": "2022-01-21T01:59:26.522Z"
   },
   {
    "duration": -435,
    "start_time": "2022-01-21T01:59:26.523Z"
   },
   {
    "duration": -435,
    "start_time": "2022-01-21T01:59:26.524Z"
   },
   {
    "duration": -435,
    "start_time": "2022-01-21T01:59:26.525Z"
   },
   {
    "duration": -440,
    "start_time": "2022-01-21T01:59:26.531Z"
   },
   {
    "duration": -441,
    "start_time": "2022-01-21T01:59:26.532Z"
   },
   {
    "duration": -442,
    "start_time": "2022-01-21T01:59:26.534Z"
   },
   {
    "duration": -441,
    "start_time": "2022-01-21T01:59:26.534Z"
   },
   {
    "duration": -441,
    "start_time": "2022-01-21T01:59:26.535Z"
   },
   {
    "duration": -547,
    "start_time": "2022-01-21T01:59:26.641Z"
   },
   {
    "duration": -547,
    "start_time": "2022-01-21T01:59:26.642Z"
   },
   {
    "duration": -547,
    "start_time": "2022-01-21T01:59:26.643Z"
   },
   {
    "duration": -552,
    "start_time": "2022-01-21T01:59:26.649Z"
   },
   {
    "duration": -552,
    "start_time": "2022-01-21T01:59:26.650Z"
   },
   {
    "duration": -553,
    "start_time": "2022-01-21T01:59:26.652Z"
   },
   {
    "duration": 4,
    "start_time": "2022-01-21T02:10:18.068Z"
   },
   {
    "duration": 3,
    "start_time": "2022-01-21T02:19:24.005Z"
   },
   {
    "duration": 4,
    "start_time": "2022-01-21T02:19:52.451Z"
   },
   {
    "duration": 4,
    "start_time": "2022-01-21T02:19:55.296Z"
   },
   {
    "duration": 20,
    "start_time": "2022-01-21T02:20:03.311Z"
   },
   {
    "duration": 17,
    "start_time": "2022-01-21T02:20:21.231Z"
   },
   {
    "duration": 6,
    "start_time": "2022-01-21T02:20:50.592Z"
   },
   {
    "duration": 17,
    "start_time": "2022-01-21T02:21:50.335Z"
   },
   {
    "duration": 18,
    "start_time": "2022-01-21T02:25:06.117Z"
   },
   {
    "duration": 3,
    "start_time": "2022-01-21T02:25:25.912Z"
   },
   {
    "duration": 19,
    "start_time": "2022-01-21T02:25:29.112Z"
   },
   {
    "duration": 8,
    "start_time": "2022-01-21T02:25:37.669Z"
   },
   {
    "duration": 19,
    "start_time": "2022-01-21T02:25:43.143Z"
   },
   {
    "duration": 4,
    "start_time": "2022-01-21T02:27:02.718Z"
   },
   {
    "duration": 17,
    "start_time": "2022-01-21T02:27:36.332Z"
   },
   {
    "duration": 3,
    "start_time": "2022-01-21T02:37:14.714Z"
   },
   {
    "duration": 313,
    "start_time": "2022-01-21T02:39:54.568Z"
   },
   {
    "duration": 329,
    "start_time": "2022-01-21T02:40:05.847Z"
   },
   {
    "duration": 639,
    "start_time": "2022-01-21T02:41:06.176Z"
   },
   {
    "duration": 3,
    "start_time": "2022-01-21T02:41:36.790Z"
   },
   {
    "duration": 3,
    "start_time": "2022-01-21T02:41:43.949Z"
   },
   {
    "duration": -248,
    "start_time": "2022-01-21T02:41:56.985Z"
   },
   {
    "duration": 3,
    "start_time": "2022-01-21T02:41:59.680Z"
   },
   {
    "duration": 3,
    "start_time": "2022-01-21T02:42:02.802Z"
   },
   {
    "duration": 8146,
    "start_time": "2022-01-21T02:42:03.688Z"
   },
   {
    "duration": 3,
    "start_time": "2022-01-21T02:43:09.903Z"
   },
   {
    "duration": 4,
    "start_time": "2022-01-21T02:43:13.710Z"
   },
   {
    "duration": 4,
    "start_time": "2022-01-21T02:43:17.232Z"
   },
   {
    "duration": 115,
    "start_time": "2022-01-21T02:44:27.168Z"
   },
   {
    "duration": 126,
    "start_time": "2022-01-21T02:44:38.747Z"
   },
   {
    "duration": 3,
    "start_time": "2022-01-21T02:44:48.818Z"
   },
   {
    "duration": 3,
    "start_time": "2022-01-21T02:44:51.733Z"
   },
   {
    "duration": 3,
    "start_time": "2022-01-21T02:44:54.933Z"
   },
   {
    "duration": 4,
    "start_time": "2022-01-21T02:44:55.671Z"
   },
   {
    "duration": 3,
    "start_time": "2022-01-21T02:45:29.356Z"
   },
   {
    "duration": 4,
    "start_time": "2022-01-21T02:45:29.995Z"
   },
   {
    "duration": 3,
    "start_time": "2022-01-21T02:46:50.123Z"
   },
   {
    "duration": 4,
    "start_time": "2022-01-21T02:46:51.481Z"
   },
   {
    "duration": 312,
    "start_time": "2022-01-21T02:47:42.892Z"
   },
   {
    "duration": 5,
    "start_time": "2022-01-21T02:47:46.400Z"
   },
   {
    "duration": 42,
    "start_time": "2022-01-21T02:48:03.712Z"
   },
   {
    "duration": 3,
    "start_time": "2022-01-21T02:48:03.756Z"
   },
   {
    "duration": 11,
    "start_time": "2022-01-21T02:48:03.761Z"
   },
   {
    "duration": 20,
    "start_time": "2022-01-21T02:48:03.774Z"
   },
   {
    "duration": 7,
    "start_time": "2022-01-21T02:48:03.826Z"
   },
   {
    "duration": 5,
    "start_time": "2022-01-21T02:48:03.835Z"
   },
   {
    "duration": 23,
    "start_time": "2022-01-21T02:48:03.841Z"
   },
   {
    "duration": 14,
    "start_time": "2022-01-21T02:48:03.866Z"
   },
   {
    "duration": 46,
    "start_time": "2022-01-21T02:48:03.882Z"
   },
   {
    "duration": 2,
    "start_time": "2022-01-21T02:48:03.929Z"
   },
   {
    "duration": 8,
    "start_time": "2022-01-21T02:48:03.932Z"
   },
   {
    "duration": 25,
    "start_time": "2022-01-21T02:48:03.941Z"
   },
   {
    "duration": 17,
    "start_time": "2022-01-21T02:48:03.967Z"
   },
   {
    "duration": 17,
    "start_time": "2022-01-21T02:48:03.985Z"
   },
   {
    "duration": 11,
    "start_time": "2022-01-21T02:48:04.004Z"
   },
   {
    "duration": 8,
    "start_time": "2022-01-21T02:48:04.016Z"
   },
   {
    "duration": 15,
    "start_time": "2022-01-21T02:48:04.027Z"
   },
   {
    "duration": 24,
    "start_time": "2022-01-21T02:48:04.043Z"
   },
   {
    "duration": 8,
    "start_time": "2022-01-21T02:48:04.068Z"
   },
   {
    "duration": 9,
    "start_time": "2022-01-21T02:48:04.078Z"
   },
   {
    "duration": 19,
    "start_time": "2022-01-21T02:48:04.088Z"
   },
   {
    "duration": 10,
    "start_time": "2022-01-21T02:48:04.109Z"
   },
   {
    "duration": 13,
    "start_time": "2022-01-21T02:48:04.121Z"
   },
   {
    "duration": 20,
    "start_time": "2022-01-21T02:48:04.136Z"
   },
   {
    "duration": 6,
    "start_time": "2022-01-21T02:48:04.157Z"
   },
   {
    "duration": 14,
    "start_time": "2022-01-21T02:48:04.164Z"
   },
   {
    "duration": 23,
    "start_time": "2022-01-21T02:48:04.182Z"
   },
   {
    "duration": 3,
    "start_time": "2022-01-21T02:48:04.207Z"
   },
   {
    "duration": 25,
    "start_time": "2022-01-21T02:48:04.212Z"
   },
   {
    "duration": 26,
    "start_time": "2022-01-21T02:48:04.238Z"
   },
   {
    "duration": 15,
    "start_time": "2022-01-21T02:48:04.265Z"
   },
   {
    "duration": 5,
    "start_time": "2022-01-21T02:48:04.281Z"
   },
   {
    "duration": 55,
    "start_time": "2022-01-21T02:48:04.287Z"
   },
   {
    "duration": 2,
    "start_time": "2022-01-21T02:48:04.343Z"
   },
   {
    "duration": 10,
    "start_time": "2022-01-21T02:48:04.346Z"
   },
   {
    "duration": 6,
    "start_time": "2022-01-21T02:48:04.357Z"
   },
   {
    "duration": 4,
    "start_time": "2022-01-21T02:48:04.364Z"
   },
   {
    "duration": 7,
    "start_time": "2022-01-21T02:48:04.369Z"
   },
   {
    "duration": 6,
    "start_time": "2022-01-21T02:48:04.377Z"
   },
   {
    "duration": 219,
    "start_time": "2022-01-21T02:48:04.384Z"
   },
   {
    "duration": 8,
    "start_time": "2022-01-21T02:48:04.605Z"
   },
   {
    "duration": 23,
    "start_time": "2022-01-21T02:48:04.614Z"
   },
   {
    "duration": 6,
    "start_time": "2022-01-21T02:48:04.638Z"
   },
   {
    "duration": 6,
    "start_time": "2022-01-21T02:48:04.645Z"
   },
   {
    "duration": 5,
    "start_time": "2022-01-21T02:48:04.653Z"
   },
   {
    "duration": 3,
    "start_time": "2022-01-21T02:48:04.659Z"
   },
   {
    "duration": 7,
    "start_time": "2022-01-21T02:48:04.663Z"
   },
   {
    "duration": 341,
    "start_time": "2022-01-21T02:48:04.671Z"
   },
   {
    "duration": 5,
    "start_time": "2022-01-21T02:48:05.013Z"
   },
   {
    "duration": 2,
    "start_time": "2022-01-21T02:48:05.027Z"
   },
   {
    "duration": 4,
    "start_time": "2022-01-21T02:48:05.031Z"
   },
   {
    "duration": 5,
    "start_time": "2022-01-21T02:48:05.036Z"
   },
   {
    "duration": 5,
    "start_time": "2022-01-21T02:48:05.043Z"
   },
   {
    "duration": 5,
    "start_time": "2022-01-21T02:48:05.049Z"
   },
   {
    "duration": 5,
    "start_time": "2022-01-21T02:48:05.056Z"
   },
   {
    "duration": 5,
    "start_time": "2022-01-21T02:48:05.062Z"
   },
   {
    "duration": 6,
    "start_time": "2022-01-21T02:48:05.068Z"
   },
   {
    "duration": 4,
    "start_time": "2022-01-21T02:48:05.076Z"
   },
   {
    "duration": 6,
    "start_time": "2022-01-21T02:48:05.081Z"
   },
   {
    "duration": 5,
    "start_time": "2022-01-21T02:48:05.088Z"
   },
   {
    "duration": 6,
    "start_time": "2022-01-21T02:48:05.094Z"
   },
   {
    "duration": 4,
    "start_time": "2022-01-21T02:48:05.102Z"
   },
   {
    "duration": 7,
    "start_time": "2022-01-21T02:48:05.108Z"
   },
   {
    "duration": 6,
    "start_time": "2022-01-21T02:48:05.116Z"
   },
   {
    "duration": 8,
    "start_time": "2022-01-21T02:48:05.123Z"
   },
   {
    "duration": 6,
    "start_time": "2022-01-21T02:48:05.132Z"
   },
   {
    "duration": 7,
    "start_time": "2022-01-21T02:48:05.139Z"
   },
   {
    "duration": 5,
    "start_time": "2022-01-21T02:48:05.147Z"
   },
   {
    "duration": 6,
    "start_time": "2022-01-21T02:48:05.153Z"
   },
   {
    "duration": 6,
    "start_time": "2022-01-21T02:48:05.160Z"
   },
   {
    "duration": 5,
    "start_time": "2022-01-21T02:48:05.167Z"
   },
   {
    "duration": 5,
    "start_time": "2022-01-21T02:48:05.173Z"
   },
   {
    "duration": 1302,
    "start_time": "2022-01-21T02:49:53.369Z"
   },
   {
    "duration": 1319,
    "start_time": "2022-01-21T02:50:41.300Z"
   },
   {
    "duration": 3,
    "start_time": "2022-01-21T02:52:31.750Z"
   },
   {
    "duration": 4,
    "start_time": "2022-01-21T02:52:33.092Z"
   },
   {
    "duration": 1269,
    "start_time": "2022-01-21T02:52:39.361Z"
   },
   {
    "duration": 504,
    "start_time": "2022-01-21T02:52:55.175Z"
   },
   {
    "duration": 5,
    "start_time": "2022-01-21T02:53:00.295Z"
   },
   {
    "duration": 521,
    "start_time": "2022-01-21T02:53:28.979Z"
   },
   {
    "duration": 43,
    "start_time": "2022-01-21T02:53:41.011Z"
   },
   {
    "duration": 4,
    "start_time": "2022-01-21T02:53:41.056Z"
   },
   {
    "duration": 15,
    "start_time": "2022-01-21T02:53:41.062Z"
   },
   {
    "duration": 53,
    "start_time": "2022-01-21T02:53:41.078Z"
   },
   {
    "duration": 9,
    "start_time": "2022-01-21T02:53:41.132Z"
   },
   {
    "duration": 7,
    "start_time": "2022-01-21T02:53:41.142Z"
   },
   {
    "duration": 27,
    "start_time": "2022-01-21T02:53:41.150Z"
   },
   {
    "duration": 15,
    "start_time": "2022-01-21T02:53:41.179Z"
   },
   {
    "duration": 47,
    "start_time": "2022-01-21T02:53:41.197Z"
   },
   {
    "duration": 2,
    "start_time": "2022-01-21T02:53:41.246Z"
   },
   {
    "duration": 4,
    "start_time": "2022-01-21T02:53:41.249Z"
   },
   {
    "duration": 15,
    "start_time": "2022-01-21T02:53:41.255Z"
   },
   {
    "duration": 9,
    "start_time": "2022-01-21T02:53:41.272Z"
   },
   {
    "duration": 18,
    "start_time": "2022-01-21T02:53:41.282Z"
   },
   {
    "duration": 32,
    "start_time": "2022-01-21T02:53:41.302Z"
   },
   {
    "duration": 6,
    "start_time": "2022-01-21T02:53:41.336Z"
   },
   {
    "duration": 9,
    "start_time": "2022-01-21T02:53:41.343Z"
   },
   {
    "duration": 8,
    "start_time": "2022-01-21T02:53:41.354Z"
   },
   {
    "duration": 3,
    "start_time": "2022-01-21T02:53:41.364Z"
   },
   {
    "duration": 7,
    "start_time": "2022-01-21T02:53:41.368Z"
   },
   {
    "duration": 52,
    "start_time": "2022-01-21T02:53:41.377Z"
   },
   {
    "duration": 7,
    "start_time": "2022-01-21T02:53:41.430Z"
   },
   {
    "duration": 7,
    "start_time": "2022-01-21T02:53:41.439Z"
   },
   {
    "duration": 18,
    "start_time": "2022-01-21T02:53:41.447Z"
   },
   {
    "duration": 2,
    "start_time": "2022-01-21T02:53:41.467Z"
   },
   {
    "duration": 4,
    "start_time": "2022-01-21T02:53:41.470Z"
   },
   {
    "duration": 52,
    "start_time": "2022-01-21T02:53:41.478Z"
   },
   {
    "duration": 3,
    "start_time": "2022-01-21T02:53:41.532Z"
   },
   {
    "duration": 10,
    "start_time": "2022-01-21T02:53:41.536Z"
   },
   {
    "duration": 19,
    "start_time": "2022-01-21T02:53:41.548Z"
   },
   {
    "duration": 2,
    "start_time": "2022-01-21T02:53:41.568Z"
   },
   {
    "duration": 7,
    "start_time": "2022-01-21T02:53:41.571Z"
   },
   {
    "duration": 64,
    "start_time": "2022-01-21T02:53:41.580Z"
   },
   {
    "duration": 2,
    "start_time": "2022-01-21T02:53:41.646Z"
   },
   {
    "duration": 5,
    "start_time": "2022-01-21T02:53:41.649Z"
   },
   {
    "duration": 10,
    "start_time": "2022-01-21T02:53:41.656Z"
   },
   {
    "duration": 3,
    "start_time": "2022-01-21T02:53:41.668Z"
   },
   {
    "duration": 5,
    "start_time": "2022-01-21T02:53:41.672Z"
   },
   {
    "duration": 5,
    "start_time": "2022-01-21T02:53:41.679Z"
   },
   {
    "duration": 214,
    "start_time": "2022-01-21T02:53:41.686Z"
   },
   {
    "duration": 8,
    "start_time": "2022-01-21T02:53:41.901Z"
   },
   {
    "duration": 20,
    "start_time": "2022-01-21T02:53:41.910Z"
   },
   {
    "duration": 5,
    "start_time": "2022-01-21T02:53:41.932Z"
   },
   {
    "duration": 6,
    "start_time": "2022-01-21T02:53:41.938Z"
   },
   {
    "duration": 7,
    "start_time": "2022-01-21T02:53:41.945Z"
   },
   {
    "duration": 3,
    "start_time": "2022-01-21T02:53:41.953Z"
   },
   {
    "duration": 6,
    "start_time": "2022-01-21T02:53:41.958Z"
   },
   {
    "duration": 573,
    "start_time": "2022-01-21T02:53:41.966Z"
   },
   {
    "duration": 15,
    "start_time": "2022-01-21T02:53:42.541Z"
   },
   {
    "duration": 3,
    "start_time": "2022-01-21T02:53:42.558Z"
   },
   {
    "duration": 4,
    "start_time": "2022-01-21T02:53:42.563Z"
   },
   {
    "duration": 6,
    "start_time": "2022-01-21T02:53:42.569Z"
   },
   {
    "duration": 4,
    "start_time": "2022-01-21T02:53:42.576Z"
   },
   {
    "duration": 5,
    "start_time": "2022-01-21T02:53:42.581Z"
   },
   {
    "duration": 4,
    "start_time": "2022-01-21T02:53:42.588Z"
   },
   {
    "duration": 4,
    "start_time": "2022-01-21T02:53:42.593Z"
   },
   {
    "duration": 4,
    "start_time": "2022-01-21T02:53:42.598Z"
   },
   {
    "duration": 24,
    "start_time": "2022-01-21T02:53:42.603Z"
   },
   {
    "duration": 4,
    "start_time": "2022-01-21T02:53:42.629Z"
   },
   {
    "duration": 4,
    "start_time": "2022-01-21T02:53:42.634Z"
   },
   {
    "duration": 6,
    "start_time": "2022-01-21T02:53:42.639Z"
   },
   {
    "duration": 3,
    "start_time": "2022-01-21T02:53:42.647Z"
   },
   {
    "duration": 4,
    "start_time": "2022-01-21T02:53:42.652Z"
   },
   {
    "duration": 5,
    "start_time": "2022-01-21T02:53:42.657Z"
   },
   {
    "duration": 4,
    "start_time": "2022-01-21T02:53:42.664Z"
   },
   {
    "duration": 4,
    "start_time": "2022-01-21T02:53:42.669Z"
   },
   {
    "duration": 5,
    "start_time": "2022-01-21T02:53:42.674Z"
   },
   {
    "duration": 5,
    "start_time": "2022-01-21T02:53:42.680Z"
   },
   {
    "duration": 4,
    "start_time": "2022-01-21T02:53:42.687Z"
   },
   {
    "duration": 5,
    "start_time": "2022-01-21T02:53:42.692Z"
   },
   {
    "duration": 5,
    "start_time": "2022-01-21T02:53:42.698Z"
   },
   {
    "duration": 23,
    "start_time": "2022-01-21T02:53:42.705Z"
   },
   {
    "duration": 119,
    "start_time": "2022-01-21T03:04:42.194Z"
   },
   {
    "duration": 3,
    "start_time": "2022-01-21T03:04:53.590Z"
   },
   {
    "duration": 4,
    "start_time": "2022-01-21T03:05:13.663Z"
   },
   {
    "duration": 4,
    "start_time": "2022-01-21T03:06:19.451Z"
   },
   {
    "duration": 43,
    "start_time": "2022-01-21T03:06:27.435Z"
   },
   {
    "duration": 3,
    "start_time": "2022-01-21T03:06:27.480Z"
   },
   {
    "duration": 12,
    "start_time": "2022-01-21T03:06:27.485Z"
   },
   {
    "duration": 21,
    "start_time": "2022-01-21T03:06:27.499Z"
   },
   {
    "duration": 7,
    "start_time": "2022-01-21T03:06:27.526Z"
   },
   {
    "duration": 6,
    "start_time": "2022-01-21T03:06:27.534Z"
   },
   {
    "duration": 19,
    "start_time": "2022-01-21T03:06:27.541Z"
   },
   {
    "duration": 15,
    "start_time": "2022-01-21T03:06:27.561Z"
   },
   {
    "duration": 50,
    "start_time": "2022-01-21T03:06:27.578Z"
   },
   {
    "duration": 2,
    "start_time": "2022-01-21T03:06:27.630Z"
   },
   {
    "duration": 5,
    "start_time": "2022-01-21T03:06:27.633Z"
   },
   {
    "duration": 16,
    "start_time": "2022-01-21T03:06:27.639Z"
   },
   {
    "duration": 9,
    "start_time": "2022-01-21T03:06:27.656Z"
   },
   {
    "duration": 19,
    "start_time": "2022-01-21T03:06:27.666Z"
   },
   {
    "duration": 8,
    "start_time": "2022-01-21T03:06:27.687Z"
   },
   {
    "duration": 30,
    "start_time": "2022-01-21T03:06:27.697Z"
   },
   {
    "duration": 8,
    "start_time": "2022-01-21T03:06:27.729Z"
   },
   {
    "duration": 8,
    "start_time": "2022-01-21T03:06:27.739Z"
   },
   {
    "duration": 2,
    "start_time": "2022-01-21T03:06:27.749Z"
   },
   {
    "duration": 8,
    "start_time": "2022-01-21T03:06:27.753Z"
   },
   {
    "duration": 12,
    "start_time": "2022-01-21T03:06:27.762Z"
   },
   {
    "duration": 6,
    "start_time": "2022-01-21T03:06:27.775Z"
   },
   {
    "duration": 44,
    "start_time": "2022-01-21T03:06:27.783Z"
   },
   {
    "duration": 19,
    "start_time": "2022-01-21T03:06:27.829Z"
   },
   {
    "duration": 2,
    "start_time": "2022-01-21T03:06:27.850Z"
   },
   {
    "duration": 3,
    "start_time": "2022-01-21T03:06:27.854Z"
   },
   {
    "duration": 19,
    "start_time": "2022-01-21T03:06:27.860Z"
   },
   {
    "duration": 3,
    "start_time": "2022-01-21T03:06:27.881Z"
   },
   {
    "duration": 13,
    "start_time": "2022-01-21T03:06:27.886Z"
   },
   {
    "duration": 42,
    "start_time": "2022-01-21T03:06:27.901Z"
   },
   {
    "duration": 2,
    "start_time": "2022-01-21T03:06:27.944Z"
   },
   {
    "duration": 5,
    "start_time": "2022-01-21T03:06:27.948Z"
   },
   {
    "duration": 51,
    "start_time": "2022-01-21T03:06:27.954Z"
   },
   {
    "duration": 2,
    "start_time": "2022-01-21T03:06:28.006Z"
   },
   {
    "duration": 5,
    "start_time": "2022-01-21T03:06:28.009Z"
   },
   {
    "duration": 3,
    "start_time": "2022-01-21T03:06:28.027Z"
   },
   {
    "duration": 5,
    "start_time": "2022-01-21T03:06:28.031Z"
   },
   {
    "duration": 6,
    "start_time": "2022-01-21T03:06:28.037Z"
   },
   {
    "duration": 8,
    "start_time": "2022-01-21T03:06:28.045Z"
   },
   {
    "duration": 221,
    "start_time": "2022-01-21T03:06:28.055Z"
   },
   {
    "duration": 8,
    "start_time": "2022-01-21T03:06:28.278Z"
   },
   {
    "duration": 13,
    "start_time": "2022-01-21T03:06:28.288Z"
   },
   {
    "duration": 26,
    "start_time": "2022-01-21T03:06:28.302Z"
   },
   {
    "duration": 7,
    "start_time": "2022-01-21T03:06:28.329Z"
   },
   {
    "duration": 6,
    "start_time": "2022-01-21T03:06:28.338Z"
   },
   {
    "duration": 3,
    "start_time": "2022-01-21T03:06:28.346Z"
   },
   {
    "duration": 5,
    "start_time": "2022-01-21T03:06:30.613Z"
   },
   {
    "duration": 3,
    "start_time": "2022-01-21T03:06:55.514Z"
   },
   {
    "duration": 4,
    "start_time": "2022-01-21T03:06:58.526Z"
   },
   {
    "duration": 3,
    "start_time": "2022-01-21T03:07:03.370Z"
   },
   {
    "duration": 5,
    "start_time": "2022-01-21T03:07:04.099Z"
   },
   {
    "duration": 3,
    "start_time": "2022-01-21T03:07:40.060Z"
   },
   {
    "duration": 571,
    "start_time": "2022-01-21T03:07:55.902Z"
   },
   {
    "duration": 277,
    "start_time": "2022-01-21T03:08:08.284Z"
   },
   {
    "duration": 16,
    "start_time": "2022-01-21T03:08:12.916Z"
   },
   {
    "duration": 3,
    "start_time": "2022-01-21T03:10:05.383Z"
   },
   {
    "duration": 3,
    "start_time": "2022-01-21T03:10:06.731Z"
   },
   {
    "duration": 287,
    "start_time": "2022-01-21T03:10:14.762Z"
   },
   {
    "duration": 16,
    "start_time": "2022-01-21T03:10:16.888Z"
   },
   {
    "duration": 279,
    "start_time": "2022-01-21T03:11:08.620Z"
   },
   {
    "duration": 16,
    "start_time": "2022-01-21T03:11:14.203Z"
   },
   {
    "duration": 4,
    "start_time": "2022-01-21T03:17:16.305Z"
   },
   {
    "duration": 4,
    "start_time": "2022-01-21T03:17:18.659Z"
   },
   {
    "duration": 1850,
    "start_time": "2022-01-21T03:17:20.510Z"
   },
   {
    "duration": 16,
    "start_time": "2022-01-21T03:17:23.265Z"
   },
   {
    "duration": 1820,
    "start_time": "2022-01-21T03:17:53.576Z"
   },
   {
    "duration": 5,
    "start_time": "2022-01-21T03:19:49.648Z"
   },
   {
    "duration": 7,
    "start_time": "2022-01-21T03:19:55.251Z"
   },
   {
    "duration": 18,
    "start_time": "2022-01-21T03:20:14.010Z"
   },
   {
    "duration": 40,
    "start_time": "2022-01-21T03:20:22.290Z"
   },
   {
    "duration": 3,
    "start_time": "2022-01-21T03:20:22.332Z"
   },
   {
    "duration": 11,
    "start_time": "2022-01-21T03:20:22.337Z"
   },
   {
    "duration": 20,
    "start_time": "2022-01-21T03:20:22.350Z"
   },
   {
    "duration": 7,
    "start_time": "2022-01-21T03:20:22.371Z"
   },
   {
    "duration": 6,
    "start_time": "2022-01-21T03:20:22.380Z"
   },
   {
    "duration": 53,
    "start_time": "2022-01-21T03:20:22.387Z"
   },
   {
    "duration": 16,
    "start_time": "2022-01-21T03:20:22.441Z"
   },
   {
    "duration": 22,
    "start_time": "2022-01-21T03:20:22.460Z"
   },
   {
    "duration": 2,
    "start_time": "2022-01-21T03:20:22.484Z"
   },
   {
    "duration": 39,
    "start_time": "2022-01-21T03:20:22.488Z"
   },
   {
    "duration": 15,
    "start_time": "2022-01-21T03:20:22.529Z"
   },
   {
    "duration": 14,
    "start_time": "2022-01-21T03:20:22.545Z"
   },
   {
    "duration": 25,
    "start_time": "2022-01-21T03:20:22.561Z"
   },
   {
    "duration": 12,
    "start_time": "2022-01-21T03:20:22.588Z"
   },
   {
    "duration": 6,
    "start_time": "2022-01-21T03:20:22.602Z"
   },
   {
    "duration": 21,
    "start_time": "2022-01-21T03:20:22.610Z"
   },
   {
    "duration": 9,
    "start_time": "2022-01-21T03:20:22.632Z"
   },
   {
    "duration": 3,
    "start_time": "2022-01-21T03:20:22.643Z"
   },
   {
    "duration": 9,
    "start_time": "2022-01-21T03:20:22.648Z"
   },
   {
    "duration": 11,
    "start_time": "2022-01-21T03:20:22.658Z"
   },
   {
    "duration": 5,
    "start_time": "2022-01-21T03:20:22.670Z"
   },
   {
    "duration": 5,
    "start_time": "2022-01-21T03:20:22.677Z"
   },
   {
    "duration": 51,
    "start_time": "2022-01-21T03:20:22.683Z"
   },
   {
    "duration": 2,
    "start_time": "2022-01-21T03:20:22.735Z"
   },
   {
    "duration": 4,
    "start_time": "2022-01-21T03:20:22.738Z"
   },
   {
    "duration": 17,
    "start_time": "2022-01-21T03:20:22.745Z"
   },
   {
    "duration": 3,
    "start_time": "2022-01-21T03:20:22.764Z"
   },
   {
    "duration": 9,
    "start_time": "2022-01-21T03:20:22.769Z"
   },
   {
    "duration": 19,
    "start_time": "2022-01-21T03:20:22.779Z"
   },
   {
    "duration": 27,
    "start_time": "2022-01-21T03:20:22.800Z"
   },
   {
    "duration": 5,
    "start_time": "2022-01-21T03:20:22.829Z"
   },
   {
    "duration": 53,
    "start_time": "2022-01-21T03:20:22.835Z"
   },
   {
    "duration": 2,
    "start_time": "2022-01-21T03:20:22.889Z"
   },
   {
    "duration": 6,
    "start_time": "2022-01-21T03:20:22.893Z"
   },
   {
    "duration": 5,
    "start_time": "2022-01-21T03:20:22.900Z"
   },
   {
    "duration": 3,
    "start_time": "2022-01-21T03:20:22.907Z"
   },
   {
    "duration": 17,
    "start_time": "2022-01-21T03:20:22.911Z"
   },
   {
    "duration": 5,
    "start_time": "2022-01-21T03:20:22.929Z"
   },
   {
    "duration": 211,
    "start_time": "2022-01-21T03:20:22.936Z"
   },
   {
    "duration": 8,
    "start_time": "2022-01-21T03:20:23.148Z"
   },
   {
    "duration": 12,
    "start_time": "2022-01-21T03:20:23.158Z"
   },
   {
    "duration": 7,
    "start_time": "2022-01-21T03:20:23.172Z"
   },
   {
    "duration": 6,
    "start_time": "2022-01-21T03:20:23.181Z"
   },
   {
    "duration": 38,
    "start_time": "2022-01-21T03:20:23.189Z"
   },
   {
    "duration": 17,
    "start_time": "2022-01-21T03:20:23.229Z"
   },
   {
    "duration": 17,
    "start_time": "2022-01-21T03:20:31.890Z"
   },
   {
    "duration": 18,
    "start_time": "2022-01-21T03:20:51.956Z"
   },
   {
    "duration": 5,
    "start_time": "2022-01-21T04:10:36.622Z"
   },
   {
    "duration": 341,
    "start_time": "2022-01-21T04:11:01.976Z"
   },
   {
    "duration": 366,
    "start_time": "2022-01-21T04:11:31.101Z"
   },
   {
    "duration": 4,
    "start_time": "2022-01-21T04:13:31.098Z"
   },
   {
    "duration": 2,
    "start_time": "2022-01-21T04:13:39.015Z"
   },
   {
    "duration": 4,
    "start_time": "2022-01-21T04:13:43.397Z"
   },
   {
    "duration": 5,
    "start_time": "2022-01-21T04:13:51.411Z"
   },
   {
    "duration": 5,
    "start_time": "2022-01-21T04:14:11.730Z"
   },
   {
    "duration": 45,
    "start_time": "2022-01-21T04:15:15.485Z"
   },
   {
    "duration": 4,
    "start_time": "2022-01-21T04:15:15.532Z"
   },
   {
    "duration": 13,
    "start_time": "2022-01-21T04:15:15.539Z"
   },
   {
    "duration": 20,
    "start_time": "2022-01-21T04:15:15.553Z"
   },
   {
    "duration": 7,
    "start_time": "2022-01-21T04:15:15.574Z"
   },
   {
    "duration": 5,
    "start_time": "2022-01-21T04:15:15.582Z"
   },
   {
    "duration": 49,
    "start_time": "2022-01-21T04:15:15.588Z"
   },
   {
    "duration": 15,
    "start_time": "2022-01-21T04:15:15.639Z"
   },
   {
    "duration": 21,
    "start_time": "2022-01-21T04:15:15.656Z"
   },
   {
    "duration": 2,
    "start_time": "2022-01-21T04:15:15.679Z"
   },
   {
    "duration": 4,
    "start_time": "2022-01-21T04:15:15.682Z"
   },
   {
    "duration": 17,
    "start_time": "2022-01-21T04:15:15.687Z"
   },
   {
    "duration": 9,
    "start_time": "2022-01-21T04:15:15.727Z"
   },
   {
    "duration": 18,
    "start_time": "2022-01-21T04:15:15.737Z"
   },
   {
    "duration": 7,
    "start_time": "2022-01-21T04:15:15.757Z"
   },
   {
    "duration": 6,
    "start_time": "2022-01-21T04:15:15.765Z"
   },
   {
    "duration": 8,
    "start_time": "2022-01-21T04:15:15.772Z"
   },
   {
    "duration": 9,
    "start_time": "2022-01-21T04:15:15.781Z"
   },
   {
    "duration": 36,
    "start_time": "2022-01-21T04:15:15.791Z"
   },
   {
    "duration": 9,
    "start_time": "2022-01-21T04:15:15.829Z"
   },
   {
    "duration": 11,
    "start_time": "2022-01-21T04:15:15.840Z"
   },
   {
    "duration": 6,
    "start_time": "2022-01-21T04:15:15.852Z"
   },
   {
    "duration": 6,
    "start_time": "2022-01-21T04:15:15.859Z"
   },
   {
    "duration": 19,
    "start_time": "2022-01-21T04:15:15.866Z"
   },
   {
    "duration": 2,
    "start_time": "2022-01-21T04:15:15.886Z"
   },
   {
    "duration": 5,
    "start_time": "2022-01-21T04:15:15.889Z"
   },
   {
    "duration": 46,
    "start_time": "2022-01-21T04:15:15.897Z"
   },
   {
    "duration": 5,
    "start_time": "2022-01-21T04:15:15.945Z"
   },
   {
    "duration": 10,
    "start_time": "2022-01-21T04:15:15.951Z"
   },
   {
    "duration": 20,
    "start_time": "2022-01-21T04:15:15.963Z"
   },
   {
    "duration": 2,
    "start_time": "2022-01-21T04:15:15.985Z"
   },
   {
    "duration": 4,
    "start_time": "2022-01-21T04:15:15.989Z"
   },
   {
    "duration": 49,
    "start_time": "2022-01-21T04:15:16.027Z"
   },
   {
    "duration": 2,
    "start_time": "2022-01-21T04:15:16.078Z"
   },
   {
    "duration": 7,
    "start_time": "2022-01-21T04:15:16.082Z"
   },
   {
    "duration": 8,
    "start_time": "2022-01-21T04:15:16.090Z"
   },
   {
    "duration": 4,
    "start_time": "2022-01-21T04:15:16.099Z"
   },
   {
    "duration": 22,
    "start_time": "2022-01-21T04:15:16.105Z"
   },
   {
    "duration": 4,
    "start_time": "2022-01-21T04:15:16.129Z"
   },
   {
    "duration": 223,
    "start_time": "2022-01-21T04:15:16.135Z"
   },
   {
    "duration": 8,
    "start_time": "2022-01-21T04:15:16.359Z"
   },
   {
    "duration": 13,
    "start_time": "2022-01-21T04:15:16.369Z"
   },
   {
    "duration": 7,
    "start_time": "2022-01-21T04:15:16.383Z"
   },
   {
    "duration": 36,
    "start_time": "2022-01-21T04:15:16.392Z"
   },
   {
    "duration": 7,
    "start_time": "2022-01-21T04:15:16.429Z"
   },
   {
    "duration": 337,
    "start_time": "2022-01-21T04:15:16.438Z"
   },
   {
    "duration": 5,
    "start_time": "2022-01-21T04:15:16.777Z"
   },
   {
    "duration": 5,
    "start_time": "2022-01-21T04:15:16.783Z"
   },
   {
    "duration": 16,
    "start_time": "2022-01-21T04:15:18.143Z"
   },
   {
    "duration": 12,
    "start_time": "2022-01-21T04:15:38.770Z"
   },
   {
    "duration": 5,
    "start_time": "2022-01-21T04:17:39.388Z"
   },
   {
    "duration": 322,
    "start_time": "2022-01-21T04:20:15.816Z"
   },
   {
    "duration": 5,
    "start_time": "2022-01-21T04:20:31.767Z"
   },
   {
    "duration": 608,
    "start_time": "2022-01-21T04:21:38.258Z"
   },
   {
    "duration": 576,
    "start_time": "2022-01-21T04:21:53.500Z"
   },
   {
    "duration": 2,
    "start_time": "2022-01-21T04:22:20.151Z"
   },
   {
    "duration": 772,
    "start_time": "2022-01-21T04:22:24.868Z"
   },
   {
    "duration": 319,
    "start_time": "2022-01-21T04:23:01.631Z"
   },
   {
    "duration": 657,
    "start_time": "2022-01-21T04:23:11.536Z"
   },
   {
    "duration": 378,
    "start_time": "2022-01-21T04:23:21.362Z"
   },
   {
    "duration": 5,
    "start_time": "2022-01-21T04:23:32.350Z"
   },
   {
    "duration": 321,
    "start_time": "2022-01-21T04:23:41.016Z"
   },
   {
    "duration": 328,
    "start_time": "2022-01-21T04:24:30.365Z"
   },
   {
    "duration": 324,
    "start_time": "2022-01-21T04:24:35.948Z"
   },
   {
    "duration": 5,
    "start_time": "2022-01-21T04:24:42.033Z"
   },
   {
    "duration": 287,
    "start_time": "2022-01-21T04:24:47.961Z"
   },
   {
    "duration": 287,
    "start_time": "2022-01-21T04:24:55.778Z"
   },
   {
    "duration": 300,
    "start_time": "2022-01-21T04:25:11.818Z"
   },
   {
    "duration": 41,
    "start_time": "2022-01-21T04:25:52.945Z"
   },
   {
    "duration": 3,
    "start_time": "2022-01-21T04:25:52.988Z"
   },
   {
    "duration": 12,
    "start_time": "2022-01-21T04:25:52.993Z"
   },
   {
    "duration": 20,
    "start_time": "2022-01-21T04:25:53.007Z"
   },
   {
    "duration": 6,
    "start_time": "2022-01-21T04:25:53.028Z"
   },
   {
    "duration": 5,
    "start_time": "2022-01-21T04:25:53.036Z"
   },
   {
    "duration": 18,
    "start_time": "2022-01-21T04:25:53.043Z"
   },
   {
    "duration": 15,
    "start_time": "2022-01-21T04:25:53.063Z"
   },
   {
    "duration": 53,
    "start_time": "2022-01-21T04:25:53.081Z"
   },
   {
    "duration": 2,
    "start_time": "2022-01-21T04:25:53.136Z"
   },
   {
    "duration": 5,
    "start_time": "2022-01-21T04:25:53.140Z"
   },
   {
    "duration": 16,
    "start_time": "2022-01-21T04:25:53.146Z"
   },
   {
    "duration": 7,
    "start_time": "2022-01-21T04:25:53.164Z"
   },
   {
    "duration": 21,
    "start_time": "2022-01-21T04:25:53.173Z"
   },
   {
    "duration": 8,
    "start_time": "2022-01-21T04:25:53.195Z"
   },
   {
    "duration": 26,
    "start_time": "2022-01-21T04:25:53.204Z"
   },
   {
    "duration": 7,
    "start_time": "2022-01-21T04:25:53.231Z"
   },
   {
    "duration": 7,
    "start_time": "2022-01-21T04:25:53.240Z"
   },
   {
    "duration": 3,
    "start_time": "2022-01-21T04:25:53.248Z"
   },
   {
    "duration": 8,
    "start_time": "2022-01-21T04:25:53.252Z"
   },
   {
    "duration": 11,
    "start_time": "2022-01-21T04:25:53.261Z"
   },
   {
    "duration": 5,
    "start_time": "2022-01-21T04:25:53.273Z"
   },
   {
    "duration": 5,
    "start_time": "2022-01-21T04:25:53.280Z"
   },
   {
    "duration": 49,
    "start_time": "2022-01-21T04:25:53.287Z"
   },
   {
    "duration": 2,
    "start_time": "2022-01-21T04:25:53.338Z"
   },
   {
    "duration": 4,
    "start_time": "2022-01-21T04:25:53.341Z"
   },
   {
    "duration": 21,
    "start_time": "2022-01-21T04:25:53.347Z"
   },
   {
    "duration": 3,
    "start_time": "2022-01-21T04:25:53.370Z"
   },
   {
    "duration": 9,
    "start_time": "2022-01-21T04:25:53.375Z"
   },
   {
    "duration": 45,
    "start_time": "2022-01-21T04:25:53.385Z"
   },
   {
    "duration": 2,
    "start_time": "2022-01-21T04:25:53.431Z"
   },
   {
    "duration": 5,
    "start_time": "2022-01-21T04:25:53.435Z"
   },
   {
    "duration": 53,
    "start_time": "2022-01-21T04:25:53.441Z"
   },
   {
    "duration": 1,
    "start_time": "2022-01-21T04:25:53.496Z"
   },
   {
    "duration": 5,
    "start_time": "2022-01-21T04:25:53.499Z"
   },
   {
    "duration": 23,
    "start_time": "2022-01-21T04:25:53.505Z"
   },
   {
    "duration": 2,
    "start_time": "2022-01-21T04:25:53.529Z"
   },
   {
    "duration": 6,
    "start_time": "2022-01-21T04:25:53.532Z"
   },
   {
    "duration": 9,
    "start_time": "2022-01-21T04:25:53.540Z"
   },
   {
    "duration": 209,
    "start_time": "2022-01-21T04:25:53.550Z"
   },
   {
    "duration": 7,
    "start_time": "2022-01-21T04:25:53.760Z"
   },
   {
    "duration": 12,
    "start_time": "2022-01-21T04:25:53.769Z"
   },
   {
    "duration": 6,
    "start_time": "2022-01-21T04:25:53.782Z"
   },
   {
    "duration": 6,
    "start_time": "2022-01-21T04:25:53.789Z"
   },
   {
    "duration": 32,
    "start_time": "2022-01-21T04:25:53.796Z"
   },
   {
    "duration": 4,
    "start_time": "2022-01-21T04:25:53.829Z"
   },
   {
    "duration": 7,
    "start_time": "2022-01-21T04:25:53.835Z"
   },
   {
    "duration": 307,
    "start_time": "2022-01-21T04:26:02.496Z"
   },
   {
    "duration": 293,
    "start_time": "2022-01-21T04:26:23.022Z"
   },
   {
    "duration": 291,
    "start_time": "2022-01-21T04:26:26.822Z"
   },
   {
    "duration": 317,
    "start_time": "2022-01-21T04:26:39.681Z"
   },
   {
    "duration": 320,
    "start_time": "2022-01-21T04:27:07.595Z"
   },
   {
    "duration": 320,
    "start_time": "2022-01-21T04:27:11.789Z"
   },
   {
    "duration": 324,
    "start_time": "2022-01-21T04:31:05.631Z"
   },
   {
    "duration": 325,
    "start_time": "2022-01-21T04:31:08.821Z"
   },
   {
    "duration": 16,
    "start_time": "2022-01-21T04:31:12.671Z"
   },
   {
    "duration": 19,
    "start_time": "2022-01-21T04:31:23.285Z"
   },
   {
    "duration": 19,
    "start_time": "2022-01-21T04:31:33.309Z"
   },
   {
    "duration": 103,
    "start_time": "2022-01-21T04:32:59.338Z"
   },
   {
    "duration": 323,
    "start_time": "2022-01-21T04:33:06.378Z"
   },
   {
    "duration": 558,
    "start_time": "2022-01-21T04:33:11.636Z"
   },
   {
    "duration": 545,
    "start_time": "2022-01-21T04:34:09.502Z"
   },
   {
    "duration": 2453,
    "start_time": "2022-01-21T04:35:28.409Z"
   },
   {
    "duration": 4,
    "start_time": "2022-01-21T04:35:51.103Z"
   },
   {
    "duration": 777,
    "start_time": "2022-01-21T04:35:56.923Z"
   },
   {
    "duration": 558,
    "start_time": "2022-01-21T04:36:29.270Z"
   },
   {
    "duration": 588,
    "start_time": "2022-01-21T04:37:02.836Z"
   },
   {
    "duration": 5,
    "start_time": "2022-01-21T04:37:10.712Z"
   },
   {
    "duration": 327,
    "start_time": "2022-01-21T04:43:45.852Z"
   },
   {
    "duration": 374,
    "start_time": "2022-01-21T04:43:58.869Z"
   },
   {
    "duration": 332,
    "start_time": "2022-01-21T04:44:22.371Z"
   },
   {
    "duration": 354,
    "start_time": "2022-01-21T04:45:39.132Z"
   },
   {
    "duration": 6,
    "start_time": "2022-01-21T04:45:56.904Z"
   },
   {
    "duration": 105,
    "start_time": "2022-01-21T04:46:27.915Z"
   },
   {
    "duration": 595,
    "start_time": "2022-01-21T04:47:14.115Z"
   },
   {
    "duration": 455,
    "start_time": "2022-01-21T04:47:29.718Z"
   },
   {
    "duration": 552,
    "start_time": "2022-01-21T04:47:47.136Z"
   },
   {
    "duration": 2470,
    "start_time": "2022-01-21T04:50:01.665Z"
   },
   {
    "duration": 4,
    "start_time": "2022-01-21T04:50:12.006Z"
   },
   {
    "duration": 544,
    "start_time": "2022-01-21T04:50:21.497Z"
   },
   {
    "duration": 1252,
    "start_time": "2022-01-21T04:51:49.807Z"
   },
   {
    "duration": 450,
    "start_time": "2022-01-21T04:51:56.246Z"
   },
   {
    "duration": 464,
    "start_time": "2022-01-21T04:52:13.582Z"
   },
   {
    "duration": 1458,
    "start_time": "2022-01-21T04:52:19.608Z"
   },
   {
    "duration": 674,
    "start_time": "2022-01-21T04:53:24.381Z"
   },
   {
    "duration": 4,
    "start_time": "2022-01-21T04:53:35.546Z"
   },
   {
    "duration": 578,
    "start_time": "2022-01-21T04:54:00.318Z"
   },
   {
    "duration": 292,
    "start_time": "2022-01-21T04:55:12.197Z"
   },
   {
    "duration": 109,
    "start_time": "2022-01-21T04:55:24.731Z"
   },
   {
    "duration": 586,
    "start_time": "2022-01-21T04:56:04.554Z"
   },
   {
    "duration": 51,
    "start_time": "2022-01-21T04:56:21.426Z"
   },
   {
    "duration": 3,
    "start_time": "2022-01-21T04:56:21.478Z"
   },
   {
    "duration": 13,
    "start_time": "2022-01-21T04:56:21.483Z"
   },
   {
    "duration": 42,
    "start_time": "2022-01-21T04:56:21.498Z"
   },
   {
    "duration": 6,
    "start_time": "2022-01-21T04:56:21.542Z"
   },
   {
    "duration": 5,
    "start_time": "2022-01-21T04:56:21.549Z"
   },
   {
    "duration": 18,
    "start_time": "2022-01-21T04:56:21.555Z"
   },
   {
    "duration": 22,
    "start_time": "2022-01-21T04:56:21.575Z"
   },
   {
    "duration": 41,
    "start_time": "2022-01-21T04:56:21.599Z"
   },
   {
    "duration": 2,
    "start_time": "2022-01-21T04:56:21.642Z"
   },
   {
    "duration": 9,
    "start_time": "2022-01-21T04:56:21.645Z"
   },
   {
    "duration": 18,
    "start_time": "2022-01-21T04:56:21.655Z"
   },
   {
    "duration": 8,
    "start_time": "2022-01-21T04:56:21.674Z"
   },
   {
    "duration": 20,
    "start_time": "2022-01-21T04:56:21.684Z"
   },
   {
    "duration": 31,
    "start_time": "2022-01-21T04:56:21.705Z"
   },
   {
    "duration": 6,
    "start_time": "2022-01-21T04:56:21.737Z"
   },
   {
    "duration": 8,
    "start_time": "2022-01-21T04:56:21.745Z"
   },
   {
    "duration": 7,
    "start_time": "2022-01-21T04:56:21.754Z"
   },
   {
    "duration": 2,
    "start_time": "2022-01-21T04:56:21.763Z"
   },
   {
    "duration": 8,
    "start_time": "2022-01-21T04:56:21.766Z"
   },
   {
    "duration": 16,
    "start_time": "2022-01-21T04:56:21.776Z"
   },
   {
    "duration": 34,
    "start_time": "2022-01-21T04:56:21.793Z"
   },
   {
    "duration": 6,
    "start_time": "2022-01-21T04:56:21.831Z"
   },
   {
    "duration": 17,
    "start_time": "2022-01-21T04:56:21.839Z"
   },
   {
    "duration": 2,
    "start_time": "2022-01-21T04:56:21.857Z"
   },
   {
    "duration": 4,
    "start_time": "2022-01-21T04:56:21.860Z"
   },
   {
    "duration": 20,
    "start_time": "2022-01-21T04:56:21.865Z"
   },
   {
    "duration": 3,
    "start_time": "2022-01-21T04:56:21.886Z"
   },
   {
    "duration": 38,
    "start_time": "2022-01-21T04:56:21.890Z"
   },
   {
    "duration": 19,
    "start_time": "2022-01-21T04:56:21.929Z"
   },
   {
    "duration": 2,
    "start_time": "2022-01-21T04:56:21.949Z"
   },
   {
    "duration": 5,
    "start_time": "2022-01-21T04:56:21.952Z"
   },
   {
    "duration": 51,
    "start_time": "2022-01-21T04:56:21.958Z"
   },
   {
    "duration": 17,
    "start_time": "2022-01-21T04:56:22.011Z"
   },
   {
    "duration": 5,
    "start_time": "2022-01-21T04:56:22.029Z"
   },
   {
    "duration": 5,
    "start_time": "2022-01-21T04:56:22.035Z"
   },
   {
    "duration": 6,
    "start_time": "2022-01-21T04:56:22.042Z"
   },
   {
    "duration": 5,
    "start_time": "2022-01-21T04:56:22.050Z"
   },
   {
    "duration": 6,
    "start_time": "2022-01-21T04:56:22.056Z"
   },
   {
    "duration": 219,
    "start_time": "2022-01-21T04:56:22.063Z"
   },
   {
    "duration": 7,
    "start_time": "2022-01-21T04:56:22.283Z"
   },
   {
    "duration": 13,
    "start_time": "2022-01-21T04:56:22.292Z"
   },
   {
    "duration": 21,
    "start_time": "2022-01-21T04:56:22.307Z"
   },
   {
    "duration": 5,
    "start_time": "2022-01-21T04:56:22.330Z"
   },
   {
    "duration": 4,
    "start_time": "2022-01-21T04:56:22.337Z"
   },
   {
    "duration": 117,
    "start_time": "2022-01-21T04:56:22.343Z"
   },
   {
    "duration": -28,
    "start_time": "2022-01-21T04:56:22.489Z"
   },
   {
    "duration": -28,
    "start_time": "2022-01-21T04:56:22.490Z"
   },
   {
    "duration": -29,
    "start_time": "2022-01-21T04:56:22.492Z"
   },
   {
    "duration": -29,
    "start_time": "2022-01-21T04:56:22.493Z"
   },
   {
    "duration": -30,
    "start_time": "2022-01-21T04:56:22.494Z"
   },
   {
    "duration": -30,
    "start_time": "2022-01-21T04:56:22.495Z"
   },
   {
    "duration": -30,
    "start_time": "2022-01-21T04:56:22.496Z"
   },
   {
    "duration": -30,
    "start_time": "2022-01-21T04:56:22.497Z"
   },
   {
    "duration": -31,
    "start_time": "2022-01-21T04:56:22.499Z"
   },
   {
    "duration": -30,
    "start_time": "2022-01-21T04:56:22.499Z"
   },
   {
    "duration": -34,
    "start_time": "2022-01-21T04:56:22.504Z"
   },
   {
    "duration": -34,
    "start_time": "2022-01-21T04:56:22.505Z"
   },
   {
    "duration": -34,
    "start_time": "2022-01-21T04:56:22.506Z"
   },
   {
    "duration": -35,
    "start_time": "2022-01-21T04:56:22.507Z"
   },
   {
    "duration": -35,
    "start_time": "2022-01-21T04:56:22.508Z"
   },
   {
    "duration": -35,
    "start_time": "2022-01-21T04:56:22.509Z"
   },
   {
    "duration": -35,
    "start_time": "2022-01-21T04:56:22.510Z"
   },
   {
    "duration": -36,
    "start_time": "2022-01-21T04:56:22.511Z"
   },
   {
    "duration": -36,
    "start_time": "2022-01-21T04:56:22.512Z"
   },
   {
    "duration": -36,
    "start_time": "2022-01-21T04:56:22.513Z"
   },
   {
    "duration": -37,
    "start_time": "2022-01-21T04:56:22.514Z"
   },
   {
    "duration": -37,
    "start_time": "2022-01-21T04:56:22.515Z"
   },
   {
    "duration": -37,
    "start_time": "2022-01-21T04:56:22.516Z"
   },
   {
    "duration": -38,
    "start_time": "2022-01-21T04:56:22.517Z"
   },
   {
    "duration": -38,
    "start_time": "2022-01-21T04:56:22.518Z"
   },
   {
    "duration": -38,
    "start_time": "2022-01-21T04:56:22.519Z"
   },
   {
    "duration": -43,
    "start_time": "2022-01-21T04:56:22.524Z"
   },
   {
    "duration": 328,
    "start_time": "2022-01-21T04:56:38.016Z"
   },
   {
    "duration": 322,
    "start_time": "2022-01-21T04:57:39.174Z"
   },
   {
    "duration": 41,
    "start_time": "2022-01-21T04:57:49.038Z"
   },
   {
    "duration": 3,
    "start_time": "2022-01-21T04:57:49.081Z"
   },
   {
    "duration": 12,
    "start_time": "2022-01-21T04:57:49.085Z"
   },
   {
    "duration": 29,
    "start_time": "2022-01-21T04:57:49.099Z"
   },
   {
    "duration": 7,
    "start_time": "2022-01-21T04:57:49.130Z"
   },
   {
    "duration": 7,
    "start_time": "2022-01-21T04:57:49.138Z"
   },
   {
    "duration": 25,
    "start_time": "2022-01-21T04:57:49.146Z"
   },
   {
    "duration": 19,
    "start_time": "2022-01-21T04:57:49.172Z"
   },
   {
    "duration": 59,
    "start_time": "2022-01-21T04:57:49.194Z"
   },
   {
    "duration": 2,
    "start_time": "2022-01-21T04:57:49.256Z"
   },
   {
    "duration": 11,
    "start_time": "2022-01-21T04:57:49.259Z"
   },
   {
    "duration": 23,
    "start_time": "2022-01-21T04:57:49.272Z"
   },
   {
    "duration": 8,
    "start_time": "2022-01-21T04:57:49.296Z"
   },
   {
    "duration": 26,
    "start_time": "2022-01-21T04:57:49.305Z"
   },
   {
    "duration": 8,
    "start_time": "2022-01-21T04:57:49.332Z"
   },
   {
    "duration": 6,
    "start_time": "2022-01-21T04:57:49.341Z"
   },
   {
    "duration": 8,
    "start_time": "2022-01-21T04:57:49.348Z"
   },
   {
    "duration": 7,
    "start_time": "2022-01-21T04:57:49.357Z"
   },
   {
    "duration": 3,
    "start_time": "2022-01-21T04:57:49.365Z"
   },
   {
    "duration": 9,
    "start_time": "2022-01-21T04:57:49.369Z"
   },
   {
    "duration": 10,
    "start_time": "2022-01-21T04:57:49.379Z"
   },
   {
    "duration": 38,
    "start_time": "2022-01-21T04:57:49.391Z"
   },
   {
    "duration": 6,
    "start_time": "2022-01-21T04:57:49.431Z"
   },
   {
    "duration": 20,
    "start_time": "2022-01-21T04:57:49.438Z"
   },
   {
    "duration": 2,
    "start_time": "2022-01-21T04:57:49.459Z"
   },
   {
    "duration": 7,
    "start_time": "2022-01-21T04:57:49.462Z"
   },
   {
    "duration": 21,
    "start_time": "2022-01-21T04:57:49.471Z"
   },
   {
    "duration": 3,
    "start_time": "2022-01-21T04:57:49.494Z"
   },
   {
    "duration": 33,
    "start_time": "2022-01-21T04:57:49.499Z"
   },
   {
    "duration": 19,
    "start_time": "2022-01-21T04:57:49.533Z"
   },
   {
    "duration": 1,
    "start_time": "2022-01-21T04:57:49.554Z"
   },
   {
    "duration": 5,
    "start_time": "2022-01-21T04:57:49.557Z"
   },
   {
    "duration": 52,
    "start_time": "2022-01-21T04:57:49.563Z"
   },
   {
    "duration": 2,
    "start_time": "2022-01-21T04:57:49.627Z"
   },
   {
    "duration": 6,
    "start_time": "2022-01-21T04:57:49.630Z"
   },
   {
    "duration": 8,
    "start_time": "2022-01-21T04:57:49.637Z"
   },
   {
    "duration": 4,
    "start_time": "2022-01-21T04:57:49.646Z"
   },
   {
    "duration": 5,
    "start_time": "2022-01-21T04:57:49.652Z"
   },
   {
    "duration": 6,
    "start_time": "2022-01-21T04:57:49.658Z"
   },
   {
    "duration": 213,
    "start_time": "2022-01-21T04:57:49.665Z"
   },
   {
    "duration": 8,
    "start_time": "2022-01-21T04:57:49.880Z"
   },
   {
    "duration": 12,
    "start_time": "2022-01-21T04:57:49.889Z"
   },
   {
    "duration": 6,
    "start_time": "2022-01-21T04:57:49.903Z"
   },
   {
    "duration": 21,
    "start_time": "2022-01-21T04:57:49.910Z"
   },
   {
    "duration": 5,
    "start_time": "2022-01-21T04:57:49.933Z"
   },
   {
    "duration": 2,
    "start_time": "2022-01-21T04:57:49.939Z"
   },
   {
    "duration": 312,
    "start_time": "2022-01-21T05:00:09.486Z"
   },
   {
    "duration": 319,
    "start_time": "2022-01-21T05:00:37.096Z"
   },
   {
    "duration": 43,
    "start_time": "2022-01-21T05:00:47.155Z"
   },
   {
    "duration": 3,
    "start_time": "2022-01-21T05:00:47.200Z"
   },
   {
    "duration": 15,
    "start_time": "2022-01-21T05:00:47.205Z"
   },
   {
    "duration": 21,
    "start_time": "2022-01-21T05:00:47.222Z"
   },
   {
    "duration": 7,
    "start_time": "2022-01-21T05:00:47.244Z"
   },
   {
    "duration": 6,
    "start_time": "2022-01-21T05:00:47.253Z"
   },
   {
    "duration": 19,
    "start_time": "2022-01-21T05:00:47.261Z"
   },
   {
    "duration": 14,
    "start_time": "2022-01-21T05:00:47.282Z"
   },
   {
    "duration": 45,
    "start_time": "2022-01-21T05:00:47.298Z"
   },
   {
    "duration": 2,
    "start_time": "2022-01-21T05:00:47.345Z"
   },
   {
    "duration": 4,
    "start_time": "2022-01-21T05:00:47.349Z"
   },
   {
    "duration": 17,
    "start_time": "2022-01-21T05:00:47.355Z"
   },
   {
    "duration": 12,
    "start_time": "2022-01-21T05:00:47.374Z"
   },
   {
    "duration": 40,
    "start_time": "2022-01-21T05:00:47.388Z"
   },
   {
    "duration": 8,
    "start_time": "2022-01-21T05:00:47.429Z"
   },
   {
    "duration": 6,
    "start_time": "2022-01-21T05:00:47.438Z"
   },
   {
    "duration": 10,
    "start_time": "2022-01-21T05:00:47.445Z"
   },
   {
    "duration": 8,
    "start_time": "2022-01-21T05:00:47.456Z"
   },
   {
    "duration": 2,
    "start_time": "2022-01-21T05:00:47.465Z"
   },
   {
    "duration": 8,
    "start_time": "2022-01-21T05:00:47.469Z"
   },
   {
    "duration": 10,
    "start_time": "2022-01-21T05:00:47.479Z"
   },
   {
    "duration": 38,
    "start_time": "2022-01-21T05:00:47.491Z"
   },
   {
    "duration": 9,
    "start_time": "2022-01-21T05:00:47.530Z"
   },
   {
    "duration": 16,
    "start_time": "2022-01-21T05:00:47.541Z"
   },
   {
    "duration": 1,
    "start_time": "2022-01-21T05:00:47.559Z"
   },
   {
    "duration": 5,
    "start_time": "2022-01-21T05:00:47.562Z"
   },
   {
    "duration": 18,
    "start_time": "2022-01-21T05:00:47.570Z"
   },
   {
    "duration": 3,
    "start_time": "2022-01-21T05:00:47.590Z"
   },
   {
    "duration": 34,
    "start_time": "2022-01-21T05:00:47.594Z"
   },
   {
    "duration": 20,
    "start_time": "2022-01-21T05:00:47.629Z"
   },
   {
    "duration": 2,
    "start_time": "2022-01-21T05:00:47.650Z"
   },
   {
    "duration": 8,
    "start_time": "2022-01-21T05:00:47.653Z"
   },
   {
    "duration": 50,
    "start_time": "2022-01-21T05:00:47.663Z"
   },
   {
    "duration": 2,
    "start_time": "2022-01-21T05:00:47.727Z"
   },
   {
    "duration": 5,
    "start_time": "2022-01-21T05:00:47.730Z"
   },
   {
    "duration": 7,
    "start_time": "2022-01-21T05:00:47.736Z"
   },
   {
    "duration": 3,
    "start_time": "2022-01-21T05:00:47.744Z"
   },
   {
    "duration": 5,
    "start_time": "2022-01-21T05:00:47.748Z"
   },
   {
    "duration": 7,
    "start_time": "2022-01-21T05:00:47.754Z"
   },
   {
    "duration": 224,
    "start_time": "2022-01-21T05:00:47.762Z"
   },
   {
    "duration": 8,
    "start_time": "2022-01-21T05:00:47.987Z"
   },
   {
    "duration": 14,
    "start_time": "2022-01-21T05:00:47.996Z"
   },
   {
    "duration": 18,
    "start_time": "2022-01-21T05:00:48.012Z"
   },
   {
    "duration": 6,
    "start_time": "2022-01-21T05:00:48.031Z"
   },
   {
    "duration": 8,
    "start_time": "2022-01-21T05:00:48.038Z"
   },
   {
    "duration": 7,
    "start_time": "2022-01-21T05:00:48.047Z"
   },
   {
    "duration": 405,
    "start_time": "2022-01-21T05:00:51.718Z"
   },
   {
    "duration": 17,
    "start_time": "2022-01-21T05:01:03.479Z"
   },
   {
    "duration": 43,
    "start_time": "2022-01-21T05:01:21.588Z"
   },
   {
    "duration": 3,
    "start_time": "2022-01-21T05:01:21.633Z"
   },
   {
    "duration": 14,
    "start_time": "2022-01-21T05:01:21.638Z"
   },
   {
    "duration": 22,
    "start_time": "2022-01-21T05:01:21.653Z"
   },
   {
    "duration": 7,
    "start_time": "2022-01-21T05:01:21.677Z"
   },
   {
    "duration": 11,
    "start_time": "2022-01-21T05:01:21.685Z"
   },
   {
    "duration": 35,
    "start_time": "2022-01-21T05:01:21.698Z"
   },
   {
    "duration": 26,
    "start_time": "2022-01-21T05:01:21.735Z"
   },
   {
    "duration": 25,
    "start_time": "2022-01-21T05:01:21.763Z"
   },
   {
    "duration": 2,
    "start_time": "2022-01-21T05:01:21.790Z"
   },
   {
    "duration": 8,
    "start_time": "2022-01-21T05:01:21.793Z"
   },
   {
    "duration": 29,
    "start_time": "2022-01-21T05:01:21.802Z"
   },
   {
    "duration": 10,
    "start_time": "2022-01-21T05:01:21.833Z"
   },
   {
    "duration": 19,
    "start_time": "2022-01-21T05:01:21.844Z"
   },
   {
    "duration": 10,
    "start_time": "2022-01-21T05:01:21.865Z"
   },
   {
    "duration": 6,
    "start_time": "2022-01-21T05:01:21.876Z"
   },
   {
    "duration": 10,
    "start_time": "2022-01-21T05:01:21.884Z"
   },
   {
    "duration": 7,
    "start_time": "2022-01-21T05:01:21.895Z"
   },
   {
    "duration": 24,
    "start_time": "2022-01-21T05:01:21.904Z"
   },
   {
    "duration": 19,
    "start_time": "2022-01-21T05:01:21.929Z"
   },
   {
    "duration": 12,
    "start_time": "2022-01-21T05:01:21.950Z"
   },
   {
    "duration": 9,
    "start_time": "2022-01-21T05:01:21.963Z"
   },
   {
    "duration": 20,
    "start_time": "2022-01-21T05:01:21.973Z"
   },
   {
    "duration": 25,
    "start_time": "2022-01-21T05:01:21.994Z"
   },
   {
    "duration": 6,
    "start_time": "2022-01-21T05:01:22.020Z"
   },
   {
    "duration": 5,
    "start_time": "2022-01-21T05:01:22.028Z"
   },
   {
    "duration": 24,
    "start_time": "2022-01-21T05:01:22.037Z"
   },
   {
    "duration": 4,
    "start_time": "2022-01-21T05:01:22.063Z"
   },
   {
    "duration": 25,
    "start_time": "2022-01-21T05:01:22.068Z"
   },
   {
    "duration": 20,
    "start_time": "2022-01-21T05:01:22.094Z"
   },
   {
    "duration": 4,
    "start_time": "2022-01-21T05:01:22.115Z"
   },
   {
    "duration": 7,
    "start_time": "2022-01-21T05:01:22.121Z"
   },
   {
    "duration": 53,
    "start_time": "2022-01-21T05:01:22.130Z"
   },
   {
    "duration": 2,
    "start_time": "2022-01-21T05:01:22.185Z"
   },
   {
    "duration": 10,
    "start_time": "2022-01-21T05:01:22.188Z"
   },
   {
    "duration": 10,
    "start_time": "2022-01-21T05:01:22.200Z"
   },
   {
    "duration": 15,
    "start_time": "2022-01-21T05:01:22.212Z"
   },
   {
    "duration": 6,
    "start_time": "2022-01-21T05:01:22.228Z"
   },
   {
    "duration": 13,
    "start_time": "2022-01-21T05:01:22.236Z"
   },
   {
    "duration": 217,
    "start_time": "2022-01-21T05:01:22.251Z"
   },
   {
    "duration": 7,
    "start_time": "2022-01-21T05:01:22.470Z"
   },
   {
    "duration": 13,
    "start_time": "2022-01-21T05:01:22.479Z"
   },
   {
    "duration": 8,
    "start_time": "2022-01-21T05:01:22.494Z"
   },
   {
    "duration": 14,
    "start_time": "2022-01-21T05:01:22.503Z"
   },
   {
    "duration": 14,
    "start_time": "2022-01-21T05:01:22.519Z"
   },
   {
    "duration": 27,
    "start_time": "2022-01-21T05:01:22.534Z"
   },
   {
    "duration": 329,
    "start_time": "2022-01-21T05:01:22.562Z"
   },
   {
    "duration": 3,
    "start_time": "2022-01-21T05:01:22.893Z"
   },
   {
    "duration": 323,
    "start_time": "2022-01-21T05:01:22.897Z"
   },
   {
    "duration": 2,
    "start_time": "2022-01-21T05:01:23.221Z"
   },
   {
    "duration": 2,
    "start_time": "2022-01-21T05:01:23.227Z"
   },
   {
    "duration": 7,
    "start_time": "2022-01-21T05:01:23.231Z"
   },
   {
    "duration": 5,
    "start_time": "2022-01-21T05:01:23.240Z"
   },
   {
    "duration": 5,
    "start_time": "2022-01-21T05:01:23.246Z"
   },
   {
    "duration": 3,
    "start_time": "2022-01-21T05:01:23.253Z"
   },
   {
    "duration": 3,
    "start_time": "2022-01-21T05:01:23.258Z"
   },
   {
    "duration": 4,
    "start_time": "2022-01-21T05:01:23.263Z"
   },
   {
    "duration": 5,
    "start_time": "2022-01-21T05:01:23.268Z"
   },
   {
    "duration": 4,
    "start_time": "2022-01-21T05:01:23.274Z"
   },
   {
    "duration": 11,
    "start_time": "2022-01-21T05:01:23.279Z"
   },
   {
    "duration": 13,
    "start_time": "2022-01-21T05:01:23.291Z"
   },
   {
    "duration": 9,
    "start_time": "2022-01-21T05:01:23.305Z"
   },
   {
    "duration": 5,
    "start_time": "2022-01-21T05:01:23.315Z"
   },
   {
    "duration": 9,
    "start_time": "2022-01-21T05:01:23.321Z"
   },
   {
    "duration": 11,
    "start_time": "2022-01-21T05:01:23.332Z"
   },
   {
    "duration": 16,
    "start_time": "2022-01-21T05:01:23.344Z"
   },
   {
    "duration": 15,
    "start_time": "2022-01-21T05:01:23.361Z"
   },
   {
    "duration": 10,
    "start_time": "2022-01-21T05:01:23.377Z"
   },
   {
    "duration": 10,
    "start_time": "2022-01-21T05:01:23.388Z"
   },
   {
    "duration": 11,
    "start_time": "2022-01-21T05:01:23.399Z"
   },
   {
    "duration": 10,
    "start_time": "2022-01-21T05:01:23.411Z"
   },
   {
    "duration": 15,
    "start_time": "2022-01-21T05:01:23.423Z"
   },
   {
    "duration": 6,
    "start_time": "2022-01-21T05:01:23.440Z"
   },
   {
    "duration": 328,
    "start_time": "2022-01-21T05:01:47.640Z"
   },
   {
    "duration": 361,
    "start_time": "2022-01-21T05:04:11.063Z"
   },
   {
    "duration": 322,
    "start_time": "2022-01-21T05:04:38.343Z"
   },
   {
    "duration": 331,
    "start_time": "2022-01-21T05:04:51.045Z"
   },
   {
    "duration": 345,
    "start_time": "2022-01-21T18:44:20.264Z"
   },
   {
    "duration": 274,
    "start_time": "2022-01-21T18:44:27.610Z"
   },
   {
    "duration": 800,
    "start_time": "2022-01-21T18:44:33.184Z"
   },
   {
    "duration": 14,
    "start_time": "2022-01-21T18:44:33.986Z"
   },
   {
    "duration": 28,
    "start_time": "2022-01-21T18:44:34.003Z"
   },
   {
    "duration": 50,
    "start_time": "2022-01-21T18:44:34.034Z"
   },
   {
    "duration": 12,
    "start_time": "2022-01-21T18:44:34.086Z"
   },
   {
    "duration": 9,
    "start_time": "2022-01-21T18:44:34.100Z"
   },
   {
    "duration": 75,
    "start_time": "2022-01-21T18:44:34.111Z"
   },
   {
    "duration": 25,
    "start_time": "2022-01-21T18:44:34.189Z"
   },
   {
    "duration": 63,
    "start_time": "2022-01-21T18:44:34.219Z"
   },
   {
    "duration": 3,
    "start_time": "2022-01-21T18:44:34.285Z"
   },
   {
    "duration": 5,
    "start_time": "2022-01-21T18:44:34.291Z"
   },
   {
    "duration": 24,
    "start_time": "2022-01-21T18:44:34.300Z"
   },
   {
    "duration": 45,
    "start_time": "2022-01-21T18:44:34.326Z"
   },
   {
    "duration": 34,
    "start_time": "2022-01-21T18:44:34.374Z"
   },
   {
    "duration": 19,
    "start_time": "2022-01-21T18:44:34.412Z"
   },
   {
    "duration": 38,
    "start_time": "2022-01-21T18:44:34.434Z"
   },
   {
    "duration": 14,
    "start_time": "2022-01-21T18:44:34.474Z"
   },
   {
    "duration": 14,
    "start_time": "2022-01-21T18:44:34.490Z"
   },
   {
    "duration": 6,
    "start_time": "2022-01-21T18:44:34.507Z"
   },
   {
    "duration": 11,
    "start_time": "2022-01-21T18:44:34.516Z"
   },
   {
    "duration": 16,
    "start_time": "2022-01-21T18:44:34.570Z"
   },
   {
    "duration": 9,
    "start_time": "2022-01-21T18:44:34.589Z"
   },
   {
    "duration": 10,
    "start_time": "2022-01-21T18:44:34.600Z"
   },
   {
    "duration": 68,
    "start_time": "2022-01-21T18:44:34.613Z"
   },
   {
    "duration": 3,
    "start_time": "2022-01-21T18:44:34.683Z"
   },
   {
    "duration": 10,
    "start_time": "2022-01-21T18:44:34.688Z"
   },
   {
    "duration": 36,
    "start_time": "2022-01-21T18:44:34.703Z"
   },
   {
    "duration": 30,
    "start_time": "2022-01-21T18:44:34.741Z"
   },
   {
    "duration": 18,
    "start_time": "2022-01-21T18:44:34.774Z"
   },
   {
    "duration": 35,
    "start_time": "2022-01-21T18:44:34.795Z"
   },
   {
    "duration": 3,
    "start_time": "2022-01-21T18:44:34.833Z"
   },
   {
    "duration": 34,
    "start_time": "2022-01-21T18:44:34.838Z"
   },
   {
    "duration": 112,
    "start_time": "2022-01-21T18:44:34.875Z"
   },
   {
    "duration": 3,
    "start_time": "2022-01-21T18:44:34.991Z"
   },
   {
    "duration": 5,
    "start_time": "2022-01-21T18:44:34.997Z"
   },
   {
    "duration": 13,
    "start_time": "2022-01-21T18:44:35.005Z"
   },
   {
    "duration": 314,
    "start_time": "2022-01-21T18:44:35.408Z"
   },
   {
    "duration": 11,
    "start_time": "2022-01-21T18:44:50.374Z"
   },
   {
    "duration": 14,
    "start_time": "2022-01-21T18:44:57.178Z"
   },
   {
    "duration": 323,
    "start_time": "2022-01-21T18:48:08.479Z"
   },
   {
    "duration": 272,
    "start_time": "2022-01-21T18:48:16.937Z"
   },
   {
    "duration": 106,
    "start_time": "2022-01-21T18:48:46.703Z"
   },
   {
    "duration": 22,
    "start_time": "2022-01-21T18:48:54.106Z"
   },
   {
    "duration": 312,
    "start_time": "2022-01-21T18:52:22.694Z"
   },
   {
    "duration": 53,
    "start_time": "2022-01-21T18:52:32.019Z"
   },
   {
    "duration": 5,
    "start_time": "2022-01-21T18:52:32.075Z"
   },
   {
    "duration": 34,
    "start_time": "2022-01-21T18:52:32.083Z"
   },
   {
    "duration": 70,
    "start_time": "2022-01-21T18:52:32.121Z"
   },
   {
    "duration": 16,
    "start_time": "2022-01-21T18:52:32.194Z"
   },
   {
    "duration": 12,
    "start_time": "2022-01-21T18:52:32.213Z"
   },
   {
    "duration": 73,
    "start_time": "2022-01-21T18:52:32.228Z"
   },
   {
    "duration": 30,
    "start_time": "2022-01-21T18:52:32.303Z"
   },
   {
    "duration": 58,
    "start_time": "2022-01-21T18:52:32.337Z"
   },
   {
    "duration": 4,
    "start_time": "2022-01-21T18:52:32.399Z"
   },
   {
    "duration": 8,
    "start_time": "2022-01-21T18:52:32.406Z"
   },
   {
    "duration": 53,
    "start_time": "2022-01-21T18:52:32.416Z"
   },
   {
    "duration": 14,
    "start_time": "2022-01-21T18:52:32.472Z"
   },
   {
    "duration": 36,
    "start_time": "2022-01-21T18:52:32.488Z"
   },
   {
    "duration": 12,
    "start_time": "2022-01-21T18:52:32.527Z"
   },
   {
    "duration": 9,
    "start_time": "2022-01-21T18:52:32.570Z"
   },
   {
    "duration": 17,
    "start_time": "2022-01-21T18:52:32.581Z"
   },
   {
    "duration": 15,
    "start_time": "2022-01-21T18:52:32.600Z"
   },
   {
    "duration": 6,
    "start_time": "2022-01-21T18:52:32.618Z"
   },
   {
    "duration": 45,
    "start_time": "2022-01-21T18:52:32.627Z"
   },
   {
    "duration": 27,
    "start_time": "2022-01-21T18:52:32.675Z"
   },
   {
    "duration": 14,
    "start_time": "2022-01-21T18:52:32.705Z"
   },
   {
    "duration": 53,
    "start_time": "2022-01-21T18:52:32.722Z"
   },
   {
    "duration": 34,
    "start_time": "2022-01-21T18:52:32.778Z"
   },
   {
    "duration": 2,
    "start_time": "2022-01-21T18:52:32.815Z"
   },
   {
    "duration": 6,
    "start_time": "2022-01-21T18:52:32.819Z"
   },
   {
    "duration": 62,
    "start_time": "2022-01-21T18:52:32.830Z"
   },
   {
    "duration": 5,
    "start_time": "2022-01-21T18:52:32.897Z"
   },
   {
    "duration": 29,
    "start_time": "2022-01-21T18:52:32.905Z"
   },
   {
    "duration": 48,
    "start_time": "2022-01-21T18:52:32.936Z"
   },
   {
    "duration": 2,
    "start_time": "2022-01-21T18:52:32.986Z"
   },
   {
    "duration": 7,
    "start_time": "2022-01-21T18:52:32.990Z"
   },
   {
    "duration": 119,
    "start_time": "2022-01-21T18:52:32.999Z"
   },
   {
    "duration": 3,
    "start_time": "2022-01-21T18:52:33.120Z"
   },
   {
    "duration": 11,
    "start_time": "2022-01-21T18:52:33.125Z"
   },
   {
    "duration": 17,
    "start_time": "2022-01-21T18:52:33.138Z"
   },
   {
    "duration": 18,
    "start_time": "2022-01-21T18:52:33.170Z"
   },
   {
    "duration": 6,
    "start_time": "2022-01-21T18:52:33.192Z"
   },
   {
    "duration": 8,
    "start_time": "2022-01-21T18:52:33.200Z"
   },
   {
    "duration": 469,
    "start_time": "2022-01-21T18:52:33.210Z"
   },
   {
    "duration": 13,
    "start_time": "2022-01-21T18:52:33.682Z"
   },
   {
    "duration": 25,
    "start_time": "2022-01-21T18:52:33.697Z"
   },
   {
    "duration": 10,
    "start_time": "2022-01-21T18:52:33.724Z"
   },
   {
    "duration": 39,
    "start_time": "2022-01-21T18:52:33.737Z"
   },
   {
    "duration": 20,
    "start_time": "2022-01-21T18:52:40.564Z"
   },
   {
    "duration": 615,
    "start_time": "2022-01-21T18:57:36.160Z"
   },
   {
    "duration": 57,
    "start_time": "2022-01-21T18:57:40.986Z"
   },
   {
    "duration": 5,
    "start_time": "2022-01-21T18:57:41.045Z"
   },
   {
    "duration": 31,
    "start_time": "2022-01-21T18:57:41.053Z"
   },
   {
    "duration": 30,
    "start_time": "2022-01-21T18:57:41.087Z"
   },
   {
    "duration": 11,
    "start_time": "2022-01-21T18:57:41.119Z"
   },
   {
    "duration": 42,
    "start_time": "2022-01-21T18:57:41.132Z"
   },
   {
    "duration": 31,
    "start_time": "2022-01-21T18:57:41.177Z"
   },
   {
    "duration": 24,
    "start_time": "2022-01-21T18:57:41.211Z"
   },
   {
    "duration": 65,
    "start_time": "2022-01-21T18:57:41.239Z"
   },
   {
    "duration": 4,
    "start_time": "2022-01-21T18:57:41.308Z"
   },
   {
    "duration": 6,
    "start_time": "2022-01-21T18:57:41.314Z"
   },
   {
    "duration": 54,
    "start_time": "2022-01-21T18:57:41.322Z"
   },
   {
    "duration": 13,
    "start_time": "2022-01-21T18:57:41.378Z"
   },
   {
    "duration": 30,
    "start_time": "2022-01-21T18:57:41.394Z"
   },
   {
    "duration": 47,
    "start_time": "2022-01-21T18:57:41.427Z"
   },
   {
    "duration": 11,
    "start_time": "2022-01-21T18:57:41.477Z"
   },
   {
    "duration": 14,
    "start_time": "2022-01-21T18:57:41.490Z"
   },
   {
    "duration": 13,
    "start_time": "2022-01-21T18:57:41.506Z"
   },
   {
    "duration": 3,
    "start_time": "2022-01-21T18:57:41.521Z"
   },
   {
    "duration": 52,
    "start_time": "2022-01-21T18:57:41.526Z"
   },
   {
    "duration": 18,
    "start_time": "2022-01-21T18:57:41.580Z"
   },
   {
    "duration": 10,
    "start_time": "2022-01-21T18:57:41.600Z"
   },
   {
    "duration": 12,
    "start_time": "2022-01-21T18:57:41.613Z"
   },
   {
    "duration": 65,
    "start_time": "2022-01-21T18:57:41.627Z"
   },
   {
    "duration": 3,
    "start_time": "2022-01-21T18:57:41.694Z"
   },
   {
    "duration": 4,
    "start_time": "2022-01-21T18:57:41.700Z"
   },
   {
    "duration": 62,
    "start_time": "2022-01-21T18:57:41.709Z"
   },
   {
    "duration": 5,
    "start_time": "2022-01-21T18:57:41.774Z"
   },
   {
    "duration": 24,
    "start_time": "2022-01-21T18:57:41.781Z"
   },
   {
    "duration": 30,
    "start_time": "2022-01-21T18:57:41.807Z"
   },
   {
    "duration": 3,
    "start_time": "2022-01-21T18:57:41.840Z"
   },
   {
    "duration": 26,
    "start_time": "2022-01-21T18:57:41.845Z"
   },
   {
    "duration": 111,
    "start_time": "2022-01-21T18:57:41.875Z"
   },
   {
    "duration": 3,
    "start_time": "2022-01-21T18:57:41.989Z"
   },
   {
    "duration": 6,
    "start_time": "2022-01-21T18:57:41.995Z"
   },
   {
    "duration": 8,
    "start_time": "2022-01-21T18:57:42.003Z"
   },
   {
    "duration": 18,
    "start_time": "2022-01-21T18:57:42.013Z"
   },
   {
    "duration": 37,
    "start_time": "2022-01-21T18:57:42.034Z"
   },
   {
    "duration": 7,
    "start_time": "2022-01-21T18:57:42.074Z"
   },
   {
    "duration": 424,
    "start_time": "2022-01-21T18:57:42.083Z"
   },
   {
    "duration": 14,
    "start_time": "2022-01-21T18:57:42.510Z"
   },
   {
    "duration": 45,
    "start_time": "2022-01-21T18:57:42.526Z"
   },
   {
    "duration": 10,
    "start_time": "2022-01-21T18:57:42.573Z"
   },
   {
    "duration": 10,
    "start_time": "2022-01-21T18:57:42.585Z"
   },
   {
    "duration": 86,
    "start_time": "2022-01-21T18:57:42.598Z"
   },
   {
    "duration": -77,
    "start_time": "2022-01-21T18:57:42.764Z"
   },
   {
    "duration": 5,
    "start_time": "2022-01-21T18:57:50.112Z"
   },
   {
    "duration": 5,
    "start_time": "2022-01-21T18:57:53.066Z"
   },
   {
    "duration": 615,
    "start_time": "2022-01-21T18:58:21.334Z"
   },
   {
    "duration": 7,
    "start_time": "2022-01-21T18:58:38.998Z"
   },
   {
    "duration": 10,
    "start_time": "2022-01-21T18:58:53.570Z"
   },
   {
    "duration": 111,
    "start_time": "2022-01-21T18:59:02.983Z"
   },
   {
    "duration": 82,
    "start_time": "2022-01-21T18:59:16.145Z"
   },
   {
    "duration": 7,
    "start_time": "2022-01-21T18:59:27.902Z"
   },
   {
    "duration": 7,
    "start_time": "2022-01-21T18:59:36.005Z"
   },
   {
    "duration": 7,
    "start_time": "2022-01-21T18:59:43.970Z"
   },
   {
    "duration": 7,
    "start_time": "2022-01-21T18:59:52.585Z"
   },
   {
    "duration": 8,
    "start_time": "2022-01-21T19:00:00.856Z"
   },
   {
    "duration": 618,
    "start_time": "2022-01-21T19:00:10.220Z"
   },
   {
    "duration": 609,
    "start_time": "2022-01-21T19:00:17.349Z"
   },
   {
    "duration": 7,
    "start_time": "2022-01-21T19:00:33.576Z"
   },
   {
    "duration": 715,
    "start_time": "2022-01-21T19:03:20.224Z"
   },
   {
    "duration": 52,
    "start_time": "2022-01-21T19:03:33.852Z"
   },
   {
    "duration": 7,
    "start_time": "2022-01-21T19:03:55.844Z"
   },
   {
    "duration": 33,
    "start_time": "2022-01-21T19:04:23.266Z"
   },
   {
    "duration": 6,
    "start_time": "2022-01-21T19:04:31.714Z"
   },
   {
    "duration": 19,
    "start_time": "2022-01-21T19:05:14.707Z"
   },
   {
    "duration": 93,
    "start_time": "2022-01-21T19:05:32.492Z"
   },
   {
    "duration": 45,
    "start_time": "2022-01-21T19:05:47.799Z"
   },
   {
    "duration": 5,
    "start_time": "2022-01-21T19:07:33.852Z"
   },
   {
    "duration": 561,
    "start_time": "2022-01-21T19:07:41.601Z"
   },
   {
    "duration": 6,
    "start_time": "2022-01-21T19:08:11.210Z"
   },
   {
    "duration": 11,
    "start_time": "2022-01-21T19:08:13.937Z"
   },
   {
    "duration": 5,
    "start_time": "2022-01-21T19:10:20.303Z"
   },
   {
    "duration": 10,
    "start_time": "2022-01-21T19:10:21.602Z"
   },
   {
    "duration": 8,
    "start_time": "2022-01-21T19:11:08.422Z"
   },
   {
    "duration": 10,
    "start_time": "2022-01-21T19:11:08.913Z"
   },
   {
    "duration": 9,
    "start_time": "2022-01-21T19:11:20.552Z"
   },
   {
    "duration": 10,
    "start_time": "2022-01-21T19:11:32.840Z"
   },
   {
    "duration": 10,
    "start_time": "2022-01-21T19:11:45.767Z"
   },
   {
    "duration": 11,
    "start_time": "2022-01-21T19:12:01.384Z"
   },
   {
    "duration": 10,
    "start_time": "2022-01-21T19:12:09.290Z"
   },
   {
    "duration": 11,
    "start_time": "2022-01-21T19:12:18.907Z"
   },
   {
    "duration": 10,
    "start_time": "2022-01-21T19:12:27.532Z"
   },
   {
    "duration": -601,
    "start_time": "2022-01-21T19:17:09.200Z"
   },
   {
    "duration": -603,
    "start_time": "2022-01-21T19:17:09.205Z"
   },
   {
    "duration": -602,
    "start_time": "2022-01-21T19:17:09.209Z"
   },
   {
    "duration": -542,
    "start_time": "2022-01-21T19:17:09.211Z"
   },
   {
    "duration": -541,
    "start_time": "2022-01-21T19:17:09.213Z"
   },
   {
    "duration": -540,
    "start_time": "2022-01-21T19:17:09.215Z"
   },
   {
    "duration": -539,
    "start_time": "2022-01-21T19:17:09.217Z"
   },
   {
    "duration": -539,
    "start_time": "2022-01-21T19:17:09.219Z"
   },
   {
    "duration": -538,
    "start_time": "2022-01-21T19:17:09.221Z"
   },
   {
    "duration": -537,
    "start_time": "2022-01-21T19:17:09.223Z"
   },
   {
    "duration": -642,
    "start_time": "2022-01-21T19:17:09.332Z"
   },
   {
    "duration": -641,
    "start_time": "2022-01-21T19:17:09.336Z"
   },
   {
    "duration": -639,
    "start_time": "2022-01-21T19:17:09.339Z"
   },
   {
    "duration": -638,
    "start_time": "2022-01-21T19:17:09.342Z"
   },
   {
    "duration": -637,
    "start_time": "2022-01-21T19:17:09.345Z"
   },
   {
    "duration": -576,
    "start_time": "2022-01-21T19:17:09.348Z"
   },
   {
    "duration": -575,
    "start_time": "2022-01-21T19:17:09.351Z"
   },
   {
    "duration": -573,
    "start_time": "2022-01-21T19:17:09.353Z"
   },
   {
    "duration": -571,
    "start_time": "2022-01-21T19:17:09.355Z"
   },
   {
    "duration": -568,
    "start_time": "2022-01-21T19:17:09.357Z"
   },
   {
    "duration": -566,
    "start_time": "2022-01-21T19:17:09.359Z"
   },
   {
    "duration": -566,
    "start_time": "2022-01-21T19:17:09.362Z"
   },
   {
    "duration": -701,
    "start_time": "2022-01-21T19:17:09.502Z"
   },
   {
    "duration": -705,
    "start_time": "2022-01-21T19:17:09.510Z"
   },
   {
    "duration": -642,
    "start_time": "2022-01-21T19:17:09.511Z"
   },
   {
    "duration": -638,
    "start_time": "2022-01-21T19:17:09.512Z"
   },
   {
    "duration": -635,
    "start_time": "2022-01-21T19:17:09.513Z"
   },
   {
    "duration": -632,
    "start_time": "2022-01-21T19:17:09.514Z"
   },
   {
    "duration": -629,
    "start_time": "2022-01-21T19:17:09.515Z"
   },
   {
    "duration": -626,
    "start_time": "2022-01-21T19:17:09.516Z"
   },
   {
    "duration": -623,
    "start_time": "2022-01-21T19:17:09.517Z"
   },
   {
    "duration": -620,
    "start_time": "2022-01-21T19:17:09.518Z"
   },
   {
    "duration": -617,
    "start_time": "2022-01-21T19:17:09.519Z"
   },
   {
    "duration": -615,
    "start_time": "2022-01-21T19:17:09.520Z"
   },
   {
    "duration": -664,
    "start_time": "2022-01-21T19:17:09.634Z"
   },
   {
    "duration": -661,
    "start_time": "2022-01-21T19:17:09.636Z"
   },
   {
    "duration": -660,
    "start_time": "2022-01-21T19:17:09.639Z"
   },
   {
    "duration": -658,
    "start_time": "2022-01-21T19:17:09.641Z"
   },
   {
    "duration": -655,
    "start_time": "2022-01-21T19:17:09.643Z"
   },
   {
    "duration": -653,
    "start_time": "2022-01-21T19:17:09.645Z"
   },
   {
    "duration": -650,
    "start_time": "2022-01-21T19:17:09.646Z"
   },
   {
    "duration": -648,
    "start_time": "2022-01-21T19:17:09.648Z"
   },
   {
    "duration": -646,
    "start_time": "2022-01-21T19:17:09.650Z"
   },
   {
    "duration": -644,
    "start_time": "2022-01-21T19:17:09.652Z"
   },
   {
    "duration": -583,
    "start_time": "2022-01-21T19:17:09.654Z"
   },
   {
    "duration": -582,
    "start_time": "2022-01-21T19:17:09.655Z"
   },
   {
    "duration": -581,
    "start_time": "2022-01-21T19:17:09.657Z"
   },
   {
    "duration": -581,
    "start_time": "2022-01-21T19:17:09.659Z"
   },
   {
    "duration": -702,
    "start_time": "2022-01-21T19:17:09.784Z"
   },
   {
    "duration": -703,
    "start_time": "2022-01-21T19:17:09.788Z"
   },
   {
    "duration": -702,
    "start_time": "2022-01-21T19:17:09.791Z"
   },
   {
    "duration": -702,
    "start_time": "2022-01-21T19:17:09.794Z"
   },
   {
    "duration": -702,
    "start_time": "2022-01-21T19:17:09.797Z"
   },
   {
    "duration": -701,
    "start_time": "2022-01-21T19:17:09.799Z"
   },
   {
    "duration": -701,
    "start_time": "2022-01-21T19:17:09.802Z"
   },
   {
    "duration": -700,
    "start_time": "2022-01-21T19:17:09.804Z"
   },
   {
    "duration": -700,
    "start_time": "2022-01-21T19:17:09.806Z"
   },
   {
    "duration": -640,
    "start_time": "2022-01-21T19:17:09.809Z"
   },
   {
    "duration": -639,
    "start_time": "2022-01-21T19:17:09.811Z"
   },
   {
    "duration": -638,
    "start_time": "2022-01-21T19:17:09.813Z"
   },
   {
    "duration": -638,
    "start_time": "2022-01-21T19:17:09.815Z"
   },
   {
    "duration": -755,
    "start_time": "2022-01-21T19:17:09.935Z"
   },
   {
    "duration": -756,
    "start_time": "2022-01-21T19:17:09.939Z"
   },
   {
    "duration": -755,
    "start_time": "2022-01-21T19:17:09.941Z"
   },
   {
    "duration": -756,
    "start_time": "2022-01-21T19:17:09.944Z"
   },
   {
    "duration": -755,
    "start_time": "2022-01-21T19:17:09.946Z"
   },
   {
    "duration": -755,
    "start_time": "2022-01-21T19:17:09.949Z"
   },
   {
    "duration": -755,
    "start_time": "2022-01-21T19:17:09.951Z"
   },
   {
    "duration": -754,
    "start_time": "2022-01-21T19:17:09.953Z"
   },
   {
    "duration": -754,
    "start_time": "2022-01-21T19:17:09.955Z"
   },
   {
    "duration": -753,
    "start_time": "2022-01-21T19:17:09.957Z"
   },
   {
    "duration": -684,
    "start_time": "2022-01-21T19:17:09.960Z"
   },
   {
    "duration": -683,
    "start_time": "2022-01-21T19:17:09.962Z"
   },
   {
    "duration": 22,
    "start_time": "2022-01-21T19:27:45.870Z"
   },
   {
    "duration": 9,
    "start_time": "2022-01-21T19:33:19.956Z"
   },
   {
    "duration": 19,
    "start_time": "2022-01-21T19:33:23.254Z"
   },
   {
    "duration": 287,
    "start_time": "2022-01-21T19:33:45.867Z"
   },
   {
    "duration": 6,
    "start_time": "2022-01-21T19:34:28.993Z"
   },
   {
    "duration": 31,
    "start_time": "2022-01-21T19:34:30.747Z"
   },
   {
    "duration": 328,
    "start_time": "2022-01-21T19:36:14.678Z"
   },
   {
    "duration": 54,
    "start_time": "2022-01-21T19:38:32.716Z"
   },
   {
    "duration": 4,
    "start_time": "2022-01-21T19:38:32.773Z"
   },
   {
    "duration": 20,
    "start_time": "2022-01-21T19:38:32.780Z"
   },
   {
    "duration": 33,
    "start_time": "2022-01-21T19:38:32.802Z"
   },
   {
    "duration": 40,
    "start_time": "2022-01-21T19:38:32.837Z"
   },
   {
    "duration": 8,
    "start_time": "2022-01-21T19:38:32.879Z"
   },
   {
    "duration": 32,
    "start_time": "2022-01-21T19:38:32.889Z"
   },
   {
    "duration": 63,
    "start_time": "2022-01-21T19:38:32.923Z"
   },
   {
    "duration": 34,
    "start_time": "2022-01-21T19:38:32.990Z"
   },
   {
    "duration": 2,
    "start_time": "2022-01-21T19:38:33.027Z"
   },
   {
    "duration": 38,
    "start_time": "2022-01-21T19:38:33.032Z"
   },
   {
    "duration": 25,
    "start_time": "2022-01-21T19:38:33.073Z"
   },
   {
    "duration": 16,
    "start_time": "2022-01-21T19:38:33.101Z"
   },
   {
    "duration": 50,
    "start_time": "2022-01-21T19:38:33.120Z"
   },
   {
    "duration": 12,
    "start_time": "2022-01-21T19:38:33.173Z"
   },
   {
    "duration": 9,
    "start_time": "2022-01-21T19:38:33.188Z"
   },
   {
    "duration": 17,
    "start_time": "2022-01-21T19:38:33.199Z"
   },
   {
    "duration": 13,
    "start_time": "2022-01-21T19:38:33.218Z"
   },
   {
    "duration": 5,
    "start_time": "2022-01-21T19:38:33.270Z"
   },
   {
    "duration": 17,
    "start_time": "2022-01-21T19:38:33.277Z"
   },
   {
    "duration": 21,
    "start_time": "2022-01-21T19:38:33.296Z"
   },
   {
    "duration": 10,
    "start_time": "2022-01-21T19:38:33.319Z"
   },
   {
    "duration": 39,
    "start_time": "2022-01-21T19:38:33.331Z"
   },
   {
    "duration": 27,
    "start_time": "2022-01-21T19:38:33.373Z"
   },
   {
    "duration": 2,
    "start_time": "2022-01-21T19:38:33.402Z"
   },
   {
    "duration": 5,
    "start_time": "2022-01-21T19:38:33.406Z"
   },
   {
    "duration": 59,
    "start_time": "2022-01-21T19:38:33.417Z"
   },
   {
    "duration": 5,
    "start_time": "2022-01-21T19:38:33.478Z"
   },
   {
    "duration": 19,
    "start_time": "2022-01-21T19:38:33.486Z"
   },
   {
    "duration": 31,
    "start_time": "2022-01-21T19:38:33.507Z"
   },
   {
    "duration": 3,
    "start_time": "2022-01-21T19:38:33.570Z"
   },
   {
    "duration": 6,
    "start_time": "2022-01-21T19:38:33.575Z"
   },
   {
    "duration": 106,
    "start_time": "2022-01-21T19:38:33.583Z"
   },
   {
    "duration": 2,
    "start_time": "2022-01-21T19:38:33.691Z"
   },
   {
    "duration": 7,
    "start_time": "2022-01-21T19:38:33.695Z"
   },
   {
    "duration": 7,
    "start_time": "2022-01-21T19:38:33.704Z"
   },
   {
    "duration": 23,
    "start_time": "2022-01-21T19:38:33.713Z"
   },
   {
    "duration": 5,
    "start_time": "2022-01-21T19:38:33.770Z"
   },
   {
    "duration": 8,
    "start_time": "2022-01-21T19:38:33.778Z"
   },
   {
    "duration": 407,
    "start_time": "2022-01-21T19:38:33.789Z"
   },
   {
    "duration": 13,
    "start_time": "2022-01-21T19:38:34.198Z"
   },
   {
    "duration": 24,
    "start_time": "2022-01-21T19:38:34.213Z"
   },
   {
    "duration": 33,
    "start_time": "2022-01-21T19:38:34.239Z"
   },
   {
    "duration": 9,
    "start_time": "2022-01-21T19:38:34.274Z"
   },
   {
    "duration": 17,
    "start_time": "2022-01-21T19:38:34.285Z"
   },
   {
    "duration": 71,
    "start_time": "2022-01-21T19:38:34.305Z"
   },
   {
    "duration": 31,
    "start_time": "2022-01-21T19:38:39.488Z"
   },
   {
    "duration": 40,
    "start_time": "2022-01-21T19:39:16.786Z"
   },
   {
    "duration": 39,
    "start_time": "2022-01-21T19:39:34.272Z"
   },
   {
    "duration": 69,
    "start_time": "2022-01-21T19:40:05.942Z"
   },
   {
    "duration": 269,
    "start_time": "2022-01-21T21:37:33.159Z"
   },
   {
    "duration": 241,
    "start_time": "2022-01-21T21:37:50.547Z"
   },
   {
    "duration": 233,
    "start_time": "2022-01-21T21:38:08.595Z"
   },
   {
    "duration": 709,
    "start_time": "2022-01-21T21:38:13.381Z"
   },
   {
    "duration": 8,
    "start_time": "2022-01-21T21:38:14.092Z"
   },
   {
    "duration": 17,
    "start_time": "2022-01-21T21:38:14.102Z"
   },
   {
    "duration": 23,
    "start_time": "2022-01-21T21:38:14.122Z"
   },
   {
    "duration": 9,
    "start_time": "2022-01-21T21:38:14.146Z"
   },
   {
    "duration": 6,
    "start_time": "2022-01-21T21:38:14.156Z"
   },
   {
    "duration": 19,
    "start_time": "2022-01-21T21:38:14.163Z"
   },
   {
    "duration": 15,
    "start_time": "2022-01-21T21:38:14.184Z"
   },
   {
    "duration": 46,
    "start_time": "2022-01-21T21:38:14.202Z"
   },
   {
    "duration": 2,
    "start_time": "2022-01-21T21:38:14.251Z"
   },
   {
    "duration": 4,
    "start_time": "2022-01-21T21:38:14.255Z"
   },
   {
    "duration": 21,
    "start_time": "2022-01-21T21:38:14.261Z"
   },
   {
    "duration": 9,
    "start_time": "2022-01-21T21:38:14.284Z"
   },
   {
    "duration": 20,
    "start_time": "2022-01-21T21:38:14.295Z"
   },
   {
    "duration": 30,
    "start_time": "2022-01-21T21:38:14.316Z"
   },
   {
    "duration": 8,
    "start_time": "2022-01-21T21:38:14.347Z"
   },
   {
    "duration": 20,
    "start_time": "2022-01-21T21:38:14.356Z"
   },
   {
    "duration": 12,
    "start_time": "2022-01-21T21:38:14.377Z"
   },
   {
    "duration": 4,
    "start_time": "2022-01-21T21:38:14.391Z"
   },
   {
    "duration": 11,
    "start_time": "2022-01-21T21:38:14.397Z"
   },
   {
    "duration": 12,
    "start_time": "2022-01-21T21:38:14.409Z"
   },
   {
    "duration": 22,
    "start_time": "2022-01-21T21:38:14.423Z"
   },
   {
    "duration": 7,
    "start_time": "2022-01-21T21:38:14.447Z"
   },
   {
    "duration": 21,
    "start_time": "2022-01-21T21:38:14.456Z"
   },
   {
    "duration": 2,
    "start_time": "2022-01-21T21:38:14.479Z"
   },
   {
    "duration": 8,
    "start_time": "2022-01-21T21:38:14.483Z"
   },
   {
    "duration": 23,
    "start_time": "2022-01-21T21:38:14.495Z"
   },
   {
    "duration": 22,
    "start_time": "2022-01-21T21:38:14.521Z"
   },
   {
    "duration": 15,
    "start_time": "2022-01-21T21:38:14.545Z"
   },
   {
    "duration": 22,
    "start_time": "2022-01-21T21:38:14.562Z"
   },
   {
    "duration": 2,
    "start_time": "2022-01-21T21:38:14.586Z"
   },
   {
    "duration": 10,
    "start_time": "2022-01-21T21:38:14.589Z"
   },
   {
    "duration": 74,
    "start_time": "2022-01-21T21:38:14.600Z"
   },
   {
    "duration": 2,
    "start_time": "2022-01-21T21:38:14.676Z"
   },
   {
    "duration": 13,
    "start_time": "2022-01-21T21:38:14.680Z"
   },
   {
    "duration": 9,
    "start_time": "2022-01-21T21:38:14.694Z"
   },
   {
    "duration": 18,
    "start_time": "2022-01-21T21:38:14.704Z"
   },
   {
    "duration": 11,
    "start_time": "2022-01-21T21:38:14.723Z"
   },
   {
    "duration": 13,
    "start_time": "2022-01-21T21:38:14.735Z"
   },
   {
    "duration": 246,
    "start_time": "2022-01-21T21:38:14.750Z"
   },
   {
    "duration": 11,
    "start_time": "2022-01-21T21:38:14.998Z"
   },
   {
    "duration": 19,
    "start_time": "2022-01-21T21:38:15.011Z"
   },
   {
    "duration": 10,
    "start_time": "2022-01-21T21:38:15.032Z"
   },
   {
    "duration": 6,
    "start_time": "2022-01-21T21:38:15.044Z"
   },
   {
    "duration": 12,
    "start_time": "2022-01-21T21:38:15.052Z"
   },
   {
    "duration": 23,
    "start_time": "2022-01-21T21:38:15.066Z"
   },
   {
    "duration": 24,
    "start_time": "2022-01-21T21:38:20.272Z"
   },
   {
    "duration": 27,
    "start_time": "2022-01-21T21:38:34.362Z"
   },
   {
    "duration": 21,
    "start_time": "2022-01-21T21:39:38.791Z"
   },
   {
    "duration": 32,
    "start_time": "2022-01-21T21:41:00.791Z"
   },
   {
    "duration": 35,
    "start_time": "2022-01-21T21:45:41.147Z"
   },
   {
    "duration": 31,
    "start_time": "2022-01-21T21:46:43.340Z"
   },
   {
    "duration": 13,
    "start_time": "2022-01-21T21:47:04.263Z"
   },
   {
    "duration": 15,
    "start_time": "2022-01-21T21:47:11.923Z"
   },
   {
    "duration": 6192,
    "start_time": "2022-01-21T21:49:40.515Z"
   },
   {
    "duration": -206,
    "start_time": "2022-01-21T21:50:04.928Z"
   },
   {
    "duration": 4450,
    "start_time": "2022-01-21T21:54:33.963Z"
   },
   {
    "duration": 79,
    "start_time": "2022-01-21T21:54:40.531Z"
   },
   {
    "duration": -176,
    "start_time": "2022-01-21T21:54:49.711Z"
   },
   {
    "duration": 4491,
    "start_time": "2022-01-21T21:54:53.615Z"
   },
   {
    "duration": 37,
    "start_time": "2022-01-21T21:56:05.601Z"
   },
   {
    "duration": 4736,
    "start_time": "2022-01-21T21:56:54.900Z"
   },
   {
    "duration": 267,
    "start_time": "2022-01-21T21:58:18.770Z"
   },
   {
    "duration": 279,
    "start_time": "2022-01-21T21:58:31.473Z"
   },
   {
    "duration": 5776,
    "start_time": "2022-01-21T21:58:52.902Z"
   },
   {
    "duration": 4423,
    "start_time": "2022-01-21T21:59:11.964Z"
   },
   {
    "duration": 36,
    "start_time": "2022-01-21T21:59:25.630Z"
   },
   {
    "duration": 37,
    "start_time": "2022-01-21T21:59:48.996Z"
   },
   {
    "duration": 42,
    "start_time": "2022-01-21T21:59:53.702Z"
   },
   {
    "duration": 245,
    "start_time": "2022-01-21T22:01:19.141Z"
   },
   {
    "duration": 4,
    "start_time": "2022-01-21T22:02:06.826Z"
   },
   {
    "duration": -156,
    "start_time": "2022-01-21T22:02:14.072Z"
   },
   {
    "duration": 4861,
    "start_time": "2022-01-21T22:02:33.509Z"
   },
   {
    "duration": 15,
    "start_time": "2022-01-21T22:02:39.751Z"
   },
   {
    "duration": 14,
    "start_time": "2022-01-21T22:02:58.090Z"
   },
   {
    "duration": 5,
    "start_time": "2022-01-21T22:04:01.746Z"
   },
   {
    "duration": 7467,
    "start_time": "2022-01-21T22:04:02.671Z"
   },
   {
    "duration": 17,
    "start_time": "2022-01-21T22:04:26.124Z"
   },
   {
    "duration": 4,
    "start_time": "2022-01-21T22:05:26.448Z"
   },
   {
    "duration": 5,
    "start_time": "2022-01-21T22:05:34.650Z"
   },
   {
    "duration": 15,
    "start_time": "2022-01-21T22:05:42.823Z"
   },
   {
    "duration": 4,
    "start_time": "2022-01-21T22:06:42.934Z"
   },
   {
    "duration": 505,
    "start_time": "2022-01-21T22:06:44.463Z"
   },
   {
    "duration": 4,
    "start_time": "2022-01-21T22:07:08.950Z"
   },
   {
    "duration": 485,
    "start_time": "2022-01-21T22:07:10.162Z"
   },
   {
    "duration": 5,
    "start_time": "2022-01-21T22:07:26.929Z"
   },
   {
    "duration": 14,
    "start_time": "2022-01-21T22:07:27.815Z"
   },
   {
    "duration": 13,
    "start_time": "2022-01-21T22:07:50.984Z"
   },
   {
    "duration": 4,
    "start_time": "2022-01-21T22:08:10.981Z"
   },
   {
    "duration": 14,
    "start_time": "2022-01-21T22:08:13.836Z"
   },
   {
    "duration": 14,
    "start_time": "2022-01-21T22:08:29.709Z"
   },
   {
    "duration": 41,
    "start_time": "2022-01-21T22:08:34.308Z"
   },
   {
    "duration": 3,
    "start_time": "2022-01-21T22:08:34.351Z"
   },
   {
    "duration": 13,
    "start_time": "2022-01-21T22:08:34.356Z"
   },
   {
    "duration": 20,
    "start_time": "2022-01-21T22:08:34.371Z"
   },
   {
    "duration": 7,
    "start_time": "2022-01-21T22:08:34.393Z"
   },
   {
    "duration": 5,
    "start_time": "2022-01-21T22:08:34.401Z"
   },
   {
    "duration": 44,
    "start_time": "2022-01-21T22:08:34.408Z"
   },
   {
    "duration": 28,
    "start_time": "2022-01-21T22:08:34.454Z"
   },
   {
    "duration": 21,
    "start_time": "2022-01-21T22:08:34.484Z"
   },
   {
    "duration": 2,
    "start_time": "2022-01-21T22:08:34.507Z"
   },
   {
    "duration": 4,
    "start_time": "2022-01-21T22:08:34.511Z"
   },
   {
    "duration": 27,
    "start_time": "2022-01-21T22:08:34.517Z"
   },
   {
    "duration": 9,
    "start_time": "2022-01-21T22:08:34.546Z"
   },
   {
    "duration": 20,
    "start_time": "2022-01-21T22:08:34.556Z"
   },
   {
    "duration": 9,
    "start_time": "2022-01-21T22:08:34.577Z"
   },
   {
    "duration": 12,
    "start_time": "2022-01-21T22:08:34.587Z"
   },
   {
    "duration": 16,
    "start_time": "2022-01-21T22:08:34.601Z"
   },
   {
    "duration": 9,
    "start_time": "2022-01-21T22:08:34.618Z"
   },
   {
    "duration": 3,
    "start_time": "2022-01-21T22:08:34.641Z"
   },
   {
    "duration": 11,
    "start_time": "2022-01-21T22:08:34.646Z"
   },
   {
    "duration": 12,
    "start_time": "2022-01-21T22:08:34.658Z"
   },
   {
    "duration": 6,
    "start_time": "2022-01-21T22:08:34.671Z"
   },
   {
    "duration": 9,
    "start_time": "2022-01-21T22:08:34.679Z"
   },
   {
    "duration": 19,
    "start_time": "2022-01-21T22:08:34.689Z"
   },
   {
    "duration": 2,
    "start_time": "2022-01-21T22:08:34.709Z"
   },
   {
    "duration": 28,
    "start_time": "2022-01-21T22:08:34.713Z"
   },
   {
    "duration": 19,
    "start_time": "2022-01-21T22:08:34.744Z"
   },
   {
    "duration": 3,
    "start_time": "2022-01-21T22:08:34.764Z"
   },
   {
    "duration": 17,
    "start_time": "2022-01-21T22:08:34.769Z"
   },
   {
    "duration": 20,
    "start_time": "2022-01-21T22:08:34.787Z"
   },
   {
    "duration": 2,
    "start_time": "2022-01-21T22:08:34.808Z"
   },
   {
    "duration": 9,
    "start_time": "2022-01-21T22:08:34.811Z"
   },
   {
    "duration": 70,
    "start_time": "2022-01-21T22:08:34.821Z"
   },
   {
    "duration": 2,
    "start_time": "2022-01-21T22:08:34.892Z"
   },
   {
    "duration": 7,
    "start_time": "2022-01-21T22:08:34.896Z"
   },
   {
    "duration": 13,
    "start_time": "2022-01-21T22:08:34.905Z"
   },
   {
    "duration": 28,
    "start_time": "2022-01-21T22:08:34.919Z"
   },
   {
    "duration": 13,
    "start_time": "2022-01-21T22:08:34.949Z"
   },
   {
    "duration": 14,
    "start_time": "2022-01-21T22:08:34.964Z"
   },
   {
    "duration": 224,
    "start_time": "2022-01-21T22:08:34.980Z"
   },
   {
    "duration": 7,
    "start_time": "2022-01-21T22:08:35.206Z"
   },
   {
    "duration": 30,
    "start_time": "2022-01-21T22:08:35.215Z"
   },
   {
    "duration": 11,
    "start_time": "2022-01-21T22:08:35.247Z"
   },
   {
    "duration": 29,
    "start_time": "2022-01-21T22:08:35.260Z"
   },
   {
    "duration": 36,
    "start_time": "2022-01-21T22:08:35.291Z"
   },
   {
    "duration": 50,
    "start_time": "2022-01-21T22:08:35.328Z"
   },
   {
    "duration": 5,
    "start_time": "2022-01-21T22:08:35.380Z"
   },
   {
    "duration": 40,
    "start_time": "2022-01-21T22:08:35.386Z"
   },
   {
    "duration": 38,
    "start_time": "2022-01-21T22:10:07.559Z"
   },
   {
    "duration": 93,
    "start_time": "2022-01-21T22:10:22.972Z"
   },
   {
    "duration": 4,
    "start_time": "2022-01-21T22:10:45.904Z"
   },
   {
    "duration": 16,
    "start_time": "2022-01-21T22:10:47.478Z"
   },
   {
    "duration": 4644,
    "start_time": "2022-01-21T22:11:05.114Z"
   },
   {
    "duration": 33,
    "start_time": "2022-01-21T22:12:25.681Z"
   },
   {
    "duration": 4,
    "start_time": "2022-01-21T22:13:08.083Z"
   },
   {
    "duration": 4618,
    "start_time": "2022-01-21T22:13:11.351Z"
   },
   {
    "duration": 4,
    "start_time": "2022-01-21T22:13:40.280Z"
   },
   {
    "duration": -325,
    "start_time": "2022-01-21T22:14:21.941Z"
   },
   {
    "duration": 7497,
    "start_time": "2022-01-22T01:15:08.612Z"
   },
   {
    "duration": -237,
    "start_time": "2022-01-22T01:15:16.349Z"
   },
   {
    "duration": -238,
    "start_time": "2022-01-22T01:15:16.351Z"
   },
   {
    "duration": -239,
    "start_time": "2022-01-22T01:15:16.353Z"
   },
   {
    "duration": -240,
    "start_time": "2022-01-22T01:15:16.355Z"
   },
   {
    "duration": -241,
    "start_time": "2022-01-22T01:15:16.357Z"
   },
   {
    "duration": -241,
    "start_time": "2022-01-22T01:15:16.358Z"
   },
   {
    "duration": -243,
    "start_time": "2022-01-22T01:15:16.360Z"
   },
   {
    "duration": -242,
    "start_time": "2022-01-22T01:15:16.361Z"
   },
   {
    "duration": -243,
    "start_time": "2022-01-22T01:15:16.363Z"
   },
   {
    "duration": -243,
    "start_time": "2022-01-22T01:15:16.364Z"
   },
   {
    "duration": -245,
    "start_time": "2022-01-22T01:15:16.366Z"
   },
   {
    "duration": -245,
    "start_time": "2022-01-22T01:15:16.367Z"
   },
   {
    "duration": -246,
    "start_time": "2022-01-22T01:15:16.369Z"
   },
   {
    "duration": -246,
    "start_time": "2022-01-22T01:15:16.370Z"
   },
   {
    "duration": -388,
    "start_time": "2022-01-22T01:15:16.513Z"
   },
   {
    "duration": -389,
    "start_time": "2022-01-22T01:15:16.515Z"
   },
   {
    "duration": -390,
    "start_time": "2022-01-22T01:15:16.517Z"
   },
   {
    "duration": -390,
    "start_time": "2022-01-22T01:15:16.518Z"
   },
   {
    "duration": -390,
    "start_time": "2022-01-22T01:15:16.519Z"
   },
   {
    "duration": -390,
    "start_time": "2022-01-22T01:15:16.520Z"
   },
   {
    "duration": -390,
    "start_time": "2022-01-22T01:15:16.521Z"
   },
   {
    "duration": -390,
    "start_time": "2022-01-22T01:15:16.522Z"
   },
   {
    "duration": -390,
    "start_time": "2022-01-22T01:15:16.523Z"
   },
   {
    "duration": -390,
    "start_time": "2022-01-22T01:15:16.524Z"
   },
   {
    "duration": -390,
    "start_time": "2022-01-22T01:15:16.525Z"
   },
   {
    "duration": -391,
    "start_time": "2022-01-22T01:15:16.527Z"
   },
   {
    "duration": -391,
    "start_time": "2022-01-22T01:15:16.528Z"
   },
   {
    "duration": -392,
    "start_time": "2022-01-22T01:15:16.529Z"
   },
   {
    "duration": -391,
    "start_time": "2022-01-22T01:15:16.529Z"
   },
   {
    "duration": -392,
    "start_time": "2022-01-22T01:15:16.531Z"
   },
   {
    "duration": -392,
    "start_time": "2022-01-22T01:15:16.532Z"
   },
   {
    "duration": -391,
    "start_time": "2022-01-22T01:15:16.532Z"
   },
   {
    "duration": -392,
    "start_time": "2022-01-22T01:15:16.534Z"
   },
   {
    "duration": -392,
    "start_time": "2022-01-22T01:15:16.535Z"
   },
   {
    "duration": -392,
    "start_time": "2022-01-22T01:15:16.536Z"
   },
   {
    "duration": -392,
    "start_time": "2022-01-22T01:15:16.537Z"
   },
   {
    "duration": -391,
    "start_time": "2022-01-22T01:15:16.537Z"
   },
   {
    "duration": -392,
    "start_time": "2022-01-22T01:15:16.538Z"
   },
   {
    "duration": -392,
    "start_time": "2022-01-22T01:15:16.539Z"
   },
   {
    "duration": -392,
    "start_time": "2022-01-22T01:15:16.540Z"
   },
   {
    "duration": -392,
    "start_time": "2022-01-22T01:15:16.541Z"
   },
   {
    "duration": -392,
    "start_time": "2022-01-22T01:15:16.542Z"
   },
   {
    "duration": -392,
    "start_time": "2022-01-22T01:15:16.543Z"
   },
   {
    "duration": -392,
    "start_time": "2022-01-22T01:15:16.544Z"
   },
   {
    "duration": -393,
    "start_time": "2022-01-22T01:15:16.545Z"
   },
   {
    "duration": -393,
    "start_time": "2022-01-22T01:15:16.546Z"
   },
   {
    "duration": 4,
    "start_time": "2022-01-22T01:15:16.334Z"
   },
   {
    "duration": 3,
    "start_time": "2022-01-22T01:15:47.963Z"
   },
   {
    "duration": 12,
    "start_time": "2022-01-22T01:15:49.843Z"
   },
   {
    "duration": 5,
    "start_time": "2022-01-22T01:16:03.441Z"
   },
   {
    "duration": 93,
    "start_time": "2022-01-22T01:20:17.326Z"
   },
   {
    "duration": 5,
    "start_time": "2022-01-22T01:20:35.995Z"
   },
   {
    "duration": 7657,
    "start_time": "2022-01-22T01:20:38.269Z"
   },
   {
    "duration": 11,
    "start_time": "2022-01-22T01:21:18.967Z"
   },
   {
    "duration": 23,
    "start_time": "2022-01-22T01:21:42.135Z"
   },
   {
    "duration": 20,
    "start_time": "2022-01-22T01:28:15.567Z"
   },
   {
    "duration": 19,
    "start_time": "2022-01-22T01:28:42.736Z"
   },
   {
    "duration": 20,
    "start_time": "2022-01-22T01:28:50.603Z"
   },
   {
    "duration": 16,
    "start_time": "2022-01-22T01:29:59.053Z"
   },
   {
    "duration": 19,
    "start_time": "2022-01-22T01:32:12.269Z"
   },
   {
    "duration": 5,
    "start_time": "2022-01-22T01:32:58.586Z"
   },
   {
    "duration": 4713,
    "start_time": "2022-01-22T01:33:20.552Z"
   },
   {
    "duration": 6998,
    "start_time": "2022-01-22T01:33:55.319Z"
   },
   {
    "duration": 4885,
    "start_time": "2022-01-22T01:37:46.500Z"
   },
   {
    "duration": 7,
    "start_time": "2022-01-22T01:38:40.028Z"
   },
   {
    "duration": 716,
    "start_time": "2022-01-22T01:38:44.882Z"
   },
   {
    "duration": 5,
    "start_time": "2022-01-22T01:39:28.442Z"
   },
   {
    "duration": 8,
    "start_time": "2022-01-22T01:39:38.967Z"
   },
   {
    "duration": 5,
    "start_time": "2022-01-22T01:40:45.705Z"
   },
   {
    "duration": 466,
    "start_time": "2022-01-22T01:40:57.176Z"
   },
   {
    "duration": 5,
    "start_time": "2022-01-22T01:41:29.649Z"
   },
   {
    "duration": 4950,
    "start_time": "2022-01-22T01:41:32.406Z"
   },
   {
    "duration": 242,
    "start_time": "2022-01-22T01:42:20.369Z"
   },
   {
    "duration": 4846,
    "start_time": "2022-01-22T01:42:29.861Z"
   },
   {
    "duration": -291,
    "start_time": "2022-01-22T01:42:40.537Z"
   },
   {
    "duration": 4362,
    "start_time": "2022-01-22T01:42:55.860Z"
   },
   {
    "duration": 13,
    "start_time": "2022-01-22T01:43:32.842Z"
   },
   {
    "duration": 14,
    "start_time": "2022-01-22T01:43:47.060Z"
   },
   {
    "duration": 42,
    "start_time": "2022-01-22T01:43:57.448Z"
   },
   {
    "duration": 3,
    "start_time": "2022-01-22T01:43:57.492Z"
   },
   {
    "duration": 13,
    "start_time": "2022-01-22T01:43:57.497Z"
   },
   {
    "duration": 33,
    "start_time": "2022-01-22T01:43:57.511Z"
   },
   {
    "duration": 7,
    "start_time": "2022-01-22T01:43:57.545Z"
   },
   {
    "duration": 5,
    "start_time": "2022-01-22T01:43:57.553Z"
   },
   {
    "duration": 17,
    "start_time": "2022-01-22T01:43:57.559Z"
   },
   {
    "duration": 14,
    "start_time": "2022-01-22T01:43:57.577Z"
   },
   {
    "duration": 54,
    "start_time": "2022-01-22T01:43:57.593Z"
   },
   {
    "duration": 2,
    "start_time": "2022-01-22T01:43:57.648Z"
   },
   {
    "duration": 4,
    "start_time": "2022-01-22T01:43:57.652Z"
   },
   {
    "duration": 15,
    "start_time": "2022-01-22T01:43:57.658Z"
   },
   {
    "duration": 9,
    "start_time": "2022-01-22T01:43:57.675Z"
   },
   {
    "duration": 22,
    "start_time": "2022-01-22T01:43:57.686Z"
   },
   {
    "duration": 34,
    "start_time": "2022-01-22T01:43:57.709Z"
   },
   {
    "duration": 7,
    "start_time": "2022-01-22T01:43:57.745Z"
   },
   {
    "duration": 9,
    "start_time": "2022-01-22T01:43:57.753Z"
   },
   {
    "duration": 9,
    "start_time": "2022-01-22T01:43:57.764Z"
   },
   {
    "duration": 4,
    "start_time": "2022-01-22T01:43:57.774Z"
   },
   {
    "duration": 13,
    "start_time": "2022-01-22T01:43:57.779Z"
   },
   {
    "duration": 11,
    "start_time": "2022-01-22T01:43:57.794Z"
   },
   {
    "duration": 41,
    "start_time": "2022-01-22T01:43:57.806Z"
   },
   {
    "duration": 6,
    "start_time": "2022-01-22T01:43:57.849Z"
   },
   {
    "duration": 20,
    "start_time": "2022-01-22T01:43:57.856Z"
   },
   {
    "duration": 3,
    "start_time": "2022-01-22T01:43:57.877Z"
   },
   {
    "duration": 10,
    "start_time": "2022-01-22T01:43:57.881Z"
   },
   {
    "duration": 23,
    "start_time": "2022-01-22T01:43:57.894Z"
   },
   {
    "duration": 22,
    "start_time": "2022-01-22T01:43:57.919Z"
   },
   {
    "duration": 10,
    "start_time": "2022-01-22T01:43:57.942Z"
   },
   {
    "duration": 19,
    "start_time": "2022-01-22T01:43:57.953Z"
   },
   {
    "duration": 2,
    "start_time": "2022-01-22T01:43:57.973Z"
   },
   {
    "duration": 10,
    "start_time": "2022-01-22T01:43:57.976Z"
   },
   {
    "duration": 66,
    "start_time": "2022-01-22T01:43:57.987Z"
   },
   {
    "duration": 2,
    "start_time": "2022-01-22T01:43:58.054Z"
   },
   {
    "duration": 6,
    "start_time": "2022-01-22T01:43:58.058Z"
   },
   {
    "duration": 7,
    "start_time": "2022-01-22T01:43:58.065Z"
   },
   {
    "duration": 16,
    "start_time": "2022-01-22T01:43:58.073Z"
   },
   {
    "duration": 3,
    "start_time": "2022-01-22T01:43:58.091Z"
   },
   {
    "duration": 8,
    "start_time": "2022-01-22T01:43:58.095Z"
   },
   {
    "duration": 221,
    "start_time": "2022-01-22T01:43:58.104Z"
   },
   {
    "duration": 14,
    "start_time": "2022-01-22T01:43:58.327Z"
   },
   {
    "duration": 12,
    "start_time": "2022-01-22T01:43:58.343Z"
   },
   {
    "duration": 5,
    "start_time": "2022-01-22T01:43:58.357Z"
   },
   {
    "duration": 6,
    "start_time": "2022-01-22T01:43:58.364Z"
   },
   {
    "duration": 13,
    "start_time": "2022-01-22T01:43:58.371Z"
   },
   {
    "duration": 13,
    "start_time": "2022-01-22T01:43:58.386Z"
   },
   {
    "duration": 40,
    "start_time": "2022-01-22T01:43:58.401Z"
   },
   {
    "duration": 5503,
    "start_time": "2022-01-22T01:43:58.443Z"
   },
   {
    "duration": -180,
    "start_time": "2022-01-22T01:44:04.128Z"
   },
   {
    "duration": -182,
    "start_time": "2022-01-22T01:44:04.131Z"
   },
   {
    "duration": -184,
    "start_time": "2022-01-22T01:44:04.134Z"
   },
   {
    "duration": -186,
    "start_time": "2022-01-22T01:44:04.136Z"
   },
   {
    "duration": -188,
    "start_time": "2022-01-22T01:44:04.139Z"
   },
   {
    "duration": -189,
    "start_time": "2022-01-22T01:44:04.141Z"
   },
   {
    "duration": -190,
    "start_time": "2022-01-22T01:44:04.143Z"
   },
   {
    "duration": -192,
    "start_time": "2022-01-22T01:44:04.145Z"
   },
   {
    "duration": -194,
    "start_time": "2022-01-22T01:44:04.148Z"
   },
   {
    "duration": -194,
    "start_time": "2022-01-22T01:44:04.149Z"
   },
   {
    "duration": -196,
    "start_time": "2022-01-22T01:44:04.152Z"
   },
   {
    "duration": -197,
    "start_time": "2022-01-22T01:44:04.153Z"
   },
   {
    "duration": -198,
    "start_time": "2022-01-22T01:44:04.155Z"
   },
   {
    "duration": -199,
    "start_time": "2022-01-22T01:44:04.157Z"
   },
   {
    "duration": -272,
    "start_time": "2022-01-22T01:44:04.230Z"
   },
   {
    "duration": -273,
    "start_time": "2022-01-22T01:44:04.232Z"
   },
   {
    "duration": -315,
    "start_time": "2022-01-22T01:44:04.275Z"
   },
   {
    "duration": -315,
    "start_time": "2022-01-22T01:44:04.277Z"
   },
   {
    "duration": -315,
    "start_time": "2022-01-22T01:44:04.278Z"
   },
   {
    "duration": -315,
    "start_time": "2022-01-22T01:44:04.279Z"
   },
   {
    "duration": -315,
    "start_time": "2022-01-22T01:44:04.280Z"
   },
   {
    "duration": -315,
    "start_time": "2022-01-22T01:44:04.281Z"
   },
   {
    "duration": -315,
    "start_time": "2022-01-22T01:44:04.282Z"
   },
   {
    "duration": -316,
    "start_time": "2022-01-22T01:44:04.283Z"
   },
   {
    "duration": -316,
    "start_time": "2022-01-22T01:44:04.284Z"
   },
   {
    "duration": 19,
    "start_time": "2022-01-22T01:44:07.520Z"
   },
   {
    "duration": 4749,
    "start_time": "2022-01-22T01:44:26.323Z"
   },
   {
    "duration": 5262,
    "start_time": "2022-01-22T01:44:39.143Z"
   },
   {
    "duration": 17,
    "start_time": "2022-01-22T01:44:47.600Z"
   },
   {
    "duration": 4709,
    "start_time": "2022-01-22T01:45:07.824Z"
   },
   {
    "duration": 4,
    "start_time": "2022-01-22T01:45:36.379Z"
   },
   {
    "duration": 16,
    "start_time": "2022-01-22T01:45:37.025Z"
   },
   {
    "duration": 20,
    "start_time": "2022-01-22T01:45:54.647Z"
   },
   {
    "duration": 15,
    "start_time": "2022-01-22T01:49:02.073Z"
   },
   {
    "duration": 7,
    "start_time": "2022-01-22T01:49:12.214Z"
   },
   {
    "duration": 506,
    "start_time": "2022-01-22T01:49:14.363Z"
   },
   {
    "duration": 9,
    "start_time": "2022-01-22T01:49:40.082Z"
   },
   {
    "duration": 15,
    "start_time": "2022-01-22T01:49:42.228Z"
   },
   {
    "duration": 15,
    "start_time": "2022-01-22T01:52:42.351Z"
   },
   {
    "duration": 10,
    "start_time": "2022-01-22T01:52:51.494Z"
   },
   {
    "duration": 21,
    "start_time": "2022-01-22T01:52:53.453Z"
   },
   {
    "duration": 18,
    "start_time": "2022-01-22T01:53:01.487Z"
   },
   {
    "duration": 16,
    "start_time": "2022-01-22T01:53:10.496Z"
   },
   {
    "duration": 19,
    "start_time": "2022-01-22T01:53:18.206Z"
   },
   {
    "duration": -323,
    "start_time": "2022-01-22T01:54:09.261Z"
   },
   {
    "duration": -326,
    "start_time": "2022-01-22T01:54:09.265Z"
   },
   {
    "duration": -328,
    "start_time": "2022-01-22T01:54:09.268Z"
   },
   {
    "duration": -330,
    "start_time": "2022-01-22T01:54:09.270Z"
   },
   {
    "duration": -332,
    "start_time": "2022-01-22T01:54:09.273Z"
   },
   {
    "duration": -333,
    "start_time": "2022-01-22T01:54:09.275Z"
   },
   {
    "duration": -517,
    "start_time": "2022-01-22T01:54:09.460Z"
   },
   {
    "duration": -518,
    "start_time": "2022-01-22T01:54:09.462Z"
   },
   {
    "duration": -519,
    "start_time": "2022-01-22T01:54:09.464Z"
   },
   {
    "duration": -519,
    "start_time": "2022-01-22T01:54:09.465Z"
   },
   {
    "duration": -520,
    "start_time": "2022-01-22T01:54:09.467Z"
   },
   {
    "duration": -520,
    "start_time": "2022-01-22T01:54:09.468Z"
   },
   {
    "duration": -521,
    "start_time": "2022-01-22T01:54:09.470Z"
   },
   {
    "duration": -522,
    "start_time": "2022-01-22T01:54:09.472Z"
   },
   {
    "duration": -522,
    "start_time": "2022-01-22T01:54:09.473Z"
   },
   {
    "duration": -522,
    "start_time": "2022-01-22T01:54:09.475Z"
   },
   {
    "duration": -522,
    "start_time": "2022-01-22T01:54:09.476Z"
   },
   {
    "duration": -522,
    "start_time": "2022-01-22T01:54:09.477Z"
   },
   {
    "duration": -522,
    "start_time": "2022-01-22T01:54:09.479Z"
   },
   {
    "duration": -522,
    "start_time": "2022-01-22T01:54:09.480Z"
   },
   {
    "duration": -522,
    "start_time": "2022-01-22T01:54:09.481Z"
   },
   {
    "duration": -522,
    "start_time": "2022-01-22T01:54:09.482Z"
   },
   {
    "duration": -522,
    "start_time": "2022-01-22T01:54:09.484Z"
   },
   {
    "duration": -522,
    "start_time": "2022-01-22T01:54:09.485Z"
   },
   {
    "duration": -522,
    "start_time": "2022-01-22T01:54:09.486Z"
   },
   {
    "duration": -522,
    "start_time": "2022-01-22T01:54:09.487Z"
   },
   {
    "duration": -523,
    "start_time": "2022-01-22T01:54:09.489Z"
   },
   {
    "duration": -522,
    "start_time": "2022-01-22T01:54:09.490Z"
   },
   {
    "duration": -522,
    "start_time": "2022-01-22T01:54:09.491Z"
   },
   {
    "duration": -522,
    "start_time": "2022-01-22T01:54:09.492Z"
   },
   {
    "duration": -521,
    "start_time": "2022-01-22T01:54:09.493Z"
   },
   {
    "duration": -521,
    "start_time": "2022-01-22T01:54:09.494Z"
   },
   {
    "duration": -520,
    "start_time": "2022-01-22T01:54:09.495Z"
   },
   {
    "duration": -520,
    "start_time": "2022-01-22T01:54:09.496Z"
   },
   {
    "duration": -521,
    "start_time": "2022-01-22T01:54:09.498Z"
   },
   {
    "duration": -519,
    "start_time": "2022-01-22T01:54:09.498Z"
   },
   {
    "duration": -520,
    "start_time": "2022-01-22T01:54:09.500Z"
   },
   {
    "duration": -460,
    "start_time": "2022-01-22T01:54:09.501Z"
   },
   {
    "duration": -459,
    "start_time": "2022-01-22T01:54:09.502Z"
   },
   {
    "duration": -459,
    "start_time": "2022-01-22T01:54:09.503Z"
   },
   {
    "duration": -459,
    "start_time": "2022-01-22T01:54:09.504Z"
   },
   {
    "duration": -459,
    "start_time": "2022-01-22T01:54:09.505Z"
   },
   {
    "duration": -459,
    "start_time": "2022-01-22T01:54:09.506Z"
   },
   {
    "duration": -459,
    "start_time": "2022-01-22T01:54:09.507Z"
   },
   {
    "duration": -459,
    "start_time": "2022-01-22T01:54:09.508Z"
   },
   {
    "duration": -459,
    "start_time": "2022-01-22T01:54:09.509Z"
   },
   {
    "duration": -615,
    "start_time": "2022-01-22T01:54:09.667Z"
   },
   {
    "duration": -612,
    "start_time": "2022-01-22T01:54:09.669Z"
   },
   {
    "duration": -612,
    "start_time": "2022-01-22T01:54:09.670Z"
   },
   {
    "duration": -613,
    "start_time": "2022-01-22T01:54:09.672Z"
   },
   {
    "duration": 12,
    "start_time": "2022-01-22T01:54:13.298Z"
   },
   {
    "duration": 17,
    "start_time": "2022-01-22T01:54:14.686Z"
   },
   {
    "duration": -182,
    "start_time": "2022-01-22T01:55:04.088Z"
   },
   {
    "duration": -319,
    "start_time": "2022-01-22T01:55:04.226Z"
   },
   {
    "duration": -242,
    "start_time": "2022-01-22T01:57:38.943Z"
   },
   {
    "duration": -244,
    "start_time": "2022-01-22T01:57:38.947Z"
   },
   {
    "duration": 607,
    "start_time": "2022-01-22T01:58:46.459Z"
   },
   {
    "duration": 7,
    "start_time": "2022-01-22T01:58:47.068Z"
   },
   {
    "duration": 15,
    "start_time": "2022-01-22T01:58:47.077Z"
   },
   {
    "duration": 21,
    "start_time": "2022-01-22T01:58:47.093Z"
   },
   {
    "duration": 7,
    "start_time": "2022-01-22T01:58:47.115Z"
   },
   {
    "duration": 21,
    "start_time": "2022-01-22T01:58:47.124Z"
   },
   {
    "duration": 18,
    "start_time": "2022-01-22T01:58:47.146Z"
   },
   {
    "duration": 15,
    "start_time": "2022-01-22T01:58:47.166Z"
   },
   {
    "duration": 21,
    "start_time": "2022-01-22T01:58:47.183Z"
   },
   {
    "duration": 2,
    "start_time": "2022-01-22T01:58:47.206Z"
   },
   {
    "duration": 4,
    "start_time": "2022-01-22T01:58:47.210Z"
   },
   {
    "duration": 15,
    "start_time": "2022-01-22T01:58:47.241Z"
   },
   {
    "duration": 9,
    "start_time": "2022-01-22T01:58:47.257Z"
   },
   {
    "duration": 22,
    "start_time": "2022-01-22T01:58:47.268Z"
   },
   {
    "duration": 8,
    "start_time": "2022-01-22T01:58:47.291Z"
   },
   {
    "duration": 8,
    "start_time": "2022-01-22T01:58:47.301Z"
   },
   {
    "duration": 32,
    "start_time": "2022-01-22T01:58:47.310Z"
   },
   {
    "duration": 9,
    "start_time": "2022-01-22T01:58:47.343Z"
   },
   {
    "duration": 3,
    "start_time": "2022-01-22T01:58:47.353Z"
   },
   {
    "duration": 12,
    "start_time": "2022-01-22T01:58:47.357Z"
   },
   {
    "duration": 12,
    "start_time": "2022-01-22T01:58:47.370Z"
   },
   {
    "duration": 6,
    "start_time": "2022-01-22T01:58:47.384Z"
   },
   {
    "duration": 10,
    "start_time": "2022-01-22T01:58:47.391Z"
   },
   {
    "duration": 44,
    "start_time": "2022-01-22T01:58:47.402Z"
   },
   {
    "duration": 2,
    "start_time": "2022-01-22T01:58:47.447Z"
   },
   {
    "duration": 4,
    "start_time": "2022-01-22T01:58:47.451Z"
   },
   {
    "duration": 21,
    "start_time": "2022-01-22T01:58:47.459Z"
   },
   {
    "duration": 3,
    "start_time": "2022-01-22T01:58:47.482Z"
   },
   {
    "duration": 14,
    "start_time": "2022-01-22T01:58:47.487Z"
   },
   {
    "duration": 20,
    "start_time": "2022-01-22T01:58:47.502Z"
   },
   {
    "duration": 18,
    "start_time": "2022-01-22T01:58:47.523Z"
   },
   {
    "duration": 5,
    "start_time": "2022-01-22T01:58:47.543Z"
   },
   {
    "duration": 60,
    "start_time": "2022-01-22T01:58:47.550Z"
   },
   {
    "duration": 2,
    "start_time": "2022-01-22T01:58:47.612Z"
   },
   {
    "duration": 5,
    "start_time": "2022-01-22T01:58:47.616Z"
   },
   {
    "duration": 19,
    "start_time": "2022-01-22T01:58:47.623Z"
   },
   {
    "duration": 16,
    "start_time": "2022-01-22T01:58:47.644Z"
   },
   {
    "duration": 4,
    "start_time": "2022-01-22T01:58:47.662Z"
   },
   {
    "duration": 10,
    "start_time": "2022-01-22T01:58:47.668Z"
   },
   {
    "duration": 229,
    "start_time": "2022-01-22T01:58:47.679Z"
   },
   {
    "duration": 8,
    "start_time": "2022-01-22T01:58:47.909Z"
   },
   {
    "duration": 32,
    "start_time": "2022-01-22T01:58:47.918Z"
   },
   {
    "duration": 6,
    "start_time": "2022-01-22T01:58:47.951Z"
   },
   {
    "duration": 6,
    "start_time": "2022-01-22T01:58:47.959Z"
   },
   {
    "duration": 12,
    "start_time": "2022-01-22T01:58:47.966Z"
   },
   {
    "duration": 18,
    "start_time": "2022-01-22T01:58:47.980Z"
   },
   {
    "duration": 11,
    "start_time": "2022-01-22T01:58:48.000Z"
   },
   {
    "duration": 15,
    "start_time": "2022-01-22T01:58:48.040Z"
   },
   {
    "duration": -190,
    "start_time": "2022-01-22T01:59:44.976Z"
   },
   {
    "duration": -191,
    "start_time": "2022-01-22T01:59:44.978Z"
   },
   {
    "duration": -194,
    "start_time": "2022-01-22T01:59:44.982Z"
   },
   {
    "duration": -195,
    "start_time": "2022-01-22T01:59:44.984Z"
   },
   {
    "duration": -197,
    "start_time": "2022-01-22T01:59:44.987Z"
   },
   {
    "duration": -334,
    "start_time": "2022-01-22T01:59:45.125Z"
   },
   {
    "duration": -336,
    "start_time": "2022-01-22T01:59:45.128Z"
   },
   {
    "duration": -337,
    "start_time": "2022-01-22T01:59:45.130Z"
   },
   {
    "duration": -337,
    "start_time": "2022-01-22T01:59:45.131Z"
   },
   {
    "duration": -338,
    "start_time": "2022-01-22T01:59:45.133Z"
   },
   {
    "duration": -339,
    "start_time": "2022-01-22T01:59:45.135Z"
   },
   {
    "duration": -340,
    "start_time": "2022-01-22T01:59:45.137Z"
   },
   {
    "duration": -340,
    "start_time": "2022-01-22T01:59:45.138Z"
   },
   {
    "duration": -341,
    "start_time": "2022-01-22T01:59:45.140Z"
   },
   {
    "duration": -342,
    "start_time": "2022-01-22T01:59:45.141Z"
   },
   {
    "duration": -343,
    "start_time": "2022-01-22T01:59:45.143Z"
   },
   {
    "duration": -343,
    "start_time": "2022-01-22T01:59:45.144Z"
   },
   {
    "duration": -344,
    "start_time": "2022-01-22T01:59:45.146Z"
   },
   {
    "duration": -344,
    "start_time": "2022-01-22T01:59:45.147Z"
   },
   {
    "duration": -345,
    "start_time": "2022-01-22T01:59:45.149Z"
   },
   {
    "duration": -345,
    "start_time": "2022-01-22T01:59:45.150Z"
   },
   {
    "duration": -346,
    "start_time": "2022-01-22T01:59:45.152Z"
   },
   {
    "duration": -346,
    "start_time": "2022-01-22T01:59:45.153Z"
   },
   {
    "duration": -348,
    "start_time": "2022-01-22T01:59:45.155Z"
   },
   {
    "duration": -348,
    "start_time": "2022-01-22T01:59:45.156Z"
   },
   {
    "duration": 7342,
    "start_time": "2022-01-22T01:59:51.960Z"
   },
   {
    "duration": -171,
    "start_time": "2022-01-22T02:07:37.779Z"
   },
   {
    "duration": 72385,
    "start_time": "2022-01-22T02:08:51.956Z"
   },
   {
    "duration": -271,
    "start_time": "2022-01-22T02:10:04.614Z"
   },
   {
    "duration": 91,
    "start_time": "2022-01-22T02:10:54.090Z"
   },
   {
    "duration": 14,
    "start_time": "2022-01-22T02:11:08.435Z"
   },
   {
    "duration": 181276,
    "start_time": "2022-01-22T02:11:12.494Z"
   },
   {
    "duration": 5,
    "start_time": "2022-01-22T02:14:42.394Z"
   },
   {
    "duration": 81,
    "start_time": "2022-01-22T02:15:12.385Z"
   },
   {
    "duration": 186623,
    "start_time": "2022-01-22T02:16:44.835Z"
   },
   {
    "duration": 4,
    "start_time": "2022-01-22T02:22:14.067Z"
   },
   {
    "duration": 4,
    "start_time": "2022-01-22T02:22:19.020Z"
   },
   {
    "duration": 189661,
    "start_time": "2022-01-22T02:23:06.411Z"
   },
   {
    "duration": 8,
    "start_time": "2022-01-22T02:26:16.087Z"
   },
   {
    "duration": 313,
    "start_time": "2022-01-22T14:44:49.236Z"
   },
   {
    "duration": 778,
    "start_time": "2022-01-22T14:44:53.050Z"
   },
   {
    "duration": 13,
    "start_time": "2022-01-22T14:44:53.831Z"
   },
   {
    "duration": 28,
    "start_time": "2022-01-22T14:44:53.849Z"
   },
   {
    "duration": 55,
    "start_time": "2022-01-22T14:44:53.880Z"
   },
   {
    "duration": 11,
    "start_time": "2022-01-22T14:44:53.937Z"
   },
   {
    "duration": 12,
    "start_time": "2022-01-22T14:44:53.950Z"
   },
   {
    "duration": 32,
    "start_time": "2022-01-22T14:44:53.964Z"
   },
   {
    "duration": 53,
    "start_time": "2022-01-22T14:44:53.999Z"
   },
   {
    "duration": 33,
    "start_time": "2022-01-22T14:44:54.056Z"
   },
   {
    "duration": 3,
    "start_time": "2022-01-22T14:44:54.094Z"
   },
   {
    "duration": 33,
    "start_time": "2022-01-22T14:44:54.100Z"
   },
   {
    "duration": 25,
    "start_time": "2022-01-22T14:44:54.136Z"
   },
   {
    "duration": 14,
    "start_time": "2022-01-22T14:44:54.164Z"
   },
   {
    "duration": 59,
    "start_time": "2022-01-22T14:44:54.181Z"
   },
   {
    "duration": 13,
    "start_time": "2022-01-22T14:44:54.242Z"
   },
   {
    "duration": 9,
    "start_time": "2022-01-22T14:44:54.257Z"
   },
   {
    "duration": 13,
    "start_time": "2022-01-22T14:44:54.269Z"
   },
   {
    "duration": 50,
    "start_time": "2022-01-22T14:44:54.284Z"
   },
   {
    "duration": 4,
    "start_time": "2022-01-22T14:44:54.337Z"
   },
   {
    "duration": 12,
    "start_time": "2022-01-22T14:44:54.344Z"
   },
   {
    "duration": 16,
    "start_time": "2022-01-22T14:44:54.359Z"
   },
   {
    "duration": 10,
    "start_time": "2022-01-22T14:44:54.377Z"
   },
   {
    "duration": 49,
    "start_time": "2022-01-22T14:44:54.389Z"
   },
   {
    "duration": 28,
    "start_time": "2022-01-22T14:44:54.441Z"
   },
   {
    "duration": 3,
    "start_time": "2022-01-22T14:44:54.471Z"
   },
   {
    "duration": 5,
    "start_time": "2022-01-22T14:44:54.476Z"
   },
   {
    "duration": 61,
    "start_time": "2022-01-22T14:44:54.486Z"
   },
   {
    "duration": 5,
    "start_time": "2022-01-22T14:44:54.550Z"
   },
   {
    "duration": 14,
    "start_time": "2022-01-22T14:44:54.558Z"
   },
   {
    "duration": 57,
    "start_time": "2022-01-22T14:44:54.575Z"
   },
   {
    "duration": 2,
    "start_time": "2022-01-22T14:44:54.635Z"
   },
   {
    "duration": 6,
    "start_time": "2022-01-22T14:44:54.640Z"
   },
   {
    "duration": 101,
    "start_time": "2022-01-22T14:44:54.648Z"
   },
   {
    "duration": 2,
    "start_time": "2022-01-22T14:44:54.752Z"
   },
   {
    "duration": 7,
    "start_time": "2022-01-22T14:44:54.757Z"
   },
   {
    "duration": 8,
    "start_time": "2022-01-22T14:44:54.766Z"
   },
   {
    "duration": 22,
    "start_time": "2022-01-22T14:44:54.777Z"
   },
   {
    "duration": 6,
    "start_time": "2022-01-22T14:44:54.831Z"
   },
   {
    "duration": 9,
    "start_time": "2022-01-22T14:44:54.839Z"
   },
   {
    "duration": 395,
    "start_time": "2022-01-22T14:44:54.850Z"
   },
   {
    "duration": 12,
    "start_time": "2022-01-22T14:44:55.248Z"
   },
   {
    "duration": 21,
    "start_time": "2022-01-22T14:44:55.262Z"
   },
   {
    "duration": 8,
    "start_time": "2022-01-22T14:44:55.286Z"
   },
   {
    "duration": 44,
    "start_time": "2022-01-22T14:44:55.296Z"
   },
   {
    "duration": 19,
    "start_time": "2022-01-22T14:44:55.342Z"
   },
   {
    "duration": 29,
    "start_time": "2022-01-22T14:44:55.363Z"
   },
   {
    "duration": 45,
    "start_time": "2022-01-22T14:44:55.394Z"
   },
   {
    "duration": 29,
    "start_time": "2022-01-22T14:44:55.442Z"
   },
   {
    "duration": 328329,
    "start_time": "2022-01-22T14:55:53.708Z"
   },
   {
    "duration": 55,
    "start_time": "2022-01-22T15:01:22.096Z"
   },
   {
    "duration": 6,
    "start_time": "2022-01-22T16:29:58.311Z"
   },
   {
    "duration": 7,
    "start_time": "2022-01-22T16:30:04.465Z"
   },
   {
    "duration": 1108,
    "start_time": "2022-01-22T16:30:10.055Z"
   },
   {
    "duration": 861,
    "start_time": "2022-01-22T16:34:20.852Z"
   },
   {
    "duration": 7,
    "start_time": "2022-01-22T16:36:14.124Z"
   },
   {
    "duration": 890,
    "start_time": "2022-01-22T16:36:19.392Z"
   },
   {
    "duration": 11,
    "start_time": "2022-01-22T16:49:50.867Z"
   },
   {
    "duration": 9,
    "start_time": "2022-01-22T16:49:57.089Z"
   },
   {
    "duration": 6,
    "start_time": "2022-01-22T16:50:13.237Z"
   },
   {
    "duration": 17,
    "start_time": "2022-01-22T16:50:54.955Z"
   },
   {
    "duration": 31,
    "start_time": "2022-01-22T16:52:07.492Z"
   },
   {
    "duration": 32,
    "start_time": "2022-01-22T16:53:16.951Z"
   },
   {
    "duration": 6,
    "start_time": "2022-01-22T16:54:45.468Z"
   },
   {
    "duration": 6,
    "start_time": "2022-01-22T16:54:46.088Z"
   },
   {
    "duration": 949,
    "start_time": "2022-01-22T16:54:48.726Z"
   },
   {
    "duration": 4,
    "start_time": "2022-01-22T16:55:47.242Z"
   },
   {
    "duration": 290,
    "start_time": "2022-01-22T16:56:52.300Z"
   },
   {
    "duration": 33,
    "start_time": "2022-01-22T16:56:56.985Z"
   },
   {
    "duration": 84,
    "start_time": "2022-01-22T16:57:24.968Z"
   },
   {
    "duration": 75,
    "start_time": "2022-01-22T16:57:36.862Z"
   },
   {
    "duration": 7542,
    "start_time": "2022-01-22T16:57:46.570Z"
   },
   {
    "duration": 779,
    "start_time": "2022-01-22T16:58:10.485Z"
   },
   {
    "duration": 5,
    "start_time": "2022-01-22T16:58:41.007Z"
   },
   {
    "duration": 8,
    "start_time": "2022-01-22T16:58:42.139Z"
   },
   {
    "duration": 638,
    "start_time": "2022-01-22T16:59:43.365Z"
   },
   {
    "duration": 4,
    "start_time": "2022-01-22T17:00:09.310Z"
   },
   {
    "duration": 5,
    "start_time": "2022-01-22T17:00:16.418Z"
   },
   {
    "duration": 11,
    "start_time": "2022-01-22T17:00:16.970Z"
   },
   {
    "duration": 843,
    "start_time": "2022-01-22T17:00:17.728Z"
   },
   {
    "duration": 875,
    "start_time": "2022-01-22T17:00:26.796Z"
   },
   {
    "duration": 32,
    "start_time": "2022-01-22T17:00:48.212Z"
   },
   {
    "duration": 7,
    "start_time": "2022-01-22T17:01:01.938Z"
   },
   {
    "duration": 396,
    "start_time": "2022-01-23T01:18:43.092Z"
   },
   {
    "duration": 390,
    "start_time": "2022-01-23T01:18:46.646Z"
   },
   {
    "duration": 852,
    "start_time": "2022-01-23T01:18:48.734Z"
   },
   {
    "duration": 12,
    "start_time": "2022-01-23T01:18:49.589Z"
   },
   {
    "duration": 25,
    "start_time": "2022-01-23T01:18:49.604Z"
   },
   {
    "duration": 48,
    "start_time": "2022-01-23T01:18:49.631Z"
   },
   {
    "duration": 22,
    "start_time": "2022-01-23T01:18:49.681Z"
   },
   {
    "duration": 11,
    "start_time": "2022-01-23T01:18:49.705Z"
   },
   {
    "duration": 76,
    "start_time": "2022-01-23T01:18:49.719Z"
   },
   {
    "duration": 23,
    "start_time": "2022-01-23T01:18:49.797Z"
   },
   {
    "duration": 57,
    "start_time": "2022-01-23T01:18:49.824Z"
   },
   {
    "duration": 3,
    "start_time": "2022-01-23T01:18:49.885Z"
   },
   {
    "duration": 5,
    "start_time": "2022-01-23T01:18:49.890Z"
   },
   {
    "duration": 26,
    "start_time": "2022-01-23T01:18:49.897Z"
   },
   {
    "duration": 14,
    "start_time": "2022-01-23T01:18:49.926Z"
   },
   {
    "duration": 50,
    "start_time": "2022-01-23T01:18:49.942Z"
   },
   {
    "duration": 12,
    "start_time": "2022-01-23T01:18:49.994Z"
   },
   {
    "duration": 10,
    "start_time": "2022-01-23T01:18:50.008Z"
   },
   {
    "duration": 49,
    "start_time": "2022-01-23T01:18:50.021Z"
   },
   {
    "duration": 16,
    "start_time": "2022-01-23T01:18:50.073Z"
   },
   {
    "duration": 6,
    "start_time": "2022-01-23T01:18:50.092Z"
   },
   {
    "duration": 12,
    "start_time": "2022-01-23T01:18:50.100Z"
   },
   {
    "duration": 55,
    "start_time": "2022-01-23T01:18:50.114Z"
   },
   {
    "duration": 11,
    "start_time": "2022-01-23T01:18:50.171Z"
   },
   {
    "duration": 9,
    "start_time": "2022-01-23T01:18:50.184Z"
   },
   {
    "duration": 30,
    "start_time": "2022-01-23T01:18:50.195Z"
   },
   {
    "duration": 2,
    "start_time": "2022-01-23T01:18:50.227Z"
   },
   {
    "duration": 38,
    "start_time": "2022-01-23T01:18:50.231Z"
   },
   {
    "duration": 29,
    "start_time": "2022-01-23T01:18:50.275Z"
   },
   {
    "duration": 5,
    "start_time": "2022-01-23T01:18:50.307Z"
   },
   {
    "duration": 19,
    "start_time": "2022-01-23T01:18:50.314Z"
   },
   {
    "duration": 62,
    "start_time": "2022-01-23T01:18:50.335Z"
   },
   {
    "duration": 3,
    "start_time": "2022-01-23T01:18:50.399Z"
   },
   {
    "duration": 5,
    "start_time": "2022-01-23T01:18:50.404Z"
   },
   {
    "duration": 117,
    "start_time": "2022-01-23T01:18:50.411Z"
   },
   {
    "duration": 3,
    "start_time": "2022-01-23T01:18:50.530Z"
   },
   {
    "duration": 9,
    "start_time": "2022-01-23T01:18:50.535Z"
   },
   {
    "duration": 7,
    "start_time": "2022-01-23T01:18:50.546Z"
   },
   {
    "duration": 21,
    "start_time": "2022-01-23T01:18:50.570Z"
   },
   {
    "duration": 5,
    "start_time": "2022-01-23T01:18:50.593Z"
   },
   {
    "duration": 7,
    "start_time": "2022-01-23T01:18:50.600Z"
   },
   {
    "duration": 462,
    "start_time": "2022-01-23T01:18:50.609Z"
   },
   {
    "duration": 13,
    "start_time": "2022-01-23T01:18:51.073Z"
   },
   {
    "duration": 20,
    "start_time": "2022-01-23T01:18:51.089Z"
   },
   {
    "duration": 10,
    "start_time": "2022-01-23T01:18:51.111Z"
   },
   {
    "duration": 47,
    "start_time": "2022-01-23T01:18:51.124Z"
   },
   {
    "duration": 19,
    "start_time": "2022-01-23T01:18:51.174Z"
   },
   {
    "duration": 31,
    "start_time": "2022-01-23T01:18:51.196Z"
   },
   {
    "duration": 4,
    "start_time": "2022-01-23T01:18:51.230Z"
   },
   {
    "duration": 36,
    "start_time": "2022-01-23T01:18:51.237Z"
   },
   {
    "duration": 875,
    "start_time": "2022-01-23T01:18:51.276Z"
   },
   {
    "duration": 17,
    "start_time": "2022-01-23T01:18:52.153Z"
   },
   {
    "duration": 3,
    "start_time": "2022-01-23T01:18:52.173Z"
   },
   {
    "duration": 19,
    "start_time": "2022-01-23T01:18:52.178Z"
   },
   {
    "duration": 32,
    "start_time": "2022-01-23T01:18:52.200Z"
   },
   {
    "duration": 62,
    "start_time": "2022-01-23T01:18:52.234Z"
   },
   {
    "duration": 4,
    "start_time": "2022-01-23T01:18:52.299Z"
   },
   {
    "duration": 7,
    "start_time": "2022-01-23T01:18:52.305Z"
   },
   {
    "duration": 871,
    "start_time": "2022-01-23T01:18:52.314Z"
   },
   {
    "duration": 7,
    "start_time": "2022-01-23T01:18:53.187Z"
   },
   {
    "duration": 4,
    "start_time": "2022-01-23T01:18:53.196Z"
   },
   {
    "duration": 5,
    "start_time": "2022-01-23T01:18:53.202Z"
   },
   {
    "duration": -222,
    "start_time": "2022-01-23T01:19:00.524Z"
   },
   {
    "duration": 6647,
    "start_time": "2022-01-23T01:19:04.940Z"
   },
   {
    "duration": 28,
    "start_time": "2022-01-23T01:19:38.109Z"
   },
   {
    "duration": 5,
    "start_time": "2022-01-23T01:21:09.595Z"
   },
   {
    "duration": -354,
    "start_time": "2022-01-23T01:21:48.561Z"
   },
   {
    "duration": 6,
    "start_time": "2022-01-23T01:21:53.868Z"
   },
   {
    "duration": 7,
    "start_time": "2022-01-23T01:22:31.166Z"
   },
   {
    "duration": 462,
    "start_time": "2022-01-23T01:29:32.457Z"
   },
   {
    "duration": 296,
    "start_time": "2022-01-23T01:29:49.791Z"
   },
   {
    "duration": 138,
    "start_time": "2022-01-23T01:29:57.911Z"
   },
   {
    "duration": 97,
    "start_time": "2022-01-23T01:30:07.773Z"
   },
   {
    "duration": 91,
    "start_time": "2022-01-23T01:30:17.028Z"
   },
   {
    "duration": 4,
    "start_time": "2022-01-23T01:30:37.426Z"
   },
   {
    "duration": 407,
    "start_time": "2022-01-23T01:30:39.808Z"
   },
   {
    "duration": 8386,
    "start_time": "2022-01-23T01:31:05.244Z"
   },
   {
    "duration": 395,
    "start_time": "2022-01-23T01:31:37.599Z"
   },
   {
    "duration": 9683,
    "start_time": "2022-01-23T01:32:41.781Z"
   },
   {
    "duration": 6817,
    "start_time": "2022-01-23T01:33:22.221Z"
   },
   {
    "duration": 650,
    "start_time": "2022-01-23T01:34:38.722Z"
   },
   {
    "duration": 5479,
    "start_time": "2022-01-23T01:35:27.826Z"
   },
   {
    "duration": 680,
    "start_time": "2022-01-23T01:36:20.397Z"
   },
   {
    "duration": 387,
    "start_time": "2022-01-23T01:37:07.377Z"
   },
   {
    "duration": 747,
    "start_time": "2022-01-23T01:38:14.061Z"
   },
   {
    "duration": 102,
    "start_time": "2022-01-23T01:38:21.433Z"
   },
   {
    "duration": 5402,
    "start_time": "2022-01-23T01:40:20.557Z"
   },
   {
    "duration": 388,
    "start_time": "2022-01-23T01:42:56.625Z"
   },
   {
    "duration": 7,
    "start_time": "2022-01-23T01:44:19.292Z"
   },
   {
    "duration": 7,
    "start_time": "2022-01-23T01:44:31.895Z"
   },
   {
    "duration": 13,
    "start_time": "2022-01-23T01:44:39.693Z"
   },
   {
    "duration": 1311,
    "start_time": "2022-01-23T01:51:51.472Z"
   },
   {
    "duration": 4,
    "start_time": "2022-01-23T01:52:05.235Z"
   },
   {
    "duration": 264,
    "start_time": "2022-01-23T01:52:45.426Z"
   },
   {
    "duration": 283,
    "start_time": "2022-01-23T01:52:59.844Z"
   },
   {
    "duration": 8,
    "start_time": "2022-01-23T01:53:07.362Z"
   },
   {
    "duration": 404,
    "start_time": "2022-01-23T01:53:08.080Z"
   },
   {
    "duration": 14,
    "start_time": "2022-01-23T01:56:04.779Z"
   },
   {
    "duration": 4,
    "start_time": "2022-01-23T02:00:25.592Z"
   },
   {
    "duration": 5,
    "start_time": "2022-01-23T02:00:59.906Z"
   },
   {
    "duration": 419,
    "start_time": "2022-01-23T02:01:00.635Z"
   },
   {
    "duration": 10,
    "start_time": "2022-01-23T02:01:17.876Z"
   },
   {
    "duration": 6,
    "start_time": "2022-01-23T02:03:27.029Z"
   },
   {
    "duration": 9,
    "start_time": "2022-01-23T02:03:36.823Z"
   },
   {
    "duration": 11,
    "start_time": "2022-01-23T02:04:17.827Z"
   },
   {
    "duration": 10,
    "start_time": "2022-01-23T02:04:24.907Z"
   },
   {
    "duration": 9,
    "start_time": "2022-01-23T02:04:33.247Z"
   },
   {
    "duration": 10,
    "start_time": "2022-01-23T02:05:03.287Z"
   },
   {
    "duration": 10,
    "start_time": "2022-01-23T02:05:13.990Z"
   },
   {
    "duration": 12,
    "start_time": "2022-01-23T02:06:34.789Z"
   },
   {
    "duration": 11,
    "start_time": "2022-01-23T02:06:41.080Z"
   },
   {
    "duration": 11,
    "start_time": "2022-01-23T02:07:57.102Z"
   },
   {
    "duration": 7,
    "start_time": "2022-01-23T02:11:38.977Z"
   },
   {
    "duration": 23,
    "start_time": "2022-01-23T02:12:18.982Z"
   },
   {
    "duration": 4,
    "start_time": "2022-01-23T02:18:55.345Z"
   },
   {
    "duration": 650,
    "start_time": "2022-01-23T02:19:30.289Z"
   },
   {
    "duration": 647,
    "start_time": "2022-01-23T02:20:03.308Z"
   },
   {
    "duration": 4,
    "start_time": "2022-01-23T02:21:47.244Z"
   },
   {
    "duration": 585,
    "start_time": "2022-01-23T02:21:50.295Z"
   },
   {
    "duration": 3,
    "start_time": "2022-01-23T02:22:13.656Z"
   },
   {
    "duration": 832,
    "start_time": "2022-01-23T02:22:14.857Z"
   },
   {
    "duration": 89,
    "start_time": "2022-01-23T02:27:18.228Z"
   },
   {
    "duration": 595,
    "start_time": "2022-01-23T02:27:20.335Z"
   },
   {
    "duration": 15,
    "start_time": "2022-01-23T02:27:34.327Z"
   },
   {
    "duration": 566,
    "start_time": "2022-01-23T02:27:37.535Z"
   },
   {
    "duration": 6,
    "start_time": "2022-01-23T02:28:53.685Z"
   },
   {
    "duration": 659,
    "start_time": "2022-01-23T02:28:54.801Z"
   },
   {
    "duration": 6,
    "start_time": "2022-01-23T02:31:00.817Z"
   },
   {
    "duration": 542,
    "start_time": "2022-01-23T02:31:01.988Z"
   },
   {
    "duration": 4,
    "start_time": "2022-01-23T02:32:43.358Z"
   },
   {
    "duration": 1327,
    "start_time": "2022-01-23T02:32:44.451Z"
   },
   {
    "duration": 5,
    "start_time": "2022-01-23T02:34:15.118Z"
   },
   {
    "duration": 21,
    "start_time": "2022-01-23T02:34:57.110Z"
   },
   {
    "duration": 18,
    "start_time": "2022-01-23T02:35:11.585Z"
   },
   {
    "duration": 4,
    "start_time": "2022-01-23T02:35:46.670Z"
   },
   {
    "duration": 555,
    "start_time": "2022-01-23T02:35:49.190Z"
   },
   {
    "duration": 4,
    "start_time": "2022-01-23T02:36:27.450Z"
   },
   {
    "duration": 692,
    "start_time": "2022-01-23T02:36:27.457Z"
   },
   {
    "duration": 18,
    "start_time": "2022-01-23T02:38:21.827Z"
   },
   {
    "duration": 4,
    "start_time": "2022-01-23T02:40:03.756Z"
   },
   {
    "duration": 756,
    "start_time": "2022-01-23T02:40:04.968Z"
   },
   {
    "duration": 774,
    "start_time": "2022-01-23T02:40:42.502Z"
   },
   {
    "duration": 795,
    "start_time": "2022-01-23T02:40:52.968Z"
   },
   {
    "duration": 5,
    "start_time": "2022-01-23T02:41:13.058Z"
   },
   {
    "duration": 397,
    "start_time": "2022-01-23T02:41:15.647Z"
   },
   {
    "duration": 4,
    "start_time": "2022-01-23T02:41:56.427Z"
   },
   {
    "duration": 835,
    "start_time": "2022-01-23T02:41:57.472Z"
   },
   {
    "duration": 5,
    "start_time": "2022-01-23T02:42:07.406Z"
   },
   {
    "duration": 721,
    "start_time": "2022-01-23T02:42:08.352Z"
   },
   {
    "duration": 6,
    "start_time": "2022-01-23T02:42:34.324Z"
   },
   {
    "duration": 855,
    "start_time": "2022-01-23T02:42:34.334Z"
   },
   {
    "duration": 6,
    "start_time": "2022-01-23T02:42:53.330Z"
   },
   {
    "duration": 518,
    "start_time": "2022-01-23T02:42:53.851Z"
   },
   {
    "duration": 5,
    "start_time": "2022-01-23T02:46:22.520Z"
   },
   {
    "duration": 441,
    "start_time": "2022-01-23T02:46:22.528Z"
   },
   {
    "duration": 710,
    "start_time": "2022-01-23T02:46:59.921Z"
   },
   {
    "duration": 13,
    "start_time": "2022-01-23T02:48:31.985Z"
   },
   {
    "duration": 61,
    "start_time": "2022-01-23T02:51:57.378Z"
   },
   {
    "duration": 29,
    "start_time": "2022-01-23T02:51:57.442Z"
   },
   {
    "duration": 23,
    "start_time": "2022-01-23T02:51:57.477Z"
   },
   {
    "duration": 77,
    "start_time": "2022-01-23T02:51:57.504Z"
   },
   {
    "duration": 20,
    "start_time": "2022-01-23T02:51:57.583Z"
   },
   {
    "duration": 9,
    "start_time": "2022-01-23T02:51:57.605Z"
   },
   {
    "duration": 75,
    "start_time": "2022-01-23T02:51:57.616Z"
   },
   {
    "duration": 24,
    "start_time": "2022-01-23T02:51:57.693Z"
   },
   {
    "duration": 66,
    "start_time": "2022-01-23T02:51:57.721Z"
   },
   {
    "duration": 3,
    "start_time": "2022-01-23T02:51:57.790Z"
   },
   {
    "duration": 4,
    "start_time": "2022-01-23T02:51:57.795Z"
   },
   {
    "duration": 24,
    "start_time": "2022-01-23T02:51:57.802Z"
   },
   {
    "duration": 51,
    "start_time": "2022-01-23T02:51:57.828Z"
   },
   {
    "duration": 29,
    "start_time": "2022-01-23T02:51:57.882Z"
   },
   {
    "duration": 12,
    "start_time": "2022-01-23T02:51:57.914Z"
   },
   {
    "duration": 44,
    "start_time": "2022-01-23T02:51:57.929Z"
   },
   {
    "duration": 17,
    "start_time": "2022-01-23T02:51:57.976Z"
   },
   {
    "duration": 14,
    "start_time": "2022-01-23T02:51:57.995Z"
   },
   {
    "duration": 4,
    "start_time": "2022-01-23T02:51:58.012Z"
   },
   {
    "duration": 53,
    "start_time": "2022-01-23T02:51:58.018Z"
   },
   {
    "duration": 18,
    "start_time": "2022-01-23T02:51:58.073Z"
   },
   {
    "duration": 10,
    "start_time": "2022-01-23T02:51:58.093Z"
   },
   {
    "duration": 9,
    "start_time": "2022-01-23T02:51:58.106Z"
   },
   {
    "duration": 76,
    "start_time": "2022-01-23T02:51:58.117Z"
   },
   {
    "duration": 2,
    "start_time": "2022-01-23T02:51:58.196Z"
   },
   {
    "duration": 5,
    "start_time": "2022-01-23T02:51:58.201Z"
   },
   {
    "duration": 65,
    "start_time": "2022-01-23T02:51:58.214Z"
   },
   {
    "duration": 6,
    "start_time": "2022-01-23T02:51:58.283Z"
   },
   {
    "duration": 18,
    "start_time": "2022-01-23T02:51:58.291Z"
   },
   {
    "duration": 67,
    "start_time": "2022-01-23T02:51:58.312Z"
   },
   {
    "duration": 3,
    "start_time": "2022-01-23T02:51:58.382Z"
   },
   {
    "duration": 5,
    "start_time": "2022-01-23T02:51:58.387Z"
   },
   {
    "duration": 115,
    "start_time": "2022-01-23T02:51:58.395Z"
   },
   {
    "duration": 3,
    "start_time": "2022-01-23T02:51:58.512Z"
   },
   {
    "duration": 4,
    "start_time": "2022-01-23T02:51:58.518Z"
   },
   {
    "duration": 7,
    "start_time": "2022-01-23T02:51:58.524Z"
   },
   {
    "duration": 53,
    "start_time": "2022-01-23T02:51:58.533Z"
   },
   {
    "duration": 5,
    "start_time": "2022-01-23T02:51:58.589Z"
   },
   {
    "duration": 7,
    "start_time": "2022-01-23T02:51:58.596Z"
   },
   {
    "duration": 420,
    "start_time": "2022-01-23T02:51:58.605Z"
   },
   {
    "duration": 12,
    "start_time": "2022-01-23T02:51:59.027Z"
   },
   {
    "duration": 34,
    "start_time": "2022-01-23T02:51:59.042Z"
   },
   {
    "duration": 8,
    "start_time": "2022-01-23T02:51:59.079Z"
   },
   {
    "duration": 9,
    "start_time": "2022-01-23T02:51:59.089Z"
   },
   {
    "duration": 17,
    "start_time": "2022-01-23T02:51:59.100Z"
   },
   {
    "duration": 74,
    "start_time": "2022-01-23T02:51:59.119Z"
   },
   {
    "duration": 4,
    "start_time": "2022-01-23T02:51:59.195Z"
   },
   {
    "duration": 8,
    "start_time": "2022-01-23T02:51:59.202Z"
   },
   {
    "duration": 891,
    "start_time": "2022-01-23T02:51:59.212Z"
   },
   {
    "duration": 7,
    "start_time": "2022-01-23T02:52:00.107Z"
   },
   {
    "duration": 9,
    "start_time": "2022-01-23T02:52:00.117Z"
   },
   {
    "duration": 46,
    "start_time": "2022-01-23T02:52:00.129Z"
   },
   {
    "duration": 33,
    "start_time": "2022-01-23T02:52:00.178Z"
   },
   {
    "duration": 61,
    "start_time": "2022-01-23T02:52:00.214Z"
   },
   {
    "duration": 5,
    "start_time": "2022-01-23T02:52:00.278Z"
   },
   {
    "duration": 17,
    "start_time": "2022-01-23T02:52:00.287Z"
   },
   {
    "duration": 854,
    "start_time": "2022-01-23T02:52:00.307Z"
   },
   {
    "duration": 11,
    "start_time": "2022-01-23T02:52:01.163Z"
   },
   {
    "duration": 13,
    "start_time": "2022-01-23T02:52:01.177Z"
   },
   {
    "duration": 8,
    "start_time": "2022-01-23T02:52:01.192Z"
   },
   {
    "duration": 39,
    "start_time": "2022-01-23T02:52:01.202Z"
   },
   {
    "duration": 4,
    "start_time": "2022-01-23T02:52:01.268Z"
   },
   {
    "duration": 16,
    "start_time": "2022-01-23T02:52:01.275Z"
   },
   {
    "duration": 410,
    "start_time": "2022-01-23T02:52:01.293Z"
   },
   {
    "duration": 27,
    "start_time": "2022-01-23T02:52:01.706Z"
   },
   {
    "duration": 5,
    "start_time": "2022-01-23T02:52:01.736Z"
   },
   {
    "duration": 401,
    "start_time": "2022-01-23T02:52:01.769Z"
   },
   {
    "duration": 7,
    "start_time": "2022-01-23T02:52:02.173Z"
   },
   {
    "duration": 13,
    "start_time": "2022-01-23T02:52:02.182Z"
   },
   {
    "duration": 5,
    "start_time": "2022-01-23T02:52:02.197Z"
   },
   {
    "duration": 439,
    "start_time": "2022-01-23T02:52:02.205Z"
   },
   {
    "duration": 9,
    "start_time": "2022-01-23T02:52:02.647Z"
   },
   {
    "duration": 17,
    "start_time": "2022-01-23T02:52:02.670Z"
   },
   {
    "duration": 12,
    "start_time": "2022-01-23T02:52:02.690Z"
   },
   {
    "duration": 12,
    "start_time": "2022-01-23T02:52:02.704Z"
   },
   {
    "duration": 55,
    "start_time": "2022-01-23T02:52:02.719Z"
   },
   {
    "duration": 57,
    "start_time": "2022-01-23T02:54:03.036Z"
   },
   {
    "duration": 5,
    "start_time": "2022-01-23T02:54:17.205Z"
   },
   {
    "duration": 20,
    "start_time": "2022-01-23T02:54:33.549Z"
   },
   {
    "duration": 31,
    "start_time": "2022-01-23T02:55:17.719Z"
   },
   {
    "duration": 19,
    "start_time": "2022-01-23T02:57:48.546Z"
   },
   {
    "duration": 11,
    "start_time": "2022-01-23T02:57:58.904Z"
   },
   {
    "duration": 33,
    "start_time": "2022-01-23T03:01:08.133Z"
   },
   {
    "duration": 25,
    "start_time": "2022-01-23T03:02:18.018Z"
   },
   {
    "duration": 21,
    "start_time": "2022-01-23T03:05:45.032Z"
   },
   {
    "duration": 13,
    "start_time": "2022-01-23T03:05:49.669Z"
   },
   {
    "duration": 28,
    "start_time": "2022-01-23T03:06:05.876Z"
   },
   {
    "duration": 14,
    "start_time": "2022-01-23T03:06:20.989Z"
   },
   {
    "duration": 285,
    "start_time": "2022-01-23T03:07:18.915Z"
   },
   {
    "duration": 10,
    "start_time": "2022-01-23T03:07:44.970Z"
   },
   {
    "duration": 11,
    "start_time": "2022-01-23T03:08:51.364Z"
   },
   {
    "duration": 15,
    "start_time": "2022-01-23T03:08:59.871Z"
   },
   {
    "duration": 15,
    "start_time": "2022-01-23T03:09:42.589Z"
   },
   {
    "duration": 5,
    "start_time": "2022-01-23T03:10:29.045Z"
   },
   {
    "duration": 10,
    "start_time": "2022-01-23T03:10:38.711Z"
   },
   {
    "duration": 18,
    "start_time": "2022-01-23T03:10:57.443Z"
   },
   {
    "duration": 10,
    "start_time": "2022-01-23T03:11:12.773Z"
   },
   {
    "duration": 12,
    "start_time": "2022-01-23T03:11:16.583Z"
   },
   {
    "duration": 10,
    "start_time": "2022-01-23T03:11:23.929Z"
   },
   {
    "duration": 98,
    "start_time": "2022-01-23T03:12:52.566Z"
   },
   {
    "duration": 5,
    "start_time": "2022-01-23T03:14:03.781Z"
   },
   {
    "duration": 10,
    "start_time": "2022-01-23T03:14:04.549Z"
   },
   {
    "duration": 30,
    "start_time": "2022-01-23T03:16:02.384Z"
   },
   {
    "duration": 29,
    "start_time": "2022-01-23T03:16:46.298Z"
   },
   {
    "duration": 14,
    "start_time": "2022-01-23T03:17:01.785Z"
   },
   {
    "duration": 5,
    "start_time": "2022-01-23T03:17:09.809Z"
   },
   {
    "duration": 14,
    "start_time": "2022-01-23T03:17:11.503Z"
   },
   {
    "duration": 30,
    "start_time": "2022-01-23T03:17:39.800Z"
   },
   {
    "duration": 84,
    "start_time": "2022-01-23T03:18:12.588Z"
   },
   {
    "duration": 22,
    "start_time": "2022-01-23T03:19:56.361Z"
   },
   {
    "duration": 5,
    "start_time": "2022-01-23T03:20:19.401Z"
   },
   {
    "duration": 5,
    "start_time": "2022-01-23T03:20:25.358Z"
   },
   {
    "duration": 388,
    "start_time": "2022-01-23T03:20:40.698Z"
   },
   {
    "duration": 13,
    "start_time": "2022-01-23T03:20:45.818Z"
   },
   {
    "duration": 22,
    "start_time": "2022-01-23T03:20:50.870Z"
   },
   {
    "duration": 30,
    "start_time": "2022-01-23T03:21:37.643Z"
   },
   {
    "duration": 10,
    "start_time": "2022-01-23T03:21:47.042Z"
   },
   {
    "duration": 10,
    "start_time": "2022-01-23T03:21:53.353Z"
   },
   {
    "duration": 21,
    "start_time": "2022-01-23T03:21:58.581Z"
   },
   {
    "duration": 34,
    "start_time": "2022-01-23T03:22:19.550Z"
   },
   {
    "duration": 30,
    "start_time": "2022-01-23T03:25:25.148Z"
   },
   {
    "duration": 4,
    "start_time": "2022-01-23T03:27:16.068Z"
   },
   {
    "duration": 8,
    "start_time": "2022-01-23T03:28:10.747Z"
   },
   {
    "duration": 24,
    "start_time": "2022-01-23T03:29:22.613Z"
   },
   {
    "duration": 10,
    "start_time": "2022-01-23T03:29:49.933Z"
   },
   {
    "duration": 372,
    "start_time": "2022-01-23T03:30:49.994Z"
   },
   {
    "duration": 23,
    "start_time": "2022-01-23T03:31:16.500Z"
   },
   {
    "duration": 6,
    "start_time": "2022-01-23T03:31:37.735Z"
   },
   {
    "duration": 385,
    "start_time": "2022-01-23T03:31:41.527Z"
   },
   {
    "duration": 15,
    "start_time": "2022-01-23T03:38:13.448Z"
   },
   {
    "duration": 366,
    "start_time": "2022-01-23T03:40:59.853Z"
   },
   {
    "duration": 256,
    "start_time": "2022-01-23T03:41:04.757Z"
   },
   {
    "duration": 66,
    "start_time": "2022-01-23T03:41:12.142Z"
   },
   {
    "duration": 6,
    "start_time": "2022-01-23T03:41:12.211Z"
   },
   {
    "duration": 63,
    "start_time": "2022-01-23T03:41:12.222Z"
   },
   {
    "duration": 33,
    "start_time": "2022-01-23T03:41:12.289Z"
   },
   {
    "duration": 54,
    "start_time": "2022-01-23T03:41:12.325Z"
   },
   {
    "duration": 280,
    "start_time": "2022-01-23T03:41:12.383Z"
   },
   {
    "duration": -175,
    "start_time": "2022-01-23T03:41:12.843Z"
   },
   {
    "duration": -176,
    "start_time": "2022-01-23T03:41:12.845Z"
   },
   {
    "duration": -176,
    "start_time": "2022-01-23T03:41:12.847Z"
   },
   {
    "duration": -177,
    "start_time": "2022-01-23T03:41:12.849Z"
   },
   {
    "duration": -178,
    "start_time": "2022-01-23T03:41:12.851Z"
   },
   {
    "duration": -178,
    "start_time": "2022-01-23T03:41:12.852Z"
   },
   {
    "duration": -178,
    "start_time": "2022-01-23T03:41:12.854Z"
   },
   {
    "duration": -179,
    "start_time": "2022-01-23T03:41:12.856Z"
   },
   {
    "duration": -180,
    "start_time": "2022-01-23T03:41:12.858Z"
   },
   {
    "duration": -180,
    "start_time": "2022-01-23T03:41:12.859Z"
   },
   {
    "duration": -180,
    "start_time": "2022-01-23T03:41:12.861Z"
   },
   {
    "duration": -181,
    "start_time": "2022-01-23T03:41:12.863Z"
   },
   {
    "duration": -181,
    "start_time": "2022-01-23T03:41:12.864Z"
   },
   {
    "duration": -182,
    "start_time": "2022-01-23T03:41:12.866Z"
   },
   {
    "duration": -181,
    "start_time": "2022-01-23T03:41:12.867Z"
   },
   {
    "duration": -182,
    "start_time": "2022-01-23T03:41:12.869Z"
   },
   {
    "duration": -182,
    "start_time": "2022-01-23T03:41:12.870Z"
   },
   {
    "duration": -309,
    "start_time": "2022-01-23T03:41:12.998Z"
   },
   {
    "duration": -359,
    "start_time": "2022-01-23T03:41:13.050Z"
   },
   {
    "duration": -359,
    "start_time": "2022-01-23T03:41:13.051Z"
   },
   {
    "duration": -359,
    "start_time": "2022-01-23T03:41:13.052Z"
   },
   {
    "duration": -358,
    "start_time": "2022-01-23T03:41:13.053Z"
   },
   {
    "duration": -358,
    "start_time": "2022-01-23T03:41:13.054Z"
   },
   {
    "duration": -358,
    "start_time": "2022-01-23T03:41:13.055Z"
   },
   {
    "duration": -358,
    "start_time": "2022-01-23T03:41:13.056Z"
   },
   {
    "duration": -358,
    "start_time": "2022-01-23T03:41:13.057Z"
   },
   {
    "duration": -357,
    "start_time": "2022-01-23T03:41:13.058Z"
   },
   {
    "duration": -357,
    "start_time": "2022-01-23T03:41:13.059Z"
   },
   {
    "duration": -357,
    "start_time": "2022-01-23T03:41:13.060Z"
   },
   {
    "duration": -357,
    "start_time": "2022-01-23T03:41:13.061Z"
   },
   {
    "duration": -356,
    "start_time": "2022-01-23T03:41:13.062Z"
   },
   {
    "duration": -355,
    "start_time": "2022-01-23T03:41:13.062Z"
   },
   {
    "duration": -355,
    "start_time": "2022-01-23T03:41:13.063Z"
   },
   {
    "duration": -295,
    "start_time": "2022-01-23T03:41:13.064Z"
   },
   {
    "duration": -295,
    "start_time": "2022-01-23T03:41:13.065Z"
   },
   {
    "duration": -294,
    "start_time": "2022-01-23T03:41:13.066Z"
   },
   {
    "duration": -294,
    "start_time": "2022-01-23T03:41:13.067Z"
   },
   {
    "duration": -294,
    "start_time": "2022-01-23T03:41:13.068Z"
   },
   {
    "duration": -293,
    "start_time": "2022-01-23T03:41:13.069Z"
   },
   {
    "duration": -292,
    "start_time": "2022-01-23T03:41:13.069Z"
   },
   {
    "duration": -291,
    "start_time": "2022-01-23T03:41:13.070Z"
   },
   {
    "duration": -291,
    "start_time": "2022-01-23T03:41:13.071Z"
   },
   {
    "duration": -291,
    "start_time": "2022-01-23T03:41:13.072Z"
   },
   {
    "duration": -290,
    "start_time": "2022-01-23T03:41:13.073Z"
   },
   {
    "duration": -290,
    "start_time": "2022-01-23T03:41:13.074Z"
   },
   {
    "duration": -289,
    "start_time": "2022-01-23T03:41:13.075Z"
   },
   {
    "duration": -289,
    "start_time": "2022-01-23T03:41:13.076Z"
   },
   {
    "duration": -288,
    "start_time": "2022-01-23T03:41:13.076Z"
   },
   {
    "duration": -287,
    "start_time": "2022-01-23T03:41:13.077Z"
   },
   {
    "duration": -287,
    "start_time": "2022-01-23T03:41:13.078Z"
   },
   {
    "duration": -286,
    "start_time": "2022-01-23T03:41:13.079Z"
   },
   {
    "duration": -286,
    "start_time": "2022-01-23T03:41:13.080Z"
   },
   {
    "duration": -285,
    "start_time": "2022-01-23T03:41:13.081Z"
   },
   {
    "duration": -285,
    "start_time": "2022-01-23T03:41:13.082Z"
   },
   {
    "duration": -285,
    "start_time": "2022-01-23T03:41:13.083Z"
   },
   {
    "duration": -285,
    "start_time": "2022-01-23T03:41:13.084Z"
   },
   {
    "duration": -284,
    "start_time": "2022-01-23T03:41:13.085Z"
   },
   {
    "duration": -284,
    "start_time": "2022-01-23T03:41:13.086Z"
   },
   {
    "duration": -284,
    "start_time": "2022-01-23T03:41:13.087Z"
   },
   {
    "duration": 276,
    "start_time": "2022-01-23T03:43:48.913Z"
   },
   {
    "duration": 54,
    "start_time": "2022-01-23T03:43:53.571Z"
   },
   {
    "duration": 5,
    "start_time": "2022-01-23T03:43:53.627Z"
   },
   {
    "duration": 51,
    "start_time": "2022-01-23T03:43:53.635Z"
   },
   {
    "duration": 30,
    "start_time": "2022-01-23T03:43:53.689Z"
   },
   {
    "duration": 10,
    "start_time": "2022-01-23T03:43:53.721Z"
   },
   {
    "duration": 265,
    "start_time": "2022-01-23T03:43:53.770Z"
   },
   {
    "duration": -187,
    "start_time": "2022-01-23T03:43:54.227Z"
   },
   {
    "duration": -187,
    "start_time": "2022-01-23T03:43:54.229Z"
   },
   {
    "duration": -188,
    "start_time": "2022-01-23T03:43:54.231Z"
   },
   {
    "duration": -188,
    "start_time": "2022-01-23T03:43:54.233Z"
   },
   {
    "duration": -189,
    "start_time": "2022-01-23T03:43:54.235Z"
   },
   {
    "duration": -188,
    "start_time": "2022-01-23T03:43:54.236Z"
   },
   {
    "duration": -189,
    "start_time": "2022-01-23T03:43:54.238Z"
   },
   {
    "duration": -189,
    "start_time": "2022-01-23T03:43:54.240Z"
   },
   {
    "duration": -189,
    "start_time": "2022-01-23T03:43:54.241Z"
   },
   {
    "duration": -189,
    "start_time": "2022-01-23T03:43:54.243Z"
   },
   {
    "duration": -189,
    "start_time": "2022-01-23T03:43:54.244Z"
   },
   {
    "duration": -190,
    "start_time": "2022-01-23T03:43:54.246Z"
   },
   {
    "duration": -189,
    "start_time": "2022-01-23T03:43:54.247Z"
   },
   {
    "duration": -190,
    "start_time": "2022-01-23T03:43:54.249Z"
   },
   {
    "duration": -313,
    "start_time": "2022-01-23T03:43:54.374Z"
   },
   {
    "duration": -365,
    "start_time": "2022-01-23T03:43:54.428Z"
   },
   {
    "duration": -364,
    "start_time": "2022-01-23T03:43:54.429Z"
   },
   {
    "duration": -364,
    "start_time": "2022-01-23T03:43:54.430Z"
   },
   {
    "duration": -363,
    "start_time": "2022-01-23T03:43:54.431Z"
   },
   {
    "duration": -362,
    "start_time": "2022-01-23T03:43:54.431Z"
   },
   {
    "duration": -362,
    "start_time": "2022-01-23T03:43:54.432Z"
   },
   {
    "duration": -362,
    "start_time": "2022-01-23T03:43:54.433Z"
   },
   {
    "duration": -361,
    "start_time": "2022-01-23T03:43:54.434Z"
   },
   {
    "duration": -361,
    "start_time": "2022-01-23T03:43:54.435Z"
   },
   {
    "duration": -361,
    "start_time": "2022-01-23T03:43:54.436Z"
   },
   {
    "duration": -361,
    "start_time": "2022-01-23T03:43:54.437Z"
   },
   {
    "duration": -360,
    "start_time": "2022-01-23T03:43:54.438Z"
   },
   {
    "duration": -360,
    "start_time": "2022-01-23T03:43:54.439Z"
   },
   {
    "duration": -360,
    "start_time": "2022-01-23T03:43:54.440Z"
   },
   {
    "duration": -358,
    "start_time": "2022-01-23T03:43:54.440Z"
   },
   {
    "duration": -358,
    "start_time": "2022-01-23T03:43:54.441Z"
   },
   {
    "duration": -358,
    "start_time": "2022-01-23T03:43:54.442Z"
   },
   {
    "duration": -358,
    "start_time": "2022-01-23T03:43:54.443Z"
   },
   {
    "duration": -357,
    "start_time": "2022-01-23T03:43:54.444Z"
   },
   {
    "duration": -357,
    "start_time": "2022-01-23T03:43:54.445Z"
   },
   {
    "duration": -357,
    "start_time": "2022-01-23T03:43:54.446Z"
   },
   {
    "duration": -357,
    "start_time": "2022-01-23T03:43:54.447Z"
   },
   {
    "duration": -356,
    "start_time": "2022-01-23T03:43:54.447Z"
   },
   {
    "duration": -355,
    "start_time": "2022-01-23T03:43:54.448Z"
   },
   {
    "duration": -355,
    "start_time": "2022-01-23T03:43:54.449Z"
   },
   {
    "duration": -355,
    "start_time": "2022-01-23T03:43:54.450Z"
   },
   {
    "duration": -355,
    "start_time": "2022-01-23T03:43:54.451Z"
   },
   {
    "duration": -354,
    "start_time": "2022-01-23T03:43:54.452Z"
   },
   {
    "duration": -354,
    "start_time": "2022-01-23T03:43:54.453Z"
   },
   {
    "duration": -354,
    "start_time": "2022-01-23T03:43:54.454Z"
   },
   {
    "duration": -353,
    "start_time": "2022-01-23T03:43:54.454Z"
   },
   {
    "duration": -353,
    "start_time": "2022-01-23T03:43:54.455Z"
   },
   {
    "duration": -353,
    "start_time": "2022-01-23T03:43:54.456Z"
   },
   {
    "duration": -352,
    "start_time": "2022-01-23T03:43:54.457Z"
   },
   {
    "duration": -352,
    "start_time": "2022-01-23T03:43:54.458Z"
   },
   {
    "duration": -352,
    "start_time": "2022-01-23T03:43:54.459Z"
   },
   {
    "duration": -352,
    "start_time": "2022-01-23T03:43:54.460Z"
   },
   {
    "duration": -289,
    "start_time": "2022-01-23T03:43:54.460Z"
   },
   {
    "duration": -289,
    "start_time": "2022-01-23T03:43:54.461Z"
   },
   {
    "duration": -288,
    "start_time": "2022-01-23T03:43:54.462Z"
   },
   {
    "duration": -288,
    "start_time": "2022-01-23T03:43:54.463Z"
   },
   {
    "duration": -288,
    "start_time": "2022-01-23T03:43:54.464Z"
   },
   {
    "duration": -288,
    "start_time": "2022-01-23T03:43:54.465Z"
   },
   {
    "duration": -288,
    "start_time": "2022-01-23T03:43:54.466Z"
   },
   {
    "duration": 12,
    "start_time": "2022-01-23T03:44:24.475Z"
   },
   {
    "duration": 271,
    "start_time": "2022-01-23T03:44:27.272Z"
   },
   {
    "duration": 10,
    "start_time": "2022-01-23T03:44:34.912Z"
   },
   {
    "duration": 32,
    "start_time": "2022-01-23T03:44:44.778Z"
   },
   {
    "duration": 54,
    "start_time": "2022-01-23T03:44:49.279Z"
   },
   {
    "duration": 5,
    "start_time": "2022-01-23T03:44:49.336Z"
   },
   {
    "duration": 42,
    "start_time": "2022-01-23T03:44:49.344Z"
   },
   {
    "duration": 31,
    "start_time": "2022-01-23T03:44:49.389Z"
   },
   {
    "duration": 11,
    "start_time": "2022-01-23T03:44:49.423Z"
   },
   {
    "duration": 40,
    "start_time": "2022-01-23T03:44:49.437Z"
   },
   {
    "duration": 33,
    "start_time": "2022-01-23T03:44:49.480Z"
   },
   {
    "duration": 62,
    "start_time": "2022-01-23T03:44:49.515Z"
   },
   {
    "duration": 35,
    "start_time": "2022-01-23T03:44:49.581Z"
   },
   {
    "duration": 51,
    "start_time": "2022-01-23T03:44:49.620Z"
   },
   {
    "duration": 13,
    "start_time": "2022-01-23T03:44:49.673Z"
   },
   {
    "duration": 31,
    "start_time": "2022-01-23T03:44:49.689Z"
   },
   {
    "duration": 13,
    "start_time": "2022-01-23T03:44:49.722Z"
   },
   {
    "duration": 38,
    "start_time": "2022-01-23T03:44:49.738Z"
   },
   {
    "duration": 13,
    "start_time": "2022-01-23T03:44:49.779Z"
   },
   {
    "duration": 13,
    "start_time": "2022-01-23T03:44:49.794Z"
   },
   {
    "duration": 4,
    "start_time": "2022-01-23T03:44:49.810Z"
   },
   {
    "duration": 52,
    "start_time": "2022-01-23T03:44:49.817Z"
   },
   {
    "duration": 17,
    "start_time": "2022-01-23T03:44:49.872Z"
   },
   {
    "duration": 10,
    "start_time": "2022-01-23T03:44:49.891Z"
   },
   {
    "duration": 9,
    "start_time": "2022-01-23T03:44:49.904Z"
   },
   {
    "duration": 65,
    "start_time": "2022-01-23T03:44:49.915Z"
   },
   {
    "duration": 29,
    "start_time": "2022-01-23T03:44:49.982Z"
   },
   {
    "duration": 5,
    "start_time": "2022-01-23T03:44:50.013Z"
   },
   {
    "duration": 20,
    "start_time": "2022-01-23T03:44:50.021Z"
   },
   {
    "duration": 58,
    "start_time": "2022-01-23T03:44:50.044Z"
   },
   {
    "duration": 116,
    "start_time": "2022-01-23T03:44:50.110Z"
   },
   {
    "duration": 6,
    "start_time": "2022-01-23T03:44:50.230Z"
   },
   {
    "duration": 49,
    "start_time": "2022-01-23T03:44:50.239Z"
   },
   {
    "duration": 7,
    "start_time": "2022-01-23T03:44:50.290Z"
   },
   {
    "duration": 7,
    "start_time": "2022-01-23T03:44:50.300Z"
   },
   {
    "duration": 427,
    "start_time": "2022-01-23T03:44:50.310Z"
   },
   {
    "duration": 31,
    "start_time": "2022-01-23T03:44:50.740Z"
   },
   {
    "duration": 31,
    "start_time": "2022-01-23T03:44:50.775Z"
   },
   {
    "duration": 15,
    "start_time": "2022-01-23T03:44:50.809Z"
   },
   {
    "duration": 48,
    "start_time": "2022-01-23T03:44:50.827Z"
   },
   {
    "duration": 18,
    "start_time": "2022-01-23T03:44:50.877Z"
   },
   {
    "duration": 30,
    "start_time": "2022-01-23T03:44:50.897Z"
   },
   {
    "duration": 4,
    "start_time": "2022-01-23T03:44:50.929Z"
   },
   {
    "duration": 8,
    "start_time": "2022-01-23T03:44:50.968Z"
   },
   {
    "duration": 901,
    "start_time": "2022-01-23T03:44:50.978Z"
   },
   {
    "duration": 6,
    "start_time": "2022-01-23T03:44:51.882Z"
   },
   {
    "duration": 27,
    "start_time": "2022-01-23T03:44:51.891Z"
   },
   {
    "duration": 56,
    "start_time": "2022-01-23T03:44:51.921Z"
   },
   {
    "duration": 30,
    "start_time": "2022-01-23T03:44:51.979Z"
   },
   {
    "duration": 4,
    "start_time": "2022-01-23T03:44:52.012Z"
   },
   {
    "duration": 15,
    "start_time": "2022-01-23T03:44:52.018Z"
   },
   {
    "duration": 858,
    "start_time": "2022-01-23T03:44:52.036Z"
   },
   {
    "duration": 7,
    "start_time": "2022-01-23T03:44:52.897Z"
   },
   {
    "duration": 30,
    "start_time": "2022-01-23T03:44:52.906Z"
   },
   {
    "duration": 36,
    "start_time": "2022-01-23T03:44:52.939Z"
   },
   {
    "duration": 4,
    "start_time": "2022-01-23T03:44:52.977Z"
   },
   {
    "duration": 401,
    "start_time": "2022-01-23T03:44:52.983Z"
   },
   {
    "duration": 23,
    "start_time": "2022-01-23T03:44:53.387Z"
   },
   {
    "duration": 5,
    "start_time": "2022-01-23T03:44:53.413Z"
   },
   {
    "duration": 426,
    "start_time": "2022-01-23T03:44:53.420Z"
   },
   {
    "duration": 6,
    "start_time": "2022-01-23T03:44:53.848Z"
   },
   {
    "duration": 26,
    "start_time": "2022-01-23T03:44:53.856Z"
   },
   {
    "duration": 8,
    "start_time": "2022-01-23T03:44:53.884Z"
   },
   {
    "duration": 418,
    "start_time": "2022-01-23T03:44:53.894Z"
   },
   {
    "duration": 12,
    "start_time": "2022-01-23T03:44:54.315Z"
   },
   {
    "duration": 17,
    "start_time": "2022-01-23T03:44:54.329Z"
   },
   {
    "duration": 27,
    "start_time": "2022-01-23T03:44:54.349Z"
   },
   {
    "duration": 10,
    "start_time": "2022-01-23T03:44:54.378Z"
   },
   {
    "duration": 10,
    "start_time": "2022-01-23T03:44:54.390Z"
   },
   {
    "duration": 56,
    "start_time": "2022-01-23T03:54:12.179Z"
   },
   {
    "duration": 5,
    "start_time": "2022-01-23T03:54:12.237Z"
   },
   {
    "duration": 41,
    "start_time": "2022-01-23T03:54:12.245Z"
   },
   {
    "duration": 33,
    "start_time": "2022-01-23T03:54:12.289Z"
   },
   {
    "duration": 11,
    "start_time": "2022-01-23T03:54:12.324Z"
   },
   {
    "duration": 38,
    "start_time": "2022-01-23T03:54:12.338Z"
   },
   {
    "duration": 32,
    "start_time": "2022-01-23T03:54:12.378Z"
   },
   {
    "duration": 24,
    "start_time": "2022-01-23T03:54:12.412Z"
   },
   {
    "duration": 63,
    "start_time": "2022-01-23T03:54:12.440Z"
   },
   {
    "duration": 20,
    "start_time": "2022-01-23T03:54:12.506Z"
   },
   {
    "duration": 43,
    "start_time": "2022-01-23T03:54:12.529Z"
   },
   {
    "duration": 27,
    "start_time": "2022-01-23T03:54:12.574Z"
   },
   {
    "duration": 13,
    "start_time": "2022-01-23T03:54:12.603Z"
   },
   {
    "duration": 10,
    "start_time": "2022-01-23T03:54:12.619Z"
   },
   {
    "duration": 47,
    "start_time": "2022-01-23T03:54:12.632Z"
   },
   {
    "duration": 15,
    "start_time": "2022-01-23T03:54:12.682Z"
   },
   {
    "duration": 5,
    "start_time": "2022-01-23T03:54:12.700Z"
   },
   {
    "duration": 11,
    "start_time": "2022-01-23T03:54:12.708Z"
   },
   {
    "duration": 60,
    "start_time": "2022-01-23T03:54:12.722Z"
   },
   {
    "duration": 11,
    "start_time": "2022-01-23T03:54:12.785Z"
   },
   {
    "duration": 12,
    "start_time": "2022-01-23T03:54:12.798Z"
   },
   {
    "duration": 69,
    "start_time": "2022-01-23T03:54:12.813Z"
   },
   {
    "duration": 32,
    "start_time": "2022-01-23T03:54:12.885Z"
   },
   {
    "duration": 7,
    "start_time": "2022-01-23T03:54:12.920Z"
   },
   {
    "duration": 48,
    "start_time": "2022-01-23T03:54:12.929Z"
   },
   {
    "duration": 30,
    "start_time": "2022-01-23T03:54:12.979Z"
   },
   {
    "duration": 112,
    "start_time": "2022-01-23T03:54:13.015Z"
   },
   {
    "duration": 4,
    "start_time": "2022-01-23T03:54:13.131Z"
   },
   {
    "duration": 42,
    "start_time": "2022-01-23T03:54:13.137Z"
   },
   {
    "duration": 5,
    "start_time": "2022-01-23T03:54:13.181Z"
   },
   {
    "duration": 7,
    "start_time": "2022-01-23T03:54:13.188Z"
   },
   {
    "duration": 395,
    "start_time": "2022-01-23T03:54:13.198Z"
   },
   {
    "duration": 21,
    "start_time": "2022-01-23T03:54:13.596Z"
   },
   {
    "duration": 52,
    "start_time": "2022-01-23T03:54:13.619Z"
   },
   {
    "duration": 11,
    "start_time": "2022-01-23T03:54:13.674Z"
   },
   {
    "duration": 11,
    "start_time": "2022-01-23T03:54:13.689Z"
   },
   {
    "duration": 21,
    "start_time": "2022-01-23T03:54:13.703Z"
   },
   {
    "duration": 72,
    "start_time": "2022-01-23T03:54:13.726Z"
   },
   {
    "duration": 4,
    "start_time": "2022-01-23T03:54:13.800Z"
   },
   {
    "duration": 10,
    "start_time": "2022-01-23T03:54:13.806Z"
   },
   {
    "duration": 869,
    "start_time": "2022-01-23T03:54:13.819Z"
   },
   {
    "duration": 6,
    "start_time": "2022-01-23T03:54:14.690Z"
   },
   {
    "duration": 17,
    "start_time": "2022-01-23T03:54:14.698Z"
   },
   {
    "duration": 58,
    "start_time": "2022-01-23T03:54:14.718Z"
   },
   {
    "duration": 30,
    "start_time": "2022-01-23T03:54:14.778Z"
   },
   {
    "duration": 5,
    "start_time": "2022-01-23T03:54:14.810Z"
   },
   {
    "duration": 9,
    "start_time": "2022-01-23T03:54:14.817Z"
   },
   {
    "duration": 862,
    "start_time": "2022-01-23T03:54:14.828Z"
   },
   {
    "duration": 7,
    "start_time": "2022-01-23T03:54:15.692Z"
   },
   {
    "duration": 29,
    "start_time": "2022-01-23T03:54:15.702Z"
   },
   {
    "duration": 39,
    "start_time": "2022-01-23T03:54:15.733Z"
   },
   {
    "duration": 4,
    "start_time": "2022-01-23T03:54:15.775Z"
   },
   {
    "duration": 391,
    "start_time": "2022-01-23T03:54:15.782Z"
   },
   {
    "duration": 26,
    "start_time": "2022-01-23T03:54:16.175Z"
   },
   {
    "duration": 5,
    "start_time": "2022-01-23T03:54:16.203Z"
   },
   {
    "duration": 424,
    "start_time": "2022-01-23T03:54:16.211Z"
   },
   {
    "duration": 7,
    "start_time": "2022-01-23T03:54:16.638Z"
   },
   {
    "duration": 28,
    "start_time": "2022-01-23T03:54:16.647Z"
   },
   {
    "duration": 4,
    "start_time": "2022-01-23T03:54:16.678Z"
   },
   {
    "duration": 420,
    "start_time": "2022-01-23T03:54:16.684Z"
   },
   {
    "duration": 9,
    "start_time": "2022-01-23T03:54:17.106Z"
   },
   {
    "duration": 16,
    "start_time": "2022-01-23T03:54:17.118Z"
   },
   {
    "duration": 35,
    "start_time": "2022-01-23T03:54:17.136Z"
   },
   {
    "duration": 11,
    "start_time": "2022-01-23T03:54:17.173Z"
   },
   {
    "duration": 10,
    "start_time": "2022-01-23T03:54:17.186Z"
   },
   {
    "duration": 91,
    "start_time": "2022-01-23T07:16:14.990Z"
   }
  ],
  "kernelspec": {
   "display_name": "Python 3",
   "language": "python",
   "name": "python3"
  },
  "language_info": {
   "codemirror_mode": {
    "name": "ipython",
    "version": 3
   },
   "file_extension": ".py",
   "mimetype": "text/x-python",
   "name": "python",
   "nbconvert_exporter": "python",
   "pygments_lexer": "ipython3",
   "version": "3.7.8"
  },
  "toc": {
   "base_numbering": 1,
   "nav_menu": {},
   "number_sections": true,
   "sideBar": true,
   "skip_h1_title": true,
   "title_cell": "Table of Contents",
   "title_sidebar": "Contents",
   "toc_cell": false,
   "toc_position": {},
   "toc_section_display": true,
   "toc_window_display": false
  }
 },
 "nbformat": 4,
 "nbformat_minor": 2
}
