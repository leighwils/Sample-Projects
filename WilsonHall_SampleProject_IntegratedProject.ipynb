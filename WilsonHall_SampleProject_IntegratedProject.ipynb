{
 "cells": [
  {
   "cell_type": "markdown",
   "metadata": {},
   "source": [
    "# What impacts video game sales?\n",
    "\n",
    "**Project Goal and Description**\n",
    "The online store Ice sells video games all over the world and is planning an ad campaign for 2017. The goal of this project is to determine what factors influence the success of particular games. Potential factors include expert reviews, user reviews, genres, platforms and regions. \n",
    "\n",
    "**Project Plan**\n",
    "This project will entail the following:\n",
    "* Preparing the data for analysis, including checking for missing values, duplicates, appropriate data types, and conduct initial calculations (ex. total sales)\n",
    "* Analyze data to get an initial view of game performance, including the number of games released in different years, sales across games and genre, sales across platforms, and sale performance over time.\n",
    "* Determine sale performance, top platforms and top genres across regions. \n",
    "* Test the following hypotheses: \n",
    "    * Average user ratings of the Xbox One and PC platforms are the same.\n",
    "    * Average user ratings for the Action and Sports genres are different.\n"
   ]
  },
  {
   "cell_type": "markdown",
   "metadata": {},
   "source": [
    "## Initialization "
   ]
  },
  {
   "cell_type": "code",
   "execution_count": 1,
   "metadata": {},
   "outputs": [],
   "source": [
    "# Loads all the libraries needed for analysis \n",
    "\n",
    "import pandas as pd\n",
    "import numpy as np\n",
    "import matplotlib.pyplot as plt\n",
    "import seaborn as sns\n",
    "import math\n",
    "from scipy import stats as st\n",
    "import sys\n",
    "import warnings\n",
    "if not sys.warnoptions:\n",
    "        warnings.simplefilter(\"ignore\");  \n",
    "from matplotlib.axes._axes import _log as matplotlib_axes_logger\n",
    "matplotlib_axes_logger.setLevel('ERROR')"
   ]
  },
  {
   "cell_type": "markdown",
   "metadata": {},
   "source": [
    "## Load data "
   ]
  },
  {
   "cell_type": "code",
   "execution_count": 2,
   "metadata": {},
   "outputs": [],
   "source": [
    "# Loads the data files into DataFrames\n",
    "game_data = pd.read_csv('/datasets/games.csv')"
   ]
  },
  {
   "cell_type": "markdown",
   "metadata": {},
   "source": [
    "## Prepare data\n",
    "\n",
    "This is a summary of how the data was prepared for analysis, as executed below: \n",
    "\n",
    "* **Duplicates**: \n",
    "    * There are no duplicate rows in the dataframe.\n",
    "    * There were no implicit duplicates that needed to be fixed within the columns. \n",
    "* **Column Names**: The column names were changed to all lower case letters to be easier to read and analyze.\n",
    "* **Data Types**: \n",
    "    * The datatypes were changed for year of release (to float) and user score (to float). \n",
    "    * 14% of rows in the user score column are marked as \"tbd\". These rows have a similar distribution of data as the rest of the data set, including across years. My hypothesis is that these are games that are not yet rated, I replaced 'tbd' with an empty string, so that I could convert this column to a float type.\n",
    "* **Missing Data** \n",
    "    * Rows with missing data in name, genre (only two rows) and year of release (1.6% of rows) were dropped. These rows were evenly distributed throughout the data and removing them did not impact the analysis. I took a look at the rows with missing data to identify any patterns, but the rows were evenly distributed throughout the data, indicating that they were most likely null due to input error. \n",
    "    * Missing data in the critic score and user score columns was filled in the with the median scores according to platform and genre.\n",
    "    * Missing data in the ratings column was replaced with 'not rated'.\n",
    "* **Adding Total Sales**\n",
    "    * Total sales across all regions per game was added to the table.\n"
   ]
  },
  {
   "cell_type": "markdown",
   "metadata": {},
   "source": [
    "### Gather initial view of the data"
   ]
  },
  {
   "cell_type": "code",
   "execution_count": 3,
   "metadata": {},
   "outputs": [
    {
     "name": "stdout",
     "output_type": "stream",
     "text": [
      "<class 'pandas.core.frame.DataFrame'>\n",
      "RangeIndex: 16715 entries, 0 to 16714\n",
      "Data columns (total 11 columns):\n",
      " #   Column           Non-Null Count  Dtype  \n",
      "---  ------           --------------  -----  \n",
      " 0   Name             16713 non-null  object \n",
      " 1   Platform         16715 non-null  object \n",
      " 2   Year_of_Release  16446 non-null  float64\n",
      " 3   Genre            16713 non-null  object \n",
      " 4   NA_sales         16715 non-null  float64\n",
      " 5   EU_sales         16715 non-null  float64\n",
      " 6   JP_sales         16715 non-null  float64\n",
      " 7   Other_sales      16715 non-null  float64\n",
      " 8   Critic_Score     8137 non-null   float64\n",
      " 9   User_Score       10014 non-null  object \n",
      " 10  Rating           9949 non-null   object \n",
      "dtypes: float64(6), object(5)\n",
      "memory usage: 1.4+ MB\n"
     ]
    },
    {
     "data": {
      "text/plain": [
       "Name                0.011965\n",
       "Platform            0.000000\n",
       "Year_of_Release     1.609333\n",
       "Genre               0.011965\n",
       "NA_sales            0.000000\n",
       "EU_sales            0.000000\n",
       "JP_sales            0.000000\n",
       "Other_sales         0.000000\n",
       "Critic_Score       51.319174\n",
       "User_Score         40.089740\n",
       "Rating             40.478612\n",
       "dtype: float64"
      ]
     },
     "execution_count": 3,
     "metadata": {},
     "output_type": "execute_result"
    }
   ],
   "source": [
    "# Print the general/summary information about the data\n",
    "\n",
    "game_data.shape\n",
    "\n",
    "game_data.info()\n",
    "\n",
    "game_data.isnull().sum()\n",
    "\n",
    "game_data.isnull().sum() / len(game_data) * 100"
   ]
  },
  {
   "cell_type": "code",
   "execution_count": 4,
   "metadata": {},
   "outputs": [
    {
     "data": {
      "text/html": [
       "<div>\n",
       "<style scoped>\n",
       "    .dataframe tbody tr th:only-of-type {\n",
       "        vertical-align: middle;\n",
       "    }\n",
       "\n",
       "    .dataframe tbody tr th {\n",
       "        vertical-align: top;\n",
       "    }\n",
       "\n",
       "    .dataframe thead th {\n",
       "        text-align: right;\n",
       "    }\n",
       "</style>\n",
       "<table border=\"1\" class=\"dataframe\">\n",
       "  <thead>\n",
       "    <tr style=\"text-align: right;\">\n",
       "      <th></th>\n",
       "      <th>Name</th>\n",
       "      <th>Platform</th>\n",
       "      <th>Year_of_Release</th>\n",
       "      <th>Genre</th>\n",
       "      <th>NA_sales</th>\n",
       "      <th>EU_sales</th>\n",
       "      <th>JP_sales</th>\n",
       "      <th>Other_sales</th>\n",
       "      <th>Critic_Score</th>\n",
       "      <th>User_Score</th>\n",
       "      <th>Rating</th>\n",
       "    </tr>\n",
       "  </thead>\n",
       "  <tbody>\n",
       "    <tr>\n",
       "      <th>0</th>\n",
       "      <td>Wii Sports</td>\n",
       "      <td>Wii</td>\n",
       "      <td>2006.0</td>\n",
       "      <td>Sports</td>\n",
       "      <td>41.36</td>\n",
       "      <td>28.96</td>\n",
       "      <td>3.77</td>\n",
       "      <td>8.45</td>\n",
       "      <td>76.0</td>\n",
       "      <td>8</td>\n",
       "      <td>E</td>\n",
       "    </tr>\n",
       "    <tr>\n",
       "      <th>1</th>\n",
       "      <td>Super Mario Bros.</td>\n",
       "      <td>NES</td>\n",
       "      <td>1985.0</td>\n",
       "      <td>Platform</td>\n",
       "      <td>29.08</td>\n",
       "      <td>3.58</td>\n",
       "      <td>6.81</td>\n",
       "      <td>0.77</td>\n",
       "      <td>NaN</td>\n",
       "      <td>NaN</td>\n",
       "      <td>NaN</td>\n",
       "    </tr>\n",
       "    <tr>\n",
       "      <th>2</th>\n",
       "      <td>Mario Kart Wii</td>\n",
       "      <td>Wii</td>\n",
       "      <td>2008.0</td>\n",
       "      <td>Racing</td>\n",
       "      <td>15.68</td>\n",
       "      <td>12.76</td>\n",
       "      <td>3.79</td>\n",
       "      <td>3.29</td>\n",
       "      <td>82.0</td>\n",
       "      <td>8.3</td>\n",
       "      <td>E</td>\n",
       "    </tr>\n",
       "    <tr>\n",
       "      <th>3</th>\n",
       "      <td>Wii Sports Resort</td>\n",
       "      <td>Wii</td>\n",
       "      <td>2009.0</td>\n",
       "      <td>Sports</td>\n",
       "      <td>15.61</td>\n",
       "      <td>10.93</td>\n",
       "      <td>3.28</td>\n",
       "      <td>2.95</td>\n",
       "      <td>80.0</td>\n",
       "      <td>8</td>\n",
       "      <td>E</td>\n",
       "    </tr>\n",
       "    <tr>\n",
       "      <th>4</th>\n",
       "      <td>Pokemon Red/Pokemon Blue</td>\n",
       "      <td>GB</td>\n",
       "      <td>1996.0</td>\n",
       "      <td>Role-Playing</td>\n",
       "      <td>11.27</td>\n",
       "      <td>8.89</td>\n",
       "      <td>10.22</td>\n",
       "      <td>1.00</td>\n",
       "      <td>NaN</td>\n",
       "      <td>NaN</td>\n",
       "      <td>NaN</td>\n",
       "    </tr>\n",
       "  </tbody>\n",
       "</table>\n",
       "</div>"
      ],
      "text/plain": [
       "                       Name Platform  Year_of_Release         Genre  NA_sales  \\\n",
       "0                Wii Sports      Wii           2006.0        Sports     41.36   \n",
       "1         Super Mario Bros.      NES           1985.0      Platform     29.08   \n",
       "2            Mario Kart Wii      Wii           2008.0        Racing     15.68   \n",
       "3         Wii Sports Resort      Wii           2009.0        Sports     15.61   \n",
       "4  Pokemon Red/Pokemon Blue       GB           1996.0  Role-Playing     11.27   \n",
       "\n",
       "   EU_sales  JP_sales  Other_sales  Critic_Score User_Score Rating  \n",
       "0     28.96      3.77         8.45          76.0          8      E  \n",
       "1      3.58      6.81         0.77           NaN        NaN    NaN  \n",
       "2     12.76      3.79         3.29          82.0        8.3      E  \n",
       "3     10.93      3.28         2.95          80.0          8      E  \n",
       "4      8.89     10.22         1.00           NaN        NaN    NaN  "
      ]
     },
     "execution_count": 4,
     "metadata": {},
     "output_type": "execute_result"
    }
   ],
   "source": [
    "# Print a sample of data for plans\n",
    "\n",
    "game_data.head()"
   ]
  },
  {
   "cell_type": "code",
   "execution_count": 5,
   "metadata": {},
   "outputs": [
    {
     "data": {
      "text/html": [
       "<div>\n",
       "<style scoped>\n",
       "    .dataframe tbody tr th:only-of-type {\n",
       "        vertical-align: middle;\n",
       "    }\n",
       "\n",
       "    .dataframe tbody tr th {\n",
       "        vertical-align: top;\n",
       "    }\n",
       "\n",
       "    .dataframe thead th {\n",
       "        text-align: right;\n",
       "    }\n",
       "</style>\n",
       "<table border=\"1\" class=\"dataframe\">\n",
       "  <thead>\n",
       "    <tr style=\"text-align: right;\">\n",
       "      <th></th>\n",
       "      <th>Year_of_Release</th>\n",
       "      <th>NA_sales</th>\n",
       "      <th>EU_sales</th>\n",
       "      <th>JP_sales</th>\n",
       "      <th>Other_sales</th>\n",
       "      <th>Critic_Score</th>\n",
       "    </tr>\n",
       "  </thead>\n",
       "  <tbody>\n",
       "    <tr>\n",
       "      <th>count</th>\n",
       "      <td>16446.000000</td>\n",
       "      <td>16715.000000</td>\n",
       "      <td>16715.000000</td>\n",
       "      <td>16715.000000</td>\n",
       "      <td>16715.000000</td>\n",
       "      <td>8137.000000</td>\n",
       "    </tr>\n",
       "    <tr>\n",
       "      <th>mean</th>\n",
       "      <td>2006.484616</td>\n",
       "      <td>0.263377</td>\n",
       "      <td>0.145060</td>\n",
       "      <td>0.077617</td>\n",
       "      <td>0.047342</td>\n",
       "      <td>68.967679</td>\n",
       "    </tr>\n",
       "    <tr>\n",
       "      <th>std</th>\n",
       "      <td>5.877050</td>\n",
       "      <td>0.813604</td>\n",
       "      <td>0.503339</td>\n",
       "      <td>0.308853</td>\n",
       "      <td>0.186731</td>\n",
       "      <td>13.938165</td>\n",
       "    </tr>\n",
       "    <tr>\n",
       "      <th>min</th>\n",
       "      <td>1980.000000</td>\n",
       "      <td>0.000000</td>\n",
       "      <td>0.000000</td>\n",
       "      <td>0.000000</td>\n",
       "      <td>0.000000</td>\n",
       "      <td>13.000000</td>\n",
       "    </tr>\n",
       "    <tr>\n",
       "      <th>25%</th>\n",
       "      <td>2003.000000</td>\n",
       "      <td>0.000000</td>\n",
       "      <td>0.000000</td>\n",
       "      <td>0.000000</td>\n",
       "      <td>0.000000</td>\n",
       "      <td>60.000000</td>\n",
       "    </tr>\n",
       "    <tr>\n",
       "      <th>50%</th>\n",
       "      <td>2007.000000</td>\n",
       "      <td>0.080000</td>\n",
       "      <td>0.020000</td>\n",
       "      <td>0.000000</td>\n",
       "      <td>0.010000</td>\n",
       "      <td>71.000000</td>\n",
       "    </tr>\n",
       "    <tr>\n",
       "      <th>75%</th>\n",
       "      <td>2010.000000</td>\n",
       "      <td>0.240000</td>\n",
       "      <td>0.110000</td>\n",
       "      <td>0.040000</td>\n",
       "      <td>0.030000</td>\n",
       "      <td>79.000000</td>\n",
       "    </tr>\n",
       "    <tr>\n",
       "      <th>max</th>\n",
       "      <td>2016.000000</td>\n",
       "      <td>41.360000</td>\n",
       "      <td>28.960000</td>\n",
       "      <td>10.220000</td>\n",
       "      <td>10.570000</td>\n",
       "      <td>98.000000</td>\n",
       "    </tr>\n",
       "  </tbody>\n",
       "</table>\n",
       "</div>"
      ],
      "text/plain": [
       "       Year_of_Release      NA_sales      EU_sales      JP_sales  \\\n",
       "count     16446.000000  16715.000000  16715.000000  16715.000000   \n",
       "mean       2006.484616      0.263377      0.145060      0.077617   \n",
       "std           5.877050      0.813604      0.503339      0.308853   \n",
       "min        1980.000000      0.000000      0.000000      0.000000   \n",
       "25%        2003.000000      0.000000      0.000000      0.000000   \n",
       "50%        2007.000000      0.080000      0.020000      0.000000   \n",
       "75%        2010.000000      0.240000      0.110000      0.040000   \n",
       "max        2016.000000     41.360000     28.960000     10.220000   \n",
       "\n",
       "        Other_sales  Critic_Score  \n",
       "count  16715.000000   8137.000000  \n",
       "mean       0.047342     68.967679  \n",
       "std        0.186731     13.938165  \n",
       "min        0.000000     13.000000  \n",
       "25%        0.000000     60.000000  \n",
       "50%        0.010000     71.000000  \n",
       "75%        0.030000     79.000000  \n",
       "max       10.570000     98.000000  "
      ]
     },
     "execution_count": 5,
     "metadata": {},
     "output_type": "execute_result"
    }
   ],
   "source": [
    "# Get summary of descriptive stats \n",
    "\n",
    "game_data.describe()"
   ]
  },
  {
   "cell_type": "markdown",
   "metadata": {},
   "source": [
    "### Change column names to lower case "
   ]
  },
  {
   "cell_type": "code",
   "execution_count": 6,
   "metadata": {},
   "outputs": [
    {
     "data": {
      "text/html": [
       "<div>\n",
       "<style scoped>\n",
       "    .dataframe tbody tr th:only-of-type {\n",
       "        vertical-align: middle;\n",
       "    }\n",
       "\n",
       "    .dataframe tbody tr th {\n",
       "        vertical-align: top;\n",
       "    }\n",
       "\n",
       "    .dataframe thead th {\n",
       "        text-align: right;\n",
       "    }\n",
       "</style>\n",
       "<table border=\"1\" class=\"dataframe\">\n",
       "  <thead>\n",
       "    <tr style=\"text-align: right;\">\n",
       "      <th></th>\n",
       "      <th>name</th>\n",
       "      <th>platform</th>\n",
       "      <th>year_of_release</th>\n",
       "      <th>genre</th>\n",
       "      <th>na_sales</th>\n",
       "      <th>eu_sales</th>\n",
       "      <th>jp_sales</th>\n",
       "      <th>other_sales</th>\n",
       "      <th>critic_score</th>\n",
       "      <th>user_score</th>\n",
       "      <th>rating</th>\n",
       "    </tr>\n",
       "  </thead>\n",
       "  <tbody>\n",
       "    <tr>\n",
       "      <th>0</th>\n",
       "      <td>Wii Sports</td>\n",
       "      <td>Wii</td>\n",
       "      <td>2006.0</td>\n",
       "      <td>Sports</td>\n",
       "      <td>41.36</td>\n",
       "      <td>28.96</td>\n",
       "      <td>3.77</td>\n",
       "      <td>8.45</td>\n",
       "      <td>76.0</td>\n",
       "      <td>8</td>\n",
       "      <td>E</td>\n",
       "    </tr>\n",
       "    <tr>\n",
       "      <th>1</th>\n",
       "      <td>Super Mario Bros.</td>\n",
       "      <td>NES</td>\n",
       "      <td>1985.0</td>\n",
       "      <td>Platform</td>\n",
       "      <td>29.08</td>\n",
       "      <td>3.58</td>\n",
       "      <td>6.81</td>\n",
       "      <td>0.77</td>\n",
       "      <td>NaN</td>\n",
       "      <td>NaN</td>\n",
       "      <td>NaN</td>\n",
       "    </tr>\n",
       "    <tr>\n",
       "      <th>2</th>\n",
       "      <td>Mario Kart Wii</td>\n",
       "      <td>Wii</td>\n",
       "      <td>2008.0</td>\n",
       "      <td>Racing</td>\n",
       "      <td>15.68</td>\n",
       "      <td>12.76</td>\n",
       "      <td>3.79</td>\n",
       "      <td>3.29</td>\n",
       "      <td>82.0</td>\n",
       "      <td>8.3</td>\n",
       "      <td>E</td>\n",
       "    </tr>\n",
       "    <tr>\n",
       "      <th>3</th>\n",
       "      <td>Wii Sports Resort</td>\n",
       "      <td>Wii</td>\n",
       "      <td>2009.0</td>\n",
       "      <td>Sports</td>\n",
       "      <td>15.61</td>\n",
       "      <td>10.93</td>\n",
       "      <td>3.28</td>\n",
       "      <td>2.95</td>\n",
       "      <td>80.0</td>\n",
       "      <td>8</td>\n",
       "      <td>E</td>\n",
       "    </tr>\n",
       "    <tr>\n",
       "      <th>4</th>\n",
       "      <td>Pokemon Red/Pokemon Blue</td>\n",
       "      <td>GB</td>\n",
       "      <td>1996.0</td>\n",
       "      <td>Role-Playing</td>\n",
       "      <td>11.27</td>\n",
       "      <td>8.89</td>\n",
       "      <td>10.22</td>\n",
       "      <td>1.00</td>\n",
       "      <td>NaN</td>\n",
       "      <td>NaN</td>\n",
       "      <td>NaN</td>\n",
       "    </tr>\n",
       "  </tbody>\n",
       "</table>\n",
       "</div>"
      ],
      "text/plain": [
       "                       name platform  year_of_release         genre  na_sales  \\\n",
       "0                Wii Sports      Wii           2006.0        Sports     41.36   \n",
       "1         Super Mario Bros.      NES           1985.0      Platform     29.08   \n",
       "2            Mario Kart Wii      Wii           2008.0        Racing     15.68   \n",
       "3         Wii Sports Resort      Wii           2009.0        Sports     15.61   \n",
       "4  Pokemon Red/Pokemon Blue       GB           1996.0  Role-Playing     11.27   \n",
       "\n",
       "   eu_sales  jp_sales  other_sales  critic_score user_score rating  \n",
       "0     28.96      3.77         8.45          76.0          8      E  \n",
       "1      3.58      6.81         0.77           NaN        NaN    NaN  \n",
       "2     12.76      3.79         3.29          82.0        8.3      E  \n",
       "3     10.93      3.28         2.95          80.0          8      E  \n",
       "4      8.89     10.22         1.00           NaN        NaN    NaN  "
      ]
     },
     "execution_count": 6,
     "metadata": {},
     "output_type": "execute_result"
    }
   ],
   "source": [
    "# Change column names to lower case\n",
    "\n",
    "game_data.columns= game_data.columns.str.lower()\n",
    "\n",
    "game_data.head()"
   ]
  },
  {
   "cell_type": "markdown",
   "metadata": {},
   "source": [
    "### Check of duplicate rows "
   ]
  },
  {
   "cell_type": "code",
   "execution_count": 7,
   "metadata": {},
   "outputs": [
    {
     "data": {
      "text/plain": [
       "0"
      ]
     },
     "execution_count": 7,
     "metadata": {},
     "output_type": "execute_result"
    }
   ],
   "source": [
    "game_data.duplicated().sum()"
   ]
  },
  {
   "cell_type": "markdown",
   "metadata": {},
   "source": [
    "### Clean up data in specific columns"
   ]
  },
  {
   "cell_type": "markdown",
   "metadata": {},
   "source": [
    "#### Platform"
   ]
  },
  {
   "cell_type": "code",
   "execution_count": 8,
   "metadata": {},
   "outputs": [
    {
     "data": {
      "text/plain": [
       "['2600',\n",
       " '3DO',\n",
       " '3DS',\n",
       " 'DC',\n",
       " 'DS',\n",
       " 'GB',\n",
       " 'GBA',\n",
       " 'GC',\n",
       " 'GEN',\n",
       " 'GG',\n",
       " 'N64',\n",
       " 'NES',\n",
       " 'NG',\n",
       " 'PC',\n",
       " 'PCFX',\n",
       " 'PS',\n",
       " 'PS2',\n",
       " 'PS3',\n",
       " 'PS4',\n",
       " 'PSP',\n",
       " 'PSV',\n",
       " 'SAT',\n",
       " 'SCD',\n",
       " 'SNES',\n",
       " 'TG16',\n",
       " 'WS',\n",
       " 'Wii',\n",
       " 'WiiU',\n",
       " 'X360',\n",
       " 'XB',\n",
       " 'XOne']"
      ]
     },
     "execution_count": 8,
     "metadata": {},
     "output_type": "execute_result"
    }
   ],
   "source": [
    "# Determine unique values\n",
    "\n",
    "sorted(game_data.platform.unique())"
   ]
  },
  {
   "cell_type": "code",
   "execution_count": 9,
   "metadata": {},
   "outputs": [],
   "source": [
    "# Create platform categories \n",
    "\n",
    "def platform(row): # Creates a function that replaces the values in the column condition with values \n",
    "    platform = row['platform']\n",
    "    if 'PC' in platform:\n",
    "        return 'PC'\n",
    "    elif '3D' in platform:\n",
    "        return '3D'\n",
    "    elif 'PC' in platform:\n",
    "        return 'PC'\n",
    "    elif 'PS' in platform:\n",
    "        return 'PS'\n",
    "    elif 'GB' in platform:\n",
    "        return 'GB'\n",
    "    elif 'X' in platform:\n",
    "        return 'XBox'\n",
    "    elif 'DS' in platform:\n",
    "        return 'DS'\n",
    "    elif 'Wii' in platform:\n",
    "        return 'Wii'\n",
    "    else:\n",
    "        return platform"
   ]
  },
  {
   "cell_type": "code",
   "execution_count": 10,
   "metadata": {},
   "outputs": [
    {
     "name": "stdout",
     "output_type": "stream",
     "text": [
      "PS\n"
     ]
    }
   ],
   "source": [
    "# Tests the function\n",
    "\n",
    "row_values = ['XPS'] # Creates a list that indicates row value\n",
    "row_columns = ['platform'] # Creates list that indicates column name\n",
    "\n",
    "row = pd.Series(data=row_values, index=row_columns) # Creates a new row with the above values\n",
    "\n",
    "print(platform(row)) # Passes the row through the function\n"
   ]
  },
  {
   "cell_type": "code",
   "execution_count": 11,
   "metadata": {},
   "outputs": [],
   "source": [
    "# Pass the function\n",
    "game_data['platform_cat'] = game_data.apply(platform, axis=1)"
   ]
  },
  {
   "cell_type": "code",
   "execution_count": 12,
   "metadata": {},
   "outputs": [
    {
     "data": {
      "text/plain": [
       "array(['Wii', 'NES', 'GB', 'DS', 'XBox', 'PS', 'SNES', '3D', 'N64', 'PC',\n",
       "       '2600', 'GC', 'GEN', 'DC', 'SAT', 'SCD', 'WS', 'NG', 'TG16', 'GG'],\n",
       "      dtype=object)"
      ]
     },
     "execution_count": 12,
     "metadata": {},
     "output_type": "execute_result"
    }
   ],
   "source": [
    "# Make sure platform category was added \n",
    "\n",
    "game_data.head()\n",
    "\n",
    "game_data['platform_cat'].unique()"
   ]
  },
  {
   "cell_type": "code",
   "execution_count": 13,
   "metadata": {},
   "outputs": [],
   "source": [
    "# Trying out the use of np.where function \n",
    "\n",
    "# game_data['platform_cat2'] = np.where('PC' in game_data['platform'], 'PC', np.where('3D' in game_data['platform'], '3D', 'Other'))\n",
    "\n",
    "# game_data.head()\n"
   ]
  },
  {
   "cell_type": "markdown",
   "metadata": {},
   "source": [
    "#### Name and genre\n",
    "\n",
    "* There are two rows that are missing both the name and the genre. Without the ability to know how to fill in these missing data, I dropped these columns. Since it is only two rows, it will not impact our analysis. "
   ]
  },
  {
   "cell_type": "code",
   "execution_count": 14,
   "metadata": {},
   "outputs": [
    {
     "data": {
      "text/plain": [
       "array(['Wii Sports', 'Super Mario Bros.', 'Mario Kart Wii', ...,\n",
       "       'Woody Woodpecker in Crazy Castle 5', 'LMA Manager 2007',\n",
       "       'Haitaka no Psychedelica'], dtype=object)"
      ]
     },
     "execution_count": 14,
     "metadata": {},
     "output_type": "execute_result"
    }
   ],
   "source": [
    "# Determine unique values\n",
    "\n",
    "game_data.name.unique()"
   ]
  },
  {
   "cell_type": "code",
   "execution_count": 15,
   "metadata": {},
   "outputs": [
    {
     "data": {
      "text/plain": [
       "array(['Sports', 'Platform', 'Racing', 'Role-Playing', 'Puzzle', 'Misc',\n",
       "       'Shooter', 'Simulation', 'Action', 'Fighting', 'Adventure',\n",
       "       'Strategy', nan], dtype=object)"
      ]
     },
     "execution_count": 15,
     "metadata": {},
     "output_type": "execute_result"
    }
   ],
   "source": [
    "# Determine unique values\n",
    "\n",
    "game_data.genre.unique()"
   ]
  },
  {
   "cell_type": "code",
   "execution_count": 16,
   "metadata": {},
   "outputs": [
    {
     "data": {
      "text/html": [
       "<div>\n",
       "<style scoped>\n",
       "    .dataframe tbody tr th:only-of-type {\n",
       "        vertical-align: middle;\n",
       "    }\n",
       "\n",
       "    .dataframe tbody tr th {\n",
       "        vertical-align: top;\n",
       "    }\n",
       "\n",
       "    .dataframe thead th {\n",
       "        text-align: right;\n",
       "    }\n",
       "</style>\n",
       "<table border=\"1\" class=\"dataframe\">\n",
       "  <thead>\n",
       "    <tr style=\"text-align: right;\">\n",
       "      <th></th>\n",
       "      <th>name</th>\n",
       "      <th>platform</th>\n",
       "      <th>year_of_release</th>\n",
       "      <th>genre</th>\n",
       "      <th>na_sales</th>\n",
       "      <th>eu_sales</th>\n",
       "      <th>jp_sales</th>\n",
       "      <th>other_sales</th>\n",
       "      <th>critic_score</th>\n",
       "      <th>user_score</th>\n",
       "      <th>rating</th>\n",
       "      <th>platform_cat</th>\n",
       "    </tr>\n",
       "  </thead>\n",
       "  <tbody>\n",
       "    <tr>\n",
       "      <th>659</th>\n",
       "      <td>NaN</td>\n",
       "      <td>GEN</td>\n",
       "      <td>1993.0</td>\n",
       "      <td>NaN</td>\n",
       "      <td>1.78</td>\n",
       "      <td>0.53</td>\n",
       "      <td>0.00</td>\n",
       "      <td>0.08</td>\n",
       "      <td>NaN</td>\n",
       "      <td>NaN</td>\n",
       "      <td>NaN</td>\n",
       "      <td>GEN</td>\n",
       "    </tr>\n",
       "    <tr>\n",
       "      <th>14244</th>\n",
       "      <td>NaN</td>\n",
       "      <td>GEN</td>\n",
       "      <td>1993.0</td>\n",
       "      <td>NaN</td>\n",
       "      <td>0.00</td>\n",
       "      <td>0.00</td>\n",
       "      <td>0.03</td>\n",
       "      <td>0.00</td>\n",
       "      <td>NaN</td>\n",
       "      <td>NaN</td>\n",
       "      <td>NaN</td>\n",
       "      <td>GEN</td>\n",
       "    </tr>\n",
       "  </tbody>\n",
       "</table>\n",
       "</div>"
      ],
      "text/plain": [
       "      name platform  year_of_release genre  na_sales  eu_sales  jp_sales  \\\n",
       "659    NaN      GEN           1993.0   NaN      1.78      0.53      0.00   \n",
       "14244  NaN      GEN           1993.0   NaN      0.00      0.00      0.03   \n",
       "\n",
       "       other_sales  critic_score user_score rating platform_cat  \n",
       "659           0.08           NaN        NaN    NaN          GEN  \n",
       "14244         0.00           NaN        NaN    NaN          GEN  "
      ]
     },
     "execution_count": 16,
     "metadata": {},
     "output_type": "execute_result"
    }
   ],
   "source": [
    "# Pull out rows where there is missing data in the column 'name'\n",
    "\n",
    "game_name_na = game_data.loc[game_data['name'].isna()]\n",
    "\n",
    "game_name_na"
   ]
  },
  {
   "cell_type": "code",
   "execution_count": 17,
   "metadata": {},
   "outputs": [
    {
     "name": "stdout",
     "output_type": "stream",
     "text": [
      "<class 'pandas.core.frame.DataFrame'>\n",
      "Int64Index: 16713 entries, 0 to 16714\n",
      "Data columns (total 12 columns):\n",
      " #   Column           Non-Null Count  Dtype  \n",
      "---  ------           --------------  -----  \n",
      " 0   name             16713 non-null  object \n",
      " 1   platform         16713 non-null  object \n",
      " 2   year_of_release  16444 non-null  float64\n",
      " 3   genre            16713 non-null  object \n",
      " 4   na_sales         16713 non-null  float64\n",
      " 5   eu_sales         16713 non-null  float64\n",
      " 6   jp_sales         16713 non-null  float64\n",
      " 7   other_sales      16713 non-null  float64\n",
      " 8   critic_score     8137 non-null   float64\n",
      " 9   user_score       10014 non-null  object \n",
      " 10  rating           9949 non-null   object \n",
      " 11  platform_cat     16713 non-null  object \n",
      "dtypes: float64(6), object(6)\n",
      "memory usage: 1.7+ MB\n"
     ]
    }
   ],
   "source": [
    "# Drop rows where there is missing data in 'name'\n",
    "\n",
    "game_data.dropna(subset = ['name'], inplace = True)\n",
    "\n",
    "game_data.info()"
   ]
  },
  {
   "cell_type": "markdown",
   "metadata": {},
   "source": [
    "#### Year of release\n",
    "\n",
    "* I first convert Year of Release column to a datetime object.\n",
    "* Rows that have missing data in the Year of Release column was similar to the data for the overall dataframe.\n",
    "* Missing data only represents 1.6% of data, therefore I drop the rows with missing data in \"Year of Release\". "
   ]
  },
  {
   "cell_type": "code",
   "execution_count": 18,
   "metadata": {},
   "outputs": [
    {
     "name": "stdout",
     "output_type": "stream",
     "text": [
      "<class 'pandas.core.frame.DataFrame'>\n",
      "Int64Index: 16713 entries, 0 to 16714\n",
      "Data columns (total 12 columns):\n",
      " #   Column           Non-Null Count  Dtype  \n",
      "---  ------           --------------  -----  \n",
      " 0   name             16713 non-null  object \n",
      " 1   platform         16713 non-null  object \n",
      " 2   year_of_release  16444 non-null  float64\n",
      " 3   genre            16713 non-null  object \n",
      " 4   na_sales         16713 non-null  float64\n",
      " 5   eu_sales         16713 non-null  float64\n",
      " 6   jp_sales         16713 non-null  float64\n",
      " 7   other_sales      16713 non-null  float64\n",
      " 8   critic_score     8137 non-null   float64\n",
      " 9   user_score       10014 non-null  object \n",
      " 10  rating           9949 non-null   object \n",
      " 11  platform_cat     16713 non-null  object \n",
      "dtypes: float64(6), object(6)\n",
      "memory usage: 1.7+ MB\n"
     ]
    }
   ],
   "source": [
    "# Convert year_of_release to a datetime object \n",
    "\n",
    "#game_data['year_of_release'] = pd.to_datetime(game_data['year_of_release'], format='%Y')\n",
    "\n",
    "#game_data['year_of_release'] = game_data['year_of_release'].astype(float)\n",
    "\n",
    "game_data['year_of_release'] = pd.to_numeric(game_data['year_of_release'])\n",
    "\n",
    "game_data.info()\n"
   ]
  },
  {
   "cell_type": "code",
   "execution_count": 19,
   "metadata": {
    "scrolled": true
   },
   "outputs": [
    {
     "data": {
      "text/html": [
       "<div>\n",
       "<style scoped>\n",
       "    .dataframe tbody tr th:only-of-type {\n",
       "        vertical-align: middle;\n",
       "    }\n",
       "\n",
       "    .dataframe tbody tr th {\n",
       "        vertical-align: top;\n",
       "    }\n",
       "\n",
       "    .dataframe thead th {\n",
       "        text-align: right;\n",
       "    }\n",
       "</style>\n",
       "<table border=\"1\" class=\"dataframe\">\n",
       "  <thead>\n",
       "    <tr style=\"text-align: right;\">\n",
       "      <th></th>\n",
       "      <th>name</th>\n",
       "      <th>platform</th>\n",
       "      <th>year_of_release</th>\n",
       "      <th>genre</th>\n",
       "      <th>na_sales</th>\n",
       "      <th>eu_sales</th>\n",
       "      <th>jp_sales</th>\n",
       "      <th>other_sales</th>\n",
       "      <th>critic_score</th>\n",
       "      <th>user_score</th>\n",
       "      <th>rating</th>\n",
       "      <th>platform_cat</th>\n",
       "    </tr>\n",
       "  </thead>\n",
       "  <tbody>\n",
       "    <tr>\n",
       "      <th>183</th>\n",
       "      <td>Madden NFL 2004</td>\n",
       "      <td>PS2</td>\n",
       "      <td>NaN</td>\n",
       "      <td>Sports</td>\n",
       "      <td>4.26</td>\n",
       "      <td>0.26</td>\n",
       "      <td>0.01</td>\n",
       "      <td>0.71</td>\n",
       "      <td>94.0</td>\n",
       "      <td>8.5</td>\n",
       "      <td>E</td>\n",
       "      <td>PS</td>\n",
       "    </tr>\n",
       "    <tr>\n",
       "      <th>377</th>\n",
       "      <td>FIFA Soccer 2004</td>\n",
       "      <td>PS2</td>\n",
       "      <td>NaN</td>\n",
       "      <td>Sports</td>\n",
       "      <td>0.59</td>\n",
       "      <td>2.36</td>\n",
       "      <td>0.04</td>\n",
       "      <td>0.51</td>\n",
       "      <td>84.0</td>\n",
       "      <td>6.4</td>\n",
       "      <td>E</td>\n",
       "      <td>PS</td>\n",
       "    </tr>\n",
       "    <tr>\n",
       "      <th>456</th>\n",
       "      <td>LEGO Batman: The Videogame</td>\n",
       "      <td>Wii</td>\n",
       "      <td>NaN</td>\n",
       "      <td>Action</td>\n",
       "      <td>1.80</td>\n",
       "      <td>0.97</td>\n",
       "      <td>0.00</td>\n",
       "      <td>0.29</td>\n",
       "      <td>74.0</td>\n",
       "      <td>7.9</td>\n",
       "      <td>E10+</td>\n",
       "      <td>Wii</td>\n",
       "    </tr>\n",
       "    <tr>\n",
       "      <th>475</th>\n",
       "      <td>wwe Smackdown vs. Raw 2006</td>\n",
       "      <td>PS2</td>\n",
       "      <td>NaN</td>\n",
       "      <td>Fighting</td>\n",
       "      <td>1.57</td>\n",
       "      <td>1.02</td>\n",
       "      <td>0.00</td>\n",
       "      <td>0.41</td>\n",
       "      <td>NaN</td>\n",
       "      <td>NaN</td>\n",
       "      <td>NaN</td>\n",
       "      <td>PS</td>\n",
       "    </tr>\n",
       "    <tr>\n",
       "      <th>609</th>\n",
       "      <td>Space Invaders</td>\n",
       "      <td>2600</td>\n",
       "      <td>NaN</td>\n",
       "      <td>Shooter</td>\n",
       "      <td>2.36</td>\n",
       "      <td>0.14</td>\n",
       "      <td>0.00</td>\n",
       "      <td>0.03</td>\n",
       "      <td>NaN</td>\n",
       "      <td>NaN</td>\n",
       "      <td>NaN</td>\n",
       "      <td>2600</td>\n",
       "    </tr>\n",
       "    <tr>\n",
       "      <th>...</th>\n",
       "      <td>...</td>\n",
       "      <td>...</td>\n",
       "      <td>...</td>\n",
       "      <td>...</td>\n",
       "      <td>...</td>\n",
       "      <td>...</td>\n",
       "      <td>...</td>\n",
       "      <td>...</td>\n",
       "      <td>...</td>\n",
       "      <td>...</td>\n",
       "      <td>...</td>\n",
       "      <td>...</td>\n",
       "    </tr>\n",
       "    <tr>\n",
       "      <th>16373</th>\n",
       "      <td>PDC World Championship Darts 2008</td>\n",
       "      <td>PSP</td>\n",
       "      <td>NaN</td>\n",
       "      <td>Sports</td>\n",
       "      <td>0.01</td>\n",
       "      <td>0.00</td>\n",
       "      <td>0.00</td>\n",
       "      <td>0.00</td>\n",
       "      <td>43.0</td>\n",
       "      <td>tbd</td>\n",
       "      <td>E10+</td>\n",
       "      <td>PS</td>\n",
       "    </tr>\n",
       "    <tr>\n",
       "      <th>16405</th>\n",
       "      <td>Freaky Flyers</td>\n",
       "      <td>GC</td>\n",
       "      <td>NaN</td>\n",
       "      <td>Racing</td>\n",
       "      <td>0.01</td>\n",
       "      <td>0.00</td>\n",
       "      <td>0.00</td>\n",
       "      <td>0.00</td>\n",
       "      <td>69.0</td>\n",
       "      <td>6.5</td>\n",
       "      <td>T</td>\n",
       "      <td>GC</td>\n",
       "    </tr>\n",
       "    <tr>\n",
       "      <th>16448</th>\n",
       "      <td>Inversion</td>\n",
       "      <td>PC</td>\n",
       "      <td>NaN</td>\n",
       "      <td>Shooter</td>\n",
       "      <td>0.01</td>\n",
       "      <td>0.00</td>\n",
       "      <td>0.00</td>\n",
       "      <td>0.00</td>\n",
       "      <td>59.0</td>\n",
       "      <td>6.7</td>\n",
       "      <td>M</td>\n",
       "      <td>PC</td>\n",
       "    </tr>\n",
       "    <tr>\n",
       "      <th>16458</th>\n",
       "      <td>Hakuouki: Shinsengumi Kitan</td>\n",
       "      <td>PS3</td>\n",
       "      <td>NaN</td>\n",
       "      <td>Adventure</td>\n",
       "      <td>0.01</td>\n",
       "      <td>0.00</td>\n",
       "      <td>0.00</td>\n",
       "      <td>0.00</td>\n",
       "      <td>NaN</td>\n",
       "      <td>NaN</td>\n",
       "      <td>NaN</td>\n",
       "      <td>PS</td>\n",
       "    </tr>\n",
       "    <tr>\n",
       "      <th>16522</th>\n",
       "      <td>Virtua Quest</td>\n",
       "      <td>GC</td>\n",
       "      <td>NaN</td>\n",
       "      <td>Role-Playing</td>\n",
       "      <td>0.01</td>\n",
       "      <td>0.00</td>\n",
       "      <td>0.00</td>\n",
       "      <td>0.00</td>\n",
       "      <td>55.0</td>\n",
       "      <td>5.5</td>\n",
       "      <td>T</td>\n",
       "      <td>GC</td>\n",
       "    </tr>\n",
       "  </tbody>\n",
       "</table>\n",
       "<p>269 rows × 12 columns</p>\n",
       "</div>"
      ],
      "text/plain": [
       "                                    name platform  year_of_release  \\\n",
       "183                      Madden NFL 2004      PS2              NaN   \n",
       "377                     FIFA Soccer 2004      PS2              NaN   \n",
       "456           LEGO Batman: The Videogame      Wii              NaN   \n",
       "475           wwe Smackdown vs. Raw 2006      PS2              NaN   \n",
       "609                       Space Invaders     2600              NaN   \n",
       "...                                  ...      ...              ...   \n",
       "16373  PDC World Championship Darts 2008      PSP              NaN   \n",
       "16405                      Freaky Flyers       GC              NaN   \n",
       "16448                          Inversion       PC              NaN   \n",
       "16458        Hakuouki: Shinsengumi Kitan      PS3              NaN   \n",
       "16522                       Virtua Quest       GC              NaN   \n",
       "\n",
       "              genre  na_sales  eu_sales  jp_sales  other_sales  critic_score  \\\n",
       "183          Sports      4.26      0.26      0.01         0.71          94.0   \n",
       "377          Sports      0.59      2.36      0.04         0.51          84.0   \n",
       "456          Action      1.80      0.97      0.00         0.29          74.0   \n",
       "475        Fighting      1.57      1.02      0.00         0.41           NaN   \n",
       "609         Shooter      2.36      0.14      0.00         0.03           NaN   \n",
       "...             ...       ...       ...       ...          ...           ...   \n",
       "16373        Sports      0.01      0.00      0.00         0.00          43.0   \n",
       "16405        Racing      0.01      0.00      0.00         0.00          69.0   \n",
       "16448       Shooter      0.01      0.00      0.00         0.00          59.0   \n",
       "16458     Adventure      0.01      0.00      0.00         0.00           NaN   \n",
       "16522  Role-Playing      0.01      0.00      0.00         0.00          55.0   \n",
       "\n",
       "      user_score rating platform_cat  \n",
       "183          8.5      E           PS  \n",
       "377          6.4      E           PS  \n",
       "456          7.9   E10+          Wii  \n",
       "475          NaN    NaN           PS  \n",
       "609          NaN    NaN         2600  \n",
       "...          ...    ...          ...  \n",
       "16373        tbd   E10+           PS  \n",
       "16405        6.5      T           GC  \n",
       "16448        6.7      M           PC  \n",
       "16458        NaN    NaN           PS  \n",
       "16522        5.5      T           GC  \n",
       "\n",
       "[269 rows x 12 columns]"
      ]
     },
     "execution_count": 19,
     "metadata": {},
     "output_type": "execute_result"
    }
   ],
   "source": [
    "# Pull out rows where there is missing data in the column 'year of release'\n",
    "\n",
    "game_year_na = game_data.loc[game_data['year_of_release'].isna()]\n",
    "\n",
    "game_year_na"
   ]
  },
  {
   "cell_type": "code",
   "execution_count": 20,
   "metadata": {},
   "outputs": [
    {
     "data": {
      "image/png": "[encoded data removed]",
      "text/plain": [
       "<Figure size 1080x360 with 1 Axes>"
      ]
     },
     "metadata": {
      "needs_background": "light"
     },
     "output_type": "display_data"
    }
   ],
   "source": [
    "# Check the distribution of platform between missing data and whole data set\n",
    "\n",
    "game_year_na['platform_cat'].value_counts(normalize=True).plot(kind='bar', figsize=(15,5));\n",
    "\n",
    "game_data['platform_cat'].value_counts(normalize=True).plot(kind='bar', color='orange', figsize=(15,5), alpha=0.5);\n",
    "\n",
    "legend = plt.legend(['Missing Data','Full Data Set'], title = 'Legend')\n",
    "plt.title(\"Distribution of Data Across Platforms\");\n"
   ]
  },
  {
   "cell_type": "markdown",
   "metadata": {},
   "source": [
    "**Interpretation of Graph**\n",
    "The distribution of data is the same for missing data vs the whole dataset."
   ]
  },
  {
   "cell_type": "code",
   "execution_count": 21,
   "metadata": {},
   "outputs": [
    {
     "data": {
      "image/png": "[encoded data removed]",
      "text/plain": [
       "<Figure size 1080x360 with 1 Axes>"
      ]
     },
     "metadata": {
      "needs_background": "light"
     },
     "output_type": "display_data"
    }
   ],
   "source": [
    "# Check the distribution of genre between missing data and whole data set\n",
    "\n",
    "game_year_na['genre'].value_counts(normalize=True).plot(kind='bar', figsize=(15,5));\n",
    "\n",
    "game_data['genre'].value_counts(normalize=True).plot(kind='bar', color='orange', figsize=(15,5), alpha=0.5);\n",
    "\n",
    "legend = plt.legend(['Missing Data','Full Data Set'], title = 'Legend')\n",
    "plt.title(\"Distribution of Data Across Genres\");"
   ]
  },
  {
   "cell_type": "markdown",
   "metadata": {},
   "source": [
    "**Interpretation of Graph**\n",
    "The distribution of data is the same for missing data vs the whole dataset."
   ]
  },
  {
   "cell_type": "code",
   "execution_count": 22,
   "metadata": {},
   "outputs": [
    {
     "data": {
      "text/html": [
       "<div>\n",
       "<style scoped>\n",
       "    .dataframe tbody tr th:only-of-type {\n",
       "        vertical-align: middle;\n",
       "    }\n",
       "\n",
       "    .dataframe tbody tr th {\n",
       "        vertical-align: top;\n",
       "    }\n",
       "\n",
       "    .dataframe thead th {\n",
       "        text-align: right;\n",
       "    }\n",
       "</style>\n",
       "<table border=\"1\" class=\"dataframe\">\n",
       "  <thead>\n",
       "    <tr style=\"text-align: right;\">\n",
       "      <th></th>\n",
       "      <th>year_of_release</th>\n",
       "      <th>na_sales</th>\n",
       "      <th>eu_sales</th>\n",
       "      <th>jp_sales</th>\n",
       "      <th>other_sales</th>\n",
       "      <th>critic_score</th>\n",
       "    </tr>\n",
       "  </thead>\n",
       "  <tbody>\n",
       "    <tr>\n",
       "      <th>count</th>\n",
       "      <td>16444.000000</td>\n",
       "      <td>16713.000000</td>\n",
       "      <td>16713.000000</td>\n",
       "      <td>16713.000000</td>\n",
       "      <td>16713.000000</td>\n",
       "      <td>8137.000000</td>\n",
       "    </tr>\n",
       "    <tr>\n",
       "      <th>mean</th>\n",
       "      <td>2006.486256</td>\n",
       "      <td>0.263302</td>\n",
       "      <td>0.145045</td>\n",
       "      <td>0.077625</td>\n",
       "      <td>0.047343</td>\n",
       "      <td>68.967679</td>\n",
       "    </tr>\n",
       "    <tr>\n",
       "      <th>std</th>\n",
       "      <td>5.875525</td>\n",
       "      <td>0.813565</td>\n",
       "      <td>0.503359</td>\n",
       "      <td>0.308871</td>\n",
       "      <td>0.186742</td>\n",
       "      <td>13.938165</td>\n",
       "    </tr>\n",
       "    <tr>\n",
       "      <th>min</th>\n",
       "      <td>1980.000000</td>\n",
       "      <td>0.000000</td>\n",
       "      <td>0.000000</td>\n",
       "      <td>0.000000</td>\n",
       "      <td>0.000000</td>\n",
       "      <td>13.000000</td>\n",
       "    </tr>\n",
       "    <tr>\n",
       "      <th>25%</th>\n",
       "      <td>2003.000000</td>\n",
       "      <td>0.000000</td>\n",
       "      <td>0.000000</td>\n",
       "      <td>0.000000</td>\n",
       "      <td>0.000000</td>\n",
       "      <td>60.000000</td>\n",
       "    </tr>\n",
       "    <tr>\n",
       "      <th>50%</th>\n",
       "      <td>2007.000000</td>\n",
       "      <td>0.080000</td>\n",
       "      <td>0.020000</td>\n",
       "      <td>0.000000</td>\n",
       "      <td>0.010000</td>\n",
       "      <td>71.000000</td>\n",
       "    </tr>\n",
       "    <tr>\n",
       "      <th>75%</th>\n",
       "      <td>2010.000000</td>\n",
       "      <td>0.240000</td>\n",
       "      <td>0.110000</td>\n",
       "      <td>0.040000</td>\n",
       "      <td>0.030000</td>\n",
       "      <td>79.000000</td>\n",
       "    </tr>\n",
       "    <tr>\n",
       "      <th>max</th>\n",
       "      <td>2016.000000</td>\n",
       "      <td>41.360000</td>\n",
       "      <td>28.960000</td>\n",
       "      <td>10.220000</td>\n",
       "      <td>10.570000</td>\n",
       "      <td>98.000000</td>\n",
       "    </tr>\n",
       "  </tbody>\n",
       "</table>\n",
       "</div>"
      ],
      "text/plain": [
       "       year_of_release      na_sales      eu_sales      jp_sales  \\\n",
       "count     16444.000000  16713.000000  16713.000000  16713.000000   \n",
       "mean       2006.486256      0.263302      0.145045      0.077625   \n",
       "std           5.875525      0.813565      0.503359      0.308871   \n",
       "min        1980.000000      0.000000      0.000000      0.000000   \n",
       "25%        2003.000000      0.000000      0.000000      0.000000   \n",
       "50%        2007.000000      0.080000      0.020000      0.000000   \n",
       "75%        2010.000000      0.240000      0.110000      0.040000   \n",
       "max        2016.000000     41.360000     28.960000     10.220000   \n",
       "\n",
       "        other_sales  critic_score  \n",
       "count  16713.000000   8137.000000  \n",
       "mean       0.047343     68.967679  \n",
       "std        0.186742     13.938165  \n",
       "min        0.000000     13.000000  \n",
       "25%        0.000000     60.000000  \n",
       "50%        0.010000     71.000000  \n",
       "75%        0.030000     79.000000  \n",
       "max       10.570000     98.000000  "
      ]
     },
     "execution_count": 22,
     "metadata": {},
     "output_type": "execute_result"
    }
   ],
   "source": [
    "game_data.describe()"
   ]
  },
  {
   "cell_type": "code",
   "execution_count": 23,
   "metadata": {},
   "outputs": [
    {
     "data": {
      "text/html": [
       "<div>\n",
       "<style scoped>\n",
       "    .dataframe tbody tr th:only-of-type {\n",
       "        vertical-align: middle;\n",
       "    }\n",
       "\n",
       "    .dataframe tbody tr th {\n",
       "        vertical-align: top;\n",
       "    }\n",
       "\n",
       "    .dataframe thead th {\n",
       "        text-align: right;\n",
       "    }\n",
       "</style>\n",
       "<table border=\"1\" class=\"dataframe\">\n",
       "  <thead>\n",
       "    <tr style=\"text-align: right;\">\n",
       "      <th></th>\n",
       "      <th>year_of_release</th>\n",
       "      <th>na_sales</th>\n",
       "      <th>eu_sales</th>\n",
       "      <th>jp_sales</th>\n",
       "      <th>other_sales</th>\n",
       "      <th>critic_score</th>\n",
       "    </tr>\n",
       "  </thead>\n",
       "  <tbody>\n",
       "    <tr>\n",
       "      <th>count</th>\n",
       "      <td>0.0</td>\n",
       "      <td>269.000000</td>\n",
       "      <td>269.000000</td>\n",
       "      <td>269.000000</td>\n",
       "      <td>269.000000</td>\n",
       "      <td>154.000000</td>\n",
       "    </tr>\n",
       "    <tr>\n",
       "      <th>mean</th>\n",
       "      <td>NaN</td>\n",
       "      <td>0.219888</td>\n",
       "      <td>0.090929</td>\n",
       "      <td>0.024907</td>\n",
       "      <td>0.032007</td>\n",
       "      <td>67.584416</td>\n",
       "    </tr>\n",
       "    <tr>\n",
       "      <th>std</th>\n",
       "      <td>NaN</td>\n",
       "      <td>0.424907</td>\n",
       "      <td>0.207933</td>\n",
       "      <td>0.090160</td>\n",
       "      <td>0.075546</td>\n",
       "      <td>14.828740</td>\n",
       "    </tr>\n",
       "    <tr>\n",
       "      <th>min</th>\n",
       "      <td>NaN</td>\n",
       "      <td>0.000000</td>\n",
       "      <td>0.000000</td>\n",
       "      <td>0.000000</td>\n",
       "      <td>0.000000</td>\n",
       "      <td>22.000000</td>\n",
       "    </tr>\n",
       "    <tr>\n",
       "      <th>25%</th>\n",
       "      <td>NaN</td>\n",
       "      <td>0.010000</td>\n",
       "      <td>0.000000</td>\n",
       "      <td>0.000000</td>\n",
       "      <td>0.000000</td>\n",
       "      <td>57.000000</td>\n",
       "    </tr>\n",
       "    <tr>\n",
       "      <th>50%</th>\n",
       "      <td>NaN</td>\n",
       "      <td>0.090000</td>\n",
       "      <td>0.020000</td>\n",
       "      <td>0.000000</td>\n",
       "      <td>0.010000</td>\n",
       "      <td>70.000000</td>\n",
       "    </tr>\n",
       "    <tr>\n",
       "      <th>75%</th>\n",
       "      <td>NaN</td>\n",
       "      <td>0.240000</td>\n",
       "      <td>0.100000</td>\n",
       "      <td>0.000000</td>\n",
       "      <td>0.030000</td>\n",
       "      <td>78.000000</td>\n",
       "    </tr>\n",
       "    <tr>\n",
       "      <th>max</th>\n",
       "      <td>NaN</td>\n",
       "      <td>4.260000</td>\n",
       "      <td>2.360000</td>\n",
       "      <td>0.770000</td>\n",
       "      <td>0.710000</td>\n",
       "      <td>94.000000</td>\n",
       "    </tr>\n",
       "  </tbody>\n",
       "</table>\n",
       "</div>"
      ],
      "text/plain": [
       "       year_of_release    na_sales    eu_sales    jp_sales  other_sales  \\\n",
       "count              0.0  269.000000  269.000000  269.000000   269.000000   \n",
       "mean               NaN    0.219888    0.090929    0.024907     0.032007   \n",
       "std                NaN    0.424907    0.207933    0.090160     0.075546   \n",
       "min                NaN    0.000000    0.000000    0.000000     0.000000   \n",
       "25%                NaN    0.010000    0.000000    0.000000     0.000000   \n",
       "50%                NaN    0.090000    0.020000    0.000000     0.010000   \n",
       "75%                NaN    0.240000    0.100000    0.000000     0.030000   \n",
       "max                NaN    4.260000    2.360000    0.770000     0.710000   \n",
       "\n",
       "       critic_score  \n",
       "count    154.000000  \n",
       "mean      67.584416  \n",
       "std       14.828740  \n",
       "min       22.000000  \n",
       "25%       57.000000  \n",
       "50%       70.000000  \n",
       "75%       78.000000  \n",
       "max       94.000000  "
      ]
     },
     "execution_count": 23,
     "metadata": {},
     "output_type": "execute_result"
    }
   ],
   "source": [
    "game_year_na.describe()"
   ]
  },
  {
   "cell_type": "code",
   "execution_count": 24,
   "metadata": {},
   "outputs": [
    {
     "data": {
      "image/png": "[encoded data removed]",
      "text/plain": [
       "<Figure size 432x288 with 1 Axes>"
      ]
     },
     "metadata": {
      "needs_background": "light"
     },
     "output_type": "display_data"
    }
   ],
   "source": [
    "# Check the distribution of regional sales between missing data and whole data set\n",
    "\n",
    "game_year_na['na_sales'].value_counts(normalize=True).plot(kind='hist', bins=10, range=(0,0.05));\n",
    "\n",
    "game_data['na_sales'].value_counts(normalize=True).plot(kind='hist', color='orange', bins=10, alpha=0.5, range=(0,0.05));\n",
    "\n",
    "legend = plt.legend(['Missing Data','Full Data Set'], title = 'Legend')\n",
    "plt.title(\"Distribution of Data Across North America Sales\");"
   ]
  },
  {
   "cell_type": "markdown",
   "metadata": {},
   "source": [
    "**Interpretation of Graph**\n",
    "The distribution of data is the same for missing data vs the whole dataset."
   ]
  },
  {
   "cell_type": "code",
   "execution_count": 25,
   "metadata": {},
   "outputs": [
    {
     "data": {
      "image/png": "[encoded data removed]",
      "text/plain": [
       "<Figure size 432x288 with 1 Axes>"
      ]
     },
     "metadata": {
      "needs_background": "light"
     },
     "output_type": "display_data"
    }
   ],
   "source": [
    "# Check the distribution of regional sales between missing data and whole data set\n",
    "\n",
    "game_year_na['eu_sales'].value_counts(normalize=True).plot(kind='hist', bins=10, range=(0,0.05));\n",
    "\n",
    "game_data['eu_sales'].value_counts(normalize=True).plot(kind='hist', color='orange', bins=10, alpha=0.5, range=(0,0.05));\n",
    "\n",
    "legend = plt.legend(['Missing Data','Full Data Set'], title = 'Legend')\n",
    "plt.title(\"Distribution of Data Across European Sales\");"
   ]
  },
  {
   "cell_type": "markdown",
   "metadata": {},
   "source": [
    "**Interpretation of Graph**\n",
    "The distribution of data is the same for missing data vs the whole dataset."
   ]
  },
  {
   "cell_type": "code",
   "execution_count": 26,
   "metadata": {},
   "outputs": [
    {
     "data": {
      "image/png": "[encoded data removed]",
      "text/plain": [
       "<Figure size 432x288 with 1 Axes>"
      ]
     },
     "metadata": {
      "needs_background": "light"
     },
     "output_type": "display_data"
    }
   ],
   "source": [
    "# Check the distribution of regional sales between missing data and whole data set\n",
    "\n",
    "game_year_na['jp_sales'].value_counts(normalize=True).plot(kind='hist', bins=10, range=(0,0.05));\n",
    "\n",
    "game_data['jp_sales'].value_counts(normalize=True).plot(kind='hist', color='orange', bins=10, alpha=0.5, range=(0,0.05));\n",
    "\n",
    "legend = plt.legend(['Missing Data','Full Data Set'], title = 'Legend')\n",
    "plt.title(\"Distribution of Data Across Japanese Sales\");"
   ]
  },
  {
   "cell_type": "markdown",
   "metadata": {},
   "source": [
    "**Interpretation of Graph**\n",
    "The distribution of data is the same for missing data vs the whole dataset.'Missing Data',"
   ]
  },
  {
   "cell_type": "code",
   "execution_count": 27,
   "metadata": {},
   "outputs": [
    {
     "data": {
      "image/png": "[encoded data removed]",
      "text/plain": [
       "<Figure size 432x288 with 1 Axes>"
      ]
     },
     "metadata": {
      "needs_background": "light"
     },
     "output_type": "display_data"
    }
   ],
   "source": [
    "# Check the distribution of regional sales between missing data and whole data set\n",
    "\n",
    "game_year_na['other_sales'].value_counts(normalize=True).plot(kind='hist', bins=10, range=(0,0.05));\n",
    "\n",
    "game_data['other_sales'].value_counts(normalize=True).plot(kind='hist', color='orange', bins=10, alpha=0.5, range=(0,0.05));\n",
    "\n",
    "legend = plt.legend(['Missing Data','Full Data Set'], title = 'Legend')\n",
    "plt.title(\"Distribution of Data Across Other Sales\");"
   ]
  },
  {
   "cell_type": "markdown",
   "metadata": {},
   "source": [
    "**Interpretation of Graph**\n",
    "The distribution of data is the same for missing data vs the whole dataset."
   ]
  },
  {
   "cell_type": "code",
   "execution_count": 28,
   "metadata": {},
   "outputs": [
    {
     "name": "stdout",
     "output_type": "stream",
     "text": [
      "<class 'pandas.core.frame.DataFrame'>\n",
      "Int64Index: 16444 entries, 0 to 16714\n",
      "Data columns (total 12 columns):\n",
      " #   Column           Non-Null Count  Dtype  \n",
      "---  ------           --------------  -----  \n",
      " 0   name             16444 non-null  object \n",
      " 1   platform         16444 non-null  object \n",
      " 2   year_of_release  16444 non-null  float64\n",
      " 3   genre            16444 non-null  object \n",
      " 4   na_sales         16444 non-null  float64\n",
      " 5   eu_sales         16444 non-null  float64\n",
      " 6   jp_sales         16444 non-null  float64\n",
      " 7   other_sales      16444 non-null  float64\n",
      " 8   critic_score     7983 non-null   float64\n",
      " 9   user_score       9839 non-null   object \n",
      " 10  rating           9768 non-null   object \n",
      " 11  platform_cat     16444 non-null  object \n",
      "dtypes: float64(6), object(6)\n",
      "memory usage: 1.6+ MB\n"
     ]
    }
   ],
   "source": [
    "game_data.dropna(subset = ['year_of_release'], inplace = True)\n",
    "\n",
    "game_data.info()"
   ]
  },
  {
   "cell_type": "code",
   "execution_count": 29,
   "metadata": {},
   "outputs": [],
   "source": [
    "# df.isna().sum()\n",
    "\n",
    "# df.isna().sum() / len(df) * 100\n",
    "\n",
    "# df[‘column’].unique()\n",
    "\n",
    "# df_na= df.loc[df[‘column’].isna()]\n",
    "\n",
    "# df[‘column’] = df[‘column'].fillna(0)"
   ]
  },
  {
   "cell_type": "markdown",
   "metadata": {},
   "source": [
    "#### Critic score"
   ]
  },
  {
   "cell_type": "code",
   "execution_count": 30,
   "metadata": {},
   "outputs": [
    {
     "data": {
      "text/html": [
       "<div>\n",
       "<style scoped>\n",
       "    .dataframe tbody tr th:only-of-type {\n",
       "        vertical-align: middle;\n",
       "    }\n",
       "\n",
       "    .dataframe tbody tr th {\n",
       "        vertical-align: top;\n",
       "    }\n",
       "\n",
       "    .dataframe thead th {\n",
       "        text-align: right;\n",
       "    }\n",
       "</style>\n",
       "<table border=\"1\" class=\"dataframe\">\n",
       "  <thead>\n",
       "    <tr style=\"text-align: right;\">\n",
       "      <th></th>\n",
       "      <th>name</th>\n",
       "      <th>platform</th>\n",
       "      <th>year_of_release</th>\n",
       "      <th>genre</th>\n",
       "      <th>na_sales</th>\n",
       "      <th>eu_sales</th>\n",
       "      <th>jp_sales</th>\n",
       "      <th>other_sales</th>\n",
       "      <th>critic_score</th>\n",
       "      <th>user_score</th>\n",
       "      <th>rating</th>\n",
       "      <th>platform_cat</th>\n",
       "    </tr>\n",
       "  </thead>\n",
       "  <tbody>\n",
       "    <tr>\n",
       "      <th>1</th>\n",
       "      <td>Super Mario Bros.</td>\n",
       "      <td>NES</td>\n",
       "      <td>1985.0</td>\n",
       "      <td>Platform</td>\n",
       "      <td>29.08</td>\n",
       "      <td>3.58</td>\n",
       "      <td>6.81</td>\n",
       "      <td>0.77</td>\n",
       "      <td>NaN</td>\n",
       "      <td>NaN</td>\n",
       "      <td>NaN</td>\n",
       "      <td>NES</td>\n",
       "    </tr>\n",
       "    <tr>\n",
       "      <th>4</th>\n",
       "      <td>Pokemon Red/Pokemon Blue</td>\n",
       "      <td>GB</td>\n",
       "      <td>1996.0</td>\n",
       "      <td>Role-Playing</td>\n",
       "      <td>11.27</td>\n",
       "      <td>8.89</td>\n",
       "      <td>10.22</td>\n",
       "      <td>1.00</td>\n",
       "      <td>NaN</td>\n",
       "      <td>NaN</td>\n",
       "      <td>NaN</td>\n",
       "      <td>GB</td>\n",
       "    </tr>\n",
       "    <tr>\n",
       "      <th>5</th>\n",
       "      <td>Tetris</td>\n",
       "      <td>GB</td>\n",
       "      <td>1989.0</td>\n",
       "      <td>Puzzle</td>\n",
       "      <td>23.20</td>\n",
       "      <td>2.26</td>\n",
       "      <td>4.22</td>\n",
       "      <td>0.58</td>\n",
       "      <td>NaN</td>\n",
       "      <td>NaN</td>\n",
       "      <td>NaN</td>\n",
       "      <td>GB</td>\n",
       "    </tr>\n",
       "    <tr>\n",
       "      <th>9</th>\n",
       "      <td>Duck Hunt</td>\n",
       "      <td>NES</td>\n",
       "      <td>1984.0</td>\n",
       "      <td>Shooter</td>\n",
       "      <td>26.93</td>\n",
       "      <td>0.63</td>\n",
       "      <td>0.28</td>\n",
       "      <td>0.47</td>\n",
       "      <td>NaN</td>\n",
       "      <td>NaN</td>\n",
       "      <td>NaN</td>\n",
       "      <td>NES</td>\n",
       "    </tr>\n",
       "    <tr>\n",
       "      <th>10</th>\n",
       "      <td>Nintendogs</td>\n",
       "      <td>DS</td>\n",
       "      <td>2005.0</td>\n",
       "      <td>Simulation</td>\n",
       "      <td>9.05</td>\n",
       "      <td>10.95</td>\n",
       "      <td>1.93</td>\n",
       "      <td>2.74</td>\n",
       "      <td>NaN</td>\n",
       "      <td>NaN</td>\n",
       "      <td>NaN</td>\n",
       "      <td>DS</td>\n",
       "    </tr>\n",
       "    <tr>\n",
       "      <th>...</th>\n",
       "      <td>...</td>\n",
       "      <td>...</td>\n",
       "      <td>...</td>\n",
       "      <td>...</td>\n",
       "      <td>...</td>\n",
       "      <td>...</td>\n",
       "      <td>...</td>\n",
       "      <td>...</td>\n",
       "      <td>...</td>\n",
       "      <td>...</td>\n",
       "      <td>...</td>\n",
       "      <td>...</td>\n",
       "    </tr>\n",
       "    <tr>\n",
       "      <th>16710</th>\n",
       "      <td>Samurai Warriors: Sanada Maru</td>\n",
       "      <td>PS3</td>\n",
       "      <td>2016.0</td>\n",
       "      <td>Action</td>\n",
       "      <td>0.00</td>\n",
       "      <td>0.00</td>\n",
       "      <td>0.01</td>\n",
       "      <td>0.00</td>\n",
       "      <td>NaN</td>\n",
       "      <td>NaN</td>\n",
       "      <td>NaN</td>\n",
       "      <td>PS</td>\n",
       "    </tr>\n",
       "    <tr>\n",
       "      <th>16711</th>\n",
       "      <td>LMA Manager 2007</td>\n",
       "      <td>X360</td>\n",
       "      <td>2006.0</td>\n",
       "      <td>Sports</td>\n",
       "      <td>0.00</td>\n",
       "      <td>0.01</td>\n",
       "      <td>0.00</td>\n",
       "      <td>0.00</td>\n",
       "      <td>NaN</td>\n",
       "      <td>NaN</td>\n",
       "      <td>NaN</td>\n",
       "      <td>XBox</td>\n",
       "    </tr>\n",
       "    <tr>\n",
       "      <th>16712</th>\n",
       "      <td>Haitaka no Psychedelica</td>\n",
       "      <td>PSV</td>\n",
       "      <td>2016.0</td>\n",
       "      <td>Adventure</td>\n",
       "      <td>0.00</td>\n",
       "      <td>0.00</td>\n",
       "      <td>0.01</td>\n",
       "      <td>0.00</td>\n",
       "      <td>NaN</td>\n",
       "      <td>NaN</td>\n",
       "      <td>NaN</td>\n",
       "      <td>PS</td>\n",
       "    </tr>\n",
       "    <tr>\n",
       "      <th>16713</th>\n",
       "      <td>Spirits &amp; Spells</td>\n",
       "      <td>GBA</td>\n",
       "      <td>2003.0</td>\n",
       "      <td>Platform</td>\n",
       "      <td>0.01</td>\n",
       "      <td>0.00</td>\n",
       "      <td>0.00</td>\n",
       "      <td>0.00</td>\n",
       "      <td>NaN</td>\n",
       "      <td>NaN</td>\n",
       "      <td>NaN</td>\n",
       "      <td>GB</td>\n",
       "    </tr>\n",
       "    <tr>\n",
       "      <th>16714</th>\n",
       "      <td>Winning Post 8 2016</td>\n",
       "      <td>PSV</td>\n",
       "      <td>2016.0</td>\n",
       "      <td>Simulation</td>\n",
       "      <td>0.00</td>\n",
       "      <td>0.00</td>\n",
       "      <td>0.01</td>\n",
       "      <td>0.00</td>\n",
       "      <td>NaN</td>\n",
       "      <td>NaN</td>\n",
       "      <td>NaN</td>\n",
       "      <td>PS</td>\n",
       "    </tr>\n",
       "  </tbody>\n",
       "</table>\n",
       "<p>8461 rows × 12 columns</p>\n",
       "</div>"
      ],
      "text/plain": [
       "                                name platform  year_of_release         genre  \\\n",
       "1                  Super Mario Bros.      NES           1985.0      Platform   \n",
       "4           Pokemon Red/Pokemon Blue       GB           1996.0  Role-Playing   \n",
       "5                             Tetris       GB           1989.0        Puzzle   \n",
       "9                          Duck Hunt      NES           1984.0       Shooter   \n",
       "10                        Nintendogs       DS           2005.0    Simulation   \n",
       "...                              ...      ...              ...           ...   \n",
       "16710  Samurai Warriors: Sanada Maru      PS3           2016.0        Action   \n",
       "16711               LMA Manager 2007     X360           2006.0        Sports   \n",
       "16712        Haitaka no Psychedelica      PSV           2016.0     Adventure   \n",
       "16713               Spirits & Spells      GBA           2003.0      Platform   \n",
       "16714            Winning Post 8 2016      PSV           2016.0    Simulation   \n",
       "\n",
       "       na_sales  eu_sales  jp_sales  other_sales  critic_score user_score  \\\n",
       "1         29.08      3.58      6.81         0.77           NaN        NaN   \n",
       "4         11.27      8.89     10.22         1.00           NaN        NaN   \n",
       "5         23.20      2.26      4.22         0.58           NaN        NaN   \n",
       "9         26.93      0.63      0.28         0.47           NaN        NaN   \n",
       "10         9.05     10.95      1.93         2.74           NaN        NaN   \n",
       "...         ...       ...       ...          ...           ...        ...   \n",
       "16710      0.00      0.00      0.01         0.00           NaN        NaN   \n",
       "16711      0.00      0.01      0.00         0.00           NaN        NaN   \n",
       "16712      0.00      0.00      0.01         0.00           NaN        NaN   \n",
       "16713      0.01      0.00      0.00         0.00           NaN        NaN   \n",
       "16714      0.00      0.00      0.01         0.00           NaN        NaN   \n",
       "\n",
       "      rating platform_cat  \n",
       "1        NaN          NES  \n",
       "4        NaN           GB  \n",
       "5        NaN           GB  \n",
       "9        NaN          NES  \n",
       "10       NaN           DS  \n",
       "...      ...          ...  \n",
       "16710    NaN           PS  \n",
       "16711    NaN         XBox  \n",
       "16712    NaN           PS  \n",
       "16713    NaN           GB  \n",
       "16714    NaN           PS  \n",
       "\n",
       "[8461 rows x 12 columns]"
      ]
     },
     "execution_count": 30,
     "metadata": {},
     "output_type": "execute_result"
    }
   ],
   "source": [
    "# Pull out rows where there is missing data in the column 'critic score'\n",
    "\n",
    "game_critic_na = game_data.loc[game_data['critic_score'].isna()]\n",
    "\n",
    "game_critic_na"
   ]
  },
  {
   "cell_type": "code",
   "execution_count": 31,
   "metadata": {},
   "outputs": [
    {
     "name": "stdout",
     "output_type": "stream",
     "text": [
      "<class 'pandas.core.frame.DataFrame'>\n",
      "Int64Index: 16444 entries, 0 to 16714\n",
      "Data columns (total 12 columns):\n",
      " #   Column           Non-Null Count  Dtype  \n",
      "---  ------           --------------  -----  \n",
      " 0   name             16444 non-null  object \n",
      " 1   platform         16444 non-null  object \n",
      " 2   year_of_release  16444 non-null  float64\n",
      " 3   genre            16444 non-null  object \n",
      " 4   na_sales         16444 non-null  float64\n",
      " 5   eu_sales         16444 non-null  float64\n",
      " 6   jp_sales         16444 non-null  float64\n",
      " 7   other_sales      16444 non-null  float64\n",
      " 8   critic_score     16444 non-null  float64\n",
      " 9   user_score       9839 non-null   object \n",
      " 10  rating           9768 non-null   object \n",
      " 11  platform_cat     16444 non-null  object \n",
      "dtypes: float64(6), object(6)\n",
      "memory usage: 1.6+ MB\n"
     ]
    }
   ],
   "source": [
    "# Fills in the missing data with the median for the game's platform and genre. For the platforms/genres that only had missing data, this fills in the median for overall critic scores.\n",
    "\n",
    "game_data['critic_score'] = (game_data.groupby(['platform_cat','genre'])['critic_score'].transform(lambda x: x.fillna(x.median()))).fillna(game_data['critic_score'].median())\n",
    "\n",
    "game_data.info()"
   ]
  },
  {
   "cell_type": "markdown",
   "metadata": {},
   "source": [
    "#### User score"
   ]
  },
  {
   "cell_type": "code",
   "execution_count": 32,
   "metadata": {},
   "outputs": [
    {
     "data": {
      "text/plain": [
       "(2376, 12)"
      ]
     },
     "execution_count": 32,
     "metadata": {},
     "output_type": "execute_result"
    }
   ],
   "source": [
    "# Locate rows that have 'TBD'\n",
    "\n",
    "game_user_tbd = game_data.loc[game_data['user_score'] == 'tbd']\n",
    "\n",
    "game_user_tbd.shape\n"
   ]
  },
  {
   "cell_type": "code",
   "execution_count": 33,
   "metadata": {},
   "outputs": [
    {
     "data": {
      "image/png": "[encoded data removed]",
      "text/plain": [
       "<Figure size 1080x360 with 1 Axes>"
      ]
     },
     "metadata": {
      "needs_background": "light"
     },
     "output_type": "display_data"
    }
   ],
   "source": [
    "# Check the distribution of platform between user_score rows with tbd and whole data set\n",
    "\n",
    "game_user_tbd['platform_cat'].value_counts(normalize=True).plot(kind='bar', figsize=(15,5));\n",
    "\n",
    "game_data['platform_cat'].value_counts(normalize=True).plot(kind='bar', color='orange', figsize=(15,5), alpha=0.5);\n",
    "\n",
    "legend = plt.legend(['TBD','Full Data Set'], title = 'Legend')\n",
    "plt.title(\"Distribution of Data Across Platforms\");"
   ]
  },
  {
   "cell_type": "markdown",
   "metadata": {},
   "source": [
    "**Interpretation of Graph**\n",
    "The distribution of data is the same for missing data vs the whole dataset."
   ]
  },
  {
   "cell_type": "code",
   "execution_count": 34,
   "metadata": {},
   "outputs": [
    {
     "data": {
      "image/png": "[encoded data removed]",
      "text/plain": [
       "<Figure size 1080x360 with 1 Axes>"
      ]
     },
     "metadata": {
      "needs_background": "light"
     },
     "output_type": "display_data"
    }
   ],
   "source": [
    "# Check the distribution of genre between user_score rows with tbd and whole data set\n",
    "\n",
    "game_user_tbd['genre'].value_counts(normalize=True).plot(kind='bar', figsize=(15,5));\n",
    "\n",
    "game_data['genre'].value_counts(normalize=True).plot(kind='bar', color='orange', figsize=(15,5), alpha=0.5);\n",
    "\n",
    "legend = plt.legend(['TBD','Full Data Set'], title = 'Legend')\n",
    "plt.title(\"Distribution of Data Across Genres\");"
   ]
  },
  {
   "cell_type": "markdown",
   "metadata": {},
   "source": [
    "**Interpretation of Graph**\n",
    "The distribution of data is the same for missing data vs the whole dataset."
   ]
  },
  {
   "cell_type": "code",
   "execution_count": 35,
   "metadata": {},
   "outputs": [
    {
     "data": {
      "text/html": [
       "<div>\n",
       "<style scoped>\n",
       "    .dataframe tbody tr th:only-of-type {\n",
       "        vertical-align: middle;\n",
       "    }\n",
       "\n",
       "    .dataframe tbody tr th {\n",
       "        vertical-align: top;\n",
       "    }\n",
       "\n",
       "    .dataframe thead th {\n",
       "        text-align: right;\n",
       "    }\n",
       "</style>\n",
       "<table border=\"1\" class=\"dataframe\">\n",
       "  <thead>\n",
       "    <tr style=\"text-align: right;\">\n",
       "      <th></th>\n",
       "      <th>year_of_release</th>\n",
       "      <th>na_sales</th>\n",
       "      <th>eu_sales</th>\n",
       "      <th>jp_sales</th>\n",
       "      <th>other_sales</th>\n",
       "      <th>critic_score</th>\n",
       "    </tr>\n",
       "  </thead>\n",
       "  <tbody>\n",
       "    <tr>\n",
       "      <th>count</th>\n",
       "      <td>2376.000000</td>\n",
       "      <td>2376.000000</td>\n",
       "      <td>2376.000000</td>\n",
       "      <td>2376.000000</td>\n",
       "      <td>2376.000000</td>\n",
       "      <td>2376.000000</td>\n",
       "    </tr>\n",
       "    <tr>\n",
       "      <th>mean</th>\n",
       "      <td>2007.450337</td>\n",
       "      <td>0.125539</td>\n",
       "      <td>0.043674</td>\n",
       "      <td>0.002782</td>\n",
       "      <td>0.015905</td>\n",
       "      <td>64.246843</td>\n",
       "    </tr>\n",
       "    <tr>\n",
       "      <th>std</th>\n",
       "      <td>3.484229</td>\n",
       "      <td>0.176593</td>\n",
       "      <td>0.112068</td>\n",
       "      <td>0.026395</td>\n",
       "      <td>0.039411</td>\n",
       "      <td>8.818592</td>\n",
       "    </tr>\n",
       "    <tr>\n",
       "      <th>min</th>\n",
       "      <td>1997.000000</td>\n",
       "      <td>0.000000</td>\n",
       "      <td>0.000000</td>\n",
       "      <td>0.000000</td>\n",
       "      <td>0.000000</td>\n",
       "      <td>23.000000</td>\n",
       "    </tr>\n",
       "    <tr>\n",
       "      <th>25%</th>\n",
       "      <td>2005.000000</td>\n",
       "      <td>0.030000</td>\n",
       "      <td>0.000000</td>\n",
       "      <td>0.000000</td>\n",
       "      <td>0.000000</td>\n",
       "      <td>61.000000</td>\n",
       "    </tr>\n",
       "    <tr>\n",
       "      <th>50%</th>\n",
       "      <td>2008.000000</td>\n",
       "      <td>0.070000</td>\n",
       "      <td>0.010000</td>\n",
       "      <td>0.000000</td>\n",
       "      <td>0.010000</td>\n",
       "      <td>65.500000</td>\n",
       "    </tr>\n",
       "    <tr>\n",
       "      <th>75%</th>\n",
       "      <td>2010.000000</td>\n",
       "      <td>0.150000</td>\n",
       "      <td>0.040000</td>\n",
       "      <td>0.000000</td>\n",
       "      <td>0.020000</td>\n",
       "      <td>69.000000</td>\n",
       "    </tr>\n",
       "    <tr>\n",
       "      <th>max</th>\n",
       "      <td>2016.000000</td>\n",
       "      <td>3.450000</td>\n",
       "      <td>2.590000</td>\n",
       "      <td>0.860000</td>\n",
       "      <td>1.090000</td>\n",
       "      <td>90.000000</td>\n",
       "    </tr>\n",
       "  </tbody>\n",
       "</table>\n",
       "</div>"
      ],
      "text/plain": [
       "       year_of_release     na_sales     eu_sales     jp_sales  other_sales  \\\n",
       "count      2376.000000  2376.000000  2376.000000  2376.000000  2376.000000   \n",
       "mean       2007.450337     0.125539     0.043674     0.002782     0.015905   \n",
       "std           3.484229     0.176593     0.112068     0.026395     0.039411   \n",
       "min        1997.000000     0.000000     0.000000     0.000000     0.000000   \n",
       "25%        2005.000000     0.030000     0.000000     0.000000     0.000000   \n",
       "50%        2008.000000     0.070000     0.010000     0.000000     0.010000   \n",
       "75%        2010.000000     0.150000     0.040000     0.000000     0.020000   \n",
       "max        2016.000000     3.450000     2.590000     0.860000     1.090000   \n",
       "\n",
       "       critic_score  \n",
       "count   2376.000000  \n",
       "mean      64.246843  \n",
       "std        8.818592  \n",
       "min       23.000000  \n",
       "25%       61.000000  \n",
       "50%       65.500000  \n",
       "75%       69.000000  \n",
       "max       90.000000  "
      ]
     },
     "execution_count": 35,
     "metadata": {},
     "output_type": "execute_result"
    }
   ],
   "source": [
    "# Looks at descriptive statistics for only rows that have 'tbd' in the user_score column\n",
    "\n",
    "game_user_tbd.describe()"
   ]
  },
  {
   "cell_type": "code",
   "execution_count": 36,
   "metadata": {},
   "outputs": [
    {
     "data": {
      "text/html": [
       "<div>\n",
       "<style scoped>\n",
       "    .dataframe tbody tr th:only-of-type {\n",
       "        vertical-align: middle;\n",
       "    }\n",
       "\n",
       "    .dataframe tbody tr th {\n",
       "        vertical-align: top;\n",
       "    }\n",
       "\n",
       "    .dataframe thead th {\n",
       "        text-align: right;\n",
       "    }\n",
       "</style>\n",
       "<table border=\"1\" class=\"dataframe\">\n",
       "  <thead>\n",
       "    <tr style=\"text-align: right;\">\n",
       "      <th></th>\n",
       "      <th>year_of_release</th>\n",
       "      <th>na_sales</th>\n",
       "      <th>eu_sales</th>\n",
       "      <th>jp_sales</th>\n",
       "      <th>other_sales</th>\n",
       "      <th>critic_score</th>\n",
       "    </tr>\n",
       "  </thead>\n",
       "  <tbody>\n",
       "    <tr>\n",
       "      <th>count</th>\n",
       "      <td>16444.000000</td>\n",
       "      <td>16444.000000</td>\n",
       "      <td>16444.000000</td>\n",
       "      <td>16444.000000</td>\n",
       "      <td>16444.000000</td>\n",
       "      <td>16444.000000</td>\n",
       "    </tr>\n",
       "    <tr>\n",
       "      <th>mean</th>\n",
       "      <td>2006.486256</td>\n",
       "      <td>0.264012</td>\n",
       "      <td>0.145930</td>\n",
       "      <td>0.078487</td>\n",
       "      <td>0.047594</td>\n",
       "      <td>69.135673</td>\n",
       "    </tr>\n",
       "    <tr>\n",
       "      <th>std</th>\n",
       "      <td>5.875525</td>\n",
       "      <td>0.818378</td>\n",
       "      <td>0.506716</td>\n",
       "      <td>0.311100</td>\n",
       "      <td>0.188005</td>\n",
       "      <td>10.256025</td>\n",
       "    </tr>\n",
       "    <tr>\n",
       "      <th>min</th>\n",
       "      <td>1980.000000</td>\n",
       "      <td>0.000000</td>\n",
       "      <td>0.000000</td>\n",
       "      <td>0.000000</td>\n",
       "      <td>0.000000</td>\n",
       "      <td>13.000000</td>\n",
       "    </tr>\n",
       "    <tr>\n",
       "      <th>25%</th>\n",
       "      <td>2003.000000</td>\n",
       "      <td>0.000000</td>\n",
       "      <td>0.000000</td>\n",
       "      <td>0.000000</td>\n",
       "      <td>0.000000</td>\n",
       "      <td>65.000000</td>\n",
       "    </tr>\n",
       "    <tr>\n",
       "      <th>50%</th>\n",
       "      <td>2007.000000</td>\n",
       "      <td>0.080000</td>\n",
       "      <td>0.020000</td>\n",
       "      <td>0.000000</td>\n",
       "      <td>0.010000</td>\n",
       "      <td>70.000000</td>\n",
       "    </tr>\n",
       "    <tr>\n",
       "      <th>75%</th>\n",
       "      <td>2010.000000</td>\n",
       "      <td>0.240000</td>\n",
       "      <td>0.110000</td>\n",
       "      <td>0.040000</td>\n",
       "      <td>0.030000</td>\n",
       "      <td>74.000000</td>\n",
       "    </tr>\n",
       "    <tr>\n",
       "      <th>max</th>\n",
       "      <td>2016.000000</td>\n",
       "      <td>41.360000</td>\n",
       "      <td>28.960000</td>\n",
       "      <td>10.220000</td>\n",
       "      <td>10.570000</td>\n",
       "      <td>98.000000</td>\n",
       "    </tr>\n",
       "  </tbody>\n",
       "</table>\n",
       "</div>"
      ],
      "text/plain": [
       "       year_of_release      na_sales      eu_sales      jp_sales  \\\n",
       "count     16444.000000  16444.000000  16444.000000  16444.000000   \n",
       "mean       2006.486256      0.264012      0.145930      0.078487   \n",
       "std           5.875525      0.818378      0.506716      0.311100   \n",
       "min        1980.000000      0.000000      0.000000      0.000000   \n",
       "25%        2003.000000      0.000000      0.000000      0.000000   \n",
       "50%        2007.000000      0.080000      0.020000      0.000000   \n",
       "75%        2010.000000      0.240000      0.110000      0.040000   \n",
       "max        2016.000000     41.360000     28.960000     10.220000   \n",
       "\n",
       "        other_sales  critic_score  \n",
       "count  16444.000000  16444.000000  \n",
       "mean       0.047594     69.135673  \n",
       "std        0.188005     10.256025  \n",
       "min        0.000000     13.000000  \n",
       "25%        0.000000     65.000000  \n",
       "50%        0.010000     70.000000  \n",
       "75%        0.030000     74.000000  \n",
       "max       10.570000     98.000000  "
      ]
     },
     "execution_count": 36,
     "metadata": {},
     "output_type": "execute_result"
    }
   ],
   "source": [
    "# Looks at descriptive statistics for the data overall to compare\n",
    "\n",
    "game_data.describe()"
   ]
  },
  {
   "cell_type": "code",
   "execution_count": 37,
   "metadata": {},
   "outputs": [],
   "source": [
    "# Replaces 'tbd' with an empty string so that user_score can be converted to a float type\n",
    "\n",
    "game_data['user_score'].replace('tbd','', inplace=True)"
   ]
  },
  {
   "cell_type": "code",
   "execution_count": 38,
   "metadata": {},
   "outputs": [
    {
     "name": "stdout",
     "output_type": "stream",
     "text": [
      "<class 'pandas.core.frame.DataFrame'>\n",
      "Int64Index: 16444 entries, 0 to 16714\n",
      "Data columns (total 12 columns):\n",
      " #   Column           Non-Null Count  Dtype  \n",
      "---  ------           --------------  -----  \n",
      " 0   name             16444 non-null  object \n",
      " 1   platform         16444 non-null  object \n",
      " 2   year_of_release  16444 non-null  float64\n",
      " 3   genre            16444 non-null  object \n",
      " 4   na_sales         16444 non-null  float64\n",
      " 5   eu_sales         16444 non-null  float64\n",
      " 6   jp_sales         16444 non-null  float64\n",
      " 7   other_sales      16444 non-null  float64\n",
      " 8   critic_score     16444 non-null  float64\n",
      " 9   user_score       7463 non-null   float64\n",
      " 10  rating           9768 non-null   object \n",
      " 11  platform_cat     16444 non-null  object \n",
      "dtypes: float64(7), object(5)\n",
      "memory usage: 1.6+ MB\n"
     ]
    }
   ],
   "source": [
    "# Convert user score to float64\n",
    "\n",
    "game_data['user_score'] = pd.to_numeric(game_data['user_score'], errors = 'ignore')\n",
    "\n",
    "game_data.info()"
   ]
  },
  {
   "cell_type": "code",
   "execution_count": 39,
   "metadata": {},
   "outputs": [
    {
     "data": {
      "text/html": [
       "<div>\n",
       "<style scoped>\n",
       "    .dataframe tbody tr th:only-of-type {\n",
       "        vertical-align: middle;\n",
       "    }\n",
       "\n",
       "    .dataframe tbody tr th {\n",
       "        vertical-align: top;\n",
       "    }\n",
       "\n",
       "    .dataframe thead th {\n",
       "        text-align: right;\n",
       "    }\n",
       "</style>\n",
       "<table border=\"1\" class=\"dataframe\">\n",
       "  <thead>\n",
       "    <tr style=\"text-align: right;\">\n",
       "      <th></th>\n",
       "      <th>year_of_release</th>\n",
       "      <th>na_sales</th>\n",
       "      <th>eu_sales</th>\n",
       "      <th>jp_sales</th>\n",
       "      <th>other_sales</th>\n",
       "      <th>critic_score</th>\n",
       "      <th>user_score</th>\n",
       "    </tr>\n",
       "  </thead>\n",
       "  <tbody>\n",
       "    <tr>\n",
       "      <th>count</th>\n",
       "      <td>16444.000000</td>\n",
       "      <td>16444.000000</td>\n",
       "      <td>16444.000000</td>\n",
       "      <td>16444.000000</td>\n",
       "      <td>16444.000000</td>\n",
       "      <td>16444.000000</td>\n",
       "      <td>7463.000000</td>\n",
       "    </tr>\n",
       "    <tr>\n",
       "      <th>mean</th>\n",
       "      <td>2006.486256</td>\n",
       "      <td>0.264012</td>\n",
       "      <td>0.145930</td>\n",
       "      <td>0.078487</td>\n",
       "      <td>0.047594</td>\n",
       "      <td>69.135673</td>\n",
       "      <td>7.126330</td>\n",
       "    </tr>\n",
       "    <tr>\n",
       "      <th>std</th>\n",
       "      <td>5.875525</td>\n",
       "      <td>0.818378</td>\n",
       "      <td>0.506716</td>\n",
       "      <td>0.311100</td>\n",
       "      <td>0.188005</td>\n",
       "      <td>10.256025</td>\n",
       "      <td>1.499447</td>\n",
       "    </tr>\n",
       "    <tr>\n",
       "      <th>min</th>\n",
       "      <td>1980.000000</td>\n",
       "      <td>0.000000</td>\n",
       "      <td>0.000000</td>\n",
       "      <td>0.000000</td>\n",
       "      <td>0.000000</td>\n",
       "      <td>13.000000</td>\n",
       "      <td>0.000000</td>\n",
       "    </tr>\n",
       "    <tr>\n",
       "      <th>25%</th>\n",
       "      <td>2003.000000</td>\n",
       "      <td>0.000000</td>\n",
       "      <td>0.000000</td>\n",
       "      <td>0.000000</td>\n",
       "      <td>0.000000</td>\n",
       "      <td>65.000000</td>\n",
       "      <td>6.400000</td>\n",
       "    </tr>\n",
       "    <tr>\n",
       "      <th>50%</th>\n",
       "      <td>2007.000000</td>\n",
       "      <td>0.080000</td>\n",
       "      <td>0.020000</td>\n",
       "      <td>0.000000</td>\n",
       "      <td>0.010000</td>\n",
       "      <td>70.000000</td>\n",
       "      <td>7.500000</td>\n",
       "    </tr>\n",
       "    <tr>\n",
       "      <th>75%</th>\n",
       "      <td>2010.000000</td>\n",
       "      <td>0.240000</td>\n",
       "      <td>0.110000</td>\n",
       "      <td>0.040000</td>\n",
       "      <td>0.030000</td>\n",
       "      <td>74.000000</td>\n",
       "      <td>8.200000</td>\n",
       "    </tr>\n",
       "    <tr>\n",
       "      <th>max</th>\n",
       "      <td>2016.000000</td>\n",
       "      <td>41.360000</td>\n",
       "      <td>28.960000</td>\n",
       "      <td>10.220000</td>\n",
       "      <td>10.570000</td>\n",
       "      <td>98.000000</td>\n",
       "      <td>9.700000</td>\n",
       "    </tr>\n",
       "  </tbody>\n",
       "</table>\n",
       "</div>"
      ],
      "text/plain": [
       "       year_of_release      na_sales      eu_sales      jp_sales  \\\n",
       "count     16444.000000  16444.000000  16444.000000  16444.000000   \n",
       "mean       2006.486256      0.264012      0.145930      0.078487   \n",
       "std           5.875525      0.818378      0.506716      0.311100   \n",
       "min        1980.000000      0.000000      0.000000      0.000000   \n",
       "25%        2003.000000      0.000000      0.000000      0.000000   \n",
       "50%        2007.000000      0.080000      0.020000      0.000000   \n",
       "75%        2010.000000      0.240000      0.110000      0.040000   \n",
       "max        2016.000000     41.360000     28.960000     10.220000   \n",
       "\n",
       "        other_sales  critic_score   user_score  \n",
       "count  16444.000000  16444.000000  7463.000000  \n",
       "mean       0.047594     69.135673     7.126330  \n",
       "std        0.188005     10.256025     1.499447  \n",
       "min        0.000000     13.000000     0.000000  \n",
       "25%        0.000000     65.000000     6.400000  \n",
       "50%        0.010000     70.000000     7.500000  \n",
       "75%        0.030000     74.000000     8.200000  \n",
       "max       10.570000     98.000000     9.700000  "
      ]
     },
     "execution_count": 39,
     "metadata": {},
     "output_type": "execute_result"
    }
   ],
   "source": [
    "game_data.describe()"
   ]
  },
  {
   "cell_type": "code",
   "execution_count": 40,
   "metadata": {},
   "outputs": [
    {
     "data": {
      "text/html": [
       "<div>\n",
       "<style scoped>\n",
       "    .dataframe tbody tr th:only-of-type {\n",
       "        vertical-align: middle;\n",
       "    }\n",
       "\n",
       "    .dataframe tbody tr th {\n",
       "        vertical-align: top;\n",
       "    }\n",
       "\n",
       "    .dataframe thead th {\n",
       "        text-align: right;\n",
       "    }\n",
       "</style>\n",
       "<table border=\"1\" class=\"dataframe\">\n",
       "  <thead>\n",
       "    <tr style=\"text-align: right;\">\n",
       "      <th></th>\n",
       "      <th>name</th>\n",
       "      <th>platform</th>\n",
       "      <th>year_of_release</th>\n",
       "      <th>genre</th>\n",
       "      <th>na_sales</th>\n",
       "      <th>eu_sales</th>\n",
       "      <th>jp_sales</th>\n",
       "      <th>other_sales</th>\n",
       "      <th>critic_score</th>\n",
       "      <th>user_score</th>\n",
       "      <th>rating</th>\n",
       "      <th>platform_cat</th>\n",
       "    </tr>\n",
       "  </thead>\n",
       "  <tbody>\n",
       "    <tr>\n",
       "      <th>1</th>\n",
       "      <td>Super Mario Bros.</td>\n",
       "      <td>NES</td>\n",
       "      <td>1985.0</td>\n",
       "      <td>Platform</td>\n",
       "      <td>29.08</td>\n",
       "      <td>3.58</td>\n",
       "      <td>6.81</td>\n",
       "      <td>0.77</td>\n",
       "      <td>71.0</td>\n",
       "      <td>NaN</td>\n",
       "      <td>NaN</td>\n",
       "      <td>NES</td>\n",
       "    </tr>\n",
       "    <tr>\n",
       "      <th>4</th>\n",
       "      <td>Pokemon Red/Pokemon Blue</td>\n",
       "      <td>GB</td>\n",
       "      <td>1996.0</td>\n",
       "      <td>Role-Playing</td>\n",
       "      <td>11.27</td>\n",
       "      <td>8.89</td>\n",
       "      <td>10.22</td>\n",
       "      <td>1.00</td>\n",
       "      <td>76.0</td>\n",
       "      <td>NaN</td>\n",
       "      <td>NaN</td>\n",
       "      <td>GB</td>\n",
       "    </tr>\n",
       "    <tr>\n",
       "      <th>5</th>\n",
       "      <td>Tetris</td>\n",
       "      <td>GB</td>\n",
       "      <td>1989.0</td>\n",
       "      <td>Puzzle</td>\n",
       "      <td>23.20</td>\n",
       "      <td>2.26</td>\n",
       "      <td>4.22</td>\n",
       "      <td>0.58</td>\n",
       "      <td>71.0</td>\n",
       "      <td>NaN</td>\n",
       "      <td>NaN</td>\n",
       "      <td>GB</td>\n",
       "    </tr>\n",
       "    <tr>\n",
       "      <th>9</th>\n",
       "      <td>Duck Hunt</td>\n",
       "      <td>NES</td>\n",
       "      <td>1984.0</td>\n",
       "      <td>Shooter</td>\n",
       "      <td>26.93</td>\n",
       "      <td>0.63</td>\n",
       "      <td>0.28</td>\n",
       "      <td>0.47</td>\n",
       "      <td>71.0</td>\n",
       "      <td>NaN</td>\n",
       "      <td>NaN</td>\n",
       "      <td>NES</td>\n",
       "    </tr>\n",
       "    <tr>\n",
       "      <th>10</th>\n",
       "      <td>Nintendogs</td>\n",
       "      <td>DS</td>\n",
       "      <td>2005.0</td>\n",
       "      <td>Simulation</td>\n",
       "      <td>9.05</td>\n",
       "      <td>10.95</td>\n",
       "      <td>1.93</td>\n",
       "      <td>2.74</td>\n",
       "      <td>65.5</td>\n",
       "      <td>NaN</td>\n",
       "      <td>NaN</td>\n",
       "      <td>DS</td>\n",
       "    </tr>\n",
       "    <tr>\n",
       "      <th>...</th>\n",
       "      <td>...</td>\n",
       "      <td>...</td>\n",
       "      <td>...</td>\n",
       "      <td>...</td>\n",
       "      <td>...</td>\n",
       "      <td>...</td>\n",
       "      <td>...</td>\n",
       "      <td>...</td>\n",
       "      <td>...</td>\n",
       "      <td>...</td>\n",
       "      <td>...</td>\n",
       "      <td>...</td>\n",
       "    </tr>\n",
       "    <tr>\n",
       "      <th>16710</th>\n",
       "      <td>Samurai Warriors: Sanada Maru</td>\n",
       "      <td>PS3</td>\n",
       "      <td>2016.0</td>\n",
       "      <td>Action</td>\n",
       "      <td>0.00</td>\n",
       "      <td>0.00</td>\n",
       "      <td>0.01</td>\n",
       "      <td>0.00</td>\n",
       "      <td>69.0</td>\n",
       "      <td>NaN</td>\n",
       "      <td>NaN</td>\n",
       "      <td>PS</td>\n",
       "    </tr>\n",
       "    <tr>\n",
       "      <th>16711</th>\n",
       "      <td>LMA Manager 2007</td>\n",
       "      <td>X360</td>\n",
       "      <td>2006.0</td>\n",
       "      <td>Sports</td>\n",
       "      <td>0.00</td>\n",
       "      <td>0.01</td>\n",
       "      <td>0.00</td>\n",
       "      <td>0.00</td>\n",
       "      <td>77.0</td>\n",
       "      <td>NaN</td>\n",
       "      <td>NaN</td>\n",
       "      <td>XBox</td>\n",
       "    </tr>\n",
       "    <tr>\n",
       "      <th>16712</th>\n",
       "      <td>Haitaka no Psychedelica</td>\n",
       "      <td>PSV</td>\n",
       "      <td>2016.0</td>\n",
       "      <td>Adventure</td>\n",
       "      <td>0.00</td>\n",
       "      <td>0.00</td>\n",
       "      <td>0.01</td>\n",
       "      <td>0.00</td>\n",
       "      <td>66.0</td>\n",
       "      <td>NaN</td>\n",
       "      <td>NaN</td>\n",
       "      <td>PS</td>\n",
       "    </tr>\n",
       "    <tr>\n",
       "      <th>16713</th>\n",
       "      <td>Spirits &amp; Spells</td>\n",
       "      <td>GBA</td>\n",
       "      <td>2003.0</td>\n",
       "      <td>Platform</td>\n",
       "      <td>0.01</td>\n",
       "      <td>0.00</td>\n",
       "      <td>0.00</td>\n",
       "      <td>0.00</td>\n",
       "      <td>71.0</td>\n",
       "      <td>NaN</td>\n",
       "      <td>NaN</td>\n",
       "      <td>GB</td>\n",
       "    </tr>\n",
       "    <tr>\n",
       "      <th>16714</th>\n",
       "      <td>Winning Post 8 2016</td>\n",
       "      <td>PSV</td>\n",
       "      <td>2016.0</td>\n",
       "      <td>Simulation</td>\n",
       "      <td>0.00</td>\n",
       "      <td>0.00</td>\n",
       "      <td>0.01</td>\n",
       "      <td>0.00</td>\n",
       "      <td>70.0</td>\n",
       "      <td>NaN</td>\n",
       "      <td>NaN</td>\n",
       "      <td>PS</td>\n",
       "    </tr>\n",
       "  </tbody>\n",
       "</table>\n",
       "<p>8981 rows × 12 columns</p>\n",
       "</div>"
      ],
      "text/plain": [
       "                                name platform  year_of_release         genre  \\\n",
       "1                  Super Mario Bros.      NES           1985.0      Platform   \n",
       "4           Pokemon Red/Pokemon Blue       GB           1996.0  Role-Playing   \n",
       "5                             Tetris       GB           1989.0        Puzzle   \n",
       "9                          Duck Hunt      NES           1984.0       Shooter   \n",
       "10                        Nintendogs       DS           2005.0    Simulation   \n",
       "...                              ...      ...              ...           ...   \n",
       "16710  Samurai Warriors: Sanada Maru      PS3           2016.0        Action   \n",
       "16711               LMA Manager 2007     X360           2006.0        Sports   \n",
       "16712        Haitaka no Psychedelica      PSV           2016.0     Adventure   \n",
       "16713               Spirits & Spells      GBA           2003.0      Platform   \n",
       "16714            Winning Post 8 2016      PSV           2016.0    Simulation   \n",
       "\n",
       "       na_sales  eu_sales  jp_sales  other_sales  critic_score  user_score  \\\n",
       "1         29.08      3.58      6.81         0.77          71.0         NaN   \n",
       "4         11.27      8.89     10.22         1.00          76.0         NaN   \n",
       "5         23.20      2.26      4.22         0.58          71.0         NaN   \n",
       "9         26.93      0.63      0.28         0.47          71.0         NaN   \n",
       "10         9.05     10.95      1.93         2.74          65.5         NaN   \n",
       "...         ...       ...       ...          ...           ...         ...   \n",
       "16710      0.00      0.00      0.01         0.00          69.0         NaN   \n",
       "16711      0.00      0.01      0.00         0.00          77.0         NaN   \n",
       "16712      0.00      0.00      0.01         0.00          66.0         NaN   \n",
       "16713      0.01      0.00      0.00         0.00          71.0         NaN   \n",
       "16714      0.00      0.00      0.01         0.00          70.0         NaN   \n",
       "\n",
       "      rating platform_cat  \n",
       "1        NaN          NES  \n",
       "4        NaN           GB  \n",
       "5        NaN           GB  \n",
       "9        NaN          NES  \n",
       "10       NaN           DS  \n",
       "...      ...          ...  \n",
       "16710    NaN           PS  \n",
       "16711    NaN         XBox  \n",
       "16712    NaN           PS  \n",
       "16713    NaN           GB  \n",
       "16714    NaN           PS  \n",
       "\n",
       "[8981 rows x 12 columns]"
      ]
     },
     "execution_count": 40,
     "metadata": {},
     "output_type": "execute_result"
    }
   ],
   "source": [
    "# Pull out rows where there is missing data in the column 'user score'\n",
    "\n",
    "game_user_na = game_data.loc[game_data['user_score'].isna()]\n",
    "\n",
    "game_user_na"
   ]
  },
  {
   "cell_type": "code",
   "execution_count": 41,
   "metadata": {},
   "outputs": [
    {
     "name": "stdout",
     "output_type": "stream",
     "text": [
      "<class 'pandas.core.frame.DataFrame'>\n",
      "Int64Index: 16444 entries, 0 to 16714\n",
      "Data columns (total 12 columns):\n",
      " #   Column           Non-Null Count  Dtype  \n",
      "---  ------           --------------  -----  \n",
      " 0   name             16444 non-null  object \n",
      " 1   platform         16444 non-null  object \n",
      " 2   year_of_release  16444 non-null  float64\n",
      " 3   genre            16444 non-null  object \n",
      " 4   na_sales         16444 non-null  float64\n",
      " 5   eu_sales         16444 non-null  float64\n",
      " 6   jp_sales         16444 non-null  float64\n",
      " 7   other_sales      16444 non-null  float64\n",
      " 8   critic_score     16444 non-null  float64\n",
      " 9   user_score       16444 non-null  float64\n",
      " 10  rating           9768 non-null   object \n",
      " 11  platform_cat     16444 non-null  object \n",
      "dtypes: float64(7), object(5)\n",
      "memory usage: 1.6+ MB\n"
     ]
    }
   ],
   "source": [
    "# Fills in the missing data with the median for the game's platform and genre. For the platforms/genres that only had missing data, this fills in the median for overall critic scores.\n",
    "\n",
    "game_data['user_score'] = (game_data.groupby(['platform_cat','genre'])['user_score'].transform(lambda x: x.fillna(x.median()))).fillna(game_data['user_score'].median())\n",
    "\n",
    "game_data.info()                                                                                                                                                                                                                                                              \n",
    "                                                                                                                                  "
   ]
  },
  {
   "cell_type": "markdown",
   "metadata": {},
   "source": [
    "#### Ratings"
   ]
  },
  {
   "cell_type": "code",
   "execution_count": 42,
   "metadata": {},
   "outputs": [],
   "source": [
    "# Pull out rows where there is missing data in the column 'rating'\n",
    "\n",
    "game_rating_na = game_data.loc[game_data['rating'].isna()]"
   ]
  },
  {
   "cell_type": "code",
   "execution_count": 43,
   "metadata": {},
   "outputs": [
    {
     "data": {
      "text/plain": [
       "array(['E', nan, 'M', 'T', 'E10+', 'K-A', 'AO', 'EC', 'RP'], dtype=object)"
      ]
     },
     "execution_count": 43,
     "metadata": {},
     "output_type": "execute_result"
    }
   ],
   "source": [
    "game_data['rating'].unique()"
   ]
  },
  {
   "cell_type": "code",
   "execution_count": 44,
   "metadata": {},
   "outputs": [
    {
     "data": {
      "text/plain": [
       "array(['E', 'not rated', 'M', 'T', 'E10+', 'K-A', 'AO', 'EC', 'RP'],\n",
       "      dtype=object)"
      ]
     },
     "execution_count": 44,
     "metadata": {},
     "output_type": "execute_result"
    }
   ],
   "source": [
    "# Replaces 'nan' with 'not rated'\n",
    "\n",
    "game_data['rating'].fillna('not rated', inplace=True)\n",
    "\n",
    "game_data['rating'].unique()"
   ]
  },
  {
   "cell_type": "markdown",
   "metadata": {},
   "source": [
    "### Calculating Total Sales"
   ]
  },
  {
   "cell_type": "code",
   "execution_count": 45,
   "metadata": {},
   "outputs": [
    {
     "data": {
      "text/html": [
       "<div>\n",
       "<style scoped>\n",
       "    .dataframe tbody tr th:only-of-type {\n",
       "        vertical-align: middle;\n",
       "    }\n",
       "\n",
       "    .dataframe tbody tr th {\n",
       "        vertical-align: top;\n",
       "    }\n",
       "\n",
       "    .dataframe thead th {\n",
       "        text-align: right;\n",
       "    }\n",
       "</style>\n",
       "<table border=\"1\" class=\"dataframe\">\n",
       "  <thead>\n",
       "    <tr style=\"text-align: right;\">\n",
       "      <th></th>\n",
       "      <th>name</th>\n",
       "      <th>platform</th>\n",
       "      <th>year_of_release</th>\n",
       "      <th>genre</th>\n",
       "      <th>na_sales</th>\n",
       "      <th>eu_sales</th>\n",
       "      <th>jp_sales</th>\n",
       "      <th>other_sales</th>\n",
       "      <th>critic_score</th>\n",
       "      <th>user_score</th>\n",
       "      <th>rating</th>\n",
       "      <th>platform_cat</th>\n",
       "      <th>total_sales</th>\n",
       "    </tr>\n",
       "  </thead>\n",
       "  <tbody>\n",
       "    <tr>\n",
       "      <th>0</th>\n",
       "      <td>Wii Sports</td>\n",
       "      <td>Wii</td>\n",
       "      <td>2006.0</td>\n",
       "      <td>Sports</td>\n",
       "      <td>41.36</td>\n",
       "      <td>28.96</td>\n",
       "      <td>3.77</td>\n",
       "      <td>8.45</td>\n",
       "      <td>76.0</td>\n",
       "      <td>8.00</td>\n",
       "      <td>E</td>\n",
       "      <td>Wii</td>\n",
       "      <td>82.54</td>\n",
       "    </tr>\n",
       "    <tr>\n",
       "      <th>1</th>\n",
       "      <td>Super Mario Bros.</td>\n",
       "      <td>NES</td>\n",
       "      <td>1985.0</td>\n",
       "      <td>Platform</td>\n",
       "      <td>29.08</td>\n",
       "      <td>3.58</td>\n",
       "      <td>6.81</td>\n",
       "      <td>0.77</td>\n",
       "      <td>71.0</td>\n",
       "      <td>7.50</td>\n",
       "      <td>not rated</td>\n",
       "      <td>NES</td>\n",
       "      <td>40.24</td>\n",
       "    </tr>\n",
       "    <tr>\n",
       "      <th>2</th>\n",
       "      <td>Mario Kart Wii</td>\n",
       "      <td>Wii</td>\n",
       "      <td>2008.0</td>\n",
       "      <td>Racing</td>\n",
       "      <td>15.68</td>\n",
       "      <td>12.76</td>\n",
       "      <td>3.79</td>\n",
       "      <td>3.29</td>\n",
       "      <td>82.0</td>\n",
       "      <td>8.30</td>\n",
       "      <td>E</td>\n",
       "      <td>Wii</td>\n",
       "      <td>35.52</td>\n",
       "    </tr>\n",
       "    <tr>\n",
       "      <th>3</th>\n",
       "      <td>Wii Sports Resort</td>\n",
       "      <td>Wii</td>\n",
       "      <td>2009.0</td>\n",
       "      <td>Sports</td>\n",
       "      <td>15.61</td>\n",
       "      <td>10.93</td>\n",
       "      <td>3.28</td>\n",
       "      <td>2.95</td>\n",
       "      <td>80.0</td>\n",
       "      <td>8.00</td>\n",
       "      <td>E</td>\n",
       "      <td>Wii</td>\n",
       "      <td>32.77</td>\n",
       "    </tr>\n",
       "    <tr>\n",
       "      <th>4</th>\n",
       "      <td>Pokemon Red/Pokemon Blue</td>\n",
       "      <td>GB</td>\n",
       "      <td>1996.0</td>\n",
       "      <td>Role-Playing</td>\n",
       "      <td>11.27</td>\n",
       "      <td>8.89</td>\n",
       "      <td>10.22</td>\n",
       "      <td>1.00</td>\n",
       "      <td>76.0</td>\n",
       "      <td>8.45</td>\n",
       "      <td>not rated</td>\n",
       "      <td>GB</td>\n",
       "      <td>31.38</td>\n",
       "    </tr>\n",
       "  </tbody>\n",
       "</table>\n",
       "</div>"
      ],
      "text/plain": [
       "                       name platform  year_of_release         genre  na_sales  \\\n",
       "0                Wii Sports      Wii           2006.0        Sports     41.36   \n",
       "1         Super Mario Bros.      NES           1985.0      Platform     29.08   \n",
       "2            Mario Kart Wii      Wii           2008.0        Racing     15.68   \n",
       "3         Wii Sports Resort      Wii           2009.0        Sports     15.61   \n",
       "4  Pokemon Red/Pokemon Blue       GB           1996.0  Role-Playing     11.27   \n",
       "\n",
       "   eu_sales  jp_sales  other_sales  critic_score  user_score     rating  \\\n",
       "0     28.96      3.77         8.45          76.0        8.00          E   \n",
       "1      3.58      6.81         0.77          71.0        7.50  not rated   \n",
       "2     12.76      3.79         3.29          82.0        8.30          E   \n",
       "3     10.93      3.28         2.95          80.0        8.00          E   \n",
       "4      8.89     10.22         1.00          76.0        8.45  not rated   \n",
       "\n",
       "  platform_cat  total_sales  \n",
       "0          Wii        82.54  \n",
       "1          NES        40.24  \n",
       "2          Wii        35.52  \n",
       "3          Wii        32.77  \n",
       "4           GB        31.38  "
      ]
     },
     "execution_count": 45,
     "metadata": {},
     "output_type": "execute_result"
    }
   ],
   "source": [
    "# Calculate total sales across all regions and add to the table\n",
    "\n",
    "game_data['total_sales'] = game_data['na_sales'] + game_data['eu_sales'] + game_data['jp_sales'] + game_data['other_sales']\n",
    "\n",
    "game_data.head()                                                                                                                                                                                      "
   ]
  },
  {
   "cell_type": "markdown",
   "metadata": {},
   "source": [
    "## Analysis \n",
    "\n",
    "**Observations**\n",
    "* The most games were released in 2008, 2009, 2010, 2007 and 2011. \n",
    "* The top platforms with the most sales PS(playstation) and Xbox. \n",
    "* Out of the top-performing platforms, sales emerged around 1994 for PS and 2001 for XBox. Therefore, I segmented the data to elimate years before 1994 since we won't need them to compare the two top performing platforms. \n",
    "* While the average and median sales are generally similar, the platforms Wii, PS, and DS have the highest maximum  sales/outliers. \n",
    "* Total sales were impacted positively by critic and user score. \n",
    "* The top-performing genres are action, sports, miscellaneous, shooter and role-playing.\n"
   ]
  },
  {
   "cell_type": "code",
   "execution_count": 46,
   "metadata": {},
   "outputs": [
    {
     "data": {
      "text/html": [
       "<div>\n",
       "<style scoped>\n",
       "    .dataframe tbody tr th:only-of-type {\n",
       "        vertical-align: middle;\n",
       "    }\n",
       "\n",
       "    .dataframe tbody tr th {\n",
       "        vertical-align: top;\n",
       "    }\n",
       "\n",
       "    .dataframe thead th {\n",
       "        text-align: right;\n",
       "    }\n",
       "</style>\n",
       "<table border=\"1\" class=\"dataframe\">\n",
       "  <thead>\n",
       "    <tr style=\"text-align: right;\">\n",
       "      <th></th>\n",
       "      <th>game_count</th>\n",
       "    </tr>\n",
       "    <tr>\n",
       "      <th>year_of_release</th>\n",
       "      <th></th>\n",
       "    </tr>\n",
       "  </thead>\n",
       "  <tbody>\n",
       "    <tr>\n",
       "      <th>2008.0</th>\n",
       "      <td>1427</td>\n",
       "    </tr>\n",
       "    <tr>\n",
       "      <th>2009.0</th>\n",
       "      <td>1426</td>\n",
       "    </tr>\n",
       "    <tr>\n",
       "      <th>2010.0</th>\n",
       "      <td>1255</td>\n",
       "    </tr>\n",
       "    <tr>\n",
       "      <th>2007.0</th>\n",
       "      <td>1197</td>\n",
       "    </tr>\n",
       "    <tr>\n",
       "      <th>2011.0</th>\n",
       "      <td>1136</td>\n",
       "    </tr>\n",
       "    <tr>\n",
       "      <th>2006.0</th>\n",
       "      <td>1006</td>\n",
       "    </tr>\n",
       "    <tr>\n",
       "      <th>2005.0</th>\n",
       "      <td>939</td>\n",
       "    </tr>\n",
       "    <tr>\n",
       "      <th>2002.0</th>\n",
       "      <td>829</td>\n",
       "    </tr>\n",
       "    <tr>\n",
       "      <th>2003.0</th>\n",
       "      <td>775</td>\n",
       "    </tr>\n",
       "    <tr>\n",
       "      <th>2004.0</th>\n",
       "      <td>762</td>\n",
       "    </tr>\n",
       "    <tr>\n",
       "      <th>2012.0</th>\n",
       "      <td>653</td>\n",
       "    </tr>\n",
       "    <tr>\n",
       "      <th>2015.0</th>\n",
       "      <td>606</td>\n",
       "    </tr>\n",
       "    <tr>\n",
       "      <th>2014.0</th>\n",
       "      <td>581</td>\n",
       "    </tr>\n",
       "    <tr>\n",
       "      <th>2013.0</th>\n",
       "      <td>544</td>\n",
       "    </tr>\n",
       "    <tr>\n",
       "      <th>2016.0</th>\n",
       "      <td>502</td>\n",
       "    </tr>\n",
       "    <tr>\n",
       "      <th>2001.0</th>\n",
       "      <td>482</td>\n",
       "    </tr>\n",
       "    <tr>\n",
       "      <th>1998.0</th>\n",
       "      <td>379</td>\n",
       "    </tr>\n",
       "    <tr>\n",
       "      <th>2000.0</th>\n",
       "      <td>350</td>\n",
       "    </tr>\n",
       "    <tr>\n",
       "      <th>1999.0</th>\n",
       "      <td>338</td>\n",
       "    </tr>\n",
       "    <tr>\n",
       "      <th>1997.0</th>\n",
       "      <td>289</td>\n",
       "    </tr>\n",
       "    <tr>\n",
       "      <th>1996.0</th>\n",
       "      <td>263</td>\n",
       "    </tr>\n",
       "    <tr>\n",
       "      <th>1995.0</th>\n",
       "      <td>219</td>\n",
       "    </tr>\n",
       "    <tr>\n",
       "      <th>1994.0</th>\n",
       "      <td>121</td>\n",
       "    </tr>\n",
       "    <tr>\n",
       "      <th>1993.0</th>\n",
       "      <td>60</td>\n",
       "    </tr>\n",
       "    <tr>\n",
       "      <th>1981.0</th>\n",
       "      <td>46</td>\n",
       "    </tr>\n",
       "    <tr>\n",
       "      <th>1992.0</th>\n",
       "      <td>43</td>\n",
       "    </tr>\n",
       "    <tr>\n",
       "      <th>1991.0</th>\n",
       "      <td>41</td>\n",
       "    </tr>\n",
       "    <tr>\n",
       "      <th>1982.0</th>\n",
       "      <td>36</td>\n",
       "    </tr>\n",
       "    <tr>\n",
       "      <th>1986.0</th>\n",
       "      <td>21</td>\n",
       "    </tr>\n",
       "    <tr>\n",
       "      <th>1989.0</th>\n",
       "      <td>17</td>\n",
       "    </tr>\n",
       "    <tr>\n",
       "      <th>1983.0</th>\n",
       "      <td>17</td>\n",
       "    </tr>\n",
       "    <tr>\n",
       "      <th>1990.0</th>\n",
       "      <td>16</td>\n",
       "    </tr>\n",
       "    <tr>\n",
       "      <th>1987.0</th>\n",
       "      <td>16</td>\n",
       "    </tr>\n",
       "    <tr>\n",
       "      <th>1988.0</th>\n",
       "      <td>15</td>\n",
       "    </tr>\n",
       "    <tr>\n",
       "      <th>1985.0</th>\n",
       "      <td>14</td>\n",
       "    </tr>\n",
       "    <tr>\n",
       "      <th>1984.0</th>\n",
       "      <td>14</td>\n",
       "    </tr>\n",
       "    <tr>\n",
       "      <th>1980.0</th>\n",
       "      <td>9</td>\n",
       "    </tr>\n",
       "  </tbody>\n",
       "</table>\n",
       "</div>"
      ],
      "text/plain": [
       "                 game_count\n",
       "year_of_release            \n",
       "2008.0                 1427\n",
       "2009.0                 1426\n",
       "2010.0                 1255\n",
       "2007.0                 1197\n",
       "2011.0                 1136\n",
       "2006.0                 1006\n",
       "2005.0                  939\n",
       "2002.0                  829\n",
       "2003.0                  775\n",
       "2004.0                  762\n",
       "2012.0                  653\n",
       "2015.0                  606\n",
       "2014.0                  581\n",
       "2013.0                  544\n",
       "2016.0                  502\n",
       "2001.0                  482\n",
       "1998.0                  379\n",
       "2000.0                  350\n",
       "1999.0                  338\n",
       "1997.0                  289\n",
       "1996.0                  263\n",
       "1995.0                  219\n",
       "1994.0                  121\n",
       "1993.0                   60\n",
       "1981.0                   46\n",
       "1992.0                   43\n",
       "1991.0                   41\n",
       "1982.0                   36\n",
       "1986.0                   21\n",
       "1989.0                   17\n",
       "1983.0                   17\n",
       "1990.0                   16\n",
       "1987.0                   16\n",
       "1988.0                   15\n",
       "1985.0                   14\n",
       "1984.0                   14\n",
       "1980.0                    9"
      ]
     },
     "execution_count": 46,
     "metadata": {},
     "output_type": "execute_result"
    }
   ],
   "source": [
    "# Calculates the number of games released per year \n",
    "\n",
    "games_number = pd.pivot_table(game_data, index='year_of_release', values='name', aggfunc='count')\n",
    "\n",
    "games_number.rename(columns={\"name\":\"game_count\"}).sort_values(by='game_count', ascending=False)"
   ]
  },
  {
   "cell_type": "code",
   "execution_count": 47,
   "metadata": {},
   "outputs": [
    {
     "data": {
      "image/png": "[encoded data removed]",
      "text/plain": [
       "<Figure size 1080x720 with 1 Axes>"
      ]
     },
     "metadata": {
      "needs_background": "light"
     },
     "output_type": "display_data"
    }
   ],
   "source": [
    "# Looks at total sales across year \n",
    "\n",
    "pd.pivot_table(game_data, index='year_of_release', values='total_sales', aggfunc='sum').plot(kind='bar', figsize=(15,10));\n",
    "\n",
    "plt.xlabel('Year of Release') \n",
    "plt.ylabel('Total Sales') \n",
    "plt.title(\"Distribution of Total Sales Across Years\");"
   ]
  },
  {
   "cell_type": "markdown",
   "metadata": {},
   "source": [
    "**Interpretation of Graph**\n",
    "* Sales peaked between 2007 and 2010.\n",
    "* In order to inform an ad campaign for 2017, we will use recent date, looking at the last 6 years (2010-2016). "
   ]
  },
  {
   "cell_type": "code",
   "execution_count": 48,
   "metadata": {},
   "outputs": [],
   "source": [
    "# Pulls out data from the last 7 years\n",
    "\n",
    "game_data_years = game_data.query('year_of_release >= 2010')"
   ]
  },
  {
   "cell_type": "code",
   "execution_count": 49,
   "metadata": {},
   "outputs": [
    {
     "data": {
      "image/png": "[encoded data removed]",
      "text/plain": [
       "<Figure size 432x288 with 1 Axes>"
      ]
     },
     "metadata": {
      "needs_background": "light"
     },
     "output_type": "display_data"
    }
   ],
   "source": [
    "# Looks at distribution of total sales across year\n",
    "\n",
    "sns.boxplot(x='year_of_release', y='total_sales', data=game_data_years, width=(0.6));\n",
    "\n",
    "plt.xlabel('Year of Release') \n",
    "plt.ylabel('Total Sales') \n",
    "plt.title(\"Distribution of Total Sales Across Years\");\n",
    "plt.ylim(0, 1.5);\n",
    "sns.set(rc={'figure.figsize':(10,5)}, font_scale=1.1, style='whitegrid')"
   ]
  },
  {
   "cell_type": "markdown",
   "metadata": {},
   "source": [
    "**Interpretation of Graph**\n",
    "* The average sales were similar across years, particularly 2011-2014. \n",
    "* There were high outlier sales in 2012 and 2013 in particular. "
   ]
  },
  {
   "cell_type": "code",
   "execution_count": 50,
   "metadata": {},
   "outputs": [
    {
     "data": {
      "text/html": [
       "<div>\n",
       "<style scoped>\n",
       "    .dataframe tbody tr th:only-of-type {\n",
       "        vertical-align: middle;\n",
       "    }\n",
       "\n",
       "    .dataframe tbody tr th {\n",
       "        vertical-align: top;\n",
       "    }\n",
       "\n",
       "    .dataframe thead th {\n",
       "        text-align: right;\n",
       "    }\n",
       "</style>\n",
       "<table border=\"1\" class=\"dataframe\">\n",
       "  <thead>\n",
       "    <tr style=\"text-align: right;\">\n",
       "      <th></th>\n",
       "      <th>total_sales</th>\n",
       "    </tr>\n",
       "    <tr>\n",
       "      <th>platform_cat</th>\n",
       "      <th></th>\n",
       "    </tr>\n",
       "  </thead>\n",
       "  <tbody>\n",
       "    <tr>\n",
       "      <th>PS</th>\n",
       "      <td>3549.96</td>\n",
       "    </tr>\n",
       "    <tr>\n",
       "      <th>XBox</th>\n",
       "      <td>1372.13</td>\n",
       "    </tr>\n",
       "    <tr>\n",
       "      <th>Wii</th>\n",
       "      <td>973.37</td>\n",
       "    </tr>\n",
       "    <tr>\n",
       "      <th>DS</th>\n",
       "      <td>802.78</td>\n",
       "    </tr>\n",
       "    <tr>\n",
       "      <th>GB</th>\n",
       "      <td>567.31</td>\n",
       "    </tr>\n",
       "    <tr>\n",
       "      <th>3D</th>\n",
       "      <td>257.91</td>\n",
       "    </tr>\n",
       "    <tr>\n",
       "      <th>PC</th>\n",
       "      <td>255.79</td>\n",
       "    </tr>\n",
       "    <tr>\n",
       "      <th>NES</th>\n",
       "      <td>251.05</td>\n",
       "    </tr>\n",
       "    <tr>\n",
       "      <th>N64</th>\n",
       "      <td>218.01</td>\n",
       "    </tr>\n",
       "    <tr>\n",
       "      <th>SNES</th>\n",
       "      <td>200.04</td>\n",
       "    </tr>\n",
       "    <tr>\n",
       "      <th>GC</th>\n",
       "      <td>196.73</td>\n",
       "    </tr>\n",
       "    <tr>\n",
       "      <th>2600</th>\n",
       "      <td>86.48</td>\n",
       "    </tr>\n",
       "    <tr>\n",
       "      <th>SAT</th>\n",
       "      <td>33.59</td>\n",
       "    </tr>\n",
       "    <tr>\n",
       "      <th>GEN</th>\n",
       "      <td>28.35</td>\n",
       "    </tr>\n",
       "    <tr>\n",
       "      <th>DC</th>\n",
       "      <td>15.95</td>\n",
       "    </tr>\n",
       "    <tr>\n",
       "      <th>SCD</th>\n",
       "      <td>1.86</td>\n",
       "    </tr>\n",
       "    <tr>\n",
       "      <th>NG</th>\n",
       "      <td>1.44</td>\n",
       "    </tr>\n",
       "    <tr>\n",
       "      <th>WS</th>\n",
       "      <td>1.42</td>\n",
       "    </tr>\n",
       "    <tr>\n",
       "      <th>TG16</th>\n",
       "      <td>0.16</td>\n",
       "    </tr>\n",
       "    <tr>\n",
       "      <th>GG</th>\n",
       "      <td>0.04</td>\n",
       "    </tr>\n",
       "  </tbody>\n",
       "</table>\n",
       "</div>"
      ],
      "text/plain": [
       "              total_sales\n",
       "platform_cat             \n",
       "PS                3549.96\n",
       "XBox              1372.13\n",
       "Wii                973.37\n",
       "DS                 802.78\n",
       "GB                 567.31\n",
       "3D                 257.91\n",
       "PC                 255.79\n",
       "NES                251.05\n",
       "N64                218.01\n",
       "SNES               200.04\n",
       "GC                 196.73\n",
       "2600                86.48\n",
       "SAT                 33.59\n",
       "GEN                 28.35\n",
       "DC                  15.95\n",
       "SCD                  1.86\n",
       "NG                   1.44\n",
       "WS                   1.42\n",
       "TG16                 0.16\n",
       "GG                   0.04"
      ]
     },
     "execution_count": 50,
     "metadata": {},
     "output_type": "execute_result"
    }
   ],
   "source": [
    "# Groups total sales by platform\n",
    "\n",
    "platform_sales = pd.pivot_table(game_data, index='platform_cat', values='total_sales', aggfunc='sum')\n",
    "\n",
    "platform_sales.sort_values(by='total_sales', ascending=False)\n"
   ]
  },
  {
   "cell_type": "code",
   "execution_count": 57,
   "metadata": {},
   "outputs": [
    {
     "data": {
      "image/png": "[encoded data removed]",
      "text/plain": [
       "<Figure size 720x360 with 1 Axes>"
      ]
     },
     "metadata": {},
     "output_type": "display_data"
    }
   ],
   "source": [
    "name = '\"XBox\"'\n",
    "\n",
    "def game_func(name):\n",
    "    game_data_ps = game_data.query(f'platform_cat == {name}')\n",
    "\n",
    "    pd.pivot_table(game_data_ps, index=['year_of_release'], values='total_sales', aggfunc='sum').plot(kind='bar');\n",
    "    plt.xlabel('Year of Release') \n",
    "    plt.ylabel('Total Sales') \n",
    "    plt.title(f'{name} Total Sales Across Years of Release');\n",
    "game_func(name)"
   ]
  },
  {
   "cell_type": "code",
   "execution_count": 687,
   "metadata": {},
   "outputs": [
    {
     "data": {
      "image/png": "[encoded data removed]",
      "text/plain": [
       "<Figure size 720x360 with 1 Axes>"
      ]
     },
     "metadata": {},
     "output_type": "display_data"
    },
    {
     "data": {
      "image/png": "[encoded data removed]",
      "text/plain": [
       "<Figure size 720x360 with 1 Axes>"
      ]
     },
     "metadata": {},
     "output_type": "display_data"
    }
   ],
   "source": [
    "# Shows distribution of sales across year for the most profitable platforms \n",
    "\n",
    "game_data_ps = game_data.query('platform_cat == \"PS\"')\n",
    "\n",
    "game_data_xbox = game_data.query('platform_cat == \"XBox\"')\n",
    "\n",
    "pd.pivot_table(game_data_ps, index=['year_of_release'], values='total_sales', aggfunc='sum').plot(kind='bar');\n",
    "plt.xlabel('Year of Release') \n",
    "plt.ylabel('Total Sales') \n",
    "plt.title('PS Total Sales Across Years of Release');\n",
    "\n",
    "pd.pivot_table(game_data_xbox, index=['year_of_release'], values='total_sales', aggfunc='sum').plot(kind='bar');\n",
    "plt.xlabel('Year of Release') \n",
    "plt.ylabel('Total Sales') \n",
    "plt.title('XBox Total Sales Across Years of Release');                                                                                                              "
   ]
  },
  {
   "cell_type": "markdown",
   "metadata": {},
   "source": [
    "**Interpretation of Graph**\n",
    "* Sales for the PS platform have stayed somewhat consistent between 1996 and 2015, peaking between 2001 and 2011. \n",
    "* Sales for the XBox platform rose between 2000 and 2007, peaking between 2008 and 2011. "
   ]
  },
  {
   "cell_type": "code",
   "execution_count": 688,
   "metadata": {},
   "outputs": [
    {
     "data": {
      "image/png": "[encoded data removed]",
      "text/plain": [
       "<Figure size 720x360 with 1 Axes>"
      ]
     },
     "metadata": {},
     "output_type": "display_data"
    }
   ],
   "source": [
    "# Looks at distribution of total sales across years\n",
    "\n",
    "pd.pivot_table(game_data, index='year_of_release', values='total_sales', aggfunc='sum').plot(kind='bar');\n",
    "plt.xlabel('Year of Release') \n",
    "plt.ylabel('Total Sales') \n",
    "plt.title('Total Sales Across Years of Release');\n"
   ]
  },
  {
   "cell_type": "markdown",
   "metadata": {},
   "source": [
    "**Interpretation of Graph**\n",
    "* Total sales rose steadily until 2008, and then began to decline. "
   ]
  },
  {
   "cell_type": "code",
   "execution_count": 689,
   "metadata": {},
   "outputs": [],
   "source": [
    "# Refer to box above where I edited the query below to only include years 2010 and later per the feedback below.\n",
    "\n",
    "# game_data_years = game_data.query('year_of_release > 1994')\n"
   ]
  },
  {
   "cell_type": "code",
   "execution_count": 690,
   "metadata": {},
   "outputs": [
    {
     "data": {
      "text/html": [
       "<div>\n",
       "<style scoped>\n",
       "    .dataframe tbody tr th:only-of-type {\n",
       "        vertical-align: middle;\n",
       "    }\n",
       "\n",
       "    .dataframe tbody tr th {\n",
       "        vertical-align: top;\n",
       "    }\n",
       "\n",
       "    .dataframe thead th {\n",
       "        text-align: right;\n",
       "    }\n",
       "</style>\n",
       "<table border=\"1\" class=\"dataframe\">\n",
       "  <thead>\n",
       "    <tr style=\"text-align: right;\">\n",
       "      <th></th>\n",
       "      <th>total_sales</th>\n",
       "    </tr>\n",
       "    <tr>\n",
       "      <th>platform_cat</th>\n",
       "      <th></th>\n",
       "    </tr>\n",
       "  </thead>\n",
       "  <tbody>\n",
       "    <tr>\n",
       "      <th>PS</th>\n",
       "      <td>1025.83</td>\n",
       "    </tr>\n",
       "    <tr>\n",
       "      <th>XBox</th>\n",
       "      <td>709.73</td>\n",
       "    </tr>\n",
       "    <tr>\n",
       "      <th>Wii</th>\n",
       "      <td>305.16</td>\n",
       "    </tr>\n",
       "    <tr>\n",
       "      <th>3D</th>\n",
       "      <td>257.81</td>\n",
       "    </tr>\n",
       "    <tr>\n",
       "      <th>DS</th>\n",
       "      <td>123.75</td>\n",
       "    </tr>\n",
       "    <tr>\n",
       "      <th>PC</th>\n",
       "      <td>121.96</td>\n",
       "    </tr>\n",
       "  </tbody>\n",
       "</table>\n",
       "</div>"
      ],
      "text/plain": [
       "              total_sales\n",
       "platform_cat             \n",
       "PS                1025.83\n",
       "XBox               709.73\n",
       "Wii                305.16\n",
       "3D                 257.81\n",
       "DS                 123.75\n",
       "PC                 121.96"
      ]
     },
     "execution_count": 690,
     "metadata": {},
     "output_type": "execute_result"
    }
   ],
   "source": [
    "# Looks at total sales by platform \n",
    "\n",
    "platform_sales_years = pd.pivot_table(game_data_years, index='platform_cat', values='total_sales', aggfunc='sum')\n",
    "\n",
    "platform_sales_years.sort_values(by='total_sales', ascending=False)"
   ]
  },
  {
   "cell_type": "code",
   "execution_count": 691,
   "metadata": {},
   "outputs": [
    {
     "data": {
      "text/html": [
       "<div>\n",
       "<style scoped>\n",
       "    .dataframe tbody tr th:only-of-type {\n",
       "        vertical-align: middle;\n",
       "    }\n",
       "\n",
       "    .dataframe tbody tr th {\n",
       "        vertical-align: top;\n",
       "    }\n",
       "\n",
       "    .dataframe thead tr th {\n",
       "        text-align: left;\n",
       "    }\n",
       "\n",
       "    .dataframe thead tr:last-of-type th {\n",
       "        text-align: right;\n",
       "    }\n",
       "</style>\n",
       "<table border=\"1\" class=\"dataframe\">\n",
       "  <thead>\n",
       "    <tr>\n",
       "      <th></th>\n",
       "      <th>mean</th>\n",
       "      <th>median</th>\n",
       "      <th>min</th>\n",
       "      <th>max</th>\n",
       "    </tr>\n",
       "    <tr>\n",
       "      <th></th>\n",
       "      <th>total_sales</th>\n",
       "      <th>total_sales</th>\n",
       "      <th>total_sales</th>\n",
       "      <th>total_sales</th>\n",
       "    </tr>\n",
       "    <tr>\n",
       "      <th>platform_cat</th>\n",
       "      <th></th>\n",
       "      <th></th>\n",
       "      <th></th>\n",
       "      <th></th>\n",
       "    </tr>\n",
       "  </thead>\n",
       "  <tbody>\n",
       "    <tr>\n",
       "      <th>3D</th>\n",
       "      <td>0.503535</td>\n",
       "      <td>0.12</td>\n",
       "      <td>0.01</td>\n",
       "      <td>14.60</td>\n",
       "    </tr>\n",
       "    <tr>\n",
       "      <th>DS</th>\n",
       "      <td>0.244083</td>\n",
       "      <td>0.10</td>\n",
       "      <td>0.01</td>\n",
       "      <td>15.13</td>\n",
       "    </tr>\n",
       "    <tr>\n",
       "      <th>PC</th>\n",
       "      <td>0.254614</td>\n",
       "      <td>0.08</td>\n",
       "      <td>0.01</td>\n",
       "      <td>5.14</td>\n",
       "    </tr>\n",
       "    <tr>\n",
       "      <th>PS</th>\n",
       "      <td>0.454914</td>\n",
       "      <td>0.11</td>\n",
       "      <td>0.01</td>\n",
       "      <td>21.05</td>\n",
       "    </tr>\n",
       "    <tr>\n",
       "      <th>Wii</th>\n",
       "      <td>0.511156</td>\n",
       "      <td>0.18</td>\n",
       "      <td>0.01</td>\n",
       "      <td>10.12</td>\n",
       "    </tr>\n",
       "    <tr>\n",
       "      <th>XBox</th>\n",
       "      <td>0.765620</td>\n",
       "      <td>0.25</td>\n",
       "      <td>0.01</td>\n",
       "      <td>21.82</td>\n",
       "    </tr>\n",
       "  </tbody>\n",
       "</table>\n",
       "</div>"
      ],
      "text/plain": [
       "                    mean      median         min         max\n",
       "             total_sales total_sales total_sales total_sales\n",
       "platform_cat                                                \n",
       "3D              0.503535        0.12        0.01       14.60\n",
       "DS              0.244083        0.10        0.01       15.13\n",
       "PC              0.254614        0.08        0.01        5.14\n",
       "PS              0.454914        0.11        0.01       21.05\n",
       "Wii             0.511156        0.18        0.01       10.12\n",
       "XBox            0.765620        0.25        0.01       21.82"
      ]
     },
     "execution_count": 691,
     "metadata": {},
     "output_type": "execute_result"
    }
   ],
   "source": [
    "# Looks at descriptive statistics \n",
    "\n",
    "pd.pivot_table(game_data_years, index='platform_cat', values='total_sales', aggfunc=['mean','median','min','max'])"
   ]
  },
  {
   "cell_type": "code",
   "execution_count": 692,
   "metadata": {},
   "outputs": [
    {
     "data": {
      "image/png": "[encoded data removed]",
      "text/plain": [
       "<Figure size 720x360 with 1 Axes>"
      ]
     },
     "metadata": {},
     "output_type": "display_data"
    }
   ],
   "source": [
    "# Builds a box plot for the global sales across platforms \n",
    "\n",
    "sns.boxplot(x='platform_cat', y='total_sales', data=game_data_years, width=0.8);\n",
    "\n",
    "plt.xlabel('Platform') \n",
    "plt.ylabel('Total Sales') \n",
    "plt.title(\"Distribution of Total Sales Across Platforms\");\n",
    "plt.ylim(0, 1.5);\n",
    "sns.set(rc={'figure.figsize':(20,5)}, font_scale=1.1, style='whitegrid')"
   ]
  },
  {
   "cell_type": "markdown",
   "metadata": {},
   "source": [
    "**Interpretation of Graph**\n",
    "* Average sales were someone similar across most platforms, but the range of sales varied greatly, with some having very high outliers. "
   ]
  },
  {
   "cell_type": "code",
   "execution_count": 693,
   "metadata": {},
   "outputs": [
    {
     "data": {
      "text/html": [
       "<div>\n",
       "<style scoped>\n",
       "    .dataframe tbody tr th:only-of-type {\n",
       "        vertical-align: middle;\n",
       "    }\n",
       "\n",
       "    .dataframe tbody tr th {\n",
       "        vertical-align: top;\n",
       "    }\n",
       "\n",
       "    .dataframe thead th {\n",
       "        text-align: right;\n",
       "    }\n",
       "</style>\n",
       "<table border=\"1\" class=\"dataframe\">\n",
       "  <thead>\n",
       "    <tr style=\"text-align: right;\">\n",
       "      <th></th>\n",
       "      <th></th>\n",
       "      <th>total_sales</th>\n",
       "    </tr>\n",
       "    <tr>\n",
       "      <th>name</th>\n",
       "      <th>genre</th>\n",
       "      <th></th>\n",
       "    </tr>\n",
       "  </thead>\n",
       "  <tbody>\n",
       "    <tr>\n",
       "      <th>Kinect Adventures!</th>\n",
       "      <th>Misc</th>\n",
       "      <td>21.82</td>\n",
       "    </tr>\n",
       "    <tr>\n",
       "      <th>Grand Theft Auto V</th>\n",
       "      <th>Action</th>\n",
       "      <td>21.74</td>\n",
       "    </tr>\n",
       "    <tr>\n",
       "      <th>Call of Duty: Modern Warfare 3</th>\n",
       "      <th>Shooter</th>\n",
       "      <td>14.73</td>\n",
       "    </tr>\n",
       "    <tr>\n",
       "      <th>Call of Duty: Black Ops</th>\n",
       "      <th>Shooter</th>\n",
       "      <td>14.62</td>\n",
       "    </tr>\n",
       "    <tr>\n",
       "      <th>Call of Duty: Black Ops II</th>\n",
       "      <th>Shooter</th>\n",
       "      <td>13.68</td>\n",
       "    </tr>\n",
       "    <tr>\n",
       "      <th>...</th>\n",
       "      <th>...</th>\n",
       "      <td>...</td>\n",
       "    </tr>\n",
       "    <tr>\n",
       "      <th>Winter Sports 3: The Great Tournament</th>\n",
       "      <th>Sports</th>\n",
       "      <td>0.01</td>\n",
       "    </tr>\n",
       "    <tr>\n",
       "      <th>John Daly's ProStroke Golf</th>\n",
       "      <th>Sports</th>\n",
       "      <td>0.01</td>\n",
       "    </tr>\n",
       "    <tr>\n",
       "      <th>Caladrius</th>\n",
       "      <th>Shooter</th>\n",
       "      <td>0.01</td>\n",
       "    </tr>\n",
       "    <tr>\n",
       "      <th>Root Double: Before Crime After Days</th>\n",
       "      <th>Action</th>\n",
       "      <td>0.01</td>\n",
       "    </tr>\n",
       "    <tr>\n",
       "      <th>Psycho-Pass</th>\n",
       "      <th>Adventure</th>\n",
       "      <td>0.01</td>\n",
       "    </tr>\n",
       "  </tbody>\n",
       "</table>\n",
       "<p>816 rows × 1 columns</p>\n",
       "</div>"
      ],
      "text/plain": [
       "                                                 total_sales\n",
       "name                                  genre                 \n",
       "Kinect Adventures!                    Misc             21.82\n",
       "Grand Theft Auto V                    Action           21.74\n",
       "Call of Duty: Modern Warfare 3        Shooter          14.73\n",
       "Call of Duty: Black Ops               Shooter          14.62\n",
       "Call of Duty: Black Ops II            Shooter          13.68\n",
       "...                                                      ...\n",
       "Winter Sports 3: The Great Tournament Sports            0.01\n",
       "John Daly's ProStroke Golf            Sports            0.01\n",
       "Caladrius                             Shooter           0.01\n",
       "Root Double: Before Crime After Days  Action            0.01\n",
       "Psycho-Pass                           Adventure         0.01\n",
       "\n",
       "[816 rows x 1 columns]"
      ]
     },
     "execution_count": 693,
     "metadata": {},
     "output_type": "execute_result"
    }
   ],
   "source": [
    "# Looks specifically at a breakdown of games on one top-performing platform\n",
    "\n",
    "game_data_xbox = game_data_years.query('platform_cat == \"XBox\"')\n",
    "\n",
    "xbox_pivot = pd.pivot_table(game_data_xbox, index=['name','genre'], values='total_sales', aggfunc='sum')\n",
    "\n",
    "xbox_pivot.sort_values(by='total_sales', ascending=False)"
   ]
  },
  {
   "cell_type": "code",
   "execution_count": 694,
   "metadata": {},
   "outputs": [
    {
     "data": {
      "image/png": "[encoded data removed]",
      "text/plain": [
       "<Figure size 1440x360 with 1 Axes>"
      ]
     },
     "metadata": {},
     "output_type": "display_data"
    }
   ],
   "source": [
    "# Look at correlation between critic reviews and sales \n",
    "\n",
    "game_data_xbox.plot.scatter(x='critic_score', y='total_sales');\n",
    "\n",
    "plt.xlabel('Critic Score') \n",
    "plt.ylabel('Total Sales') \n",
    "plt.title(\"XBox Platform: Total Sales vs Critic Scores\");"
   ]
  },
  {
   "cell_type": "code",
   "execution_count": 695,
   "metadata": {},
   "outputs": [
    {
     "data": {
      "text/plain": [
       "0.29482474616036763"
      ]
     },
     "execution_count": 695,
     "metadata": {},
     "output_type": "execute_result"
    }
   ],
   "source": [
    "# Look at correlation between critic reviews and sales for the XBox platform\n",
    "\n",
    "game_data_xbox['total_sales'].corr(game_data_xbox['critic_score'])"
   ]
  },
  {
   "cell_type": "code",
   "execution_count": 696,
   "metadata": {},
   "outputs": [
    {
     "data": {
      "image/png": "[encoded data removed]",
      "text/plain": [
       "<Figure size 1440x360 with 1 Axes>"
      ]
     },
     "metadata": {},
     "output_type": "display_data"
    }
   ],
   "source": [
    "# Look at correlation between user reviews and sales \n",
    "\n",
    "game_data_xbox.plot.scatter(x='user_score', y='total_sales');\n",
    "\n",
    "plt.xlabel('User Score') \n",
    "plt.ylabel('Total Sales') \n",
    "plt.title('XBox Platform: Total Sales vs User Scores');"
   ]
  },
  {
   "cell_type": "code",
   "execution_count": 697,
   "metadata": {},
   "outputs": [
    {
     "data": {
      "text/plain": [
       "-0.006094789384399529"
      ]
     },
     "execution_count": 697,
     "metadata": {},
     "output_type": "execute_result"
    }
   ],
   "source": [
    "# Look at correlation between user reviews and sales for the XBox platform\n",
    "\n",
    "game_data_xbox['total_sales'].corr(game_data_xbox['user_score'])"
   ]
  },
  {
   "cell_type": "markdown",
   "metadata": {},
   "source": [
    "**Interpretation of the Graphs**\n",
    "* There is a moderate positive correlation between XBox sales and critic reviews (0.3).\n",
    "* There is a week negative correlation between XBox sales and user reviews (-0.01)."
   ]
  },
  {
   "cell_type": "code",
   "execution_count": 698,
   "metadata": {},
   "outputs": [
    {
     "data": {
      "text/html": [
       "<div>\n",
       "<style scoped>\n",
       "    .dataframe tbody tr th:only-of-type {\n",
       "        vertical-align: middle;\n",
       "    }\n",
       "\n",
       "    .dataframe tbody tr th {\n",
       "        vertical-align: top;\n",
       "    }\n",
       "\n",
       "    .dataframe thead th {\n",
       "        text-align: right;\n",
       "    }\n",
       "</style>\n",
       "<table border=\"1\" class=\"dataframe\">\n",
       "  <thead>\n",
       "    <tr style=\"text-align: right;\">\n",
       "      <th></th>\n",
       "      <th></th>\n",
       "      <th>total_sales</th>\n",
       "    </tr>\n",
       "    <tr>\n",
       "      <th>name</th>\n",
       "      <th>genre</th>\n",
       "      <th></th>\n",
       "    </tr>\n",
       "  </thead>\n",
       "  <tbody>\n",
       "    <tr>\n",
       "      <th>Grand Theft Auto V</th>\n",
       "      <th>Action</th>\n",
       "      <td>33.67</td>\n",
       "    </tr>\n",
       "    <tr>\n",
       "      <th>Grand Theft Auto: San Andreas</th>\n",
       "      <th>Action</th>\n",
       "      <td>20.81</td>\n",
       "    </tr>\n",
       "    <tr>\n",
       "      <th>Call of Duty: Black Ops 3</th>\n",
       "      <th>Shooter</th>\n",
       "      <td>16.32</td>\n",
       "    </tr>\n",
       "    <tr>\n",
       "      <th>Grand Theft Auto: Vice City</th>\n",
       "      <th>Action</th>\n",
       "      <td>16.15</td>\n",
       "    </tr>\n",
       "    <tr>\n",
       "      <th>Gran Turismo 3: A-Spec</th>\n",
       "      <th>Racing</th>\n",
       "      <td>14.97</td>\n",
       "    </tr>\n",
       "    <tr>\n",
       "      <th>...</th>\n",
       "      <th>...</th>\n",
       "      <td>...</td>\n",
       "    </tr>\n",
       "    <tr>\n",
       "      <th>S.Y.K: Shinsetsu Saiyuuki Portable</th>\n",
       "      <th>Adventure</th>\n",
       "      <td>0.01</td>\n",
       "    </tr>\n",
       "    <tr>\n",
       "      <th>S.Y.K: Shinsetsu Saiyuuki</th>\n",
       "      <th>Adventure</th>\n",
       "      <td>0.01</td>\n",
       "    </tr>\n",
       "    <tr>\n",
       "      <th>Dramatical Murder Re:code</th>\n",
       "      <th>Adventure</th>\n",
       "      <td>0.01</td>\n",
       "    </tr>\n",
       "    <tr>\n",
       "      <th>Infinite Stratos 2: Love and Purge</th>\n",
       "      <th>Action</th>\n",
       "      <td>0.01</td>\n",
       "    </tr>\n",
       "    <tr>\n",
       "      <th>G1 Jockey 4 2008</th>\n",
       "      <th>Sports</th>\n",
       "      <td>0.00</td>\n",
       "    </tr>\n",
       "  </tbody>\n",
       "</table>\n",
       "<p>5774 rows × 1 columns</p>\n",
       "</div>"
      ],
      "text/plain": [
       "                                              total_sales\n",
       "name                               genre                 \n",
       "Grand Theft Auto V                 Action           33.67\n",
       "Grand Theft Auto: San Andreas      Action           20.81\n",
       "Call of Duty: Black Ops 3          Shooter          16.32\n",
       "Grand Theft Auto: Vice City        Action           16.15\n",
       "Gran Turismo 3: A-Spec             Racing           14.97\n",
       "...                                                   ...\n",
       "S.Y.K: Shinsetsu Saiyuuki Portable Adventure         0.01\n",
       "S.Y.K: Shinsetsu Saiyuuki          Adventure         0.01\n",
       "Dramatical Murder Re:code          Adventure         0.01\n",
       "Infinite Stratos 2: Love and Purge Action            0.01\n",
       "G1 Jockey 4 2008                   Sports            0.00\n",
       "\n",
       "[5774 rows x 1 columns]"
      ]
     },
     "execution_count": 698,
     "metadata": {},
     "output_type": "execute_result"
    }
   ],
   "source": [
    "# Looks specifically at a breakdown of games on one top-performing platform (PS3)\n",
    "\n",
    "game_data_ps = game_data.query('platform_cat == \"PS\"')\n",
    "\n",
    "PS_pivot = pd.pivot_table(game_data_ps, index=['name','genre'], values='total_sales', aggfunc='sum')\n",
    "\n",
    "PS_pivot.sort_values(by='total_sales', ascending=False)"
   ]
  },
  {
   "cell_type": "code",
   "execution_count": 699,
   "metadata": {},
   "outputs": [
    {
     "data": {
      "image/png": "[encoded data removed]",
      "text/plain": [
       "<Figure size 1440x360 with 1 Axes>"
      ]
     },
     "metadata": {},
     "output_type": "display_data"
    }
   ],
   "source": [
    "# Look at correlation between critic reviews and sales \n",
    "\n",
    "game_data_ps.plot.scatter(x='critic_score', y='total_sales');\n",
    "\n",
    "plt.xlabel('User Score') \n",
    "plt.ylabel('Total Sales') \n",
    "plt.title('PS Platform: Total Sales vs Critic Scores');"
   ]
  },
  {
   "cell_type": "code",
   "execution_count": 700,
   "metadata": {},
   "outputs": [
    {
     "data": {
      "text/plain": [
       "0.3430485581885511"
      ]
     },
     "execution_count": 700,
     "metadata": {},
     "output_type": "execute_result"
    }
   ],
   "source": [
    "# Look at correlation between critic reviews and sales for the PS Platform\n",
    "\n",
    "game_data_ps['total_sales'].corr(game_data_ps['critic_score'])"
   ]
  },
  {
   "cell_type": "code",
   "execution_count": 701,
   "metadata": {},
   "outputs": [
    {
     "data": {
      "image/png": "[encoded data removed]",
      "text/plain": [
       "<Figure size 1440x360 with 1 Axes>"
      ]
     },
     "metadata": {},
     "output_type": "display_data"
    }
   ],
   "source": [
    "# Look at correlation between user reviews and sales \n",
    "\n",
    "game_data_ps.plot.scatter(x='user_score', y='total_sales');\n",
    "plt.xlabel('User Score') \n",
    "plt.ylabel('Total Sales') \n",
    "plt.title('PS Platform: Total Sales vs User Scores');"
   ]
  },
  {
   "cell_type": "code",
   "execution_count": 702,
   "metadata": {},
   "outputs": [
    {
     "data": {
      "text/plain": [
       "0.06865831059231291"
      ]
     },
     "execution_count": 702,
     "metadata": {},
     "output_type": "execute_result"
    }
   ],
   "source": [
    "# Look at correlation between user reviews and sales for the PS Platform\n",
    "\n",
    "game_data_ps['total_sales'].corr(game_data_ps['user_score'])"
   ]
  },
  {
   "cell_type": "markdown",
   "metadata": {},
   "source": [
    "**Interpretation of the Graphs**\n",
    "\n",
    "* There is a moderate positive correlation between PS sales and critic reviews (0.3).\n",
    "* There is a weak positive correlation between PS sales and user reviews (0.07)."
   ]
  },
  {
   "cell_type": "code",
   "execution_count": 703,
   "metadata": {},
   "outputs": [
    {
     "data": {
      "text/html": [
       "<div>\n",
       "<style scoped>\n",
       "    .dataframe tbody tr th:only-of-type {\n",
       "        vertical-align: middle;\n",
       "    }\n",
       "\n",
       "    .dataframe tbody tr th {\n",
       "        vertical-align: top;\n",
       "    }\n",
       "\n",
       "    .dataframe thead th {\n",
       "        text-align: right;\n",
       "    }\n",
       "</style>\n",
       "<table border=\"1\" class=\"dataframe\">\n",
       "  <thead>\n",
       "    <tr style=\"text-align: right;\">\n",
       "      <th></th>\n",
       "      <th>total_sales</th>\n",
       "    </tr>\n",
       "    <tr>\n",
       "      <th>genre</th>\n",
       "      <th></th>\n",
       "    </tr>\n",
       "  </thead>\n",
       "  <tbody>\n",
       "    <tr>\n",
       "      <th>Action</th>\n",
       "      <td>673.09</td>\n",
       "    </tr>\n",
       "    <tr>\n",
       "      <th>Shooter</th>\n",
       "      <td>479.74</td>\n",
       "    </tr>\n",
       "    <tr>\n",
       "      <th>Sports</th>\n",
       "      <td>328.39</td>\n",
       "    </tr>\n",
       "    <tr>\n",
       "      <th>Role-Playing</th>\n",
       "      <td>315.28</td>\n",
       "    </tr>\n",
       "    <tr>\n",
       "      <th>Misc</th>\n",
       "      <td>234.56</td>\n",
       "    </tr>\n",
       "    <tr>\n",
       "      <th>Racing</th>\n",
       "      <td>122.68</td>\n",
       "    </tr>\n",
       "    <tr>\n",
       "      <th>Platform</th>\n",
       "      <td>119.72</td>\n",
       "    </tr>\n",
       "    <tr>\n",
       "      <th>Fighting</th>\n",
       "      <td>81.59</td>\n",
       "    </tr>\n",
       "    <tr>\n",
       "      <th>Simulation</th>\n",
       "      <td>71.75</td>\n",
       "    </tr>\n",
       "    <tr>\n",
       "      <th>Adventure</th>\n",
       "      <td>61.00</td>\n",
       "    </tr>\n",
       "    <tr>\n",
       "      <th>Strategy</th>\n",
       "      <td>35.84</td>\n",
       "    </tr>\n",
       "    <tr>\n",
       "      <th>Puzzle</th>\n",
       "      <td>20.60</td>\n",
       "    </tr>\n",
       "  </tbody>\n",
       "</table>\n",
       "</div>"
      ],
      "text/plain": [
       "              total_sales\n",
       "genre                    \n",
       "Action             673.09\n",
       "Shooter            479.74\n",
       "Sports             328.39\n",
       "Role-Playing       315.28\n",
       "Misc               234.56\n",
       "Racing             122.68\n",
       "Platform           119.72\n",
       "Fighting            81.59\n",
       "Simulation          71.75\n",
       "Adventure           61.00\n",
       "Strategy            35.84\n",
       "Puzzle              20.60"
      ]
     },
     "execution_count": 703,
     "metadata": {},
     "output_type": "execute_result"
    }
   ],
   "source": [
    "# Take a look at the general distribution of games by genre\n",
    "\n",
    "game_data_genre = pd.pivot_table(game_data_years, index='genre', values='total_sales', aggfunc='sum')\n",
    "\n",
    "game_data_genre.sort_values(by='total_sales', ascending=False)"
   ]
  },
  {
   "cell_type": "markdown",
   "metadata": {},
   "source": [
    "## Create user profiles\n",
    "\n",
    "**Oberservations by region:**\n",
    "\n",
    "***Platforms***\n",
    "* The top platforms in North America and Europe were PS, XBox and Wi.\n",
    "* The top platforms in Japan are PS, GS, and DB.      \n",
    "\n",
    "***Genres***\n",
    "* Sales across regions were highest for the genres role-playing, action, sports, platform and miscellaneous. \n",
    "* The top genres in North America are action, sports, shooter, platform, miscellaneous.          8\n",
    "* The top genres in Europe are action, sports, shooter, racing and miscellaneous. \n",
    "* The top genres in Japan are role-playing, action, sports, platform and miscellaneous. \n",
    "\n",
    "***ESRB Ratings***\n",
    "* Sales across regions were highest for films that weren't rated, films rated for \"Everyone\", films rated for \"Teens\", films rated \"Mature\", and films rated for everyone over age 10. \n",
    "* In North America, sales were highest for everyone, not rated, teens, mature and 10+.\n",
    "* In Europe, sales were highest for everyone, not rated, mature, teen and 10+.\n",
    "* In Japan, sales were highest for not rated, everyone, teen, mature and 10+. "
   ]
  },
  {
   "cell_type": "markdown",
   "metadata": {},
   "source": [
    "### Region: Stats by Platform"
   ]
  },
  {
   "cell_type": "code",
   "execution_count": 704,
   "metadata": {},
   "outputs": [
    {
     "data": {
      "text/plain": [
       "platform_cat\n",
       "XBox    427.30\n",
       "PS      362.43\n",
       "Wii     159.30\n",
       "3D       82.65\n",
       "DS       59.66\n",
       "PC       39.07\n",
       "Name: na_sales, dtype: float64"
      ]
     },
     "execution_count": 704,
     "metadata": {},
     "output_type": "execute_result"
    }
   ],
   "source": [
    "# Determines top platforms in North America\n",
    "\n",
    "na_top_platforms = game_data_years.groupby('platform_cat')['na_sales'].sum()\n",
    "\n",
    "na_top_platforms.sort_values(ascending=False)\n"
   ]
  },
  {
   "cell_type": "code",
   "execution_count": 705,
   "metadata": {},
   "outputs": [
    {
     "data": {
      "text/plain": [
       "platform_cat\n",
       "PS      377.02\n",
       "XBox    215.00\n",
       "Wii      91.04\n",
       "PC       68.82\n",
       "3D       61.27\n",
       "DS       28.06\n",
       "Name: eu_sales, dtype: float64"
      ]
     },
     "execution_count": 705,
     "metadata": {},
     "output_type": "execute_result"
    }
   ],
   "source": [
    "# Determines top platforms in Europe\n",
    "\n",
    "eu_top_platforms = game_data_years.groupby('platform_cat')['eu_sales'].sum()\n",
    "\n",
    "eu_top_platforms.sort_values(ascending=False)\n"
   ]
  },
  {
   "cell_type": "code",
   "execution_count": 706,
   "metadata": {},
   "outputs": [
    {
     "data": {
      "text/plain": [
       "platform_cat\n",
       "PS      140.06\n",
       "3D      100.62\n",
       "Wii      30.76\n",
       "DS       27.90\n",
       "XBox      5.80\n",
       "PC        0.00\n",
       "Name: jp_sales, dtype: float64"
      ]
     },
     "execution_count": 706,
     "metadata": {},
     "output_type": "execute_result"
    }
   ],
   "source": [
    "# Determines top platforms in Japan\n",
    "\n",
    "jp_top_platforms = game_data_years.groupby('platform_cat')['jp_sales'].sum()\n",
    "\n",
    "jp_top_platforms.sort_values(ascending=False)\n"
   ]
  },
  {
   "cell_type": "code",
   "execution_count": 707,
   "metadata": {},
   "outputs": [
    {
     "data": {
      "image/png": "[encoded data removed]",
      "text/plain": [
       "<Figure size 1440x360 with 1 Axes>"
      ]
     },
     "metadata": {},
     "output_type": "display_data"
    }
   ],
   "source": [
    "na_top_platforms.sort_values(ascending=False).plot(kind='bar');\n",
    "\n",
    "eu_top_platforms.sort_values(ascending=False).plot(kind='bar', color = 'orange');\n",
    "\n",
    "jp_top_platforms.sort_values(ascending=False).plot(kind='bar', color = 'red');\n",
    "\n",
    "legend = plt.legend(['North America','Europe','Japan'], title = 'Legend')\n",
    "plt.xlabel('Platform') \n",
    "plt.ylabel('Total Sales') \n",
    "plt.title('Total Sales Across Platforms Per Region');"
   ]
  },
  {
   "cell_type": "markdown",
   "metadata": {},
   "source": [
    "### Region: Stats by Genre"
   ]
  },
  {
   "cell_type": "code",
   "execution_count": 708,
   "metadata": {},
   "outputs": [
    {
     "data": {
      "text/plain": [
       "genre\n",
       "Action          863.17\n",
       "Sports          671.20\n",
       "Shooter         584.83\n",
       "Platform        444.44\n",
       "Misc            399.57\n",
       "Racing          356.86\n",
       "Role-Playing    330.04\n",
       "Fighting        220.51\n",
       "Simulation      180.40\n",
       "Puzzle          121.13\n",
       "Adventure       101.52\n",
       "Strategy         67.75\n",
       "Name: na_sales, dtype: float64"
      ]
     },
     "execution_count": 708,
     "metadata": {},
     "output_type": "execute_result"
    }
   ],
   "source": [
    "# Determines top genre in North America\n",
    "\n",
    "na_top_genre = game_data.groupby('genre')['na_sales'].sum()\n",
    "\n",
    "na_top_genre.sort_values(ascending=False)\n"
   ]
  },
  {
   "cell_type": "code",
   "execution_count": 709,
   "metadata": {},
   "outputs": [
    {
     "data": {
      "text/plain": [
       "genre\n",
       "Action          510.99\n",
       "Sports          371.33\n",
       "Shooter         314.52\n",
       "Racing          234.49\n",
       "Misc            210.60\n",
       "Platform        199.39\n",
       "Role-Playing    188.24\n",
       "Simulation      113.35\n",
       "Fighting         99.00\n",
       "Adventure        63.20\n",
       "Puzzle           49.78\n",
       "Strategy         44.79\n",
       "Name: eu_sales, dtype: float64"
      ]
     },
     "execution_count": 709,
     "metadata": {},
     "output_type": "execute_result"
    }
   ],
   "source": [
    "# Determines top genre in Europe\n",
    "\n",
    "eu_top_genre = game_data.groupby('genre')['eu_sales'].sum()\n",
    "\n",
    "eu_top_genre.sort_values(ascending=False)"
   ]
  },
  {
   "cell_type": "code",
   "execution_count": 710,
   "metadata": {},
   "outputs": [
    {
     "data": {
      "text/plain": [
       "genre\n",
       "Role-Playing    353.39\n",
       "Action          160.14\n",
       "Sports          134.93\n",
       "Platform        130.71\n",
       "Misc            107.02\n",
       "Fighting         87.28\n",
       "Simulation       63.64\n",
       "Puzzle           56.68\n",
       "Racing           56.63\n",
       "Adventure        52.24\n",
       "Strategy         49.30\n",
       "Shooter          38.68\n",
       "Name: jp_sales, dtype: float64"
      ]
     },
     "execution_count": 710,
     "metadata": {},
     "output_type": "execute_result"
    }
   ],
   "source": [
    "# Determines top genre in Japan\n",
    "\n",
    "jp_top_genre = game_data.groupby('genre')['jp_sales'].sum()\n",
    "\n",
    "jp_top_genre.sort_values(ascending=False)"
   ]
  },
  {
   "cell_type": "code",
   "execution_count": 711,
   "metadata": {},
   "outputs": [
    {
     "data": {
      "image/png": "[encoded data removed]",
      "text/plain": [
       "<Figure size 1440x360 with 1 Axes>"
      ]
     },
     "metadata": {},
     "output_type": "display_data"
    }
   ],
   "source": [
    "# Compares sales across genres for each region\n",
    "\n",
    "na_top_genre.sort_values(ascending=False).plot(kind='bar');\n",
    "\n",
    "eu_top_genre.sort_values(ascending=False).plot(kind='bar', color = 'orange');\n",
    "\n",
    "jp_top_genre.sort_values(ascending=False).plot(kind='bar', color = 'red');\n",
    "\n",
    "legend = plt.legend(['North America','Europe','Japan'], title = 'Legend')\n",
    "plt.xlabel('Genre') \n",
    "plt.ylabel('Total Sales') \n",
    "plt.title('Total Sales Across Genre Per Region');"
   ]
  },
  {
   "cell_type": "markdown",
   "metadata": {},
   "source": [
    " ### Regions: Stats by ESRB Rating "
   ]
  },
  {
   "cell_type": "code",
   "execution_count": 712,
   "metadata": {},
   "outputs": [
    {
     "data": {
      "text/plain": [
       "rating\n",
       "E            1274.24\n",
       "not rated    1225.84\n",
       "T             747.60\n",
       "M             742.89\n",
       "E10+          345.50\n",
       "K-A             2.56\n",
       "EC              1.53\n",
       "AO              1.26\n",
       "RP              0.00\n",
       "Name: na_sales, dtype: float64"
      ]
     },
     "execution_count": 712,
     "metadata": {},
     "output_type": "execute_result"
    }
   ],
   "source": [
    "# Determines variation across ESRB ratings in North America\n",
    "\n",
    "na_top_rating = game_data.groupby('rating')['na_sales'].sum()\n",
    "\n",
    "na_top_rating.sort_values(ascending=False)\n"
   ]
  },
  {
   "cell_type": "code",
   "execution_count": 713,
   "metadata": {},
   "outputs": [
    {
     "data": {
      "text/plain": [
       "rating\n",
       "E            703.87\n",
       "not rated    609.65\n",
       "M            480.00\n",
       "T            421.79\n",
       "E10+         183.35\n",
       "AO             0.61\n",
       "K-A            0.27\n",
       "EC             0.11\n",
       "RP             0.03\n",
       "Name: eu_sales, dtype: float64"
      ]
     },
     "execution_count": 713,
     "metadata": {},
     "output_type": "execute_result"
    }
   ],
   "source": [
    "# Determines variation across ESRB ratings in Europe\n",
    "\n",
    "eu_top_rating = game_data.groupby('rating')['eu_sales'].sum()\n",
    "\n",
    "eu_top_rating.sort_values(ascending=False)"
   ]
  },
  {
   "cell_type": "code",
   "execution_count": 714,
   "metadata": {},
   "outputs": [
    {
     "data": {
      "text/plain": [
       "rating\n",
       "not rated    836.74\n",
       "E            197.96\n",
       "T            150.70\n",
       "M             63.58\n",
       "E10+          40.20\n",
       "K-A            1.46\n",
       "AO             0.00\n",
       "EC             0.00\n",
       "RP             0.00\n",
       "Name: jp_sales, dtype: float64"
      ]
     },
     "execution_count": 714,
     "metadata": {},
     "output_type": "execute_result"
    }
   ],
   "source": [
    "# Determines variation across ESRB ratings in Japan\n",
    "\n",
    "jp_top_rating = game_data.groupby('rating')['jp_sales'].sum()\n",
    "\n",
    "jp_top_rating.sort_values(ascending=False)"
   ]
  },
  {
   "cell_type": "code",
   "execution_count": 715,
   "metadata": {},
   "outputs": [
    {
     "data": {
      "image/png": "[encoded data removed]",
      "text/plain": [
       "<Figure size 1440x360 with 1 Axes>"
      ]
     },
     "metadata": {},
     "output_type": "display_data"
    }
   ],
   "source": [
    "# Compares sales across ESRB ratings for each region\n",
    "\n",
    "na_top_rating.sort_values(ascending=False).plot(kind='bar');\n",
    "\n",
    "eu_top_rating.sort_values(ascending=False).plot(kind='bar', color = 'orange');\n",
    "\n",
    "jp_top_rating.sort_values(ascending=False).plot(kind='bar', color = 'red');\n",
    "\n",
    "legend = plt.legend(['North America','Europe','Japan'], title = 'Legend')\n",
    "plt.xlabel('ESRB Rating') \n",
    "plt.ylabel('Total Sales') \n",
    "plt.title('Total Sales Across ESRB Ratings Per Region');"
   ]
  },
  {
   "cell_type": "markdown",
   "metadata": {},
   "source": [
    "## Test hypotheses \n"
   ]
  },
  {
   "cell_type": "markdown",
   "metadata": {},
   "source": [
    "**Test the hypotheses around platform**\n",
    "\n",
    "* **Null hypothesis**: Average user ratings of the Xbox One and PC platforms are the same.\n",
    "\n",
    "* **Alternate hypothesis**: Average user ratings for the Action and Sports genres are different.\n",
    "\n",
    "* **Statistical test** I will calculate a t-test for the two independent samples of the populations using scipy.stats.ttest_ind\n",
    "\n",
    "* **Alpha** 0.05"
   ]
  },
  {
   "cell_type": "code",
   "execution_count": 716,
   "metadata": {},
   "outputs": [],
   "source": [
    "# Segment out Xbox users and PC users\n",
    "\n",
    "xbox_users = game_data_years.query('platform_cat == \"XBox\"')\n",
    "\n",
    "PC_users = game_data_years.query('platform_cat == \"PC\"')\n"
   ]
  },
  {
   "cell_type": "code",
   "execution_count": 717,
   "metadata": {},
   "outputs": [
    {
     "name": "stdout",
     "output_type": "stream",
     "text": [
      "p-value:  0.23700049883354138\n",
      "We can't reject the null hypothesis.\n"
     ]
    }
   ],
   "source": [
    "# Test the hypotheses\n",
    "\n",
    "xbox_user_ratings = xbox_users['user_score'].values.tolist()\n",
    "PC_user_ratings = PC_users['user_score'].values.tolist()\n",
    "alpha = 0.05\n",
    "\n",
    "results = st.ttest_ind(xbox_user_ratings, PC_user_ratings, equal_var = True)\n",
    "print('p-value: ', results.pvalue)\n",
    "\n",
    "if results.pvalue < alpha:\n",
    "    print(\"We reject the null hypothesis.\")\n",
    "else:\n",
    "    print(\"We can't reject the null hypothesis.\")"
   ]
  },
  {
   "cell_type": "markdown",
   "metadata": {},
   "source": [
    "**Test the hypotheses around genre**\n",
    "\n",
    "* **Null hypothesis**: Average user ratings of the Action and Sports genres are different.\n",
    "\n",
    "* **Alternate hypothesis**: Average user ratings for the Action and Sports genres are the same.\n",
    "\n",
    "* **Statistical test** I will calculate a t-test for the two independent samples of the populations using scipy.stats.ttest_ind\n",
    "\n",
    "* **Alpha** 0.05"
   ]
  },
  {
   "cell_type": "code",
   "execution_count": 718,
   "metadata": {},
   "outputs": [],
   "source": [
    "# Segment out Action and Sports genres \n",
    "\n",
    "action_users = game_data_years.query('genre == \"Action\"')\n",
    "\n",
    "sports_users = game_data_years.query('genre == \"Sports\"')"
   ]
  },
  {
   "cell_type": "code",
   "execution_count": 719,
   "metadata": {},
   "outputs": [
    {
     "name": "stdout",
     "output_type": "stream",
     "text": [
      "p-value:  9.278781476503788e-20\n",
      "We reject the null hypothesis.\n"
     ]
    }
   ],
   "source": [
    "# Test the hypotheses\n",
    "\n",
    "action_user_ratings = action_users['user_score'].values.tolist()\n",
    "sports_user_ratings = sports_users['user_score'].values.tolist()\n",
    "alpha = 0.05\n",
    "\n",
    "results = st.ttest_ind(action_user_ratings, sports_user_ratings, equal_var = True)\n",
    "print('p-value: ', results.pvalue)\n",
    "\n",
    "if results.pvalue < alpha:\n",
    "    print(\"We reject the null hypothesis.\")\n",
    "else:\n",
    "    print(\"We can't reject the null hypothesis.\")"
   ]
  },
  {
   "cell_type": "markdown",
   "metadata": {},
   "source": [
    "## Conclusion\n",
    "\n",
    "**Project Goal and Description**\n",
    "The online store Ice sells video games all over the world and is planning an ad campaign for 2017. The goal of this project is to determine what factors influence the success of particular games. Potential factors include expert reviews, user reviews, genres, platforms and regions. \n",
    "\n",
    "**Project Plan**\n",
    "This project will entail the following:\n",
    "* Preparing the data for analysis, including checking for missing values, duplicates, appropriate data types, and conduct initial calculations (ex. total sales)\n",
    "* Analyze data to get an initial view of game performance, including the number of games released in different years, sales across games and genre, sales across platforms, and sale performance over time.\n",
    "* Determine sale performance, top platforms and top genres across regions. \n",
    "* Test the following hypotheses: \n",
    "    * Average user ratings of the Xbox One and PC platforms are the same.\n",
    "    * Average user ratings for the Action and Sports genres are different.\n",
    "\n",
    "\n",
    "**How the data was prepared:**\n",
    "* ***Column Names***: The column names were changed to all lower case letters to be easier to read and analyze.\n",
    "* ***Data Types***: \n",
    "    * The datatypes were changed for year of release (to float) and user score (to float). \n",
    "    * 14% of rows in the user score column are marked as \"tbd\". These rows have a similar distribution of data as the rest of the data set, including across years. My hypothesis is that these are games that are not yet rated, I replaced 'tbd' with an empty string, so that I could convert this column to a float type.\n",
    "* ***Missing Data*** \n",
    "    * Rows with missing data in name, genre (only two rows) and year of release (1.6% of rows) were dropped. These rows were evenly distributed throughout the data and removing them did not impact the analysis. I took a look at the rows with missing data to identify any patterns, but the rows were evenly distributed throughout the data, indicating that they were most likely null due to input error. \n",
    "    * Missing data in the critic score and user score columns was filled in the with the median scores according to platform and genre.\n",
    "    * Missing data in the ratings column was replaced with 'not rated'.\n",
    "* ***Platform category***\n",
    "    * Consolidated platform categories (ex. PS, XBox, Wii)\n",
    "* ***Adding Total Sales***\n",
    "    * Total sales across all regions per game was added to the table.\n",
    "    \n",
    "\n",
    "**Determining sale performance, top platforms and top genres**\n",
    "* The top platforms with the most sales were PS and Xbox. \n",
    "* Out of the top-performing platforms, sales first emerged around 1994. Therefore, I segmented the data to elimate years before 1994 since we won't need them to compare the two top performing platforms. \n",
    "* While the average and median sales are generally similar, the platforms Wii, PS, and DS have the highest maximum  sales/outliers. \n",
    "* Total sales were impacted positively by critic and user score. \n",
    "* The top-performing genres are action, sports, miscellaneous, shooter and role-playing.\n",
    "* North America and Europe had similar top platforms (PS, XBox and Wii), while PS, GS and DB led in Japan. \n",
    "* Sales per genre varied by region, although action, sports and micellaneous categories were common throughout.\n",
    "* Sales per ESRB rating were similar across regions, with fils rated for everyone, not rated, rated mature, for teens and 10+ performing the best.\n",
    "\n",
    "\n",
    "**Conclusions**\n",
    "* The average user ratings of the Xbox One and PC platforms were significantly different from one another (we rejected the null hypothesis).\n",
    "* Average user ratings of the Action and Sports genres were not statistically different from one another.\n",
    "* The following factors impact sales: critic reviews, user reviews and genre. "
   ]
  }
 ],
 "metadata": {
  "ExecuteTimeLog": [
   {
    "duration": 1050,
    "start_time": "2022-03-13T16:14:39.892Z"
   },
   {
    "duration": 33,
    "start_time": "2022-03-13T16:14:41.074Z"
   },
   {
    "duration": 18,
    "start_time": "2022-03-13T16:16:48.560Z"
   },
   {
    "duration": 4,
    "start_time": "2022-03-13T16:17:46.053Z"
   },
   {
    "duration": 10,
    "start_time": "2022-03-13T16:17:58.290Z"
   },
   {
    "duration": 10,
    "start_time": "2022-03-13T16:18:20.001Z"
   },
   {
    "duration": 14,
    "start_time": "2022-03-13T16:18:48.328Z"
   },
   {
    "duration": 243,
    "start_time": "2022-03-13T16:19:37.242Z"
   },
   {
    "duration": 168,
    "start_time": "2022-03-13T16:19:43.997Z"
   },
   {
    "duration": 13,
    "start_time": "2022-03-13T16:19:51.834Z"
   },
   {
    "duration": 181,
    "start_time": "2022-03-13T16:20:18.296Z"
   },
   {
    "duration": 11,
    "start_time": "2022-03-13T16:20:27.263Z"
   },
   {
    "duration": 6,
    "start_time": "2022-03-13T16:20:36.413Z"
   },
   {
    "duration": 12,
    "start_time": "2022-03-13T16:21:01.776Z"
   },
   {
    "duration": 5,
    "start_time": "2022-03-13T16:21:09.493Z"
   },
   {
    "duration": 6,
    "start_time": "2022-03-13T16:21:17.947Z"
   },
   {
    "duration": 8,
    "start_time": "2022-03-13T16:21:36.716Z"
   },
   {
    "duration": 30,
    "start_time": "2022-03-13T16:23:38.774Z"
   },
   {
    "duration": 7,
    "start_time": "2022-03-13T16:57:00.023Z"
   },
   {
    "duration": 6,
    "start_time": "2022-03-13T16:57:09.602Z"
   },
   {
    "duration": 8,
    "start_time": "2022-03-13T16:57:18.751Z"
   },
   {
    "duration": 3,
    "start_time": "2022-03-13T17:01:30.637Z"
   },
   {
    "duration": 13,
    "start_time": "2022-03-13T17:01:38.571Z"
   },
   {
    "duration": 8,
    "start_time": "2022-03-13T17:03:35.903Z"
   },
   {
    "duration": 163,
    "start_time": "2022-03-13T17:04:35.286Z"
   },
   {
    "duration": 14,
    "start_time": "2022-03-13T17:04:46.068Z"
   },
   {
    "duration": 62,
    "start_time": "2022-03-13T17:06:17.844Z"
   },
   {
    "duration": 73,
    "start_time": "2022-03-13T17:06:30.107Z"
   },
   {
    "duration": 14,
    "start_time": "2022-03-13T17:06:58.897Z"
   },
   {
    "duration": 56,
    "start_time": "2022-03-13T17:07:09.904Z"
   },
   {
    "duration": 60,
    "start_time": "2022-03-13T17:07:47.785Z"
   },
   {
    "duration": 3,
    "start_time": "2022-03-13T17:08:55.562Z"
   },
   {
    "duration": 39,
    "start_time": "2022-03-13T17:08:55.567Z"
   },
   {
    "duration": 14,
    "start_time": "2022-03-13T17:08:55.609Z"
   },
   {
    "duration": 11,
    "start_time": "2022-03-13T17:08:55.625Z"
   },
   {
    "duration": 10,
    "start_time": "2022-03-13T17:08:55.638Z"
   },
   {
    "duration": 26,
    "start_time": "2022-03-13T17:08:55.650Z"
   },
   {
    "duration": 10,
    "start_time": "2022-03-13T17:08:55.678Z"
   },
   {
    "duration": 13,
    "start_time": "2022-03-13T17:08:55.749Z"
   },
   {
    "duration": 54,
    "start_time": "2022-03-13T17:08:55.763Z"
   },
   {
    "duration": -149,
    "start_time": "2022-03-13T17:08:55.968Z"
   },
   {
    "duration": 60,
    "start_time": "2022-03-13T17:09:31.398Z"
   },
   {
    "duration": 5,
    "start_time": "2022-03-13T17:10:18.215Z"
   },
   {
    "duration": 10,
    "start_time": "2022-03-13T17:10:51.830Z"
   },
   {
    "duration": 5,
    "start_time": "2022-03-13T17:11:04.964Z"
   },
   {
    "duration": 11,
    "start_time": "2022-03-13T17:11:15.274Z"
   },
   {
    "duration": 326,
    "start_time": "2022-03-14T13:36:32.004Z"
   },
   {
    "duration": 334,
    "start_time": "2022-03-14T13:36:44.648Z"
   },
   {
    "duration": 267,
    "start_time": "2022-03-14T13:37:54.838Z"
   },
   {
    "duration": 1492,
    "start_time": "2022-03-14T13:37:58.700Z"
   },
   {
    "duration": 43,
    "start_time": "2022-03-14T13:38:00.195Z"
   },
   {
    "duration": 30,
    "start_time": "2022-03-14T13:38:00.241Z"
   },
   {
    "duration": 20,
    "start_time": "2022-03-14T13:38:00.274Z"
   },
   {
    "duration": 10,
    "start_time": "2022-03-14T13:38:00.297Z"
   },
   {
    "duration": 85,
    "start_time": "2022-03-14T13:38:00.310Z"
   },
   {
    "duration": 20,
    "start_time": "2022-03-14T13:38:00.397Z"
   },
   {
    "duration": 41,
    "start_time": "2022-03-14T13:38:00.420Z"
   },
   {
    "duration": 31,
    "start_time": "2022-03-14T13:38:00.465Z"
   },
   {
    "duration": 4,
    "start_time": "2022-03-14T13:38:00.498Z"
   },
   {
    "duration": 7,
    "start_time": "2022-03-14T13:40:04.488Z"
   },
   {
    "duration": 40,
    "start_time": "2022-03-14T13:40:12.919Z"
   },
   {
    "duration": 5,
    "start_time": "2022-03-14T13:50:48.905Z"
   },
   {
    "duration": 36,
    "start_time": "2022-03-14T13:50:48.975Z"
   },
   {
    "duration": 45,
    "start_time": "2022-03-14T13:50:49.026Z"
   },
   {
    "duration": 19,
    "start_time": "2022-03-14T13:50:49.151Z"
   },
   {
    "duration": 337,
    "start_time": "2022-03-14T13:50:49.199Z"
   },
   {
    "duration": -655,
    "start_time": "2022-03-14T13:50:50.196Z"
   },
   {
    "duration": -649,
    "start_time": "2022-03-14T13:50:50.197Z"
   },
   {
    "duration": -646,
    "start_time": "2022-03-14T13:50:50.198Z"
   },
   {
    "duration": -643,
    "start_time": "2022-03-14T13:50:50.199Z"
   },
   {
    "duration": -702,
    "start_time": "2022-03-14T13:50:50.262Z"
   },
   {
    "duration": -737,
    "start_time": "2022-03-14T13:50:50.300Z"
   },
   {
    "duration": -736,
    "start_time": "2022-03-14T13:50:50.301Z"
   },
   {
    "duration": 274,
    "start_time": "2022-03-14T13:51:18.470Z"
   },
   {
    "duration": 57,
    "start_time": "2022-03-14T13:51:25.414Z"
   },
   {
    "duration": 27,
    "start_time": "2022-03-14T13:51:29.124Z"
   },
   {
    "duration": 27,
    "start_time": "2022-03-14T13:51:32.235Z"
   },
   {
    "duration": 28,
    "start_time": "2022-03-14T13:51:34.952Z"
   },
   {
    "duration": 32,
    "start_time": "2022-03-14T13:51:40.271Z"
   },
   {
    "duration": 271798,
    "start_time": "2022-03-14T13:51:47.428Z"
   },
   {
    "duration": 204011,
    "start_time": "2022-03-14T13:56:35.088Z"
   },
   {
    "duration": 4,
    "start_time": "2022-03-14T14:07:43.954Z"
   },
   {
    "duration": 41,
    "start_time": "2022-03-14T14:07:43.970Z"
   },
   {
    "duration": 32,
    "start_time": "2022-03-14T14:07:44.084Z"
   },
   {
    "duration": 21,
    "start_time": "2022-03-14T14:07:44.195Z"
   },
   {
    "duration": 13,
    "start_time": "2022-03-14T14:07:44.244Z"
   },
   {
    "duration": 45,
    "start_time": "2022-03-14T14:07:44.273Z"
   },
   {
    "duration": 21,
    "start_time": "2022-03-14T14:07:44.391Z"
   },
   {
    "duration": 20,
    "start_time": "2022-03-14T14:07:44.461Z"
   },
   {
    "duration": 57,
    "start_time": "2022-03-14T14:07:44.514Z"
   },
   {
    "duration": 57,
    "start_time": "2022-03-14T14:07:44.600Z"
   },
   {
    "duration": 333296,
    "start_time": "2022-03-14T14:07:44.694Z"
   },
   {
    "duration": 599,
    "start_time": "2022-03-14T14:17:13.529Z"
   },
   {
    "duration": 445,
    "start_time": "2022-03-14T14:17:14.743Z"
   },
   {
    "duration": 471,
    "start_time": "2022-03-14T14:17:15.646Z"
   },
   {
    "duration": 473,
    "start_time": "2022-03-14T14:17:16.611Z"
   },
   {
    "duration": 530,
    "start_time": "2022-03-14T14:17:17.094Z"
   },
   {
    "duration": 467,
    "start_time": "2022-03-14T14:17:17.626Z"
   },
   {
    "duration": 3,
    "start_time": "2022-03-14T14:17:18.095Z"
   },
   {
    "duration": 416,
    "start_time": "2022-03-14T14:17:18.102Z"
   },
   {
    "duration": -698,
    "start_time": "2022-03-14T14:17:19.218Z"
   },
   {
    "duration": -698,
    "start_time": "2022-03-14T14:17:19.220Z"
   },
   {
    "duration": 5,
    "start_time": "2022-03-14T14:18:08.022Z"
   },
   {
    "duration": 72,
    "start_time": "2022-03-14T14:18:08.031Z"
   },
   {
    "duration": 25,
    "start_time": "2022-03-14T14:18:08.106Z"
   },
   {
    "duration": 35,
    "start_time": "2022-03-14T14:18:08.134Z"
   },
   {
    "duration": 6,
    "start_time": "2022-03-14T14:18:08.180Z"
   },
   {
    "duration": 47,
    "start_time": "2022-03-14T14:18:08.188Z"
   },
   {
    "duration": 29,
    "start_time": "2022-03-14T14:18:08.238Z"
   },
   {
    "duration": 30,
    "start_time": "2022-03-14T14:18:08.270Z"
   },
   {
    "duration": 7,
    "start_time": "2022-03-14T14:18:08.304Z"
   },
   {
    "duration": 10,
    "start_time": "2022-03-14T14:18:08.314Z"
   },
   {
    "duration": 7,
    "start_time": "2022-03-14T14:18:08.326Z"
   },
   {
    "duration": 35,
    "start_time": "2022-03-14T14:18:08.335Z"
   },
   {
    "duration": 23,
    "start_time": "2022-03-14T14:18:08.373Z"
   },
   {
    "duration": 31,
    "start_time": "2022-03-14T14:18:08.398Z"
   },
   {
    "duration": 936,
    "start_time": "2022-03-14T14:18:08.432Z"
   },
   {
    "duration": 452,
    "start_time": "2022-03-14T14:18:09.371Z"
   },
   {
    "duration": 464,
    "start_time": "2022-03-14T14:18:09.825Z"
   },
   {
    "duration": 483,
    "start_time": "2022-03-14T14:18:10.293Z"
   },
   {
    "duration": 468,
    "start_time": "2022-03-14T14:18:10.778Z"
   },
   {
    "duration": 471,
    "start_time": "2022-03-14T14:18:11.252Z"
   },
   {
    "duration": 3,
    "start_time": "2022-03-14T14:18:11.726Z"
   },
   {
    "duration": 48,
    "start_time": "2022-03-14T14:18:11.732Z"
   },
   {
    "duration": 33,
    "start_time": "2022-03-14T14:18:11.783Z"
   },
   {
    "duration": 63,
    "start_time": "2022-03-14T14:18:11.819Z"
   },
   {
    "duration": 600,
    "start_time": "2022-03-14T14:18:44.499Z"
   },
   {
    "duration": 427,
    "start_time": "2022-03-14T14:45:21.334Z"
   },
   {
    "duration": 454,
    "start_time": "2022-03-14T14:45:28.075Z"
   },
   {
    "duration": 462,
    "start_time": "2022-03-14T14:45:36.630Z"
   },
   {
    "duration": 446,
    "start_time": "2022-03-14T14:45:42.361Z"
   },
   {
    "duration": 467,
    "start_time": "2022-03-14T14:47:08.796Z"
   },
   {
    "duration": 614,
    "start_time": "2022-03-14T14:47:33.996Z"
   },
   {
    "duration": 487,
    "start_time": "2022-03-14T14:47:53.011Z"
   },
   {
    "duration": 462,
    "start_time": "2022-03-14T14:48:08.109Z"
   },
   {
    "duration": 686,
    "start_time": "2022-03-14T14:48:18.816Z"
   },
   {
    "duration": 469,
    "start_time": "2022-03-14T14:48:52.243Z"
   },
   {
    "duration": 454,
    "start_time": "2022-03-14T14:49:02.441Z"
   },
   {
    "duration": 302,
    "start_time": "2022-03-14T14:54:59.969Z"
   },
   {
    "duration": 272,
    "start_time": "2022-03-14T14:55:11.995Z"
   },
   {
    "duration": 36,
    "start_time": "2022-03-14T14:55:43.765Z"
   },
   {
    "duration": 9,
    "start_time": "2022-03-14T14:57:21.592Z"
   },
   {
    "duration": 8,
    "start_time": "2022-03-14T14:58:55.252Z"
   },
   {
    "duration": 49,
    "start_time": "2022-03-14T15:01:18.912Z"
   },
   {
    "duration": 55,
    "start_time": "2022-03-14T15:01:34.340Z"
   },
   {
    "duration": 24,
    "start_time": "2022-03-14T15:04:58.778Z"
   },
   {
    "duration": 26,
    "start_time": "2022-03-14T15:05:09.844Z"
   },
   {
    "duration": 32,
    "start_time": "2022-03-14T15:05:18.197Z"
   },
   {
    "duration": 57,
    "start_time": "2022-03-14T15:06:38.109Z"
   },
   {
    "duration": 22,
    "start_time": "2022-03-14T15:12:13.410Z"
   },
   {
    "duration": 24,
    "start_time": "2022-03-14T15:22:25.200Z"
   },
   {
    "duration": 503,
    "start_time": "2022-03-14T15:22:50.896Z"
   },
   {
    "duration": 262,
    "start_time": "2022-03-14T15:23:45.929Z"
   },
   {
    "duration": 319,
    "start_time": "2022-03-14T15:23:53.356Z"
   },
   {
    "duration": 493,
    "start_time": "2022-03-14T15:27:48.562Z"
   },
   {
    "duration": 267,
    "start_time": "2022-03-14T15:27:57.098Z"
   },
   {
    "duration": 500,
    "start_time": "2022-03-14T15:28:04.748Z"
   },
   {
    "duration": 850,
    "start_time": "2022-03-14T15:28:25.757Z"
   },
   {
    "duration": 273,
    "start_time": "2022-03-14T15:29:10.761Z"
   },
   {
    "duration": 260,
    "start_time": "2022-03-14T15:29:18.165Z"
   },
   {
    "duration": 15,
    "start_time": "2022-03-14T15:31:05.527Z"
   },
   {
    "duration": 22,
    "start_time": "2022-03-14T15:32:56.459Z"
   },
   {
    "duration": 278,
    "start_time": "2022-03-14T15:35:06.807Z"
   },
   {
    "duration": 255,
    "start_time": "2022-03-14T15:35:24.098Z"
   },
   {
    "duration": 15,
    "start_time": "2022-03-14T15:35:36.565Z"
   },
   {
    "duration": 271,
    "start_time": "2022-03-14T15:35:45.281Z"
   },
   {
    "duration": 24,
    "start_time": "2022-03-14T15:36:00.107Z"
   },
   {
    "duration": 528,
    "start_time": "2022-03-14T15:36:12.725Z"
   },
   {
    "duration": 1089,
    "start_time": "2022-03-14T15:36:50.991Z"
   },
   {
    "duration": 886,
    "start_time": "2022-03-14T15:37:07.637Z"
   },
   {
    "duration": 868,
    "start_time": "2022-03-14T15:37:53.468Z"
   },
   {
    "duration": 870,
    "start_time": "2022-03-14T15:38:01.408Z"
   },
   {
    "duration": 272,
    "start_time": "2022-03-14T15:40:32.544Z"
   },
   {
    "duration": 43,
    "start_time": "2022-03-14T15:40:47.618Z"
   },
   {
    "duration": 285,
    "start_time": "2022-03-14T18:38:52.072Z"
   },
   {
    "duration": 7,
    "start_time": "2022-03-14T18:38:56.956Z"
   },
   {
    "duration": 6,
    "start_time": "2022-03-14T18:39:26.909Z"
   },
   {
    "duration": 14,
    "start_time": "2022-03-14T18:39:37.482Z"
   },
   {
    "duration": 6,
    "start_time": "2022-03-14T18:39:53.837Z"
   },
   {
    "duration": 5,
    "start_time": "2022-03-14T18:39:59.371Z"
   },
   {
    "duration": 6,
    "start_time": "2022-03-14T18:41:16.494Z"
   },
   {
    "duration": 289,
    "start_time": "2022-03-14T18:43:10.345Z"
   },
   {
    "duration": 9,
    "start_time": "2022-03-14T18:43:23.608Z"
   },
   {
    "duration": 16,
    "start_time": "2022-03-14T18:43:37.894Z"
   },
   {
    "duration": 91,
    "start_time": "2022-03-14T18:45:48.310Z"
   },
   {
    "duration": 19,
    "start_time": "2022-03-14T18:49:57.573Z"
   },
   {
    "duration": 17,
    "start_time": "2022-03-14T18:50:07.096Z"
   },
   {
    "duration": 28,
    "start_time": "2022-03-14T18:50:22.090Z"
   },
   {
    "duration": 28,
    "start_time": "2022-03-14T18:50:35.821Z"
   },
   {
    "duration": 23,
    "start_time": "2022-03-14T18:50:59.739Z"
   },
   {
    "duration": 53,
    "start_time": "2022-03-14T18:52:20.257Z"
   },
   {
    "duration": 346,
    "start_time": "2022-03-14T18:55:21.325Z"
   },
   {
    "duration": 289,
    "start_time": "2022-03-14T18:55:33.524Z"
   },
   {
    "duration": 309,
    "start_time": "2022-03-14T18:55:48.931Z"
   },
   {
    "duration": 212,
    "start_time": "2022-03-14T18:55:59.604Z"
   },
   {
    "duration": 225,
    "start_time": "2022-03-14T18:56:11.410Z"
   },
   {
    "duration": 337,
    "start_time": "2022-03-14T18:56:49.485Z"
   },
   {
    "duration": 215,
    "start_time": "2022-03-14T18:57:06.312Z"
   },
   {
    "duration": 318,
    "start_time": "2022-03-14T18:57:17.508Z"
   },
   {
    "duration": 291,
    "start_time": "2022-03-14T18:57:23.208Z"
   },
   {
    "duration": 56,
    "start_time": "2022-03-14T18:57:48.868Z"
   },
   {
    "duration": 41,
    "start_time": "2022-03-14T18:57:56.528Z"
   },
   {
    "duration": 382,
    "start_time": "2022-03-14T18:58:12.203Z"
   },
   {
    "duration": 404,
    "start_time": "2022-03-14T18:58:18.564Z"
   },
   {
    "duration": 16,
    "start_time": "2022-03-14T18:58:25.113Z"
   },
   {
    "duration": 783,
    "start_time": "2022-03-14T18:58:25.136Z"
   },
   {
    "duration": 798,
    "start_time": "2022-03-14T18:58:25.924Z"
   },
   {
    "duration": 918,
    "start_time": "2022-03-14T18:58:26.725Z"
   },
   {
    "duration": 882,
    "start_time": "2022-03-14T18:58:27.646Z"
   },
   {
    "duration": 486,
    "start_time": "2022-03-14T18:58:28.531Z"
   },
   {
    "duration": 782,
    "start_time": "2022-03-14T18:58:29.020Z"
   },
   {
    "duration": 752,
    "start_time": "2022-03-14T18:58:29.805Z"
   },
   {
    "duration": 2095,
    "start_time": "2022-03-14T18:58:30.561Z"
   },
   {
    "duration": -2535,
    "start_time": "2022-03-14T18:58:35.194Z"
   },
   {
    "duration": -2716,
    "start_time": "2022-03-14T18:58:35.377Z"
   },
   {
    "duration": -2716,
    "start_time": "2022-03-14T18:58:35.378Z"
   },
   {
    "duration": -2716,
    "start_time": "2022-03-14T18:58:35.380Z"
   },
   {
    "duration": -2715,
    "start_time": "2022-03-14T18:58:35.380Z"
   },
   {
    "duration": -2715,
    "start_time": "2022-03-14T18:58:35.382Z"
   },
   {
    "duration": -2715,
    "start_time": "2022-03-14T18:58:35.383Z"
   },
   {
    "duration": -2715,
    "start_time": "2022-03-14T18:58:35.384Z"
   },
   {
    "duration": -2714,
    "start_time": "2022-03-14T18:58:35.385Z"
   },
   {
    "duration": -2714,
    "start_time": "2022-03-14T18:58:35.386Z"
   },
   {
    "duration": -2714,
    "start_time": "2022-03-14T18:58:35.387Z"
   },
   {
    "duration": -2713,
    "start_time": "2022-03-14T18:58:35.388Z"
   },
   {
    "duration": -2714,
    "start_time": "2022-03-14T18:58:35.390Z"
   },
   {
    "duration": -2721,
    "start_time": "2022-03-14T18:58:35.398Z"
   },
   {
    "duration": -2722,
    "start_time": "2022-03-14T18:58:35.400Z"
   },
   {
    "duration": -2720,
    "start_time": "2022-03-14T18:58:35.400Z"
   },
   {
    "duration": -2720,
    "start_time": "2022-03-14T18:58:35.401Z"
   },
   {
    "duration": -2720,
    "start_time": "2022-03-14T18:58:35.402Z"
   },
   {
    "duration": -2720,
    "start_time": "2022-03-14T18:58:35.403Z"
   },
   {
    "duration": -2719,
    "start_time": "2022-03-14T18:58:35.404Z"
   },
   {
    "duration": -2895,
    "start_time": "2022-03-14T18:58:35.581Z"
   },
   {
    "duration": 6,
    "start_time": "2022-03-14T18:58:54.595Z"
   },
   {
    "duration": 415,
    "start_time": "2022-03-14T18:58:54.604Z"
   },
   {
    "duration": 475,
    "start_time": "2022-03-14T18:58:55.022Z"
   },
   {
    "duration": 1090,
    "start_time": "2022-03-14T18:58:55.500Z"
   },
   {
    "duration": 892,
    "start_time": "2022-03-14T18:58:56.593Z"
   },
   {
    "duration": 989,
    "start_time": "2022-03-14T18:58:57.488Z"
   },
   {
    "duration": 1432,
    "start_time": "2022-03-14T18:58:58.480Z"
   },
   {
    "duration": 737,
    "start_time": "2022-03-14T18:58:59.914Z"
   },
   {
    "duration": 1102,
    "start_time": "2022-03-14T18:59:00.655Z"
   },
   {
    "duration": -43,
    "start_time": "2022-03-14T18:59:01.803Z"
   },
   {
    "duration": -44,
    "start_time": "2022-03-14T18:59:01.806Z"
   },
   {
    "duration": -233,
    "start_time": "2022-03-14T18:59:01.997Z"
   },
   {
    "duration": -234,
    "start_time": "2022-03-14T18:59:02.000Z"
   },
   {
    "duration": -235,
    "start_time": "2022-03-14T18:59:02.002Z"
   },
   {
    "duration": -235,
    "start_time": "2022-03-14T18:59:02.003Z"
   },
   {
    "duration": -235,
    "start_time": "2022-03-14T18:59:02.005Z"
   },
   {
    "duration": -235,
    "start_time": "2022-03-14T18:59:02.006Z"
   },
   {
    "duration": -236,
    "start_time": "2022-03-14T18:59:02.008Z"
   },
   {
    "duration": -235,
    "start_time": "2022-03-14T18:59:02.009Z"
   },
   {
    "duration": -235,
    "start_time": "2022-03-14T18:59:02.011Z"
   },
   {
    "duration": -235,
    "start_time": "2022-03-14T18:59:02.012Z"
   },
   {
    "duration": -234,
    "start_time": "2022-03-14T18:59:02.013Z"
   },
   {
    "duration": -233,
    "start_time": "2022-03-14T18:59:02.014Z"
   },
   {
    "duration": -233,
    "start_time": "2022-03-14T18:59:02.016Z"
   },
   {
    "duration": -233,
    "start_time": "2022-03-14T18:59:02.017Z"
   },
   {
    "duration": -232,
    "start_time": "2022-03-14T18:59:02.018Z"
   },
   {
    "duration": -232,
    "start_time": "2022-03-14T18:59:02.019Z"
   },
   {
    "duration": -232,
    "start_time": "2022-03-14T18:59:02.021Z"
   },
   {
    "duration": -231,
    "start_time": "2022-03-14T18:59:02.022Z"
   },
   {
    "duration": -231,
    "start_time": "2022-03-14T18:59:02.023Z"
   },
   {
    "duration": 9,
    "start_time": "2022-03-14T18:59:25.270Z"
   },
   {
    "duration": 248,
    "start_time": "2022-03-14T18:59:35.011Z"
   },
   {
    "duration": 327,
    "start_time": "2022-03-14T18:59:57.636Z"
   },
   {
    "duration": 256,
    "start_time": "2022-03-14T19:00:05.524Z"
   },
   {
    "duration": 229,
    "start_time": "2022-03-14T19:00:11.580Z"
   },
   {
    "duration": 255,
    "start_time": "2022-03-14T19:00:17.033Z"
   },
   {
    "duration": 281,
    "start_time": "2022-03-14T19:00:28.833Z"
   },
   {
    "duration": 258,
    "start_time": "2022-03-14T19:01:04.572Z"
   },
   {
    "duration": 9,
    "start_time": "2022-03-14T19:01:11.060Z"
   },
   {
    "duration": 260,
    "start_time": "2022-03-14T19:01:17.707Z"
   },
   {
    "duration": 6,
    "start_time": "2022-03-14T19:01:24.274Z"
   },
   {
    "duration": 26,
    "start_time": "2022-03-14T19:01:34.547Z"
   },
   {
    "duration": 922,
    "start_time": "2022-03-14T19:01:34.576Z"
   },
   {
    "duration": 278,
    "start_time": "2022-03-14T19:01:35.502Z"
   },
   {
    "duration": 326,
    "start_time": "2022-03-14T19:01:35.783Z"
   },
   {
    "duration": 851,
    "start_time": "2022-03-14T19:01:36.112Z"
   },
   {
    "duration": 470,
    "start_time": "2022-03-14T19:01:36.966Z"
   },
   {
    "duration": 53,
    "start_time": "2022-03-14T19:01:37.438Z"
   },
   {
    "duration": 294,
    "start_time": "2022-03-14T19:01:37.493Z"
   },
   {
    "duration": 814,
    "start_time": "2022-03-14T19:01:37.791Z"
   },
   {
    "duration": 466,
    "start_time": "2022-03-14T19:01:38.608Z"
   },
   {
    "duration": 485,
    "start_time": "2022-03-14T19:01:39.077Z"
   },
   {
    "duration": 457,
    "start_time": "2022-03-14T19:01:39.564Z"
   },
   {
    "duration": 38,
    "start_time": "2022-03-14T19:01:40.023Z"
   },
   {
    "duration": 206,
    "start_time": "2022-03-14T19:01:40.063Z"
   },
   {
    "duration": 422,
    "start_time": "2022-03-14T19:01:40.271Z"
   },
   {
    "duration": 516,
    "start_time": "2022-03-14T19:01:40.696Z"
   },
   {
    "duration": 62,
    "start_time": "2022-03-14T19:01:41.215Z"
   },
   {
    "duration": 301,
    "start_time": "2022-03-14T19:01:41.280Z"
   },
   {
    "duration": 267,
    "start_time": "2022-03-14T19:01:41.583Z"
   },
   {
    "duration": 328,
    "start_time": "2022-03-14T19:01:41.853Z"
   },
   {
    "duration": 8,
    "start_time": "2022-03-14T19:03:32.443Z"
   },
   {
    "duration": 276,
    "start_time": "2022-03-14T19:05:12.824Z"
   },
   {
    "duration": 466,
    "start_time": "2022-03-14T19:06:18.099Z"
   },
   {
    "duration": 15,
    "start_time": "2022-03-14T19:07:25.588Z"
   },
   {
    "duration": 41,
    "start_time": "2022-03-14T19:07:37.076Z"
   },
   {
    "duration": 4,
    "start_time": "2022-03-14T19:08:45.624Z"
   },
   {
    "duration": 441,
    "start_time": "2022-03-14T19:08:46.638Z"
   },
   {
    "duration": 34,
    "start_time": "2022-03-14T19:08:54.082Z"
   },
   {
    "duration": 2031,
    "start_time": "2022-03-14T19:16:01.059Z"
   },
   {
    "duration": 1869,
    "start_time": "2022-03-14T19:16:06.534Z"
   },
   {
    "duration": 5,
    "start_time": "2022-03-14T19:16:20.861Z"
   },
   {
    "duration": 446,
    "start_time": "2022-03-14T19:16:20.869Z"
   },
   {
    "duration": 625,
    "start_time": "2022-03-14T19:16:21.318Z"
   },
   {
    "duration": 117,
    "start_time": "2022-03-14T19:16:21.947Z"
   },
   {
    "duration": 749,
    "start_time": "2022-03-14T19:16:22.067Z"
   },
   {
    "duration": 654,
    "start_time": "2022-03-14T19:16:22.818Z"
   },
   {
    "duration": 306,
    "start_time": "2022-03-14T19:16:23.475Z"
   },
   {
    "duration": 271,
    "start_time": "2022-03-14T19:16:23.785Z"
   },
   {
    "duration": 297,
    "start_time": "2022-03-14T19:16:24.060Z"
   },
   {
    "duration": 397,
    "start_time": "2022-03-14T19:16:24.360Z"
   },
   {
    "duration": 362,
    "start_time": "2022-03-14T19:16:24.760Z"
   },
   {
    "duration": 336,
    "start_time": "2022-03-14T19:16:25.125Z"
   },
   {
    "duration": 606,
    "start_time": "2022-03-14T19:16:25.464Z"
   },
   {
    "duration": 567,
    "start_time": "2022-03-14T19:16:26.073Z"
   },
   {
    "duration": 943,
    "start_time": "2022-03-14T19:16:26.643Z"
   },
   {
    "duration": 453,
    "start_time": "2022-03-14T19:16:27.588Z"
   },
   {
    "duration": 50,
    "start_time": "2022-03-14T19:16:28.044Z"
   },
   {
    "duration": 849,
    "start_time": "2022-03-14T19:16:28.096Z"
   },
   {
    "duration": 1252,
    "start_time": "2022-03-14T19:16:28.948Z"
   },
   {
    "duration": 895,
    "start_time": "2022-03-14T19:16:30.203Z"
   },
   {
    "duration": 1243,
    "start_time": "2022-03-14T19:16:31.100Z"
   },
   {
    "duration": 958,
    "start_time": "2022-03-14T19:16:32.345Z"
   },
   {
    "duration": 490,
    "start_time": "2022-03-14T19:16:33.306Z"
   },
   {
    "duration": 665,
    "start_time": "2022-03-14T19:16:33.798Z"
   },
   {
    "duration": 475,
    "start_time": "2022-03-14T19:16:34.466Z"
   },
   {
    "duration": 908,
    "start_time": "2022-03-14T19:16:34.943Z"
   },
   {
    "duration": 328,
    "start_time": "2022-03-14T19:16:35.856Z"
   },
   {
    "duration": 831,
    "start_time": "2022-03-14T19:16:36.186Z"
   },
   {
    "duration": -354,
    "start_time": "2022-03-14T19:16:37.374Z"
   },
   {
    "duration": -354,
    "start_time": "2022-03-14T19:16:37.376Z"
   },
   {
    "duration": -354,
    "start_time": "2022-03-14T19:16:37.377Z"
   },
   {
    "duration": 21,
    "start_time": "2022-03-14T19:17:04.464Z"
   },
   {
    "duration": 38,
    "start_time": "2022-03-14T19:17:57.579Z"
   },
   {
    "duration": 20,
    "start_time": "2022-03-14T19:18:53.358Z"
   },
   {
    "duration": 36,
    "start_time": "2022-03-14T19:20:11.423Z"
   },
   {
    "duration": 25,
    "start_time": "2022-03-14T19:20:18.935Z"
   },
   {
    "duration": 21,
    "start_time": "2022-03-14T19:20:24.291Z"
   },
   {
    "duration": 5,
    "start_time": "2022-03-14T19:20:30.160Z"
   },
   {
    "duration": 116,
    "start_time": "2022-03-14T19:20:30.167Z"
   },
   {
    "duration": 30,
    "start_time": "2022-03-14T19:20:30.347Z"
   },
   {
    "duration": 51,
    "start_time": "2022-03-14T19:20:30.380Z"
   },
   {
    "duration": 110,
    "start_time": "2022-03-14T19:20:30.435Z"
   },
   {
    "duration": 64,
    "start_time": "2022-03-14T19:20:30.548Z"
   },
   {
    "duration": 107,
    "start_time": "2022-03-14T19:20:30.614Z"
   },
   {
    "duration": 45,
    "start_time": "2022-03-14T19:20:30.724Z"
   },
   {
    "duration": 88,
    "start_time": "2022-03-14T19:20:30.775Z"
   },
   {
    "duration": 104,
    "start_time": "2022-03-14T19:20:30.865Z"
   },
   {
    "duration": 143,
    "start_time": "2022-03-14T19:20:30.971Z"
   },
   {
    "duration": 115,
    "start_time": "2022-03-14T19:20:31.116Z"
   },
   {
    "duration": 77,
    "start_time": "2022-03-14T19:20:31.233Z"
   },
   {
    "duration": 132,
    "start_time": "2022-03-14T19:20:31.313Z"
   },
   {
    "duration": 677,
    "start_time": "2022-03-14T19:20:31.448Z"
   },
   {
    "duration": 465,
    "start_time": "2022-03-14T19:20:32.127Z"
   },
   {
    "duration": 57,
    "start_time": "2022-03-14T19:20:32.595Z"
   },
   {
    "duration": 148,
    "start_time": "2022-03-14T19:20:32.655Z"
   },
   {
    "duration": 5485,
    "start_time": "2022-03-14T19:20:32.806Z"
   },
   {
    "duration": 472,
    "start_time": "2022-03-14T19:20:38.296Z"
   },
   {
    "duration": 480,
    "start_time": "2022-03-14T19:20:38.771Z"
   },
   {
    "duration": 486,
    "start_time": "2022-03-14T19:20:39.253Z"
   },
   {
    "duration": 29,
    "start_time": "2022-03-14T19:20:39.741Z"
   },
   {
    "duration": 129,
    "start_time": "2022-03-14T19:20:39.772Z"
   },
   {
    "duration": 570,
    "start_time": "2022-03-14T19:20:39.904Z"
   },
   {
    "duration": 743,
    "start_time": "2022-03-14T19:20:40.477Z"
   },
   {
    "duration": 51,
    "start_time": "2022-03-14T19:20:41.224Z"
   },
   {
    "duration": 600,
    "start_time": "2022-03-14T19:20:41.277Z"
   },
   {
    "duration": -234,
    "start_time": "2022-03-14T19:20:42.114Z"
   },
   {
    "duration": -235,
    "start_time": "2022-03-14T19:20:42.116Z"
   },
   {
    "duration": -234,
    "start_time": "2022-03-14T19:20:42.117Z"
   },
   {
    "duration": 34,
    "start_time": "2022-03-14T19:20:45.292Z"
   },
   {
    "duration": 948,
    "start_time": "2022-03-14T19:20:52.855Z"
   },
   {
    "duration": 27,
    "start_time": "2022-03-14T19:21:25.997Z"
   },
   {
    "duration": 42,
    "start_time": "2022-03-14T19:21:32.160Z"
   },
   {
    "duration": 32,
    "start_time": "2022-03-14T19:21:44.525Z"
   },
   {
    "duration": 39,
    "start_time": "2022-03-14T19:21:51.390Z"
   },
   {
    "duration": 29,
    "start_time": "2022-03-14T19:22:31.012Z"
   },
   {
    "duration": 312,
    "start_time": "2022-03-14T19:22:49.240Z"
   },
   {
    "duration": 8,
    "start_time": "2022-03-14T19:23:29.915Z"
   },
   {
    "duration": 496,
    "start_time": "2022-03-14T19:24:36.809Z"
   },
   {
    "duration": 616,
    "start_time": "2022-03-14T19:24:59.642Z"
   },
   {
    "duration": 711,
    "start_time": "2022-03-14T19:25:03.325Z"
   },
   {
    "duration": 252,
    "start_time": "2022-03-14T19:32:46.261Z"
   },
   {
    "duration": 278,
    "start_time": "2022-03-14T19:32:52.437Z"
   },
   {
    "duration": 17,
    "start_time": "2022-03-14T19:32:59.011Z"
   },
   {
    "duration": 43,
    "start_time": "2022-03-14T19:33:05.986Z"
   },
   {
    "duration": 45,
    "start_time": "2022-03-14T19:33:36.659Z"
   },
   {
    "duration": 9,
    "start_time": "2022-03-14T19:34:52.813Z"
   },
   {
    "duration": 6,
    "start_time": "2022-03-14T19:40:39.428Z"
   },
   {
    "duration": 6,
    "start_time": "2022-03-14T19:40:46.234Z"
   },
   {
    "duration": 153,
    "start_time": "2022-03-14T19:41:02.428Z"
   },
   {
    "duration": 8,
    "start_time": "2022-03-14T19:41:11.807Z"
   },
   {
    "duration": 4,
    "start_time": "2022-03-14T19:41:12.379Z"
   },
   {
    "duration": 52,
    "start_time": "2022-03-14T19:41:14.293Z"
   },
   {
    "duration": 46,
    "start_time": "2022-03-14T19:41:59.123Z"
   },
   {
    "duration": 282,
    "start_time": "2022-03-14T19:42:55.161Z"
   },
   {
    "duration": 526,
    "start_time": "2022-03-14T19:43:22.781Z"
   },
   {
    "duration": 34,
    "start_time": "2022-03-14T19:44:13.876Z"
   },
   {
    "duration": 244,
    "start_time": "2022-03-14T19:44:50.696Z"
   },
   {
    "duration": 7,
    "start_time": "2022-03-14T19:45:09.118Z"
   },
   {
    "duration": 5,
    "start_time": "2022-03-14T19:46:18.845Z"
   },
   {
    "duration": 9,
    "start_time": "2022-03-14T19:46:26.819Z"
   },
   {
    "duration": 212,
    "start_time": "2022-03-15T01:21:34.541Z"
   },
   {
    "duration": 176,
    "start_time": "2022-03-15T01:21:47.725Z"
   },
   {
    "duration": 1094,
    "start_time": "2022-03-15T01:22:03.705Z"
   },
   {
    "duration": 39,
    "start_time": "2022-03-15T01:22:04.801Z"
   },
   {
    "duration": 24,
    "start_time": "2022-03-15T01:22:04.843Z"
   },
   {
    "duration": 17,
    "start_time": "2022-03-15T01:22:04.869Z"
   },
   {
    "duration": 55,
    "start_time": "2022-03-15T01:22:04.888Z"
   },
   {
    "duration": 13,
    "start_time": "2022-03-15T01:22:04.946Z"
   },
   {
    "duration": 18,
    "start_time": "2022-03-15T01:22:04.961Z"
   },
   {
    "duration": 5,
    "start_time": "2022-03-15T01:22:04.982Z"
   },
   {
    "duration": 6,
    "start_time": "2022-03-15T01:22:04.990Z"
   },
   {
    "duration": 6,
    "start_time": "2022-03-15T01:22:05.038Z"
   },
   {
    "duration": 15,
    "start_time": "2022-03-15T01:22:05.046Z"
   },
   {
    "duration": 17,
    "start_time": "2022-03-15T01:22:05.063Z"
   },
   {
    "duration": 232,
    "start_time": "2022-03-15T01:22:05.082Z"
   },
   {
    "duration": -36,
    "start_time": "2022-03-15T01:22:05.353Z"
   },
   {
    "duration": -35,
    "start_time": "2022-03-15T01:22:05.354Z"
   },
   {
    "duration": -36,
    "start_time": "2022-03-15T01:22:05.356Z"
   },
   {
    "duration": -34,
    "start_time": "2022-03-15T01:22:05.356Z"
   },
   {
    "duration": -44,
    "start_time": "2022-03-15T01:22:05.367Z"
   },
   {
    "duration": -45,
    "start_time": "2022-03-15T01:22:05.369Z"
   },
   {
    "duration": -43,
    "start_time": "2022-03-15T01:22:05.369Z"
   },
   {
    "duration": -43,
    "start_time": "2022-03-15T01:22:05.370Z"
   },
   {
    "duration": -43,
    "start_time": "2022-03-15T01:22:05.371Z"
   },
   {
    "duration": -42,
    "start_time": "2022-03-15T01:22:05.372Z"
   },
   {
    "duration": -42,
    "start_time": "2022-03-15T01:22:05.373Z"
   },
   {
    "duration": -41,
    "start_time": "2022-03-15T01:22:05.374Z"
   },
   {
    "duration": -40,
    "start_time": "2022-03-15T01:22:05.374Z"
   },
   {
    "duration": -39,
    "start_time": "2022-03-15T01:22:05.375Z"
   },
   {
    "duration": -39,
    "start_time": "2022-03-15T01:22:05.376Z"
   },
   {
    "duration": -38,
    "start_time": "2022-03-15T01:22:05.377Z"
   },
   {
    "duration": -41,
    "start_time": "2022-03-15T01:22:05.381Z"
   },
   {
    "duration": -41,
    "start_time": "2022-03-15T01:22:05.382Z"
   },
   {
    "duration": -41,
    "start_time": "2022-03-15T01:22:05.383Z"
   },
   {
    "duration": -40,
    "start_time": "2022-03-15T01:22:05.383Z"
   },
   {
    "duration": -40,
    "start_time": "2022-03-15T01:22:05.384Z"
   },
   {
    "duration": -147,
    "start_time": "2022-03-15T01:22:05.492Z"
   },
   {
    "duration": -147,
    "start_time": "2022-03-15T01:22:05.493Z"
   },
   {
    "duration": -149,
    "start_time": "2022-03-15T01:22:05.497Z"
   },
   {
    "duration": -149,
    "start_time": "2022-03-15T01:22:05.498Z"
   },
   {
    "duration": -149,
    "start_time": "2022-03-15T01:22:05.499Z"
   },
   {
    "duration": -148,
    "start_time": "2022-03-15T01:22:05.499Z"
   },
   {
    "duration": -148,
    "start_time": "2022-03-15T01:22:05.500Z"
   },
   {
    "duration": -147,
    "start_time": "2022-03-15T01:22:05.500Z"
   },
   {
    "duration": -147,
    "start_time": "2022-03-15T01:22:05.501Z"
   },
   {
    "duration": -146,
    "start_time": "2022-03-15T01:22:05.501Z"
   },
   {
    "duration": -146,
    "start_time": "2022-03-15T01:22:05.502Z"
   },
   {
    "duration": 15,
    "start_time": "2022-03-15T01:22:22.393Z"
   },
   {
    "duration": 189,
    "start_time": "2022-03-15T01:22:26.863Z"
   },
   {
    "duration": 3,
    "start_time": "2022-03-15T01:22:42.850Z"
   },
   {
    "duration": 36,
    "start_time": "2022-03-15T01:22:42.855Z"
   },
   {
    "duration": 19,
    "start_time": "2022-03-15T01:22:42.893Z"
   },
   {
    "duration": 11,
    "start_time": "2022-03-15T01:22:42.914Z"
   },
   {
    "duration": 39,
    "start_time": "2022-03-15T01:22:42.926Z"
   },
   {
    "duration": 12,
    "start_time": "2022-03-15T01:22:42.967Z"
   },
   {
    "duration": 19,
    "start_time": "2022-03-15T01:22:42.980Z"
   },
   {
    "duration": 4,
    "start_time": "2022-03-15T01:22:43.001Z"
   },
   {
    "duration": 32,
    "start_time": "2022-03-15T01:22:43.007Z"
   },
   {
    "duration": 5,
    "start_time": "2022-03-15T01:22:43.041Z"
   },
   {
    "duration": 14,
    "start_time": "2022-03-15T01:22:43.047Z"
   },
   {
    "duration": 12,
    "start_time": "2022-03-15T01:22:43.063Z"
   },
   {
    "duration": 249,
    "start_time": "2022-03-15T01:22:43.076Z"
   },
   {
    "duration": -42,
    "start_time": "2022-03-15T01:22:43.370Z"
   },
   {
    "duration": -41,
    "start_time": "2022-03-15T01:22:43.371Z"
   },
   {
    "duration": -41,
    "start_time": "2022-03-15T01:22:43.372Z"
   },
   {
    "duration": -40,
    "start_time": "2022-03-15T01:22:43.373Z"
   },
   {
    "duration": -40,
    "start_time": "2022-03-15T01:22:43.374Z"
   },
   {
    "duration": -40,
    "start_time": "2022-03-15T01:22:43.375Z"
   },
   {
    "duration": -39,
    "start_time": "2022-03-15T01:22:43.376Z"
   },
   {
    "duration": -41,
    "start_time": "2022-03-15T01:22:43.379Z"
   },
   {
    "duration": -41,
    "start_time": "2022-03-15T01:22:43.381Z"
   },
   {
    "duration": -40,
    "start_time": "2022-03-15T01:22:43.381Z"
   },
   {
    "duration": -40,
    "start_time": "2022-03-15T01:22:43.382Z"
   },
   {
    "duration": -39,
    "start_time": "2022-03-15T01:22:43.383Z"
   },
   {
    "duration": -39,
    "start_time": "2022-03-15T01:22:43.384Z"
   },
   {
    "duration": -40,
    "start_time": "2022-03-15T01:22:43.387Z"
   },
   {
    "duration": -40,
    "start_time": "2022-03-15T01:22:43.388Z"
   },
   {
    "duration": -39,
    "start_time": "2022-03-15T01:22:43.389Z"
   },
   {
    "duration": -43,
    "start_time": "2022-03-15T01:22:43.394Z"
   },
   {
    "duration": -43,
    "start_time": "2022-03-15T01:22:43.395Z"
   },
   {
    "duration": -43,
    "start_time": "2022-03-15T01:22:43.396Z"
   },
   {
    "duration": -43,
    "start_time": "2022-03-15T01:22:43.397Z"
   },
   {
    "duration": -154,
    "start_time": "2022-03-15T01:22:43.509Z"
   },
   {
    "duration": -155,
    "start_time": "2022-03-15T01:22:43.510Z"
   },
   {
    "duration": -154,
    "start_time": "2022-03-15T01:22:43.510Z"
   },
   {
    "duration": -154,
    "start_time": "2022-03-15T01:22:43.511Z"
   },
   {
    "duration": -154,
    "start_time": "2022-03-15T01:22:43.512Z"
   },
   {
    "duration": -153,
    "start_time": "2022-03-15T01:22:43.512Z"
   },
   {
    "duration": -153,
    "start_time": "2022-03-15T01:22:43.513Z"
   },
   {
    "duration": -154,
    "start_time": "2022-03-15T01:22:43.514Z"
   },
   {
    "duration": -153,
    "start_time": "2022-03-15T01:22:43.514Z"
   },
   {
    "duration": -153,
    "start_time": "2022-03-15T01:22:43.515Z"
   },
   {
    "duration": -153,
    "start_time": "2022-03-15T01:22:43.516Z"
   },
   {
    "duration": -153,
    "start_time": "2022-03-15T01:22:43.516Z"
   },
   {
    "duration": 4,
    "start_time": "2022-03-15T01:25:20.061Z"
   },
   {
    "duration": 38,
    "start_time": "2022-03-15T01:25:20.067Z"
   },
   {
    "duration": 19,
    "start_time": "2022-03-15T01:25:20.107Z"
   },
   {
    "duration": 11,
    "start_time": "2022-03-15T01:25:20.128Z"
   },
   {
    "duration": 32,
    "start_time": "2022-03-15T01:25:20.141Z"
   },
   {
    "duration": 12,
    "start_time": "2022-03-15T01:25:20.174Z"
   },
   {
    "duration": 18,
    "start_time": "2022-03-15T01:25:20.188Z"
   },
   {
    "duration": 5,
    "start_time": "2022-03-15T01:25:20.207Z"
   },
   {
    "duration": 28,
    "start_time": "2022-03-15T01:25:20.214Z"
   },
   {
    "duration": 5,
    "start_time": "2022-03-15T01:25:20.245Z"
   },
   {
    "duration": 16,
    "start_time": "2022-03-15T01:25:20.251Z"
   },
   {
    "duration": 14,
    "start_time": "2022-03-15T01:25:20.269Z"
   },
   {
    "duration": 194,
    "start_time": "2022-03-15T01:25:20.285Z"
   },
   {
    "duration": -24,
    "start_time": "2022-03-15T01:25:20.506Z"
   },
   {
    "duration": -24,
    "start_time": "2022-03-15T01:25:20.507Z"
   },
   {
    "duration": -23,
    "start_time": "2022-03-15T01:25:20.507Z"
   },
   {
    "duration": -26,
    "start_time": "2022-03-15T01:25:20.511Z"
   },
   {
    "duration": -26,
    "start_time": "2022-03-15T01:25:20.512Z"
   },
   {
    "duration": -26,
    "start_time": "2022-03-15T01:25:20.513Z"
   },
   {
    "duration": -25,
    "start_time": "2022-03-15T01:25:20.513Z"
   },
   {
    "duration": -34,
    "start_time": "2022-03-15T01:25:20.523Z"
   },
   {
    "duration": -34,
    "start_time": "2022-03-15T01:25:20.524Z"
   },
   {
    "duration": -33,
    "start_time": "2022-03-15T01:25:20.524Z"
   },
   {
    "duration": -33,
    "start_time": "2022-03-15T01:25:20.525Z"
   },
   {
    "duration": -33,
    "start_time": "2022-03-15T01:25:20.526Z"
   },
   {
    "duration": -33,
    "start_time": "2022-03-15T01:25:20.527Z"
   },
   {
    "duration": -32,
    "start_time": "2022-03-15T01:25:20.527Z"
   },
   {
    "duration": -32,
    "start_time": "2022-03-15T01:25:20.528Z"
   },
   {
    "duration": -32,
    "start_time": "2022-03-15T01:25:20.529Z"
   },
   {
    "duration": -145,
    "start_time": "2022-03-15T01:25:20.643Z"
   },
   {
    "duration": -145,
    "start_time": "2022-03-15T01:25:20.644Z"
   },
   {
    "duration": -145,
    "start_time": "2022-03-15T01:25:20.645Z"
   },
   {
    "duration": -144,
    "start_time": "2022-03-15T01:25:20.645Z"
   },
   {
    "duration": -144,
    "start_time": "2022-03-15T01:25:20.646Z"
   },
   {
    "duration": -143,
    "start_time": "2022-03-15T01:25:20.647Z"
   },
   {
    "duration": -142,
    "start_time": "2022-03-15T01:25:20.647Z"
   },
   {
    "duration": -142,
    "start_time": "2022-03-15T01:25:20.648Z"
   },
   {
    "duration": -142,
    "start_time": "2022-03-15T01:25:20.649Z"
   },
   {
    "duration": -141,
    "start_time": "2022-03-15T01:25:20.649Z"
   },
   {
    "duration": -141,
    "start_time": "2022-03-15T01:25:20.650Z"
   },
   {
    "duration": -141,
    "start_time": "2022-03-15T01:25:20.651Z"
   },
   {
    "duration": -140,
    "start_time": "2022-03-15T01:25:20.651Z"
   },
   {
    "duration": -141,
    "start_time": "2022-03-15T01:25:20.652Z"
   },
   {
    "duration": -140,
    "start_time": "2022-03-15T01:25:20.652Z"
   },
   {
    "duration": -139,
    "start_time": "2022-03-15T01:25:20.653Z"
   },
   {
    "duration": 3,
    "start_time": "2022-03-15T01:25:40.665Z"
   },
   {
    "duration": 22,
    "start_time": "2022-03-15T01:25:42.004Z"
   },
   {
    "duration": 359,
    "start_time": "2022-03-15T01:25:45.355Z"
   },
   {
    "duration": 270,
    "start_time": "2022-03-15T01:25:45.716Z"
   },
   {
    "duration": 29,
    "start_time": "2022-03-15T01:25:45.988Z"
   },
   {
    "duration": 44,
    "start_time": "2022-03-15T01:25:46.020Z"
   },
   {
    "duration": 286,
    "start_time": "2022-03-15T01:25:46.066Z"
   },
   {
    "duration": 273,
    "start_time": "2022-03-15T01:25:46.354Z"
   },
   {
    "duration": 275,
    "start_time": "2022-03-15T01:25:46.629Z"
   },
   {
    "duration": 357,
    "start_time": "2022-03-15T01:25:46.906Z"
   },
   {
    "duration": 13,
    "start_time": "2022-03-15T01:25:47.266Z"
   },
   {
    "duration": 2,
    "start_time": "2022-03-15T01:25:47.281Z"
   },
   {
    "duration": 36,
    "start_time": "2022-03-15T01:25:47.285Z"
   },
   {
    "duration": 159,
    "start_time": "2022-03-15T01:25:47.323Z"
   },
   {
    "duration": 7,
    "start_time": "2022-03-15T01:25:47.484Z"
   },
   {
    "duration": 375,
    "start_time": "2022-03-15T01:25:47.492Z"
   },
   {
    "duration": 286,
    "start_time": "2022-03-15T01:25:47.869Z"
   },
   {
    "duration": 25,
    "start_time": "2022-03-15T01:25:48.157Z"
   },
   {
    "duration": 27,
    "start_time": "2022-03-15T01:25:48.184Z"
   },
   {
    "duration": 25,
    "start_time": "2022-03-15T01:25:48.213Z"
   },
   {
    "duration": 193,
    "start_time": "2022-03-15T01:25:48.240Z"
   },
   {
    "duration": -29,
    "start_time": "2022-03-15T01:25:48.464Z"
   },
   {
    "duration": -30,
    "start_time": "2022-03-15T01:25:48.466Z"
   },
   {
    "duration": -31,
    "start_time": "2022-03-15T01:25:48.468Z"
   },
   {
    "duration": -31,
    "start_time": "2022-03-15T01:25:48.469Z"
   },
   {
    "duration": -31,
    "start_time": "2022-03-15T01:25:48.470Z"
   },
   {
    "duration": -32,
    "start_time": "2022-03-15T01:25:48.472Z"
   },
   {
    "duration": -41,
    "start_time": "2022-03-15T01:25:48.482Z"
   },
   {
    "duration": -43,
    "start_time": "2022-03-15T01:25:48.484Z"
   },
   {
    "duration": -44,
    "start_time": "2022-03-15T01:25:48.486Z"
   },
   {
    "duration": -44,
    "start_time": "2022-03-15T01:25:48.487Z"
   },
   {
    "duration": -44,
    "start_time": "2022-03-15T01:25:48.488Z"
   },
   {
    "duration": -44,
    "start_time": "2022-03-15T01:25:48.489Z"
   },
   {
    "duration": 21,
    "start_time": "2022-03-15T01:26:58.183Z"
   },
   {
    "duration": 60,
    "start_time": "2022-03-15T01:27:19.155Z"
   },
   {
    "duration": 16,
    "start_time": "2022-03-15T01:28:04.103Z"
   },
   {
    "duration": 15,
    "start_time": "2022-03-15T01:28:09.312Z"
   },
   {
    "duration": 24,
    "start_time": "2022-03-15T01:28:13.890Z"
   },
   {
    "duration": 16,
    "start_time": "2022-03-15T01:28:15.052Z"
   },
   {
    "duration": 3,
    "start_time": "2022-03-15T01:28:19.394Z"
   },
   {
    "duration": 36,
    "start_time": "2022-03-15T01:28:19.399Z"
   },
   {
    "duration": 19,
    "start_time": "2022-03-15T01:28:19.437Z"
   },
   {
    "duration": 13,
    "start_time": "2022-03-15T01:28:19.458Z"
   },
   {
    "duration": 30,
    "start_time": "2022-03-15T01:28:19.472Z"
   },
   {
    "duration": 38,
    "start_time": "2022-03-15T01:28:19.504Z"
   },
   {
    "duration": 21,
    "start_time": "2022-03-15T01:28:19.544Z"
   },
   {
    "duration": 5,
    "start_time": "2022-03-15T01:28:19.567Z"
   },
   {
    "duration": 9,
    "start_time": "2022-03-15T01:28:19.574Z"
   },
   {
    "duration": 7,
    "start_time": "2022-03-15T01:28:19.584Z"
   },
   {
    "duration": 14,
    "start_time": "2022-03-15T01:28:19.593Z"
   },
   {
    "duration": 35,
    "start_time": "2022-03-15T01:28:19.608Z"
   },
   {
    "duration": 2,
    "start_time": "2022-03-15T01:28:19.645Z"
   },
   {
    "duration": 22,
    "start_time": "2022-03-15T01:28:19.649Z"
   },
   {
    "duration": 376,
    "start_time": "2022-03-15T01:28:19.672Z"
   },
   {
    "duration": 273,
    "start_time": "2022-03-15T01:28:20.049Z"
   },
   {
    "duration": 33,
    "start_time": "2022-03-15T01:28:20.324Z"
   },
   {
    "duration": 25,
    "start_time": "2022-03-15T01:28:20.358Z"
   },
   {
    "duration": 290,
    "start_time": "2022-03-15T01:28:20.384Z"
   },
   {
    "duration": 268,
    "start_time": "2022-03-15T01:28:20.676Z"
   },
   {
    "duration": 286,
    "start_time": "2022-03-15T01:28:20.945Z"
   },
   {
    "duration": 385,
    "start_time": "2022-03-15T01:28:21.232Z"
   },
   {
    "duration": 18,
    "start_time": "2022-03-15T01:28:21.620Z"
   },
   {
    "duration": 2,
    "start_time": "2022-03-15T01:28:21.641Z"
   },
   {
    "duration": 23,
    "start_time": "2022-03-15T01:28:21.644Z"
   },
   {
    "duration": 129,
    "start_time": "2022-03-15T01:28:21.669Z"
   },
   {
    "duration": 6,
    "start_time": "2022-03-15T01:28:21.800Z"
   },
   {
    "duration": 375,
    "start_time": "2022-03-15T01:28:21.807Z"
   },
   {
    "duration": 280,
    "start_time": "2022-03-15T01:28:22.183Z"
   },
   {
    "duration": 25,
    "start_time": "2022-03-15T01:28:22.465Z"
   },
   {
    "duration": 28,
    "start_time": "2022-03-15T01:28:22.491Z"
   },
   {
    "duration": 4,
    "start_time": "2022-03-15T01:28:22.538Z"
   },
   {
    "duration": 215,
    "start_time": "2022-03-15T01:28:22.544Z"
   },
   {
    "duration": -44,
    "start_time": "2022-03-15T01:28:22.806Z"
   },
   {
    "duration": -46,
    "start_time": "2022-03-15T01:28:22.809Z"
   },
   {
    "duration": -46,
    "start_time": "2022-03-15T01:28:22.811Z"
   },
   {
    "duration": -46,
    "start_time": "2022-03-15T01:28:22.812Z"
   },
   {
    "duration": -46,
    "start_time": "2022-03-15T01:28:22.814Z"
   },
   {
    "duration": -46,
    "start_time": "2022-03-15T01:28:22.815Z"
   },
   {
    "duration": -45,
    "start_time": "2022-03-15T01:28:22.816Z"
   },
   {
    "duration": -146,
    "start_time": "2022-03-15T01:28:22.918Z"
   },
   {
    "duration": -149,
    "start_time": "2022-03-15T01:28:22.923Z"
   },
   {
    "duration": -150,
    "start_time": "2022-03-15T01:28:22.925Z"
   },
   {
    "duration": -151,
    "start_time": "2022-03-15T01:28:22.928Z"
   },
   {
    "duration": -151,
    "start_time": "2022-03-15T01:28:22.929Z"
   },
   {
    "duration": 20,
    "start_time": "2022-03-15T01:28:37.147Z"
   },
   {
    "duration": 3,
    "start_time": "2022-03-15T01:31:01.621Z"
   },
   {
    "duration": 47,
    "start_time": "2022-03-15T01:31:01.626Z"
   },
   {
    "duration": 22,
    "start_time": "2022-03-15T01:31:01.675Z"
   },
   {
    "duration": 13,
    "start_time": "2022-03-15T01:31:01.699Z"
   },
   {
    "duration": 49,
    "start_time": "2022-03-15T01:31:01.714Z"
   },
   {
    "duration": 13,
    "start_time": "2022-03-15T01:31:01.765Z"
   },
   {
    "duration": 64,
    "start_time": "2022-03-15T01:31:01.779Z"
   },
   {
    "duration": 61,
    "start_time": "2022-03-15T01:31:01.845Z"
   },
   {
    "duration": 42,
    "start_time": "2022-03-15T01:31:01.908Z"
   },
   {
    "duration": 20,
    "start_time": "2022-03-15T01:31:01.952Z"
   },
   {
    "duration": 28,
    "start_time": "2022-03-15T01:31:01.973Z"
   },
   {
    "duration": 25,
    "start_time": "2022-03-15T01:31:02.003Z"
   },
   {
    "duration": 44,
    "start_time": "2022-03-15T01:31:02.029Z"
   },
   {
    "duration": 78,
    "start_time": "2022-03-15T01:31:02.074Z"
   },
   {
    "duration": 406,
    "start_time": "2022-03-15T01:31:02.154Z"
   },
   {
    "duration": 275,
    "start_time": "2022-03-15T01:31:02.562Z"
   },
   {
    "duration": 31,
    "start_time": "2022-03-15T01:31:02.839Z"
   },
   {
    "duration": 27,
    "start_time": "2022-03-15T01:31:02.872Z"
   },
   {
    "duration": 305,
    "start_time": "2022-03-15T01:31:02.900Z"
   },
   {
    "duration": 286,
    "start_time": "2022-03-15T01:31:03.207Z"
   },
   {
    "duration": 290,
    "start_time": "2022-03-15T01:31:03.495Z"
   },
   {
    "duration": 389,
    "start_time": "2022-03-15T01:31:03.786Z"
   },
   {
    "duration": 14,
    "start_time": "2022-03-15T01:31:04.176Z"
   },
   {
    "duration": 6,
    "start_time": "2022-03-15T01:31:04.191Z"
   },
   {
    "duration": 24,
    "start_time": "2022-03-15T01:31:04.199Z"
   },
   {
    "duration": 121,
    "start_time": "2022-03-15T01:31:04.237Z"
   },
   {
    "duration": 19,
    "start_time": "2022-03-15T01:31:04.362Z"
   },
   {
    "duration": 7,
    "start_time": "2022-03-15T01:31:04.383Z"
   },
   {
    "duration": 392,
    "start_time": "2022-03-15T01:31:04.391Z"
   },
   {
    "duration": 286,
    "start_time": "2022-03-15T01:31:04.785Z"
   },
   {
    "duration": 25,
    "start_time": "2022-03-15T01:31:05.073Z"
   },
   {
    "duration": 46,
    "start_time": "2022-03-15T01:31:05.100Z"
   },
   {
    "duration": 4,
    "start_time": "2022-03-15T01:31:05.147Z"
   },
   {
    "duration": 206,
    "start_time": "2022-03-15T01:31:05.152Z"
   },
   {
    "duration": -74,
    "start_time": "2022-03-15T01:31:05.434Z"
   },
   {
    "duration": -74,
    "start_time": "2022-03-15T01:31:05.435Z"
   },
   {
    "duration": -74,
    "start_time": "2022-03-15T01:31:05.436Z"
   },
   {
    "duration": -75,
    "start_time": "2022-03-15T01:31:05.438Z"
   },
   {
    "duration": -75,
    "start_time": "2022-03-15T01:31:05.439Z"
   },
   {
    "duration": -75,
    "start_time": "2022-03-15T01:31:05.440Z"
   },
   {
    "duration": -75,
    "start_time": "2022-03-15T01:31:05.441Z"
   },
   {
    "duration": -76,
    "start_time": "2022-03-15T01:31:05.443Z"
   },
   {
    "duration": -76,
    "start_time": "2022-03-15T01:31:05.444Z"
   },
   {
    "duration": -76,
    "start_time": "2022-03-15T01:31:05.445Z"
   },
   {
    "duration": -76,
    "start_time": "2022-03-15T01:31:05.446Z"
   },
   {
    "duration": -76,
    "start_time": "2022-03-15T01:31:05.447Z"
   },
   {
    "duration": 16,
    "start_time": "2022-03-15T01:31:23.272Z"
   },
   {
    "duration": 275,
    "start_time": "2022-03-15T01:31:32.961Z"
   },
   {
    "duration": 799,
    "start_time": "2022-03-15T01:31:40.740Z"
   },
   {
    "duration": 13,
    "start_time": "2022-03-15T01:31:48.489Z"
   },
   {
    "duration": 25,
    "start_time": "2022-03-15T01:32:11.460Z"
   },
   {
    "duration": 26,
    "start_time": "2022-03-15T01:32:24.112Z"
   },
   {
    "duration": 25,
    "start_time": "2022-03-15T01:32:33.232Z"
   },
   {
    "duration": 25,
    "start_time": "2022-03-15T01:32:37.920Z"
   },
   {
    "duration": 25,
    "start_time": "2022-03-15T01:32:50.554Z"
   },
   {
    "duration": 14,
    "start_time": "2022-03-15T01:32:59.355Z"
   },
   {
    "duration": 3,
    "start_time": "2022-03-15T01:33:08.089Z"
   },
   {
    "duration": 38,
    "start_time": "2022-03-15T01:33:08.094Z"
   },
   {
    "duration": 20,
    "start_time": "2022-03-15T01:33:08.134Z"
   },
   {
    "duration": 12,
    "start_time": "2022-03-15T01:33:08.156Z"
   },
   {
    "duration": 31,
    "start_time": "2022-03-15T01:33:08.170Z"
   },
   {
    "duration": 13,
    "start_time": "2022-03-15T01:33:08.202Z"
   },
   {
    "duration": 17,
    "start_time": "2022-03-15T01:33:08.238Z"
   },
   {
    "duration": 5,
    "start_time": "2022-03-15T01:33:08.256Z"
   },
   {
    "duration": 11,
    "start_time": "2022-03-15T01:33:08.263Z"
   },
   {
    "duration": 7,
    "start_time": "2022-03-15T01:33:08.276Z"
   },
   {
    "duration": 17,
    "start_time": "2022-03-15T01:33:08.285Z"
   },
   {
    "duration": 41,
    "start_time": "2022-03-15T01:33:08.304Z"
   },
   {
    "duration": 13,
    "start_time": "2022-03-15T01:33:12.845Z"
   },
   {
    "duration": 14,
    "start_time": "2022-03-15T01:33:27.223Z"
   },
   {
    "duration": 192,
    "start_time": "2022-03-15T01:33:35.553Z"
   },
   {
    "duration": 15,
    "start_time": "2022-03-15T01:33:40.463Z"
   },
   {
    "duration": 5,
    "start_time": "2022-03-15T01:36:14.859Z"
   },
   {
    "duration": 184,
    "start_time": "2022-03-15T01:36:17.330Z"
   },
   {
    "duration": 181,
    "start_time": "2022-03-15T01:36:37.337Z"
   },
   {
    "duration": 188,
    "start_time": "2022-03-15T01:37:29.825Z"
   },
   {
    "duration": 179,
    "start_time": "2022-03-15T01:38:48.405Z"
   },
   {
    "duration": 181,
    "start_time": "2022-03-15T01:39:50.515Z"
   },
   {
    "duration": 14,
    "start_time": "2022-03-15T01:39:57.752Z"
   },
   {
    "duration": 12,
    "start_time": "2022-03-15T01:40:19.128Z"
   },
   {
    "duration": 11,
    "start_time": "2022-03-15T01:40:40.144Z"
   },
   {
    "duration": 6,
    "start_time": "2022-03-15T01:41:33.303Z"
   },
   {
    "duration": 12,
    "start_time": "2022-03-15T01:41:55.339Z"
   },
   {
    "duration": 32,
    "start_time": "2022-03-15T01:42:09.046Z"
   },
   {
    "duration": 18,
    "start_time": "2022-03-15T01:42:09.080Z"
   },
   {
    "duration": 162,
    "start_time": "2022-03-15T01:42:09.100Z"
   },
   {
    "duration": 18,
    "start_time": "2022-03-15T01:42:09.264Z"
   },
   {
    "duration": 4,
    "start_time": "2022-03-15T01:42:09.284Z"
   },
   {
    "duration": 10,
    "start_time": "2022-03-15T01:42:09.289Z"
   },
   {
    "duration": 7,
    "start_time": "2022-03-15T01:42:09.300Z"
   },
   {
    "duration": 4,
    "start_time": "2022-03-15T01:42:09.308Z"
   },
   {
    "duration": 24,
    "start_time": "2022-03-15T01:42:09.314Z"
   },
   {
    "duration": 5,
    "start_time": "2022-03-15T01:42:09.340Z"
   },
   {
    "duration": 5,
    "start_time": "2022-03-15T01:42:09.346Z"
   },
   {
    "duration": 5,
    "start_time": "2022-03-15T01:42:09.353Z"
   },
   {
    "duration": 4351,
    "start_time": "2022-03-15T01:43:56.541Z"
   },
   {
    "duration": 65,
    "start_time": "2022-03-15T01:45:03.936Z"
   },
   {
    "duration": 60,
    "start_time": "2022-03-15T01:46:05.944Z"
   },
   {
    "duration": 6,
    "start_time": "2022-03-15T01:46:27.099Z"
   },
   {
    "duration": 180,
    "start_time": "2022-03-15T01:46:46.883Z"
   },
   {
    "duration": 7,
    "start_time": "2022-03-15T01:46:52.003Z"
   },
   {
    "duration": 12,
    "start_time": "2022-03-15T01:47:02.174Z"
   },
   {
    "duration": 20,
    "start_time": "2022-03-15T01:47:09.067Z"
   },
   {
    "duration": 113,
    "start_time": "2022-03-15T01:47:40.826Z"
   },
   {
    "duration": 26,
    "start_time": "2022-03-15T01:48:42.956Z"
   },
   {
    "duration": 34,
    "start_time": "2022-03-15T01:48:54.455Z"
   },
   {
    "duration": 20,
    "start_time": "2022-03-15T01:49:10.205Z"
   },
   {
    "duration": 20,
    "start_time": "2022-03-15T01:49:25.251Z"
   },
   {
    "duration": 36,
    "start_time": "2022-03-15T01:51:57.227Z"
   },
   {
    "duration": 166,
    "start_time": "2022-03-15T01:54:11.602Z"
   },
   {
    "duration": 152,
    "start_time": "2022-03-15T01:54:20.769Z"
   },
   {
    "duration": 153,
    "start_time": "2022-03-15T01:54:27.719Z"
   },
   {
    "duration": 3,
    "start_time": "2022-03-15T01:54:32.721Z"
   },
   {
    "duration": 60,
    "start_time": "2022-03-15T01:54:32.726Z"
   },
   {
    "duration": 22,
    "start_time": "2022-03-15T01:54:32.788Z"
   },
   {
    "duration": 12,
    "start_time": "2022-03-15T01:54:32.812Z"
   },
   {
    "duration": 38,
    "start_time": "2022-03-15T01:54:32.825Z"
   },
   {
    "duration": 13,
    "start_time": "2022-03-15T01:54:32.864Z"
   },
   {
    "duration": 19,
    "start_time": "2022-03-15T01:54:32.879Z"
   },
   {
    "duration": 6,
    "start_time": "2022-03-15T01:54:32.900Z"
   },
   {
    "duration": 31,
    "start_time": "2022-03-15T01:54:32.909Z"
   },
   {
    "duration": 7,
    "start_time": "2022-03-15T01:54:32.943Z"
   },
   {
    "duration": 14,
    "start_time": "2022-03-15T01:54:32.952Z"
   },
   {
    "duration": 15,
    "start_time": "2022-03-15T01:54:32.968Z"
   },
   {
    "duration": 10,
    "start_time": "2022-03-15T01:54:32.985Z"
   },
   {
    "duration": 66,
    "start_time": "2022-03-15T01:54:32.996Z"
   },
   {
    "duration": 353,
    "start_time": "2022-03-15T01:54:33.064Z"
   },
   {
    "duration": 266,
    "start_time": "2022-03-15T01:54:33.419Z"
   },
   {
    "duration": 28,
    "start_time": "2022-03-15T01:54:33.686Z"
   },
   {
    "duration": 39,
    "start_time": "2022-03-15T01:54:33.716Z"
   },
   {
    "duration": 275,
    "start_time": "2022-03-15T01:54:33.757Z"
   },
   {
    "duration": 272,
    "start_time": "2022-03-15T01:54:34.034Z"
   },
   {
    "duration": 381,
    "start_time": "2022-03-15T01:54:34.308Z"
   },
   {
    "duration": 265,
    "start_time": "2022-03-15T01:54:34.690Z"
   },
   {
    "duration": 14,
    "start_time": "2022-03-15T01:54:34.957Z"
   },
   {
    "duration": 6,
    "start_time": "2022-03-15T01:54:34.972Z"
   },
   {
    "duration": 27,
    "start_time": "2022-03-15T01:54:34.979Z"
   },
   {
    "duration": 165,
    "start_time": "2022-03-15T01:54:35.007Z"
   },
   {
    "duration": 20,
    "start_time": "2022-03-15T01:54:35.176Z"
   },
   {
    "duration": 7,
    "start_time": "2022-03-15T01:54:35.199Z"
   },
   {
    "duration": 386,
    "start_time": "2022-03-15T01:54:35.208Z"
   },
   {
    "duration": 277,
    "start_time": "2022-03-15T01:54:35.596Z"
   },
   {
    "duration": 26,
    "start_time": "2022-03-15T01:54:35.875Z"
   },
   {
    "duration": 45,
    "start_time": "2022-03-15T01:54:35.902Z"
   },
   {
    "duration": 4,
    "start_time": "2022-03-15T01:54:35.948Z"
   },
   {
    "duration": 24,
    "start_time": "2022-03-15T01:54:35.954Z"
   },
   {
    "duration": 32,
    "start_time": "2022-03-15T01:54:35.980Z"
   },
   {
    "duration": 33,
    "start_time": "2022-03-15T01:54:36.014Z"
   },
   {
    "duration": 159,
    "start_time": "2022-03-15T01:54:36.048Z"
   },
   {
    "duration": 18,
    "start_time": "2022-03-15T01:54:36.209Z"
   },
   {
    "duration": 4,
    "start_time": "2022-03-15T01:54:36.238Z"
   },
   {
    "duration": 13,
    "start_time": "2022-03-15T01:54:36.244Z"
   },
   {
    "duration": 26,
    "start_time": "2022-03-15T01:54:36.258Z"
   },
   {
    "duration": 10,
    "start_time": "2022-03-15T01:54:36.285Z"
   },
   {
    "duration": 12,
    "start_time": "2022-03-15T01:54:36.296Z"
   },
   {
    "duration": 20,
    "start_time": "2022-03-15T01:54:36.310Z"
   },
   {
    "duration": 11,
    "start_time": "2022-03-15T01:54:36.331Z"
   },
   {
    "duration": 11,
    "start_time": "2022-03-15T01:54:36.344Z"
   },
   {
    "duration": 57,
    "start_time": "2022-03-15T01:57:02.583Z"
   },
   {
    "duration": 55,
    "start_time": "2022-03-15T01:57:18.219Z"
   },
   {
    "duration": 54,
    "start_time": "2022-03-15T01:57:28.826Z"
   },
   {
    "duration": 51,
    "start_time": "2022-03-15T01:57:33.187Z"
   },
   {
    "duration": 55,
    "start_time": "2022-03-15T01:57:39.017Z"
   },
   {
    "duration": 54,
    "start_time": "2022-03-15T01:57:55.597Z"
   },
   {
    "duration": 54,
    "start_time": "2022-03-15T01:58:02.834Z"
   },
   {
    "duration": 54,
    "start_time": "2022-03-15T01:58:15.368Z"
   },
   {
    "duration": 150,
    "start_time": "2022-03-15T01:58:44.856Z"
   },
   {
    "duration": 10,
    "start_time": "2022-03-15T02:01:42.000Z"
   },
   {
    "duration": 10,
    "start_time": "2022-03-15T02:02:22.529Z"
   },
   {
    "duration": 21,
    "start_time": "2022-03-15T02:02:31.427Z"
   },
   {
    "duration": 144,
    "start_time": "2022-03-15T02:02:50.499Z"
   },
   {
    "duration": 149,
    "start_time": "2022-03-15T02:02:56.750Z"
   },
   {
    "duration": 55,
    "start_time": "2022-03-15T02:03:05.189Z"
   },
   {
    "duration": 151,
    "start_time": "2022-03-15T02:04:32.656Z"
   },
   {
    "duration": 19,
    "start_time": "2022-03-15T02:05:17.201Z"
   },
   {
    "duration": 154,
    "start_time": "2022-03-15T02:05:24.290Z"
   },
   {
    "duration": 75,
    "start_time": "2022-03-15T02:05:50.973Z"
   },
   {
    "duration": 153,
    "start_time": "2022-03-15T02:05:56.103Z"
   },
   {
    "duration": 157,
    "start_time": "2022-03-15T02:06:04.601Z"
   },
   {
    "duration": 19,
    "start_time": "2022-03-15T02:06:09.976Z"
   },
   {
    "duration": 3,
    "start_time": "2022-03-15T02:06:25.377Z"
   },
   {
    "duration": 56,
    "start_time": "2022-03-15T02:06:25.382Z"
   },
   {
    "duration": 20,
    "start_time": "2022-03-15T02:06:25.440Z"
   },
   {
    "duration": 12,
    "start_time": "2022-03-15T02:06:25.462Z"
   },
   {
    "duration": 30,
    "start_time": "2022-03-15T02:06:25.475Z"
   },
   {
    "duration": 33,
    "start_time": "2022-03-15T02:06:25.506Z"
   },
   {
    "duration": 19,
    "start_time": "2022-03-15T02:06:25.541Z"
   },
   {
    "duration": 4,
    "start_time": "2022-03-15T02:06:25.562Z"
   },
   {
    "duration": 6,
    "start_time": "2022-03-15T02:06:25.569Z"
   },
   {
    "duration": 7,
    "start_time": "2022-03-15T02:06:25.577Z"
   },
   {
    "duration": 14,
    "start_time": "2022-03-15T02:06:25.586Z"
   },
   {
    "duration": 44,
    "start_time": "2022-03-15T02:06:25.602Z"
   },
   {
    "duration": 10,
    "start_time": "2022-03-15T02:06:25.648Z"
   },
   {
    "duration": 19,
    "start_time": "2022-03-15T02:06:25.659Z"
   },
   {
    "duration": 406,
    "start_time": "2022-03-15T02:06:25.680Z"
   },
   {
    "duration": 347,
    "start_time": "2022-03-15T02:06:26.087Z"
   },
   {
    "duration": 28,
    "start_time": "2022-03-15T02:06:26.437Z"
   },
   {
    "duration": 24,
    "start_time": "2022-03-15T02:06:26.466Z"
   },
   {
    "duration": 285,
    "start_time": "2022-03-15T02:06:26.491Z"
   },
   {
    "duration": 272,
    "start_time": "2022-03-15T02:06:26.778Z"
   },
   {
    "duration": 278,
    "start_time": "2022-03-15T02:06:27.052Z"
   },
   {
    "duration": 271,
    "start_time": "2022-03-15T02:06:27.332Z"
   },
   {
    "duration": 13,
    "start_time": "2022-03-15T02:06:27.605Z"
   },
   {
    "duration": 2,
    "start_time": "2022-03-15T02:06:27.620Z"
   },
   {
    "duration": 19,
    "start_time": "2022-03-15T02:06:27.637Z"
   },
   {
    "duration": 166,
    "start_time": "2022-03-15T02:06:27.658Z"
   },
   {
    "duration": 14,
    "start_time": "2022-03-15T02:06:27.827Z"
   },
   {
    "duration": 358,
    "start_time": "2022-03-15T02:06:27.843Z"
   },
   {
    "duration": 283,
    "start_time": "2022-03-15T02:06:28.203Z"
   },
   {
    "duration": 25,
    "start_time": "2022-03-15T02:06:28.488Z"
   },
   {
    "duration": 43,
    "start_time": "2022-03-15T02:06:28.514Z"
   },
   {
    "duration": 3,
    "start_time": "2022-03-15T02:06:28.559Z"
   },
   {
    "duration": 16,
    "start_time": "2022-03-15T02:06:28.564Z"
   },
   {
    "duration": 30,
    "start_time": "2022-03-15T02:06:28.581Z"
   },
   {
    "duration": 142,
    "start_time": "2022-03-15T02:06:28.613Z"
   },
   {
    "duration": 156,
    "start_time": "2022-03-15T02:06:28.757Z"
   },
   {
    "duration": 23,
    "start_time": "2022-03-15T02:06:28.915Z"
   },
   {
    "duration": 5,
    "start_time": "2022-03-15T02:06:28.940Z"
   },
   {
    "duration": 7,
    "start_time": "2022-03-15T02:06:28.946Z"
   },
   {
    "duration": 9,
    "start_time": "2022-03-15T02:06:28.954Z"
   },
   {
    "duration": 4,
    "start_time": "2022-03-15T02:06:28.964Z"
   },
   {
    "duration": 5,
    "start_time": "2022-03-15T02:06:28.970Z"
   },
   {
    "duration": 5,
    "start_time": "2022-03-15T02:06:28.977Z"
   },
   {
    "duration": 9,
    "start_time": "2022-03-15T02:06:28.983Z"
   },
   {
    "duration": 15,
    "start_time": "2022-03-15T02:06:28.994Z"
   },
   {
    "duration": 4,
    "start_time": "2022-03-15T02:08:57.985Z"
   },
   {
    "duration": 15,
    "start_time": "2022-03-15T02:09:23.387Z"
   },
   {
    "duration": 182,
    "start_time": "2022-03-15T02:10:28.916Z"
   },
   {
    "duration": 17,
    "start_time": "2022-03-15T02:10:38.872Z"
   },
   {
    "duration": 171,
    "start_time": "2022-03-15T02:11:02.907Z"
   },
   {
    "duration": 53,
    "start_time": "2022-03-15T02:11:12.458Z"
   },
   {
    "duration": 54,
    "start_time": "2022-03-15T02:11:17.224Z"
   },
   {
    "duration": 16,
    "start_time": "2022-03-15T02:11:24.953Z"
   },
   {
    "duration": 175,
    "start_time": "2022-03-15T02:11:35.202Z"
   },
   {
    "duration": 191,
    "start_time": "2022-03-15T02:11:54.401Z"
   },
   {
    "duration": 185,
    "start_time": "2022-03-15T02:12:55.870Z"
   },
   {
    "duration": 179,
    "start_time": "2022-03-15T02:13:06.238Z"
   },
   {
    "duration": 16,
    "start_time": "2022-03-15T02:14:58.057Z"
   },
   {
    "duration": 178,
    "start_time": "2022-03-15T02:16:41.458Z"
   },
   {
    "duration": 10,
    "start_time": "2022-03-15T02:17:06.614Z"
   },
   {
    "duration": 15,
    "start_time": "2022-03-15T02:17:14.668Z"
   },
   {
    "duration": 56,
    "start_time": "2022-03-15T02:18:19.575Z"
   },
   {
    "duration": 177,
    "start_time": "2022-03-15T02:18:29.198Z"
   },
   {
    "duration": 16,
    "start_time": "2022-03-15T02:18:37.906Z"
   },
   {
    "duration": 171,
    "start_time": "2022-03-15T02:18:51.071Z"
   },
   {
    "duration": 18,
    "start_time": "2022-03-15T02:19:00.700Z"
   },
   {
    "duration": 16,
    "start_time": "2022-03-15T02:19:19.192Z"
   },
   {
    "duration": 18,
    "start_time": "2022-03-15T02:19:31.267Z"
   },
   {
    "duration": 171,
    "start_time": "2022-03-15T02:20:53.625Z"
   },
   {
    "duration": 179,
    "start_time": "2022-03-15T02:21:02.123Z"
   },
   {
    "duration": 176,
    "start_time": "2022-03-15T02:21:10.040Z"
   },
   {
    "duration": 11,
    "start_time": "2022-03-15T02:21:19.492Z"
   },
   {
    "duration": 15,
    "start_time": "2022-03-15T02:21:23.637Z"
   },
   {
    "duration": 212,
    "start_time": "2022-03-15T02:21:44.019Z"
   },
   {
    "duration": 15,
    "start_time": "2022-03-15T02:22:06.301Z"
   },
   {
    "duration": 56,
    "start_time": "2022-03-15T02:27:53.697Z"
   },
   {
    "duration": 21,
    "start_time": "2022-03-15T02:27:58.866Z"
   },
   {
    "duration": 198,
    "start_time": "2022-03-15T02:31:35.707Z"
   },
   {
    "duration": 7,
    "start_time": "2022-03-15T02:31:52.502Z"
   },
   {
    "duration": 20,
    "start_time": "2022-03-15T02:32:02.566Z"
   },
   {
    "duration": 228,
    "start_time": "2022-03-15T02:32:20.555Z"
   },
   {
    "duration": 224,
    "start_time": "2022-03-15T02:33:02.235Z"
   },
   {
    "duration": 234,
    "start_time": "2022-03-15T02:33:15.882Z"
   },
   {
    "duration": 475,
    "start_time": "2022-03-15T02:34:06.010Z"
   },
   {
    "duration": 56,
    "start_time": "2022-03-15T02:34:57.398Z"
   },
   {
    "duration": 676,
    "start_time": "2022-03-15T02:35:07.033Z"
   },
   {
    "duration": 12,
    "start_time": "2022-03-15T02:39:42.849Z"
   },
   {
    "duration": 18,
    "start_time": "2022-03-15T02:39:57.618Z"
   },
   {
    "duration": 23,
    "start_time": "2022-03-15T02:42:03.021Z"
   },
   {
    "duration": 56,
    "start_time": "2022-03-15T02:43:20.506Z"
   },
   {
    "duration": 21,
    "start_time": "2022-03-15T02:44:47.787Z"
   },
   {
    "duration": 64,
    "start_time": "2022-03-15T02:44:53.792Z"
   },
   {
    "duration": 13,
    "start_time": "2022-03-15T02:45:09.143Z"
   },
   {
    "duration": 245,
    "start_time": "2022-03-15T02:45:22.061Z"
   },
   {
    "duration": 18,
    "start_time": "2022-03-15T02:45:36.029Z"
   },
   {
    "duration": 21,
    "start_time": "2022-03-15T02:45:50.923Z"
   },
   {
    "duration": 18,
    "start_time": "2022-03-15T02:46:04.024Z"
   },
   {
    "duration": 23,
    "start_time": "2022-03-15T02:46:24.700Z"
   },
   {
    "duration": 23,
    "start_time": "2022-03-15T02:47:28.829Z"
   },
   {
    "duration": 22,
    "start_time": "2022-03-15T02:47:35.268Z"
   },
   {
    "duration": 13,
    "start_time": "2022-03-15T02:49:07.056Z"
   },
   {
    "duration": 12,
    "start_time": "2022-03-15T02:49:12.507Z"
   },
   {
    "duration": 3379,
    "start_time": "2022-03-15T02:49:29.187Z"
   },
   {
    "duration": 13,
    "start_time": "2022-03-15T02:49:40.234Z"
   },
   {
    "duration": 17,
    "start_time": "2022-03-15T02:52:15.718Z"
   },
   {
    "duration": 215,
    "start_time": "2022-03-15T02:52:44.742Z"
   },
   {
    "duration": 348,
    "start_time": "2022-03-15T02:52:53.151Z"
   },
   {
    "duration": 345,
    "start_time": "2022-03-15T02:53:14.142Z"
   },
   {
    "duration": 227,
    "start_time": "2022-03-15T02:55:31.320Z"
   },
   {
    "duration": 26,
    "start_time": "2022-03-15T02:55:41.039Z"
   },
   {
    "duration": 9,
    "start_time": "2022-03-15T02:55:52.872Z"
   },
   {
    "duration": 16,
    "start_time": "2022-03-15T02:58:57.156Z"
   },
   {
    "duration": 176,
    "start_time": "2022-03-15T03:01:35.421Z"
   },
   {
    "duration": 16,
    "start_time": "2022-03-15T03:02:17.001Z"
   },
   {
    "duration": 143,
    "start_time": "2022-03-15T03:02:41.769Z"
   },
   {
    "duration": 154,
    "start_time": "2022-03-15T03:02:49.252Z"
   },
   {
    "duration": 208,
    "start_time": "2022-03-15T03:06:43.346Z"
   },
   {
    "duration": 1643,
    "start_time": "2022-03-15T03:07:46.421Z"
   },
   {
    "duration": 659,
    "start_time": "2022-03-15T03:08:15.772Z"
   },
   {
    "duration": 296,
    "start_time": "2022-03-15T03:10:32.929Z"
   },
   {
    "duration": 397,
    "start_time": "2022-03-15T03:14:27.713Z"
   },
   {
    "duration": 188,
    "start_time": "2022-03-15T03:15:28.598Z"
   },
   {
    "duration": 14,
    "start_time": "2022-03-15T03:16:06.122Z"
   },
   {
    "duration": 13,
    "start_time": "2022-03-15T03:16:16.035Z"
   },
   {
    "duration": 27,
    "start_time": "2022-03-15T03:16:27.014Z"
   },
   {
    "duration": 22,
    "start_time": "2022-03-15T03:16:37.494Z"
   },
   {
    "duration": 14,
    "start_time": "2022-03-15T03:17:37.890Z"
   },
   {
    "duration": 176,
    "start_time": "2022-03-15T03:18:05.834Z"
   },
   {
    "duration": 13,
    "start_time": "2022-03-15T03:18:14.107Z"
   },
   {
    "duration": 50,
    "start_time": "2022-03-18T14:57:11.173Z"
   },
   {
    "duration": 1253,
    "start_time": "2022-03-18T14:57:15.358Z"
   },
   {
    "duration": 44,
    "start_time": "2022-03-18T14:57:16.613Z"
   },
   {
    "duration": 31,
    "start_time": "2022-03-18T14:57:16.659Z"
   },
   {
    "duration": 25,
    "start_time": "2022-03-18T14:57:16.692Z"
   },
   {
    "duration": 31,
    "start_time": "2022-03-18T14:57:16.719Z"
   },
   {
    "duration": 15,
    "start_time": "2022-03-18T14:57:16.751Z"
   },
   {
    "duration": 43,
    "start_time": "2022-03-18T14:57:16.767Z"
   },
   {
    "duration": 5,
    "start_time": "2022-03-18T14:57:16.812Z"
   },
   {
    "duration": 8,
    "start_time": "2022-03-18T14:57:16.819Z"
   },
   {
    "duration": 6,
    "start_time": "2022-03-18T14:57:16.829Z"
   },
   {
    "duration": 19,
    "start_time": "2022-03-18T14:57:16.837Z"
   },
   {
    "duration": 51,
    "start_time": "2022-03-18T14:57:16.858Z"
   },
   {
    "duration": 17,
    "start_time": "2022-03-18T14:57:16.911Z"
   },
   {
    "duration": 22,
    "start_time": "2022-03-18T14:57:16.932Z"
   },
   {
    "duration": 355,
    "start_time": "2022-03-18T14:57:16.956Z"
   },
   {
    "duration": 210,
    "start_time": "2022-03-18T14:57:17.313Z"
   },
   {
    "duration": 28,
    "start_time": "2022-03-18T14:57:17.525Z"
   },
   {
    "duration": 23,
    "start_time": "2022-03-18T14:57:17.555Z"
   },
   {
    "duration": 239,
    "start_time": "2022-03-18T14:57:17.580Z"
   },
   {
    "duration": 210,
    "start_time": "2022-03-18T14:57:17.820Z"
   },
   {
    "duration": 220,
    "start_time": "2022-03-18T14:57:18.032Z"
   },
   {
    "duration": 296,
    "start_time": "2022-03-18T14:57:18.254Z"
   },
   {
    "duration": 18,
    "start_time": "2022-03-18T14:57:18.551Z"
   },
   {
    "duration": 2,
    "start_time": "2022-03-18T14:57:18.571Z"
   },
   {
    "duration": 39,
    "start_time": "2022-03-18T14:57:18.574Z"
   },
   {
    "duration": 137,
    "start_time": "2022-03-18T14:57:18.615Z"
   },
   {
    "duration": 6,
    "start_time": "2022-03-18T14:57:18.754Z"
   },
   {
    "duration": 330,
    "start_time": "2022-03-18T14:57:18.762Z"
   },
   {
    "duration": 222,
    "start_time": "2022-03-18T14:57:19.094Z"
   },
   {
    "duration": 25,
    "start_time": "2022-03-18T14:57:19.318Z"
   },
   {
    "duration": 26,
    "start_time": "2022-03-18T14:57:19.345Z"
   },
   {
    "duration": 3,
    "start_time": "2022-03-18T14:57:19.373Z"
   },
   {
    "duration": 45,
    "start_time": "2022-03-18T14:57:19.378Z"
   },
   {
    "duration": 31,
    "start_time": "2022-03-18T14:57:19.425Z"
   },
   {
    "duration": 21,
    "start_time": "2022-03-18T14:57:19.458Z"
   },
   {
    "duration": 154,
    "start_time": "2022-03-18T14:57:19.481Z"
   },
   {
    "duration": 6,
    "start_time": "2022-03-18T14:57:19.637Z"
   },
   {
    "duration": 13,
    "start_time": "2022-03-18T14:57:19.645Z"
   },
   {
    "duration": 18,
    "start_time": "2022-03-18T14:57:19.660Z"
   },
   {
    "duration": 30,
    "start_time": "2022-03-18T14:57:19.679Z"
   },
   {
    "duration": 18,
    "start_time": "2022-03-18T14:57:19.713Z"
   },
   {
    "duration": 21,
    "start_time": "2022-03-18T14:57:19.733Z"
   },
   {
    "duration": 601,
    "start_time": "2022-03-18T14:57:19.755Z"
   },
   {
    "duration": 337,
    "start_time": "2022-03-18T14:57:20.357Z"
   },
   {
    "duration": 12,
    "start_time": "2022-03-18T14:57:20.696Z"
   },
   {
    "duration": 15,
    "start_time": "2022-03-18T14:57:20.710Z"
   },
   {
    "duration": 328,
    "start_time": "2022-03-18T14:57:20.726Z"
   },
   {
    "duration": 21,
    "start_time": "2022-03-18T14:57:21.056Z"
   },
   {
    "duration": 13,
    "start_time": "2022-03-18T14:57:21.079Z"
   },
   {
    "duration": 6,
    "start_time": "2022-03-18T14:57:21.109Z"
   },
   {
    "duration": 8,
    "start_time": "2022-03-18T14:57:57.037Z"
   },
   {
    "duration": 8,
    "start_time": "2022-03-18T14:58:16.349Z"
   },
   {
    "duration": 60,
    "start_time": "2022-03-18T14:58:58.474Z"
   },
   {
    "duration": 9,
    "start_time": "2022-03-18T14:59:48.488Z"
   },
   {
    "duration": 10,
    "start_time": "2022-03-18T14:59:53.961Z"
   },
   {
    "duration": 8,
    "start_time": "2022-03-18T15:00:15.915Z"
   },
   {
    "duration": 7,
    "start_time": "2022-03-18T15:00:34.803Z"
   },
   {
    "duration": 245,
    "start_time": "2022-03-18T15:02:11.921Z"
   },
   {
    "duration": 252,
    "start_time": "2022-03-18T15:02:28.812Z"
   },
   {
    "duration": 256,
    "start_time": "2022-03-18T15:02:39.939Z"
   },
   {
    "duration": 9,
    "start_time": "2022-03-18T15:03:03.842Z"
   },
   {
    "duration": 9,
    "start_time": "2022-03-18T15:03:12.601Z"
   },
   {
    "duration": 356,
    "start_time": "2022-03-18T15:03:16.653Z"
   },
   {
    "duration": 334,
    "start_time": "2022-03-18T15:03:34.353Z"
   },
   {
    "duration": 407,
    "start_time": "2022-03-18T15:03:43.109Z"
   },
   {
    "duration": 347,
    "start_time": "2022-03-18T15:03:58.994Z"
   },
   {
    "duration": 1729,
    "start_time": "2022-03-18T17:03:12.331Z"
   },
   {
    "duration": 57,
    "start_time": "2022-03-18T17:03:14.063Z"
   },
   {
    "duration": 38,
    "start_time": "2022-03-18T17:03:14.123Z"
   },
   {
    "duration": 41,
    "start_time": "2022-03-18T17:03:14.164Z"
   },
   {
    "duration": 49,
    "start_time": "2022-03-18T17:03:14.209Z"
   },
   {
    "duration": 36,
    "start_time": "2022-03-18T17:03:14.261Z"
   },
   {
    "duration": 48,
    "start_time": "2022-03-18T17:03:14.300Z"
   },
   {
    "duration": 8,
    "start_time": "2022-03-18T17:03:14.350Z"
   },
   {
    "duration": 15,
    "start_time": "2022-03-18T17:03:14.360Z"
   },
   {
    "duration": 35,
    "start_time": "2022-03-18T17:03:14.377Z"
   },
   {
    "duration": 39,
    "start_time": "2022-03-18T17:03:14.415Z"
   },
   {
    "duration": 57,
    "start_time": "2022-03-18T17:03:14.456Z"
   },
   {
    "duration": 19,
    "start_time": "2022-03-18T17:03:14.516Z"
   },
   {
    "duration": 31,
    "start_time": "2022-03-18T17:03:14.540Z"
   },
   {
    "duration": 516,
    "start_time": "2022-03-18T17:03:14.581Z"
   },
   {
    "duration": 335,
    "start_time": "2022-03-18T17:03:15.100Z"
   },
   {
    "duration": 59,
    "start_time": "2022-03-18T17:03:15.437Z"
   },
   {
    "duration": 37,
    "start_time": "2022-03-18T17:03:15.499Z"
   },
   {
    "duration": 348,
    "start_time": "2022-03-18T17:03:15.538Z"
   },
   {
    "duration": 313,
    "start_time": "2022-03-18T17:03:15.889Z"
   },
   {
    "duration": 344,
    "start_time": "2022-03-18T17:03:16.204Z"
   },
   {
    "duration": 414,
    "start_time": "2022-03-18T17:03:16.550Z"
   },
   {
    "duration": 42,
    "start_time": "2022-03-18T17:03:16.967Z"
   },
   {
    "duration": 5,
    "start_time": "2022-03-18T17:03:17.011Z"
   },
   {
    "duration": 39,
    "start_time": "2022-03-18T17:03:17.018Z"
   },
   {
    "duration": 231,
    "start_time": "2022-03-18T17:03:17.059Z"
   },
   {
    "duration": 11,
    "start_time": "2022-03-18T17:03:17.292Z"
   },
   {
    "duration": 544,
    "start_time": "2022-03-18T17:03:17.306Z"
   },
   {
    "duration": 371,
    "start_time": "2022-03-18T17:03:17.853Z"
   },
   {
    "duration": 63,
    "start_time": "2022-03-18T17:03:18.226Z"
   },
   {
    "duration": 41,
    "start_time": "2022-03-18T17:03:18.292Z"
   },
   {
    "duration": 6,
    "start_time": "2022-03-18T17:03:18.336Z"
   },
   {
    "duration": 49,
    "start_time": "2022-03-18T17:03:18.344Z"
   },
   {
    "duration": 48,
    "start_time": "2022-03-18T17:03:18.399Z"
   },
   {
    "duration": 57,
    "start_time": "2022-03-18T17:03:18.449Z"
   },
   {
    "duration": 217,
    "start_time": "2022-03-18T17:03:18.509Z"
   },
   {
    "duration": 7,
    "start_time": "2022-03-18T17:03:18.728Z"
   },
   {
    "duration": 9,
    "start_time": "2022-03-18T17:03:18.738Z"
   },
   {
    "duration": 39,
    "start_time": "2022-03-18T17:03:18.750Z"
   },
   {
    "duration": 40,
    "start_time": "2022-03-18T17:03:18.792Z"
   },
   {
    "duration": 26,
    "start_time": "2022-03-18T17:03:18.838Z"
   },
   {
    "duration": 42,
    "start_time": "2022-03-18T17:03:18.866Z"
   },
   {
    "duration": 945,
    "start_time": "2022-03-18T17:03:18.910Z"
   },
   {
    "duration": 526,
    "start_time": "2022-03-18T17:03:19.858Z"
   },
   {
    "duration": 9,
    "start_time": "2022-03-18T17:03:20.388Z"
   },
   {
    "duration": 33,
    "start_time": "2022-03-18T17:03:20.399Z"
   },
   {
    "duration": 466,
    "start_time": "2022-03-18T17:03:20.434Z"
   },
   {
    "duration": 30,
    "start_time": "2022-03-18T17:03:20.902Z"
   },
   {
    "duration": 27,
    "start_time": "2022-03-18T17:03:20.935Z"
   },
   {
    "duration": 14,
    "start_time": "2022-03-18T17:03:20.985Z"
   },
   {
    "duration": 15,
    "start_time": "2022-03-18T17:03:21.002Z"
   },
   {
    "duration": 11,
    "start_time": "2022-03-18T17:03:21.020Z"
   },
   {
    "duration": 593,
    "start_time": "2022-03-18T17:03:21.033Z"
   },
   {
    "duration": 15,
    "start_time": "2022-03-18T17:05:20.576Z"
   },
   {
    "duration": 11,
    "start_time": "2022-03-18T17:05:38.045Z"
   },
   {
    "duration": 22,
    "start_time": "2022-03-18T17:05:55.690Z"
   },
   {
    "duration": 13,
    "start_time": "2022-03-18T17:05:59.868Z"
   },
   {
    "duration": 304,
    "start_time": "2022-03-18T17:06:23.360Z"
   },
   {
    "duration": 323,
    "start_time": "2022-03-18T17:09:53.484Z"
   },
   {
    "duration": 12,
    "start_time": "2022-03-18T17:14:30.653Z"
   },
   {
    "duration": 11,
    "start_time": "2022-03-18T17:15:28.145Z"
   },
   {
    "duration": 11,
    "start_time": "2022-03-18T17:15:30.430Z"
   },
   {
    "duration": 301,
    "start_time": "2022-03-18T17:16:11.035Z"
   },
   {
    "duration": 936,
    "start_time": "2022-03-18T17:29:32.674Z"
   },
   {
    "duration": 1547,
    "start_time": "2022-03-18T17:30:43.488Z"
   },
   {
    "duration": 620,
    "start_time": "2022-03-18T17:37:05.791Z"
   },
   {
    "duration": 172,
    "start_time": "2022-03-18T17:37:49.985Z"
   },
   {
    "duration": 332,
    "start_time": "2022-03-18T17:38:20.269Z"
   },
   {
    "duration": 10,
    "start_time": "2022-03-18T17:43:59.247Z"
   },
   {
    "duration": 21,
    "start_time": "2022-03-18T17:44:01.659Z"
   },
   {
    "duration": 187,
    "start_time": "2022-03-18T17:44:40.314Z"
   },
   {
    "duration": 196,
    "start_time": "2022-03-18T17:45:11.291Z"
   },
   {
    "duration": 653,
    "start_time": "2022-03-18T17:45:28.511Z"
   },
   {
    "duration": 47,
    "start_time": "2022-03-18T17:45:50.934Z"
   },
   {
    "duration": 13,
    "start_time": "2022-03-18T17:46:31.856Z"
   },
   {
    "duration": 661,
    "start_time": "2022-03-18T17:47:02.130Z"
   },
   {
    "duration": 76,
    "start_time": "2022-03-18T17:48:18.095Z"
   },
   {
    "duration": 416,
    "start_time": "2022-03-18T17:49:06.212Z"
   },
   {
    "duration": 55,
    "start_time": "2022-03-18T17:51:35.940Z"
   },
   {
    "duration": 45,
    "start_time": "2022-03-18T17:52:12.603Z"
   },
   {
    "duration": 45,
    "start_time": "2022-03-18T17:52:20.605Z"
   },
   {
    "duration": 126,
    "start_time": "2022-03-18T17:52:31.048Z"
   },
   {
    "duration": 39,
    "start_time": "2022-03-18T17:53:15.908Z"
   },
   {
    "duration": 49,
    "start_time": "2022-03-18T17:53:21.301Z"
   },
   {
    "duration": 401,
    "start_time": "2022-03-18T17:53:35.453Z"
   },
   {
    "duration": 31,
    "start_time": "2022-03-18T18:00:12.626Z"
   },
   {
    "duration": 33,
    "start_time": "2022-03-18T18:00:49.096Z"
   },
   {
    "duration": 213,
    "start_time": "2022-03-18T18:02:38.796Z"
   },
   {
    "duration": 206,
    "start_time": "2022-03-18T18:03:03.096Z"
   },
   {
    "duration": 42,
    "start_time": "2022-03-18T18:04:00.556Z"
   },
   {
    "duration": 202,
    "start_time": "2022-03-18T18:04:24.895Z"
   },
   {
    "duration": 193,
    "start_time": "2022-03-18T18:04:45.199Z"
   },
   {
    "duration": 22,
    "start_time": "2022-03-18T18:07:01.187Z"
   },
   {
    "duration": 43,
    "start_time": "2022-03-18T18:16:02.498Z"
   },
   {
    "duration": 44,
    "start_time": "2022-03-18T18:19:15.674Z"
   },
   {
    "duration": 11,
    "start_time": "2022-03-18T18:19:26.372Z"
   },
   {
    "duration": 8,
    "start_time": "2022-03-18T18:20:30.326Z"
   },
   {
    "duration": 181,
    "start_time": "2022-03-18T18:28:39.349Z"
   },
   {
    "duration": 12,
    "start_time": "2022-03-18T18:30:38.122Z"
   },
   {
    "duration": 10,
    "start_time": "2022-03-18T18:31:12.922Z"
   },
   {
    "duration": 6,
    "start_time": "2022-03-18T18:56:16.533Z"
   },
   {
    "duration": 7,
    "start_time": "2022-03-18T18:57:08.851Z"
   },
   {
    "duration": 6,
    "start_time": "2022-03-18T18:57:19.734Z"
   },
   {
    "duration": 184,
    "start_time": "2022-03-18T18:57:42.536Z"
   },
   {
    "duration": 24,
    "start_time": "2022-03-18T18:57:57.477Z"
   },
   {
    "duration": 8,
    "start_time": "2022-03-18T18:58:10.743Z"
   },
   {
    "duration": 2707,
    "start_time": "2022-03-18T18:59:17.174Z"
   },
   {
    "duration": 5,
    "start_time": "2022-03-18T18:59:30.669Z"
   },
   {
    "duration": 57,
    "start_time": "2022-03-18T18:59:30.678Z"
   },
   {
    "duration": 38,
    "start_time": "2022-03-18T18:59:30.738Z"
   },
   {
    "duration": 22,
    "start_time": "2022-03-18T18:59:30.858Z"
   },
   {
    "duration": 58,
    "start_time": "2022-03-18T18:59:30.882Z"
   },
   {
    "duration": 22,
    "start_time": "2022-03-18T18:59:30.943Z"
   },
   {
    "duration": 35,
    "start_time": "2022-03-18T18:59:30.967Z"
   },
   {
    "duration": 10,
    "start_time": "2022-03-18T18:59:31.006Z"
   },
   {
    "duration": 34,
    "start_time": "2022-03-18T18:59:31.018Z"
   },
   {
    "duration": 29,
    "start_time": "2022-03-18T18:59:31.056Z"
   },
   {
    "duration": 211,
    "start_time": "2022-03-18T18:59:31.088Z"
   },
   {
    "duration": 8,
    "start_time": "2022-03-18T18:59:31.302Z"
   },
   {
    "duration": 35,
    "start_time": "2022-03-18T18:59:31.312Z"
   },
   {
    "duration": 26,
    "start_time": "2022-03-18T18:59:31.352Z"
   },
   {
    "duration": 35,
    "start_time": "2022-03-18T18:59:31.381Z"
   },
   {
    "duration": 33,
    "start_time": "2022-03-18T18:59:31.419Z"
   },
   {
    "duration": 33,
    "start_time": "2022-03-18T18:59:31.455Z"
   },
   {
    "duration": 38,
    "start_time": "2022-03-18T18:59:31.490Z"
   },
   {
    "duration": 539,
    "start_time": "2022-03-18T18:59:31.531Z"
   },
   {
    "duration": 366,
    "start_time": "2022-03-18T18:59:32.082Z"
   },
   {
    "duration": 64,
    "start_time": "2022-03-18T18:59:32.451Z"
   },
   {
    "duration": 44,
    "start_time": "2022-03-18T18:59:32.518Z"
   },
   {
    "duration": 528,
    "start_time": "2022-03-18T18:59:32.565Z"
   },
   {
    "duration": 416,
    "start_time": "2022-03-18T18:59:33.100Z"
   },
   {
    "duration": 334,
    "start_time": "2022-03-18T18:59:33.519Z"
   },
   {
    "duration": 328,
    "start_time": "2022-03-18T18:59:33.856Z"
   },
   {
    "duration": 24,
    "start_time": "2022-03-18T18:59:34.186Z"
   },
   {
    "duration": 28,
    "start_time": "2022-03-18T18:59:34.213Z"
   },
   {
    "duration": 76,
    "start_time": "2022-03-18T18:59:34.243Z"
   },
   {
    "duration": 208,
    "start_time": "2022-03-18T18:59:34.322Z"
   },
   {
    "duration": 9,
    "start_time": "2022-03-18T18:59:34.533Z"
   },
   {
    "duration": 493,
    "start_time": "2022-03-18T18:59:34.544Z"
   },
   {
    "duration": 361,
    "start_time": "2022-03-18T18:59:35.040Z"
   },
   {
    "duration": 37,
    "start_time": "2022-03-18T18:59:35.403Z"
   },
   {
    "duration": 64,
    "start_time": "2022-03-18T18:59:35.442Z"
   },
   {
    "duration": 5,
    "start_time": "2022-03-18T18:59:35.508Z"
   },
   {
    "duration": 31,
    "start_time": "2022-03-18T18:59:35.516Z"
   },
   {
    "duration": 67,
    "start_time": "2022-03-18T18:59:35.550Z"
   },
   {
    "duration": 32,
    "start_time": "2022-03-18T18:59:35.619Z"
   },
   {
    "duration": 231,
    "start_time": "2022-03-18T18:59:35.654Z"
   },
   {
    "duration": 7,
    "start_time": "2022-03-18T18:59:35.887Z"
   },
   {
    "duration": 12,
    "start_time": "2022-03-18T18:59:35.896Z"
   },
   {
    "duration": 11,
    "start_time": "2022-03-18T18:59:35.910Z"
   },
   {
    "duration": 27,
    "start_time": "2022-03-18T18:59:35.923Z"
   },
   {
    "duration": 25,
    "start_time": "2022-03-18T18:59:35.983Z"
   },
   {
    "duration": 514,
    "start_time": "2022-03-18T18:59:36.011Z"
   },
   {
    "duration": 412,
    "start_time": "2022-03-18T18:59:36.527Z"
   },
   {
    "duration": 46,
    "start_time": "2022-03-18T18:59:36.941Z"
   },
   {
    "duration": 2273,
    "start_time": "2022-03-18T18:59:36.990Z"
   },
   {
    "duration": 505,
    "start_time": "2022-03-18T18:59:39.269Z"
   },
   {
    "duration": 10,
    "start_time": "2022-03-18T18:59:39.781Z"
   },
   {
    "duration": 23,
    "start_time": "2022-03-18T18:59:39.798Z"
   },
   {
    "duration": 75,
    "start_time": "2022-03-18T18:59:39.823Z"
   },
   {
    "duration": 401,
    "start_time": "2022-03-18T18:59:39.901Z"
   },
   {
    "duration": 39,
    "start_time": "2022-03-18T18:59:40.306Z"
   },
   {
    "duration": 224,
    "start_time": "2022-03-18T18:59:40.347Z"
   },
   {
    "duration": 39,
    "start_time": "2022-03-18T18:59:40.573Z"
   },
   {
    "duration": 304,
    "start_time": "2022-03-18T18:59:40.615Z"
   },
   {
    "duration": 28,
    "start_time": "2022-03-18T18:59:40.921Z"
   },
   {
    "duration": 36,
    "start_time": "2022-03-18T18:59:40.952Z"
   },
   {
    "duration": 16,
    "start_time": "2022-03-18T18:59:40.991Z"
   },
   {
    "duration": 15,
    "start_time": "2022-03-18T18:59:41.010Z"
   },
   {
    "duration": 879,
    "start_time": "2022-03-18T18:59:41.028Z"
   },
   {
    "duration": 16,
    "start_time": "2022-03-18T18:59:41.909Z"
   },
   {
    "duration": 15,
    "start_time": "2022-03-18T18:59:41.928Z"
   },
   {
    "duration": 45,
    "start_time": "2022-03-18T18:59:41.946Z"
   },
   {
    "duration": 478,
    "start_time": "2022-03-18T18:59:41.994Z"
   },
   {
    "duration": 12,
    "start_time": "2022-03-18T18:59:42.482Z"
   },
   {
    "duration": 14,
    "start_time": "2022-03-18T18:59:42.496Z"
   },
   {
    "duration": 12,
    "start_time": "2022-03-18T18:59:42.513Z"
   },
   {
    "duration": 302,
    "start_time": "2022-03-18T18:59:42.527Z"
   },
   {
    "duration": 14,
    "start_time": "2022-03-18T18:59:42.832Z"
   },
   {
    "duration": 36,
    "start_time": "2022-03-18T18:59:42.849Z"
   },
   {
    "duration": 11,
    "start_time": "2022-03-18T18:59:42.887Z"
   },
   {
    "duration": 10,
    "start_time": "2022-03-18T18:59:42.900Z"
   },
   {
    "duration": 136,
    "start_time": "2022-03-18T19:00:30.835Z"
   },
   {
    "duration": 383,
    "start_time": "2022-03-18T19:00:57.885Z"
   },
   {
    "duration": 132,
    "start_time": "2022-03-18T19:01:33.173Z"
   },
   {
    "duration": 23,
    "start_time": "2022-03-18T19:01:59.965Z"
   },
   {
    "duration": 1514,
    "start_time": "2022-03-18T19:03:00.909Z"
   },
   {
    "duration": 1967,
    "start_time": "2022-03-18T19:03:16.241Z"
   },
   {
    "duration": 734,
    "start_time": "2022-03-18T19:03:39.625Z"
   },
   {
    "duration": 643,
    "start_time": "2022-03-18T19:03:53.016Z"
   },
   {
    "duration": 758,
    "start_time": "2022-03-18T19:05:21.524Z"
   },
   {
    "duration": 18,
    "start_time": "2022-03-18T19:05:48.998Z"
   },
   {
    "duration": 477,
    "start_time": "2022-03-18T19:06:09.230Z"
   },
   {
    "duration": 10,
    "start_time": "2022-03-18T19:06:41.688Z"
   },
   {
    "duration": 21,
    "start_time": "2022-03-18T19:09:25.883Z"
   },
   {
    "duration": 48,
    "start_time": "2022-03-18T19:09:41.943Z"
   },
   {
    "duration": 407,
    "start_time": "2022-03-18T19:09:49.160Z"
   },
   {
    "duration": 9,
    "start_time": "2022-03-18T19:10:26.876Z"
   },
   {
    "duration": 26,
    "start_time": "2022-03-18T19:10:52.219Z"
   },
   {
    "duration": 490,
    "start_time": "2022-03-18T19:10:52.247Z"
   },
   {
    "duration": 597,
    "start_time": "2022-03-18T19:10:52.739Z"
   },
   {
    "duration": 23,
    "start_time": "2022-03-18T19:10:53.338Z"
   },
   {
    "duration": 730,
    "start_time": "2022-03-18T19:10:53.365Z"
   },
   {
    "duration": 493,
    "start_time": "2022-03-18T19:10:54.098Z"
   },
   {
    "duration": 9,
    "start_time": "2022-03-18T19:10:54.594Z"
   },
   {
    "duration": 23,
    "start_time": "2022-03-18T19:10:54.606Z"
   },
   {
    "duration": 85,
    "start_time": "2022-03-18T19:10:54.632Z"
   },
   {
    "duration": 528,
    "start_time": "2022-03-18T19:10:54.719Z"
   },
   {
    "duration": 46,
    "start_time": "2022-03-18T19:10:55.249Z"
   },
   {
    "duration": 186,
    "start_time": "2022-03-18T19:10:55.298Z"
   },
   {
    "duration": 34,
    "start_time": "2022-03-18T19:10:55.487Z"
   },
   {
    "duration": 199,
    "start_time": "2022-03-18T19:10:55.525Z"
   },
   {
    "duration": 22,
    "start_time": "2022-03-18T19:10:55.726Z"
   },
   {
    "duration": 34,
    "start_time": "2022-03-18T19:10:55.751Z"
   },
   {
    "duration": 13,
    "start_time": "2022-03-18T19:10:55.787Z"
   },
   {
    "duration": 12,
    "start_time": "2022-03-18T19:10:55.803Z"
   },
   {
    "duration": 551,
    "start_time": "2022-03-18T19:10:55.818Z"
   },
   {
    "duration": 21,
    "start_time": "2022-03-18T19:10:56.372Z"
   },
   {
    "duration": 12,
    "start_time": "2022-03-18T19:10:56.396Z"
   },
   {
    "duration": 10,
    "start_time": "2022-03-18T19:10:56.410Z"
   },
   {
    "duration": 335,
    "start_time": "2022-03-18T19:10:56.422Z"
   },
   {
    "duration": 23,
    "start_time": "2022-03-18T19:10:56.760Z"
   },
   {
    "duration": 10,
    "start_time": "2022-03-18T19:10:56.785Z"
   },
   {
    "duration": 14,
    "start_time": "2022-03-18T19:10:56.797Z"
   },
   {
    "duration": 280,
    "start_time": "2022-03-18T19:10:56.814Z"
   },
   {
    "duration": 14,
    "start_time": "2022-03-18T19:10:57.096Z"
   },
   {
    "duration": 13,
    "start_time": "2022-03-18T19:10:57.112Z"
   },
   {
    "duration": 17,
    "start_time": "2022-03-18T19:10:57.127Z"
   },
   {
    "duration": 8,
    "start_time": "2022-03-18T19:10:57.146Z"
   },
   {
    "duration": 28,
    "start_time": "2022-03-18T19:12:49.307Z"
   },
   {
    "duration": 18,
    "start_time": "2022-03-18T19:13:13.118Z"
   },
   {
    "duration": 22,
    "start_time": "2022-03-18T19:13:23.045Z"
   },
   {
    "duration": 12,
    "start_time": "2022-03-18T19:13:35.803Z"
   },
   {
    "duration": 13,
    "start_time": "2022-03-18T19:13:48.198Z"
   },
   {
    "duration": 11,
    "start_time": "2022-03-18T19:13:52.941Z"
   },
   {
    "duration": 12,
    "start_time": "2022-03-18T19:13:59.947Z"
   },
   {
    "duration": 12,
    "start_time": "2022-03-18T19:14:07.346Z"
   },
   {
    "duration": 12,
    "start_time": "2022-03-18T19:14:12.523Z"
   },
   {
    "duration": 28,
    "start_time": "2022-03-18T19:14:16.056Z"
   },
   {
    "duration": 16,
    "start_time": "2022-03-18T19:14:40.937Z"
   },
   {
    "duration": 11,
    "start_time": "2022-03-18T19:14:57.686Z"
   },
   {
    "duration": 29,
    "start_time": "2022-03-18T19:15:13.860Z"
   },
   {
    "duration": 21,
    "start_time": "2022-03-18T19:15:22.046Z"
   },
   {
    "duration": 35,
    "start_time": "2022-03-18T19:15:26.817Z"
   },
   {
    "duration": 36,
    "start_time": "2022-03-18T19:15:31.493Z"
   },
   {
    "duration": 183,
    "start_time": "2022-03-18T19:16:00.812Z"
   },
   {
    "duration": 203,
    "start_time": "2022-03-18T19:16:16.415Z"
   },
   {
    "duration": 36,
    "start_time": "2022-03-18T19:16:40.080Z"
   },
   {
    "duration": 204,
    "start_time": "2022-03-18T19:16:45.249Z"
   },
   {
    "duration": 189,
    "start_time": "2022-03-18T19:16:57.411Z"
   },
   {
    "duration": 12,
    "start_time": "2022-03-18T19:17:46.454Z"
   },
   {
    "duration": 13,
    "start_time": "2022-03-18T19:17:53.316Z"
   },
   {
    "duration": 13,
    "start_time": "2022-03-18T19:17:57.724Z"
   },
   {
    "duration": 496,
    "start_time": "2022-03-18T19:18:04.987Z"
   },
   {
    "duration": 11,
    "start_time": "2022-03-18T19:18:11.195Z"
   },
   {
    "duration": 11,
    "start_time": "2022-03-18T19:18:49.664Z"
   },
   {
    "duration": 9,
    "start_time": "2022-03-18T19:18:51.220Z"
   },
   {
    "duration": 11,
    "start_time": "2022-03-18T19:21:17.216Z"
   },
   {
    "duration": 11,
    "start_time": "2022-03-18T19:21:31.427Z"
   },
   {
    "duration": 10,
    "start_time": "2022-03-18T19:21:33.695Z"
   },
   {
    "duration": 350,
    "start_time": "2022-03-18T19:21:37.349Z"
   },
   {
    "duration": 5,
    "start_time": "2022-03-18T19:27:05.625Z"
   },
   {
    "duration": 55,
    "start_time": "2022-03-18T19:27:05.633Z"
   },
   {
    "duration": 35,
    "start_time": "2022-03-18T19:27:05.691Z"
   },
   {
    "duration": 21,
    "start_time": "2022-03-18T19:27:05.728Z"
   },
   {
    "duration": 71,
    "start_time": "2022-03-18T19:27:05.752Z"
   },
   {
    "duration": 22,
    "start_time": "2022-03-18T19:27:05.826Z"
   },
   {
    "duration": 46,
    "start_time": "2022-03-18T19:27:05.851Z"
   },
   {
    "duration": 9,
    "start_time": "2022-03-18T19:27:05.901Z"
   },
   {
    "duration": 11,
    "start_time": "2022-03-18T19:27:05.913Z"
   },
   {
    "duration": 6,
    "start_time": "2022-03-18T19:27:07.821Z"
   },
   {
    "duration": 171,
    "start_time": "2022-03-18T19:27:07.830Z"
   },
   {
    "duration": 8,
    "start_time": "2022-03-18T19:27:08.003Z"
   },
   {
    "duration": 11,
    "start_time": "2022-03-18T19:27:08.014Z"
   },
   {
    "duration": 8,
    "start_time": "2022-03-18T19:27:08.027Z"
   },
   {
    "duration": 59,
    "start_time": "2022-03-18T19:27:08.037Z"
   },
   {
    "duration": 27,
    "start_time": "2022-03-18T19:27:08.098Z"
   },
   {
    "duration": 22,
    "start_time": "2022-03-18T19:27:08.128Z"
   },
   {
    "duration": 35,
    "start_time": "2022-03-18T19:27:08.182Z"
   },
   {
    "duration": 420,
    "start_time": "2022-03-18T19:27:08.220Z"
   },
   {
    "duration": 352,
    "start_time": "2022-03-18T19:27:08.643Z"
   },
   {
    "duration": 42,
    "start_time": "2022-03-18T19:27:08.998Z"
   },
   {
    "duration": 60,
    "start_time": "2022-03-18T19:27:09.043Z"
   },
   {
    "duration": 331,
    "start_time": "2022-03-18T19:27:09.106Z"
   },
   {
    "duration": 313,
    "start_time": "2022-03-18T19:27:09.439Z"
   },
   {
    "duration": 459,
    "start_time": "2022-03-18T19:27:09.756Z"
   },
   {
    "duration": 324,
    "start_time": "2022-03-18T19:27:10.218Z"
   },
   {
    "duration": 36,
    "start_time": "2022-03-18T19:27:10.545Z"
   },
   {
    "duration": 3,
    "start_time": "2022-03-18T19:27:10.584Z"
   },
   {
    "duration": 39,
    "start_time": "2022-03-18T19:27:10.590Z"
   },
   {
    "duration": 151,
    "start_time": "2022-03-18T19:27:10.631Z"
   },
   {
    "duration": 9,
    "start_time": "2022-03-18T19:27:10.784Z"
   },
   {
    "duration": 518,
    "start_time": "2022-03-18T19:27:10.795Z"
   },
   {
    "duration": 432,
    "start_time": "2022-03-18T19:27:11.315Z"
   },
   {
    "duration": 51,
    "start_time": "2022-03-18T19:27:11.750Z"
   },
   {
    "duration": 41,
    "start_time": "2022-03-18T19:27:11.804Z"
   },
   {
    "duration": 6,
    "start_time": "2022-03-18T19:27:11.847Z"
   },
   {
    "duration": 50,
    "start_time": "2022-03-18T19:27:11.855Z"
   },
   {
    "duration": 46,
    "start_time": "2022-03-18T19:27:11.907Z"
   },
   {
    "duration": 58,
    "start_time": "2022-03-18T19:27:11.956Z"
   },
   {
    "duration": 148,
    "start_time": "2022-03-18T19:27:12.020Z"
   },
   {
    "duration": 16,
    "start_time": "2022-03-18T19:27:12.170Z"
   },
   {
    "duration": 12,
    "start_time": "2022-03-18T19:27:12.188Z"
   },
   {
    "duration": 14,
    "start_time": "2022-03-18T19:27:12.203Z"
   },
   {
    "duration": 23,
    "start_time": "2022-03-18T19:27:12.220Z"
   },
   {
    "duration": 54,
    "start_time": "2022-03-18T19:27:12.246Z"
   },
   {
    "duration": 492,
    "start_time": "2022-03-18T19:27:12.303Z"
   },
   {
    "duration": 620,
    "start_time": "2022-03-18T19:27:12.798Z"
   },
   {
    "duration": 22,
    "start_time": "2022-03-18T19:27:13.421Z"
   },
   {
    "duration": 984,
    "start_time": "2022-03-18T19:27:13.445Z"
   },
   {
    "duration": 501,
    "start_time": "2022-03-18T19:27:14.431Z"
   },
   {
    "duration": 11,
    "start_time": "2022-03-18T19:27:14.935Z"
   },
   {
    "duration": 52,
    "start_time": "2022-03-18T19:27:14.948Z"
   },
   {
    "duration": 53,
    "start_time": "2022-03-18T19:27:15.004Z"
   },
   {
    "duration": 448,
    "start_time": "2022-03-18T19:27:15.060Z"
   },
   {
    "duration": 38,
    "start_time": "2022-03-18T19:27:15.510Z"
   },
   {
    "duration": 225,
    "start_time": "2022-03-18T19:27:15.550Z"
   },
   {
    "duration": 185,
    "start_time": "2022-03-18T19:27:15.782Z"
   },
   {
    "duration": 40,
    "start_time": "2022-03-18T19:27:15.969Z"
   },
   {
    "duration": 208,
    "start_time": "2022-03-18T19:27:16.012Z"
   },
   {
    "duration": 211,
    "start_time": "2022-03-18T19:27:16.222Z"
   },
   {
    "duration": 22,
    "start_time": "2022-03-18T19:27:16.435Z"
   },
   {
    "duration": 31,
    "start_time": "2022-03-18T19:27:16.459Z"
   },
   {
    "duration": 10,
    "start_time": "2022-03-18T19:27:16.492Z"
   },
   {
    "duration": 10,
    "start_time": "2022-03-18T19:27:16.504Z"
   },
   {
    "duration": 367,
    "start_time": "2022-03-18T19:27:16.517Z"
   },
   {
    "duration": 11,
    "start_time": "2022-03-18T19:27:16.886Z"
   },
   {
    "duration": 10,
    "start_time": "2022-03-18T19:27:16.899Z"
   },
   {
    "duration": 12,
    "start_time": "2022-03-18T19:27:16.911Z"
   },
   {
    "duration": 439,
    "start_time": "2022-03-18T19:27:16.925Z"
   },
   {
    "duration": 17,
    "start_time": "2022-03-18T19:27:17.367Z"
   },
   {
    "duration": 15,
    "start_time": "2022-03-18T19:27:17.387Z"
   },
   {
    "duration": 17,
    "start_time": "2022-03-18T19:27:17.405Z"
   },
   {
    "duration": 301,
    "start_time": "2022-03-18T19:27:17.425Z"
   },
   {
    "duration": 12,
    "start_time": "2022-03-18T19:27:17.728Z"
   },
   {
    "duration": 11,
    "start_time": "2022-03-18T19:27:17.742Z"
   },
   {
    "duration": 35,
    "start_time": "2022-03-18T19:27:17.755Z"
   },
   {
    "duration": 9,
    "start_time": "2022-03-18T19:27:17.792Z"
   },
   {
    "duration": 9,
    "start_time": "2022-03-18T19:28:03.046Z"
   },
   {
    "duration": 6,
    "start_time": "2022-03-18T19:30:38.301Z"
   },
   {
    "duration": 49,
    "start_time": "2022-03-18T19:30:38.317Z"
   },
   {
    "duration": 46,
    "start_time": "2022-03-18T19:30:38.370Z"
   },
   {
    "duration": 21,
    "start_time": "2022-03-18T19:30:38.418Z"
   },
   {
    "duration": 78,
    "start_time": "2022-03-18T19:30:38.442Z"
   },
   {
    "duration": 25,
    "start_time": "2022-03-18T19:30:38.522Z"
   },
   {
    "duration": 51,
    "start_time": "2022-03-18T19:30:38.550Z"
   },
   {
    "duration": 8,
    "start_time": "2022-03-18T19:30:38.603Z"
   },
   {
    "duration": 11,
    "start_time": "2022-03-18T19:30:38.614Z"
   },
   {
    "duration": 18,
    "start_time": "2022-03-18T19:30:38.627Z"
   },
   {
    "duration": 229,
    "start_time": "2022-03-18T19:30:38.649Z"
   },
   {
    "duration": 7,
    "start_time": "2022-03-18T19:30:38.880Z"
   },
   {
    "duration": 13,
    "start_time": "2022-03-18T19:30:38.890Z"
   },
   {
    "duration": 13,
    "start_time": "2022-03-18T19:30:38.906Z"
   },
   {
    "duration": 22,
    "start_time": "2022-03-18T19:30:38.922Z"
   },
   {
    "duration": 60,
    "start_time": "2022-03-18T19:30:38.947Z"
   },
   {
    "duration": 21,
    "start_time": "2022-03-18T19:30:39.009Z"
   },
   {
    "duration": 62,
    "start_time": "2022-03-18T19:30:39.033Z"
   },
   {
    "duration": 427,
    "start_time": "2022-03-18T19:30:39.097Z"
   },
   {
    "duration": 334,
    "start_time": "2022-03-18T19:30:39.526Z"
   },
   {
    "duration": 53,
    "start_time": "2022-03-18T19:30:39.862Z"
   },
   {
    "duration": 65,
    "start_time": "2022-03-18T19:30:39.918Z"
   },
   {
    "duration": 344,
    "start_time": "2022-03-18T19:30:39.987Z"
   },
   {
    "duration": 342,
    "start_time": "2022-03-18T19:30:40.334Z"
   },
   {
    "duration": 330,
    "start_time": "2022-03-18T19:30:40.683Z"
   },
   {
    "duration": 424,
    "start_time": "2022-03-18T19:30:41.016Z"
   },
   {
    "duration": 43,
    "start_time": "2022-03-18T19:30:41.443Z"
   },
   {
    "duration": 3,
    "start_time": "2022-03-18T19:30:41.488Z"
   },
   {
    "duration": 35,
    "start_time": "2022-03-18T19:30:41.498Z"
   },
   {
    "duration": 171,
    "start_time": "2022-03-18T19:30:41.535Z"
   },
   {
    "duration": 9,
    "start_time": "2022-03-18T19:30:41.709Z"
   },
   {
    "duration": 404,
    "start_time": "2022-03-18T19:30:41.720Z"
   },
   {
    "duration": 366,
    "start_time": "2022-03-18T19:30:42.126Z"
   },
   {
    "duration": 46,
    "start_time": "2022-03-18T19:30:42.494Z"
   },
   {
    "duration": 68,
    "start_time": "2022-03-18T19:30:42.542Z"
   },
   {
    "duration": 6,
    "start_time": "2022-03-18T19:30:42.612Z"
   },
   {
    "duration": 32,
    "start_time": "2022-03-18T19:30:42.620Z"
   },
   {
    "duration": 63,
    "start_time": "2022-03-18T19:30:42.655Z"
   },
   {
    "duration": 37,
    "start_time": "2022-03-18T19:30:42.721Z"
   },
   {
    "duration": 148,
    "start_time": "2022-03-18T19:30:42.781Z"
   },
   {
    "duration": 8,
    "start_time": "2022-03-18T19:30:42.932Z"
   },
   {
    "duration": 10,
    "start_time": "2022-03-18T19:30:42.942Z"
   },
   {
    "duration": 30,
    "start_time": "2022-03-18T19:30:42.955Z"
   },
   {
    "duration": 26,
    "start_time": "2022-03-18T19:30:42.988Z"
   },
   {
    "duration": 29,
    "start_time": "2022-03-18T19:30:43.016Z"
   },
   {
    "duration": 535,
    "start_time": "2022-03-18T19:30:43.047Z"
   },
   {
    "duration": 613,
    "start_time": "2022-03-18T19:30:43.584Z"
   },
   {
    "duration": 24,
    "start_time": "2022-03-18T19:30:44.200Z"
   },
   {
    "duration": 774,
    "start_time": "2022-03-18T19:30:44.226Z"
   },
   {
    "duration": 648,
    "start_time": "2022-03-18T19:30:45.002Z"
   },
   {
    "duration": 10,
    "start_time": "2022-03-18T19:30:45.652Z"
   },
   {
    "duration": 37,
    "start_time": "2022-03-18T19:30:45.665Z"
   },
   {
    "duration": 52,
    "start_time": "2022-03-18T19:30:45.704Z"
   },
   {
    "duration": 439,
    "start_time": "2022-03-18T19:30:45.781Z"
   },
   {
    "duration": 37,
    "start_time": "2022-03-18T19:30:46.223Z"
   },
   {
    "duration": 223,
    "start_time": "2022-03-18T19:30:46.282Z"
   },
   {
    "duration": 199,
    "start_time": "2022-03-18T19:30:46.508Z"
   },
   {
    "duration": 35,
    "start_time": "2022-03-18T19:30:46.710Z"
   },
   {
    "duration": 225,
    "start_time": "2022-03-18T19:30:46.747Z"
   },
   {
    "duration": 215,
    "start_time": "2022-03-18T19:30:46.983Z"
   },
   {
    "duration": 22,
    "start_time": "2022-03-18T19:30:47.200Z"
   },
   {
    "duration": 10,
    "start_time": "2022-03-18T19:30:47.225Z"
   },
   {
    "duration": 10,
    "start_time": "2022-03-18T19:30:47.238Z"
   },
   {
    "duration": 12,
    "start_time": "2022-03-18T19:30:47.282Z"
   },
   {
    "duration": 477,
    "start_time": "2022-03-18T19:30:47.296Z"
   },
   {
    "duration": 12,
    "start_time": "2022-03-18T19:30:47.783Z"
   },
   {
    "duration": 14,
    "start_time": "2022-03-18T19:30:47.798Z"
   },
   {
    "duration": 15,
    "start_time": "2022-03-18T19:30:47.814Z"
   },
   {
    "duration": 353,
    "start_time": "2022-03-18T19:30:47.832Z"
   },
   {
    "duration": 15,
    "start_time": "2022-03-18T19:30:48.188Z"
   },
   {
    "duration": 14,
    "start_time": "2022-03-18T19:30:48.205Z"
   },
   {
    "duration": 12,
    "start_time": "2022-03-18T19:30:48.222Z"
   },
   {
    "duration": 409,
    "start_time": "2022-03-18T19:30:48.236Z"
   },
   {
    "duration": 12,
    "start_time": "2022-03-18T19:30:48.648Z"
   },
   {
    "duration": 26,
    "start_time": "2022-03-18T19:30:48.662Z"
   },
   {
    "duration": 14,
    "start_time": "2022-03-18T19:30:48.690Z"
   },
   {
    "duration": 9,
    "start_time": "2022-03-18T19:30:48.706Z"
   },
   {
    "duration": 1713,
    "start_time": "2022-03-19T07:31:36.281Z"
   },
   {
    "duration": 52,
    "start_time": "2022-03-19T07:31:37.997Z"
   },
   {
    "duration": 48,
    "start_time": "2022-03-19T07:31:38.052Z"
   },
   {
    "duration": 23,
    "start_time": "2022-03-19T07:31:39.322Z"
   },
   {
    "duration": 40,
    "start_time": "2022-03-19T07:31:40.104Z"
   },
   {
    "duration": 21,
    "start_time": "2022-03-19T07:31:41.189Z"
   },
   {
    "duration": 24,
    "start_time": "2022-03-19T07:31:43.740Z"
   },
   {
    "duration": 6,
    "start_time": "2022-03-19T07:31:48.743Z"
   },
   {
    "duration": 84,
    "start_time": "2022-03-19T08:22:36.770Z"
   },
   {
    "duration": 105,
    "start_time": "2022-03-19T08:34:01.678Z"
   },
   {
    "duration": 5,
    "start_time": "2022-03-20T00:52:26.359Z"
   },
   {
    "duration": 42,
    "start_time": "2022-03-20T00:52:32.602Z"
   },
   {
    "duration": 7,
    "start_time": "2022-03-20T00:52:40.062Z"
   },
   {
    "duration": 3,
    "start_time": "2022-03-20T00:52:43.223Z"
   },
   {
    "duration": 1416,
    "start_time": "2022-03-20T00:52:50.233Z"
   },
   {
    "duration": 45,
    "start_time": "2022-03-20T00:52:51.651Z"
   },
   {
    "duration": 29,
    "start_time": "2022-03-20T00:52:51.697Z"
   },
   {
    "duration": 15,
    "start_time": "2022-03-20T00:52:51.728Z"
   },
   {
    "duration": 38,
    "start_time": "2022-03-20T00:52:51.745Z"
   },
   {
    "duration": 12,
    "start_time": "2022-03-20T00:52:51.785Z"
   },
   {
    "duration": 19,
    "start_time": "2022-03-20T00:52:51.798Z"
   },
   {
    "duration": 6,
    "start_time": "2022-03-20T00:52:51.819Z"
   },
   {
    "duration": 7,
    "start_time": "2022-03-20T00:52:51.826Z"
   },
   {
    "duration": 5,
    "start_time": "2022-03-20T00:52:51.862Z"
   },
   {
    "duration": 215,
    "start_time": "2022-03-20T00:52:51.868Z"
   },
   {
    "duration": 6,
    "start_time": "2022-03-20T00:52:52.085Z"
   },
   {
    "duration": 12,
    "start_time": "2022-03-20T00:52:52.092Z"
   },
   {
    "duration": 7,
    "start_time": "2022-03-20T00:52:52.105Z"
   },
   {
    "duration": 21,
    "start_time": "2022-03-20T00:52:52.113Z"
   },
   {
    "duration": 47,
    "start_time": "2022-03-20T00:52:52.135Z"
   },
   {
    "duration": 14,
    "start_time": "2022-03-20T00:52:52.184Z"
   },
   {
    "duration": 19,
    "start_time": "2022-03-20T00:52:52.200Z"
   },
   {
    "duration": 135,
    "start_time": "2022-03-20T00:52:52.221Z"
   },
   {
    "duration": 183,
    "start_time": "2022-03-20T00:52:52.357Z"
   },
   {
    "duration": 35,
    "start_time": "2022-03-20T00:52:52.543Z"
   },
   {
    "duration": 28,
    "start_time": "2022-03-20T00:52:52.580Z"
   },
   {
    "duration": 275,
    "start_time": "2022-03-20T00:52:52.609Z"
   },
   {
    "duration": 257,
    "start_time": "2022-03-20T00:52:52.886Z"
   },
   {
    "duration": 270,
    "start_time": "2022-03-20T00:52:53.145Z"
   },
   {
    "duration": 267,
    "start_time": "2022-03-20T00:52:53.417Z"
   },
   {
    "duration": 24,
    "start_time": "2022-03-20T00:52:53.687Z"
   },
   {
    "duration": 3,
    "start_time": "2022-03-20T00:52:53.716Z"
   },
   {
    "duration": 143,
    "start_time": "2022-03-20T00:52:53.721Z"
   },
   {
    "duration": 37,
    "start_time": "2022-03-20T00:52:53.866Z"
   },
   {
    "duration": 6,
    "start_time": "2022-03-20T00:52:53.905Z"
   },
   {
    "duration": 119,
    "start_time": "2022-03-20T00:52:53.913Z"
   },
   {
    "duration": 194,
    "start_time": "2022-03-20T00:52:54.034Z"
   },
   {
    "duration": 34,
    "start_time": "2022-03-20T00:52:54.230Z"
   },
   {
    "duration": 26,
    "start_time": "2022-03-20T00:52:54.265Z"
   },
   {
    "duration": 4,
    "start_time": "2022-03-20T00:52:54.293Z"
   },
   {
    "duration": 19,
    "start_time": "2022-03-20T00:52:54.299Z"
   },
   {
    "duration": 53,
    "start_time": "2022-03-20T00:52:54.320Z"
   },
   {
    "duration": 22,
    "start_time": "2022-03-20T00:52:54.375Z"
   },
   {
    "duration": 26,
    "start_time": "2022-03-20T00:52:54.398Z"
   },
   {
    "duration": 5,
    "start_time": "2022-03-20T00:52:54.425Z"
   },
   {
    "duration": 34,
    "start_time": "2022-03-20T00:52:54.431Z"
   },
   {
    "duration": 11,
    "start_time": "2022-03-20T00:52:54.466Z"
   },
   {
    "duration": 17,
    "start_time": "2022-03-20T00:52:54.479Z"
   },
   {
    "duration": 18,
    "start_time": "2022-03-20T00:52:54.498Z"
   },
   {
    "duration": 292,
    "start_time": "2022-03-20T00:52:54.518Z"
   },
   {
    "duration": 65,
    "start_time": "2022-03-20T00:52:54.812Z"
   },
   {
    "duration": 0,
    "start_time": "2022-03-20T00:52:54.878Z"
   },
   {
    "duration": 0,
    "start_time": "2022-03-20T00:52:54.880Z"
   },
   {
    "duration": 0,
    "start_time": "2022-03-20T00:52:54.881Z"
   },
   {
    "duration": 0,
    "start_time": "2022-03-20T00:52:54.881Z"
   },
   {
    "duration": 0,
    "start_time": "2022-03-20T00:52:54.883Z"
   },
   {
    "duration": 0,
    "start_time": "2022-03-20T00:52:54.884Z"
   },
   {
    "duration": 0,
    "start_time": "2022-03-20T00:52:54.885Z"
   },
   {
    "duration": 0,
    "start_time": "2022-03-20T00:52:54.886Z"
   },
   {
    "duration": 0,
    "start_time": "2022-03-20T00:52:54.887Z"
   },
   {
    "duration": 0,
    "start_time": "2022-03-20T00:52:54.888Z"
   },
   {
    "duration": 0,
    "start_time": "2022-03-20T00:52:54.889Z"
   },
   {
    "duration": 0,
    "start_time": "2022-03-20T00:52:54.890Z"
   },
   {
    "duration": 0,
    "start_time": "2022-03-20T00:52:54.891Z"
   },
   {
    "duration": 0,
    "start_time": "2022-03-20T00:52:54.892Z"
   },
   {
    "duration": 0,
    "start_time": "2022-03-20T00:52:54.893Z"
   },
   {
    "duration": 0,
    "start_time": "2022-03-20T00:52:54.894Z"
   },
   {
    "duration": 0,
    "start_time": "2022-03-20T00:52:54.895Z"
   },
   {
    "duration": 0,
    "start_time": "2022-03-20T00:52:54.896Z"
   },
   {
    "duration": 0,
    "start_time": "2022-03-20T00:52:54.897Z"
   },
   {
    "duration": 0,
    "start_time": "2022-03-20T00:52:54.898Z"
   },
   {
    "duration": 0,
    "start_time": "2022-03-20T00:52:54.899Z"
   },
   {
    "duration": 0,
    "start_time": "2022-03-20T00:52:54.900Z"
   },
   {
    "duration": 0,
    "start_time": "2022-03-20T00:52:54.901Z"
   },
   {
    "duration": 0,
    "start_time": "2022-03-20T00:52:54.902Z"
   },
   {
    "duration": 0,
    "start_time": "2022-03-20T00:52:54.903Z"
   },
   {
    "duration": 0,
    "start_time": "2022-03-20T00:52:54.904Z"
   },
   {
    "duration": 0,
    "start_time": "2022-03-20T00:52:54.905Z"
   },
   {
    "duration": 0,
    "start_time": "2022-03-20T00:52:54.906Z"
   },
   {
    "duration": 0,
    "start_time": "2022-03-20T00:52:54.907Z"
   },
   {
    "duration": 0,
    "start_time": "2022-03-20T00:52:54.908Z"
   },
   {
    "duration": 5,
    "start_time": "2022-03-20T00:53:18.206Z"
   },
   {
    "duration": 5,
    "start_time": "2022-03-20T00:53:23.189Z"
   },
   {
    "duration": 10,
    "start_time": "2022-03-20T01:05:13.664Z"
   },
   {
    "duration": 4,
    "start_time": "2022-03-20T01:05:20.458Z"
   },
   {
    "duration": 17,
    "start_time": "2022-03-20T01:05:30.029Z"
   },
   {
    "duration": 4,
    "start_time": "2022-03-20T01:05:49.505Z"
   },
   {
    "duration": 5,
    "start_time": "2022-03-20T01:05:51.936Z"
   },
   {
    "duration": 105,
    "start_time": "2022-03-20T01:05:54.053Z"
   },
   {
    "duration": 6,
    "start_time": "2022-03-20T01:05:54.634Z"
   },
   {
    "duration": 16,
    "start_time": "2022-03-20T01:05:55.589Z"
   },
   {
    "duration": 164,
    "start_time": "2022-03-20T01:08:42.014Z"
   },
   {
    "duration": 138,
    "start_time": "2022-03-20T01:08:46.149Z"
   },
   {
    "duration": 149,
    "start_time": "2022-03-20T01:09:35.685Z"
   },
   {
    "duration": 133,
    "start_time": "2022-03-20T01:10:05.834Z"
   },
   {
    "duration": 17,
    "start_time": "2022-03-20T01:10:23.311Z"
   },
   {
    "duration": 200,
    "start_time": "2022-03-20T01:11:38.648Z"
   },
   {
    "duration": 214,
    "start_time": "2022-03-20T01:13:04.310Z"
   },
   {
    "duration": 216,
    "start_time": "2022-03-20T01:13:39.126Z"
   },
   {
    "duration": 218,
    "start_time": "2022-03-20T01:14:20.549Z"
   },
   {
    "duration": 227,
    "start_time": "2022-03-20T01:16:03.411Z"
   },
   {
    "duration": 229,
    "start_time": "2022-03-20T01:16:22.669Z"
   },
   {
    "duration": 227,
    "start_time": "2022-03-20T01:17:36.685Z"
   },
   {
    "duration": 311,
    "start_time": "2022-03-20T01:18:24.478Z"
   },
   {
    "duration": 7,
    "start_time": "2022-03-20T01:21:42.440Z"
   },
   {
    "duration": 3,
    "start_time": "2022-03-20T01:21:52.731Z"
   },
   {
    "duration": 38,
    "start_time": "2022-03-20T01:21:52.736Z"
   },
   {
    "duration": 26,
    "start_time": "2022-03-20T01:21:52.775Z"
   },
   {
    "duration": 12,
    "start_time": "2022-03-20T01:21:52.803Z"
   },
   {
    "duration": 53,
    "start_time": "2022-03-20T01:21:52.817Z"
   },
   {
    "duration": 13,
    "start_time": "2022-03-20T01:21:52.871Z"
   },
   {
    "duration": 17,
    "start_time": "2022-03-20T01:21:52.885Z"
   },
   {
    "duration": 4,
    "start_time": "2022-03-20T01:21:52.904Z"
   },
   {
    "duration": 7,
    "start_time": "2022-03-20T01:21:52.910Z"
   },
   {
    "duration": 11,
    "start_time": "2022-03-20T01:21:52.918Z"
   },
   {
    "duration": 119,
    "start_time": "2022-03-20T01:21:52.931Z"
   },
   {
    "duration": 11,
    "start_time": "2022-03-20T01:21:53.052Z"
   },
   {
    "duration": 3,
    "start_time": "2022-03-20T01:21:53.065Z"
   },
   {
    "duration": 8,
    "start_time": "2022-03-20T01:21:53.072Z"
   },
   {
    "duration": 7,
    "start_time": "2022-03-20T01:21:53.082Z"
   },
   {
    "duration": 20,
    "start_time": "2022-03-20T01:21:53.090Z"
   },
   {
    "duration": 51,
    "start_time": "2022-03-20T01:21:53.112Z"
   },
   {
    "duration": 14,
    "start_time": "2022-03-20T01:21:53.165Z"
   },
   {
    "duration": 18,
    "start_time": "2022-03-20T01:21:53.181Z"
   },
   {
    "duration": 5,
    "start_time": "2022-03-20T01:21:53.201Z"
   },
   {
    "duration": 277,
    "start_time": "2022-03-20T01:21:53.207Z"
   },
   {
    "duration": 210,
    "start_time": "2022-03-20T01:21:53.486Z"
   },
   {
    "duration": 25,
    "start_time": "2022-03-20T01:21:53.698Z"
   },
   {
    "duration": 38,
    "start_time": "2022-03-20T01:21:53.725Z"
   },
   {
    "duration": 179,
    "start_time": "2022-03-20T01:21:53.764Z"
   },
   {
    "duration": 178,
    "start_time": "2022-03-20T01:21:53.945Z"
   },
   {
    "duration": 188,
    "start_time": "2022-03-20T01:21:54.125Z"
   },
   {
    "duration": 188,
    "start_time": "2022-03-20T01:21:54.315Z"
   },
   {
    "duration": 18,
    "start_time": "2022-03-20T01:21:54.506Z"
   },
   {
    "duration": 2,
    "start_time": "2022-03-20T01:21:54.526Z"
   },
   {
    "duration": 38,
    "start_time": "2022-03-20T01:21:54.530Z"
   },
   {
    "duration": 177,
    "start_time": "2022-03-20T01:21:54.570Z"
   },
   {
    "duration": 15,
    "start_time": "2022-03-20T01:21:54.749Z"
   },
   {
    "duration": 212,
    "start_time": "2022-03-20T01:21:54.765Z"
   },
   {
    "duration": 205,
    "start_time": "2022-03-20T01:21:54.979Z"
   },
   {
    "duration": 23,
    "start_time": "2022-03-20T01:21:55.185Z"
   },
   {
    "duration": 23,
    "start_time": "2022-03-20T01:21:55.210Z"
   },
   {
    "duration": 4,
    "start_time": "2022-03-20T01:21:55.235Z"
   },
   {
    "duration": 44,
    "start_time": "2022-03-20T01:21:55.240Z"
   },
   {
    "duration": 27,
    "start_time": "2022-03-20T01:21:55.286Z"
   },
   {
    "duration": 21,
    "start_time": "2022-03-20T01:21:55.318Z"
   },
   {
    "duration": 99,
    "start_time": "2022-03-20T01:21:55.340Z"
   },
   {
    "duration": 5,
    "start_time": "2022-03-20T01:21:55.440Z"
   },
   {
    "duration": 17,
    "start_time": "2022-03-20T01:21:55.447Z"
   },
   {
    "duration": 6,
    "start_time": "2022-03-20T01:21:55.465Z"
   },
   {
    "duration": 18,
    "start_time": "2022-03-20T01:21:55.472Z"
   },
   {
    "duration": 17,
    "start_time": "2022-03-20T01:21:55.491Z"
   },
   {
    "duration": 293,
    "start_time": "2022-03-20T01:21:55.509Z"
   },
   {
    "duration": 9,
    "start_time": "2022-03-20T01:21:55.804Z"
   },
   {
    "duration": 0,
    "start_time": "2022-03-20T01:21:55.815Z"
   },
   {
    "duration": 0,
    "start_time": "2022-03-20T01:21:55.816Z"
   },
   {
    "duration": 0,
    "start_time": "2022-03-20T01:21:55.817Z"
   },
   {
    "duration": 0,
    "start_time": "2022-03-20T01:21:55.818Z"
   },
   {
    "duration": 0,
    "start_time": "2022-03-20T01:21:55.819Z"
   },
   {
    "duration": 0,
    "start_time": "2022-03-20T01:21:55.820Z"
   },
   {
    "duration": 0,
    "start_time": "2022-03-20T01:21:55.821Z"
   },
   {
    "duration": 0,
    "start_time": "2022-03-20T01:21:55.822Z"
   },
   {
    "duration": 0,
    "start_time": "2022-03-20T01:21:55.823Z"
   },
   {
    "duration": 0,
    "start_time": "2022-03-20T01:21:55.824Z"
   },
   {
    "duration": 0,
    "start_time": "2022-03-20T01:21:55.825Z"
   },
   {
    "duration": 0,
    "start_time": "2022-03-20T01:21:55.825Z"
   },
   {
    "duration": 0,
    "start_time": "2022-03-20T01:21:55.826Z"
   },
   {
    "duration": 0,
    "start_time": "2022-03-20T01:21:55.827Z"
   },
   {
    "duration": 0,
    "start_time": "2022-03-20T01:21:55.828Z"
   },
   {
    "duration": 0,
    "start_time": "2022-03-20T01:21:55.829Z"
   },
   {
    "duration": 0,
    "start_time": "2022-03-20T01:21:55.829Z"
   },
   {
    "duration": 0,
    "start_time": "2022-03-20T01:21:55.863Z"
   },
   {
    "duration": 0,
    "start_time": "2022-03-20T01:21:55.864Z"
   },
   {
    "duration": 0,
    "start_time": "2022-03-20T01:21:55.865Z"
   },
   {
    "duration": 0,
    "start_time": "2022-03-20T01:21:55.866Z"
   },
   {
    "duration": 0,
    "start_time": "2022-03-20T01:21:55.867Z"
   },
   {
    "duration": 0,
    "start_time": "2022-03-20T01:21:55.868Z"
   },
   {
    "duration": 0,
    "start_time": "2022-03-20T01:21:55.869Z"
   },
   {
    "duration": 0,
    "start_time": "2022-03-20T01:21:55.870Z"
   },
   {
    "duration": 0,
    "start_time": "2022-03-20T01:21:55.871Z"
   },
   {
    "duration": 0,
    "start_time": "2022-03-20T01:21:55.872Z"
   },
   {
    "duration": 0,
    "start_time": "2022-03-20T01:21:55.873Z"
   },
   {
    "duration": 0,
    "start_time": "2022-03-20T01:21:55.874Z"
   },
   {
    "duration": 0,
    "start_time": "2022-03-20T01:21:55.875Z"
   },
   {
    "duration": 225,
    "start_time": "2022-03-20T01:26:35.707Z"
   },
   {
    "duration": 139,
    "start_time": "2022-03-20T01:27:02.587Z"
   },
   {
    "duration": 172,
    "start_time": "2022-03-20T01:27:27.861Z"
   },
   {
    "duration": 158,
    "start_time": "2022-03-20T01:27:44.590Z"
   },
   {
    "duration": 168,
    "start_time": "2022-03-20T01:27:52.644Z"
   },
   {
    "duration": 265,
    "start_time": "2022-03-20T01:28:12.800Z"
   },
   {
    "duration": 172,
    "start_time": "2022-03-20T01:28:33.387Z"
   },
   {
    "duration": 165,
    "start_time": "2022-03-20T01:29:57.131Z"
   },
   {
    "duration": 294,
    "start_time": "2022-03-20T01:32:05.170Z"
   },
   {
    "duration": 9,
    "start_time": "2022-03-20T01:32:13.864Z"
   },
   {
    "duration": 601,
    "start_time": "2022-03-20T01:32:47.524Z"
   },
   {
    "duration": 15,
    "start_time": "2022-03-20T01:33:48.760Z"
   },
   {
    "duration": 10,
    "start_time": "2022-03-20T01:34:53.570Z"
   },
   {
    "duration": 106,
    "start_time": "2022-03-20T01:35:06.084Z"
   },
   {
    "duration": 504,
    "start_time": "2022-03-20T01:35:21.312Z"
   },
   {
    "duration": 508,
    "start_time": "2022-03-20T01:35:27.011Z"
   },
   {
    "duration": 615,
    "start_time": "2022-03-20T01:35:33.302Z"
   },
   {
    "duration": 6,
    "start_time": "2022-03-20T01:36:40.665Z"
   },
   {
    "duration": 496,
    "start_time": "2022-03-20T01:36:41.699Z"
   },
   {
    "duration": 142,
    "start_time": "2022-03-20T01:36:45.588Z"
   },
   {
    "duration": 148,
    "start_time": "2022-03-20T01:36:50.177Z"
   },
   {
    "duration": 147,
    "start_time": "2022-03-20T01:36:57.974Z"
   },
   {
    "duration": 282,
    "start_time": "2022-03-20T01:37:51.714Z"
   },
   {
    "duration": 164,
    "start_time": "2022-03-20T01:38:06.360Z"
   },
   {
    "duration": 157,
    "start_time": "2022-03-20T01:38:12.591Z"
   },
   {
    "duration": 162,
    "start_time": "2022-03-20T01:38:17.390Z"
   },
   {
    "duration": 162,
    "start_time": "2022-03-20T01:38:26.777Z"
   },
   {
    "duration": 158,
    "start_time": "2022-03-20T01:38:43.530Z"
   },
   {
    "duration": 4,
    "start_time": "2022-03-20T01:39:01.394Z"
   },
   {
    "duration": 53,
    "start_time": "2022-03-20T01:39:01.399Z"
   },
   {
    "duration": 32,
    "start_time": "2022-03-20T01:39:01.454Z"
   },
   {
    "duration": 14,
    "start_time": "2022-03-20T01:39:01.489Z"
   },
   {
    "duration": 58,
    "start_time": "2022-03-20T01:39:01.506Z"
   },
   {
    "duration": 14,
    "start_time": "2022-03-20T01:39:01.566Z"
   },
   {
    "duration": 29,
    "start_time": "2022-03-20T01:39:01.582Z"
   },
   {
    "duration": 7,
    "start_time": "2022-03-20T01:39:01.613Z"
   },
   {
    "duration": 14,
    "start_time": "2022-03-20T01:39:01.622Z"
   },
   {
    "duration": 8,
    "start_time": "2022-03-20T01:39:01.638Z"
   },
   {
    "duration": 107,
    "start_time": "2022-03-20T01:39:01.648Z"
   },
   {
    "duration": 6,
    "start_time": "2022-03-20T01:39:01.757Z"
   },
   {
    "duration": 11,
    "start_time": "2022-03-20T01:39:01.765Z"
   },
   {
    "duration": 26,
    "start_time": "2022-03-20T01:39:01.780Z"
   },
   {
    "duration": 37,
    "start_time": "2022-03-20T01:39:01.809Z"
   },
   {
    "duration": 51,
    "start_time": "2022-03-20T01:39:01.848Z"
   },
   {
    "duration": 17,
    "start_time": "2022-03-20T01:39:01.901Z"
   },
   {
    "duration": 29,
    "start_time": "2022-03-20T01:39:01.920Z"
   },
   {
    "duration": 32,
    "start_time": "2022-03-20T01:39:01.950Z"
   },
   {
    "duration": 270,
    "start_time": "2022-03-20T01:39:01.984Z"
   },
   {
    "duration": 223,
    "start_time": "2022-03-20T01:39:02.255Z"
   },
   {
    "duration": 28,
    "start_time": "2022-03-20T01:39:02.480Z"
   },
   {
    "duration": 23,
    "start_time": "2022-03-20T01:39:02.511Z"
   },
   {
    "duration": 187,
    "start_time": "2022-03-20T01:39:02.536Z"
   },
   {
    "duration": 169,
    "start_time": "2022-03-20T01:39:02.725Z"
   },
   {
    "duration": 279,
    "start_time": "2022-03-20T01:39:02.896Z"
   },
   {
    "duration": 177,
    "start_time": "2022-03-20T01:39:03.176Z"
   },
   {
    "duration": 21,
    "start_time": "2022-03-20T01:39:03.355Z"
   },
   {
    "duration": 2,
    "start_time": "2022-03-20T01:39:03.378Z"
   },
   {
    "duration": 22,
    "start_time": "2022-03-20T01:39:03.382Z"
   },
   {
    "duration": 100,
    "start_time": "2022-03-20T01:39:03.405Z"
   },
   {
    "duration": 7,
    "start_time": "2022-03-20T01:39:03.506Z"
   },
   {
    "duration": 257,
    "start_time": "2022-03-20T01:39:03.515Z"
   },
   {
    "duration": 226,
    "start_time": "2022-03-20T01:39:03.774Z"
   },
   {
    "duration": 23,
    "start_time": "2022-03-20T01:39:04.002Z"
   },
   {
    "duration": 40,
    "start_time": "2022-03-20T01:39:04.027Z"
   },
   {
    "duration": 4,
    "start_time": "2022-03-20T01:39:04.068Z"
   },
   {
    "duration": 18,
    "start_time": "2022-03-20T01:39:04.074Z"
   },
   {
    "duration": 28,
    "start_time": "2022-03-20T01:39:04.093Z"
   },
   {
    "duration": 44,
    "start_time": "2022-03-20T01:39:04.122Z"
   },
   {
    "duration": 78,
    "start_time": "2022-03-20T01:39:04.171Z"
   },
   {
    "duration": 14,
    "start_time": "2022-03-20T01:39:04.251Z"
   },
   {
    "duration": 7,
    "start_time": "2022-03-20T01:39:04.267Z"
   },
   {
    "duration": 9,
    "start_time": "2022-03-20T01:39:04.275Z"
   },
   {
    "duration": 16,
    "start_time": "2022-03-20T01:39:04.285Z"
   },
   {
    "duration": 16,
    "start_time": "2022-03-20T01:39:04.302Z"
   },
   {
    "duration": 316,
    "start_time": "2022-03-20T01:39:04.319Z"
   },
   {
    "duration": 7,
    "start_time": "2022-03-20T01:39:04.636Z"
   },
   {
    "duration": 172,
    "start_time": "2022-03-20T01:39:04.644Z"
   },
   {
    "duration": 15,
    "start_time": "2022-03-20T01:39:04.818Z"
   },
   {
    "duration": 436,
    "start_time": "2022-03-20T01:39:04.834Z"
   },
   {
    "duration": 404,
    "start_time": "2022-03-20T01:39:05.273Z"
   },
   {
    "duration": 7,
    "start_time": "2022-03-20T01:39:05.679Z"
   },
   {
    "duration": 14,
    "start_time": "2022-03-20T01:39:05.688Z"
   },
   {
    "duration": 32,
    "start_time": "2022-03-20T01:39:05.704Z"
   },
   {
    "duration": 255,
    "start_time": "2022-03-20T01:39:05.763Z"
   },
   {
    "duration": 28,
    "start_time": "2022-03-20T01:39:06.020Z"
   },
   {
    "duration": 141,
    "start_time": "2022-03-20T01:39:06.049Z"
   },
   {
    "duration": 110,
    "start_time": "2022-03-20T01:39:06.192Z"
   },
   {
    "duration": 13,
    "start_time": "2022-03-20T01:39:06.304Z"
   },
   {
    "duration": 0,
    "start_time": "2022-03-20T01:39:06.319Z"
   },
   {
    "duration": 0,
    "start_time": "2022-03-20T01:39:06.320Z"
   },
   {
    "duration": 0,
    "start_time": "2022-03-20T01:39:06.321Z"
   },
   {
    "duration": 0,
    "start_time": "2022-03-20T01:39:06.322Z"
   },
   {
    "duration": 0,
    "start_time": "2022-03-20T01:39:06.323Z"
   },
   {
    "duration": 0,
    "start_time": "2022-03-20T01:39:06.324Z"
   },
   {
    "duration": 0,
    "start_time": "2022-03-20T01:39:06.325Z"
   },
   {
    "duration": 0,
    "start_time": "2022-03-20T01:39:06.326Z"
   },
   {
    "duration": 0,
    "start_time": "2022-03-20T01:39:06.327Z"
   },
   {
    "duration": 0,
    "start_time": "2022-03-20T01:39:06.328Z"
   },
   {
    "duration": 0,
    "start_time": "2022-03-20T01:39:06.329Z"
   },
   {
    "duration": 0,
    "start_time": "2022-03-20T01:39:06.330Z"
   },
   {
    "duration": 0,
    "start_time": "2022-03-20T01:39:06.363Z"
   },
   {
    "duration": 0,
    "start_time": "2022-03-20T01:39:06.364Z"
   },
   {
    "duration": 0,
    "start_time": "2022-03-20T01:39:06.365Z"
   },
   {
    "duration": 0,
    "start_time": "2022-03-20T01:39:06.366Z"
   },
   {
    "duration": 0,
    "start_time": "2022-03-20T01:39:06.367Z"
   },
   {
    "duration": 0,
    "start_time": "2022-03-20T01:39:06.368Z"
   },
   {
    "duration": 0,
    "start_time": "2022-03-20T01:39:06.369Z"
   },
   {
    "duration": 346,
    "start_time": "2022-03-20T01:41:43.877Z"
   },
   {
    "duration": 342,
    "start_time": "2022-03-20T01:41:52.004Z"
   },
   {
    "duration": 326,
    "start_time": "2022-03-20T01:42:05.386Z"
   },
   {
    "duration": 165,
    "start_time": "2022-03-20T01:42:25.727Z"
   },
   {
    "duration": 103,
    "start_time": "2022-03-20T01:42:41.092Z"
   },
   {
    "duration": 455,
    "start_time": "2022-03-20T01:42:52.789Z"
   },
   {
    "duration": 7,
    "start_time": "2022-03-20T01:43:02.825Z"
   },
   {
    "duration": 159,
    "start_time": "2022-03-20T01:43:03.377Z"
   },
   {
    "duration": 160,
    "start_time": "2022-03-20T01:44:02.501Z"
   },
   {
    "duration": 202,
    "start_time": "2022-03-20T01:44:08.872Z"
   },
   {
    "duration": 236,
    "start_time": "2022-03-20T01:44:35.114Z"
   },
   {
    "duration": 220,
    "start_time": "2022-03-20T01:44:41.619Z"
   },
   {
    "duration": 187,
    "start_time": "2022-03-20T01:44:58.693Z"
   },
   {
    "duration": 156,
    "start_time": "2022-03-20T01:45:03.764Z"
   },
   {
    "duration": 154,
    "start_time": "2022-03-20T01:45:11.582Z"
   },
   {
    "duration": 283,
    "start_time": "2022-03-20T01:45:18.828Z"
   },
   {
    "duration": 190,
    "start_time": "2022-03-20T01:45:25.416Z"
   },
   {
    "duration": 183,
    "start_time": "2022-03-20T01:45:31.707Z"
   },
   {
    "duration": 180,
    "start_time": "2022-03-20T01:45:36.247Z"
   },
   {
    "duration": 191,
    "start_time": "2022-03-20T01:46:42.155Z"
   },
   {
    "duration": 172,
    "start_time": "2022-03-20T01:46:50.732Z"
   },
   {
    "duration": 174,
    "start_time": "2022-03-20T01:46:58.736Z"
   },
   {
    "duration": 179,
    "start_time": "2022-03-20T01:47:10.433Z"
   },
   {
    "duration": 197,
    "start_time": "2022-03-20T01:49:09.934Z"
   },
   {
    "duration": 173,
    "start_time": "2022-03-20T01:49:25.033Z"
   },
   {
    "duration": 164,
    "start_time": "2022-03-20T01:49:33.405Z"
   },
   {
    "duration": 257,
    "start_time": "2022-03-20T01:49:47.072Z"
   },
   {
    "duration": 139,
    "start_time": "2022-03-20T01:50:23.493Z"
   },
   {
    "duration": 138,
    "start_time": "2022-03-20T01:51:21.430Z"
   },
   {
    "duration": 14,
    "start_time": "2022-03-20T01:52:13.227Z"
   },
   {
    "duration": 0,
    "start_time": "2022-03-20T01:52:13.243Z"
   },
   {
    "duration": 0,
    "start_time": "2022-03-20T01:52:13.244Z"
   },
   {
    "duration": 0,
    "start_time": "2022-03-20T01:52:13.245Z"
   },
   {
    "duration": 0,
    "start_time": "2022-03-20T01:52:13.246Z"
   },
   {
    "duration": 0,
    "start_time": "2022-03-20T01:52:13.247Z"
   },
   {
    "duration": 0,
    "start_time": "2022-03-20T01:52:13.248Z"
   },
   {
    "duration": 0,
    "start_time": "2022-03-20T01:52:13.249Z"
   },
   {
    "duration": 0,
    "start_time": "2022-03-20T01:52:13.250Z"
   },
   {
    "duration": 0,
    "start_time": "2022-03-20T01:52:13.251Z"
   },
   {
    "duration": 0,
    "start_time": "2022-03-20T01:52:13.252Z"
   },
   {
    "duration": 0,
    "start_time": "2022-03-20T01:52:13.253Z"
   },
   {
    "duration": 0,
    "start_time": "2022-03-20T01:52:13.254Z"
   },
   {
    "duration": 0,
    "start_time": "2022-03-20T01:52:13.255Z"
   },
   {
    "duration": 0,
    "start_time": "2022-03-20T01:52:13.256Z"
   },
   {
    "duration": 0,
    "start_time": "2022-03-20T01:52:13.257Z"
   },
   {
    "duration": 8,
    "start_time": "2022-03-20T01:52:13.259Z"
   },
   {
    "duration": 11,
    "start_time": "2022-03-20T01:52:13.268Z"
   },
   {
    "duration": 9,
    "start_time": "2022-03-20T01:52:13.281Z"
   },
   {
    "duration": 6,
    "start_time": "2022-03-20T01:52:13.292Z"
   },
   {
    "duration": 3,
    "start_time": "2022-03-20T01:52:28.272Z"
   },
   {
    "duration": 38,
    "start_time": "2022-03-20T01:52:28.277Z"
   },
   {
    "duration": 25,
    "start_time": "2022-03-20T01:52:28.317Z"
   },
   {
    "duration": 12,
    "start_time": "2022-03-20T01:52:28.363Z"
   },
   {
    "duration": 26,
    "start_time": "2022-03-20T01:52:28.377Z"
   },
   {
    "duration": 12,
    "start_time": "2022-03-20T01:52:28.405Z"
   },
   {
    "duration": 18,
    "start_time": "2022-03-20T01:52:28.419Z"
   },
   {
    "duration": 25,
    "start_time": "2022-03-20T01:52:28.439Z"
   },
   {
    "duration": 4,
    "start_time": "2022-03-20T01:52:28.466Z"
   },
   {
    "duration": 7,
    "start_time": "2022-03-20T01:52:28.472Z"
   },
   {
    "duration": 134,
    "start_time": "2022-03-20T01:52:28.481Z"
   },
   {
    "duration": 6,
    "start_time": "2022-03-20T01:52:28.616Z"
   },
   {
    "duration": 4,
    "start_time": "2022-03-20T01:52:28.623Z"
   },
   {
    "duration": 7,
    "start_time": "2022-03-20T01:52:28.631Z"
   },
   {
    "duration": 24,
    "start_time": "2022-03-20T01:52:28.640Z"
   },
   {
    "duration": 18,
    "start_time": "2022-03-20T01:52:28.665Z"
   },
   {
    "duration": 20,
    "start_time": "2022-03-20T01:52:28.685Z"
   },
   {
    "duration": 13,
    "start_time": "2022-03-20T01:52:28.706Z"
   },
   {
    "duration": 44,
    "start_time": "2022-03-20T01:52:28.720Z"
   },
   {
    "duration": 306,
    "start_time": "2022-03-20T01:52:28.766Z"
   },
   {
    "duration": 243,
    "start_time": "2022-03-20T01:52:29.074Z"
   },
   {
    "duration": 25,
    "start_time": "2022-03-20T01:52:29.319Z"
   },
   {
    "duration": 33,
    "start_time": "2022-03-20T01:52:29.346Z"
   },
   {
    "duration": 223,
    "start_time": "2022-03-20T01:52:29.381Z"
   },
   {
    "duration": 212,
    "start_time": "2022-03-20T01:52:29.606Z"
   },
   {
    "duration": 207,
    "start_time": "2022-03-20T01:52:29.819Z"
   },
   {
    "duration": 325,
    "start_time": "2022-03-20T01:52:30.028Z"
   },
   {
    "duration": 19,
    "start_time": "2022-03-20T01:52:30.362Z"
   },
   {
    "duration": 3,
    "start_time": "2022-03-20T01:52:30.382Z"
   },
   {
    "duration": 28,
    "start_time": "2022-03-20T01:52:30.386Z"
   },
   {
    "duration": 92,
    "start_time": "2022-03-20T01:52:30.416Z"
   },
   {
    "duration": 7,
    "start_time": "2022-03-20T01:52:30.509Z"
   },
   {
    "duration": 405,
    "start_time": "2022-03-20T01:52:30.517Z"
   },
   {
    "duration": 272,
    "start_time": "2022-03-20T01:52:30.923Z"
   },
   {
    "duration": 24,
    "start_time": "2022-03-20T01:52:31.197Z"
   },
   {
    "duration": 42,
    "start_time": "2022-03-20T01:52:31.222Z"
   },
   {
    "duration": 4,
    "start_time": "2022-03-20T01:52:31.265Z"
   },
   {
    "duration": 23,
    "start_time": "2022-03-20T01:52:31.271Z"
   },
   {
    "duration": 27,
    "start_time": "2022-03-20T01:52:31.295Z"
   },
   {
    "duration": 45,
    "start_time": "2022-03-20T01:52:31.324Z"
   },
   {
    "duration": 90,
    "start_time": "2022-03-20T01:52:31.373Z"
   },
   {
    "duration": 6,
    "start_time": "2022-03-20T01:52:31.465Z"
   },
   {
    "duration": 16,
    "start_time": "2022-03-20T01:52:31.473Z"
   },
   {
    "duration": 11,
    "start_time": "2022-03-20T01:52:31.491Z"
   },
   {
    "duration": 18,
    "start_time": "2022-03-20T01:52:31.503Z"
   },
   {
    "duration": 18,
    "start_time": "2022-03-20T01:52:31.523Z"
   },
   {
    "duration": 432,
    "start_time": "2022-03-20T01:52:31.543Z"
   },
   {
    "duration": 7,
    "start_time": "2022-03-20T01:52:31.977Z"
   },
   {
    "duration": 200,
    "start_time": "2022-03-20T01:52:31.985Z"
   },
   {
    "duration": 16,
    "start_time": "2022-03-20T01:52:32.187Z"
   },
   {
    "duration": 535,
    "start_time": "2022-03-20T01:52:32.204Z"
   },
   {
    "duration": 355,
    "start_time": "2022-03-20T01:52:32.741Z"
   },
   {
    "duration": 8,
    "start_time": "2022-03-20T01:52:33.098Z"
   },
   {
    "duration": 16,
    "start_time": "2022-03-20T01:52:33.108Z"
   },
   {
    "duration": 52,
    "start_time": "2022-03-20T01:52:33.126Z"
   },
   {
    "duration": 306,
    "start_time": "2022-03-20T01:52:33.180Z"
   },
   {
    "duration": 25,
    "start_time": "2022-03-20T01:52:33.488Z"
   },
   {
    "duration": 312,
    "start_time": "2022-03-20T01:52:33.515Z"
   },
   {
    "duration": 158,
    "start_time": "2022-03-20T01:52:33.829Z"
   },
   {
    "duration": 16,
    "start_time": "2022-03-20T01:52:33.988Z"
   },
   {
    "duration": 0,
    "start_time": "2022-03-20T01:52:34.006Z"
   },
   {
    "duration": 0,
    "start_time": "2022-03-20T01:52:34.007Z"
   },
   {
    "duration": 0,
    "start_time": "2022-03-20T01:52:34.008Z"
   },
   {
    "duration": 0,
    "start_time": "2022-03-20T01:52:34.009Z"
   },
   {
    "duration": 0,
    "start_time": "2022-03-20T01:52:34.010Z"
   },
   {
    "duration": 0,
    "start_time": "2022-03-20T01:52:34.011Z"
   },
   {
    "duration": 0,
    "start_time": "2022-03-20T01:52:34.012Z"
   },
   {
    "duration": 0,
    "start_time": "2022-03-20T01:52:34.013Z"
   },
   {
    "duration": 0,
    "start_time": "2022-03-20T01:52:34.014Z"
   },
   {
    "duration": 0,
    "start_time": "2022-03-20T01:52:34.015Z"
   },
   {
    "duration": 0,
    "start_time": "2022-03-20T01:52:34.015Z"
   },
   {
    "duration": 0,
    "start_time": "2022-03-20T01:52:34.016Z"
   },
   {
    "duration": 0,
    "start_time": "2022-03-20T01:52:34.017Z"
   },
   {
    "duration": 0,
    "start_time": "2022-03-20T01:52:34.018Z"
   },
   {
    "duration": 0,
    "start_time": "2022-03-20T01:52:34.019Z"
   },
   {
    "duration": 0,
    "start_time": "2022-03-20T01:52:34.019Z"
   },
   {
    "duration": 0,
    "start_time": "2022-03-20T01:52:34.021Z"
   },
   {
    "duration": 0,
    "start_time": "2022-03-20T01:52:34.021Z"
   },
   {
    "duration": 0,
    "start_time": "2022-03-20T01:52:34.063Z"
   },
   {
    "duration": 30,
    "start_time": "2022-03-20T01:52:56.198Z"
   },
   {
    "duration": 159,
    "start_time": "2022-03-20T01:52:58.562Z"
   },
   {
    "duration": 169,
    "start_time": "2022-03-20T01:53:01.920Z"
   },
   {
    "duration": 17,
    "start_time": "2022-03-20T01:53:02.092Z"
   },
   {
    "duration": 16,
    "start_time": "2022-03-20T01:53:02.111Z"
   },
   {
    "duration": 20,
    "start_time": "2022-03-20T01:53:02.128Z"
   },
   {
    "duration": 23,
    "start_time": "2022-03-20T01:53:02.150Z"
   },
   {
    "duration": 248,
    "start_time": "2022-03-20T01:53:02.175Z"
   },
   {
    "duration": 9,
    "start_time": "2022-03-20T01:53:02.425Z"
   },
   {
    "duration": 11,
    "start_time": "2022-03-20T01:53:02.435Z"
   },
   {
    "duration": 9,
    "start_time": "2022-03-20T01:53:02.463Z"
   },
   {
    "duration": 322,
    "start_time": "2022-03-20T01:53:02.473Z"
   },
   {
    "duration": 8,
    "start_time": "2022-03-20T01:53:02.797Z"
   },
   {
    "duration": 10,
    "start_time": "2022-03-20T01:53:02.807Z"
   },
   {
    "duration": 6,
    "start_time": "2022-03-20T01:53:02.819Z"
   },
   {
    "duration": 212,
    "start_time": "2022-03-20T01:53:02.828Z"
   },
   {
    "duration": 21,
    "start_time": "2022-03-20T01:53:03.042Z"
   },
   {
    "duration": 8,
    "start_time": "2022-03-20T01:53:03.065Z"
   },
   {
    "duration": 11,
    "start_time": "2022-03-20T01:53:03.075Z"
   },
   {
    "duration": 7,
    "start_time": "2022-03-20T01:53:03.087Z"
   },
   {
    "duration": 135,
    "start_time": "2022-03-20T01:55:05.676Z"
   },
   {
    "duration": 153,
    "start_time": "2022-03-20T01:55:13.848Z"
   },
   {
    "duration": 154,
    "start_time": "2022-03-20T01:55:18.820Z"
   },
   {
    "duration": 134,
    "start_time": "2022-03-20T01:55:23.881Z"
   },
   {
    "duration": 4,
    "start_time": "2022-03-20T01:55:29.474Z"
   },
   {
    "duration": 3,
    "start_time": "2022-03-20T01:55:31.306Z"
   },
   {
    "duration": 46,
    "start_time": "2022-03-20T01:55:31.311Z"
   },
   {
    "duration": 29,
    "start_time": "2022-03-20T01:55:31.359Z"
   },
   {
    "duration": 12,
    "start_time": "2022-03-20T01:55:31.389Z"
   },
   {
    "duration": 30,
    "start_time": "2022-03-20T01:55:31.403Z"
   },
   {
    "duration": 40,
    "start_time": "2022-03-20T01:55:31.434Z"
   },
   {
    "duration": 19,
    "start_time": "2022-03-20T01:55:31.475Z"
   },
   {
    "duration": 5,
    "start_time": "2022-03-20T01:55:31.495Z"
   },
   {
    "duration": 5,
    "start_time": "2022-03-20T01:55:31.501Z"
   },
   {
    "duration": 7,
    "start_time": "2022-03-20T01:55:31.507Z"
   },
   {
    "duration": 121,
    "start_time": "2022-03-20T01:55:31.515Z"
   },
   {
    "duration": 5,
    "start_time": "2022-03-20T01:55:31.638Z"
   },
   {
    "duration": 17,
    "start_time": "2022-03-20T01:55:31.646Z"
   },
   {
    "duration": 6,
    "start_time": "2022-03-20T01:55:31.664Z"
   },
   {
    "duration": 8,
    "start_time": "2022-03-20T01:55:31.671Z"
   },
   {
    "duration": 17,
    "start_time": "2022-03-20T01:55:31.680Z"
   },
   {
    "duration": 21,
    "start_time": "2022-03-20T01:55:31.698Z"
   },
   {
    "duration": 15,
    "start_time": "2022-03-20T01:55:31.720Z"
   },
   {
    "duration": 46,
    "start_time": "2022-03-20T01:55:31.736Z"
   },
   {
    "duration": 291,
    "start_time": "2022-03-20T01:55:31.783Z"
   },
   {
    "duration": 237,
    "start_time": "2022-03-20T01:55:32.076Z"
   },
   {
    "duration": 26,
    "start_time": "2022-03-20T01:55:32.315Z"
   },
   {
    "duration": 34,
    "start_time": "2022-03-20T01:55:32.342Z"
   },
   {
    "duration": 218,
    "start_time": "2022-03-20T01:55:32.378Z"
   },
   {
    "duration": 321,
    "start_time": "2022-03-20T01:55:32.597Z"
   },
   {
    "duration": 206,
    "start_time": "2022-03-20T01:55:32.919Z"
   },
   {
    "duration": 210,
    "start_time": "2022-03-20T01:55:33.127Z"
   },
   {
    "duration": 24,
    "start_time": "2022-03-20T01:55:33.339Z"
   },
   {
    "duration": 8,
    "start_time": "2022-03-20T01:55:33.365Z"
   },
   {
    "duration": 29,
    "start_time": "2022-03-20T01:55:33.375Z"
   },
   {
    "duration": 85,
    "start_time": "2022-03-20T01:55:33.406Z"
   },
   {
    "duration": 7,
    "start_time": "2022-03-20T01:55:33.492Z"
   },
   {
    "duration": 298,
    "start_time": "2022-03-20T01:55:33.500Z"
   },
   {
    "duration": 284,
    "start_time": "2022-03-20T01:55:33.799Z"
   },
   {
    "duration": 23,
    "start_time": "2022-03-20T01:55:34.085Z"
   },
   {
    "duration": 56,
    "start_time": "2022-03-20T01:55:34.110Z"
   },
   {
    "duration": 4,
    "start_time": "2022-03-20T01:55:34.170Z"
   },
   {
    "duration": 46,
    "start_time": "2022-03-20T01:55:34.175Z"
   },
   {
    "duration": 45,
    "start_time": "2022-03-20T01:55:34.222Z"
   },
   {
    "duration": 27,
    "start_time": "2022-03-20T01:55:34.269Z"
   },
   {
    "duration": 103,
    "start_time": "2022-03-20T01:55:34.297Z"
   },
   {
    "duration": 5,
    "start_time": "2022-03-20T01:55:34.401Z"
   },
   {
    "duration": 9,
    "start_time": "2022-03-20T01:55:34.408Z"
   },
   {
    "duration": 15,
    "start_time": "2022-03-20T01:55:34.418Z"
   },
   {
    "duration": 19,
    "start_time": "2022-03-20T01:55:34.434Z"
   },
   {
    "duration": 20,
    "start_time": "2022-03-20T01:55:34.455Z"
   },
   {
    "duration": 484,
    "start_time": "2022-03-20T01:55:34.476Z"
   },
   {
    "duration": 7,
    "start_time": "2022-03-20T01:55:34.962Z"
   },
   {
    "duration": 293,
    "start_time": "2022-03-20T01:55:34.970Z"
   },
   {
    "duration": 15,
    "start_time": "2022-03-20T01:55:35.265Z"
   },
   {
    "duration": 591,
    "start_time": "2022-03-20T01:55:35.282Z"
   },
   {
    "duration": 468,
    "start_time": "2022-03-20T01:55:35.875Z"
   },
   {
    "duration": 19,
    "start_time": "2022-03-20T01:55:36.344Z"
   },
   {
    "duration": 14,
    "start_time": "2022-03-20T01:55:36.365Z"
   },
   {
    "duration": 30,
    "start_time": "2022-03-20T01:55:36.381Z"
   },
   {
    "duration": 316,
    "start_time": "2022-03-20T01:55:36.413Z"
   },
   {
    "duration": 37,
    "start_time": "2022-03-20T01:55:36.730Z"
   },
   {
    "duration": 173,
    "start_time": "2022-03-20T01:55:36.769Z"
   },
   {
    "duration": 148,
    "start_time": "2022-03-20T01:55:36.943Z"
   },
   {
    "duration": 28,
    "start_time": "2022-03-20T01:55:37.092Z"
   },
   {
    "duration": 272,
    "start_time": "2022-03-20T01:55:37.121Z"
   },
   {
    "duration": 171,
    "start_time": "2022-03-20T01:55:37.395Z"
   },
   {
    "duration": 14,
    "start_time": "2022-03-20T01:55:37.567Z"
   },
   {
    "duration": 17,
    "start_time": "2022-03-20T01:55:37.583Z"
   },
   {
    "duration": 29,
    "start_time": "2022-03-20T01:55:37.602Z"
   },
   {
    "duration": 17,
    "start_time": "2022-03-20T01:55:37.632Z"
   },
   {
    "duration": 251,
    "start_time": "2022-03-20T01:55:37.651Z"
   },
   {
    "duration": 7,
    "start_time": "2022-03-20T01:55:37.903Z"
   },
   {
    "duration": 25,
    "start_time": "2022-03-20T01:55:37.911Z"
   },
   {
    "duration": 37,
    "start_time": "2022-03-20T01:55:37.937Z"
   },
   {
    "duration": 211,
    "start_time": "2022-03-20T01:55:37.975Z"
   },
   {
    "duration": 8,
    "start_time": "2022-03-20T01:55:38.188Z"
   },
   {
    "duration": 9,
    "start_time": "2022-03-20T01:55:38.197Z"
   },
   {
    "duration": 7,
    "start_time": "2022-03-20T01:55:38.207Z"
   },
   {
    "duration": 320,
    "start_time": "2022-03-20T01:55:38.215Z"
   },
   {
    "duration": 9,
    "start_time": "2022-03-20T01:55:38.537Z"
   },
   {
    "duration": 20,
    "start_time": "2022-03-20T01:55:38.547Z"
   },
   {
    "duration": 13,
    "start_time": "2022-03-20T01:55:38.568Z"
   },
   {
    "duration": 13,
    "start_time": "2022-03-20T01:55:38.582Z"
   },
   {
    "duration": 288,
    "start_time": "2022-03-20T01:57:49.286Z"
   },
   {
    "duration": 253,
    "start_time": "2022-03-20T01:58:11.174Z"
   },
   {
    "duration": 223,
    "start_time": "2022-03-20T01:58:27.114Z"
   },
   {
    "duration": 228,
    "start_time": "2022-03-20T01:58:34.638Z"
   },
   {
    "duration": 523,
    "start_time": "2022-03-20T02:00:39.736Z"
   },
   {
    "duration": 526,
    "start_time": "2022-03-20T02:00:50.036Z"
   },
   {
    "duration": 584,
    "start_time": "2022-03-20T02:01:58.480Z"
   },
   {
    "duration": 305,
    "start_time": "2022-03-20T02:03:10.482Z"
   },
   {
    "duration": 319,
    "start_time": "2022-03-20T02:03:17.896Z"
   },
   {
    "duration": 196,
    "start_time": "2022-03-20T02:11:24.906Z"
   },
   {
    "duration": 188,
    "start_time": "2022-03-20T02:11:38.191Z"
   },
   {
    "duration": 5,
    "start_time": "2022-03-20T02:12:25.523Z"
   },
   {
    "duration": 5,
    "start_time": "2022-03-20T02:12:42.876Z"
   },
   {
    "duration": 5,
    "start_time": "2022-03-20T02:13:03.130Z"
   },
   {
    "duration": 6,
    "start_time": "2022-03-20T02:13:13.320Z"
   },
   {
    "duration": 5,
    "start_time": "2022-03-20T02:15:06.331Z"
   },
   {
    "duration": 6,
    "start_time": "2022-03-20T02:15:16.679Z"
   },
   {
    "duration": 6,
    "start_time": "2022-03-20T02:16:21.270Z"
   },
   {
    "duration": 5,
    "start_time": "2022-03-20T02:16:24.638Z"
   },
   {
    "duration": 17,
    "start_time": "2022-03-20T02:17:01.001Z"
   },
   {
    "duration": 231,
    "start_time": "2022-03-20T02:19:40.639Z"
   },
   {
    "duration": 225,
    "start_time": "2022-03-20T02:19:47.728Z"
   },
   {
    "duration": 226,
    "start_time": "2022-03-20T02:19:54.739Z"
   },
   {
    "duration": 222,
    "start_time": "2022-03-20T02:20:12.408Z"
   },
   {
    "duration": 330,
    "start_time": "2022-03-20T02:20:27.847Z"
   },
   {
    "duration": 230,
    "start_time": "2022-03-20T02:20:34.237Z"
   },
   {
    "duration": 219,
    "start_time": "2022-03-20T02:21:07.564Z"
   },
   {
    "duration": 249,
    "start_time": "2022-03-20T02:21:49.380Z"
   },
   {
    "duration": 289,
    "start_time": "2022-03-20T02:22:08.324Z"
   },
   {
    "duration": 283,
    "start_time": "2022-03-20T02:22:19.992Z"
   },
   {
    "duration": 230,
    "start_time": "2022-03-20T02:22:33.275Z"
   },
   {
    "duration": 233,
    "start_time": "2022-03-20T02:22:52.166Z"
   },
   {
    "duration": 210,
    "start_time": "2022-03-20T02:23:56.136Z"
   },
   {
    "duration": 229,
    "start_time": "2022-03-20T02:24:05.254Z"
   },
   {
    "duration": 219,
    "start_time": "2022-03-20T02:24:12.698Z"
   },
   {
    "duration": 73,
    "start_time": "2022-03-20T02:27:01.170Z"
   },
   {
    "duration": 6,
    "start_time": "2022-03-20T02:27:06.615Z"
   },
   {
    "duration": 317,
    "start_time": "2022-03-20T02:34:40.980Z"
   },
   {
    "duration": 20,
    "start_time": "2022-03-20T02:35:23.467Z"
   },
   {
    "duration": 14,
    "start_time": "2022-03-20T02:35:40.312Z"
   },
   {
    "duration": 29,
    "start_time": "2022-03-20T02:35:48.573Z"
   },
   {
    "duration": 15,
    "start_time": "2022-03-20T02:35:51.071Z"
   },
   {
    "duration": 15,
    "start_time": "2022-03-20T02:36:08.892Z"
   },
   {
    "duration": 15,
    "start_time": "2022-03-20T02:36:33.037Z"
   },
   {
    "duration": 9,
    "start_time": "2022-03-20T02:36:40.286Z"
   },
   {
    "duration": 14,
    "start_time": "2022-03-20T02:36:47.828Z"
   },
   {
    "duration": 15,
    "start_time": "2022-03-20T02:37:29.451Z"
   },
   {
    "duration": 14,
    "start_time": "2022-03-20T02:37:54.906Z"
   },
   {
    "duration": 141,
    "start_time": "2022-03-20T02:38:07.812Z"
   },
   {
    "duration": 16,
    "start_time": "2022-03-20T02:38:13.729Z"
   },
   {
    "duration": 14,
    "start_time": "2022-03-20T02:38:39.281Z"
   },
   {
    "duration": 16,
    "start_time": "2022-03-20T02:38:48.851Z"
   },
   {
    "duration": 16,
    "start_time": "2022-03-20T02:40:52.945Z"
   },
   {
    "duration": 15,
    "start_time": "2022-03-20T02:41:03.175Z"
   },
   {
    "duration": 16,
    "start_time": "2022-03-20T02:41:11.505Z"
   },
   {
    "duration": 13,
    "start_time": "2022-03-20T02:42:00.295Z"
   },
   {
    "duration": 3,
    "start_time": "2022-03-20T02:43:40.393Z"
   },
   {
    "duration": 36,
    "start_time": "2022-03-20T02:43:40.398Z"
   },
   {
    "duration": 24,
    "start_time": "2022-03-20T02:43:40.436Z"
   },
   {
    "duration": 12,
    "start_time": "2022-03-20T02:43:40.461Z"
   },
   {
    "duration": 26,
    "start_time": "2022-03-20T02:43:40.474Z"
   },
   {
    "duration": 12,
    "start_time": "2022-03-20T02:43:40.502Z"
   },
   {
    "duration": 17,
    "start_time": "2022-03-20T02:43:40.516Z"
   },
   {
    "duration": 29,
    "start_time": "2022-03-20T02:43:40.534Z"
   },
   {
    "duration": 4,
    "start_time": "2022-03-20T02:43:40.565Z"
   },
   {
    "duration": 7,
    "start_time": "2022-03-20T02:43:40.570Z"
   },
   {
    "duration": 125,
    "start_time": "2022-03-20T02:43:40.579Z"
   },
   {
    "duration": 5,
    "start_time": "2022-03-20T02:43:40.706Z"
   },
   {
    "duration": 5,
    "start_time": "2022-03-20T02:43:40.712Z"
   },
   {
    "duration": 9,
    "start_time": "2022-03-20T02:43:40.719Z"
   },
   {
    "duration": 7,
    "start_time": "2022-03-20T02:43:40.729Z"
   },
   {
    "duration": 33,
    "start_time": "2022-03-20T02:43:40.737Z"
   },
   {
    "duration": 18,
    "start_time": "2022-03-20T02:43:40.772Z"
   },
   {
    "duration": 13,
    "start_time": "2022-03-20T02:43:40.792Z"
   },
   {
    "duration": 19,
    "start_time": "2022-03-20T02:43:40.806Z"
   },
   {
    "duration": 323,
    "start_time": "2022-03-20T02:43:40.827Z"
   },
   {
    "duration": 242,
    "start_time": "2022-03-20T02:43:41.152Z"
   },
   {
    "duration": 27,
    "start_time": "2022-03-20T02:43:41.396Z"
   },
   {
    "duration": 40,
    "start_time": "2022-03-20T02:43:41.424Z"
   },
   {
    "duration": 231,
    "start_time": "2022-03-20T02:43:41.466Z"
   },
   {
    "duration": 225,
    "start_time": "2022-03-20T02:43:41.699Z"
   },
   {
    "duration": 231,
    "start_time": "2022-03-20T02:43:41.926Z"
   },
   {
    "duration": 245,
    "start_time": "2022-03-20T02:43:42.159Z"
   },
   {
    "duration": 28,
    "start_time": "2022-03-20T02:43:42.407Z"
   },
   {
    "duration": 6,
    "start_time": "2022-03-20T02:43:42.441Z"
   },
   {
    "duration": 29,
    "start_time": "2022-03-20T02:43:42.449Z"
   },
   {
    "duration": 89,
    "start_time": "2022-03-20T02:43:42.480Z"
   },
   {
    "duration": 6,
    "start_time": "2022-03-20T02:43:42.571Z"
   },
   {
    "duration": 285,
    "start_time": "2022-03-20T02:43:42.579Z"
   },
   {
    "duration": 251,
    "start_time": "2022-03-20T02:43:42.866Z"
   },
   {
    "duration": 25,
    "start_time": "2022-03-20T02:43:43.119Z"
   },
   {
    "duration": 42,
    "start_time": "2022-03-20T02:43:43.145Z"
   },
   {
    "duration": 4,
    "start_time": "2022-03-20T02:43:43.188Z"
   },
   {
    "duration": 23,
    "start_time": "2022-03-20T02:43:43.194Z"
   },
   {
    "duration": 44,
    "start_time": "2022-03-20T02:43:43.219Z"
   },
   {
    "duration": 20,
    "start_time": "2022-03-20T02:43:43.265Z"
   },
   {
    "duration": 215,
    "start_time": "2022-03-20T02:43:43.287Z"
   },
   {
    "duration": 5,
    "start_time": "2022-03-20T02:43:43.503Z"
   },
   {
    "duration": 8,
    "start_time": "2022-03-20T02:43:43.509Z"
   },
   {
    "duration": 8,
    "start_time": "2022-03-20T02:43:43.518Z"
   },
   {
    "duration": 17,
    "start_time": "2022-03-20T02:43:43.527Z"
   },
   {
    "duration": 19,
    "start_time": "2022-03-20T02:43:43.563Z"
   },
   {
    "duration": 407,
    "start_time": "2022-03-20T02:43:43.584Z"
   },
   {
    "duration": 7,
    "start_time": "2022-03-20T02:43:43.992Z"
   },
   {
    "duration": 224,
    "start_time": "2022-03-20T02:43:44.001Z"
   },
   {
    "duration": 16,
    "start_time": "2022-03-20T02:43:44.226Z"
   },
   {
    "duration": 519,
    "start_time": "2022-03-20T02:43:44.243Z"
   },
   {
    "duration": 384,
    "start_time": "2022-03-20T02:43:44.764Z"
   },
   {
    "duration": 2,
    "start_time": "2022-03-20T02:43:45.150Z"
   },
   {
    "duration": 14,
    "start_time": "2022-03-20T02:43:45.163Z"
   },
   {
    "duration": 29,
    "start_time": "2022-03-20T02:43:45.178Z"
   },
   {
    "duration": 135,
    "start_time": "2022-03-20T02:43:45.208Z"
   },
   {
    "duration": 27,
    "start_time": "2022-03-20T02:43:45.344Z"
   },
   {
    "duration": 195,
    "start_time": "2022-03-20T02:43:45.373Z"
   },
   {
    "duration": 5,
    "start_time": "2022-03-20T02:43:45.569Z"
   },
   {
    "duration": 171,
    "start_time": "2022-03-20T02:43:45.576Z"
   },
   {
    "duration": 5,
    "start_time": "2022-03-20T02:43:45.749Z"
   },
   {
    "duration": 28,
    "start_time": "2022-03-20T02:43:45.763Z"
   },
   {
    "duration": 186,
    "start_time": "2022-03-20T02:43:45.793Z"
   },
   {
    "duration": 5,
    "start_time": "2022-03-20T02:43:45.980Z"
   },
   {
    "duration": 311,
    "start_time": "2022-03-20T02:43:45.987Z"
   },
   {
    "duration": 6,
    "start_time": "2022-03-20T02:43:46.299Z"
   },
   {
    "duration": 15,
    "start_time": "2022-03-20T02:43:46.306Z"
   },
   {
    "duration": 6,
    "start_time": "2022-03-20T02:43:46.323Z"
   },
   {
    "duration": 33,
    "start_time": "2022-03-20T02:43:46.331Z"
   },
   {
    "duration": 8,
    "start_time": "2022-03-20T02:43:46.365Z"
   },
   {
    "duration": 235,
    "start_time": "2022-03-20T02:43:46.374Z"
   },
   {
    "duration": 8,
    "start_time": "2022-03-20T02:43:46.610Z"
   },
   {
    "duration": 7,
    "start_time": "2022-03-20T02:43:46.619Z"
   },
   {
    "duration": 7,
    "start_time": "2022-03-20T02:43:46.627Z"
   },
   {
    "duration": 289,
    "start_time": "2022-03-20T02:43:46.635Z"
   },
   {
    "duration": 8,
    "start_time": "2022-03-20T02:43:46.925Z"
   },
   {
    "duration": 9,
    "start_time": "2022-03-20T02:43:46.934Z"
   },
   {
    "duration": 25,
    "start_time": "2022-03-20T02:43:46.944Z"
   },
   {
    "duration": 259,
    "start_time": "2022-03-20T02:43:46.971Z"
   },
   {
    "duration": 8,
    "start_time": "2022-03-20T02:43:47.231Z"
   },
   {
    "duration": 7,
    "start_time": "2022-03-20T02:43:47.241Z"
   },
   {
    "duration": 8,
    "start_time": "2022-03-20T02:43:47.264Z"
   },
   {
    "duration": 5,
    "start_time": "2022-03-20T02:43:47.277Z"
   },
   {
    "duration": 15,
    "start_time": "2022-03-20T02:45:38.183Z"
   },
   {
    "duration": 199,
    "start_time": "2022-03-20T02:45:51.308Z"
   },
   {
    "duration": 202,
    "start_time": "2022-03-20T02:46:20.292Z"
   },
   {
    "duration": 4,
    "start_time": "2022-03-20T02:46:48.726Z"
   },
   {
    "duration": 38,
    "start_time": "2022-03-20T02:46:48.732Z"
   },
   {
    "duration": 25,
    "start_time": "2022-03-20T02:46:48.771Z"
   },
   {
    "duration": 12,
    "start_time": "2022-03-20T02:46:48.798Z"
   },
   {
    "duration": 54,
    "start_time": "2022-03-20T02:46:48.811Z"
   },
   {
    "duration": 13,
    "start_time": "2022-03-20T02:46:48.867Z"
   },
   {
    "duration": 22,
    "start_time": "2022-03-20T02:46:48.881Z"
   },
   {
    "duration": 4,
    "start_time": "2022-03-20T02:46:48.904Z"
   },
   {
    "duration": 4,
    "start_time": "2022-03-20T02:46:48.910Z"
   },
   {
    "duration": 12,
    "start_time": "2022-03-20T02:46:48.916Z"
   },
   {
    "duration": 118,
    "start_time": "2022-03-20T02:46:48.929Z"
   },
   {
    "duration": 5,
    "start_time": "2022-03-20T02:46:49.049Z"
   },
   {
    "duration": 3,
    "start_time": "2022-03-20T02:46:49.063Z"
   },
   {
    "duration": 11,
    "start_time": "2022-03-20T02:46:49.067Z"
   },
   {
    "duration": 6,
    "start_time": "2022-03-20T02:46:49.080Z"
   },
   {
    "duration": 20,
    "start_time": "2022-03-20T02:46:49.087Z"
   },
   {
    "duration": 17,
    "start_time": "2022-03-20T02:46:49.109Z"
   },
   {
    "duration": 38,
    "start_time": "2022-03-20T02:46:49.128Z"
   },
   {
    "duration": 21,
    "start_time": "2022-03-20T02:46:49.168Z"
   },
   {
    "duration": 291,
    "start_time": "2022-03-20T02:46:49.190Z"
   },
   {
    "duration": 238,
    "start_time": "2022-03-20T02:46:49.483Z"
   },
   {
    "duration": 26,
    "start_time": "2022-03-20T02:46:49.723Z"
   },
   {
    "duration": 33,
    "start_time": "2022-03-20T02:46:49.751Z"
   },
   {
    "duration": 237,
    "start_time": "2022-03-20T02:46:49.788Z"
   },
   {
    "duration": 230,
    "start_time": "2022-03-20T02:46:50.026Z"
   },
   {
    "duration": 339,
    "start_time": "2022-03-20T02:46:50.257Z"
   },
   {
    "duration": 227,
    "start_time": "2022-03-20T02:46:50.597Z"
   },
   {
    "duration": 18,
    "start_time": "2022-03-20T02:46:50.826Z"
   },
   {
    "duration": 2,
    "start_time": "2022-03-20T02:46:50.846Z"
   },
   {
    "duration": 21,
    "start_time": "2022-03-20T02:46:50.862Z"
   },
   {
    "duration": 93,
    "start_time": "2022-03-20T02:46:50.884Z"
   },
   {
    "duration": 6,
    "start_time": "2022-03-20T02:46:50.979Z"
   },
   {
    "duration": 302,
    "start_time": "2022-03-20T02:46:50.986Z"
   },
   {
    "duration": 258,
    "start_time": "2022-03-20T02:46:51.289Z"
   },
   {
    "duration": 26,
    "start_time": "2022-03-20T02:46:51.549Z"
   },
   {
    "duration": 24,
    "start_time": "2022-03-20T02:46:51.576Z"
   },
   {
    "duration": 4,
    "start_time": "2022-03-20T02:46:51.601Z"
   },
   {
    "duration": 21,
    "start_time": "2022-03-20T02:46:51.607Z"
   },
   {
    "duration": 47,
    "start_time": "2022-03-20T02:46:51.630Z"
   },
   {
    "duration": 19,
    "start_time": "2022-03-20T02:46:51.679Z"
   },
   {
    "duration": 95,
    "start_time": "2022-03-20T02:46:51.700Z"
   },
   {
    "duration": 5,
    "start_time": "2022-03-20T02:46:51.797Z"
   },
   {
    "duration": 6,
    "start_time": "2022-03-20T02:46:51.803Z"
   },
   {
    "duration": 8,
    "start_time": "2022-03-20T02:46:51.810Z"
   },
   {
    "duration": 15,
    "start_time": "2022-03-20T02:46:51.819Z"
   },
   {
    "duration": 42,
    "start_time": "2022-03-20T02:46:51.836Z"
   },
   {
    "duration": 398,
    "start_time": "2022-03-20T02:46:51.879Z"
   },
   {
    "duration": 7,
    "start_time": "2022-03-20T02:46:52.279Z"
   },
   {
    "duration": 229,
    "start_time": "2022-03-20T02:46:52.287Z"
   },
   {
    "duration": 15,
    "start_time": "2022-03-20T02:46:52.518Z"
   },
   {
    "duration": 504,
    "start_time": "2022-03-20T02:46:52.535Z"
   },
   {
    "duration": 585,
    "start_time": "2022-03-20T02:46:53.041Z"
   },
   {
    "duration": 2,
    "start_time": "2022-03-20T02:46:53.628Z"
   },
   {
    "duration": 15,
    "start_time": "2022-03-20T02:46:53.632Z"
   },
   {
    "duration": 40,
    "start_time": "2022-03-20T02:46:53.649Z"
   },
   {
    "duration": 191,
    "start_time": "2022-03-20T02:46:53.690Z"
   },
   {
    "duration": 23,
    "start_time": "2022-03-20T02:46:53.883Z"
   },
   {
    "duration": 203,
    "start_time": "2022-03-20T02:46:53.908Z"
   },
   {
    "duration": 5,
    "start_time": "2022-03-20T02:46:54.112Z"
   },
   {
    "duration": 176,
    "start_time": "2022-03-20T02:46:54.119Z"
   },
   {
    "duration": 5,
    "start_time": "2022-03-20T02:46:54.297Z"
   },
   {
    "duration": 31,
    "start_time": "2022-03-20T02:46:54.303Z"
   },
   {
    "duration": 188,
    "start_time": "2022-03-20T02:46:54.336Z"
   },
   {
    "duration": 5,
    "start_time": "2022-03-20T02:46:54.525Z"
   },
   {
    "duration": 188,
    "start_time": "2022-03-20T02:46:54.532Z"
   },
   {
    "duration": 5,
    "start_time": "2022-03-20T02:46:54.722Z"
   },
   {
    "duration": 16,
    "start_time": "2022-03-20T02:46:54.728Z"
   },
   {
    "duration": 21,
    "start_time": "2022-03-20T02:46:54.746Z"
   },
   {
    "duration": 6,
    "start_time": "2022-03-20T02:46:54.772Z"
   },
   {
    "duration": 10,
    "start_time": "2022-03-20T02:46:54.779Z"
   },
   {
    "duration": 247,
    "start_time": "2022-03-20T02:46:54.790Z"
   },
   {
    "duration": 9,
    "start_time": "2022-03-20T02:46:55.038Z"
   },
   {
    "duration": 20,
    "start_time": "2022-03-20T02:46:55.049Z"
   },
   {
    "duration": 7,
    "start_time": "2022-03-20T02:46:55.071Z"
   },
   {
    "duration": 290,
    "start_time": "2022-03-20T02:46:55.080Z"
   },
   {
    "duration": 9,
    "start_time": "2022-03-20T02:46:55.373Z"
   },
   {
    "duration": 8,
    "start_time": "2022-03-20T02:46:55.384Z"
   },
   {
    "duration": 7,
    "start_time": "2022-03-20T02:46:55.394Z"
   },
   {
    "duration": 279,
    "start_time": "2022-03-20T02:46:55.403Z"
   },
   {
    "duration": 10,
    "start_time": "2022-03-20T02:46:55.684Z"
   },
   {
    "duration": 7,
    "start_time": "2022-03-20T02:46:55.695Z"
   },
   {
    "duration": 11,
    "start_time": "2022-03-20T02:46:55.703Z"
   },
   {
    "duration": 4,
    "start_time": "2022-03-20T02:46:55.716Z"
   },
   {
    "duration": 3,
    "start_time": "2022-03-20T02:51:15.928Z"
   },
   {
    "duration": 4,
    "start_time": "2022-03-20T02:51:21.087Z"
   },
   {
    "duration": 40,
    "start_time": "2022-03-20T02:51:21.093Z"
   },
   {
    "duration": 24,
    "start_time": "2022-03-20T02:51:21.135Z"
   },
   {
    "duration": 12,
    "start_time": "2022-03-20T02:51:21.160Z"
   },
   {
    "duration": 27,
    "start_time": "2022-03-20T02:51:21.174Z"
   },
   {
    "duration": 15,
    "start_time": "2022-03-20T02:51:21.202Z"
   },
   {
    "duration": 46,
    "start_time": "2022-03-20T02:51:21.218Z"
   },
   {
    "duration": 4,
    "start_time": "2022-03-20T02:51:21.266Z"
   },
   {
    "duration": 6,
    "start_time": "2022-03-20T02:51:21.272Z"
   },
   {
    "duration": 6,
    "start_time": "2022-03-20T02:51:21.279Z"
   },
   {
    "duration": 116,
    "start_time": "2022-03-20T02:51:21.287Z"
   },
   {
    "duration": 6,
    "start_time": "2022-03-20T02:51:21.405Z"
   },
   {
    "duration": 7,
    "start_time": "2022-03-20T02:51:21.414Z"
   },
   {
    "duration": 11,
    "start_time": "2022-03-20T02:51:21.422Z"
   },
   {
    "duration": 7,
    "start_time": "2022-03-20T02:51:21.434Z"
   },
   {
    "duration": 31,
    "start_time": "2022-03-20T02:51:21.443Z"
   },
   {
    "duration": 19,
    "start_time": "2022-03-20T02:51:21.476Z"
   },
   {
    "duration": 15,
    "start_time": "2022-03-20T02:51:21.497Z"
   },
   {
    "duration": 21,
    "start_time": "2022-03-20T02:51:21.513Z"
   },
   {
    "duration": 293,
    "start_time": "2022-03-20T02:51:21.564Z"
   },
   {
    "duration": 234,
    "start_time": "2022-03-20T02:51:21.862Z"
   },
   {
    "duration": 26,
    "start_time": "2022-03-20T02:51:22.097Z"
   },
   {
    "duration": 40,
    "start_time": "2022-03-20T02:51:22.124Z"
   },
   {
    "duration": 357,
    "start_time": "2022-03-20T02:51:22.165Z"
   },
   {
    "duration": 222,
    "start_time": "2022-03-20T02:51:22.524Z"
   },
   {
    "duration": 223,
    "start_time": "2022-03-20T02:51:22.747Z"
   },
   {
    "duration": 238,
    "start_time": "2022-03-20T02:51:22.972Z"
   },
   {
    "duration": 18,
    "start_time": "2022-03-20T02:51:23.212Z"
   },
   {
    "duration": 3,
    "start_time": "2022-03-20T02:51:23.231Z"
   },
   {
    "duration": 40,
    "start_time": "2022-03-20T02:51:23.235Z"
   },
   {
    "duration": 87,
    "start_time": "2022-03-20T02:51:23.277Z"
   },
   {
    "duration": 5,
    "start_time": "2022-03-20T02:51:23.366Z"
   },
   {
    "duration": 292,
    "start_time": "2022-03-20T02:51:23.373Z"
   },
   {
    "duration": 264,
    "start_time": "2022-03-20T02:51:23.666Z"
   },
   {
    "duration": 32,
    "start_time": "2022-03-20T02:51:23.932Z"
   },
   {
    "duration": 24,
    "start_time": "2022-03-20T02:51:23.965Z"
   },
   {
    "duration": 4,
    "start_time": "2022-03-20T02:51:23.994Z"
   },
   {
    "duration": 21,
    "start_time": "2022-03-20T02:51:23.999Z"
   },
   {
    "duration": 49,
    "start_time": "2022-03-20T02:51:24.021Z"
   },
   {
    "duration": 20,
    "start_time": "2022-03-20T02:51:24.072Z"
   },
   {
    "duration": 98,
    "start_time": "2022-03-20T02:51:24.094Z"
   },
   {
    "duration": 5,
    "start_time": "2022-03-20T02:51:24.194Z"
   },
   {
    "duration": 8,
    "start_time": "2022-03-20T02:51:24.201Z"
   },
   {
    "duration": 8,
    "start_time": "2022-03-20T02:51:24.211Z"
   },
   {
    "duration": 15,
    "start_time": "2022-03-20T02:51:24.221Z"
   },
   {
    "duration": 33,
    "start_time": "2022-03-20T02:51:24.238Z"
   },
   {
    "duration": 409,
    "start_time": "2022-03-20T02:51:24.272Z"
   },
   {
    "duration": 7,
    "start_time": "2022-03-20T02:51:24.683Z"
   },
   {
    "duration": 230,
    "start_time": "2022-03-20T02:51:24.692Z"
   },
   {
    "duration": 14,
    "start_time": "2022-03-20T02:51:24.924Z"
   },
   {
    "duration": 616,
    "start_time": "2022-03-20T02:51:24.940Z"
   },
   {
    "duration": 365,
    "start_time": "2022-03-20T02:51:25.558Z"
   },
   {
    "duration": 2,
    "start_time": "2022-03-20T02:51:25.925Z"
   },
   {
    "duration": 37,
    "start_time": "2022-03-20T02:51:25.928Z"
   },
   {
    "duration": 42,
    "start_time": "2022-03-20T02:51:25.967Z"
   },
   {
    "duration": 183,
    "start_time": "2022-03-20T02:51:26.010Z"
   },
   {
    "duration": 23,
    "start_time": "2022-03-20T02:51:26.194Z"
   },
   {
    "duration": 192,
    "start_time": "2022-03-20T02:51:26.218Z"
   },
   {
    "duration": 4,
    "start_time": "2022-03-20T02:51:26.412Z"
   },
   {
    "duration": 181,
    "start_time": "2022-03-20T02:51:26.418Z"
   },
   {
    "duration": 5,
    "start_time": "2022-03-20T02:51:26.600Z"
   },
   {
    "duration": 32,
    "start_time": "2022-03-20T02:51:26.607Z"
   },
   {
    "duration": 182,
    "start_time": "2022-03-20T02:51:26.641Z"
   },
   {
    "duration": 5,
    "start_time": "2022-03-20T02:51:26.825Z"
   },
   {
    "duration": 190,
    "start_time": "2022-03-20T02:51:26.831Z"
   },
   {
    "duration": 6,
    "start_time": "2022-03-20T02:51:27.023Z"
   },
   {
    "duration": 18,
    "start_time": "2022-03-20T02:51:27.030Z"
   },
   {
    "duration": 8,
    "start_time": "2022-03-20T02:51:27.062Z"
   },
   {
    "duration": 10,
    "start_time": "2022-03-20T02:51:27.072Z"
   },
   {
    "duration": 25,
    "start_time": "2022-03-20T02:51:27.084Z"
   },
   {
    "duration": 225,
    "start_time": "2022-03-20T02:51:27.111Z"
   },
   {
    "duration": 9,
    "start_time": "2022-03-20T02:51:27.338Z"
   },
   {
    "duration": 19,
    "start_time": "2022-03-20T02:51:27.349Z"
   },
   {
    "duration": 30,
    "start_time": "2022-03-20T02:51:27.370Z"
   },
   {
    "duration": 277,
    "start_time": "2022-03-20T02:51:27.401Z"
   },
   {
    "duration": 9,
    "start_time": "2022-03-20T02:51:27.680Z"
   },
   {
    "duration": 8,
    "start_time": "2022-03-20T02:51:27.691Z"
   },
   {
    "duration": 17,
    "start_time": "2022-03-20T02:51:27.701Z"
   },
   {
    "duration": 249,
    "start_time": "2022-03-20T02:51:27.719Z"
   },
   {
    "duration": 8,
    "start_time": "2022-03-20T02:51:27.969Z"
   },
   {
    "duration": 15,
    "start_time": "2022-03-20T02:51:27.978Z"
   },
   {
    "duration": 21,
    "start_time": "2022-03-20T02:51:27.995Z"
   },
   {
    "duration": 13,
    "start_time": "2022-03-20T02:51:28.018Z"
   },
   {
    "duration": 1295,
    "start_time": "2022-03-20T06:16:25.316Z"
   },
   {
    "duration": 42,
    "start_time": "2022-03-20T06:16:26.613Z"
   },
   {
    "duration": 27,
    "start_time": "2022-03-20T06:16:26.793Z"
   },
   {
    "duration": 15,
    "start_time": "2022-03-20T06:16:27.327Z"
   },
   {
    "duration": 26,
    "start_time": "2022-03-20T06:16:27.792Z"
   },
   {
    "duration": 14,
    "start_time": "2022-03-20T06:16:28.475Z"
   },
   {
    "duration": 17,
    "start_time": "2022-03-20T06:16:29.502Z"
   },
   {
    "duration": 6,
    "start_time": "2022-03-20T06:16:30.350Z"
   },
   {
    "duration": 4,
    "start_time": "2022-03-20T06:16:30.777Z"
   },
   {
    "duration": 5,
    "start_time": "2022-03-20T06:16:31.121Z"
   },
   {
    "duration": 104,
    "start_time": "2022-03-20T06:16:31.625Z"
   },
   {
    "duration": 6,
    "start_time": "2022-03-20T06:16:32.009Z"
   },
   {
    "duration": 2,
    "start_time": "2022-03-20T06:16:32.362Z"
   },
   {
    "duration": 7,
    "start_time": "2022-03-20T06:16:46.336Z"
   },
   {
    "duration": 4,
    "start_time": "2022-03-20T06:16:46.539Z"
   },
   {
    "duration": 14,
    "start_time": "2022-03-20T06:16:46.741Z"
   },
   {
    "duration": 18,
    "start_time": "2022-03-20T06:16:46.957Z"
   },
   {
    "duration": 15,
    "start_time": "2022-03-20T06:16:48.016Z"
   },
   {
    "duration": 20,
    "start_time": "2022-03-20T06:16:48.570Z"
   },
   {
    "duration": 257,
    "start_time": "2022-03-20T06:16:49.233Z"
   },
   {
    "duration": 210,
    "start_time": "2022-03-20T06:16:51.556Z"
   },
   {
    "duration": 27,
    "start_time": "2022-03-20T06:16:52.613Z"
   },
   {
    "duration": 23,
    "start_time": "2022-03-20T06:16:53.008Z"
   },
   {
    "duration": 184,
    "start_time": "2022-03-20T06:16:53.439Z"
   },
   {
    "duration": 176,
    "start_time": "2022-03-20T06:16:55.201Z"
   },
   {
    "duration": 169,
    "start_time": "2022-03-20T06:16:56.127Z"
   },
   {
    "duration": 179,
    "start_time": "2022-03-20T06:16:57.628Z"
   },
   {
    "duration": 18,
    "start_time": "2022-03-20T06:17:02.725Z"
   },
   {
    "duration": 3,
    "start_time": "2022-03-20T06:17:03.199Z"
   },
   {
    "duration": 20,
    "start_time": "2022-03-20T06:17:04.962Z"
   },
   {
    "duration": 85,
    "start_time": "2022-03-20T06:17:05.636Z"
   },
   {
    "duration": 6,
    "start_time": "2022-03-20T06:17:07.098Z"
   },
   {
    "duration": 259,
    "start_time": "2022-03-20T06:17:07.562Z"
   },
   {
    "duration": 314,
    "start_time": "2022-03-20T06:17:08.487Z"
   },
   {
    "duration": 23,
    "start_time": "2022-03-20T06:17:10.357Z"
   },
   {
    "duration": 24,
    "start_time": "2022-03-20T06:17:10.887Z"
   },
   {
    "duration": 4,
    "start_time": "2022-03-20T06:17:11.319Z"
   },
   {
    "duration": 17,
    "start_time": "2022-03-20T06:17:13.155Z"
   },
   {
    "duration": 28,
    "start_time": "2022-03-20T06:17:14.120Z"
   },
   {
    "duration": 20,
    "start_time": "2022-03-20T06:17:14.599Z"
   },
   {
    "duration": 78,
    "start_time": "2022-03-20T06:17:15.098Z"
   },
   {
    "duration": 5,
    "start_time": "2022-03-20T06:17:17.824Z"
   },
   {
    "duration": 5,
    "start_time": "2022-03-20T06:17:18.124Z"
   },
   {
    "duration": 6,
    "start_time": "2022-03-20T06:17:18.422Z"
   },
   {
    "duration": 16,
    "start_time": "2022-03-20T06:17:19.929Z"
   },
   {
    "duration": 17,
    "start_time": "2022-03-20T06:17:23.409Z"
   },
   {
    "duration": 342,
    "start_time": "2022-03-20T06:17:23.930Z"
   },
   {
    "duration": 6,
    "start_time": "2022-03-20T06:17:27.486Z"
   },
   {
    "duration": 179,
    "start_time": "2022-03-20T06:17:28.072Z"
   },
   {
    "duration": 14,
    "start_time": "2022-03-20T06:17:37.116Z"
   },
   {
    "duration": 109,
    "start_time": "2022-03-20T06:18:17.185Z"
   },
   {
    "duration": 107,
    "start_time": "2022-03-20T06:18:54.353Z"
   },
   {
    "duration": 288,
    "start_time": "2022-03-20T06:18:59.671Z"
   },
   {
    "duration": 29,
    "start_time": "2022-03-20T06:19:19.573Z"
   },
   {
    "duration": 10,
    "start_time": "2022-03-20T06:19:48.771Z"
   },
   {
    "duration": 282,
    "start_time": "2022-03-20T06:19:55.426Z"
   },
   {
    "duration": 265,
    "start_time": "2022-03-20T06:20:12.360Z"
   },
   {
    "duration": 108,
    "start_time": "2022-03-20T06:21:07.163Z"
   }
  ],
  "kernelspec": {
   "display_name": "Python 3 (ipykernel)",
   "language": "python",
   "name": "python3"
  },
  "language_info": {
   "codemirror_mode": {
    "name": "ipython",
    "version": 3
   },
   "file_extension": ".py",
   "mimetype": "text/x-python",
   "name": "python",
   "nbconvert_exporter": "python",
   "pygments_lexer": "ipython3",
   "version": "3.9.5"
  },
  "toc": {
   "base_numbering": 1,
   "nav_menu": {},
   "number_sections": true,
   "sideBar": true,
   "skip_h1_title": true,
   "title_cell": "Table of Contents",
   "title_sidebar": "Contents",
   "toc_cell": false,
   "toc_position": {},
   "toc_section_display": true,
   "toc_window_display": false
  }
 },
 "nbformat": 4,
 "nbformat_minor": 2
}
