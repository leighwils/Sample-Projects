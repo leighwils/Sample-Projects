{
 "cells": [
  {
   "cell_type": "markdown",
   "metadata": {},
   "source": [
    "# Which one is a better plan?\n",
    "\n",
    "**Project Goal**\n",
    "The company Megaline offers its clients two prepaid plans, Surf and Ultimate. The commercial department wants to know which of the plans brings in more revenue in order to adjust the advertising budget.\n",
    "\n",
    "**Project Description**\n",
    "Megaline provided data on 500 Megaline clients: who the clients are, where they're from, which plan they use, and the number of calls they made and text messages they sent in 2018. I will be analyzing the clients' behavior to determine which prepaid plan brings in more revenue.\n",
    "\n",
    "**Project Plan**\n",
    "* Examine the tables provided by Megaline. \n",
    "* Preprocess the data to ensure the data is ready for analysis. This will include checking for missing data, duplicated rows and the appropriate data types.\n",
    "* Calculate the total revenue according to each plan.\n",
    "* Conduct a statistical analysis to determine if there is a significant difference between the means of each plan's revenue data. "
   ]
  },
  {
   "cell_type": "markdown",
   "metadata": {},
   "source": [
    "## Initialization"
   ]
  },
  {
   "cell_type": "code",
   "execution_count": 1,
   "metadata": {},
   "outputs": [],
   "source": [
    "# Loads all the libraries needed for analysis \n",
    "\n",
    "import pandas as pd\n",
    "import numpy as np\n",
    "import matplotlib.pyplot as plt\n",
    "import seaborn as sns\n",
    "import math\n",
    "from scipy import stats as st\n",
    "import sys\n",
    "import warnings\n",
    "if not sys.warnoptions:\n",
    "        warnings.simplefilter(\"ignore\");  \n"
   ]
  },
  {
   "cell_type": "markdown",
   "metadata": {},
   "source": [
    "## Load data"
   ]
  },
  {
   "cell_type": "code",
   "execution_count": 2,
   "metadata": {},
   "outputs": [],
   "source": [
    "# Loads the data files into DataFrames\n",
    "call_data = pd.read_csv('/datasets/megaline_calls.csv')\n",
    "internet_data = pd.read_csv('/datasets/megaline_internet.csv')\n",
    "message_data = pd.read_csv('/datasets/megaline_messages.csv')\n",
    "plan_data = pd.read_csv('/datasets/megaline_plans.csv') \n",
    "user_data = pd.read_csv('/datasets/megaline_users.csv')\n"
   ]
  },
  {
   "cell_type": "markdown",
   "metadata": {},
   "source": [
    "## Prepare the data"
   ]
  },
  {
   "cell_type": "markdown",
   "metadata": {},
   "source": [
    "In the seconds below, I look at each table and prepare it for analysis, which includes looking for missing data, duplicated rows and appropriate data types. "
   ]
  },
  {
   "cell_type": "markdown",
   "metadata": {},
   "source": [
    "## Plans"
   ]
  },
  {
   "cell_type": "code",
   "execution_count": 3,
   "metadata": {},
   "outputs": [
    {
     "name": "stdout",
     "output_type": "stream",
     "text": [
      "<class 'pandas.core.frame.DataFrame'>\n",
      "RangeIndex: 2 entries, 0 to 1\n",
      "Data columns (total 8 columns):\n",
      "messages_included        2 non-null int64\n",
      "mb_per_month_included    2 non-null int64\n",
      "minutes_included         2 non-null int64\n",
      "usd_monthly_pay          2 non-null int64\n",
      "usd_per_gb               2 non-null int64\n",
      "usd_per_message          2 non-null float64\n",
      "usd_per_minute           2 non-null float64\n",
      "plan_name                2 non-null object\n",
      "dtypes: float64(2), int64(5), object(1)\n",
      "memory usage: 256.0+ bytes\n"
     ]
    },
    {
     "data": {
      "text/plain": [
       "messages_included        0\n",
       "mb_per_month_included    0\n",
       "minutes_included         0\n",
       "usd_monthly_pay          0\n",
       "usd_per_gb               0\n",
       "usd_per_message          0\n",
       "usd_per_minute           0\n",
       "plan_name                0\n",
       "dtype: int64"
      ]
     },
     "execution_count": 3,
     "metadata": {},
     "output_type": "execute_result"
    }
   ],
   "source": [
    "# Print the general/summary information about the plans' DataFrame\n",
    "\n",
    "plan_data.shape\n",
    "\n",
    "plan_data.info()\n",
    "\n",
    "plan_data.isnull().sum()"
   ]
  },
  {
   "cell_type": "code",
   "execution_count": 4,
   "metadata": {},
   "outputs": [
    {
     "data": {
      "text/html": [
       "<div>\n",
       "<style scoped>\n",
       "    .dataframe tbody tr th:only-of-type {\n",
       "        vertical-align: middle;\n",
       "    }\n",
       "\n",
       "    .dataframe tbody tr th {\n",
       "        vertical-align: top;\n",
       "    }\n",
       "\n",
       "    .dataframe thead th {\n",
       "        text-align: right;\n",
       "    }\n",
       "</style>\n",
       "<table border=\"1\" class=\"dataframe\">\n",
       "  <thead>\n",
       "    <tr style=\"text-align: right;\">\n",
       "      <th></th>\n",
       "      <th>messages_included</th>\n",
       "      <th>mb_per_month_included</th>\n",
       "      <th>minutes_included</th>\n",
       "      <th>usd_monthly_pay</th>\n",
       "      <th>usd_per_gb</th>\n",
       "      <th>usd_per_message</th>\n",
       "      <th>usd_per_minute</th>\n",
       "      <th>plan_name</th>\n",
       "    </tr>\n",
       "  </thead>\n",
       "  <tbody>\n",
       "    <tr>\n",
       "      <td>0</td>\n",
       "      <td>50</td>\n",
       "      <td>15360</td>\n",
       "      <td>500</td>\n",
       "      <td>20</td>\n",
       "      <td>10</td>\n",
       "      <td>0.03</td>\n",
       "      <td>0.03</td>\n",
       "      <td>surf</td>\n",
       "    </tr>\n",
       "    <tr>\n",
       "      <td>1</td>\n",
       "      <td>1000</td>\n",
       "      <td>30720</td>\n",
       "      <td>3000</td>\n",
       "      <td>70</td>\n",
       "      <td>7</td>\n",
       "      <td>0.01</td>\n",
       "      <td>0.01</td>\n",
       "      <td>ultimate</td>\n",
       "    </tr>\n",
       "  </tbody>\n",
       "</table>\n",
       "</div>"
      ],
      "text/plain": [
       "   messages_included  mb_per_month_included  minutes_included  \\\n",
       "0                 50                  15360               500   \n",
       "1               1000                  30720              3000   \n",
       "\n",
       "   usd_monthly_pay  usd_per_gb  usd_per_message  usd_per_minute plan_name  \n",
       "0               20          10             0.03            0.03      surf  \n",
       "1               70           7             0.01            0.01  ultimate  "
      ]
     },
     "execution_count": 4,
     "metadata": {},
     "output_type": "execute_result"
    }
   ],
   "source": [
    "# Print a sample of data for plans\n",
    "\n",
    "plan_data.head()\n"
   ]
  },
  {
   "cell_type": "markdown",
   "metadata": {},
   "source": [
    "**Initial Observations**\n",
    "* The plans dataframe appears to be a summary of the two plans: Surf and Ultimate.\n",
    "* There are only two rows and no null values. \n",
    "* It appears that one of the plans is more expensive but includes more messages, MB per month and minutes.\n",
    "* All of the data types seem to make sense.\n",
    "\n",
    "Based on the above observations, no changes were needed."
   ]
  },
  {
   "cell_type": "markdown",
   "metadata": {},
   "source": [
    " "
   ]
  },
  {
   "cell_type": "markdown",
   "metadata": {},
   "source": [
    "## Users"
   ]
  },
  {
   "cell_type": "code",
   "execution_count": 5,
   "metadata": {},
   "outputs": [
    {
     "name": "stdout",
     "output_type": "stream",
     "text": [
      "<class 'pandas.core.frame.DataFrame'>\n",
      "RangeIndex: 500 entries, 0 to 499\n",
      "Data columns (total 8 columns):\n",
      "user_id       500 non-null int64\n",
      "first_name    500 non-null object\n",
      "last_name     500 non-null object\n",
      "age           500 non-null int64\n",
      "city          500 non-null object\n",
      "reg_date      500 non-null object\n",
      "plan          500 non-null object\n",
      "churn_date    34 non-null object\n",
      "dtypes: int64(2), object(6)\n",
      "memory usage: 31.4+ KB\n"
     ]
    },
    {
     "data": {
      "text/plain": [
       "user_id         0\n",
       "first_name      0\n",
       "last_name       0\n",
       "age             0\n",
       "city            0\n",
       "reg_date        0\n",
       "plan            0\n",
       "churn_date    466\n",
       "dtype: int64"
      ]
     },
     "execution_count": 5,
     "metadata": {},
     "output_type": "execute_result"
    }
   ],
   "source": [
    "# Prints the general/summary information about the users' DataFrame\n",
    "\n",
    "user_data.shape\n",
    "\n",
    "user_data.info()\n",
    "\n",
    "user_data.isnull().sum()\n"
   ]
  },
  {
   "cell_type": "code",
   "execution_count": 6,
   "metadata": {},
   "outputs": [
    {
     "data": {
      "text/html": [
       "<div>\n",
       "<style scoped>\n",
       "    .dataframe tbody tr th:only-of-type {\n",
       "        vertical-align: middle;\n",
       "    }\n",
       "\n",
       "    .dataframe tbody tr th {\n",
       "        vertical-align: top;\n",
       "    }\n",
       "\n",
       "    .dataframe thead th {\n",
       "        text-align: right;\n",
       "    }\n",
       "</style>\n",
       "<table border=\"1\" class=\"dataframe\">\n",
       "  <thead>\n",
       "    <tr style=\"text-align: right;\">\n",
       "      <th></th>\n",
       "      <th>user_id</th>\n",
       "      <th>first_name</th>\n",
       "      <th>last_name</th>\n",
       "      <th>age</th>\n",
       "      <th>city</th>\n",
       "      <th>reg_date</th>\n",
       "      <th>plan</th>\n",
       "      <th>churn_date</th>\n",
       "    </tr>\n",
       "  </thead>\n",
       "  <tbody>\n",
       "    <tr>\n",
       "      <td>0</td>\n",
       "      <td>1000</td>\n",
       "      <td>Anamaria</td>\n",
       "      <td>Bauer</td>\n",
       "      <td>45</td>\n",
       "      <td>Atlanta-Sandy Springs-Roswell, GA MSA</td>\n",
       "      <td>2018-12-24</td>\n",
       "      <td>ultimate</td>\n",
       "      <td>NaN</td>\n",
       "    </tr>\n",
       "    <tr>\n",
       "      <td>1</td>\n",
       "      <td>1001</td>\n",
       "      <td>Mickey</td>\n",
       "      <td>Wilkerson</td>\n",
       "      <td>28</td>\n",
       "      <td>Seattle-Tacoma-Bellevue, WA MSA</td>\n",
       "      <td>2018-08-13</td>\n",
       "      <td>surf</td>\n",
       "      <td>NaN</td>\n",
       "    </tr>\n",
       "    <tr>\n",
       "      <td>2</td>\n",
       "      <td>1002</td>\n",
       "      <td>Carlee</td>\n",
       "      <td>Hoffman</td>\n",
       "      <td>36</td>\n",
       "      <td>Las Vegas-Henderson-Paradise, NV MSA</td>\n",
       "      <td>2018-10-21</td>\n",
       "      <td>surf</td>\n",
       "      <td>NaN</td>\n",
       "    </tr>\n",
       "    <tr>\n",
       "      <td>3</td>\n",
       "      <td>1003</td>\n",
       "      <td>Reynaldo</td>\n",
       "      <td>Jenkins</td>\n",
       "      <td>52</td>\n",
       "      <td>Tulsa, OK MSA</td>\n",
       "      <td>2018-01-28</td>\n",
       "      <td>surf</td>\n",
       "      <td>NaN</td>\n",
       "    </tr>\n",
       "    <tr>\n",
       "      <td>4</td>\n",
       "      <td>1004</td>\n",
       "      <td>Leonila</td>\n",
       "      <td>Thompson</td>\n",
       "      <td>40</td>\n",
       "      <td>Seattle-Tacoma-Bellevue, WA MSA</td>\n",
       "      <td>2018-05-23</td>\n",
       "      <td>surf</td>\n",
       "      <td>NaN</td>\n",
       "    </tr>\n",
       "    <tr>\n",
       "      <td>5</td>\n",
       "      <td>1005</td>\n",
       "      <td>Livia</td>\n",
       "      <td>Shields</td>\n",
       "      <td>31</td>\n",
       "      <td>Dallas-Fort Worth-Arlington, TX MSA</td>\n",
       "      <td>2018-11-29</td>\n",
       "      <td>surf</td>\n",
       "      <td>NaN</td>\n",
       "    </tr>\n",
       "    <tr>\n",
       "      <td>6</td>\n",
       "      <td>1006</td>\n",
       "      <td>Jesusa</td>\n",
       "      <td>Bradford</td>\n",
       "      <td>73</td>\n",
       "      <td>San Francisco-Oakland-Berkeley, CA MSA</td>\n",
       "      <td>2018-11-27</td>\n",
       "      <td>ultimate</td>\n",
       "      <td>2018-12-18</td>\n",
       "    </tr>\n",
       "    <tr>\n",
       "      <td>7</td>\n",
       "      <td>1007</td>\n",
       "      <td>Eusebio</td>\n",
       "      <td>Welch</td>\n",
       "      <td>42</td>\n",
       "      <td>Grand Rapids-Kentwood, MI MSA</td>\n",
       "      <td>2018-07-11</td>\n",
       "      <td>surf</td>\n",
       "      <td>NaN</td>\n",
       "    </tr>\n",
       "    <tr>\n",
       "      <td>8</td>\n",
       "      <td>1008</td>\n",
       "      <td>Emely</td>\n",
       "      <td>Hoffman</td>\n",
       "      <td>53</td>\n",
       "      <td>Orlando-Kissimmee-Sanford, FL MSA</td>\n",
       "      <td>2018-08-03</td>\n",
       "      <td>ultimate</td>\n",
       "      <td>NaN</td>\n",
       "    </tr>\n",
       "    <tr>\n",
       "      <td>9</td>\n",
       "      <td>1009</td>\n",
       "      <td>Gerry</td>\n",
       "      <td>Little</td>\n",
       "      <td>19</td>\n",
       "      <td>San Jose-Sunnyvale-Santa Clara, CA MSA</td>\n",
       "      <td>2018-04-22</td>\n",
       "      <td>surf</td>\n",
       "      <td>NaN</td>\n",
       "    </tr>\n",
       "  </tbody>\n",
       "</table>\n",
       "</div>"
      ],
      "text/plain": [
       "   user_id first_name  last_name  age                                    city  \\\n",
       "0     1000   Anamaria      Bauer   45   Atlanta-Sandy Springs-Roswell, GA MSA   \n",
       "1     1001     Mickey  Wilkerson   28         Seattle-Tacoma-Bellevue, WA MSA   \n",
       "2     1002     Carlee    Hoffman   36    Las Vegas-Henderson-Paradise, NV MSA   \n",
       "3     1003   Reynaldo    Jenkins   52                           Tulsa, OK MSA   \n",
       "4     1004    Leonila   Thompson   40         Seattle-Tacoma-Bellevue, WA MSA   \n",
       "5     1005      Livia    Shields   31     Dallas-Fort Worth-Arlington, TX MSA   \n",
       "6     1006     Jesusa   Bradford   73  San Francisco-Oakland-Berkeley, CA MSA   \n",
       "7     1007    Eusebio      Welch   42           Grand Rapids-Kentwood, MI MSA   \n",
       "8     1008      Emely    Hoffman   53       Orlando-Kissimmee-Sanford, FL MSA   \n",
       "9     1009      Gerry     Little   19  San Jose-Sunnyvale-Santa Clara, CA MSA   \n",
       "\n",
       "     reg_date      plan  churn_date  \n",
       "0  2018-12-24  ultimate         NaN  \n",
       "1  2018-08-13      surf         NaN  \n",
       "2  2018-10-21      surf         NaN  \n",
       "3  2018-01-28      surf         NaN  \n",
       "4  2018-05-23      surf         NaN  \n",
       "5  2018-11-29      surf         NaN  \n",
       "6  2018-11-27  ultimate  2018-12-18  \n",
       "7  2018-07-11      surf         NaN  \n",
       "8  2018-08-03  ultimate         NaN  \n",
       "9  2018-04-22      surf         NaN  "
      ]
     },
     "execution_count": 6,
     "metadata": {},
     "output_type": "execute_result"
    }
   ],
   "source": [
    "# Prints a sample of data for users\n",
    "\n",
    "user_data.head(10)\n"
   ]
  },
  {
   "cell_type": "code",
   "execution_count": 7,
   "metadata": {},
   "outputs": [
    {
     "data": {
      "text/plain": [
       "0"
      ]
     },
     "execution_count": 7,
     "metadata": {},
     "output_type": "execute_result"
    }
   ],
   "source": [
    "# Checks for duplicates\n",
    "\n",
    "user_data.duplicated().sum()"
   ]
  },
  {
   "cell_type": "code",
   "execution_count": 8,
   "metadata": {},
   "outputs": [
    {
     "data": {
      "text/html": [
       "<div>\n",
       "<style scoped>\n",
       "    .dataframe tbody tr th:only-of-type {\n",
       "        vertical-align: middle;\n",
       "    }\n",
       "\n",
       "    .dataframe tbody tr th {\n",
       "        vertical-align: top;\n",
       "    }\n",
       "\n",
       "    .dataframe thead th {\n",
       "        text-align: right;\n",
       "    }\n",
       "</style>\n",
       "<table border=\"1\" class=\"dataframe\">\n",
       "  <thead>\n",
       "    <tr style=\"text-align: right;\">\n",
       "      <th></th>\n",
       "      <th>user_id</th>\n",
       "      <th>age</th>\n",
       "    </tr>\n",
       "  </thead>\n",
       "  <tbody>\n",
       "    <tr>\n",
       "      <td>count</td>\n",
       "      <td>500.000000</td>\n",
       "      <td>500.000000</td>\n",
       "    </tr>\n",
       "    <tr>\n",
       "      <td>mean</td>\n",
       "      <td>1249.500000</td>\n",
       "      <td>45.486000</td>\n",
       "    </tr>\n",
       "    <tr>\n",
       "      <td>std</td>\n",
       "      <td>144.481833</td>\n",
       "      <td>16.972269</td>\n",
       "    </tr>\n",
       "    <tr>\n",
       "      <td>min</td>\n",
       "      <td>1000.000000</td>\n",
       "      <td>18.000000</td>\n",
       "    </tr>\n",
       "    <tr>\n",
       "      <td>25%</td>\n",
       "      <td>1124.750000</td>\n",
       "      <td>30.000000</td>\n",
       "    </tr>\n",
       "    <tr>\n",
       "      <td>50%</td>\n",
       "      <td>1249.500000</td>\n",
       "      <td>46.000000</td>\n",
       "    </tr>\n",
       "    <tr>\n",
       "      <td>75%</td>\n",
       "      <td>1374.250000</td>\n",
       "      <td>61.000000</td>\n",
       "    </tr>\n",
       "    <tr>\n",
       "      <td>max</td>\n",
       "      <td>1499.000000</td>\n",
       "      <td>75.000000</td>\n",
       "    </tr>\n",
       "  </tbody>\n",
       "</table>\n",
       "</div>"
      ],
      "text/plain": [
       "           user_id         age\n",
       "count   500.000000  500.000000\n",
       "mean   1249.500000   45.486000\n",
       "std     144.481833   16.972269\n",
       "min    1000.000000   18.000000\n",
       "25%    1124.750000   30.000000\n",
       "50%    1249.500000   46.000000\n",
       "75%    1374.250000   61.000000\n",
       "max    1499.000000   75.000000"
      ]
     },
     "execution_count": 8,
     "metadata": {},
     "output_type": "execute_result"
    }
   ],
   "source": [
    "# Looks at overall description of the quantitative data from the table\n",
    "\n",
    "user_data.describe()"
   ]
  },
  {
   "cell_type": "markdown",
   "metadata": {},
   "source": [
    "**Initial observations**\n",
    "* There are many null values in the 'churn_data' column. Since this column indicates the datas of cancellation, I will assume that null values represent plans that are still active. I would like to convert this column to a datetime object so that it can be used in analysis if needed. Therefore, I will leave the null values as null.\n",
    "* There are no duplicate rows.\n",
    "* The describe function doesn't provide us much information at this point, since age could vary per region or plan type. But it is helpful to see that the overall average age is 45, with a large range of 18-75.\n",
    "* I will convert the date to a datetime object. \n",
    "* The city column is too complicated for analysis and needs to be simplified into regions.\n",
    "* I will add a column that indicates only the month. "
   ]
  },
  {
   "cell_type": "markdown",
   "metadata": {},
   "source": [
    "### Fix Data"
   ]
  },
  {
   "cell_type": "code",
   "execution_count": 9,
   "metadata": {},
   "outputs": [
    {
     "data": {
      "text/plain": [
       "user_id        0.0\n",
       "first_name     0.0\n",
       "last_name      0.0\n",
       "age            0.0\n",
       "city           0.0\n",
       "reg_date       0.0\n",
       "plan           0.0\n",
       "churn_date    93.2\n",
       "dtype: float64"
      ]
     },
     "execution_count": 9,
     "metadata": {},
     "output_type": "execute_result"
    }
   ],
   "source": [
    "# Fills in null values\n",
    "\n",
    "user_data.isna().sum() # Looks at number of missing values in each column \n",
    "\n",
    "user_data.isna().sum() / len(user_data) * 100 # Looks at percentage of missing values in each column"
   ]
  },
  {
   "cell_type": "code",
   "execution_count": 10,
   "metadata": {},
   "outputs": [
    {
     "data": {
      "image/png": "[encoded data removed]",
      "text/plain": [
       "<Figure size 432x288 with 1 Axes>"
      ]
     },
     "metadata": {
      "needs_background": "light"
     },
     "output_type": "display_data"
    }
   ],
   "source": [
    "user_data['churn_date'] = pd.to_datetime(user_data['churn_date'], format='%Y-%m-%d') # Converts 'churn_date' to a datetime object\n",
    "\n",
    "user_data.loc[user_data['churn_date'].isna()] # Looks at only rows that have missing values in \"churn_date\"\n",
    "\n",
    "user_data['churn_date'].hist(bins=10);\n",
    "\n",
    "# df[‘column’] = df[‘column'].fillna(0)"
   ]
  },
  {
   "cell_type": "code",
   "execution_count": 11,
   "metadata": {},
   "outputs": [],
   "source": [
    "# Converts the reg_date to a datetime object. \n",
    "\n",
    "user_data['reg_date'] = pd.to_datetime(user_data['reg_date'], format='%Y-%m-%d')\n"
   ]
  },
  {
   "cell_type": "code",
   "execution_count": 12,
   "metadata": {},
   "outputs": [
    {
     "name": "stdout",
     "output_type": "stream",
     "text": [
      "<class 'pandas.core.frame.DataFrame'>\n",
      "RangeIndex: 500 entries, 0 to 499\n",
      "Data columns (total 8 columns):\n",
      "user_id       500 non-null int64\n",
      "first_name    500 non-null object\n",
      "last_name     500 non-null object\n",
      "age           500 non-null int64\n",
      "city          500 non-null object\n",
      "reg_date      500 non-null datetime64[ns]\n",
      "plan          500 non-null object\n",
      "churn_date    34 non-null datetime64[ns]\n",
      "dtypes: datetime64[ns](2), int64(2), object(4)\n",
      "memory usage: 31.4+ KB\n"
     ]
    },
    {
     "data": {
      "text/html": [
       "<div>\n",
       "<style scoped>\n",
       "    .dataframe tbody tr th:only-of-type {\n",
       "        vertical-align: middle;\n",
       "    }\n",
       "\n",
       "    .dataframe tbody tr th {\n",
       "        vertical-align: top;\n",
       "    }\n",
       "\n",
       "    .dataframe thead th {\n",
       "        text-align: right;\n",
       "    }\n",
       "</style>\n",
       "<table border=\"1\" class=\"dataframe\">\n",
       "  <thead>\n",
       "    <tr style=\"text-align: right;\">\n",
       "      <th></th>\n",
       "      <th>user_id</th>\n",
       "      <th>first_name</th>\n",
       "      <th>last_name</th>\n",
       "      <th>age</th>\n",
       "      <th>city</th>\n",
       "      <th>reg_date</th>\n",
       "      <th>plan</th>\n",
       "      <th>churn_date</th>\n",
       "    </tr>\n",
       "  </thead>\n",
       "  <tbody>\n",
       "    <tr>\n",
       "      <td>0</td>\n",
       "      <td>1000</td>\n",
       "      <td>Anamaria</td>\n",
       "      <td>Bauer</td>\n",
       "      <td>45</td>\n",
       "      <td>Atlanta-Sandy Springs-Roswell, GA MSA</td>\n",
       "      <td>2018-12-24</td>\n",
       "      <td>ultimate</td>\n",
       "      <td>NaT</td>\n",
       "    </tr>\n",
       "    <tr>\n",
       "      <td>1</td>\n",
       "      <td>1001</td>\n",
       "      <td>Mickey</td>\n",
       "      <td>Wilkerson</td>\n",
       "      <td>28</td>\n",
       "      <td>Seattle-Tacoma-Bellevue, WA MSA</td>\n",
       "      <td>2018-08-13</td>\n",
       "      <td>surf</td>\n",
       "      <td>NaT</td>\n",
       "    </tr>\n",
       "    <tr>\n",
       "      <td>2</td>\n",
       "      <td>1002</td>\n",
       "      <td>Carlee</td>\n",
       "      <td>Hoffman</td>\n",
       "      <td>36</td>\n",
       "      <td>Las Vegas-Henderson-Paradise, NV MSA</td>\n",
       "      <td>2018-10-21</td>\n",
       "      <td>surf</td>\n",
       "      <td>NaT</td>\n",
       "    </tr>\n",
       "    <tr>\n",
       "      <td>3</td>\n",
       "      <td>1003</td>\n",
       "      <td>Reynaldo</td>\n",
       "      <td>Jenkins</td>\n",
       "      <td>52</td>\n",
       "      <td>Tulsa, OK MSA</td>\n",
       "      <td>2018-01-28</td>\n",
       "      <td>surf</td>\n",
       "      <td>NaT</td>\n",
       "    </tr>\n",
       "    <tr>\n",
       "      <td>4</td>\n",
       "      <td>1004</td>\n",
       "      <td>Leonila</td>\n",
       "      <td>Thompson</td>\n",
       "      <td>40</td>\n",
       "      <td>Seattle-Tacoma-Bellevue, WA MSA</td>\n",
       "      <td>2018-05-23</td>\n",
       "      <td>surf</td>\n",
       "      <td>NaT</td>\n",
       "    </tr>\n",
       "  </tbody>\n",
       "</table>\n",
       "</div>"
      ],
      "text/plain": [
       "   user_id first_name  last_name  age                                   city  \\\n",
       "0     1000   Anamaria      Bauer   45  Atlanta-Sandy Springs-Roswell, GA MSA   \n",
       "1     1001     Mickey  Wilkerson   28        Seattle-Tacoma-Bellevue, WA MSA   \n",
       "2     1002     Carlee    Hoffman   36   Las Vegas-Henderson-Paradise, NV MSA   \n",
       "3     1003   Reynaldo    Jenkins   52                          Tulsa, OK MSA   \n",
       "4     1004    Leonila   Thompson   40        Seattle-Tacoma-Bellevue, WA MSA   \n",
       "\n",
       "    reg_date      plan churn_date  \n",
       "0 2018-12-24  ultimate        NaT  \n",
       "1 2018-08-13      surf        NaT  \n",
       "2 2018-10-21      surf        NaT  \n",
       "3 2018-01-28      surf        NaT  \n",
       "4 2018-05-23      surf        NaT  "
      ]
     },
     "execution_count": 12,
     "metadata": {},
     "output_type": "execute_result"
    }
   ],
   "source": [
    "# Checks if the date column successfully converted to a datetime object\n",
    "\n",
    "user_data.info()\n",
    "\n",
    "user_data.head()"
   ]
  },
  {
   "cell_type": "markdown",
   "metadata": {},
   "source": [
    "### Enrich Data"
   ]
  },
  {
   "cell_type": "code",
   "execution_count": 13,
   "metadata": {},
   "outputs": [
    {
     "data": {
      "text/plain": [
       "array(['Atlanta-Sandy Springs-Roswell, GA MSA',\n",
       "       'Seattle-Tacoma-Bellevue, WA MSA',\n",
       "       'Las Vegas-Henderson-Paradise, NV MSA', 'Tulsa, OK MSA',\n",
       "       'Dallas-Fort Worth-Arlington, TX MSA',\n",
       "       'San Francisco-Oakland-Berkeley, CA MSA',\n",
       "       'Grand Rapids-Kentwood, MI MSA',\n",
       "       'Orlando-Kissimmee-Sanford, FL MSA',\n",
       "       'San Jose-Sunnyvale-Santa Clara, CA MSA',\n",
       "       'Cleveland-Elyria, OH MSA',\n",
       "       'Chicago-Naperville-Elgin, IL-IN-WI MSA', 'Knoxville, TN MSA',\n",
       "       'New York-Newark-Jersey City, NY-NJ-PA MSA', 'Pittsburgh, PA MSA',\n",
       "       'Fresno, CA MSA',\n",
       "       'Washington-Arlington-Alexandria, DC-VA-MD-WV MSA',\n",
       "       'Indianapolis-Carmel-Anderson, IN MSA', 'Jacksonville, FL MSA',\n",
       "       'Los Angeles-Long Beach-Anaheim, CA MSA',\n",
       "       'Omaha-Council Bluffs, NE-IA MSA',\n",
       "       'Houston-The Woodlands-Sugar Land, TX MSA',\n",
       "       'Philadelphia-Camden-Wilmington, PA-NJ-DE-MD MSA',\n",
       "       'Tampa-St. Petersburg-Clearwater, FL MSA',\n",
       "       'Birmingham-Hoover, AL MSA', 'Oklahoma City, OK MSA',\n",
       "       'Charlotte-Concord-Gastonia, NC-SC MSA',\n",
       "       'Denver-Aurora-Lakewood, CO MSA',\n",
       "       'Nashville-Davidson–Murfreesboro–Franklin, TN MSA',\n",
       "       'Columbus, OH MSA', 'Albuquerque, NM MSA',\n",
       "       'Boston-Cambridge-Newton, MA-NH MSA',\n",
       "       'Miami-Fort Lauderdale-West Palm Beach, FL MSA',\n",
       "       'San Diego-Chula Vista-Carlsbad, CA MSA',\n",
       "       'Phoenix-Mesa-Chandler, AZ MSA',\n",
       "       'Portland-Vancouver-Hillsboro, OR-WA MSA',\n",
       "       'Cincinnati, OH-KY-IN MSA', 'Columbia, SC MSA',\n",
       "       'San Antonio-New Braunfels, TX MSA', 'Buffalo-Cheektowaga, NY MSA',\n",
       "       'Memphis, TN-MS-AR MSA',\n",
       "       'Riverside-San Bernardino-Ontario, CA MSA',\n",
       "       'Louisville/Jefferson County, KY-IN MSA',\n",
       "       'Albany-Schenectady-Troy, NY MSA', 'Providence-Warwick, RI-MA MSA',\n",
       "       'Salt Lake City, UT MSA', 'Urban Honolulu, HI MSA',\n",
       "       'El Paso, TX MSA', 'New Haven-Milford, CT MSA',\n",
       "       'North Port-Sarasota-Bradenton, FL MSA', 'Baton Rouge, LA MSA',\n",
       "       'New Orleans-Metairie, LA MSA',\n",
       "       'Bridgeport-Stamford-Norwalk, CT MSA',\n",
       "       'Virginia Beach-Norfolk-Newport News, VA-NC MSA',\n",
       "       'Baltimore-Columbia-Towson, MD MSA', 'Milwaukee-Waukesha, WI MSA',\n",
       "       'Oxnard-Thousand Oaks-Ventura, CA MSA',\n",
       "       'Sacramento–Roseville–Folsom, CA MSA',\n",
       "       'Austin-Round Rock-Georgetown, TX MSA', 'Richmond, VA MSA',\n",
       "       'St. Louis, MO-IL MSA',\n",
       "       'Minneapolis-St. Paul-Bloomington, MN-WI MSA',\n",
       "       'Dayton-Kettering, OH MSA', 'Bakersfield, CA MSA',\n",
       "       'Detroit-Warren-Dearborn, MI MSA', 'Kansas City, MO-KS MSA',\n",
       "       'Charleston-North Charleston, SC MSA', 'Rochester, NY MSA',\n",
       "       'Raleigh-Cary, NC MSA', 'Colorado Springs, CO MSA',\n",
       "       'Greensboro-High Point, NC MSA', 'Tucson, AZ MSA',\n",
       "       'Stockton, CA MSA', 'Cape Coral-Fort Myers, FL MSA'], dtype=object)"
      ]
     },
     "execution_count": 13,
     "metadata": {},
     "output_type": "execute_result"
    }
   ],
   "source": [
    "user_data['city'].unique()"
   ]
  },
  {
   "cell_type": "code",
   "execution_count": 14,
   "metadata": {},
   "outputs": [],
   "source": [
    "# Adds a key that indicates the region\n",
    "\n",
    "def region(row): # Creates a function that replaces the values in the column condition with values \n",
    "    state = row['city']\n",
    "    if 'NY' in state:\n",
    "        return 'NY-NJ'\n",
    "    elif 'NY-NJ-PA' in state:\n",
    "        return 'NY-NJ'\n",
    "    elif 'NJ' in state:\n",
    "        return 'NY-NJ'\n",
    "    else:\n",
    "        return 'Other'"
   ]
  },
  {
   "cell_type": "code",
   "execution_count": 15,
   "metadata": {},
   "outputs": [
    {
     "name": "stdout",
     "output_type": "stream",
     "text": [
      "NY-NJ\n"
     ]
    }
   ],
   "source": [
    "# Tests the function\n",
    "row_values = ['New York-Newark-Jersey City, NY-NJ-PA MSA'] # Creates a list that indicates row value\n",
    "row_columns = ['city'] # Creates list that indicates column name\n",
    "\n",
    "row = pd.Series(data=row_values, index=row_columns) # Creates a new row with the above values\n",
    "\n",
    "print(region(row)) # Passes the row through the function"
   ]
  },
  {
   "cell_type": "code",
   "execution_count": 16,
   "metadata": {},
   "outputs": [],
   "source": [
    "# Pass the function\n",
    "user_data['region'] = user_data.apply(region, axis=1)"
   ]
  },
  {
   "cell_type": "code",
   "execution_count": 17,
   "metadata": {},
   "outputs": [
    {
     "data": {
      "text/plain": [
       "region\n",
       "NY-NJ    103\n",
       "Other    397\n",
       "Name: user_id, dtype: int64"
      ]
     },
     "execution_count": 17,
     "metadata": {},
     "output_type": "execute_result"
    }
   ],
   "source": [
    "# Check on new column\n",
    "\n",
    "user_data.head(10)\n",
    "\n",
    "user_data['region'].unique()\n",
    "\n",
    "user_data.groupby('region')['user_id'].count()"
   ]
  },
  {
   "cell_type": "code",
   "execution_count": 18,
   "metadata": {},
   "outputs": [
    {
     "data": {
      "text/html": [
       "<div>\n",
       "<style scoped>\n",
       "    .dataframe tbody tr th:only-of-type {\n",
       "        vertical-align: middle;\n",
       "    }\n",
       "\n",
       "    .dataframe tbody tr th {\n",
       "        vertical-align: top;\n",
       "    }\n",
       "\n",
       "    .dataframe thead th {\n",
       "        text-align: right;\n",
       "    }\n",
       "</style>\n",
       "<table border=\"1\" class=\"dataframe\">\n",
       "  <thead>\n",
       "    <tr style=\"text-align: right;\">\n",
       "      <th></th>\n",
       "      <th>user_id</th>\n",
       "      <th>first_name</th>\n",
       "      <th>last_name</th>\n",
       "      <th>age</th>\n",
       "      <th>city</th>\n",
       "      <th>reg_date</th>\n",
       "      <th>plan</th>\n",
       "      <th>churn_date</th>\n",
       "      <th>region</th>\n",
       "      <th>month</th>\n",
       "    </tr>\n",
       "  </thead>\n",
       "  <tbody>\n",
       "    <tr>\n",
       "      <td>0</td>\n",
       "      <td>1000</td>\n",
       "      <td>Anamaria</td>\n",
       "      <td>Bauer</td>\n",
       "      <td>45</td>\n",
       "      <td>Atlanta-Sandy Springs-Roswell, GA MSA</td>\n",
       "      <td>2018-12-24</td>\n",
       "      <td>ultimate</td>\n",
       "      <td>NaT</td>\n",
       "      <td>Other</td>\n",
       "      <td>12</td>\n",
       "    </tr>\n",
       "    <tr>\n",
       "      <td>1</td>\n",
       "      <td>1001</td>\n",
       "      <td>Mickey</td>\n",
       "      <td>Wilkerson</td>\n",
       "      <td>28</td>\n",
       "      <td>Seattle-Tacoma-Bellevue, WA MSA</td>\n",
       "      <td>2018-08-13</td>\n",
       "      <td>surf</td>\n",
       "      <td>NaT</td>\n",
       "      <td>Other</td>\n",
       "      <td>8</td>\n",
       "    </tr>\n",
       "    <tr>\n",
       "      <td>2</td>\n",
       "      <td>1002</td>\n",
       "      <td>Carlee</td>\n",
       "      <td>Hoffman</td>\n",
       "      <td>36</td>\n",
       "      <td>Las Vegas-Henderson-Paradise, NV MSA</td>\n",
       "      <td>2018-10-21</td>\n",
       "      <td>surf</td>\n",
       "      <td>NaT</td>\n",
       "      <td>Other</td>\n",
       "      <td>10</td>\n",
       "    </tr>\n",
       "    <tr>\n",
       "      <td>3</td>\n",
       "      <td>1003</td>\n",
       "      <td>Reynaldo</td>\n",
       "      <td>Jenkins</td>\n",
       "      <td>52</td>\n",
       "      <td>Tulsa, OK MSA</td>\n",
       "      <td>2018-01-28</td>\n",
       "      <td>surf</td>\n",
       "      <td>NaT</td>\n",
       "      <td>Other</td>\n",
       "      <td>1</td>\n",
       "    </tr>\n",
       "    <tr>\n",
       "      <td>4</td>\n",
       "      <td>1004</td>\n",
       "      <td>Leonila</td>\n",
       "      <td>Thompson</td>\n",
       "      <td>40</td>\n",
       "      <td>Seattle-Tacoma-Bellevue, WA MSA</td>\n",
       "      <td>2018-05-23</td>\n",
       "      <td>surf</td>\n",
       "      <td>NaT</td>\n",
       "      <td>Other</td>\n",
       "      <td>5</td>\n",
       "    </tr>\n",
       "  </tbody>\n",
       "</table>\n",
       "</div>"
      ],
      "text/plain": [
       "   user_id first_name  last_name  age                                   city  \\\n",
       "0     1000   Anamaria      Bauer   45  Atlanta-Sandy Springs-Roswell, GA MSA   \n",
       "1     1001     Mickey  Wilkerson   28        Seattle-Tacoma-Bellevue, WA MSA   \n",
       "2     1002     Carlee    Hoffman   36   Las Vegas-Henderson-Paradise, NV MSA   \n",
       "3     1003   Reynaldo    Jenkins   52                          Tulsa, OK MSA   \n",
       "4     1004    Leonila   Thompson   40        Seattle-Tacoma-Bellevue, WA MSA   \n",
       "\n",
       "    reg_date      plan churn_date region  month  \n",
       "0 2018-12-24  ultimate        NaT  Other     12  \n",
       "1 2018-08-13      surf        NaT  Other      8  \n",
       "2 2018-10-21      surf        NaT  Other     10  \n",
       "3 2018-01-28      surf        NaT  Other      1  \n",
       "4 2018-05-23      surf        NaT  Other      5  "
      ]
     },
     "execution_count": 18,
     "metadata": {},
     "output_type": "execute_result"
    }
   ],
   "source": [
    "# Creates a new column that indicates only month\n",
    "\n",
    "user_data['month'] = pd.DatetimeIndex(user_data['reg_date']).month\n",
    "\n",
    "user_data.head()"
   ]
  },
  {
   "cell_type": "markdown",
   "metadata": {},
   "source": [
    "## Calls"
   ]
  },
  {
   "cell_type": "code",
   "execution_count": 19,
   "metadata": {},
   "outputs": [
    {
     "name": "stdout",
     "output_type": "stream",
     "text": [
      "<class 'pandas.core.frame.DataFrame'>\n",
      "RangeIndex: 137735 entries, 0 to 137734\n",
      "Data columns (total 4 columns):\n",
      "id           137735 non-null object\n",
      "user_id      137735 non-null int64\n",
      "call_date    137735 non-null object\n",
      "duration     137735 non-null float64\n",
      "dtypes: float64(1), int64(1), object(2)\n",
      "memory usage: 4.2+ MB\n"
     ]
    },
    {
     "data": {
      "text/plain": [
       "id           0\n",
       "user_id      0\n",
       "call_date    0\n",
       "duration     0\n",
       "dtype: int64"
      ]
     },
     "execution_count": 19,
     "metadata": {},
     "output_type": "execute_result"
    }
   ],
   "source": [
    "# Print the general/summary information about the calls' DataFrame\n",
    "\n",
    "call_data.shape\n",
    "\n",
    "call_data.info()\n",
    "\n",
    "call_data.isnull().sum()"
   ]
  },
  {
   "cell_type": "code",
   "execution_count": 20,
   "metadata": {},
   "outputs": [
    {
     "data": {
      "text/html": [
       "<div>\n",
       "<style scoped>\n",
       "    .dataframe tbody tr th:only-of-type {\n",
       "        vertical-align: middle;\n",
       "    }\n",
       "\n",
       "    .dataframe tbody tr th {\n",
       "        vertical-align: top;\n",
       "    }\n",
       "\n",
       "    .dataframe thead th {\n",
       "        text-align: right;\n",
       "    }\n",
       "</style>\n",
       "<table border=\"1\" class=\"dataframe\">\n",
       "  <thead>\n",
       "    <tr style=\"text-align: right;\">\n",
       "      <th></th>\n",
       "      <th>id</th>\n",
       "      <th>user_id</th>\n",
       "      <th>call_date</th>\n",
       "      <th>duration</th>\n",
       "    </tr>\n",
       "  </thead>\n",
       "  <tbody>\n",
       "    <tr>\n",
       "      <td>0</td>\n",
       "      <td>1000_93</td>\n",
       "      <td>1000</td>\n",
       "      <td>2018-12-27</td>\n",
       "      <td>8.52</td>\n",
       "    </tr>\n",
       "    <tr>\n",
       "      <td>1</td>\n",
       "      <td>1000_145</td>\n",
       "      <td>1000</td>\n",
       "      <td>2018-12-27</td>\n",
       "      <td>13.66</td>\n",
       "    </tr>\n",
       "    <tr>\n",
       "      <td>2</td>\n",
       "      <td>1000_247</td>\n",
       "      <td>1000</td>\n",
       "      <td>2018-12-27</td>\n",
       "      <td>14.48</td>\n",
       "    </tr>\n",
       "    <tr>\n",
       "      <td>3</td>\n",
       "      <td>1000_309</td>\n",
       "      <td>1000</td>\n",
       "      <td>2018-12-28</td>\n",
       "      <td>5.76</td>\n",
       "    </tr>\n",
       "    <tr>\n",
       "      <td>4</td>\n",
       "      <td>1000_380</td>\n",
       "      <td>1000</td>\n",
       "      <td>2018-12-30</td>\n",
       "      <td>4.22</td>\n",
       "    </tr>\n",
       "    <tr>\n",
       "      <td>5</td>\n",
       "      <td>1000_388</td>\n",
       "      <td>1000</td>\n",
       "      <td>2018-12-31</td>\n",
       "      <td>2.20</td>\n",
       "    </tr>\n",
       "    <tr>\n",
       "      <td>6</td>\n",
       "      <td>1000_510</td>\n",
       "      <td>1000</td>\n",
       "      <td>2018-12-27</td>\n",
       "      <td>5.75</td>\n",
       "    </tr>\n",
       "    <tr>\n",
       "      <td>7</td>\n",
       "      <td>1000_521</td>\n",
       "      <td>1000</td>\n",
       "      <td>2018-12-28</td>\n",
       "      <td>14.18</td>\n",
       "    </tr>\n",
       "    <tr>\n",
       "      <td>8</td>\n",
       "      <td>1000_530</td>\n",
       "      <td>1000</td>\n",
       "      <td>2018-12-28</td>\n",
       "      <td>5.77</td>\n",
       "    </tr>\n",
       "    <tr>\n",
       "      <td>9</td>\n",
       "      <td>1000_544</td>\n",
       "      <td>1000</td>\n",
       "      <td>2018-12-26</td>\n",
       "      <td>4.40</td>\n",
       "    </tr>\n",
       "  </tbody>\n",
       "</table>\n",
       "</div>"
      ],
      "text/plain": [
       "         id  user_id   call_date  duration\n",
       "0   1000_93     1000  2018-12-27      8.52\n",
       "1  1000_145     1000  2018-12-27     13.66\n",
       "2  1000_247     1000  2018-12-27     14.48\n",
       "3  1000_309     1000  2018-12-28      5.76\n",
       "4  1000_380     1000  2018-12-30      4.22\n",
       "5  1000_388     1000  2018-12-31      2.20\n",
       "6  1000_510     1000  2018-12-27      5.75\n",
       "7  1000_521     1000  2018-12-28     14.18\n",
       "8  1000_530     1000  2018-12-28      5.77\n",
       "9  1000_544     1000  2018-12-26      4.40"
      ]
     },
     "execution_count": 20,
     "metadata": {},
     "output_type": "execute_result"
    }
   ],
   "source": [
    "# Print a sample of data for calls\n",
    "\n",
    "call_data.head(10)"
   ]
  },
  {
   "cell_type": "code",
   "execution_count": 21,
   "metadata": {},
   "outputs": [
    {
     "data": {
      "text/plain": [
       "0"
      ]
     },
     "execution_count": 21,
     "metadata": {},
     "output_type": "execute_result"
    }
   ],
   "source": [
    "# Checks for duplicates\n",
    "\n",
    "call_data.duplicated().sum()"
   ]
  },
  {
   "cell_type": "code",
   "execution_count": 22,
   "metadata": {},
   "outputs": [
    {
     "data": {
      "text/html": [
       "<div>\n",
       "<style scoped>\n",
       "    .dataframe tbody tr th:only-of-type {\n",
       "        vertical-align: middle;\n",
       "    }\n",
       "\n",
       "    .dataframe tbody tr th {\n",
       "        vertical-align: top;\n",
       "    }\n",
       "\n",
       "    .dataframe thead th {\n",
       "        text-align: right;\n",
       "    }\n",
       "</style>\n",
       "<table border=\"1\" class=\"dataframe\">\n",
       "  <thead>\n",
       "    <tr style=\"text-align: right;\">\n",
       "      <th></th>\n",
       "      <th>user_id</th>\n",
       "      <th>duration</th>\n",
       "    </tr>\n",
       "  </thead>\n",
       "  <tbody>\n",
       "    <tr>\n",
       "      <td>count</td>\n",
       "      <td>137735.000000</td>\n",
       "      <td>137735.000000</td>\n",
       "    </tr>\n",
       "    <tr>\n",
       "      <td>mean</td>\n",
       "      <td>1247.658046</td>\n",
       "      <td>6.745927</td>\n",
       "    </tr>\n",
       "    <tr>\n",
       "      <td>std</td>\n",
       "      <td>139.416268</td>\n",
       "      <td>5.839241</td>\n",
       "    </tr>\n",
       "    <tr>\n",
       "      <td>min</td>\n",
       "      <td>1000.000000</td>\n",
       "      <td>0.000000</td>\n",
       "    </tr>\n",
       "    <tr>\n",
       "      <td>25%</td>\n",
       "      <td>1128.000000</td>\n",
       "      <td>1.290000</td>\n",
       "    </tr>\n",
       "    <tr>\n",
       "      <td>50%</td>\n",
       "      <td>1247.000000</td>\n",
       "      <td>5.980000</td>\n",
       "    </tr>\n",
       "    <tr>\n",
       "      <td>75%</td>\n",
       "      <td>1365.000000</td>\n",
       "      <td>10.690000</td>\n",
       "    </tr>\n",
       "    <tr>\n",
       "      <td>max</td>\n",
       "      <td>1499.000000</td>\n",
       "      <td>37.600000</td>\n",
       "    </tr>\n",
       "  </tbody>\n",
       "</table>\n",
       "</div>"
      ],
      "text/plain": [
       "             user_id       duration\n",
       "count  137735.000000  137735.000000\n",
       "mean     1247.658046       6.745927\n",
       "std       139.416268       5.839241\n",
       "min      1000.000000       0.000000\n",
       "25%      1128.000000       1.290000\n",
       "50%      1247.000000       5.980000\n",
       "75%      1365.000000      10.690000\n",
       "max      1499.000000      37.600000"
      ]
     },
     "execution_count": 22,
     "metadata": {},
     "output_type": "execute_result"
    }
   ],
   "source": [
    "# Looks at overall description of the quantitative data from the table\n",
    "\n",
    "call_data.describe()"
   ]
  },
  {
   "cell_type": "markdown",
   "metadata": {},
   "source": [
    "**Initial Observations**\n",
    "* There are no null values.\n",
    "* There are no duplicated rows.\n",
    "* I will convert call_date to a dateime object.\n",
    "* I will add a columnt that indicates only the month. "
   ]
  },
  {
   "cell_type": "markdown",
   "metadata": {},
   "source": [
    " "
   ]
  },
  {
   "cell_type": "markdown",
   "metadata": {},
   "source": [
    "### Fix data"
   ]
  },
  {
   "cell_type": "code",
   "execution_count": 23,
   "metadata": {},
   "outputs": [],
   "source": [
    "# Converts the call_date column to a datetime object\n",
    "\n",
    "call_data['call_date'] = pd.to_datetime(call_data['call_date'], format='%Y-%m-%d')"
   ]
  },
  {
   "cell_type": "code",
   "execution_count": 24,
   "metadata": {},
   "outputs": [
    {
     "name": "stdout",
     "output_type": "stream",
     "text": [
      "<class 'pandas.core.frame.DataFrame'>\n",
      "RangeIndex: 137735 entries, 0 to 137734\n",
      "Data columns (total 4 columns):\n",
      "id           137735 non-null object\n",
      "user_id      137735 non-null int64\n",
      "call_date    137735 non-null datetime64[ns]\n",
      "duration     137735 non-null float64\n",
      "dtypes: datetime64[ns](1), float64(1), int64(1), object(1)\n",
      "memory usage: 4.2+ MB\n"
     ]
    },
    {
     "data": {
      "text/plain": [
       "id           0\n",
       "user_id      0\n",
       "call_date    0\n",
       "duration     0\n",
       "dtype: int64"
      ]
     },
     "execution_count": 24,
     "metadata": {},
     "output_type": "execute_result"
    }
   ],
   "source": [
    "# Checks if the date column successfully converted to a datetime object\n",
    "\n",
    "call_data.info()\n",
    "\n",
    "call_data.head()\n",
    "\n",
    "call_data.isnull().sum()"
   ]
  },
  {
   "cell_type": "markdown",
   "metadata": {},
   "source": [
    "### Enrich data"
   ]
  },
  {
   "cell_type": "code",
   "execution_count": 25,
   "metadata": {},
   "outputs": [
    {
     "data": {
      "text/html": [
       "<div>\n",
       "<style scoped>\n",
       "    .dataframe tbody tr th:only-of-type {\n",
       "        vertical-align: middle;\n",
       "    }\n",
       "\n",
       "    .dataframe tbody tr th {\n",
       "        vertical-align: top;\n",
       "    }\n",
       "\n",
       "    .dataframe thead th {\n",
       "        text-align: right;\n",
       "    }\n",
       "</style>\n",
       "<table border=\"1\" class=\"dataframe\">\n",
       "  <thead>\n",
       "    <tr style=\"text-align: right;\">\n",
       "      <th></th>\n",
       "      <th>id</th>\n",
       "      <th>user_id</th>\n",
       "      <th>call_date</th>\n",
       "      <th>duration</th>\n",
       "      <th>month</th>\n",
       "    </tr>\n",
       "  </thead>\n",
       "  <tbody>\n",
       "    <tr>\n",
       "      <td>0</td>\n",
       "      <td>1000_93</td>\n",
       "      <td>1000</td>\n",
       "      <td>2018-12-27</td>\n",
       "      <td>8.52</td>\n",
       "      <td>12</td>\n",
       "    </tr>\n",
       "    <tr>\n",
       "      <td>1</td>\n",
       "      <td>1000_145</td>\n",
       "      <td>1000</td>\n",
       "      <td>2018-12-27</td>\n",
       "      <td>13.66</td>\n",
       "      <td>12</td>\n",
       "    </tr>\n",
       "    <tr>\n",
       "      <td>2</td>\n",
       "      <td>1000_247</td>\n",
       "      <td>1000</td>\n",
       "      <td>2018-12-27</td>\n",
       "      <td>14.48</td>\n",
       "      <td>12</td>\n",
       "    </tr>\n",
       "    <tr>\n",
       "      <td>3</td>\n",
       "      <td>1000_309</td>\n",
       "      <td>1000</td>\n",
       "      <td>2018-12-28</td>\n",
       "      <td>5.76</td>\n",
       "      <td>12</td>\n",
       "    </tr>\n",
       "    <tr>\n",
       "      <td>4</td>\n",
       "      <td>1000_380</td>\n",
       "      <td>1000</td>\n",
       "      <td>2018-12-30</td>\n",
       "      <td>4.22</td>\n",
       "      <td>12</td>\n",
       "    </tr>\n",
       "  </tbody>\n",
       "</table>\n",
       "</div>"
      ],
      "text/plain": [
       "         id  user_id  call_date  duration  month\n",
       "0   1000_93     1000 2018-12-27      8.52     12\n",
       "1  1000_145     1000 2018-12-27     13.66     12\n",
       "2  1000_247     1000 2018-12-27     14.48     12\n",
       "3  1000_309     1000 2018-12-28      5.76     12\n",
       "4  1000_380     1000 2018-12-30      4.22     12"
      ]
     },
     "execution_count": 25,
     "metadata": {},
     "output_type": "execute_result"
    }
   ],
   "source": [
    "# Adds a column that includes only the month.\n",
    "\n",
    "call_data['month'] = pd.DatetimeIndex(call_data['call_date']).month\n",
    "\n",
    "call_data.head()"
   ]
  },
  {
   "cell_type": "markdown",
   "metadata": {},
   "source": [
    "## Messages"
   ]
  },
  {
   "cell_type": "code",
   "execution_count": 26,
   "metadata": {},
   "outputs": [
    {
     "name": "stdout",
     "output_type": "stream",
     "text": [
      "<class 'pandas.core.frame.DataFrame'>\n",
      "RangeIndex: 76051 entries, 0 to 76050\n",
      "Data columns (total 3 columns):\n",
      "id              76051 non-null object\n",
      "user_id         76051 non-null int64\n",
      "message_date    76051 non-null object\n",
      "dtypes: int64(1), object(2)\n",
      "memory usage: 1.7+ MB\n"
     ]
    },
    {
     "data": {
      "text/plain": [
       "id              0\n",
       "user_id         0\n",
       "message_date    0\n",
       "dtype: int64"
      ]
     },
     "execution_count": 26,
     "metadata": {},
     "output_type": "execute_result"
    }
   ],
   "source": [
    "# Print the general/summary information about the messages DataFrame\n",
    "\n",
    "message_data.shape\n",
    "\n",
    "message_data.info()\n",
    "\n",
    "message_data.isnull().sum()"
   ]
  },
  {
   "cell_type": "code",
   "execution_count": 27,
   "metadata": {},
   "outputs": [
    {
     "data": {
      "text/html": [
       "<div>\n",
       "<style scoped>\n",
       "    .dataframe tbody tr th:only-of-type {\n",
       "        vertical-align: middle;\n",
       "    }\n",
       "\n",
       "    .dataframe tbody tr th {\n",
       "        vertical-align: top;\n",
       "    }\n",
       "\n",
       "    .dataframe thead th {\n",
       "        text-align: right;\n",
       "    }\n",
       "</style>\n",
       "<table border=\"1\" class=\"dataframe\">\n",
       "  <thead>\n",
       "    <tr style=\"text-align: right;\">\n",
       "      <th></th>\n",
       "      <th>id</th>\n",
       "      <th>user_id</th>\n",
       "      <th>message_date</th>\n",
       "    </tr>\n",
       "  </thead>\n",
       "  <tbody>\n",
       "    <tr>\n",
       "      <td>0</td>\n",
       "      <td>1000_125</td>\n",
       "      <td>1000</td>\n",
       "      <td>2018-12-27</td>\n",
       "    </tr>\n",
       "    <tr>\n",
       "      <td>1</td>\n",
       "      <td>1000_160</td>\n",
       "      <td>1000</td>\n",
       "      <td>2018-12-31</td>\n",
       "    </tr>\n",
       "    <tr>\n",
       "      <td>2</td>\n",
       "      <td>1000_223</td>\n",
       "      <td>1000</td>\n",
       "      <td>2018-12-31</td>\n",
       "    </tr>\n",
       "    <tr>\n",
       "      <td>3</td>\n",
       "      <td>1000_251</td>\n",
       "      <td>1000</td>\n",
       "      <td>2018-12-27</td>\n",
       "    </tr>\n",
       "    <tr>\n",
       "      <td>4</td>\n",
       "      <td>1000_255</td>\n",
       "      <td>1000</td>\n",
       "      <td>2018-12-26</td>\n",
       "    </tr>\n",
       "    <tr>\n",
       "      <td>5</td>\n",
       "      <td>1000_346</td>\n",
       "      <td>1000</td>\n",
       "      <td>2018-12-29</td>\n",
       "    </tr>\n",
       "    <tr>\n",
       "      <td>6</td>\n",
       "      <td>1000_386</td>\n",
       "      <td>1000</td>\n",
       "      <td>2018-12-30</td>\n",
       "    </tr>\n",
       "    <tr>\n",
       "      <td>7</td>\n",
       "      <td>1000_413</td>\n",
       "      <td>1000</td>\n",
       "      <td>2018-12-31</td>\n",
       "    </tr>\n",
       "    <tr>\n",
       "      <td>8</td>\n",
       "      <td>1000_502</td>\n",
       "      <td>1000</td>\n",
       "      <td>2018-12-27</td>\n",
       "    </tr>\n",
       "    <tr>\n",
       "      <td>9</td>\n",
       "      <td>1000_525</td>\n",
       "      <td>1000</td>\n",
       "      <td>2018-12-28</td>\n",
       "    </tr>\n",
       "  </tbody>\n",
       "</table>\n",
       "</div>"
      ],
      "text/plain": [
       "         id  user_id message_date\n",
       "0  1000_125     1000   2018-12-27\n",
       "1  1000_160     1000   2018-12-31\n",
       "2  1000_223     1000   2018-12-31\n",
       "3  1000_251     1000   2018-12-27\n",
       "4  1000_255     1000   2018-12-26\n",
       "5  1000_346     1000   2018-12-29\n",
       "6  1000_386     1000   2018-12-30\n",
       "7  1000_413     1000   2018-12-31\n",
       "8  1000_502     1000   2018-12-27\n",
       "9  1000_525     1000   2018-12-28"
      ]
     },
     "execution_count": 27,
     "metadata": {},
     "output_type": "execute_result"
    }
   ],
   "source": [
    "# Print a sample of data for messages\n",
    "\n",
    "message_data.head(10)"
   ]
  },
  {
   "cell_type": "code",
   "execution_count": 28,
   "metadata": {},
   "outputs": [
    {
     "data": {
      "text/plain": [
       "0"
      ]
     },
     "execution_count": 28,
     "metadata": {},
     "output_type": "execute_result"
    }
   ],
   "source": [
    "# Checks for duplicates\n",
    "\n",
    "message_data.duplicated().sum()"
   ]
  },
  {
   "cell_type": "markdown",
   "metadata": {},
   "source": [
    "**Initial Observations**\n",
    "* There are no null values. \n",
    "* The table shares \"user_id\" column with the user and call tables, and shares the \"id\" column with the calls table. \n",
    "* There are no duplicates.\n",
    "* I will convert the \"message_date\" column to a datetime object.\n",
    "* I will add a column that indicates only the month.\n"
   ]
  },
  {
   "cell_type": "markdown",
   "metadata": {},
   "source": [
    "### Fix data"
   ]
  },
  {
   "cell_type": "code",
   "execution_count": 29,
   "metadata": {},
   "outputs": [],
   "source": [
    "# Converts the message_date column to a datetime object\n",
    "\n",
    "message_data['message_date'] = pd.to_datetime(message_data['message_date'], format='%Y-%m-%d')"
   ]
  },
  {
   "cell_type": "code",
   "execution_count": 30,
   "metadata": {},
   "outputs": [
    {
     "name": "stdout",
     "output_type": "stream",
     "text": [
      "<class 'pandas.core.frame.DataFrame'>\n",
      "RangeIndex: 76051 entries, 0 to 76050\n",
      "Data columns (total 3 columns):\n",
      "id              76051 non-null object\n",
      "user_id         76051 non-null int64\n",
      "message_date    76051 non-null datetime64[ns]\n",
      "dtypes: datetime64[ns](1), int64(1), object(1)\n",
      "memory usage: 1.7+ MB\n"
     ]
    },
    {
     "data": {
      "text/html": [
       "<div>\n",
       "<style scoped>\n",
       "    .dataframe tbody tr th:only-of-type {\n",
       "        vertical-align: middle;\n",
       "    }\n",
       "\n",
       "    .dataframe tbody tr th {\n",
       "        vertical-align: top;\n",
       "    }\n",
       "\n",
       "    .dataframe thead th {\n",
       "        text-align: right;\n",
       "    }\n",
       "</style>\n",
       "<table border=\"1\" class=\"dataframe\">\n",
       "  <thead>\n",
       "    <tr style=\"text-align: right;\">\n",
       "      <th></th>\n",
       "      <th>id</th>\n",
       "      <th>user_id</th>\n",
       "      <th>message_date</th>\n",
       "    </tr>\n",
       "  </thead>\n",
       "  <tbody>\n",
       "    <tr>\n",
       "      <td>0</td>\n",
       "      <td>1000_125</td>\n",
       "      <td>1000</td>\n",
       "      <td>2018-12-27</td>\n",
       "    </tr>\n",
       "    <tr>\n",
       "      <td>1</td>\n",
       "      <td>1000_160</td>\n",
       "      <td>1000</td>\n",
       "      <td>2018-12-31</td>\n",
       "    </tr>\n",
       "    <tr>\n",
       "      <td>2</td>\n",
       "      <td>1000_223</td>\n",
       "      <td>1000</td>\n",
       "      <td>2018-12-31</td>\n",
       "    </tr>\n",
       "    <tr>\n",
       "      <td>3</td>\n",
       "      <td>1000_251</td>\n",
       "      <td>1000</td>\n",
       "      <td>2018-12-27</td>\n",
       "    </tr>\n",
       "    <tr>\n",
       "      <td>4</td>\n",
       "      <td>1000_255</td>\n",
       "      <td>1000</td>\n",
       "      <td>2018-12-26</td>\n",
       "    </tr>\n",
       "  </tbody>\n",
       "</table>\n",
       "</div>"
      ],
      "text/plain": [
       "         id  user_id message_date\n",
       "0  1000_125     1000   2018-12-27\n",
       "1  1000_160     1000   2018-12-31\n",
       "2  1000_223     1000   2018-12-31\n",
       "3  1000_251     1000   2018-12-27\n",
       "4  1000_255     1000   2018-12-26"
      ]
     },
     "execution_count": 30,
     "metadata": {},
     "output_type": "execute_result"
    }
   ],
   "source": [
    "# Checks if the date column successfully converted to a datetime object\n",
    "\n",
    "message_data.info()\n",
    "\n",
    "message_data.head()"
   ]
  },
  {
   "cell_type": "markdown",
   "metadata": {},
   "source": [
    "### Enrich data"
   ]
  },
  {
   "cell_type": "code",
   "execution_count": 31,
   "metadata": {},
   "outputs": [
    {
     "data": {
      "text/html": [
       "<div>\n",
       "<style scoped>\n",
       "    .dataframe tbody tr th:only-of-type {\n",
       "        vertical-align: middle;\n",
       "    }\n",
       "\n",
       "    .dataframe tbody tr th {\n",
       "        vertical-align: top;\n",
       "    }\n",
       "\n",
       "    .dataframe thead th {\n",
       "        text-align: right;\n",
       "    }\n",
       "</style>\n",
       "<table border=\"1\" class=\"dataframe\">\n",
       "  <thead>\n",
       "    <tr style=\"text-align: right;\">\n",
       "      <th></th>\n",
       "      <th>id</th>\n",
       "      <th>user_id</th>\n",
       "      <th>message_date</th>\n",
       "      <th>month</th>\n",
       "    </tr>\n",
       "  </thead>\n",
       "  <tbody>\n",
       "    <tr>\n",
       "      <td>0</td>\n",
       "      <td>1000_125</td>\n",
       "      <td>1000</td>\n",
       "      <td>2018-12-27</td>\n",
       "      <td>12</td>\n",
       "    </tr>\n",
       "    <tr>\n",
       "      <td>1</td>\n",
       "      <td>1000_160</td>\n",
       "      <td>1000</td>\n",
       "      <td>2018-12-31</td>\n",
       "      <td>12</td>\n",
       "    </tr>\n",
       "    <tr>\n",
       "      <td>2</td>\n",
       "      <td>1000_223</td>\n",
       "      <td>1000</td>\n",
       "      <td>2018-12-31</td>\n",
       "      <td>12</td>\n",
       "    </tr>\n",
       "    <tr>\n",
       "      <td>3</td>\n",
       "      <td>1000_251</td>\n",
       "      <td>1000</td>\n",
       "      <td>2018-12-27</td>\n",
       "      <td>12</td>\n",
       "    </tr>\n",
       "    <tr>\n",
       "      <td>4</td>\n",
       "      <td>1000_255</td>\n",
       "      <td>1000</td>\n",
       "      <td>2018-12-26</td>\n",
       "      <td>12</td>\n",
       "    </tr>\n",
       "  </tbody>\n",
       "</table>\n",
       "</div>"
      ],
      "text/plain": [
       "         id  user_id message_date  month\n",
       "0  1000_125     1000   2018-12-27     12\n",
       "1  1000_160     1000   2018-12-31     12\n",
       "2  1000_223     1000   2018-12-31     12\n",
       "3  1000_251     1000   2018-12-27     12\n",
       "4  1000_255     1000   2018-12-26     12"
      ]
     },
     "execution_count": 31,
     "metadata": {},
     "output_type": "execute_result"
    }
   ],
   "source": [
    "# Adds a column that indicates only the month\n",
    "\n",
    "message_data['month'] = pd.DatetimeIndex(message_data['message_date']).month\n",
    "\n",
    "message_data.head()"
   ]
  },
  {
   "cell_type": "markdown",
   "metadata": {},
   "source": [
    "## Internet"
   ]
  },
  {
   "cell_type": "code",
   "execution_count": 32,
   "metadata": {},
   "outputs": [
    {
     "name": "stdout",
     "output_type": "stream",
     "text": [
      "<class 'pandas.core.frame.DataFrame'>\n",
      "RangeIndex: 104825 entries, 0 to 104824\n",
      "Data columns (total 4 columns):\n",
      "id              104825 non-null object\n",
      "user_id         104825 non-null int64\n",
      "session_date    104825 non-null object\n",
      "mb_used         104825 non-null float64\n",
      "dtypes: float64(1), int64(1), object(2)\n",
      "memory usage: 3.2+ MB\n"
     ]
    },
    {
     "data": {
      "text/plain": [
       "id              0\n",
       "user_id         0\n",
       "session_date    0\n",
       "mb_used         0\n",
       "dtype: int64"
      ]
     },
     "execution_count": 32,
     "metadata": {},
     "output_type": "execute_result"
    }
   ],
   "source": [
    "# Print the general/summary information about the internet DataFrame\n",
    "\n",
    "internet_data.shape\n",
    "\n",
    "internet_data.info()\n",
    "\n",
    "internet_data.isnull().sum()"
   ]
  },
  {
   "cell_type": "code",
   "execution_count": 33,
   "metadata": {},
   "outputs": [
    {
     "data": {
      "text/html": [
       "<div>\n",
       "<style scoped>\n",
       "    .dataframe tbody tr th:only-of-type {\n",
       "        vertical-align: middle;\n",
       "    }\n",
       "\n",
       "    .dataframe tbody tr th {\n",
       "        vertical-align: top;\n",
       "    }\n",
       "\n",
       "    .dataframe thead th {\n",
       "        text-align: right;\n",
       "    }\n",
       "</style>\n",
       "<table border=\"1\" class=\"dataframe\">\n",
       "  <thead>\n",
       "    <tr style=\"text-align: right;\">\n",
       "      <th></th>\n",
       "      <th>id</th>\n",
       "      <th>user_id</th>\n",
       "      <th>session_date</th>\n",
       "      <th>mb_used</th>\n",
       "    </tr>\n",
       "  </thead>\n",
       "  <tbody>\n",
       "    <tr>\n",
       "      <td>0</td>\n",
       "      <td>1000_13</td>\n",
       "      <td>1000</td>\n",
       "      <td>2018-12-29</td>\n",
       "      <td>89.86</td>\n",
       "    </tr>\n",
       "    <tr>\n",
       "      <td>1</td>\n",
       "      <td>1000_204</td>\n",
       "      <td>1000</td>\n",
       "      <td>2018-12-31</td>\n",
       "      <td>0.00</td>\n",
       "    </tr>\n",
       "    <tr>\n",
       "      <td>2</td>\n",
       "      <td>1000_379</td>\n",
       "      <td>1000</td>\n",
       "      <td>2018-12-28</td>\n",
       "      <td>660.40</td>\n",
       "    </tr>\n",
       "    <tr>\n",
       "      <td>3</td>\n",
       "      <td>1000_413</td>\n",
       "      <td>1000</td>\n",
       "      <td>2018-12-26</td>\n",
       "      <td>270.99</td>\n",
       "    </tr>\n",
       "    <tr>\n",
       "      <td>4</td>\n",
       "      <td>1000_442</td>\n",
       "      <td>1000</td>\n",
       "      <td>2018-12-27</td>\n",
       "      <td>880.22</td>\n",
       "    </tr>\n",
       "    <tr>\n",
       "      <td>5</td>\n",
       "      <td>1001_0</td>\n",
       "      <td>1001</td>\n",
       "      <td>2018-08-24</td>\n",
       "      <td>284.68</td>\n",
       "    </tr>\n",
       "    <tr>\n",
       "      <td>6</td>\n",
       "      <td>1001_3</td>\n",
       "      <td>1001</td>\n",
       "      <td>2018-12-09</td>\n",
       "      <td>656.04</td>\n",
       "    </tr>\n",
       "    <tr>\n",
       "      <td>7</td>\n",
       "      <td>1001_4</td>\n",
       "      <td>1001</td>\n",
       "      <td>2018-11-04</td>\n",
       "      <td>16.97</td>\n",
       "    </tr>\n",
       "    <tr>\n",
       "      <td>8</td>\n",
       "      <td>1001_10</td>\n",
       "      <td>1001</td>\n",
       "      <td>2018-11-27</td>\n",
       "      <td>135.18</td>\n",
       "    </tr>\n",
       "    <tr>\n",
       "      <td>9</td>\n",
       "      <td>1001_15</td>\n",
       "      <td>1001</td>\n",
       "      <td>2018-12-13</td>\n",
       "      <td>761.92</td>\n",
       "    </tr>\n",
       "  </tbody>\n",
       "</table>\n",
       "</div>"
      ],
      "text/plain": [
       "         id  user_id session_date  mb_used\n",
       "0   1000_13     1000   2018-12-29    89.86\n",
       "1  1000_204     1000   2018-12-31     0.00\n",
       "2  1000_379     1000   2018-12-28   660.40\n",
       "3  1000_413     1000   2018-12-26   270.99\n",
       "4  1000_442     1000   2018-12-27   880.22\n",
       "5    1001_0     1001   2018-08-24   284.68\n",
       "6    1001_3     1001   2018-12-09   656.04\n",
       "7    1001_4     1001   2018-11-04    16.97\n",
       "8   1001_10     1001   2018-11-27   135.18\n",
       "9   1001_15     1001   2018-12-13   761.92"
      ]
     },
     "execution_count": 33,
     "metadata": {},
     "output_type": "execute_result"
    }
   ],
   "source": [
    "# Print a sample of data for the internet traffic\n",
    "\n",
    "internet_data.head(10)"
   ]
  },
  {
   "cell_type": "code",
   "execution_count": 34,
   "metadata": {},
   "outputs": [
    {
     "data": {
      "text/plain": [
       "0"
      ]
     },
     "execution_count": 34,
     "metadata": {},
     "output_type": "execute_result"
    }
   ],
   "source": [
    "# Checks for duplicates\n",
    "\n",
    "internet_data.duplicated().sum()"
   ]
  },
  {
   "cell_type": "markdown",
   "metadata": {},
   "source": [
    "**Initial Observations**\n",
    "* There are no null values.\n",
    "* There are no duplicates.\n",
    "* I will convert the \"session_date\" column to a datetime object. \n",
    "* I will add a column that indicates only the month."
   ]
  },
  {
   "cell_type": "markdown",
   "metadata": {},
   "source": [
    "### Fix data"
   ]
  },
  {
   "cell_type": "code",
   "execution_count": 35,
   "metadata": {},
   "outputs": [],
   "source": [
    "# Converts the message_date column to a datetime object\n",
    "\n",
    "internet_data['session_date'] = pd.to_datetime(internet_data['session_date'], format='%Y-%m-%d')"
   ]
  },
  {
   "cell_type": "code",
   "execution_count": 36,
   "metadata": {},
   "outputs": [
    {
     "name": "stdout",
     "output_type": "stream",
     "text": [
      "<class 'pandas.core.frame.DataFrame'>\n",
      "RangeIndex: 104825 entries, 0 to 104824\n",
      "Data columns (total 4 columns):\n",
      "id              104825 non-null object\n",
      "user_id         104825 non-null int64\n",
      "session_date    104825 non-null datetime64[ns]\n",
      "mb_used         104825 non-null float64\n",
      "dtypes: datetime64[ns](1), float64(1), int64(1), object(1)\n",
      "memory usage: 3.2+ MB\n"
     ]
    },
    {
     "data": {
      "text/html": [
       "<div>\n",
       "<style scoped>\n",
       "    .dataframe tbody tr th:only-of-type {\n",
       "        vertical-align: middle;\n",
       "    }\n",
       "\n",
       "    .dataframe tbody tr th {\n",
       "        vertical-align: top;\n",
       "    }\n",
       "\n",
       "    .dataframe thead th {\n",
       "        text-align: right;\n",
       "    }\n",
       "</style>\n",
       "<table border=\"1\" class=\"dataframe\">\n",
       "  <thead>\n",
       "    <tr style=\"text-align: right;\">\n",
       "      <th></th>\n",
       "      <th>id</th>\n",
       "      <th>user_id</th>\n",
       "      <th>session_date</th>\n",
       "      <th>mb_used</th>\n",
       "    </tr>\n",
       "  </thead>\n",
       "  <tbody>\n",
       "    <tr>\n",
       "      <td>0</td>\n",
       "      <td>1000_13</td>\n",
       "      <td>1000</td>\n",
       "      <td>2018-12-29</td>\n",
       "      <td>89.86</td>\n",
       "    </tr>\n",
       "    <tr>\n",
       "      <td>1</td>\n",
       "      <td>1000_204</td>\n",
       "      <td>1000</td>\n",
       "      <td>2018-12-31</td>\n",
       "      <td>0.00</td>\n",
       "    </tr>\n",
       "    <tr>\n",
       "      <td>2</td>\n",
       "      <td>1000_379</td>\n",
       "      <td>1000</td>\n",
       "      <td>2018-12-28</td>\n",
       "      <td>660.40</td>\n",
       "    </tr>\n",
       "    <tr>\n",
       "      <td>3</td>\n",
       "      <td>1000_413</td>\n",
       "      <td>1000</td>\n",
       "      <td>2018-12-26</td>\n",
       "      <td>270.99</td>\n",
       "    </tr>\n",
       "    <tr>\n",
       "      <td>4</td>\n",
       "      <td>1000_442</td>\n",
       "      <td>1000</td>\n",
       "      <td>2018-12-27</td>\n",
       "      <td>880.22</td>\n",
       "    </tr>\n",
       "  </tbody>\n",
       "</table>\n",
       "</div>"
      ],
      "text/plain": [
       "         id  user_id session_date  mb_used\n",
       "0   1000_13     1000   2018-12-29    89.86\n",
       "1  1000_204     1000   2018-12-31     0.00\n",
       "2  1000_379     1000   2018-12-28   660.40\n",
       "3  1000_413     1000   2018-12-26   270.99\n",
       "4  1000_442     1000   2018-12-27   880.22"
      ]
     },
     "execution_count": 36,
     "metadata": {},
     "output_type": "execute_result"
    }
   ],
   "source": [
    "# Checks if the date column successfully converted to a datetime object\n",
    "\n",
    "internet_data.info()\n",
    "\n",
    "internet_data.head()"
   ]
  },
  {
   "cell_type": "markdown",
   "metadata": {},
   "source": [
    "### Enrich data"
   ]
  },
  {
   "cell_type": "code",
   "execution_count": 37,
   "metadata": {},
   "outputs": [
    {
     "data": {
      "text/html": [
       "<div>\n",
       "<style scoped>\n",
       "    .dataframe tbody tr th:only-of-type {\n",
       "        vertical-align: middle;\n",
       "    }\n",
       "\n",
       "    .dataframe tbody tr th {\n",
       "        vertical-align: top;\n",
       "    }\n",
       "\n",
       "    .dataframe thead th {\n",
       "        text-align: right;\n",
       "    }\n",
       "</style>\n",
       "<table border=\"1\" class=\"dataframe\">\n",
       "  <thead>\n",
       "    <tr style=\"text-align: right;\">\n",
       "      <th></th>\n",
       "      <th>id</th>\n",
       "      <th>user_id</th>\n",
       "      <th>session_date</th>\n",
       "      <th>mb_used</th>\n",
       "      <th>month</th>\n",
       "    </tr>\n",
       "  </thead>\n",
       "  <tbody>\n",
       "    <tr>\n",
       "      <td>0</td>\n",
       "      <td>1000_13</td>\n",
       "      <td>1000</td>\n",
       "      <td>2018-12-29</td>\n",
       "      <td>89.86</td>\n",
       "      <td>12</td>\n",
       "    </tr>\n",
       "    <tr>\n",
       "      <td>1</td>\n",
       "      <td>1000_204</td>\n",
       "      <td>1000</td>\n",
       "      <td>2018-12-31</td>\n",
       "      <td>0.00</td>\n",
       "      <td>12</td>\n",
       "    </tr>\n",
       "    <tr>\n",
       "      <td>2</td>\n",
       "      <td>1000_379</td>\n",
       "      <td>1000</td>\n",
       "      <td>2018-12-28</td>\n",
       "      <td>660.40</td>\n",
       "      <td>12</td>\n",
       "    </tr>\n",
       "    <tr>\n",
       "      <td>3</td>\n",
       "      <td>1000_413</td>\n",
       "      <td>1000</td>\n",
       "      <td>2018-12-26</td>\n",
       "      <td>270.99</td>\n",
       "      <td>12</td>\n",
       "    </tr>\n",
       "    <tr>\n",
       "      <td>4</td>\n",
       "      <td>1000_442</td>\n",
       "      <td>1000</td>\n",
       "      <td>2018-12-27</td>\n",
       "      <td>880.22</td>\n",
       "      <td>12</td>\n",
       "    </tr>\n",
       "  </tbody>\n",
       "</table>\n",
       "</div>"
      ],
      "text/plain": [
       "         id  user_id session_date  mb_used  month\n",
       "0   1000_13     1000   2018-12-29    89.86     12\n",
       "1  1000_204     1000   2018-12-31     0.00     12\n",
       "2  1000_379     1000   2018-12-28   660.40     12\n",
       "3  1000_413     1000   2018-12-26   270.99     12\n",
       "4  1000_442     1000   2018-12-27   880.22     12"
      ]
     },
     "execution_count": 37,
     "metadata": {},
     "output_type": "execute_result"
    }
   ],
   "source": [
    "internet_data['month'] = pd.DatetimeIndex(internet_data['session_date']).month\n",
    "\n",
    "internet_data.head()"
   ]
  },
  {
   "cell_type": "markdown",
   "metadata": {},
   "source": [
    "## Study plan conditions"
   ]
  },
  {
   "cell_type": "code",
   "execution_count": 38,
   "metadata": {},
   "outputs": [
    {
     "data": {
      "text/html": [
       "<div>\n",
       "<style scoped>\n",
       "    .dataframe tbody tr th:only-of-type {\n",
       "        vertical-align: middle;\n",
       "    }\n",
       "\n",
       "    .dataframe tbody tr th {\n",
       "        vertical-align: top;\n",
       "    }\n",
       "\n",
       "    .dataframe thead th {\n",
       "        text-align: right;\n",
       "    }\n",
       "</style>\n",
       "<table border=\"1\" class=\"dataframe\">\n",
       "  <thead>\n",
       "    <tr style=\"text-align: right;\">\n",
       "      <th></th>\n",
       "      <th>messages_included</th>\n",
       "      <th>mb_per_month_included</th>\n",
       "      <th>minutes_included</th>\n",
       "      <th>usd_monthly_pay</th>\n",
       "      <th>usd_per_gb</th>\n",
       "      <th>usd_per_message</th>\n",
       "      <th>usd_per_minute</th>\n",
       "      <th>plan_name</th>\n",
       "    </tr>\n",
       "  </thead>\n",
       "  <tbody>\n",
       "    <tr>\n",
       "      <td>0</td>\n",
       "      <td>50</td>\n",
       "      <td>15360</td>\n",
       "      <td>500</td>\n",
       "      <td>20</td>\n",
       "      <td>10</td>\n",
       "      <td>0.03</td>\n",
       "      <td>0.03</td>\n",
       "      <td>surf</td>\n",
       "    </tr>\n",
       "    <tr>\n",
       "      <td>1</td>\n",
       "      <td>1000</td>\n",
       "      <td>30720</td>\n",
       "      <td>3000</td>\n",
       "      <td>70</td>\n",
       "      <td>7</td>\n",
       "      <td>0.01</td>\n",
       "      <td>0.01</td>\n",
       "      <td>ultimate</td>\n",
       "    </tr>\n",
       "  </tbody>\n",
       "</table>\n",
       "</div>"
      ],
      "text/plain": [
       "   messages_included  mb_per_month_included  minutes_included  \\\n",
       "0                 50                  15360               500   \n",
       "1               1000                  30720              3000   \n",
       "\n",
       "   usd_monthly_pay  usd_per_gb  usd_per_message  usd_per_minute plan_name  \n",
       "0               20          10             0.03            0.03      surf  \n",
       "1               70           7             0.01            0.01  ultimate  "
      ]
     },
     "execution_count": 38,
     "metadata": {},
     "output_type": "execute_result"
    }
   ],
   "source": [
    "# Print out the plan conditions and make sure they are clear as we continue analysis\n",
    "\n",
    "plan_data"
   ]
  },
  {
   "cell_type": "code",
   "execution_count": 39,
   "metadata": {},
   "outputs": [
    {
     "data": {
      "text/html": [
       "<div>\n",
       "<style scoped>\n",
       "    .dataframe tbody tr th:only-of-type {\n",
       "        vertical-align: middle;\n",
       "    }\n",
       "\n",
       "    .dataframe tbody tr th {\n",
       "        vertical-align: top;\n",
       "    }\n",
       "\n",
       "    .dataframe thead th {\n",
       "        text-align: right;\n",
       "    }\n",
       "</style>\n",
       "<table border=\"1\" class=\"dataframe\">\n",
       "  <thead>\n",
       "    <tr style=\"text-align: right;\">\n",
       "      <th></th>\n",
       "      <th>user_id</th>\n",
       "      <th>month</th>\n",
       "      <th>monthly_calls</th>\n",
       "    </tr>\n",
       "  </thead>\n",
       "  <tbody>\n",
       "    <tr>\n",
       "      <td>0</td>\n",
       "      <td>1000</td>\n",
       "      <td>12</td>\n",
       "      <td>16</td>\n",
       "    </tr>\n",
       "    <tr>\n",
       "      <td>1</td>\n",
       "      <td>1001</td>\n",
       "      <td>8</td>\n",
       "      <td>27</td>\n",
       "    </tr>\n",
       "    <tr>\n",
       "      <td>2</td>\n",
       "      <td>1001</td>\n",
       "      <td>9</td>\n",
       "      <td>49</td>\n",
       "    </tr>\n",
       "    <tr>\n",
       "      <td>3</td>\n",
       "      <td>1001</td>\n",
       "      <td>10</td>\n",
       "      <td>65</td>\n",
       "    </tr>\n",
       "    <tr>\n",
       "      <td>4</td>\n",
       "      <td>1001</td>\n",
       "      <td>11</td>\n",
       "      <td>64</td>\n",
       "    </tr>\n",
       "  </tbody>\n",
       "</table>\n",
       "</div>"
      ],
      "text/plain": [
       "   user_id  month  monthly_calls\n",
       "0     1000     12             16\n",
       "1     1001      8             27\n",
       "2     1001      9             49\n",
       "3     1001     10             65\n",
       "4     1001     11             64"
      ]
     },
     "execution_count": 39,
     "metadata": {},
     "output_type": "execute_result"
    }
   ],
   "source": [
    "# Calculates the number of calls and the duration of calls made by each user per month. Saves the result into calls_monthly. \n",
    "\n",
    "calls_monthly = call_data.pivot_table(index = ('user_id','month'), values = 'id', aggfunc = 'count').reset_index()\n",
    "\n",
    "calls_monthly.rename(columns={'id':'monthly_calls'},inplace=True) # Renames column to be more clear\n",
    "\n",
    "calls_monthly.head()\n"
   ]
  },
  {
   "cell_type": "code",
   "execution_count": 40,
   "metadata": {},
   "outputs": [
    {
     "data": {
      "text/html": [
       "<div>\n",
       "<style scoped>\n",
       "    .dataframe tbody tr th:only-of-type {\n",
       "        vertical-align: middle;\n",
       "    }\n",
       "\n",
       "    .dataframe tbody tr th {\n",
       "        vertical-align: top;\n",
       "    }\n",
       "\n",
       "    .dataframe thead th {\n",
       "        text-align: right;\n",
       "    }\n",
       "</style>\n",
       "<table border=\"1\" class=\"dataframe\">\n",
       "  <thead>\n",
       "    <tr style=\"text-align: right;\">\n",
       "      <th></th>\n",
       "      <th>user_id</th>\n",
       "      <th>month</th>\n",
       "      <th>monthly_minutes</th>\n",
       "    </tr>\n",
       "  </thead>\n",
       "  <tbody>\n",
       "    <tr>\n",
       "      <td>0</td>\n",
       "      <td>1000</td>\n",
       "      <td>12</td>\n",
       "      <td>124.0</td>\n",
       "    </tr>\n",
       "    <tr>\n",
       "      <td>1</td>\n",
       "      <td>1001</td>\n",
       "      <td>8</td>\n",
       "      <td>182.0</td>\n",
       "    </tr>\n",
       "    <tr>\n",
       "      <td>2</td>\n",
       "      <td>1001</td>\n",
       "      <td>9</td>\n",
       "      <td>315.0</td>\n",
       "    </tr>\n",
       "    <tr>\n",
       "      <td>3</td>\n",
       "      <td>1001</td>\n",
       "      <td>10</td>\n",
       "      <td>393.0</td>\n",
       "    </tr>\n",
       "    <tr>\n",
       "      <td>4</td>\n",
       "      <td>1001</td>\n",
       "      <td>11</td>\n",
       "      <td>426.0</td>\n",
       "    </tr>\n",
       "  </tbody>\n",
       "</table>\n",
       "</div>"
      ],
      "text/plain": [
       "   user_id  month  monthly_minutes\n",
       "0     1000     12            124.0\n",
       "1     1001      8            182.0\n",
       "2     1001      9            315.0\n",
       "3     1001     10            393.0\n",
       "4     1001     11            426.0"
      ]
     },
     "execution_count": 40,
     "metadata": {},
     "output_type": "execute_result"
    }
   ],
   "source": [
    "# Calculates the amount of minutes spent by each user per month. Saves the result into minutes_monthly.\n",
    "\n",
    "call_data['duration'] = call_data['duration'].apply(np.ceil) # Rounds the duration column up to the minute\n",
    "\n",
    "minutes_monthly = call_data.pivot_table(index = ('user_id','month'), values = 'duration', aggfunc = ('sum')).reset_index()\n",
    "\n",
    "minutes_monthly.rename(columns={'duration':'monthly_minutes'},inplace=True) # Renames column to be more clear\n",
    "\n",
    "minutes_monthly.head()\n"
   ]
  },
  {
   "cell_type": "code",
   "execution_count": 41,
   "metadata": {},
   "outputs": [
    {
     "data": {
      "text/html": [
       "<div>\n",
       "<style scoped>\n",
       "    .dataframe tbody tr th:only-of-type {\n",
       "        vertical-align: middle;\n",
       "    }\n",
       "\n",
       "    .dataframe tbody tr th {\n",
       "        vertical-align: top;\n",
       "    }\n",
       "\n",
       "    .dataframe thead th {\n",
       "        text-align: right;\n",
       "    }\n",
       "</style>\n",
       "<table border=\"1\" class=\"dataframe\">\n",
       "  <thead>\n",
       "    <tr style=\"text-align: right;\">\n",
       "      <th></th>\n",
       "      <th>user_id</th>\n",
       "      <th>month</th>\n",
       "      <th>monthly_messages</th>\n",
       "    </tr>\n",
       "  </thead>\n",
       "  <tbody>\n",
       "    <tr>\n",
       "      <td>0</td>\n",
       "      <td>1000</td>\n",
       "      <td>12</td>\n",
       "      <td>16</td>\n",
       "    </tr>\n",
       "    <tr>\n",
       "      <td>1</td>\n",
       "      <td>1001</td>\n",
       "      <td>8</td>\n",
       "      <td>27</td>\n",
       "    </tr>\n",
       "    <tr>\n",
       "      <td>2</td>\n",
       "      <td>1001</td>\n",
       "      <td>9</td>\n",
       "      <td>49</td>\n",
       "    </tr>\n",
       "    <tr>\n",
       "      <td>3</td>\n",
       "      <td>1001</td>\n",
       "      <td>10</td>\n",
       "      <td>65</td>\n",
       "    </tr>\n",
       "    <tr>\n",
       "      <td>4</td>\n",
       "      <td>1001</td>\n",
       "      <td>11</td>\n",
       "      <td>64</td>\n",
       "    </tr>\n",
       "  </tbody>\n",
       "</table>\n",
       "</div>"
      ],
      "text/plain": [
       "   user_id  month  monthly_messages\n",
       "0     1000     12                16\n",
       "1     1001      8                27\n",
       "2     1001      9                49\n",
       "3     1001     10                65\n",
       "4     1001     11                64"
      ]
     },
     "execution_count": 41,
     "metadata": {},
     "output_type": "execute_result"
    }
   ],
   "source": [
    "# Calculates the number of messages sent by each user per month. Saves the result into messages_monthly.\n",
    "\n",
    "message_data.head()\n",
    "\n",
    "messages_monthly = call_data.pivot_table(index = ('user_id','month'), values = 'id', aggfunc = ('count')).reset_index()\n",
    "\n",
    "messages_monthly.rename(columns={'id':'monthly_messages'},inplace=True) # Renames column to be more clear\n",
    "\n",
    "messages_monthly.head()\n"
   ]
  },
  {
   "cell_type": "code",
   "execution_count": 42,
   "metadata": {},
   "outputs": [
    {
     "data": {
      "text/html": [
       "<div>\n",
       "<style scoped>\n",
       "    .dataframe tbody tr th:only-of-type {\n",
       "        vertical-align: middle;\n",
       "    }\n",
       "\n",
       "    .dataframe tbody tr th {\n",
       "        vertical-align: top;\n",
       "    }\n",
       "\n",
       "    .dataframe thead th {\n",
       "        text-align: right;\n",
       "    }\n",
       "</style>\n",
       "<table border=\"1\" class=\"dataframe\">\n",
       "  <thead>\n",
       "    <tr style=\"text-align: right;\">\n",
       "      <th></th>\n",
       "      <th>user_id</th>\n",
       "      <th>month</th>\n",
       "      <th>internet_mb</th>\n",
       "    </tr>\n",
       "  </thead>\n",
       "  <tbody>\n",
       "    <tr>\n",
       "      <td>0</td>\n",
       "      <td>1000</td>\n",
       "      <td>12</td>\n",
       "      <td>1901.47</td>\n",
       "    </tr>\n",
       "    <tr>\n",
       "      <td>1</td>\n",
       "      <td>1001</td>\n",
       "      <td>8</td>\n",
       "      <td>6919.15</td>\n",
       "    </tr>\n",
       "    <tr>\n",
       "      <td>2</td>\n",
       "      <td>1001</td>\n",
       "      <td>9</td>\n",
       "      <td>13314.82</td>\n",
       "    </tr>\n",
       "    <tr>\n",
       "      <td>3</td>\n",
       "      <td>1001</td>\n",
       "      <td>10</td>\n",
       "      <td>22330.49</td>\n",
       "    </tr>\n",
       "    <tr>\n",
       "      <td>4</td>\n",
       "      <td>1001</td>\n",
       "      <td>11</td>\n",
       "      <td>18504.30</td>\n",
       "    </tr>\n",
       "  </tbody>\n",
       "</table>\n",
       "</div>"
      ],
      "text/plain": [
       "   user_id  month  internet_mb\n",
       "0     1000     12      1901.47\n",
       "1     1001      8      6919.15\n",
       "2     1001      9     13314.82\n",
       "3     1001     10     22330.49\n",
       "4     1001     11     18504.30"
      ]
     },
     "execution_count": 42,
     "metadata": {},
     "output_type": "execute_result"
    }
   ],
   "source": [
    "# Calculates the volume of internet traffic used by each user per month. Saves the result into internet_volume_mb.\n",
    "\n",
    "internet_data.head()\n",
    "\n",
    "internet_volume = internet_data.pivot_table(index = ('user_id','month'), values = 'mb_used', aggfunc = ('sum')).reset_index()\n",
    "\n",
    "internet_volume.rename(columns={'mb_used':'internet_mb'},inplace=True) # Renames column to be more clear\n",
    "\n",
    "internet_volume.head()\n"
   ]
  },
  {
   "cell_type": "code",
   "execution_count": 43,
   "metadata": {},
   "outputs": [
    {
     "data": {
      "text/html": [
       "<div>\n",
       "<style scoped>\n",
       "    .dataframe tbody tr th:only-of-type {\n",
       "        vertical-align: middle;\n",
       "    }\n",
       "\n",
       "    .dataframe tbody tr th {\n",
       "        vertical-align: top;\n",
       "    }\n",
       "\n",
       "    .dataframe thead th {\n",
       "        text-align: right;\n",
       "    }\n",
       "</style>\n",
       "<table border=\"1\" class=\"dataframe\">\n",
       "  <thead>\n",
       "    <tr style=\"text-align: right;\">\n",
       "      <th></th>\n",
       "      <th>user_id</th>\n",
       "      <th>month</th>\n",
       "      <th>monthly_calls</th>\n",
       "      <th>monthly_minutes</th>\n",
       "      <th>monthly_messages</th>\n",
       "      <th>internet_mb</th>\n",
       "    </tr>\n",
       "  </thead>\n",
       "  <tbody>\n",
       "    <tr>\n",
       "      <td>0</td>\n",
       "      <td>1000</td>\n",
       "      <td>12</td>\n",
       "      <td>16.0</td>\n",
       "      <td>124.0</td>\n",
       "      <td>16.0</td>\n",
       "      <td>1901.47</td>\n",
       "    </tr>\n",
       "    <tr>\n",
       "      <td>1</td>\n",
       "      <td>1001</td>\n",
       "      <td>8</td>\n",
       "      <td>27.0</td>\n",
       "      <td>182.0</td>\n",
       "      <td>27.0</td>\n",
       "      <td>6919.15</td>\n",
       "    </tr>\n",
       "    <tr>\n",
       "      <td>2</td>\n",
       "      <td>1001</td>\n",
       "      <td>9</td>\n",
       "      <td>49.0</td>\n",
       "      <td>315.0</td>\n",
       "      <td>49.0</td>\n",
       "      <td>13314.82</td>\n",
       "    </tr>\n",
       "    <tr>\n",
       "      <td>3</td>\n",
       "      <td>1001</td>\n",
       "      <td>10</td>\n",
       "      <td>65.0</td>\n",
       "      <td>393.0</td>\n",
       "      <td>65.0</td>\n",
       "      <td>22330.49</td>\n",
       "    </tr>\n",
       "    <tr>\n",
       "      <td>4</td>\n",
       "      <td>1001</td>\n",
       "      <td>11</td>\n",
       "      <td>64.0</td>\n",
       "      <td>426.0</td>\n",
       "      <td>64.0</td>\n",
       "      <td>18504.30</td>\n",
       "    </tr>\n",
       "  </tbody>\n",
       "</table>\n",
       "</div>"
      ],
      "text/plain": [
       "   user_id  month  monthly_calls  monthly_minutes  monthly_messages  \\\n",
       "0     1000     12           16.0            124.0              16.0   \n",
       "1     1001      8           27.0            182.0              27.0   \n",
       "2     1001      9           49.0            315.0              49.0   \n",
       "3     1001     10           65.0            393.0              65.0   \n",
       "4     1001     11           64.0            426.0              64.0   \n",
       "\n",
       "   internet_mb  \n",
       "0      1901.47  \n",
       "1      6919.15  \n",
       "2     13314.82  \n",
       "3     22330.49  \n",
       "4     18504.30  "
      ]
     },
     "execution_count": 43,
     "metadata": {},
     "output_type": "execute_result"
    }
   ],
   "source": [
    "# Merges the data for calls, minutes, messages, internet based on user_id and month\n",
    "\n",
    "user_data_total = calls_monthly.merge(minutes_monthly, on=['user_id', 'month'], how='outer')  \n",
    "\n",
    "user_data_total.head()\n",
    "\n",
    "user_data_total = user_data_total.merge(messages_monthly, on=['user_id', 'month'], how='outer')\n",
    "\n",
    "user_data_total.head()\n",
    "\n",
    "user_data_total = user_data_total.merge(internet_volume, on=['user_id', 'month'], how='outer')\n",
    "\n",
    "user_data_total.head()"
   ]
  },
  {
   "cell_type": "code",
   "execution_count": 44,
   "metadata": {},
   "outputs": [
    {
     "data": {
      "text/html": [
       "<div>\n",
       "<style scoped>\n",
       "    .dataframe tbody tr th:only-of-type {\n",
       "        vertical-align: middle;\n",
       "    }\n",
       "\n",
       "    .dataframe tbody tr th {\n",
       "        vertical-align: top;\n",
       "    }\n",
       "\n",
       "    .dataframe thead th {\n",
       "        text-align: right;\n",
       "    }\n",
       "</style>\n",
       "<table border=\"1\" class=\"dataframe\">\n",
       "  <thead>\n",
       "    <tr style=\"text-align: right;\">\n",
       "      <th></th>\n",
       "      <th>user_id</th>\n",
       "      <th>month</th>\n",
       "      <th>monthly_calls</th>\n",
       "      <th>monthly_minutes</th>\n",
       "      <th>monthly_messages</th>\n",
       "      <th>internet_mb</th>\n",
       "      <th>plan</th>\n",
       "    </tr>\n",
       "  </thead>\n",
       "  <tbody>\n",
       "    <tr>\n",
       "      <td>0</td>\n",
       "      <td>1000</td>\n",
       "      <td>12.0</td>\n",
       "      <td>16.0</td>\n",
       "      <td>124.0</td>\n",
       "      <td>16.0</td>\n",
       "      <td>1901.47</td>\n",
       "      <td>ultimate</td>\n",
       "    </tr>\n",
       "    <tr>\n",
       "      <td>1</td>\n",
       "      <td>1001</td>\n",
       "      <td>8.0</td>\n",
       "      <td>27.0</td>\n",
       "      <td>182.0</td>\n",
       "      <td>27.0</td>\n",
       "      <td>6919.15</td>\n",
       "      <td>surf</td>\n",
       "    </tr>\n",
       "    <tr>\n",
       "      <td>2</td>\n",
       "      <td>1001</td>\n",
       "      <td>9.0</td>\n",
       "      <td>49.0</td>\n",
       "      <td>315.0</td>\n",
       "      <td>49.0</td>\n",
       "      <td>13314.82</td>\n",
       "      <td>surf</td>\n",
       "    </tr>\n",
       "    <tr>\n",
       "      <td>3</td>\n",
       "      <td>1001</td>\n",
       "      <td>10.0</td>\n",
       "      <td>65.0</td>\n",
       "      <td>393.0</td>\n",
       "      <td>65.0</td>\n",
       "      <td>22330.49</td>\n",
       "      <td>surf</td>\n",
       "    </tr>\n",
       "    <tr>\n",
       "      <td>4</td>\n",
       "      <td>1001</td>\n",
       "      <td>11.0</td>\n",
       "      <td>64.0</td>\n",
       "      <td>426.0</td>\n",
       "      <td>64.0</td>\n",
       "      <td>18504.30</td>\n",
       "      <td>surf</td>\n",
       "    </tr>\n",
       "  </tbody>\n",
       "</table>\n",
       "</div>"
      ],
      "text/plain": [
       "   user_id  month  monthly_calls  monthly_minutes  monthly_messages  \\\n",
       "0     1000   12.0           16.0            124.0              16.0   \n",
       "1     1001    8.0           27.0            182.0              27.0   \n",
       "2     1001    9.0           49.0            315.0              49.0   \n",
       "3     1001   10.0           65.0            393.0              65.0   \n",
       "4     1001   11.0           64.0            426.0              64.0   \n",
       "\n",
       "   internet_mb      plan  \n",
       "0      1901.47  ultimate  \n",
       "1      6919.15      surf  \n",
       "2     13314.82      surf  \n",
       "3     22330.49      surf  \n",
       "4     18504.30      surf  "
      ]
     },
     "execution_count": 44,
     "metadata": {},
     "output_type": "execute_result"
    }
   ],
   "source": [
    "# Adds the plan information\n",
    "\n",
    "user_data_plan = user_data[['user_id','plan']]\n",
    "\n",
    "user_data_plan.head()\n",
    "\n",
    "user_data_total = user_data_total.merge(user_data_plan, on=['user_id'], how='outer')\n",
    "\n",
    "user_data_total.head()\n"
   ]
  },
  {
   "cell_type": "markdown",
   "metadata": {},
   "source": [
    "**Calculating monthly revenue**\n",
    "\n",
    "To calculate the monthly revenue for each user, I will:\n",
    "* Subtract the free package limit from the total number of calls, text messages, and data\n",
    "* Multiply the result by the calling plan value\n",
    "* Add the monthly charge depending on the calling plan"
   ]
  },
  {
   "cell_type": "code",
   "execution_count": 45,
   "metadata": {},
   "outputs": [
    {
     "data": {
      "text/html": [
       "<div>\n",
       "<style scoped>\n",
       "    .dataframe tbody tr th:only-of-type {\n",
       "        vertical-align: middle;\n",
       "    }\n",
       "\n",
       "    .dataframe tbody tr th {\n",
       "        vertical-align: top;\n",
       "    }\n",
       "\n",
       "    .dataframe thead th {\n",
       "        text-align: right;\n",
       "    }\n",
       "</style>\n",
       "<table border=\"1\" class=\"dataframe\">\n",
       "  <thead>\n",
       "    <tr style=\"text-align: right;\">\n",
       "      <th></th>\n",
       "      <th>messages_included</th>\n",
       "      <th>mb_per_month_included</th>\n",
       "      <th>minutes_included</th>\n",
       "      <th>usd_monthly_pay</th>\n",
       "      <th>usd_per_gb</th>\n",
       "      <th>usd_per_message</th>\n",
       "      <th>usd_per_minute</th>\n",
       "      <th>plan_name</th>\n",
       "    </tr>\n",
       "  </thead>\n",
       "  <tbody>\n",
       "    <tr>\n",
       "      <td>0</td>\n",
       "      <td>50</td>\n",
       "      <td>15360</td>\n",
       "      <td>500</td>\n",
       "      <td>20</td>\n",
       "      <td>10</td>\n",
       "      <td>0.03</td>\n",
       "      <td>0.03</td>\n",
       "      <td>surf</td>\n",
       "    </tr>\n",
       "    <tr>\n",
       "      <td>1</td>\n",
       "      <td>1000</td>\n",
       "      <td>30720</td>\n",
       "      <td>3000</td>\n",
       "      <td>70</td>\n",
       "      <td>7</td>\n",
       "      <td>0.01</td>\n",
       "      <td>0.01</td>\n",
       "      <td>ultimate</td>\n",
       "    </tr>\n",
       "  </tbody>\n",
       "</table>\n",
       "</div>"
      ],
      "text/plain": [
       "   messages_included  mb_per_month_included  minutes_included  \\\n",
       "0                 50                  15360               500   \n",
       "1               1000                  30720              3000   \n",
       "\n",
       "   usd_monthly_pay  usd_per_gb  usd_per_message  usd_per_minute plan_name  \n",
       "0               20          10             0.03            0.03      surf  \n",
       "1               70           7             0.01            0.01  ultimate  "
      ]
     },
     "execution_count": 45,
     "metadata": {},
     "output_type": "execute_result"
    }
   ],
   "source": [
    "# Reminds us of the plan data details\n",
    "\n",
    "plan_data"
   ]
  },
  {
   "cell_type": "markdown",
   "metadata": {},
   "source": [
    "**Surf Users: Calculating Monthly Revenue**"
   ]
  },
  {
   "cell_type": "code",
   "execution_count": 46,
   "metadata": {},
   "outputs": [],
   "source": [
    "# Creates a dataframe with only Surf plan users\n",
    "\n",
    "surf_users = user_data_total.loc[user_data_total['plan'] == \"surf\"] # Creates a dataframe with only Surf plan users"
   ]
  },
  {
   "cell_type": "code",
   "execution_count": 47,
   "metadata": {},
   "outputs": [],
   "source": [
    "# Calculates message revenue\n",
    "\n",
    "def surf_message(row): # Creates a function that replaces the values in the column condition with values \n",
    "    monthly_messages = row['monthly_messages']\n",
    "    surf_mess_free = plan_data.iloc[0]['messages_included']\n",
    "    surf_usd_per_mess = plan_data.iloc[0]['usd_per_message']\n",
    "    if monthly_messages - surf_mess_free > 0:\n",
    "        return (monthly_messages - surf_mess_free) * surf_usd_per_mess\n",
    "    else: \n",
    "        return 0"
   ]
  },
  {
   "cell_type": "code",
   "execution_count": 48,
   "metadata": {},
   "outputs": [
    {
     "name": "stdout",
     "output_type": "stream",
     "text": [
      "1.5\n"
     ]
    }
   ],
   "source": [
    "# Tests the function\n",
    "\n",
    "row_values = [100] # Creates a list that indicates row value\n",
    "row_columns = ['monthly_messages'] # Creates list that indicates column name\n",
    "\n",
    "row = pd.Series(data=row_values, index=row_columns) # Creates a new row with the above values\n",
    "\n",
    "print(surf_message(row)) # Passes the row through the function"
   ]
  },
  {
   "cell_type": "code",
   "execution_count": 49,
   "metadata": {},
   "outputs": [],
   "source": [
    "# Passes the function to the surf_users table\n",
    "\n",
    "surf_users['message_revenue'] = surf_users.apply(surf_message, axis=1) # Pass the function\n"
   ]
  },
  {
   "cell_type": "code",
   "execution_count": 50,
   "metadata": {},
   "outputs": [],
   "source": [
    "# Calculates call revenue\n",
    "\n",
    "def surf_minutes(row): # Creates a function that replaces the values in the column condition with values \n",
    "    monthly_minutes = row['monthly_minutes']\n",
    "    surf_min_free = plan_data.iloc[0]['minutes_included']\n",
    "    surf_usd_per_min = plan_data.iloc[0]['usd_per_minute']\n",
    "    if monthly_minutes - surf_min_free > 0:\n",
    "        return (monthly_minutes - surf_min_free) * surf_usd_per_min\n",
    "    else: \n",
    "        return 0"
   ]
  },
  {
   "cell_type": "code",
   "execution_count": 51,
   "metadata": {},
   "outputs": [
    {
     "name": "stdout",
     "output_type": "stream",
     "text": [
      "15.0\n"
     ]
    }
   ],
   "source": [
    "# Tests the function\n",
    "\n",
    "row_values = [1000] # Creates a list that indicates row value\n",
    "row_columns = ['monthly_minutes'] # Creates list that indicates column name\n",
    "\n",
    "row = pd.Series(data=row_values, index=row_columns) # Creates a new row with the above values\n",
    "\n",
    "print(surf_minutes(row)) # Passes the row through the function"
   ]
  },
  {
   "cell_type": "code",
   "execution_count": 52,
   "metadata": {},
   "outputs": [
    {
     "data": {
      "text/html": [
       "<div>\n",
       "<style scoped>\n",
       "    .dataframe tbody tr th:only-of-type {\n",
       "        vertical-align: middle;\n",
       "    }\n",
       "\n",
       "    .dataframe tbody tr th {\n",
       "        vertical-align: top;\n",
       "    }\n",
       "\n",
       "    .dataframe thead th {\n",
       "        text-align: right;\n",
       "    }\n",
       "</style>\n",
       "<table border=\"1\" class=\"dataframe\">\n",
       "  <thead>\n",
       "    <tr style=\"text-align: right;\">\n",
       "      <th></th>\n",
       "      <th>user_id</th>\n",
       "      <th>month</th>\n",
       "      <th>monthly_calls</th>\n",
       "      <th>monthly_minutes</th>\n",
       "      <th>monthly_messages</th>\n",
       "      <th>internet_mb</th>\n",
       "      <th>plan</th>\n",
       "      <th>message_revenue</th>\n",
       "      <th>call_revenue</th>\n",
       "    </tr>\n",
       "  </thead>\n",
       "  <tbody>\n",
       "    <tr>\n",
       "      <td>1244</td>\n",
       "      <td>1267</td>\n",
       "      <td>12.0</td>\n",
       "      <td>205.0</td>\n",
       "      <td>1510.0</td>\n",
       "      <td>205.0</td>\n",
       "      <td>37544.16</td>\n",
       "      <td>surf</td>\n",
       "      <td>4.65</td>\n",
       "      <td>30.30</td>\n",
       "    </tr>\n",
       "    <tr>\n",
       "      <td>1673</td>\n",
       "      <td>1365</td>\n",
       "      <td>12.0</td>\n",
       "      <td>180.0</td>\n",
       "      <td>1357.0</td>\n",
       "      <td>180.0</td>\n",
       "      <td>8219.25</td>\n",
       "      <td>surf</td>\n",
       "      <td>3.90</td>\n",
       "      <td>25.71</td>\n",
       "    </tr>\n",
       "    <tr>\n",
       "      <td>1462</td>\n",
       "      <td>1324</td>\n",
       "      <td>11.0</td>\n",
       "      <td>171.0</td>\n",
       "      <td>1304.0</td>\n",
       "      <td>171.0</td>\n",
       "      <td>18287.93</td>\n",
       "      <td>surf</td>\n",
       "      <td>3.63</td>\n",
       "      <td>24.12</td>\n",
       "    </tr>\n",
       "    <tr>\n",
       "      <td>1671</td>\n",
       "      <td>1365</td>\n",
       "      <td>10.0</td>\n",
       "      <td>161.0</td>\n",
       "      <td>1227.0</td>\n",
       "      <td>161.0</td>\n",
       "      <td>9291.87</td>\n",
       "      <td>surf</td>\n",
       "      <td>3.33</td>\n",
       "      <td>21.81</td>\n",
       "    </tr>\n",
       "    <tr>\n",
       "      <td>1102</td>\n",
       "      <td>1240</td>\n",
       "      <td>9.0</td>\n",
       "      <td>180.0</td>\n",
       "      <td>1212.0</td>\n",
       "      <td>180.0</td>\n",
       "      <td>30851.55</td>\n",
       "      <td>surf</td>\n",
       "      <td>3.90</td>\n",
       "      <td>21.36</td>\n",
       "    </tr>\n",
       "    <tr>\n",
       "      <td>...</td>\n",
       "      <td>...</td>\n",
       "      <td>...</td>\n",
       "      <td>...</td>\n",
       "      <td>...</td>\n",
       "      <td>...</td>\n",
       "      <td>...</td>\n",
       "      <td>...</td>\n",
       "      <td>...</td>\n",
       "      <td>...</td>\n",
       "    </tr>\n",
       "    <tr>\n",
       "      <td>905</td>\n",
       "      <td>1193</td>\n",
       "      <td>8.0</td>\n",
       "      <td>32.0</td>\n",
       "      <td>236.0</td>\n",
       "      <td>32.0</td>\n",
       "      <td>19486.58</td>\n",
       "      <td>surf</td>\n",
       "      <td>0.00</td>\n",
       "      <td>0.00</td>\n",
       "    </tr>\n",
       "    <tr>\n",
       "      <td>904</td>\n",
       "      <td>1193</td>\n",
       "      <td>7.0</td>\n",
       "      <td>29.0</td>\n",
       "      <td>179.0</td>\n",
       "      <td>29.0</td>\n",
       "      <td>14158.63</td>\n",
       "      <td>surf</td>\n",
       "      <td>0.00</td>\n",
       "      <td>0.00</td>\n",
       "    </tr>\n",
       "    <tr>\n",
       "      <td>901</td>\n",
       "      <td>1192</td>\n",
       "      <td>10.0</td>\n",
       "      <td>69.0</td>\n",
       "      <td>437.0</td>\n",
       "      <td>69.0</td>\n",
       "      <td>8520.78</td>\n",
       "      <td>surf</td>\n",
       "      <td>0.57</td>\n",
       "      <td>0.00</td>\n",
       "    </tr>\n",
       "    <tr>\n",
       "      <td>891</td>\n",
       "      <td>1189</td>\n",
       "      <td>12.0</td>\n",
       "      <td>40.0</td>\n",
       "      <td>356.0</td>\n",
       "      <td>40.0</td>\n",
       "      <td>20546.39</td>\n",
       "      <td>surf</td>\n",
       "      <td>0.00</td>\n",
       "      <td>0.00</td>\n",
       "    </tr>\n",
       "    <tr>\n",
       "      <td>2301</td>\n",
       "      <td>1473</td>\n",
       "      <td>NaN</td>\n",
       "      <td>NaN</td>\n",
       "      <td>NaN</td>\n",
       "      <td>NaN</td>\n",
       "      <td>NaN</td>\n",
       "      <td>surf</td>\n",
       "      <td>0.00</td>\n",
       "      <td>0.00</td>\n",
       "    </tr>\n",
       "  </tbody>\n",
       "</table>\n",
       "<p>1579 rows × 9 columns</p>\n",
       "</div>"
      ],
      "text/plain": [
       "      user_id  month  monthly_calls  monthly_minutes  monthly_messages  \\\n",
       "1244     1267   12.0          205.0           1510.0             205.0   \n",
       "1673     1365   12.0          180.0           1357.0             180.0   \n",
       "1462     1324   11.0          171.0           1304.0             171.0   \n",
       "1671     1365   10.0          161.0           1227.0             161.0   \n",
       "1102     1240    9.0          180.0           1212.0             180.0   \n",
       "...       ...    ...            ...              ...               ...   \n",
       "905      1193    8.0           32.0            236.0              32.0   \n",
       "904      1193    7.0           29.0            179.0              29.0   \n",
       "901      1192   10.0           69.0            437.0              69.0   \n",
       "891      1189   12.0           40.0            356.0              40.0   \n",
       "2301     1473    NaN            NaN              NaN               NaN   \n",
       "\n",
       "      internet_mb  plan  message_revenue  call_revenue  \n",
       "1244     37544.16  surf             4.65         30.30  \n",
       "1673      8219.25  surf             3.90         25.71  \n",
       "1462     18287.93  surf             3.63         24.12  \n",
       "1671      9291.87  surf             3.33         21.81  \n",
       "1102     30851.55  surf             3.90         21.36  \n",
       "...           ...   ...              ...           ...  \n",
       "905      19486.58  surf             0.00          0.00  \n",
       "904      14158.63  surf             0.00          0.00  \n",
       "901       8520.78  surf             0.57          0.00  \n",
       "891      20546.39  surf             0.00          0.00  \n",
       "2301          NaN  surf             0.00          0.00  \n",
       "\n",
       "[1579 rows x 9 columns]"
      ]
     },
     "execution_count": 52,
     "metadata": {},
     "output_type": "execute_result"
    }
   ],
   "source": [
    "# Passes the function to the surf_users table\n",
    "\n",
    "surf_users['call_revenue'] = surf_users.apply(surf_minutes, axis=1) # Pass the function\n",
    "\n",
    "surf_users.sort_values(by='call_revenue', ascending=False)"
   ]
  },
  {
   "cell_type": "code",
   "execution_count": 53,
   "metadata": {},
   "outputs": [
    {
     "data": {
      "text/html": [
       "<div>\n",
       "<style scoped>\n",
       "    .dataframe tbody tr th:only-of-type {\n",
       "        vertical-align: middle;\n",
       "    }\n",
       "\n",
       "    .dataframe tbody tr th {\n",
       "        vertical-align: top;\n",
       "    }\n",
       "\n",
       "    .dataframe thead th {\n",
       "        text-align: right;\n",
       "    }\n",
       "</style>\n",
       "<table border=\"1\" class=\"dataframe\">\n",
       "  <thead>\n",
       "    <tr style=\"text-align: right;\">\n",
       "      <th></th>\n",
       "      <th>user_id</th>\n",
       "      <th>month</th>\n",
       "      <th>monthly_calls</th>\n",
       "      <th>monthly_minutes</th>\n",
       "      <th>monthly_messages</th>\n",
       "      <th>internet_mb</th>\n",
       "      <th>plan</th>\n",
       "      <th>message_revenue</th>\n",
       "      <th>call_revenue</th>\n",
       "      <th>internet_gb_charged</th>\n",
       "    </tr>\n",
       "  </thead>\n",
       "  <tbody>\n",
       "    <tr>\n",
       "      <td>1</td>\n",
       "      <td>1001</td>\n",
       "      <td>8.0</td>\n",
       "      <td>27.0</td>\n",
       "      <td>182.0</td>\n",
       "      <td>27.0</td>\n",
       "      <td>6919.15</td>\n",
       "      <td>surf</td>\n",
       "      <td>0.00</td>\n",
       "      <td>0.0</td>\n",
       "      <td>-8.0</td>\n",
       "    </tr>\n",
       "    <tr>\n",
       "      <td>2</td>\n",
       "      <td>1001</td>\n",
       "      <td>9.0</td>\n",
       "      <td>49.0</td>\n",
       "      <td>315.0</td>\n",
       "      <td>49.0</td>\n",
       "      <td>13314.82</td>\n",
       "      <td>surf</td>\n",
       "      <td>0.00</td>\n",
       "      <td>0.0</td>\n",
       "      <td>-1.0</td>\n",
       "    </tr>\n",
       "    <tr>\n",
       "      <td>3</td>\n",
       "      <td>1001</td>\n",
       "      <td>10.0</td>\n",
       "      <td>65.0</td>\n",
       "      <td>393.0</td>\n",
       "      <td>65.0</td>\n",
       "      <td>22330.49</td>\n",
       "      <td>surf</td>\n",
       "      <td>0.45</td>\n",
       "      <td>0.0</td>\n",
       "      <td>7.0</td>\n",
       "    </tr>\n",
       "    <tr>\n",
       "      <td>4</td>\n",
       "      <td>1001</td>\n",
       "      <td>11.0</td>\n",
       "      <td>64.0</td>\n",
       "      <td>426.0</td>\n",
       "      <td>64.0</td>\n",
       "      <td>18504.30</td>\n",
       "      <td>surf</td>\n",
       "      <td>0.42</td>\n",
       "      <td>0.0</td>\n",
       "      <td>4.0</td>\n",
       "    </tr>\n",
       "    <tr>\n",
       "      <td>5</td>\n",
       "      <td>1001</td>\n",
       "      <td>12.0</td>\n",
       "      <td>56.0</td>\n",
       "      <td>412.0</td>\n",
       "      <td>56.0</td>\n",
       "      <td>19369.18</td>\n",
       "      <td>surf</td>\n",
       "      <td>0.18</td>\n",
       "      <td>0.0</td>\n",
       "      <td>4.0</td>\n",
       "    </tr>\n",
       "  </tbody>\n",
       "</table>\n",
       "</div>"
      ],
      "text/plain": [
       "   user_id  month  monthly_calls  monthly_minutes  monthly_messages  \\\n",
       "1     1001    8.0           27.0            182.0              27.0   \n",
       "2     1001    9.0           49.0            315.0              49.0   \n",
       "3     1001   10.0           65.0            393.0              65.0   \n",
       "4     1001   11.0           64.0            426.0              64.0   \n",
       "5     1001   12.0           56.0            412.0              56.0   \n",
       "\n",
       "   internet_mb  plan  message_revenue  call_revenue  internet_gb_charged  \n",
       "1      6919.15  surf             0.00           0.0                 -8.0  \n",
       "2     13314.82  surf             0.00           0.0                 -1.0  \n",
       "3     22330.49  surf             0.45           0.0                  7.0  \n",
       "4     18504.30  surf             0.42           0.0                  4.0  \n",
       "5     19369.18  surf             0.18           0.0                  4.0  "
      ]
     },
     "execution_count": 53,
     "metadata": {},
     "output_type": "execute_result"
    }
   ],
   "source": [
    "# Add column for only gbs that will be charged, rounding up to nearest gb\n",
    "\n",
    "surf_users['internet_gb_charged'] = ((surf_users['internet_mb'] - plan_data.iloc[0]['mb_per_month_included']) / 1024).apply(np.ceil)\n",
    "\n",
    "surf_users.head()\n"
   ]
  },
  {
   "cell_type": "code",
   "execution_count": 54,
   "metadata": {},
   "outputs": [],
   "source": [
    "# Calculates internet revenue\n",
    "\n",
    "def surf_internet(row): # Creates a function that replaces the values in the column condition with values \n",
    "    monthly_gb = row['internet_gb_charged']\n",
    "    surf_usd_per_gb = plan_data.iloc[0]['usd_per_gb']\n",
    "    if monthly_gb > 0:\n",
    "        return (monthly_gb * surf_usd_per_gb)\n",
    "    else:\n",
    "        return 0"
   ]
  },
  {
   "cell_type": "code",
   "execution_count": 55,
   "metadata": {},
   "outputs": [
    {
     "name": "stdout",
     "output_type": "stream",
     "text": [
      "70\n"
     ]
    }
   ],
   "source": [
    "# Tests the function\n",
    "\n",
    "row_values = [7] # Creates a list that indicates row value\n",
    "row_columns = ['internet_gb_charged'] # Creates list that indicates column name\n",
    "\n",
    "row = pd.Series(data=row_values, index=row_columns) # Creates a new row with the above values\n",
    "\n",
    "print(surf_internet(row)) # Passes the row through the function"
   ]
  },
  {
   "cell_type": "code",
   "execution_count": 56,
   "metadata": {},
   "outputs": [
    {
     "data": {
      "text/html": [
       "<div>\n",
       "<style scoped>\n",
       "    .dataframe tbody tr th:only-of-type {\n",
       "        vertical-align: middle;\n",
       "    }\n",
       "\n",
       "    .dataframe tbody tr th {\n",
       "        vertical-align: top;\n",
       "    }\n",
       "\n",
       "    .dataframe thead th {\n",
       "        text-align: right;\n",
       "    }\n",
       "</style>\n",
       "<table border=\"1\" class=\"dataframe\">\n",
       "  <thead>\n",
       "    <tr style=\"text-align: right;\">\n",
       "      <th></th>\n",
       "      <th>user_id</th>\n",
       "      <th>month</th>\n",
       "      <th>monthly_calls</th>\n",
       "      <th>monthly_minutes</th>\n",
       "      <th>monthly_messages</th>\n",
       "      <th>internet_mb</th>\n",
       "      <th>plan</th>\n",
       "      <th>message_revenue</th>\n",
       "      <th>call_revenue</th>\n",
       "      <th>internet_gb_charged</th>\n",
       "      <th>internet_revenue</th>\n",
       "    </tr>\n",
       "  </thead>\n",
       "  <tbody>\n",
       "    <tr>\n",
       "      <td>1726</td>\n",
       "      <td>1379</td>\n",
       "      <td>12.0</td>\n",
       "      <td>144.0</td>\n",
       "      <td>1103.0</td>\n",
       "      <td>144.0</td>\n",
       "      <td>70931.59</td>\n",
       "      <td>surf</td>\n",
       "      <td>2.82</td>\n",
       "      <td>18.09</td>\n",
       "      <td>55.0</td>\n",
       "      <td>550.0</td>\n",
       "    </tr>\n",
       "    <tr>\n",
       "      <td>2270</td>\n",
       "      <td>1121</td>\n",
       "      <td>12.0</td>\n",
       "      <td>NaN</td>\n",
       "      <td>NaN</td>\n",
       "      <td>NaN</td>\n",
       "      <td>66863.89</td>\n",
       "      <td>surf</td>\n",
       "      <td>0.00</td>\n",
       "      <td>0.00</td>\n",
       "      <td>51.0</td>\n",
       "      <td>510.0</td>\n",
       "    </tr>\n",
       "    <tr>\n",
       "      <td>1334</td>\n",
       "      <td>1292</td>\n",
       "      <td>12.0</td>\n",
       "      <td>28.0</td>\n",
       "      <td>144.0</td>\n",
       "      <td>28.0</td>\n",
       "      <td>52034.66</td>\n",
       "      <td>surf</td>\n",
       "      <td>0.00</td>\n",
       "      <td>0.00</td>\n",
       "      <td>36.0</td>\n",
       "      <td>360.0</td>\n",
       "    </tr>\n",
       "    <tr>\n",
       "      <td>1330</td>\n",
       "      <td>1292</td>\n",
       "      <td>8.0</td>\n",
       "      <td>42.0</td>\n",
       "      <td>323.0</td>\n",
       "      <td>42.0</td>\n",
       "      <td>51809.35</td>\n",
       "      <td>surf</td>\n",
       "      <td>0.00</td>\n",
       "      <td>0.00</td>\n",
       "      <td>36.0</td>\n",
       "      <td>360.0</td>\n",
       "    </tr>\n",
       "    <tr>\n",
       "      <td>1101</td>\n",
       "      <td>1240</td>\n",
       "      <td>8.0</td>\n",
       "      <td>161.0</td>\n",
       "      <td>1095.0</td>\n",
       "      <td>161.0</td>\n",
       "      <td>49950.58</td>\n",
       "      <td>surf</td>\n",
       "      <td>3.33</td>\n",
       "      <td>17.85</td>\n",
       "      <td>34.0</td>\n",
       "      <td>340.0</td>\n",
       "    </tr>\n",
       "    <tr>\n",
       "      <td>...</td>\n",
       "      <td>...</td>\n",
       "      <td>...</td>\n",
       "      <td>...</td>\n",
       "      <td>...</td>\n",
       "      <td>...</td>\n",
       "      <td>...</td>\n",
       "      <td>...</td>\n",
       "      <td>...</td>\n",
       "      <td>...</td>\n",
       "      <td>...</td>\n",
       "      <td>...</td>\n",
       "    </tr>\n",
       "    <tr>\n",
       "      <td>1122</td>\n",
       "      <td>1245</td>\n",
       "      <td>11.0</td>\n",
       "      <td>29.0</td>\n",
       "      <td>181.0</td>\n",
       "      <td>29.0</td>\n",
       "      <td>12283.49</td>\n",
       "      <td>surf</td>\n",
       "      <td>0.00</td>\n",
       "      <td>0.00</td>\n",
       "      <td>-3.0</td>\n",
       "      <td>0.0</td>\n",
       "    </tr>\n",
       "    <tr>\n",
       "      <td>1123</td>\n",
       "      <td>1245</td>\n",
       "      <td>12.0</td>\n",
       "      <td>50.0</td>\n",
       "      <td>374.0</td>\n",
       "      <td>50.0</td>\n",
       "      <td>4821.57</td>\n",
       "      <td>surf</td>\n",
       "      <td>0.00</td>\n",
       "      <td>0.00</td>\n",
       "      <td>-10.0</td>\n",
       "      <td>0.0</td>\n",
       "    </tr>\n",
       "    <tr>\n",
       "      <td>1138</td>\n",
       "      <td>1248</td>\n",
       "      <td>11.0</td>\n",
       "      <td>12.0</td>\n",
       "      <td>99.0</td>\n",
       "      <td>12.0</td>\n",
       "      <td>1869.23</td>\n",
       "      <td>surf</td>\n",
       "      <td>0.00</td>\n",
       "      <td>0.00</td>\n",
       "      <td>-13.0</td>\n",
       "      <td>0.0</td>\n",
       "    </tr>\n",
       "    <tr>\n",
       "      <td>1149</td>\n",
       "      <td>1251</td>\n",
       "      <td>3.0</td>\n",
       "      <td>28.0</td>\n",
       "      <td>247.0</td>\n",
       "      <td>28.0</td>\n",
       "      <td>13867.94</td>\n",
       "      <td>surf</td>\n",
       "      <td>0.00</td>\n",
       "      <td>0.00</td>\n",
       "      <td>-1.0</td>\n",
       "      <td>0.0</td>\n",
       "    </tr>\n",
       "    <tr>\n",
       "      <td>2301</td>\n",
       "      <td>1473</td>\n",
       "      <td>NaN</td>\n",
       "      <td>NaN</td>\n",
       "      <td>NaN</td>\n",
       "      <td>NaN</td>\n",
       "      <td>NaN</td>\n",
       "      <td>surf</td>\n",
       "      <td>0.00</td>\n",
       "      <td>0.00</td>\n",
       "      <td>NaN</td>\n",
       "      <td>0.0</td>\n",
       "    </tr>\n",
       "  </tbody>\n",
       "</table>\n",
       "<p>1579 rows × 11 columns</p>\n",
       "</div>"
      ],
      "text/plain": [
       "      user_id  month  monthly_calls  monthly_minutes  monthly_messages  \\\n",
       "1726     1379   12.0          144.0           1103.0             144.0   \n",
       "2270     1121   12.0            NaN              NaN               NaN   \n",
       "1334     1292   12.0           28.0            144.0              28.0   \n",
       "1330     1292    8.0           42.0            323.0              42.0   \n",
       "1101     1240    8.0          161.0           1095.0             161.0   \n",
       "...       ...    ...            ...              ...               ...   \n",
       "1122     1245   11.0           29.0            181.0              29.0   \n",
       "1123     1245   12.0           50.0            374.0              50.0   \n",
       "1138     1248   11.0           12.0             99.0              12.0   \n",
       "1149     1251    3.0           28.0            247.0              28.0   \n",
       "2301     1473    NaN            NaN              NaN               NaN   \n",
       "\n",
       "      internet_mb  plan  message_revenue  call_revenue  internet_gb_charged  \\\n",
       "1726     70931.59  surf             2.82         18.09                 55.0   \n",
       "2270     66863.89  surf             0.00          0.00                 51.0   \n",
       "1334     52034.66  surf             0.00          0.00                 36.0   \n",
       "1330     51809.35  surf             0.00          0.00                 36.0   \n",
       "1101     49950.58  surf             3.33         17.85                 34.0   \n",
       "...           ...   ...              ...           ...                  ...   \n",
       "1122     12283.49  surf             0.00          0.00                 -3.0   \n",
       "1123      4821.57  surf             0.00          0.00                -10.0   \n",
       "1138      1869.23  surf             0.00          0.00                -13.0   \n",
       "1149     13867.94  surf             0.00          0.00                 -1.0   \n",
       "2301          NaN  surf             0.00          0.00                  NaN   \n",
       "\n",
       "      internet_revenue  \n",
       "1726             550.0  \n",
       "2270             510.0  \n",
       "1334             360.0  \n",
       "1330             360.0  \n",
       "1101             340.0  \n",
       "...                ...  \n",
       "1122               0.0  \n",
       "1123               0.0  \n",
       "1138               0.0  \n",
       "1149               0.0  \n",
       "2301               0.0  \n",
       "\n",
       "[1579 rows x 11 columns]"
      ]
     },
     "execution_count": 56,
     "metadata": {},
     "output_type": "execute_result"
    }
   ],
   "source": [
    "# Passes the function to the surf_users table\n",
    "\n",
    "surf_users['internet_revenue'] = surf_users.apply(surf_internet, axis=1) # Pass the function\n",
    "\n",
    "surf_users.sort_values(by='internet_revenue', ascending=False)"
   ]
  },
  {
   "cell_type": "code",
   "execution_count": 57,
   "metadata": {},
   "outputs": [
    {
     "data": {
      "text/html": [
       "<div>\n",
       "<style scoped>\n",
       "    .dataframe tbody tr th:only-of-type {\n",
       "        vertical-align: middle;\n",
       "    }\n",
       "\n",
       "    .dataframe tbody tr th {\n",
       "        vertical-align: top;\n",
       "    }\n",
       "\n",
       "    .dataframe thead th {\n",
       "        text-align: right;\n",
       "    }\n",
       "</style>\n",
       "<table border=\"1\" class=\"dataframe\">\n",
       "  <thead>\n",
       "    <tr style=\"text-align: right;\">\n",
       "      <th></th>\n",
       "      <th>user_id</th>\n",
       "      <th>month</th>\n",
       "      <th>monthly_calls</th>\n",
       "      <th>monthly_minutes</th>\n",
       "      <th>monthly_messages</th>\n",
       "      <th>internet_mb</th>\n",
       "      <th>plan</th>\n",
       "      <th>surf_revenue</th>\n",
       "    </tr>\n",
       "  </thead>\n",
       "  <tbody>\n",
       "    <tr>\n",
       "      <td>0</td>\n",
       "      <td>1000</td>\n",
       "      <td>12.0</td>\n",
       "      <td>16.0</td>\n",
       "      <td>124.0</td>\n",
       "      <td>16.0</td>\n",
       "      <td>1901.47</td>\n",
       "      <td>ultimate</td>\n",
       "      <td>NaN</td>\n",
       "    </tr>\n",
       "    <tr>\n",
       "      <td>1</td>\n",
       "      <td>1001</td>\n",
       "      <td>8.0</td>\n",
       "      <td>27.0</td>\n",
       "      <td>182.0</td>\n",
       "      <td>27.0</td>\n",
       "      <td>6919.15</td>\n",
       "      <td>surf</td>\n",
       "      <td>20.00</td>\n",
       "    </tr>\n",
       "    <tr>\n",
       "      <td>2</td>\n",
       "      <td>1001</td>\n",
       "      <td>9.0</td>\n",
       "      <td>49.0</td>\n",
       "      <td>315.0</td>\n",
       "      <td>49.0</td>\n",
       "      <td>13314.82</td>\n",
       "      <td>surf</td>\n",
       "      <td>20.00</td>\n",
       "    </tr>\n",
       "    <tr>\n",
       "      <td>3</td>\n",
       "      <td>1001</td>\n",
       "      <td>10.0</td>\n",
       "      <td>65.0</td>\n",
       "      <td>393.0</td>\n",
       "      <td>65.0</td>\n",
       "      <td>22330.49</td>\n",
       "      <td>surf</td>\n",
       "      <td>90.45</td>\n",
       "    </tr>\n",
       "    <tr>\n",
       "      <td>4</td>\n",
       "      <td>1001</td>\n",
       "      <td>11.0</td>\n",
       "      <td>64.0</td>\n",
       "      <td>426.0</td>\n",
       "      <td>64.0</td>\n",
       "      <td>18504.30</td>\n",
       "      <td>surf</td>\n",
       "      <td>60.42</td>\n",
       "    </tr>\n",
       "  </tbody>\n",
       "</table>\n",
       "</div>"
      ],
      "text/plain": [
       "   user_id  month  monthly_calls  monthly_minutes  monthly_messages  \\\n",
       "0     1000   12.0           16.0            124.0              16.0   \n",
       "1     1001    8.0           27.0            182.0              27.0   \n",
       "2     1001    9.0           49.0            315.0              49.0   \n",
       "3     1001   10.0           65.0            393.0              65.0   \n",
       "4     1001   11.0           64.0            426.0              64.0   \n",
       "\n",
       "   internet_mb      plan  surf_revenue  \n",
       "0      1901.47  ultimate           NaN  \n",
       "1      6919.15      surf         20.00  \n",
       "2     13314.82      surf         20.00  \n",
       "3     22330.49      surf         90.45  \n",
       "4     18504.30      surf         60.42  "
      ]
     },
     "execution_count": 57,
     "metadata": {},
     "output_type": "execute_result"
    }
   ],
   "source": [
    "# Calculate total revenue\n",
    "\n",
    "surf_users['total_revenue'] = 20 + surf_users['message_revenue'] + surf_users['call_revenue'] + surf_users['internet_revenue']\n",
    "\n",
    "user_data_total['surf_revenue'] = surf_users['total_revenue']\n",
    "\n",
    "user_data_total.head()\n"
   ]
  },
  {
   "cell_type": "markdown",
   "metadata": {},
   "source": [
    "**Ultimate Users: Calculating Monthly Revenue**"
   ]
  },
  {
   "cell_type": "code",
   "execution_count": 58,
   "metadata": {},
   "outputs": [
    {
     "data": {
      "text/html": [
       "<div>\n",
       "<style scoped>\n",
       "    .dataframe tbody tr th:only-of-type {\n",
       "        vertical-align: middle;\n",
       "    }\n",
       "\n",
       "    .dataframe tbody tr th {\n",
       "        vertical-align: top;\n",
       "    }\n",
       "\n",
       "    .dataframe thead th {\n",
       "        text-align: right;\n",
       "    }\n",
       "</style>\n",
       "<table border=\"1\" class=\"dataframe\">\n",
       "  <thead>\n",
       "    <tr style=\"text-align: right;\">\n",
       "      <th></th>\n",
       "      <th>messages_included</th>\n",
       "      <th>mb_per_month_included</th>\n",
       "      <th>minutes_included</th>\n",
       "      <th>usd_monthly_pay</th>\n",
       "      <th>usd_per_gb</th>\n",
       "      <th>usd_per_message</th>\n",
       "      <th>usd_per_minute</th>\n",
       "      <th>plan_name</th>\n",
       "    </tr>\n",
       "  </thead>\n",
       "  <tbody>\n",
       "    <tr>\n",
       "      <td>0</td>\n",
       "      <td>50</td>\n",
       "      <td>15360</td>\n",
       "      <td>500</td>\n",
       "      <td>20</td>\n",
       "      <td>10</td>\n",
       "      <td>0.03</td>\n",
       "      <td>0.03</td>\n",
       "      <td>surf</td>\n",
       "    </tr>\n",
       "    <tr>\n",
       "      <td>1</td>\n",
       "      <td>1000</td>\n",
       "      <td>30720</td>\n",
       "      <td>3000</td>\n",
       "      <td>70</td>\n",
       "      <td>7</td>\n",
       "      <td>0.01</td>\n",
       "      <td>0.01</td>\n",
       "      <td>ultimate</td>\n",
       "    </tr>\n",
       "  </tbody>\n",
       "</table>\n",
       "</div>"
      ],
      "text/plain": [
       "   messages_included  mb_per_month_included  minutes_included  \\\n",
       "0                 50                  15360               500   \n",
       "1               1000                  30720              3000   \n",
       "\n",
       "   usd_monthly_pay  usd_per_gb  usd_per_message  usd_per_minute plan_name  \n",
       "0               20          10             0.03            0.03      surf  \n",
       "1               70           7             0.01            0.01  ultimate  "
      ]
     },
     "execution_count": 58,
     "metadata": {},
     "output_type": "execute_result"
    }
   ],
   "source": [
    "# Reprints the plan data to remind us of parameters\n",
    "\n",
    "plan_data"
   ]
  },
  {
   "cell_type": "code",
   "execution_count": 59,
   "metadata": {},
   "outputs": [],
   "source": [
    "# Creates a dataframe with only Ultimate plan users\n",
    "\n",
    "ultimate_users = user_data_total.loc[user_data_total['plan'] == \"ultimate\"] # Creates a dataframe with only Ultimate plan users"
   ]
  },
  {
   "cell_type": "code",
   "execution_count": 60,
   "metadata": {},
   "outputs": [],
   "source": [
    "# Calculates message revenue\n",
    "\n",
    "def ult_message(row): # Creates a function that replaces the values in the column condition with values \n",
    "    monthly_messages = row['monthly_messages']\n",
    "    ult_mess_free = plan_data.iloc[1]['messages_included']\n",
    "    ult_usd_per_mess = plan_data.iloc[1]['usd_per_message']\n",
    "    if monthly_messages - ult_mess_free > 0:\n",
    "        return (monthly_messages - ult_mess_free) * ult_usd_per_mess\n",
    "    else: \n",
    "        return 0"
   ]
  },
  {
   "cell_type": "code",
   "execution_count": 61,
   "metadata": {},
   "outputs": [
    {
     "name": "stdout",
     "output_type": "stream",
     "text": [
      "10.0\n"
     ]
    }
   ],
   "source": [
    "# Tests the function\n",
    "\n",
    "row_values = [2000] # Creates a list that indicates row value\n",
    "row_columns = ['monthly_messages'] # Creates list that indicates column name\n",
    "\n",
    "row = pd.Series(data=row_values, index=row_columns) # Creates a new row with the above values\n",
    "\n",
    "print(ult_message(row)) # Passes the row through the function"
   ]
  },
  {
   "cell_type": "code",
   "execution_count": 62,
   "metadata": {},
   "outputs": [],
   "source": [
    "# Passes the function to the ultimate_users table\n",
    "\n",
    "ultimate_users['message_revenue'] = ultimate_users.apply(ult_message, axis=1) # Pass the function"
   ]
  },
  {
   "cell_type": "code",
   "execution_count": 63,
   "metadata": {},
   "outputs": [],
   "source": [
    "# Calculates call revenue\n",
    "\n",
    "def ult_minutes(row): # Creates a function that replaces the values in the column condition with values \n",
    "    monthly_minutes = row['monthly_minutes']\n",
    "    ult_min_free = plan_data.iloc[1]['minutes_included']\n",
    "    ult_usd_per_min = plan_data.iloc[1]['usd_per_minute']\n",
    "    if monthly_minutes - ult_min_free > 0:\n",
    "        return (monthly_minutes - ult_min_free) * ult_usd_per_min\n",
    "    else: \n",
    "        return 0"
   ]
  },
  {
   "cell_type": "code",
   "execution_count": 64,
   "metadata": {},
   "outputs": [
    {
     "name": "stdout",
     "output_type": "stream",
     "text": [
      "20.0\n"
     ]
    }
   ],
   "source": [
    "# Tests the function\n",
    "\n",
    "row_values = [5000] # Creates a list that indicates row value\n",
    "row_columns = ['monthly_minutes'] # Creates list that indicates column name\n",
    "\n",
    "row = pd.Series(data=row_values, index=row_columns) # Creates a new row with the above values\n",
    "\n",
    "print(ult_minutes(row)) # Passes the row through the function"
   ]
  },
  {
   "cell_type": "code",
   "execution_count": 65,
   "metadata": {},
   "outputs": [
    {
     "data": {
      "text/html": [
       "<div>\n",
       "<style scoped>\n",
       "    .dataframe tbody tr th:only-of-type {\n",
       "        vertical-align: middle;\n",
       "    }\n",
       "\n",
       "    .dataframe tbody tr th {\n",
       "        vertical-align: top;\n",
       "    }\n",
       "\n",
       "    .dataframe thead th {\n",
       "        text-align: right;\n",
       "    }\n",
       "</style>\n",
       "<table border=\"1\" class=\"dataframe\">\n",
       "  <thead>\n",
       "    <tr style=\"text-align: right;\">\n",
       "      <th></th>\n",
       "      <th>user_id</th>\n",
       "      <th>month</th>\n",
       "      <th>monthly_calls</th>\n",
       "      <th>monthly_minutes</th>\n",
       "      <th>monthly_messages</th>\n",
       "      <th>internet_mb</th>\n",
       "      <th>plan</th>\n",
       "      <th>surf_revenue</th>\n",
       "      <th>message_revenue</th>\n",
       "      <th>call_revenue</th>\n",
       "    </tr>\n",
       "  </thead>\n",
       "  <tbody>\n",
       "    <tr>\n",
       "      <td>0</td>\n",
       "      <td>1000</td>\n",
       "      <td>12.0</td>\n",
       "      <td>16.0</td>\n",
       "      <td>124.0</td>\n",
       "      <td>16.0</td>\n",
       "      <td>1901.47</td>\n",
       "      <td>ultimate</td>\n",
       "      <td>NaN</td>\n",
       "      <td>0</td>\n",
       "      <td>0</td>\n",
       "    </tr>\n",
       "    <tr>\n",
       "      <td>1686</td>\n",
       "      <td>1368</td>\n",
       "      <td>6.0</td>\n",
       "      <td>93.0</td>\n",
       "      <td>719.0</td>\n",
       "      <td>93.0</td>\n",
       "      <td>18506.74</td>\n",
       "      <td>ultimate</td>\n",
       "      <td>NaN</td>\n",
       "      <td>0</td>\n",
       "      <td>0</td>\n",
       "    </tr>\n",
       "    <tr>\n",
       "      <td>1688</td>\n",
       "      <td>1368</td>\n",
       "      <td>8.0</td>\n",
       "      <td>77.0</td>\n",
       "      <td>545.0</td>\n",
       "      <td>77.0</td>\n",
       "      <td>15974.84</td>\n",
       "      <td>ultimate</td>\n",
       "      <td>NaN</td>\n",
       "      <td>0</td>\n",
       "      <td>0</td>\n",
       "    </tr>\n",
       "    <tr>\n",
       "      <td>1689</td>\n",
       "      <td>1368</td>\n",
       "      <td>9.0</td>\n",
       "      <td>68.0</td>\n",
       "      <td>520.0</td>\n",
       "      <td>68.0</td>\n",
       "      <td>16097.13</td>\n",
       "      <td>ultimate</td>\n",
       "      <td>NaN</td>\n",
       "      <td>0</td>\n",
       "      <td>0</td>\n",
       "    </tr>\n",
       "    <tr>\n",
       "      <td>1690</td>\n",
       "      <td>1368</td>\n",
       "      <td>10.0</td>\n",
       "      <td>78.0</td>\n",
       "      <td>501.0</td>\n",
       "      <td>78.0</td>\n",
       "      <td>15748.13</td>\n",
       "      <td>ultimate</td>\n",
       "      <td>NaN</td>\n",
       "      <td>0</td>\n",
       "      <td>0</td>\n",
       "    </tr>\n",
       "    <tr>\n",
       "      <td>...</td>\n",
       "      <td>...</td>\n",
       "      <td>...</td>\n",
       "      <td>...</td>\n",
       "      <td>...</td>\n",
       "      <td>...</td>\n",
       "      <td>...</td>\n",
       "      <td>...</td>\n",
       "      <td>...</td>\n",
       "      <td>...</td>\n",
       "      <td>...</td>\n",
       "    </tr>\n",
       "    <tr>\n",
       "      <td>760</td>\n",
       "      <td>1163</td>\n",
       "      <td>8.0</td>\n",
       "      <td>52.0</td>\n",
       "      <td>385.0</td>\n",
       "      <td>52.0</td>\n",
       "      <td>12166.45</td>\n",
       "      <td>ultimate</td>\n",
       "      <td>NaN</td>\n",
       "      <td>0</td>\n",
       "      <td>0</td>\n",
       "    </tr>\n",
       "    <tr>\n",
       "      <td>761</td>\n",
       "      <td>1163</td>\n",
       "      <td>9.0</td>\n",
       "      <td>68.0</td>\n",
       "      <td>432.0</td>\n",
       "      <td>68.0</td>\n",
       "      <td>14821.54</td>\n",
       "      <td>ultimate</td>\n",
       "      <td>NaN</td>\n",
       "      <td>0</td>\n",
       "      <td>0</td>\n",
       "    </tr>\n",
       "    <tr>\n",
       "      <td>762</td>\n",
       "      <td>1163</td>\n",
       "      <td>10.0</td>\n",
       "      <td>82.0</td>\n",
       "      <td>714.0</td>\n",
       "      <td>82.0</td>\n",
       "      <td>19785.31</td>\n",
       "      <td>ultimate</td>\n",
       "      <td>NaN</td>\n",
       "      <td>0</td>\n",
       "      <td>0</td>\n",
       "    </tr>\n",
       "    <tr>\n",
       "      <td>763</td>\n",
       "      <td>1163</td>\n",
       "      <td>11.0</td>\n",
       "      <td>82.0</td>\n",
       "      <td>584.0</td>\n",
       "      <td>82.0</td>\n",
       "      <td>26548.26</td>\n",
       "      <td>ultimate</td>\n",
       "      <td>NaN</td>\n",
       "      <td>0</td>\n",
       "      <td>0</td>\n",
       "    </tr>\n",
       "    <tr>\n",
       "      <td>2300</td>\n",
       "      <td>1463</td>\n",
       "      <td>NaN</td>\n",
       "      <td>NaN</td>\n",
       "      <td>NaN</td>\n",
       "      <td>NaN</td>\n",
       "      <td>NaN</td>\n",
       "      <td>ultimate</td>\n",
       "      <td>NaN</td>\n",
       "      <td>0</td>\n",
       "      <td>0</td>\n",
       "    </tr>\n",
       "  </tbody>\n",
       "</table>\n",
       "<p>723 rows × 10 columns</p>\n",
       "</div>"
      ],
      "text/plain": [
       "      user_id  month  monthly_calls  monthly_minutes  monthly_messages  \\\n",
       "0        1000   12.0           16.0            124.0              16.0   \n",
       "1686     1368    6.0           93.0            719.0              93.0   \n",
       "1688     1368    8.0           77.0            545.0              77.0   \n",
       "1689     1368    9.0           68.0            520.0              68.0   \n",
       "1690     1368   10.0           78.0            501.0              78.0   \n",
       "...       ...    ...            ...              ...               ...   \n",
       "760      1163    8.0           52.0            385.0              52.0   \n",
       "761      1163    9.0           68.0            432.0              68.0   \n",
       "762      1163   10.0           82.0            714.0              82.0   \n",
       "763      1163   11.0           82.0            584.0              82.0   \n",
       "2300     1463    NaN            NaN              NaN               NaN   \n",
       "\n",
       "      internet_mb      plan  surf_revenue  message_revenue  call_revenue  \n",
       "0         1901.47  ultimate           NaN                0             0  \n",
       "1686     18506.74  ultimate           NaN                0             0  \n",
       "1688     15974.84  ultimate           NaN                0             0  \n",
       "1689     16097.13  ultimate           NaN                0             0  \n",
       "1690     15748.13  ultimate           NaN                0             0  \n",
       "...           ...       ...           ...              ...           ...  \n",
       "760      12166.45  ultimate           NaN                0             0  \n",
       "761      14821.54  ultimate           NaN                0             0  \n",
       "762      19785.31  ultimate           NaN                0             0  \n",
       "763      26548.26  ultimate           NaN                0             0  \n",
       "2300          NaN  ultimate           NaN                0             0  \n",
       "\n",
       "[723 rows x 10 columns]"
      ]
     },
     "execution_count": 65,
     "metadata": {},
     "output_type": "execute_result"
    }
   ],
   "source": [
    "# Passes the function to the ultimate_users table\n",
    "\n",
    "ultimate_users['call_revenue'] = ultimate_users.apply(ult_minutes, axis=1) # Pass the function\n",
    "\n",
    "ultimate_users.sort_values(by='call_revenue', ascending=False)"
   ]
  },
  {
   "cell_type": "code",
   "execution_count": 66,
   "metadata": {},
   "outputs": [
    {
     "data": {
      "text/html": [
       "<div>\n",
       "<style scoped>\n",
       "    .dataframe tbody tr th:only-of-type {\n",
       "        vertical-align: middle;\n",
       "    }\n",
       "\n",
       "    .dataframe tbody tr th {\n",
       "        vertical-align: top;\n",
       "    }\n",
       "\n",
       "    .dataframe thead th {\n",
       "        text-align: right;\n",
       "    }\n",
       "</style>\n",
       "<table border=\"1\" class=\"dataframe\">\n",
       "  <thead>\n",
       "    <tr style=\"text-align: right;\">\n",
       "      <th></th>\n",
       "      <th>user_id</th>\n",
       "      <th>month</th>\n",
       "      <th>monthly_calls</th>\n",
       "      <th>monthly_minutes</th>\n",
       "      <th>monthly_messages</th>\n",
       "      <th>internet_mb</th>\n",
       "      <th>plan</th>\n",
       "      <th>surf_revenue</th>\n",
       "      <th>message_revenue</th>\n",
       "      <th>call_revenue</th>\n",
       "      <th>internet_gb_charged</th>\n",
       "    </tr>\n",
       "  </thead>\n",
       "  <tbody>\n",
       "    <tr>\n",
       "      <td>0</td>\n",
       "      <td>1000</td>\n",
       "      <td>12.0</td>\n",
       "      <td>16.0</td>\n",
       "      <td>124.0</td>\n",
       "      <td>16.0</td>\n",
       "      <td>1901.47</td>\n",
       "      <td>ultimate</td>\n",
       "      <td>NaN</td>\n",
       "      <td>0</td>\n",
       "      <td>0</td>\n",
       "      <td>-28.0</td>\n",
       "    </tr>\n",
       "    <tr>\n",
       "      <td>19</td>\n",
       "      <td>1006</td>\n",
       "      <td>11.0</td>\n",
       "      <td>2.0</td>\n",
       "      <td>10.0</td>\n",
       "      <td>2.0</td>\n",
       "      <td>2068.37</td>\n",
       "      <td>ultimate</td>\n",
       "      <td>NaN</td>\n",
       "      <td>0</td>\n",
       "      <td>0</td>\n",
       "      <td>-27.0</td>\n",
       "    </tr>\n",
       "    <tr>\n",
       "      <td>20</td>\n",
       "      <td>1006</td>\n",
       "      <td>12.0</td>\n",
       "      <td>9.0</td>\n",
       "      <td>59.0</td>\n",
       "      <td>9.0</td>\n",
       "      <td>32118.82</td>\n",
       "      <td>ultimate</td>\n",
       "      <td>NaN</td>\n",
       "      <td>0</td>\n",
       "      <td>0</td>\n",
       "      <td>2.0</td>\n",
       "    </tr>\n",
       "    <tr>\n",
       "      <td>26</td>\n",
       "      <td>1008</td>\n",
       "      <td>10.0</td>\n",
       "      <td>71.0</td>\n",
       "      <td>476.0</td>\n",
       "      <td>71.0</td>\n",
       "      <td>17106.99</td>\n",
       "      <td>ultimate</td>\n",
       "      <td>NaN</td>\n",
       "      <td>0</td>\n",
       "      <td>0</td>\n",
       "      <td>-13.0</td>\n",
       "    </tr>\n",
       "    <tr>\n",
       "      <td>27</td>\n",
       "      <td>1008</td>\n",
       "      <td>11.0</td>\n",
       "      <td>63.0</td>\n",
       "      <td>446.0</td>\n",
       "      <td>63.0</td>\n",
       "      <td>23676.72</td>\n",
       "      <td>ultimate</td>\n",
       "      <td>NaN</td>\n",
       "      <td>0</td>\n",
       "      <td>0</td>\n",
       "      <td>-6.0</td>\n",
       "    </tr>\n",
       "  </tbody>\n",
       "</table>\n",
       "</div>"
      ],
      "text/plain": [
       "    user_id  month  monthly_calls  monthly_minutes  monthly_messages  \\\n",
       "0      1000   12.0           16.0            124.0              16.0   \n",
       "19     1006   11.0            2.0             10.0               2.0   \n",
       "20     1006   12.0            9.0             59.0               9.0   \n",
       "26     1008   10.0           71.0            476.0              71.0   \n",
       "27     1008   11.0           63.0            446.0              63.0   \n",
       "\n",
       "    internet_mb      plan  surf_revenue  message_revenue  call_revenue  \\\n",
       "0       1901.47  ultimate           NaN                0             0   \n",
       "19      2068.37  ultimate           NaN                0             0   \n",
       "20     32118.82  ultimate           NaN                0             0   \n",
       "26     17106.99  ultimate           NaN                0             0   \n",
       "27     23676.72  ultimate           NaN                0             0   \n",
       "\n",
       "    internet_gb_charged  \n",
       "0                 -28.0  \n",
       "19                -27.0  \n",
       "20                  2.0  \n",
       "26                -13.0  \n",
       "27                 -6.0  "
      ]
     },
     "execution_count": 66,
     "metadata": {},
     "output_type": "execute_result"
    }
   ],
   "source": [
    "# Add column for only gbs that will be charged, rounding up to nearest gb\n",
    "\n",
    "ultimate_users['internet_gb_charged'] = ((ultimate_users['internet_mb'] - plan_data.iloc[1]['mb_per_month_included']) / 1024).apply(np.ceil)\n",
    "\n",
    "ultimate_users.head()"
   ]
  },
  {
   "cell_type": "code",
   "execution_count": 67,
   "metadata": {},
   "outputs": [],
   "source": [
    "# Calculates internet revenue\n",
    "    \n",
    "def ult_internet(row): # Creates a function that replaces the values in the column condition with values \n",
    "    monthly_gb = row['internet_gb_charged']\n",
    "    ult_usd_per_gb = plan_data.iloc[1]['usd_per_gb']\n",
    "    if monthly_gb > 0:\n",
    "        return (monthly_gb * ult_usd_per_gb)\n",
    "    else: \n",
    "        return 0"
   ]
  },
  {
   "cell_type": "code",
   "execution_count": 68,
   "metadata": {},
   "outputs": [
    {
     "name": "stdout",
     "output_type": "stream",
     "text": [
      "14\n"
     ]
    }
   ],
   "source": [
    "# Tests the function\n",
    "\n",
    "row_values = [2] # Creates a list that indicates row value\n",
    "row_columns = ['internet_gb_charged'] # Creates list that indicates column name\n",
    "\n",
    "row = pd.Series(data=row_values, index=row_columns) # Creates a new row with the above values\n",
    "\n",
    "print(ult_internet(row)) # Passes the row through the function"
   ]
  },
  {
   "cell_type": "code",
   "execution_count": 69,
   "metadata": {},
   "outputs": [
    {
     "data": {
      "text/html": [
       "<div>\n",
       "<style scoped>\n",
       "    .dataframe tbody tr th:only-of-type {\n",
       "        vertical-align: middle;\n",
       "    }\n",
       "\n",
       "    .dataframe tbody tr th {\n",
       "        vertical-align: top;\n",
       "    }\n",
       "\n",
       "    .dataframe thead th {\n",
       "        text-align: right;\n",
       "    }\n",
       "</style>\n",
       "<table border=\"1\" class=\"dataframe\">\n",
       "  <thead>\n",
       "    <tr style=\"text-align: right;\">\n",
       "      <th></th>\n",
       "      <th>user_id</th>\n",
       "      <th>month</th>\n",
       "      <th>monthly_calls</th>\n",
       "      <th>monthly_minutes</th>\n",
       "      <th>monthly_messages</th>\n",
       "      <th>internet_mb</th>\n",
       "      <th>plan</th>\n",
       "      <th>surf_revenue</th>\n",
       "      <th>message_revenue</th>\n",
       "      <th>call_revenue</th>\n",
       "      <th>internet_gb_charged</th>\n",
       "      <th>internet_revenue</th>\n",
       "    </tr>\n",
       "  </thead>\n",
       "  <tbody>\n",
       "    <tr>\n",
       "      <td>101</td>\n",
       "      <td>1028</td>\n",
       "      <td>10.0</td>\n",
       "      <td>6.0</td>\n",
       "      <td>39.0</td>\n",
       "      <td>6.0</td>\n",
       "      <td>46595.33</td>\n",
       "      <td>ultimate</td>\n",
       "      <td>NaN</td>\n",
       "      <td>0</td>\n",
       "      <td>0</td>\n",
       "      <td>16.0</td>\n",
       "      <td>112.0</td>\n",
       "    </tr>\n",
       "    <tr>\n",
       "      <td>2212</td>\n",
       "      <td>1490</td>\n",
       "      <td>12.0</td>\n",
       "      <td>50.0</td>\n",
       "      <td>368.0</td>\n",
       "      <td>50.0</td>\n",
       "      <td>46215.51</td>\n",
       "      <td>ultimate</td>\n",
       "      <td>NaN</td>\n",
       "      <td>0</td>\n",
       "      <td>0</td>\n",
       "      <td>16.0</td>\n",
       "      <td>112.0</td>\n",
       "    </tr>\n",
       "    <tr>\n",
       "      <td>137</td>\n",
       "      <td>1038</td>\n",
       "      <td>12.0</td>\n",
       "      <td>78.0</td>\n",
       "      <td>475.0</td>\n",
       "      <td>78.0</td>\n",
       "      <td>45020.31</td>\n",
       "      <td>ultimate</td>\n",
       "      <td>NaN</td>\n",
       "      <td>0</td>\n",
       "      <td>0</td>\n",
       "      <td>14.0</td>\n",
       "      <td>98.0</td>\n",
       "    </tr>\n",
       "    <tr>\n",
       "      <td>102</td>\n",
       "      <td>1028</td>\n",
       "      <td>11.0</td>\n",
       "      <td>8.0</td>\n",
       "      <td>69.0</td>\n",
       "      <td>8.0</td>\n",
       "      <td>42952.59</td>\n",
       "      <td>ultimate</td>\n",
       "      <td>NaN</td>\n",
       "      <td>0</td>\n",
       "      <td>0</td>\n",
       "      <td>12.0</td>\n",
       "      <td>84.0</td>\n",
       "    </tr>\n",
       "    <tr>\n",
       "      <td>99</td>\n",
       "      <td>1028</td>\n",
       "      <td>8.0</td>\n",
       "      <td>9.0</td>\n",
       "      <td>76.0</td>\n",
       "      <td>9.0</td>\n",
       "      <td>40388.21</td>\n",
       "      <td>ultimate</td>\n",
       "      <td>NaN</td>\n",
       "      <td>0</td>\n",
       "      <td>0</td>\n",
       "      <td>10.0</td>\n",
       "      <td>70.0</td>\n",
       "    </tr>\n",
       "    <tr>\n",
       "      <td>...</td>\n",
       "      <td>...</td>\n",
       "      <td>...</td>\n",
       "      <td>...</td>\n",
       "      <td>...</td>\n",
       "      <td>...</td>\n",
       "      <td>...</td>\n",
       "      <td>...</td>\n",
       "      <td>...</td>\n",
       "      <td>...</td>\n",
       "      <td>...</td>\n",
       "      <td>...</td>\n",
       "      <td>...</td>\n",
       "    </tr>\n",
       "    <tr>\n",
       "      <td>862</td>\n",
       "      <td>1185</td>\n",
       "      <td>1.0</td>\n",
       "      <td>23.0</td>\n",
       "      <td>181.0</td>\n",
       "      <td>23.0</td>\n",
       "      <td>6812.77</td>\n",
       "      <td>ultimate</td>\n",
       "      <td>NaN</td>\n",
       "      <td>0</td>\n",
       "      <td>0</td>\n",
       "      <td>-23.0</td>\n",
       "      <td>0.0</td>\n",
       "    </tr>\n",
       "    <tr>\n",
       "      <td>863</td>\n",
       "      <td>1185</td>\n",
       "      <td>2.0</td>\n",
       "      <td>61.0</td>\n",
       "      <td>388.0</td>\n",
       "      <td>61.0</td>\n",
       "      <td>20630.97</td>\n",
       "      <td>ultimate</td>\n",
       "      <td>NaN</td>\n",
       "      <td>0</td>\n",
       "      <td>0</td>\n",
       "      <td>-9.0</td>\n",
       "      <td>0.0</td>\n",
       "    </tr>\n",
       "    <tr>\n",
       "      <td>864</td>\n",
       "      <td>1185</td>\n",
       "      <td>3.0</td>\n",
       "      <td>63.0</td>\n",
       "      <td>432.0</td>\n",
       "      <td>63.0</td>\n",
       "      <td>27856.84</td>\n",
       "      <td>ultimate</td>\n",
       "      <td>NaN</td>\n",
       "      <td>0</td>\n",
       "      <td>0</td>\n",
       "      <td>-2.0</td>\n",
       "      <td>0.0</td>\n",
       "    </tr>\n",
       "    <tr>\n",
       "      <td>866</td>\n",
       "      <td>1185</td>\n",
       "      <td>5.0</td>\n",
       "      <td>79.0</td>\n",
       "      <td>480.0</td>\n",
       "      <td>79.0</td>\n",
       "      <td>20954.25</td>\n",
       "      <td>ultimate</td>\n",
       "      <td>NaN</td>\n",
       "      <td>0</td>\n",
       "      <td>0</td>\n",
       "      <td>-9.0</td>\n",
       "      <td>0.0</td>\n",
       "    </tr>\n",
       "    <tr>\n",
       "      <td>2300</td>\n",
       "      <td>1463</td>\n",
       "      <td>NaN</td>\n",
       "      <td>NaN</td>\n",
       "      <td>NaN</td>\n",
       "      <td>NaN</td>\n",
       "      <td>NaN</td>\n",
       "      <td>ultimate</td>\n",
       "      <td>NaN</td>\n",
       "      <td>0</td>\n",
       "      <td>0</td>\n",
       "      <td>NaN</td>\n",
       "      <td>0.0</td>\n",
       "    </tr>\n",
       "  </tbody>\n",
       "</table>\n",
       "<p>723 rows × 12 columns</p>\n",
       "</div>"
      ],
      "text/plain": [
       "      user_id  month  monthly_calls  monthly_minutes  monthly_messages  \\\n",
       "101      1028   10.0            6.0             39.0               6.0   \n",
       "2212     1490   12.0           50.0            368.0              50.0   \n",
       "137      1038   12.0           78.0            475.0              78.0   \n",
       "102      1028   11.0            8.0             69.0               8.0   \n",
       "99       1028    8.0            9.0             76.0               9.0   \n",
       "...       ...    ...            ...              ...               ...   \n",
       "862      1185    1.0           23.0            181.0              23.0   \n",
       "863      1185    2.0           61.0            388.0              61.0   \n",
       "864      1185    3.0           63.0            432.0              63.0   \n",
       "866      1185    5.0           79.0            480.0              79.0   \n",
       "2300     1463    NaN            NaN              NaN               NaN   \n",
       "\n",
       "      internet_mb      plan  surf_revenue  message_revenue  call_revenue  \\\n",
       "101      46595.33  ultimate           NaN                0             0   \n",
       "2212     46215.51  ultimate           NaN                0             0   \n",
       "137      45020.31  ultimate           NaN                0             0   \n",
       "102      42952.59  ultimate           NaN                0             0   \n",
       "99       40388.21  ultimate           NaN                0             0   \n",
       "...           ...       ...           ...              ...           ...   \n",
       "862       6812.77  ultimate           NaN                0             0   \n",
       "863      20630.97  ultimate           NaN                0             0   \n",
       "864      27856.84  ultimate           NaN                0             0   \n",
       "866      20954.25  ultimate           NaN                0             0   \n",
       "2300          NaN  ultimate           NaN                0             0   \n",
       "\n",
       "      internet_gb_charged  internet_revenue  \n",
       "101                  16.0             112.0  \n",
       "2212                 16.0             112.0  \n",
       "137                  14.0              98.0  \n",
       "102                  12.0              84.0  \n",
       "99                   10.0              70.0  \n",
       "...                   ...               ...  \n",
       "862                 -23.0               0.0  \n",
       "863                  -9.0               0.0  \n",
       "864                  -2.0               0.0  \n",
       "866                  -9.0               0.0  \n",
       "2300                  NaN               0.0  \n",
       "\n",
       "[723 rows x 12 columns]"
      ]
     },
     "execution_count": 69,
     "metadata": {},
     "output_type": "execute_result"
    }
   ],
   "source": [
    "# Passes the function to the ultimate_users table\n",
    "\n",
    "ultimate_users['internet_revenue'] = ultimate_users.apply(ult_internet, axis=1) # Pass the function\n",
    "\n",
    "ultimate_users.sort_values(by='internet_revenue', ascending=False)"
   ]
  },
  {
   "cell_type": "code",
   "execution_count": 70,
   "metadata": {},
   "outputs": [
    {
     "data": {
      "text/html": [
       "<div>\n",
       "<style scoped>\n",
       "    .dataframe tbody tr th:only-of-type {\n",
       "        vertical-align: middle;\n",
       "    }\n",
       "\n",
       "    .dataframe tbody tr th {\n",
       "        vertical-align: top;\n",
       "    }\n",
       "\n",
       "    .dataframe thead th {\n",
       "        text-align: right;\n",
       "    }\n",
       "</style>\n",
       "<table border=\"1\" class=\"dataframe\">\n",
       "  <thead>\n",
       "    <tr style=\"text-align: right;\">\n",
       "      <th></th>\n",
       "      <th>user_id</th>\n",
       "      <th>month</th>\n",
       "      <th>monthly_calls</th>\n",
       "      <th>monthly_minutes</th>\n",
       "      <th>monthly_messages</th>\n",
       "      <th>internet_mb</th>\n",
       "      <th>plan</th>\n",
       "      <th>surf_revenue</th>\n",
       "      <th>ultimate_revenue</th>\n",
       "      <th>total_revenue</th>\n",
       "    </tr>\n",
       "  </thead>\n",
       "  <tbody>\n",
       "    <tr>\n",
       "      <td>0</td>\n",
       "      <td>1000</td>\n",
       "      <td>12.0</td>\n",
       "      <td>16.0</td>\n",
       "      <td>124.0</td>\n",
       "      <td>16.0</td>\n",
       "      <td>1901.47</td>\n",
       "      <td>ultimate</td>\n",
       "      <td>NaN</td>\n",
       "      <td>70.0</td>\n",
       "      <td>70.00</td>\n",
       "    </tr>\n",
       "    <tr>\n",
       "      <td>1</td>\n",
       "      <td>1001</td>\n",
       "      <td>8.0</td>\n",
       "      <td>27.0</td>\n",
       "      <td>182.0</td>\n",
       "      <td>27.0</td>\n",
       "      <td>6919.15</td>\n",
       "      <td>surf</td>\n",
       "      <td>20.00</td>\n",
       "      <td>NaN</td>\n",
       "      <td>20.00</td>\n",
       "    </tr>\n",
       "    <tr>\n",
       "      <td>2</td>\n",
       "      <td>1001</td>\n",
       "      <td>9.0</td>\n",
       "      <td>49.0</td>\n",
       "      <td>315.0</td>\n",
       "      <td>49.0</td>\n",
       "      <td>13314.82</td>\n",
       "      <td>surf</td>\n",
       "      <td>20.00</td>\n",
       "      <td>NaN</td>\n",
       "      <td>20.00</td>\n",
       "    </tr>\n",
       "    <tr>\n",
       "      <td>3</td>\n",
       "      <td>1001</td>\n",
       "      <td>10.0</td>\n",
       "      <td>65.0</td>\n",
       "      <td>393.0</td>\n",
       "      <td>65.0</td>\n",
       "      <td>22330.49</td>\n",
       "      <td>surf</td>\n",
       "      <td>90.45</td>\n",
       "      <td>NaN</td>\n",
       "      <td>90.45</td>\n",
       "    </tr>\n",
       "    <tr>\n",
       "      <td>4</td>\n",
       "      <td>1001</td>\n",
       "      <td>11.0</td>\n",
       "      <td>64.0</td>\n",
       "      <td>426.0</td>\n",
       "      <td>64.0</td>\n",
       "      <td>18504.30</td>\n",
       "      <td>surf</td>\n",
       "      <td>60.42</td>\n",
       "      <td>NaN</td>\n",
       "      <td>60.42</td>\n",
       "    </tr>\n",
       "  </tbody>\n",
       "</table>\n",
       "</div>"
      ],
      "text/plain": [
       "   user_id  month  monthly_calls  monthly_minutes  monthly_messages  \\\n",
       "0     1000   12.0           16.0            124.0              16.0   \n",
       "1     1001    8.0           27.0            182.0              27.0   \n",
       "2     1001    9.0           49.0            315.0              49.0   \n",
       "3     1001   10.0           65.0            393.0              65.0   \n",
       "4     1001   11.0           64.0            426.0              64.0   \n",
       "\n",
       "   internet_mb      plan  surf_revenue  ultimate_revenue  total_revenue  \n",
       "0      1901.47  ultimate           NaN              70.0          70.00  \n",
       "1      6919.15      surf         20.00               NaN          20.00  \n",
       "2     13314.82      surf         20.00               NaN          20.00  \n",
       "3     22330.49      surf         90.45               NaN          90.45  \n",
       "4     18504.30      surf         60.42               NaN          60.42  "
      ]
     },
     "execution_count": 70,
     "metadata": {},
     "output_type": "execute_result"
    }
   ],
   "source": [
    "# Calculate total revenue\n",
    "\n",
    "ultimate_users['total_revenue'] = 70 + ultimate_users['message_revenue'] + ultimate_users['call_revenue'] + ultimate_users['internet_revenue']\n",
    "\n",
    "user_data_total['ultimate_revenue'] = ultimate_users['total_revenue']\n",
    "\n",
    "user_data_total['total_revenue'] = user_data_total['surf_revenue']\n",
    "\n",
    "user_data_total['total_revenue'].fillna(user_data_total['ultimate_revenue'], inplace=True)\n",
    "\n",
    "user_data_total.head()"
   ]
  },
  {
   "cell_type": "markdown",
   "metadata": {},
   "source": [
    "## Study user behaviour"
   ]
  },
  {
   "cell_type": "markdown",
   "metadata": {},
   "source": [
    "**Descriptive Statistics**\n",
    "\n",
    "The following section will look at the mean, range and variance of different factors to help us to determine which statistical test to use. "
   ]
  },
  {
   "cell_type": "code",
   "execution_count": 71,
   "metadata": {},
   "outputs": [
    {
     "data": {
      "text/html": [
       "<div>\n",
       "<style scoped>\n",
       "    .dataframe tbody tr th:only-of-type {\n",
       "        vertical-align: middle;\n",
       "    }\n",
       "\n",
       "    .dataframe tbody tr th {\n",
       "        vertical-align: top;\n",
       "    }\n",
       "\n",
       "    .dataframe thead th {\n",
       "        text-align: right;\n",
       "    }\n",
       "</style>\n",
       "<table border=\"1\" class=\"dataframe\">\n",
       "  <thead>\n",
       "    <tr style=\"text-align: right;\">\n",
       "      <th></th>\n",
       "      <th>user_id</th>\n",
       "      <th>month</th>\n",
       "      <th>monthly_calls</th>\n",
       "      <th>monthly_minutes</th>\n",
       "      <th>monthly_messages</th>\n",
       "      <th>internet_mb</th>\n",
       "      <th>message_revenue</th>\n",
       "      <th>call_revenue</th>\n",
       "      <th>internet_gb_charged</th>\n",
       "      <th>internet_revenue</th>\n",
       "      <th>total_revenue</th>\n",
       "    </tr>\n",
       "  </thead>\n",
       "  <tbody>\n",
       "    <tr>\n",
       "      <td>count</td>\n",
       "      <td>1579.000000</td>\n",
       "      <td>1573.000000</td>\n",
       "      <td>1545.000000</td>\n",
       "      <td>1545.000000</td>\n",
       "      <td>1545.000000</td>\n",
       "      <td>1558.000000</td>\n",
       "      <td>1579.000000</td>\n",
       "      <td>1579.000000</td>\n",
       "      <td>1558.000000</td>\n",
       "      <td>1579.000000</td>\n",
       "      <td>1579.000000</td>\n",
       "    </tr>\n",
       "    <tr>\n",
       "      <td>mean</td>\n",
       "      <td>1242.940469</td>\n",
       "      <td>9.182454</td>\n",
       "      <td>60.895793</td>\n",
       "      <td>436.519741</td>\n",
       "      <td>60.895793</td>\n",
       "      <td>16717.702137</td>\n",
       "      <td>0.537853</td>\n",
       "      <td>1.836764</td>\n",
       "      <td>1.831194</td>\n",
       "      <td>38.505383</td>\n",
       "      <td>60.880000</td>\n",
       "    </tr>\n",
       "    <tr>\n",
       "      <td>std</td>\n",
       "      <td>139.200115</td>\n",
       "      <td>2.468199</td>\n",
       "      <td>31.268044</td>\n",
       "      <td>229.283805</td>\n",
       "      <td>31.268044</td>\n",
       "      <td>7884.682983</td>\n",
       "      <td>0.692975</td>\n",
       "      <td>3.760291</td>\n",
       "      <td>7.711922</td>\n",
       "      <td>54.404675</td>\n",
       "      <td>55.437071</td>\n",
       "    </tr>\n",
       "    <tr>\n",
       "      <td>min</td>\n",
       "      <td>1001.000000</td>\n",
       "      <td>1.000000</td>\n",
       "      <td>1.000000</td>\n",
       "      <td>0.000000</td>\n",
       "      <td>1.000000</td>\n",
       "      <td>92.310000</td>\n",
       "      <td>0.000000</td>\n",
       "      <td>0.000000</td>\n",
       "      <td>-14.000000</td>\n",
       "      <td>0.000000</td>\n",
       "      <td>20.000000</td>\n",
       "    </tr>\n",
       "    <tr>\n",
       "      <td>25%</td>\n",
       "      <td>1120.000000</td>\n",
       "      <td>8.000000</td>\n",
       "      <td>40.000000</td>\n",
       "      <td>279.000000</td>\n",
       "      <td>40.000000</td>\n",
       "      <td>12187.955000</td>\n",
       "      <td>0.000000</td>\n",
       "      <td>0.000000</td>\n",
       "      <td>-3.000000</td>\n",
       "      <td>0.000000</td>\n",
       "      <td>20.120000</td>\n",
       "    </tr>\n",
       "    <tr>\n",
       "      <td>50%</td>\n",
       "      <td>1245.000000</td>\n",
       "      <td>10.000000</td>\n",
       "      <td>60.000000</td>\n",
       "      <td>430.000000</td>\n",
       "      <td>60.000000</td>\n",
       "      <td>16923.830000</td>\n",
       "      <td>0.300000</td>\n",
       "      <td>0.000000</td>\n",
       "      <td>2.000000</td>\n",
       "      <td>20.000000</td>\n",
       "      <td>40.470000</td>\n",
       "    </tr>\n",
       "    <tr>\n",
       "      <td>75%</td>\n",
       "      <td>1358.000000</td>\n",
       "      <td>11.000000</td>\n",
       "      <td>80.000000</td>\n",
       "      <td>579.000000</td>\n",
       "      <td>80.000000</td>\n",
       "      <td>21039.860000</td>\n",
       "      <td>0.870000</td>\n",
       "      <td>2.280000</td>\n",
       "      <td>6.000000</td>\n",
       "      <td>60.000000</td>\n",
       "      <td>80.675000</td>\n",
       "    </tr>\n",
       "    <tr>\n",
       "      <td>max</td>\n",
       "      <td>1499.000000</td>\n",
       "      <td>12.000000</td>\n",
       "      <td>205.000000</td>\n",
       "      <td>1510.000000</td>\n",
       "      <td>205.000000</td>\n",
       "      <td>70931.590000</td>\n",
       "      <td>4.650000</td>\n",
       "      <td>30.300000</td>\n",
       "      <td>55.000000</td>\n",
       "      <td>550.000000</td>\n",
       "      <td>590.910000</td>\n",
       "    </tr>\n",
       "  </tbody>\n",
       "</table>\n",
       "</div>"
      ],
      "text/plain": [
       "           user_id        month  monthly_calls  monthly_minutes  \\\n",
       "count  1579.000000  1573.000000    1545.000000      1545.000000   \n",
       "mean   1242.940469     9.182454      60.895793       436.519741   \n",
       "std     139.200115     2.468199      31.268044       229.283805   \n",
       "min    1001.000000     1.000000       1.000000         0.000000   \n",
       "25%    1120.000000     8.000000      40.000000       279.000000   \n",
       "50%    1245.000000    10.000000      60.000000       430.000000   \n",
       "75%    1358.000000    11.000000      80.000000       579.000000   \n",
       "max    1499.000000    12.000000     205.000000      1510.000000   \n",
       "\n",
       "       monthly_messages   internet_mb  message_revenue  call_revenue  \\\n",
       "count       1545.000000   1558.000000      1579.000000   1579.000000   \n",
       "mean          60.895793  16717.702137         0.537853      1.836764   \n",
       "std           31.268044   7884.682983         0.692975      3.760291   \n",
       "min            1.000000     92.310000         0.000000      0.000000   \n",
       "25%           40.000000  12187.955000         0.000000      0.000000   \n",
       "50%           60.000000  16923.830000         0.300000      0.000000   \n",
       "75%           80.000000  21039.860000         0.870000      2.280000   \n",
       "max          205.000000  70931.590000         4.650000     30.300000   \n",
       "\n",
       "       internet_gb_charged  internet_revenue  total_revenue  \n",
       "count          1558.000000       1579.000000    1579.000000  \n",
       "mean              1.831194         38.505383      60.880000  \n",
       "std               7.711922         54.404675      55.437071  \n",
       "min             -14.000000          0.000000      20.000000  \n",
       "25%              -3.000000          0.000000      20.120000  \n",
       "50%               2.000000         20.000000      40.470000  \n",
       "75%               6.000000         60.000000      80.675000  \n",
       "max              55.000000        550.000000     590.910000  "
      ]
     },
     "execution_count": 71,
     "metadata": {},
     "output_type": "execute_result"
    }
   ],
   "source": [
    "# Gives us an initial overall picture of Surf user descriptive statistics\n",
    "\n",
    "surf_users.describe() \n",
    "\n",
    "#surf_users.user_id.nunique()"
   ]
  },
  {
   "cell_type": "code",
   "execution_count": 72,
   "metadata": {},
   "outputs": [
    {
     "data": {
      "text/html": [
       "<div>\n",
       "<style scoped>\n",
       "    .dataframe tbody tr th:only-of-type {\n",
       "        vertical-align: middle;\n",
       "    }\n",
       "\n",
       "    .dataframe tbody tr th {\n",
       "        vertical-align: top;\n",
       "    }\n",
       "\n",
       "    .dataframe thead th {\n",
       "        text-align: right;\n",
       "    }\n",
       "</style>\n",
       "<table border=\"1\" class=\"dataframe\">\n",
       "  <thead>\n",
       "    <tr style=\"text-align: right;\">\n",
       "      <th></th>\n",
       "      <th>user_id</th>\n",
       "      <th>month</th>\n",
       "      <th>monthly_calls</th>\n",
       "      <th>monthly_minutes</th>\n",
       "      <th>monthly_messages</th>\n",
       "      <th>internet_mb</th>\n",
       "      <th>surf_revenue</th>\n",
       "      <th>message_revenue</th>\n",
       "      <th>call_revenue</th>\n",
       "      <th>internet_gb_charged</th>\n",
       "      <th>internet_revenue</th>\n",
       "      <th>total_revenue</th>\n",
       "    </tr>\n",
       "  </thead>\n",
       "  <tbody>\n",
       "    <tr>\n",
       "      <td>count</td>\n",
       "      <td>723.000000</td>\n",
       "      <td>719.000000</td>\n",
       "      <td>713.000000</td>\n",
       "      <td>713.000000</td>\n",
       "      <td>713.000000</td>\n",
       "      <td>719.000000</td>\n",
       "      <td>0.0</td>\n",
       "      <td>723.0</td>\n",
       "      <td>723.0</td>\n",
       "      <td>719.000000</td>\n",
       "      <td>723.000000</td>\n",
       "      <td>723.000000</td>\n",
       "    </tr>\n",
       "    <tr>\n",
       "      <td>mean</td>\n",
       "      <td>1253.040111</td>\n",
       "      <td>9.150209</td>\n",
       "      <td>61.221599</td>\n",
       "      <td>434.676017</td>\n",
       "      <td>61.221599</td>\n",
       "      <td>17238.642253</td>\n",
       "      <td>NaN</td>\n",
       "      <td>0.0</td>\n",
       "      <td>0.0</td>\n",
       "      <td>-12.668985</td>\n",
       "      <td>2.304288</td>\n",
       "      <td>72.304288</td>\n",
       "    </tr>\n",
       "    <tr>\n",
       "      <td>std</td>\n",
       "      <td>150.806088</td>\n",
       "      <td>2.560080</td>\n",
       "      <td>32.855296</td>\n",
       "      <td>237.852123</td>\n",
       "      <td>32.855296</td>\n",
       "      <td>7831.018323</td>\n",
       "      <td>NaN</td>\n",
       "      <td>0.0</td>\n",
       "      <td>0.0</td>\n",
       "      <td>7.648185</td>\n",
       "      <td>11.372383</td>\n",
       "      <td>11.372383</td>\n",
       "    </tr>\n",
       "    <tr>\n",
       "      <td>min</td>\n",
       "      <td>1000.000000</td>\n",
       "      <td>1.000000</td>\n",
       "      <td>2.000000</td>\n",
       "      <td>0.000000</td>\n",
       "      <td>2.000000</td>\n",
       "      <td>233.170000</td>\n",
       "      <td>NaN</td>\n",
       "      <td>0.0</td>\n",
       "      <td>0.0</td>\n",
       "      <td>-29.000000</td>\n",
       "      <td>0.000000</td>\n",
       "      <td>70.000000</td>\n",
       "    </tr>\n",
       "    <tr>\n",
       "      <td>25%</td>\n",
       "      <td>1126.000000</td>\n",
       "      <td>8.000000</td>\n",
       "      <td>37.000000</td>\n",
       "      <td>263.000000</td>\n",
       "      <td>37.000000</td>\n",
       "      <td>12671.130000</td>\n",
       "      <td>NaN</td>\n",
       "      <td>0.0</td>\n",
       "      <td>0.0</td>\n",
       "      <td>-17.000000</td>\n",
       "      <td>0.000000</td>\n",
       "      <td>70.000000</td>\n",
       "    </tr>\n",
       "    <tr>\n",
       "      <td>50%</td>\n",
       "      <td>1246.000000</td>\n",
       "      <td>10.000000</td>\n",
       "      <td>61.000000</td>\n",
       "      <td>425.000000</td>\n",
       "      <td>61.000000</td>\n",
       "      <td>16863.450000</td>\n",
       "      <td>NaN</td>\n",
       "      <td>0.0</td>\n",
       "      <td>0.0</td>\n",
       "      <td>-13.000000</td>\n",
       "      <td>0.000000</td>\n",
       "      <td>70.000000</td>\n",
       "    </tr>\n",
       "    <tr>\n",
       "      <td>75%</td>\n",
       "      <td>1398.000000</td>\n",
       "      <td>11.000000</td>\n",
       "      <td>80.000000</td>\n",
       "      <td>566.000000</td>\n",
       "      <td>80.000000</td>\n",
       "      <td>21025.155000</td>\n",
       "      <td>NaN</td>\n",
       "      <td>0.0</td>\n",
       "      <td>0.0</td>\n",
       "      <td>-9.000000</td>\n",
       "      <td>0.000000</td>\n",
       "      <td>70.000000</td>\n",
       "    </tr>\n",
       "    <tr>\n",
       "      <td>max</td>\n",
       "      <td>1497.000000</td>\n",
       "      <td>12.000000</td>\n",
       "      <td>191.000000</td>\n",
       "      <td>1369.000000</td>\n",
       "      <td>191.000000</td>\n",
       "      <td>46595.330000</td>\n",
       "      <td>NaN</td>\n",
       "      <td>0.0</td>\n",
       "      <td>0.0</td>\n",
       "      <td>16.000000</td>\n",
       "      <td>112.000000</td>\n",
       "      <td>182.000000</td>\n",
       "    </tr>\n",
       "  </tbody>\n",
       "</table>\n",
       "</div>"
      ],
      "text/plain": [
       "           user_id       month  monthly_calls  monthly_minutes  \\\n",
       "count   723.000000  719.000000     713.000000       713.000000   \n",
       "mean   1253.040111    9.150209      61.221599       434.676017   \n",
       "std     150.806088    2.560080      32.855296       237.852123   \n",
       "min    1000.000000    1.000000       2.000000         0.000000   \n",
       "25%    1126.000000    8.000000      37.000000       263.000000   \n",
       "50%    1246.000000   10.000000      61.000000       425.000000   \n",
       "75%    1398.000000   11.000000      80.000000       566.000000   \n",
       "max    1497.000000   12.000000     191.000000      1369.000000   \n",
       "\n",
       "       monthly_messages   internet_mb  surf_revenue  message_revenue  \\\n",
       "count        713.000000    719.000000           0.0            723.0   \n",
       "mean          61.221599  17238.642253           NaN              0.0   \n",
       "std           32.855296   7831.018323           NaN              0.0   \n",
       "min            2.000000    233.170000           NaN              0.0   \n",
       "25%           37.000000  12671.130000           NaN              0.0   \n",
       "50%           61.000000  16863.450000           NaN              0.0   \n",
       "75%           80.000000  21025.155000           NaN              0.0   \n",
       "max          191.000000  46595.330000           NaN              0.0   \n",
       "\n",
       "       call_revenue  internet_gb_charged  internet_revenue  total_revenue  \n",
       "count         723.0           719.000000        723.000000     723.000000  \n",
       "mean            0.0           -12.668985          2.304288      72.304288  \n",
       "std             0.0             7.648185         11.372383      11.372383  \n",
       "min             0.0           -29.000000          0.000000      70.000000  \n",
       "25%             0.0           -17.000000          0.000000      70.000000  \n",
       "50%             0.0           -13.000000          0.000000      70.000000  \n",
       "75%             0.0            -9.000000          0.000000      70.000000  \n",
       "max             0.0            16.000000        112.000000     182.000000  "
      ]
     },
     "execution_count": 72,
     "metadata": {},
     "output_type": "execute_result"
    }
   ],
   "source": [
    "# Gives us an initial overall picture of Ultimate user descriptive statistics\n",
    "\n",
    "ultimate_users.describe()\n",
    "\n",
    "#ultimate_users.user_id.nunique()"
   ]
  },
  {
   "cell_type": "markdown",
   "metadata": {},
   "source": [
    "### Calls"
   ]
  },
  {
   "cell_type": "code",
   "execution_count": 73,
   "metadata": {},
   "outputs": [
    {
     "data": {
      "image/png": "[encoded data removed]",
      "text/plain": [
       "<Figure size 432x288 with 1 Axes>"
      ]
     },
     "metadata": {
      "needs_background": "light"
     },
     "output_type": "display_data"
    }
   ],
   "source": [
    "# Compares average duration of calls per each plan per each distinct month. Plots a bar plat to visualize it.\n",
    "\n",
    "user_data.head()\n",
    "\n",
    "call_duration_monthly = call_data.merge(user_data[['user_id','plan']], on = 'user_id', how = 'outer') \n",
    "\n",
    "pd.pivot_table(call_duration_monthly, values = 'duration', index = ['plan','month'], aggfunc='mean').plot(kind='bar');\n"
   ]
  },
  {
   "cell_type": "code",
   "execution_count": 74,
   "metadata": {},
   "outputs": [
    {
     "data": {
      "image/png": "[encoded data removed]",
      "text/plain": [
       "<Figure size 432x288 with 1 Axes>"
      ]
     },
     "metadata": {
      "needs_background": "light"
     },
     "output_type": "display_data"
    }
   ],
   "source": [
    "# Compare the number of minutes users of each plan require each month. Plot a histogram.\n",
    "\n",
    "user_data_surf = user_data_total.query('plan == \"surf\"')\n",
    "\n",
    "user_data_ult = user_data_total.query('plan == \"ultimate\"')\n",
    "\n",
    "user_data_surf['monthly_minutes'].hist(color='orange');\n",
    "\n",
    "user_data_ult['monthly_minutes'].hist(color='blue');\n"
   ]
  },
  {
   "cell_type": "code",
   "execution_count": 75,
   "metadata": {},
   "outputs": [
    {
     "data": {
      "text/html": [
       "<div>\n",
       "<style scoped>\n",
       "    .dataframe tbody tr th:only-of-type {\n",
       "        vertical-align: middle;\n",
       "    }\n",
       "\n",
       "    .dataframe tbody tr th {\n",
       "        vertical-align: top;\n",
       "    }\n",
       "\n",
       "    .dataframe thead tr th {\n",
       "        text-align: left;\n",
       "    }\n",
       "\n",
       "    .dataframe thead tr:last-of-type th {\n",
       "        text-align: right;\n",
       "    }\n",
       "</style>\n",
       "<table border=\"1\" class=\"dataframe\">\n",
       "  <thead>\n",
       "    <tr>\n",
       "      <th></th>\n",
       "      <th>mean</th>\n",
       "      <th>var</th>\n",
       "      <th>min</th>\n",
       "      <th>max</th>\n",
       "    </tr>\n",
       "    <tr>\n",
       "      <th></th>\n",
       "      <th>monthly_minutes</th>\n",
       "      <th>monthly_minutes</th>\n",
       "      <th>monthly_minutes</th>\n",
       "      <th>monthly_minutes</th>\n",
       "    </tr>\n",
       "    <tr>\n",
       "      <th>plan</th>\n",
       "      <th></th>\n",
       "      <th></th>\n",
       "      <th></th>\n",
       "      <th></th>\n",
       "    </tr>\n",
       "  </thead>\n",
       "  <tbody>\n",
       "    <tr>\n",
       "      <td>surf</td>\n",
       "      <td>436.519741</td>\n",
       "      <td>52571.063243</td>\n",
       "      <td>0.0</td>\n",
       "      <td>1510.0</td>\n",
       "    </tr>\n",
       "    <tr>\n",
       "      <td>ultimate</td>\n",
       "      <td>434.676017</td>\n",
       "      <td>56573.632247</td>\n",
       "      <td>0.0</td>\n",
       "      <td>1369.0</td>\n",
       "    </tr>\n",
       "  </tbody>\n",
       "</table>\n",
       "</div>"
      ],
      "text/plain": [
       "                    mean             var             min             max\n",
       "         monthly_minutes monthly_minutes monthly_minutes monthly_minutes\n",
       "plan                                                                    \n",
       "surf          436.519741    52571.063243             0.0          1510.0\n",
       "ultimate      434.676017    56573.632247             0.0          1369.0"
      ]
     },
     "execution_count": 75,
     "metadata": {},
     "output_type": "execute_result"
    }
   ],
   "source": [
    "# Calculate the mean and the variance of the monthly call duration\n",
    "\n",
    "pd.pivot_table(user_data_total, values = 'monthly_minutes', index = 'plan', aggfunc=['mean','var','min','max'])"
   ]
  },
  {
   "cell_type": "code",
   "execution_count": 76,
   "metadata": {},
   "outputs": [
    {
     "data": {
      "image/png": "[encoded data removed]",
      "text/plain": [
       "<Figure size 432x288 with 1 Axes>"
      ]
     },
     "metadata": {
      "needs_background": "light"
     },
     "output_type": "display_data"
    }
   ],
   "source": [
    "# Plot a boxplot to visualize the distribution of the monthly call duration\n",
    "\n",
    "user_data_surf.boxplot(column='monthly_minutes'); # Plots monthly minutes for Surf plan\n"
   ]
  },
  {
   "cell_type": "code",
   "execution_count": 77,
   "metadata": {},
   "outputs": [
    {
     "data": {
      "image/png": "[encoded data removed]",
      "text/plain": [
       "<Figure size 432x288 with 1 Axes>"
      ]
     },
     "metadata": {
      "needs_background": "light"
     },
     "output_type": "display_data"
    }
   ],
   "source": [
    "user_data_ult.boxplot(column='monthly_minutes'); # Plots monthly minutes for Ultimate plan"
   ]
  },
  {
   "cell_type": "markdown",
   "metadata": {},
   "source": [
    "**Observations on Calls**\n",
    "* The distribution of call data is similar across both plans. \n",
    "* The monthly average minutes and distribution of minutes are similar across both plans. "
   ]
  },
  {
   "cell_type": "markdown",
   "metadata": {},
   "source": [
    "### Messages"
   ]
  },
  {
   "cell_type": "code",
   "execution_count": 78,
   "metadata": {},
   "outputs": [
    {
     "data": {
      "image/png": "[encoded data removed]",
      "text/plain": [
       "<Figure size 432x288 with 1 Axes>"
      ]
     },
     "metadata": {
      "needs_background": "light"
     },
     "output_type": "display_data"
    }
   ],
   "source": [
    "# Compare the number of messages users of each plan tend to send each month\n",
    "\n",
    "user_data_surf['monthly_messages'].hist(color='orange');\n",
    "\n",
    "user_data_ult['monthly_messages'].hist(color='blue');"
   ]
  },
  {
   "cell_type": "code",
   "execution_count": 79,
   "metadata": {},
   "outputs": [
    {
     "data": {
      "text/html": [
       "<div>\n",
       "<style scoped>\n",
       "    .dataframe tbody tr th:only-of-type {\n",
       "        vertical-align: middle;\n",
       "    }\n",
       "\n",
       "    .dataframe tbody tr th {\n",
       "        vertical-align: top;\n",
       "    }\n",
       "\n",
       "    .dataframe thead tr th {\n",
       "        text-align: left;\n",
       "    }\n",
       "\n",
       "    .dataframe thead tr:last-of-type th {\n",
       "        text-align: right;\n",
       "    }\n",
       "</style>\n",
       "<table border=\"1\" class=\"dataframe\">\n",
       "  <thead>\n",
       "    <tr>\n",
       "      <th></th>\n",
       "      <th>mean</th>\n",
       "      <th>var</th>\n",
       "      <th>min</th>\n",
       "      <th>max</th>\n",
       "    </tr>\n",
       "    <tr>\n",
       "      <th></th>\n",
       "      <th>monthly_messages</th>\n",
       "      <th>monthly_messages</th>\n",
       "      <th>monthly_messages</th>\n",
       "      <th>monthly_messages</th>\n",
       "    </tr>\n",
       "    <tr>\n",
       "      <th>plan</th>\n",
       "      <th></th>\n",
       "      <th></th>\n",
       "      <th></th>\n",
       "      <th></th>\n",
       "    </tr>\n",
       "  </thead>\n",
       "  <tbody>\n",
       "    <tr>\n",
       "      <td>surf</td>\n",
       "      <td>60.895793</td>\n",
       "      <td>977.690559</td>\n",
       "      <td>1.0</td>\n",
       "      <td>205.0</td>\n",
       "    </tr>\n",
       "    <tr>\n",
       "      <td>ultimate</td>\n",
       "      <td>61.221599</td>\n",
       "      <td>1079.470488</td>\n",
       "      <td>2.0</td>\n",
       "      <td>191.0</td>\n",
       "    </tr>\n",
       "  </tbody>\n",
       "</table>\n",
       "</div>"
      ],
      "text/plain": [
       "                     mean              var              min              max\n",
       "         monthly_messages monthly_messages monthly_messages monthly_messages\n",
       "plan                                                                        \n",
       "surf            60.895793       977.690559              1.0            205.0\n",
       "ultimate        61.221599      1079.470488              2.0            191.0"
      ]
     },
     "execution_count": 79,
     "metadata": {},
     "output_type": "execute_result"
    }
   ],
   "source": [
    "pd.pivot_table(user_data_total, values = 'monthly_messages', index = 'plan', aggfunc=['mean','var','min','max'])"
   ]
  },
  {
   "cell_type": "code",
   "execution_count": 80,
   "metadata": {},
   "outputs": [
    {
     "data": {
      "image/png": "[encoded data removed]",
      "text/plain": [
       "<Figure size 432x288 with 1 Axes>"
      ]
     },
     "metadata": {
      "needs_background": "light"
     },
     "output_type": "display_data"
    }
   ],
   "source": [
    "user_data_surf.boxplot(column='monthly_messages'); # Plots monthly minutes for Surf plan"
   ]
  },
  {
   "cell_type": "code",
   "execution_count": 81,
   "metadata": {},
   "outputs": [
    {
     "data": {
      "image/png": "[encoded data removed]",
      "text/plain": [
       "<Figure size 432x288 with 1 Axes>"
      ]
     },
     "metadata": {
      "needs_background": "light"
     },
     "output_type": "display_data"
    }
   ],
   "source": [
    "user_data_ult.boxplot(column='monthly_messages'); # Plots monthly minutes for Ultimate plan"
   ]
  },
  {
   "cell_type": "markdown",
   "metadata": {},
   "source": [
    "**Observations on Messages**\n",
    "* The distribution of message data is similar across both plans. \n",
    "* The monthly average messages and distribution of messages are similar across both plans. \n",
    "* The ultimate plan seems to have more users with a slighlty higher number of users that send more than 100 messages a month. "
   ]
  },
  {
   "cell_type": "markdown",
   "metadata": {},
   "source": [
    "### Internet"
   ]
  },
  {
   "cell_type": "code",
   "execution_count": 82,
   "metadata": {},
   "outputs": [
    {
     "data": {
      "image/png": "[encoded data removed]",
      "text/plain": [
       "<Figure size 432x288 with 1 Axes>"
      ]
     },
     "metadata": {
      "needs_background": "light"
     },
     "output_type": "display_data"
    }
   ],
   "source": [
    "# Compare the amount of internet traffic consumed by users per plan\n",
    "\n",
    "user_data_surf['internet_mb'].hist(color='orange');\n",
    "\n",
    "user_data_ult['internet_mb'].hist(color='blue');\n"
   ]
  },
  {
   "cell_type": "code",
   "execution_count": 83,
   "metadata": {},
   "outputs": [
    {
     "data": {
      "text/html": [
       "<div>\n",
       "<style scoped>\n",
       "    .dataframe tbody tr th:only-of-type {\n",
       "        vertical-align: middle;\n",
       "    }\n",
       "\n",
       "    .dataframe tbody tr th {\n",
       "        vertical-align: top;\n",
       "    }\n",
       "\n",
       "    .dataframe thead tr th {\n",
       "        text-align: left;\n",
       "    }\n",
       "\n",
       "    .dataframe thead tr:last-of-type th {\n",
       "        text-align: right;\n",
       "    }\n",
       "</style>\n",
       "<table border=\"1\" class=\"dataframe\">\n",
       "  <thead>\n",
       "    <tr>\n",
       "      <th></th>\n",
       "      <th>mean</th>\n",
       "      <th>var</th>\n",
       "      <th>min</th>\n",
       "      <th>max</th>\n",
       "    </tr>\n",
       "    <tr>\n",
       "      <th></th>\n",
       "      <th>internet_mb</th>\n",
       "      <th>internet_mb</th>\n",
       "      <th>internet_mb</th>\n",
       "      <th>internet_mb</th>\n",
       "    </tr>\n",
       "    <tr>\n",
       "      <th>plan</th>\n",
       "      <th></th>\n",
       "      <th></th>\n",
       "      <th></th>\n",
       "      <th></th>\n",
       "    </tr>\n",
       "  </thead>\n",
       "  <tbody>\n",
       "    <tr>\n",
       "      <td>surf</td>\n",
       "      <td>16717.702137</td>\n",
       "      <td>6.216823e+07</td>\n",
       "      <td>92.31</td>\n",
       "      <td>70931.59</td>\n",
       "    </tr>\n",
       "    <tr>\n",
       "      <td>ultimate</td>\n",
       "      <td>17238.642253</td>\n",
       "      <td>6.132485e+07</td>\n",
       "      <td>233.17</td>\n",
       "      <td>46595.33</td>\n",
       "    </tr>\n",
       "  </tbody>\n",
       "</table>\n",
       "</div>"
      ],
      "text/plain": [
       "                  mean           var         min         max\n",
       "           internet_mb   internet_mb internet_mb internet_mb\n",
       "plan                                                        \n",
       "surf      16717.702137  6.216823e+07       92.31    70931.59\n",
       "ultimate  17238.642253  6.132485e+07      233.17    46595.33"
      ]
     },
     "execution_count": 83,
     "metadata": {},
     "output_type": "execute_result"
    }
   ],
   "source": [
    "pd.pivot_table(user_data_total, values = 'internet_mb', index = 'plan', aggfunc=['mean','var','min','max'])"
   ]
  },
  {
   "cell_type": "code",
   "execution_count": 84,
   "metadata": {},
   "outputs": [
    {
     "data": {
      "image/png": "[encoded data removed]",
      "text/plain": [
       "<Figure size 432x288 with 1 Axes>"
      ]
     },
     "metadata": {
      "needs_background": "light"
     },
     "output_type": "display_data"
    }
   ],
   "source": [
    "user_data_surf.boxplot(column='internet_mb'); # Plots monthly minutes for Surf plan"
   ]
  },
  {
   "cell_type": "code",
   "execution_count": 85,
   "metadata": {},
   "outputs": [
    {
     "data": {
      "image/png": "[encoded data removed]",
      "text/plain": [
       "<Figure size 432x288 with 1 Axes>"
      ]
     },
     "metadata": {
      "needs_background": "light"
     },
     "output_type": "display_data"
    }
   ],
   "source": [
    "user_data_ult.boxplot(column='internet_mb'); # Plots monthly minutes for Ultimate plan"
   ]
  },
  {
   "cell_type": "markdown",
   "metadata": {},
   "source": [
    "**Observations on Internet**\n",
    "* The distribution of internet data is similar across both plans. \n",
    "* The monthly average internet usage is similar across both plans. \n",
    "* The minimum usage of users of the ultimate plan is much higher than users of the surf plan."
   ]
  },
  {
   "cell_type": "markdown",
   "metadata": {},
   "source": [
    " "
   ]
  },
  {
   "cell_type": "markdown",
   "metadata": {},
   "source": [
    "## Revenue"
   ]
  },
  {
   "cell_type": "code",
   "execution_count": 86,
   "metadata": {},
   "outputs": [
    {
     "data": {
      "text/html": [
       "<div>\n",
       "<style scoped>\n",
       "    .dataframe tbody tr th:only-of-type {\n",
       "        vertical-align: middle;\n",
       "    }\n",
       "\n",
       "    .dataframe tbody tr th {\n",
       "        vertical-align: top;\n",
       "    }\n",
       "\n",
       "    .dataframe thead tr th {\n",
       "        text-align: left;\n",
       "    }\n",
       "\n",
       "    .dataframe thead tr:last-of-type th {\n",
       "        text-align: right;\n",
       "    }\n",
       "</style>\n",
       "<table border=\"1\" class=\"dataframe\">\n",
       "  <thead>\n",
       "    <tr>\n",
       "      <th></th>\n",
       "      <th colspan=\"2\" halign=\"left\">mean</th>\n",
       "      <th colspan=\"2\" halign=\"left\">var</th>\n",
       "      <th colspan=\"2\" halign=\"left\">min</th>\n",
       "      <th colspan=\"2\" halign=\"left\">max</th>\n",
       "    </tr>\n",
       "    <tr>\n",
       "      <th></th>\n",
       "      <th>surf_revenue</th>\n",
       "      <th>ultimate_revenue</th>\n",
       "      <th>surf_revenue</th>\n",
       "      <th>ultimate_revenue</th>\n",
       "      <th>surf_revenue</th>\n",
       "      <th>ultimate_revenue</th>\n",
       "      <th>surf_revenue</th>\n",
       "      <th>ultimate_revenue</th>\n",
       "    </tr>\n",
       "    <tr>\n",
       "      <th>plan</th>\n",
       "      <th></th>\n",
       "      <th></th>\n",
       "      <th></th>\n",
       "      <th></th>\n",
       "      <th></th>\n",
       "      <th></th>\n",
       "      <th></th>\n",
       "      <th></th>\n",
       "    </tr>\n",
       "  </thead>\n",
       "  <tbody>\n",
       "    <tr>\n",
       "      <td>surf</td>\n",
       "      <td>60.88</td>\n",
       "      <td>NaN</td>\n",
       "      <td>3073.268836</td>\n",
       "      <td>NaN</td>\n",
       "      <td>20.0</td>\n",
       "      <td>NaN</td>\n",
       "      <td>590.91</td>\n",
       "      <td>NaN</td>\n",
       "    </tr>\n",
       "    <tr>\n",
       "      <td>ultimate</td>\n",
       "      <td>NaN</td>\n",
       "      <td>72.304288</td>\n",
       "      <td>NaN</td>\n",
       "      <td>129.331103</td>\n",
       "      <td>NaN</td>\n",
       "      <td>70.0</td>\n",
       "      <td>NaN</td>\n",
       "      <td>182.0</td>\n",
       "    </tr>\n",
       "  </tbody>\n",
       "</table>\n",
       "</div>"
      ],
      "text/plain": [
       "                 mean                           var                   \\\n",
       "         surf_revenue ultimate_revenue surf_revenue ultimate_revenue   \n",
       "plan                                                                   \n",
       "surf            60.88              NaN  3073.268836              NaN   \n",
       "ultimate          NaN        72.304288          NaN       129.331103   \n",
       "\n",
       "                  min                           max                   \n",
       "         surf_revenue ultimate_revenue surf_revenue ultimate_revenue  \n",
       "plan                                                                  \n",
       "surf             20.0              NaN       590.91              NaN  \n",
       "ultimate          NaN             70.0          NaN            182.0  "
      ]
     },
     "execution_count": 86,
     "metadata": {},
     "output_type": "execute_result"
    }
   ],
   "source": [
    "# Looks at description of revenue data\n",
    "\n",
    "pd.pivot_table(user_data_total, values = ['surf_revenue','ultimate_revenue'], index = 'plan', aggfunc=['mean','var','min','max'])"
   ]
  },
  {
   "cell_type": "code",
   "execution_count": 87,
   "metadata": {},
   "outputs": [
    {
     "data": {
      "image/png": "[encoded data removed]",
      "text/plain": [
       "<Figure size 432x288 with 1 Axes>"
      ]
     },
     "metadata": {
      "needs_background": "light"
     },
     "output_type": "display_data"
    }
   ],
   "source": [
    "# Compare the amount of revenue generated by users per plan\n",
    "\n",
    "user_data_surf['surf_revenue'].hist(color='orange');\n",
    "\n",
    "user_data_ult['ultimate_revenue'].hist(color='blue');"
   ]
  },
  {
   "cell_type": "code",
   "execution_count": 88,
   "metadata": {},
   "outputs": [
    {
     "data": {
      "image/png": "[encoded data removed]",
      "text/plain": [
       "<Figure size 432x288 with 1 Axes>"
      ]
     },
     "metadata": {
      "needs_background": "light"
     },
     "output_type": "display_data"
    }
   ],
   "source": [
    "# Creates a boxplot \n",
    "\n",
    "user_data_total.boxplot(column='surf_revenue'); "
   ]
  },
  {
   "cell_type": "code",
   "execution_count": 89,
   "metadata": {},
   "outputs": [
    {
     "data": {
      "image/png": "[encoded data removed]",
      "text/plain": [
       "<Figure size 432x288 with 1 Axes>"
      ]
     },
     "metadata": {
      "needs_background": "light"
     },
     "output_type": "display_data"
    }
   ],
   "source": [
    "# Creates a boxplot \n",
    "\n",
    "user_data_total.boxplot(column='ultimate_revenue'); "
   ]
  },
  {
   "cell_type": "markdown",
   "metadata": {},
   "source": [
    "**Observations on Revenue Per Plan**\n",
    "* The revenue for the Surf plan appears to exceed that of the Ultimate plan.\n",
    "* While the Ultimate plan has a few outliers, the maximum is still below that of the Surf plan, and the majority of Ultimate users play close to the minimum ($70)."
   ]
  },
  {
   "cell_type": "markdown",
   "metadata": {},
   "source": [
    "## Regions"
   ]
  },
  {
   "cell_type": "code",
   "execution_count": 90,
   "metadata": {},
   "outputs": [
    {
     "data": {
      "text/html": [
       "<div>\n",
       "<style scoped>\n",
       "    .dataframe tbody tr th:only-of-type {\n",
       "        vertical-align: middle;\n",
       "    }\n",
       "\n",
       "    .dataframe tbody tr th {\n",
       "        vertical-align: top;\n",
       "    }\n",
       "\n",
       "    .dataframe thead th {\n",
       "        text-align: right;\n",
       "    }\n",
       "</style>\n",
       "<table border=\"1\" class=\"dataframe\">\n",
       "  <thead>\n",
       "    <tr style=\"text-align: right;\">\n",
       "      <th></th>\n",
       "      <th>user_id</th>\n",
       "      <th>month</th>\n",
       "      <th>monthly_calls</th>\n",
       "      <th>monthly_minutes</th>\n",
       "      <th>monthly_messages</th>\n",
       "      <th>internet_mb</th>\n",
       "      <th>plan</th>\n",
       "      <th>surf_revenue</th>\n",
       "      <th>ultimate_revenue</th>\n",
       "      <th>total_revenue</th>\n",
       "      <th>region</th>\n",
       "    </tr>\n",
       "  </thead>\n",
       "  <tbody>\n",
       "    <tr>\n",
       "      <td>0</td>\n",
       "      <td>1000</td>\n",
       "      <td>12.0</td>\n",
       "      <td>16.0</td>\n",
       "      <td>124.0</td>\n",
       "      <td>16.0</td>\n",
       "      <td>1901.47</td>\n",
       "      <td>ultimate</td>\n",
       "      <td>NaN</td>\n",
       "      <td>70.0</td>\n",
       "      <td>70.00</td>\n",
       "      <td>Other</td>\n",
       "    </tr>\n",
       "    <tr>\n",
       "      <td>1</td>\n",
       "      <td>1001</td>\n",
       "      <td>8.0</td>\n",
       "      <td>27.0</td>\n",
       "      <td>182.0</td>\n",
       "      <td>27.0</td>\n",
       "      <td>6919.15</td>\n",
       "      <td>surf</td>\n",
       "      <td>20.00</td>\n",
       "      <td>NaN</td>\n",
       "      <td>20.00</td>\n",
       "      <td>Other</td>\n",
       "    </tr>\n",
       "    <tr>\n",
       "      <td>2</td>\n",
       "      <td>1001</td>\n",
       "      <td>9.0</td>\n",
       "      <td>49.0</td>\n",
       "      <td>315.0</td>\n",
       "      <td>49.0</td>\n",
       "      <td>13314.82</td>\n",
       "      <td>surf</td>\n",
       "      <td>20.00</td>\n",
       "      <td>NaN</td>\n",
       "      <td>20.00</td>\n",
       "      <td>Other</td>\n",
       "    </tr>\n",
       "    <tr>\n",
       "      <td>3</td>\n",
       "      <td>1001</td>\n",
       "      <td>10.0</td>\n",
       "      <td>65.0</td>\n",
       "      <td>393.0</td>\n",
       "      <td>65.0</td>\n",
       "      <td>22330.49</td>\n",
       "      <td>surf</td>\n",
       "      <td>90.45</td>\n",
       "      <td>NaN</td>\n",
       "      <td>90.45</td>\n",
       "      <td>Other</td>\n",
       "    </tr>\n",
       "    <tr>\n",
       "      <td>4</td>\n",
       "      <td>1001</td>\n",
       "      <td>11.0</td>\n",
       "      <td>64.0</td>\n",
       "      <td>426.0</td>\n",
       "      <td>64.0</td>\n",
       "      <td>18504.30</td>\n",
       "      <td>surf</td>\n",
       "      <td>60.42</td>\n",
       "      <td>NaN</td>\n",
       "      <td>60.42</td>\n",
       "      <td>Other</td>\n",
       "    </tr>\n",
       "  </tbody>\n",
       "</table>\n",
       "</div>"
      ],
      "text/plain": [
       "   user_id  month  monthly_calls  monthly_minutes  monthly_messages  \\\n",
       "0     1000   12.0           16.0            124.0              16.0   \n",
       "1     1001    8.0           27.0            182.0              27.0   \n",
       "2     1001    9.0           49.0            315.0              49.0   \n",
       "3     1001   10.0           65.0            393.0              65.0   \n",
       "4     1001   11.0           64.0            426.0              64.0   \n",
       "\n",
       "   internet_mb      plan  surf_revenue  ultimate_revenue  total_revenue region  \n",
       "0      1901.47  ultimate           NaN              70.0          70.00  Other  \n",
       "1      6919.15      surf         20.00               NaN          20.00  Other  \n",
       "2     13314.82      surf         20.00               NaN          20.00  Other  \n",
       "3     22330.49      surf         90.45               NaN          90.45  Other  \n",
       "4     18504.30      surf         60.42               NaN          60.42  Other  "
      ]
     },
     "execution_count": 90,
     "metadata": {},
     "output_type": "execute_result"
    }
   ],
   "source": [
    "user_data_total = user_data_total.merge(user_data[['user_id','region']], on = 'user_id', how = 'outer') \n",
    "\n",
    "user_data_total.head()"
   ]
  },
  {
   "cell_type": "code",
   "execution_count": 91,
   "metadata": {},
   "outputs": [
    {
     "data": {
      "text/html": [
       "<div>\n",
       "<style scoped>\n",
       "    .dataframe tbody tr th:only-of-type {\n",
       "        vertical-align: middle;\n",
       "    }\n",
       "\n",
       "    .dataframe tbody tr th {\n",
       "        vertical-align: top;\n",
       "    }\n",
       "\n",
       "    .dataframe thead tr th {\n",
       "        text-align: left;\n",
       "    }\n",
       "\n",
       "    .dataframe thead tr:last-of-type th {\n",
       "        text-align: right;\n",
       "    }\n",
       "</style>\n",
       "<table border=\"1\" class=\"dataframe\">\n",
       "  <thead>\n",
       "    <tr>\n",
       "      <th></th>\n",
       "      <th>mean</th>\n",
       "      <th>var</th>\n",
       "      <th>min</th>\n",
       "      <th>max</th>\n",
       "    </tr>\n",
       "    <tr>\n",
       "      <th></th>\n",
       "      <th>total_revenue</th>\n",
       "      <th>total_revenue</th>\n",
       "      <th>total_revenue</th>\n",
       "      <th>total_revenue</th>\n",
       "    </tr>\n",
       "    <tr>\n",
       "      <th>region</th>\n",
       "      <th></th>\n",
       "      <th></th>\n",
       "      <th></th>\n",
       "      <th></th>\n",
       "    </tr>\n",
       "  </thead>\n",
       "  <tbody>\n",
       "    <tr>\n",
       "      <td>NY-NJ</td>\n",
       "      <td>61.617234</td>\n",
       "      <td>2108.786755</td>\n",
       "      <td>20.0</td>\n",
       "      <td>280.00</td>\n",
       "    </tr>\n",
       "    <tr>\n",
       "      <td>Other</td>\n",
       "      <td>65.235011</td>\n",
       "      <td>2192.889259</td>\n",
       "      <td>20.0</td>\n",
       "      <td>590.91</td>\n",
       "    </tr>\n",
       "  </tbody>\n",
       "</table>\n",
       "</div>"
      ],
      "text/plain": [
       "                mean           var           min           max\n",
       "       total_revenue total_revenue total_revenue total_revenue\n",
       "region                                                        \n",
       "NY-NJ      61.617234   2108.786755          20.0        280.00\n",
       "Other      65.235011   2192.889259          20.0        590.91"
      ]
     },
     "execution_count": 91,
     "metadata": {},
     "output_type": "execute_result"
    }
   ],
   "source": [
    "# Looks at description of revenue data\n",
    "\n",
    "pd.pivot_table(user_data_total, values = ['total_revenue'], index = 'region', aggfunc=['mean','var','min','max'])"
   ]
  },
  {
   "cell_type": "code",
   "execution_count": 92,
   "metadata": {},
   "outputs": [
    {
     "data": {
      "image/png": "[encoded data removed]",
      "text/plain": [
       "<Figure size 432x288 with 1 Axes>"
      ]
     },
     "metadata": {
      "needs_background": "light"
     },
     "output_type": "display_data"
    }
   ],
   "source": [
    "# Compare the amount of revenue generated by users per region\n",
    "\n",
    "Region1 = user_data_total.loc[user_data_total['region'] == \"NY-NJ\"]\n",
    "Region2 = user_data_total.loc[user_data_total['region'] == \"Other\"]\n",
    "\n",
    "Region1['total_revenue'].hist(color='orange');\n",
    "\n",
    "Region2['total_revenue'].hist(color='blue', alpha=0.5);"
   ]
  },
  {
   "cell_type": "code",
   "execution_count": 93,
   "metadata": {},
   "outputs": [
    {
     "data": {
      "image/png": "[encoded data removed]",
      "text/plain": [
       "<Figure size 432x288 with 1 Axes>"
      ]
     },
     "metadata": {
      "needs_background": "light"
     },
     "output_type": "display_data"
    }
   ],
   "source": [
    "# Creates a boxplot \n",
    "\n",
    "Region1.boxplot(column='total_revenue'); "
   ]
  },
  {
   "cell_type": "code",
   "execution_count": 94,
   "metadata": {},
   "outputs": [
    {
     "data": {
      "image/png": "[encoded data removed]",
      "text/plain": [
       "<Figure size 432x288 with 1 Axes>"
      ]
     },
     "metadata": {
      "needs_background": "light"
     },
     "output_type": "display_data"
    }
   ],
   "source": [
    "# Creates a boxplot \n",
    "\n",
    "Region2.boxplot(column='total_revenue'); "
   ]
  },
  {
   "cell_type": "markdown",
   "metadata": {},
   "source": [
    "**Observations on Revenue Per Region**\n",
    "* The revenue per region does not have a similar variance. \n",
    "* The means are similar, but the \"Other\" region has a larger maximum and number of users that bring in more revenue."
   ]
  },
  {
   "cell_type": "markdown",
   "metadata": {},
   "source": [
    "## Test statistical hypotheses"
   ]
  },
  {
   "cell_type": "markdown",
   "metadata": {},
   "source": [
    "**Null hypothesis:**\n",
    "The average revenue from users of the Ultimate plan equals the average mean of users of the Surf plan.\n",
    "\n",
    "**Alternative hypothesis:**\n",
    "The average revenue from users of the Ultimate plan does not equal the average mean of users of the Surf plan.\n",
    "\n",
    "**Statistical test** I will calculate a t-test for the two independent samples of the populations using scipy.stats.ttest_ind\n",
    "\n",
    "**Alpha** 0.05"
   ]
  },
  {
   "cell_type": "code",
   "execution_count": 95,
   "metadata": {},
   "outputs": [
    {
     "name": "stdout",
     "output_type": "stream",
     "text": [
      "p-value:  4.5141205593216715e-08\n",
      "We reject the null hypothesis.\n"
     ]
    }
   ],
   "source": [
    "# Test the hypotheses\n",
    "\n",
    "surf_revenue = surf_users['total_revenue'].values.tolist()\n",
    "ult_revenue = ultimate_users['total_revenue'].values.tolist()\n",
    "alpha = 0.05\n",
    "\n",
    "results = st.ttest_ind(surf_revenue, ult_revenue, equal_var = True)\n",
    "print('p-value: ', results.pvalue)\n",
    "\n",
    "if results.pvalue < alpha:\n",
    "    print(\"We reject the null hypothesis.\")\n",
    "else:\n",
    "    print(\"We can't reject the null hypothesis.\")"
   ]
  },
  {
   "cell_type": "code",
   "execution_count": 96,
   "metadata": {},
   "outputs": [
    {
     "name": "stdout",
     "output_type": "stream",
     "text": [
      "p-value:  4.5141205593216715e-08\n",
      "We reject the null hypothesis\n"
     ]
    }
   ],
   "source": [
    "# Test a one-tailed hypothesis \n",
    "\n",
    "surf_revenue = surf_users['total_revenue'].values.tolist()\n",
    "ult_revenue = ultimate_users['total_revenue'].values.tolist()\n",
    "alpha = 0.05\n",
    "\n",
    "results = st.ttest_ind(surf_revenue, ult_revenue, equal_var = True)\n",
    "print('p-value: ', results.pvalue)\n",
    "\n",
    "if (results.pvalue / 2 < alpha) and (ult_revenue > surf_revenue):\n",
    "    print(\"We reject the null hypothesis\")\n",
    "else:\n",
    "    print(\"We can't reject the null hypothesis\") "
   ]
  },
  {
   "cell_type": "markdown",
   "metadata": {},
   "source": [
    "**Null hypothesis:**\n",
    "The average revenue from users in the NY-NJ area equals the average mean of users in other regions.\n",
    "\n",
    "**Alternative hypothesis:**\n",
    "The average revenue from users in the NY-NJ area does not equal the average mean of users in other regions.\n",
    "\n",
    "**Statistical test** I will calculate a t-test for the two independent samples of the populations using scipy.stats.ttest_ind\n",
    "\n",
    "**Alpha** 0.05"
   ]
  },
  {
   "cell_type": "code",
   "execution_count": 97,
   "metadata": {},
   "outputs": [
    {
     "name": "stdout",
     "output_type": "stream",
     "text": [
      "p-value:  0.1243523506963018\n",
      "We can't reject the null hypothesis.\n"
     ]
    }
   ],
   "source": [
    "# Test the hypotheses\n",
    "\n",
    "NY_NJ = Region1['total_revenue'].values.tolist()\n",
    "Other = Region2['total_revenue'].values.tolist()\n",
    "alpha = 0.05\n",
    "\n",
    "results = st.ttest_ind(NY_NJ, Other, equal_var=False)\n",
    "print('p-value: ', results.pvalue)\n",
    "\n",
    "if results.pvalue < alpha:\n",
    "    print(\"We reject the null hypothesis.\")\n",
    "else:\n",
    "    print(\"We can't reject the null hypothesis.\")"
   ]
  },
  {
   "cell_type": "markdown",
   "metadata": {},
   "source": [
    "## General conclusion\n",
    "\n",
    "**We rejected the following null hypothesis: The average revenue from users of the Ultimate plan equals the average mean of users of the Surf plan.**\n",
    "\n",
    "For this analysis we used a t-test for two independent samples, with the assumption that the variance was equal across samples. This assumption was based on our descriptive analysis above. \n",
    "\n",
    "\n",
    "**We cannot reject the following hypothesis: The average revenue from users in the NY-NJ area equals the average mean of users in other regions.**\n",
    "\n",
    "For this analysis we used a t-test for two independent samples, with the assumption that the variance was not equal across samples. This assumption was based on our descriptive analysis above.\n",
    "\n",
    "**Business Summary**\n",
    "* Monthly utilization -- including the number of messages, number of calls, duration of calls and internet usage -- was similar across both plans. \n",
    "* While the Ultimate plan has a higher base price, it also includes more free messages, minutes and data. \n",
    "* The Surf plan has more than double the amount of unique users (339) as the Ultimate Plan (161). \n",
    "* While the average monthly revenue per user is slightly higher for Ultimate plan users, there are more users with extremely high utilization among Surf users.\n",
    "* The statistical test showed that there was as signficant difference between the average monthly revenue of Surf Users and Ultimate users. Ultimate users have a higher average monthly revenue, showing that this plan is more profitable to the company. \n",
    "* There is no sigificant variation in revenue in the NY-NJ region compared to all other regions. "
   ]
  },
  {
   "cell_type": "markdown",
   "metadata": {},
   "source": [
    " "
   ]
  }
 ],
 "metadata": {
  "ExecuteTimeLog": [
   {
    "duration": 828,
    "start_time": "2021-11-16T09:21:11.304Z"
   },
   {
    "duration": 893,
    "start_time": "2021-11-16T09:21:17.728Z"
   },
   {
    "duration": 1150,
    "start_time": "2021-11-16T09:21:29.568Z"
   },
   {
    "duration": 3,
    "start_time": "2021-11-16T09:24:14.495Z"
   },
   {
    "duration": 120,
    "start_time": "2021-11-16T09:24:46.630Z"
   },
   {
    "duration": 3,
    "start_time": "2021-11-16T09:28:27.882Z"
   },
   {
    "duration": 4,
    "start_time": "2021-11-16T09:29:54.281Z"
   },
   {
    "duration": 3,
    "start_time": "2021-11-16T09:30:45.936Z"
   },
   {
    "duration": 4,
    "start_time": "2021-11-16T09:31:06.300Z"
   },
   {
    "duration": 113,
    "start_time": "2021-11-16T09:31:37.208Z"
   },
   {
    "duration": 143,
    "start_time": "2021-11-16T09:31:48.656Z"
   },
   {
    "duration": 98,
    "start_time": "2021-11-16T09:31:55.678Z"
   },
   {
    "duration": 3,
    "start_time": "2021-11-16T09:32:08.535Z"
   },
   {
    "duration": 111,
    "start_time": "2021-11-16T09:32:10.120Z"
   },
   {
    "duration": 3,
    "start_time": "2021-11-16T09:32:15.732Z"
   },
   {
    "duration": 4,
    "start_time": "2021-11-16T09:32:29.423Z"
   },
   {
    "duration": 3,
    "start_time": "2021-11-16T10:03:03.074Z"
   },
   {
    "duration": 3,
    "start_time": "2021-11-16T10:10:01.288Z"
   },
   {
    "duration": 3,
    "start_time": "2021-11-16T10:10:46.923Z"
   },
   {
    "duration": 121,
    "start_time": "2021-11-16T10:37:46.494Z"
   },
   {
    "duration": 125,
    "start_time": "2021-11-16T10:38:20.632Z"
   },
   {
    "duration": 112,
    "start_time": "2021-11-16T10:46:53.001Z"
   },
   {
    "duration": 110,
    "start_time": "2021-11-16T10:48:25.775Z"
   },
   {
    "duration": 3,
    "start_time": "2021-11-16T10:50:18.720Z"
   },
   {
    "duration": 4,
    "start_time": "2021-11-16T10:50:37.649Z"
   },
   {
    "duration": 2,
    "start_time": "2021-11-16T10:50:51.884Z"
   },
   {
    "duration": 3,
    "start_time": "2021-11-16T10:51:56.237Z"
   },
   {
    "duration": 101,
    "start_time": "2021-11-16T10:53:13.791Z"
   },
   {
    "duration": 3,
    "start_time": "2021-11-16T10:55:59.186Z"
   },
   {
    "duration": 3,
    "start_time": "2021-11-16T10:56:10.751Z"
   },
   {
    "duration": 3,
    "start_time": "2021-11-16T10:56:49.038Z"
   },
   {
    "duration": 3,
    "start_time": "2021-11-16T10:56:49.174Z"
   },
   {
    "duration": 4,
    "start_time": "2021-11-16T10:56:49.414Z"
   },
   {
    "duration": 3,
    "start_time": "2021-11-16T10:56:49.680Z"
   },
   {
    "duration": 3,
    "start_time": "2021-11-16T10:56:50.370Z"
   },
   {
    "duration": 114,
    "start_time": "2021-11-16T10:59:34.518Z"
   },
   {
    "duration": 3,
    "start_time": "2021-11-16T11:01:41.201Z"
   },
   {
    "duration": 116,
    "start_time": "2021-11-16T11:01:48.754Z"
   },
   {
    "duration": 3,
    "start_time": "2021-11-16T11:02:16.685Z"
   },
   {
    "duration": 3,
    "start_time": "2021-11-16T11:02:19.479Z"
   },
   {
    "duration": 3,
    "start_time": "2021-11-16T11:02:47.067Z"
   },
   {
    "duration": 3,
    "start_time": "2021-11-16T11:02:49.353Z"
   },
   {
    "duration": 3,
    "start_time": "2021-11-16T11:03:07.835Z"
   },
   {
    "duration": 3,
    "start_time": "2021-11-16T11:03:07.953Z"
   },
   {
    "duration": 112,
    "start_time": "2021-11-16T11:07:52.072Z"
   },
   {
    "duration": 187,
    "start_time": "2021-11-16T11:09:23.468Z"
   },
   {
    "duration": 4,
    "start_time": "2021-11-16T11:10:01.455Z"
   },
   {
    "duration": 3,
    "start_time": "2021-11-16T11:10:05.069Z"
   },
   {
    "duration": 4,
    "start_time": "2021-11-16T11:10:13.376Z"
   },
   {
    "duration": 3,
    "start_time": "2021-11-16T11:10:14.434Z"
   },
   {
    "duration": 3,
    "start_time": "2021-11-16T11:10:22.853Z"
   },
   {
    "duration": 4,
    "start_time": "2021-11-16T11:27:29.279Z"
   },
   {
    "duration": 4,
    "start_time": "2021-11-16T11:29:08.919Z"
   },
   {
    "duration": 118,
    "start_time": "2021-11-16T11:29:46.703Z"
   },
   {
    "duration": 437,
    "start_time": "2021-11-16T11:36:02.181Z"
   },
   {
    "duration": 157,
    "start_time": "2021-11-16T11:36:14.388Z"
   },
   {
    "duration": 207,
    "start_time": "2021-11-16T11:47:15.898Z"
   },
   {
    "duration": 3,
    "start_time": "2021-11-16T11:53:52.092Z"
   },
   {
    "duration": 3,
    "start_time": "2021-11-16T11:53:52.236Z"
   },
   {
    "duration": 3,
    "start_time": "2021-11-16T11:59:12.005Z"
   },
   {
    "duration": 112,
    "start_time": "2021-11-16T12:00:33.446Z"
   },
   {
    "duration": 3,
    "start_time": "2021-11-16T12:02:14.453Z"
   },
   {
    "duration": 3,
    "start_time": "2021-11-16T12:02:39.512Z"
   },
   {
    "duration": 106,
    "start_time": "2021-11-16T12:03:03.460Z"
   },
   {
    "duration": 3,
    "start_time": "2021-11-17T20:37:21.139Z"
   },
   {
    "duration": 3,
    "start_time": "2021-11-17T20:37:22.229Z"
   },
   {
    "duration": 3,
    "start_time": "2021-11-17T20:38:38.806Z"
   },
   {
    "duration": 3,
    "start_time": "2021-11-17T20:38:41.958Z"
   },
   {
    "duration": 3,
    "start_time": "2021-11-17T20:43:46.551Z"
   },
   {
    "duration": 4,
    "start_time": "2021-11-17T20:58:21.835Z"
   },
   {
    "duration": 3,
    "start_time": "2021-11-17T20:59:21.872Z"
   },
   {
    "duration": 4,
    "start_time": "2021-11-17T20:59:45.352Z"
   },
   {
    "duration": 4,
    "start_time": "2021-11-17T20:59:49.646Z"
   },
   {
    "duration": 159,
    "start_time": "2021-11-17T21:02:26.949Z"
   },
   {
    "duration": 3,
    "start_time": "2021-11-17T21:03:53.461Z"
   },
   {
    "duration": 3,
    "start_time": "2021-11-17T21:03:53.694Z"
   },
   {
    "duration": 3,
    "start_time": "2021-11-17T21:05:28.145Z"
   },
   {
    "duration": 116,
    "start_time": "2021-11-17T21:05:57.787Z"
   },
   {
    "duration": 3,
    "start_time": "2021-11-17T21:06:37.993Z"
   },
   {
    "duration": 3,
    "start_time": "2021-11-17T21:06:38.261Z"
   },
   {
    "duration": 3,
    "start_time": "2021-11-17T21:11:54.358Z"
   },
   {
    "duration": 3,
    "start_time": "2021-11-17T21:12:43.846Z"
   },
   {
    "duration": 4,
    "start_time": "2021-11-17T21:13:08.773Z"
   },
   {
    "duration": 3,
    "start_time": "2021-11-17T21:14:44.441Z"
   },
   {
    "duration": 3,
    "start_time": "2021-11-17T21:15:42.059Z"
   },
   {
    "duration": 4,
    "start_time": "2021-11-17T21:15:51.995Z"
   },
   {
    "duration": 3,
    "start_time": "2021-11-17T21:15:53.923Z"
   },
   {
    "duration": 3,
    "start_time": "2021-11-17T21:15:55.282Z"
   },
   {
    "duration": 3,
    "start_time": "2021-11-17T21:16:28.492Z"
   },
   {
    "duration": 3,
    "start_time": "2021-11-17T21:16:32.603Z"
   },
   {
    "duration": 3,
    "start_time": "2021-11-17T21:17:06.941Z"
   },
   {
    "duration": 98,
    "start_time": "2021-11-17T21:18:05.733Z"
   },
   {
    "duration": 4,
    "start_time": "2021-11-17T21:21:35.255Z"
   },
   {
    "duration": 3,
    "start_time": "2021-11-17T21:21:37.804Z"
   },
   {
    "duration": 4,
    "start_time": "2021-11-17T21:23:06.071Z"
   },
   {
    "duration": 3,
    "start_time": "2021-11-17T21:23:24.799Z"
   },
   {
    "duration": 3,
    "start_time": "2021-11-17T21:23:32.591Z"
   },
   {
    "duration": 98,
    "start_time": "2021-11-17T21:28:31.559Z"
   },
   {
    "duration": 3,
    "start_time": "2021-11-17T21:28:45.448Z"
   },
   {
    "duration": 3,
    "start_time": "2021-11-17T21:29:17.303Z"
   },
   {
    "duration": 3,
    "start_time": "2021-11-17T21:29:29.617Z"
   },
   {
    "duration": 3,
    "start_time": "2021-11-17T21:29:32.681Z"
   },
   {
    "duration": 3,
    "start_time": "2021-11-17T21:36:11.474Z"
   },
   {
    "duration": 3,
    "start_time": "2021-11-17T21:36:14.791Z"
   },
   {
    "duration": 3,
    "start_time": "2021-11-17T21:36:53.943Z"
   },
   {
    "duration": 3,
    "start_time": "2021-11-17T21:36:56.165Z"
   },
   {
    "duration": 4,
    "start_time": "2021-11-17T21:37:16.590Z"
   },
   {
    "duration": 3,
    "start_time": "2021-11-17T21:37:22.702Z"
   },
   {
    "duration": 4,
    "start_time": "2021-11-17T21:38:03.479Z"
   },
   {
    "duration": 3,
    "start_time": "2021-11-17T21:38:08.601Z"
   },
   {
    "duration": 3,
    "start_time": "2021-11-17T21:38:12.928Z"
   },
   {
    "duration": 3,
    "start_time": "2021-11-17T21:38:48.896Z"
   },
   {
    "duration": 2,
    "start_time": "2021-11-17T21:38:49.171Z"
   },
   {
    "duration": 4,
    "start_time": "2021-11-17T21:39:57.889Z"
   },
   {
    "duration": 3,
    "start_time": "2021-11-17T21:39:58.057Z"
   },
   {
    "duration": 3,
    "start_time": "2021-11-17T21:41:20.108Z"
   },
   {
    "duration": 3,
    "start_time": "2021-11-17T21:41:20.629Z"
   },
   {
    "duration": 3,
    "start_time": "2021-11-17T21:42:49.136Z"
   },
   {
    "duration": 3,
    "start_time": "2021-11-17T21:43:15.137Z"
   },
   {
    "duration": 4,
    "start_time": "2021-11-17T21:43:16.766Z"
   },
   {
    "duration": 4,
    "start_time": "2021-11-17T21:43:31.711Z"
   },
   {
    "duration": 3,
    "start_time": "2021-11-17T21:43:36.312Z"
   },
   {
    "duration": 4,
    "start_time": "2021-11-17T21:45:08.825Z"
   },
   {
    "duration": 4,
    "start_time": "2021-11-17T21:45:10.119Z"
   },
   {
    "duration": 4,
    "start_time": "2021-11-17T21:45:13.748Z"
   },
   {
    "duration": 3,
    "start_time": "2021-11-17T21:45:22.219Z"
   },
   {
    "duration": 3,
    "start_time": "2021-11-17T21:45:33.412Z"
   },
   {
    "duration": 2,
    "start_time": "2021-11-17T21:46:01.885Z"
   },
   {
    "duration": 3,
    "start_time": "2021-11-17T21:46:03.628Z"
   },
   {
    "duration": 107,
    "start_time": "2021-11-17T21:47:32.512Z"
   },
   {
    "duration": 103,
    "start_time": "2021-11-17T21:50:36.243Z"
   },
   {
    "duration": 3,
    "start_time": "2021-11-18T06:28:31.440Z"
   },
   {
    "duration": 3,
    "start_time": "2021-11-18T06:29:00.168Z"
   },
   {
    "duration": 3,
    "start_time": "2021-11-18T06:31:27.008Z"
   },
   {
    "duration": 2,
    "start_time": "2021-11-18T06:35:34.288Z"
   },
   {
    "duration": 2,
    "start_time": "2021-11-18T06:38:04.527Z"
   },
   {
    "duration": 655,
    "start_time": "2022-03-04T02:54:11.707Z"
   },
   {
    "duration": 288,
    "start_time": "2022-03-04T02:54:13.853Z"
   },
   {
    "duration": 12,
    "start_time": "2022-03-04T02:55:28.201Z"
   },
   {
    "duration": 236,
    "start_time": "2022-03-04T02:56:04.328Z"
   },
   {
    "duration": 5,
    "start_time": "2022-03-04T02:56:09.998Z"
   },
   {
    "duration": 11,
    "start_time": "2022-03-04T02:56:26.912Z"
   },
   {
    "duration": 8,
    "start_time": "2022-03-04T02:56:41.755Z"
   },
   {
    "duration": 37,
    "start_time": "2022-03-04T02:56:55.284Z"
   },
   {
    "duration": 7,
    "start_time": "2022-03-04T02:57:10.545Z"
   },
   {
    "duration": 4,
    "start_time": "2022-03-04T02:57:20.018Z"
   },
   {
    "duration": 9,
    "start_time": "2022-03-04T02:57:23.276Z"
   },
   {
    "duration": 6,
    "start_time": "2022-03-04T02:57:53.849Z"
   },
   {
    "duration": 7,
    "start_time": "2022-03-04T02:58:00.347Z"
   },
   {
    "duration": 10,
    "start_time": "2022-03-04T02:58:05.605Z"
   },
   {
    "duration": 7,
    "start_time": "2022-03-04T03:01:24.808Z"
   },
   {
    "duration": 4,
    "start_time": "2022-03-04T03:01:31.761Z"
   },
   {
    "duration": 7,
    "start_time": "2022-03-04T03:01:36.761Z"
   },
   {
    "duration": 9,
    "start_time": "2022-03-04T03:01:44.451Z"
   },
   {
    "duration": 11,
    "start_time": "2022-03-04T03:01:48.083Z"
   },
   {
    "duration": 171,
    "start_time": "2022-03-04T03:04:44.629Z"
   },
   {
    "duration": 280,
    "start_time": "2022-03-04T03:05:14.516Z"
   },
   {
    "duration": 7,
    "start_time": "2022-03-04T03:05:18.198Z"
   },
   {
    "duration": 10,
    "start_time": "2022-03-04T03:05:20.453Z"
   },
   {
    "duration": 6,
    "start_time": "2022-03-04T03:05:27.651Z"
   },
   {
    "duration": 10,
    "start_time": "2022-03-04T03:05:30.447Z"
   },
   {
    "duration": 183,
    "start_time": "2022-03-04T03:05:33.066Z"
   },
   {
    "duration": 7,
    "start_time": "2022-03-04T03:05:50.622Z"
   },
   {
    "duration": 16,
    "start_time": "2022-03-04T03:06:32.631Z"
   },
   {
    "duration": 17,
    "start_time": "2022-03-04T03:08:32.271Z"
   },
   {
    "duration": 4,
    "start_time": "2022-03-04T03:08:37.026Z"
   },
   {
    "duration": 16,
    "start_time": "2022-03-04T03:08:42.022Z"
   },
   {
    "duration": 8,
    "start_time": "2022-03-04T03:09:22.756Z"
   },
   {
    "duration": 46,
    "start_time": "2022-03-04T03:10:18.227Z"
   },
   {
    "duration": 22,
    "start_time": "2022-03-04T03:10:43.793Z"
   },
   {
    "duration": 5,
    "start_time": "2022-03-04T03:13:56.053Z"
   },
   {
    "duration": 12,
    "start_time": "2022-03-04T03:14:00.868Z"
   },
   {
    "duration": 4,
    "start_time": "2022-03-04T03:14:09.611Z"
   },
   {
    "duration": 11,
    "start_time": "2022-03-04T03:14:13.097Z"
   },
   {
    "duration": 9,
    "start_time": "2022-03-04T03:14:38.784Z"
   },
   {
    "duration": 21,
    "start_time": "2022-03-04T03:17:00.212Z"
   },
   {
    "duration": 13,
    "start_time": "2022-03-04T03:17:19.412Z"
   },
   {
    "duration": 16,
    "start_time": "2022-03-04T03:19:40.777Z"
   },
   {
    "duration": 4,
    "start_time": "2022-03-04T03:19:47.324Z"
   },
   {
    "duration": 15,
    "start_time": "2022-03-04T03:19:51.096Z"
   },
   {
    "duration": 10,
    "start_time": "2022-03-04T03:20:16.498Z"
   },
   {
    "duration": 52,
    "start_time": "2022-03-04T03:20:59.259Z"
   },
   {
    "duration": 4597,
    "start_time": "2022-03-04T03:26:03.522Z"
   },
   {
    "duration": 4687,
    "start_time": "2022-03-04T03:27:31.066Z"
   },
   {
    "duration": 6,
    "start_time": "2022-03-04T03:27:50.669Z"
   },
   {
    "duration": 7,
    "start_time": "2022-03-04T03:28:16.249Z"
   },
   {
    "duration": 14,
    "start_time": "2022-03-04T03:28:57.013Z"
   },
   {
    "duration": 19,
    "start_time": "2022-03-04T03:29:49.148Z"
   },
   {
    "duration": 19,
    "start_time": "2022-03-04T03:30:13.508Z"
   },
   {
    "duration": 13,
    "start_time": "2022-03-04T03:30:44.127Z"
   },
   {
    "duration": 15,
    "start_time": "2022-03-04T03:31:08.929Z"
   },
   {
    "duration": 16,
    "start_time": "2022-03-04T03:31:53.799Z"
   },
   {
    "duration": 18,
    "start_time": "2022-03-04T03:32:15.657Z"
   },
   {
    "duration": 5,
    "start_time": "2022-03-04T03:34:44.362Z"
   },
   {
    "duration": 188,
    "start_time": "2022-03-04T03:35:26.241Z"
   },
   {
    "duration": 175,
    "start_time": "2022-03-04T03:35:36.482Z"
   },
   {
    "duration": 5,
    "start_time": "2022-03-04T03:35:43.659Z"
   },
   {
    "duration": 173,
    "start_time": "2022-03-04T03:35:55.170Z"
   },
   {
    "duration": 5,
    "start_time": "2022-03-04T03:36:01.845Z"
   },
   {
    "duration": 3,
    "start_time": "2022-03-04T03:36:43.934Z"
   },
   {
    "duration": 170,
    "start_time": "2022-03-04T03:36:50.718Z"
   },
   {
    "duration": 3,
    "start_time": "2022-03-04T03:36:55.542Z"
   },
   {
    "duration": 5,
    "start_time": "2022-03-04T03:37:01.243Z"
   },
   {
    "duration": 5,
    "start_time": "2022-03-04T03:37:08.383Z"
   },
   {
    "duration": 223,
    "start_time": "2022-03-04T03:44:06.539Z"
   },
   {
    "duration": 52,
    "start_time": "2022-03-04T03:44:26.301Z"
   },
   {
    "duration": 170,
    "start_time": "2022-03-04T03:44:28.477Z"
   },
   {
    "duration": 62,
    "start_time": "2022-03-04T03:44:37.210Z"
   },
   {
    "duration": 59,
    "start_time": "2022-03-04T03:44:48.155Z"
   },
   {
    "duration": 3,
    "start_time": "2022-03-04T03:44:53.955Z"
   },
   {
    "duration": 5199,
    "start_time": "2022-03-04T03:44:55.845Z"
   },
   {
    "duration": 3,
    "start_time": "2022-03-04T03:45:36.648Z"
   },
   {
    "duration": 4,
    "start_time": "2022-03-04T03:45:41.167Z"
   },
   {
    "duration": 4,
    "start_time": "2022-03-04T03:46:17.779Z"
   },
   {
    "duration": 3,
    "start_time": "2022-03-04T03:46:28.756Z"
   },
   {
    "duration": 5,
    "start_time": "2022-03-04T03:46:29.800Z"
   },
   {
    "duration": 5,
    "start_time": "2022-03-04T03:46:34.860Z"
   },
   {
    "duration": 3,
    "start_time": "2022-03-04T03:46:36.397Z"
   },
   {
    "duration": 918,
    "start_time": "2022-03-04T18:30:17.809Z"
   },
   {
    "duration": 386,
    "start_time": "2022-03-04T18:30:18.732Z"
   },
   {
    "duration": 10,
    "start_time": "2022-03-04T18:30:19.122Z"
   },
   {
    "duration": 20,
    "start_time": "2022-03-04T18:30:19.136Z"
   },
   {
    "duration": 10,
    "start_time": "2022-03-04T18:30:19.158Z"
   },
   {
    "duration": 22,
    "start_time": "2022-03-04T18:30:19.171Z"
   },
   {
    "duration": 43,
    "start_time": "2022-03-04T18:30:19.195Z"
   },
   {
    "duration": 24,
    "start_time": "2022-03-04T18:30:19.241Z"
   },
   {
    "duration": 3,
    "start_time": "2022-03-04T18:30:19.271Z"
   },
   {
    "duration": 8,
    "start_time": "2022-03-04T18:30:19.277Z"
   },
   {
    "duration": 63,
    "start_time": "2022-03-04T18:30:19.288Z"
   },
   {
    "duration": 8,
    "start_time": "2022-03-04T18:30:19.354Z"
   },
   {
    "duration": 5,
    "start_time": "2022-03-04T18:30:19.365Z"
   },
   {
    "duration": 8,
    "start_time": "2022-03-04T18:30:19.372Z"
   },
   {
    "duration": 5,
    "start_time": "2022-03-04T18:30:19.382Z"
   },
   {
    "duration": 59,
    "start_time": "2022-03-04T18:30:19.389Z"
   },
   {
    "duration": 13,
    "start_time": "2022-03-04T18:30:19.451Z"
   },
   {
    "duration": 80,
    "start_time": "2022-03-04T18:30:19.467Z"
   },
   {
    "duration": 30,
    "start_time": "2022-03-04T18:30:19.550Z"
   },
   {
    "duration": 56,
    "start_time": "2022-03-04T18:30:19.583Z"
   },
   {
    "duration": 26,
    "start_time": "2022-03-04T18:30:19.641Z"
   },
   {
    "duration": 17,
    "start_time": "2022-03-04T18:30:19.670Z"
   },
   {
    "duration": 44,
    "start_time": "2022-03-04T18:30:19.690Z"
   },
   {
    "duration": 29,
    "start_time": "2022-03-04T18:30:19.737Z"
   },
   {
    "duration": 17,
    "start_time": "2022-03-04T18:30:19.768Z"
   },
   {
    "duration": 55,
    "start_time": "2022-03-04T18:30:19.787Z"
   },
   {
    "duration": 18,
    "start_time": "2022-03-04T18:30:19.847Z"
   },
   {
    "duration": 13,
    "start_time": "2022-03-04T18:30:19.869Z"
   },
   {
    "duration": 100,
    "start_time": "2022-03-04T18:30:19.885Z"
   },
   {
    "duration": 46,
    "start_time": "2022-03-04T18:30:19.988Z"
   },
   {
    "duration": 22,
    "start_time": "2022-03-04T18:30:20.036Z"
   },
   {
    "duration": 3,
    "start_time": "2022-03-04T18:30:20.061Z"
   },
   {
    "duration": 6,
    "start_time": "2022-03-04T18:30:20.066Z"
   },
   {
    "duration": 5,
    "start_time": "2022-03-04T18:30:20.074Z"
   },
   {
    "duration": 6,
    "start_time": "2022-03-04T18:30:20.082Z"
   },
   {
    "duration": 9,
    "start_time": "2022-03-04T18:30:20.090Z"
   },
   {
    "duration": 5,
    "start_time": "2022-03-04T18:30:20.134Z"
   },
   {
    "duration": 6,
    "start_time": "2022-03-04T18:30:20.141Z"
   },
   {
    "duration": 7,
    "start_time": "2022-03-04T18:30:20.149Z"
   },
   {
    "duration": 7,
    "start_time": "2022-03-04T18:30:20.158Z"
   },
   {
    "duration": 5,
    "start_time": "2022-03-04T18:30:20.167Z"
   },
   {
    "duration": 12,
    "start_time": "2022-03-04T18:30:20.175Z"
   },
   {
    "duration": 5,
    "start_time": "2022-03-04T18:30:20.189Z"
   },
   {
    "duration": 37,
    "start_time": "2022-03-04T18:30:20.197Z"
   },
   {
    "duration": 5,
    "start_time": "2022-03-04T18:30:20.236Z"
   },
   {
    "duration": 5,
    "start_time": "2022-03-04T18:30:20.244Z"
   },
   {
    "duration": 6,
    "start_time": "2022-03-04T18:30:20.251Z"
   },
   {
    "duration": 13,
    "start_time": "2022-03-04T18:44:13.791Z"
   },
   {
    "duration": 7,
    "start_time": "2022-03-04T18:44:14.559Z"
   },
   {
    "duration": 9,
    "start_time": "2022-03-04T18:45:03.104Z"
   },
   {
    "duration": 5,
    "start_time": "2022-03-04T18:45:03.645Z"
   },
   {
    "duration": 93,
    "start_time": "2022-03-04T18:45:47.308Z"
   },
   {
    "duration": 387,
    "start_time": "2022-03-04T18:46:47.663Z"
   },
   {
    "duration": 296,
    "start_time": "2022-03-04T18:46:53.965Z"
   },
   {
    "duration": 336,
    "start_time": "2022-03-04T18:47:01.813Z"
   },
   {
    "duration": 102,
    "start_time": "2022-03-04T18:47:10.074Z"
   },
   {
    "duration": 351,
    "start_time": "2022-03-04T18:47:24.193Z"
   },
   {
    "duration": 339,
    "start_time": "2022-03-04T18:48:07.230Z"
   },
   {
    "duration": 6,
    "start_time": "2022-03-04T18:48:11.147Z"
   },
   {
    "duration": 9,
    "start_time": "2022-03-04T18:48:14.969Z"
   },
   {
    "duration": 5,
    "start_time": "2022-03-04T18:48:15.274Z"
   },
   {
    "duration": 302,
    "start_time": "2022-03-04T18:48:17.637Z"
   },
   {
    "duration": 298,
    "start_time": "2022-03-04T18:49:13.660Z"
   },
   {
    "duration": 320,
    "start_time": "2022-03-04T18:51:44.960Z"
   },
   {
    "duration": 6,
    "start_time": "2022-03-04T18:51:49.189Z"
   },
   {
    "duration": 9,
    "start_time": "2022-03-04T18:51:50.889Z"
   },
   {
    "duration": 5,
    "start_time": "2022-03-04T18:51:51.479Z"
   },
   {
    "duration": 4,
    "start_time": "2022-03-04T18:51:57.897Z"
   },
   {
    "duration": 434,
    "start_time": "2022-03-04T18:51:57.903Z"
   },
   {
    "duration": 9,
    "start_time": "2022-03-04T18:51:58.340Z"
   },
   {
    "duration": 16,
    "start_time": "2022-03-04T18:51:58.352Z"
   },
   {
    "duration": 10,
    "start_time": "2022-03-04T18:51:58.370Z"
   },
   {
    "duration": 17,
    "start_time": "2022-03-04T18:51:58.383Z"
   },
   {
    "duration": 37,
    "start_time": "2022-03-04T18:51:58.403Z"
   },
   {
    "duration": 20,
    "start_time": "2022-03-04T18:51:58.442Z"
   },
   {
    "duration": 3,
    "start_time": "2022-03-04T18:51:58.466Z"
   },
   {
    "duration": 6,
    "start_time": "2022-03-04T18:51:58.472Z"
   },
   {
    "duration": 63,
    "start_time": "2022-03-04T18:51:58.481Z"
   },
   {
    "duration": 6,
    "start_time": "2022-03-04T18:51:58.547Z"
   },
   {
    "duration": 9,
    "start_time": "2022-03-04T18:51:58.556Z"
   },
   {
    "duration": 316,
    "start_time": "2022-03-04T18:51:58.567Z"
   },
   {
    "duration": -168,
    "start_time": "2022-03-04T18:51:59.054Z"
   },
   {
    "duration": -168,
    "start_time": "2022-03-04T18:51:59.056Z"
   },
   {
    "duration": -169,
    "start_time": "2022-03-04T18:51:59.058Z"
   },
   {
    "duration": -169,
    "start_time": "2022-03-04T18:51:59.059Z"
   },
   {
    "duration": -169,
    "start_time": "2022-03-04T18:51:59.060Z"
   },
   {
    "duration": -170,
    "start_time": "2022-03-04T18:51:59.062Z"
   },
   {
    "duration": -169,
    "start_time": "2022-03-04T18:51:59.063Z"
   },
   {
    "duration": -297,
    "start_time": "2022-03-04T18:51:59.192Z"
   },
   {
    "duration": -311,
    "start_time": "2022-03-04T18:51:59.207Z"
   },
   {
    "duration": -311,
    "start_time": "2022-03-04T18:51:59.208Z"
   },
   {
    "duration": -310,
    "start_time": "2022-03-04T18:51:59.209Z"
   },
   {
    "duration": -310,
    "start_time": "2022-03-04T18:51:59.210Z"
   },
   {
    "duration": -310,
    "start_time": "2022-03-04T18:51:59.211Z"
   },
   {
    "duration": -310,
    "start_time": "2022-03-04T18:51:59.212Z"
   },
   {
    "duration": -309,
    "start_time": "2022-03-04T18:51:59.213Z"
   },
   {
    "duration": -309,
    "start_time": "2022-03-04T18:51:59.214Z"
   },
   {
    "duration": -309,
    "start_time": "2022-03-04T18:51:59.215Z"
   },
   {
    "duration": -308,
    "start_time": "2022-03-04T18:51:59.216Z"
   },
   {
    "duration": -308,
    "start_time": "2022-03-04T18:51:59.217Z"
   },
   {
    "duration": -308,
    "start_time": "2022-03-04T18:51:59.218Z"
   },
   {
    "duration": -455,
    "start_time": "2022-03-04T18:51:59.366Z"
   },
   {
    "duration": -456,
    "start_time": "2022-03-04T18:51:59.369Z"
   },
   {
    "duration": -456,
    "start_time": "2022-03-04T18:51:59.370Z"
   },
   {
    "duration": -456,
    "start_time": "2022-03-04T18:51:59.371Z"
   },
   {
    "duration": -457,
    "start_time": "2022-03-04T18:51:59.373Z"
   },
   {
    "duration": -457,
    "start_time": "2022-03-04T18:51:59.374Z"
   },
   {
    "duration": -456,
    "start_time": "2022-03-04T18:51:59.375Z"
   },
   {
    "duration": -456,
    "start_time": "2022-03-04T18:51:59.376Z"
   },
   {
    "duration": -456,
    "start_time": "2022-03-04T18:51:59.377Z"
   },
   {
    "duration": -456,
    "start_time": "2022-03-04T18:51:59.378Z"
   },
   {
    "duration": -456,
    "start_time": "2022-03-04T18:51:59.379Z"
   },
   {
    "duration": -448,
    "start_time": "2022-03-04T18:51:59.380Z"
   },
   {
    "duration": -448,
    "start_time": "2022-03-04T18:51:59.381Z"
   },
   {
    "duration": 5,
    "start_time": "2022-03-04T18:52:19.666Z"
   },
   {
    "duration": 19,
    "start_time": "2022-03-04T18:52:21.015Z"
   },
   {
    "duration": 24,
    "start_time": "2022-03-04T18:52:39.053Z"
   },
   {
    "duration": 10,
    "start_time": "2022-03-04T18:52:59.898Z"
   },
   {
    "duration": 6,
    "start_time": "2022-03-04T18:53:00.646Z"
   },
   {
    "duration": 22,
    "start_time": "2022-03-04T18:53:01.446Z"
   },
   {
    "duration": 18,
    "start_time": "2022-03-04T18:53:03.176Z"
   },
   {
    "duration": 8,
    "start_time": "2022-03-04T18:53:15.997Z"
   },
   {
    "duration": 305,
    "start_time": "2022-03-04T18:53:23.489Z"
   },
   {
    "duration": 11,
    "start_time": "2022-03-04T18:53:36.634Z"
   },
   {
    "duration": 7,
    "start_time": "2022-03-04T18:53:50.595Z"
   },
   {
    "duration": 7,
    "start_time": "2022-03-04T18:53:54.623Z"
   },
   {
    "duration": 7,
    "start_time": "2022-03-04T18:54:52.341Z"
   },
   {
    "duration": 15,
    "start_time": "2022-03-04T18:55:03.950Z"
   },
   {
    "duration": 310,
    "start_time": "2022-03-04T18:55:09.858Z"
   },
   {
    "duration": 11,
    "start_time": "2022-03-04T18:55:14.624Z"
   },
   {
    "duration": 316,
    "start_time": "2022-03-04T18:55:32.238Z"
   },
   {
    "duration": 94,
    "start_time": "2022-03-04T18:55:39.849Z"
   },
   {
    "duration": 7,
    "start_time": "2022-03-04T18:55:44.063Z"
   },
   {
    "duration": 12,
    "start_time": "2022-03-04T18:55:50.227Z"
   },
   {
    "duration": 9,
    "start_time": "2022-03-04T18:57:11.191Z"
   },
   {
    "duration": 6,
    "start_time": "2022-03-04T18:57:12.195Z"
   },
   {
    "duration": 17,
    "start_time": "2022-03-04T18:57:12.994Z"
   },
   {
    "duration": 9,
    "start_time": "2022-03-04T18:57:14.027Z"
   },
   {
    "duration": 11,
    "start_time": "2022-03-04T18:58:40.816Z"
   },
   {
    "duration": 6,
    "start_time": "2022-03-04T18:58:41.396Z"
   },
   {
    "duration": 18,
    "start_time": "2022-03-04T18:58:42.027Z"
   },
   {
    "duration": 9,
    "start_time": "2022-03-04T18:58:42.943Z"
   },
   {
    "duration": 95,
    "start_time": "2022-03-04T19:00:07.344Z"
   },
   {
    "duration": 317,
    "start_time": "2022-03-04T19:00:18.559Z"
   },
   {
    "duration": 317,
    "start_time": "2022-03-04T19:00:44.563Z"
   },
   {
    "duration": 21,
    "start_time": "2022-03-04T19:01:08.646Z"
   },
   {
    "duration": 12,
    "start_time": "2022-03-04T19:05:36.499Z"
   },
   {
    "duration": 6,
    "start_time": "2022-03-04T19:05:37.356Z"
   },
   {
    "duration": 29,
    "start_time": "2022-03-04T19:05:38.193Z"
   },
   {
    "duration": 17,
    "start_time": "2022-03-04T19:05:42.112Z"
   },
   {
    "duration": 11,
    "start_time": "2022-03-04T19:06:00.711Z"
   },
   {
    "duration": 306,
    "start_time": "2022-03-04T19:07:01.166Z"
   },
   {
    "duration": 302,
    "start_time": "2022-03-04T19:07:17.175Z"
   },
   {
    "duration": 8,
    "start_time": "2022-03-04T19:07:43.465Z"
   },
   {
    "duration": 15,
    "start_time": "2022-03-04T19:08:04.713Z"
   },
   {
    "duration": 9,
    "start_time": "2022-03-04T19:09:19.074Z"
   },
   {
    "duration": 10,
    "start_time": "2022-03-04T19:09:25.522Z"
   },
   {
    "duration": 32,
    "start_time": "2022-03-04T19:09:32.779Z"
   },
   {
    "duration": 12,
    "start_time": "2022-03-05T01:26:55.150Z"
   },
   {
    "duration": 12,
    "start_time": "2022-03-05T01:27:52.504Z"
   },
   {
    "duration": 380,
    "start_time": "2022-03-05T01:28:42.434Z"
   },
   {
    "duration": 7,
    "start_time": "2022-03-05T01:30:40.063Z"
   },
   {
    "duration": 21,
    "start_time": "2022-03-05T01:30:46.401Z"
   },
   {
    "duration": 330,
    "start_time": "2022-03-05T01:31:02.647Z"
   },
   {
    "duration": 381,
    "start_time": "2022-03-05T01:31:06.881Z"
   },
   {
    "duration": 20,
    "start_time": "2022-03-05T01:31:46.689Z"
   },
   {
    "duration": 11,
    "start_time": "2022-03-05T01:32:06.450Z"
   },
   {
    "duration": 12,
    "start_time": "2022-03-05T01:34:46.350Z"
   },
   {
    "duration": 11,
    "start_time": "2022-03-05T01:34:59.100Z"
   },
   {
    "duration": 12,
    "start_time": "2022-03-05T01:35:06.277Z"
   },
   {
    "duration": 29,
    "start_time": "2022-03-05T01:36:19.403Z"
   },
   {
    "duration": 11,
    "start_time": "2022-03-05T01:36:58.167Z"
   },
   {
    "duration": 7,
    "start_time": "2022-03-05T01:37:19.533Z"
   },
   {
    "duration": 15,
    "start_time": "2022-03-05T01:37:31.575Z"
   },
   {
    "duration": 15,
    "start_time": "2022-03-05T01:37:36.921Z"
   },
   {
    "duration": 11,
    "start_time": "2022-03-05T01:38:15.440Z"
   },
   {
    "duration": 14,
    "start_time": "2022-03-05T01:39:23.904Z"
   },
   {
    "duration": 25,
    "start_time": "2022-03-05T01:41:30.632Z"
   },
   {
    "duration": 313,
    "start_time": "2022-03-05T01:42:22.836Z"
   },
   {
    "duration": 25,
    "start_time": "2022-03-05T01:42:28.103Z"
   },
   {
    "duration": 355,
    "start_time": "2022-03-05T01:52:30.629Z"
   },
   {
    "duration": 16,
    "start_time": "2022-03-05T01:52:38.269Z"
   },
   {
    "duration": 21,
    "start_time": "2022-03-05T01:52:41.109Z"
   },
   {
    "duration": 310,
    "start_time": "2022-03-05T01:52:50.926Z"
   },
   {
    "duration": 3,
    "start_time": "2022-03-05T01:53:19.795Z"
   },
   {
    "duration": 424,
    "start_time": "2022-03-05T01:53:19.806Z"
   },
   {
    "duration": 11,
    "start_time": "2022-03-05T01:53:20.233Z"
   },
   {
    "duration": 13,
    "start_time": "2022-03-05T01:53:20.248Z"
   },
   {
    "duration": 9,
    "start_time": "2022-03-05T01:53:20.265Z"
   },
   {
    "duration": 58,
    "start_time": "2022-03-05T01:53:20.277Z"
   },
   {
    "duration": 12,
    "start_time": "2022-03-05T01:53:20.338Z"
   },
   {
    "duration": 24,
    "start_time": "2022-03-05T01:53:20.352Z"
   },
   {
    "duration": 71,
    "start_time": "2022-03-05T01:53:20.380Z"
   },
   {
    "duration": 5,
    "start_time": "2022-03-05T01:53:20.459Z"
   },
   {
    "duration": 20,
    "start_time": "2022-03-05T01:53:20.469Z"
   },
   {
    "duration": 45,
    "start_time": "2022-03-05T01:53:20.492Z"
   },
   {
    "duration": 14,
    "start_time": "2022-03-05T01:53:20.540Z"
   },
   {
    "duration": 9,
    "start_time": "2022-03-05T01:53:20.557Z"
   },
   {
    "duration": 21,
    "start_time": "2022-03-05T01:53:20.569Z"
   },
   {
    "duration": 48,
    "start_time": "2022-03-05T01:53:20.593Z"
   },
   {
    "duration": 10,
    "start_time": "2022-03-05T01:53:20.643Z"
   },
   {
    "duration": 20,
    "start_time": "2022-03-05T01:53:20.656Z"
   },
   {
    "duration": 12,
    "start_time": "2022-03-05T01:53:20.678Z"
   },
   {
    "duration": 57,
    "start_time": "2022-03-05T01:53:20.732Z"
   },
   {
    "duration": 46,
    "start_time": "2022-03-05T01:53:20.791Z"
   },
   {
    "duration": 29,
    "start_time": "2022-03-05T01:53:20.839Z"
   },
   {
    "duration": 25,
    "start_time": "2022-03-05T01:53:20.870Z"
   },
   {
    "duration": 47,
    "start_time": "2022-03-05T01:53:20.897Z"
   },
   {
    "duration": 11,
    "start_time": "2022-03-05T01:53:20.947Z"
   },
   {
    "duration": 27,
    "start_time": "2022-03-05T01:53:20.960Z"
   },
   {
    "duration": 44,
    "start_time": "2022-03-05T01:53:20.990Z"
   },
   {
    "duration": 18,
    "start_time": "2022-03-05T01:53:21.041Z"
   },
   {
    "duration": 17,
    "start_time": "2022-03-05T01:53:21.062Z"
   },
   {
    "duration": 11,
    "start_time": "2022-03-05T01:53:21.082Z"
   },
   {
    "duration": 96,
    "start_time": "2022-03-05T01:53:21.095Z"
   },
   {
    "duration": 47,
    "start_time": "2022-03-05T01:53:21.193Z"
   },
   {
    "duration": 20,
    "start_time": "2022-03-05T01:53:21.242Z"
   },
   {
    "duration": 11,
    "start_time": "2022-03-05T01:53:21.265Z"
   },
   {
    "duration": 18,
    "start_time": "2022-03-05T01:53:21.278Z"
   },
   {
    "duration": 48,
    "start_time": "2022-03-05T01:53:21.298Z"
   },
   {
    "duration": 10,
    "start_time": "2022-03-05T01:53:21.348Z"
   },
   {
    "duration": 19,
    "start_time": "2022-03-05T01:53:21.360Z"
   },
   {
    "duration": 345,
    "start_time": "2022-03-05T01:53:21.381Z"
   },
   {
    "duration": -38,
    "start_time": "2022-03-05T01:53:21.767Z"
   },
   {
    "duration": -38,
    "start_time": "2022-03-05T01:53:21.769Z"
   },
   {
    "duration": -38,
    "start_time": "2022-03-05T01:53:21.771Z"
   },
   {
    "duration": -41,
    "start_time": "2022-03-05T01:53:21.777Z"
   },
   {
    "duration": -41,
    "start_time": "2022-03-05T01:53:21.779Z"
   },
   {
    "duration": -41,
    "start_time": "2022-03-05T01:53:21.781Z"
   },
   {
    "duration": -41,
    "start_time": "2022-03-05T01:53:21.783Z"
   },
   {
    "duration": -141,
    "start_time": "2022-03-05T01:53:21.885Z"
   },
   {
    "duration": -146,
    "start_time": "2022-03-05T01:53:21.892Z"
   },
   {
    "duration": -146,
    "start_time": "2022-03-05T01:53:21.894Z"
   },
   {
    "duration": 318,
    "start_time": "2022-03-05T01:53:33.088Z"
   },
   {
    "duration": 304,
    "start_time": "2022-03-05T01:54:53.576Z"
   },
   {
    "duration": 302,
    "start_time": "2022-03-05T01:55:01.767Z"
   },
   {
    "duration": 18,
    "start_time": "2022-03-05T01:58:15.584Z"
   },
   {
    "duration": 332,
    "start_time": "2022-03-05T01:58:29.595Z"
   },
   {
    "duration": 18,
    "start_time": "2022-03-05T01:58:37.284Z"
   },
   {
    "duration": 22,
    "start_time": "2022-03-05T01:59:05.122Z"
   },
   {
    "duration": 9,
    "start_time": "2022-03-05T01:59:12.950Z"
   },
   {
    "duration": 11,
    "start_time": "2022-03-05T01:59:32.970Z"
   },
   {
    "duration": 14,
    "start_time": "2022-03-05T01:59:42.245Z"
   },
   {
    "duration": 23,
    "start_time": "2022-03-05T02:00:34.856Z"
   },
   {
    "duration": 343,
    "start_time": "2022-03-05T02:01:44.088Z"
   },
   {
    "duration": 353,
    "start_time": "2022-03-05T02:01:57.696Z"
   },
   {
    "duration": 350,
    "start_time": "2022-03-05T02:02:05.012Z"
   },
   {
    "duration": 334,
    "start_time": "2022-03-05T02:02:17.992Z"
   },
   {
    "duration": 343,
    "start_time": "2022-03-05T02:02:56.512Z"
   },
   {
    "duration": 342,
    "start_time": "2022-03-05T02:03:12.246Z"
   },
   {
    "duration": 326,
    "start_time": "2022-03-05T02:03:18.932Z"
   },
   {
    "duration": 331,
    "start_time": "2022-03-05T02:03:41.902Z"
   },
   {
    "duration": 17,
    "start_time": "2022-03-05T02:04:07.432Z"
   },
   {
    "duration": 18,
    "start_time": "2022-03-05T02:04:12.974Z"
   },
   {
    "duration": 23,
    "start_time": "2022-03-05T02:04:22.474Z"
   },
   {
    "duration": 28,
    "start_time": "2022-03-05T02:05:11.478Z"
   },
   {
    "duration": 29,
    "start_time": "2022-03-05T02:05:46.786Z"
   },
   {
    "duration": 18,
    "start_time": "2022-03-05T02:06:53.687Z"
   },
   {
    "duration": 312,
    "start_time": "2022-03-05T02:07:29.940Z"
   },
   {
    "duration": 11,
    "start_time": "2022-03-05T02:07:35.822Z"
   },
   {
    "duration": 4,
    "start_time": "2022-03-05T02:14:12.857Z"
   },
   {
    "duration": 5,
    "start_time": "2022-03-05T02:15:53.813Z"
   },
   {
    "duration": 5,
    "start_time": "2022-03-05T02:15:57.199Z"
   },
   {
    "duration": 5,
    "start_time": "2022-03-05T02:15:57.318Z"
   },
   {
    "duration": 5,
    "start_time": "2022-03-05T02:16:20.638Z"
   },
   {
    "duration": 6,
    "start_time": "2022-03-05T02:16:24.694Z"
   },
   {
    "duration": 6,
    "start_time": "2022-03-05T02:16:27.560Z"
   },
   {
    "duration": 7,
    "start_time": "2022-03-05T02:16:30.957Z"
   },
   {
    "duration": 1034,
    "start_time": "2022-03-05T02:17:02.737Z"
   },
   {
    "duration": 16,
    "start_time": "2022-03-05T02:19:50.149Z"
   },
   {
    "duration": 408,
    "start_time": "2022-03-05T02:19:57.838Z"
   },
   {
    "duration": 23,
    "start_time": "2022-03-05T02:20:02.742Z"
   },
   {
    "duration": 19,
    "start_time": "2022-03-05T02:22:52.640Z"
   },
   {
    "duration": 21,
    "start_time": "2022-03-05T02:23:09.349Z"
   },
   {
    "duration": 24,
    "start_time": "2022-03-05T02:25:05.616Z"
   },
   {
    "duration": 791,
    "start_time": "2022-03-05T02:25:25.435Z"
   },
   {
    "duration": 34,
    "start_time": "2022-03-05T02:25:32.712Z"
   },
   {
    "duration": 331,
    "start_time": "2022-03-05T02:25:56.550Z"
   },
   {
    "duration": 319,
    "start_time": "2022-03-05T02:26:02.202Z"
   },
   {
    "duration": 430,
    "start_time": "2022-03-05T02:26:08.394Z"
   },
   {
    "duration": 35,
    "start_time": "2022-03-05T02:26:20.565Z"
   },
   {
    "duration": 17,
    "start_time": "2022-03-05T02:27:06.970Z"
   },
   {
    "duration": 15,
    "start_time": "2022-03-05T02:28:40.123Z"
   },
   {
    "duration": 21,
    "start_time": "2022-03-05T02:28:47.517Z"
   },
   {
    "duration": 21,
    "start_time": "2022-03-05T02:29:04.728Z"
   },
   {
    "duration": 372,
    "start_time": "2022-03-05T02:31:04.763Z"
   },
   {
    "duration": 312,
    "start_time": "2022-03-05T02:31:17.810Z"
   },
   {
    "duration": 316,
    "start_time": "2022-03-05T02:33:08.849Z"
   },
   {
    "duration": 20,
    "start_time": "2022-03-05T02:33:43.540Z"
   },
   {
    "duration": 31,
    "start_time": "2022-03-05T02:34:14.512Z"
   },
   {
    "duration": 27,
    "start_time": "2022-03-05T02:34:59.620Z"
   },
   {
    "duration": 50,
    "start_time": "2022-03-05T02:35:12.135Z"
   },
   {
    "duration": 37,
    "start_time": "2022-03-05T02:35:30.764Z"
   },
   {
    "duration": 33,
    "start_time": "2022-03-05T02:35:38.365Z"
   },
   {
    "duration": 27,
    "start_time": "2022-03-05T02:35:53.981Z"
   },
   {
    "duration": 32,
    "start_time": "2022-03-05T02:36:05.619Z"
   },
   {
    "duration": 35,
    "start_time": "2022-03-05T02:36:58.854Z"
   },
   {
    "duration": 31,
    "start_time": "2022-03-05T02:37:32.741Z"
   },
   {
    "duration": 34,
    "start_time": "2022-03-05T02:37:45.552Z"
   },
   {
    "duration": 35,
    "start_time": "2022-03-05T02:38:02.670Z"
   },
   {
    "duration": 104,
    "start_time": "2022-03-05T02:38:34.288Z"
   },
   {
    "duration": 23,
    "start_time": "2022-03-05T02:38:55.032Z"
   },
   {
    "duration": 41,
    "start_time": "2022-03-05T02:39:44.248Z"
   },
   {
    "duration": 23,
    "start_time": "2022-03-05T02:39:59.519Z"
   },
   {
    "duration": 44,
    "start_time": "2022-03-05T02:40:23.761Z"
   },
   {
    "duration": 611,
    "start_time": "2022-03-06T19:11:38.495Z"
   },
   {
    "duration": 258,
    "start_time": "2022-03-06T19:11:39.107Z"
   },
   {
    "duration": 8,
    "start_time": "2022-03-06T19:11:39.367Z"
   },
   {
    "duration": 12,
    "start_time": "2022-03-06T19:11:39.377Z"
   },
   {
    "duration": 6,
    "start_time": "2022-03-06T19:11:39.390Z"
   },
   {
    "duration": 11,
    "start_time": "2022-03-06T19:11:39.398Z"
   },
   {
    "duration": 7,
    "start_time": "2022-03-06T19:11:39.410Z"
   },
   {
    "duration": 43,
    "start_time": "2022-03-06T19:11:39.419Z"
   },
   {
    "duration": 17,
    "start_time": "2022-03-06T19:11:39.464Z"
   },
   {
    "duration": 4,
    "start_time": "2022-03-06T19:11:39.482Z"
   },
   {
    "duration": 16,
    "start_time": "2022-03-06T19:11:39.487Z"
   },
   {
    "duration": 5,
    "start_time": "2022-03-06T19:11:39.504Z"
   },
   {
    "duration": 8,
    "start_time": "2022-03-06T19:11:39.510Z"
   },
   {
    "duration": 8,
    "start_time": "2022-03-06T19:11:39.519Z"
   },
   {
    "duration": 15,
    "start_time": "2022-03-06T19:11:39.559Z"
   },
   {
    "duration": 10,
    "start_time": "2022-03-06T19:11:39.576Z"
   },
   {
    "duration": 7,
    "start_time": "2022-03-06T19:11:39.587Z"
   },
   {
    "duration": 12,
    "start_time": "2022-03-06T19:11:39.595Z"
   },
   {
    "duration": 15,
    "start_time": "2022-03-06T19:11:39.609Z"
   },
   {
    "duration": 38,
    "start_time": "2022-03-06T19:11:39.626Z"
   },
   {
    "duration": 42,
    "start_time": "2022-03-06T19:11:39.666Z"
   },
   {
    "duration": 22,
    "start_time": "2022-03-06T19:11:39.711Z"
   },
   {
    "duration": 41,
    "start_time": "2022-03-06T19:11:39.737Z"
   },
   {
    "duration": 17,
    "start_time": "2022-03-06T19:11:39.781Z"
   },
   {
    "duration": 24,
    "start_time": "2022-03-06T19:11:39.799Z"
   },
   {
    "duration": 40,
    "start_time": "2022-03-06T19:11:39.824Z"
   },
   {
    "duration": 9,
    "start_time": "2022-03-06T19:11:39.866Z"
   },
   {
    "duration": 19,
    "start_time": "2022-03-06T19:11:39.876Z"
   },
   {
    "duration": 11,
    "start_time": "2022-03-06T19:11:39.897Z"
   },
   {
    "duration": 12,
    "start_time": "2022-03-06T19:11:39.910Z"
   },
   {
    "duration": 44,
    "start_time": "2022-03-06T19:11:39.923Z"
   },
   {
    "duration": 13,
    "start_time": "2022-03-06T19:11:39.968Z"
   },
   {
    "duration": 9,
    "start_time": "2022-03-06T19:11:39.982Z"
   },
   {
    "duration": 70,
    "start_time": "2022-03-06T19:11:39.993Z"
   },
   {
    "duration": 18,
    "start_time": "2022-03-06T19:11:40.065Z"
   },
   {
    "duration": 15,
    "start_time": "2022-03-06T19:11:40.085Z"
   },
   {
    "duration": 19,
    "start_time": "2022-03-06T19:11:40.101Z"
   },
   {
    "duration": 7,
    "start_time": "2022-03-06T19:11:40.122Z"
   },
   {
    "duration": 65,
    "start_time": "2022-03-06T19:11:40.130Z"
   },
   {
    "duration": 24,
    "start_time": "2022-03-06T19:11:40.196Z"
   },
   {
    "duration": 44,
    "start_time": "2022-03-06T19:11:40.222Z"
   },
   {
    "duration": 23,
    "start_time": "2022-03-06T19:11:40.267Z"
   },
   {
    "duration": 28,
    "start_time": "2022-03-06T19:11:40.292Z"
   },
   {
    "duration": 2,
    "start_time": "2022-03-06T19:11:40.322Z"
   },
   {
    "duration": 4,
    "start_time": "2022-03-06T19:11:40.325Z"
   },
   {
    "duration": 28,
    "start_time": "2022-03-06T19:11:40.331Z"
   },
   {
    "duration": 2,
    "start_time": "2022-03-06T19:11:40.360Z"
   },
   {
    "duration": 5,
    "start_time": "2022-03-06T19:11:40.364Z"
   },
   {
    "duration": 4,
    "start_time": "2022-03-06T19:11:40.370Z"
   },
   {
    "duration": 4,
    "start_time": "2022-03-06T19:11:40.376Z"
   },
   {
    "duration": 4,
    "start_time": "2022-03-06T19:11:40.381Z"
   },
   {
    "duration": 5,
    "start_time": "2022-03-06T19:11:40.386Z"
   },
   {
    "duration": 4,
    "start_time": "2022-03-06T19:11:40.392Z"
   },
   {
    "duration": 11,
    "start_time": "2022-03-06T19:17:00.452Z"
   },
   {
    "duration": 270,
    "start_time": "2022-03-06T19:20:15.114Z"
   },
   {
    "duration": 203,
    "start_time": "2022-03-06T19:20:34.619Z"
   },
   {
    "duration": 196,
    "start_time": "2022-03-06T19:22:01.511Z"
   },
   {
    "duration": 201,
    "start_time": "2022-03-06T19:22:06.216Z"
   },
   {
    "duration": 181,
    "start_time": "2022-03-06T19:22:24.271Z"
   },
   {
    "duration": 11,
    "start_time": "2022-03-06T19:22:37.248Z"
   },
   {
    "duration": 186,
    "start_time": "2022-03-06T19:22:51.446Z"
   },
   {
    "duration": 204,
    "start_time": "2022-03-06T19:23:51.742Z"
   },
   {
    "duration": 2,
    "start_time": "2022-03-06T19:24:28.347Z"
   },
   {
    "duration": 221,
    "start_time": "2022-03-06T19:24:39.877Z"
   },
   {
    "duration": 4564,
    "start_time": "2022-03-06T19:24:49.339Z"
   },
   {
    "duration": 4781,
    "start_time": "2022-03-06T19:25:00.078Z"
   },
   {
    "duration": 2,
    "start_time": "2022-03-06T19:25:20.581Z"
   },
   {
    "duration": 5,
    "start_time": "2022-03-06T19:25:30.023Z"
   },
   {
    "duration": 8,
    "start_time": "2022-03-06T19:25:47.431Z"
   },
   {
    "duration": 8,
    "start_time": "2022-03-06T19:25:57.496Z"
   },
   {
    "duration": 15,
    "start_time": "2022-03-06T19:26:09.506Z"
   },
   {
    "duration": 211,
    "start_time": "2022-03-06T19:26:29.199Z"
   },
   {
    "duration": 17,
    "start_time": "2022-03-06T19:39:28.662Z"
   },
   {
    "duration": 17,
    "start_time": "2022-03-06T19:39:40.893Z"
   },
   {
    "duration": 17,
    "start_time": "2022-03-06T19:39:46.014Z"
   },
   {
    "duration": 206,
    "start_time": "2022-03-06T19:39:59.809Z"
   },
   {
    "duration": 220,
    "start_time": "2022-03-06T19:40:04.697Z"
   },
   {
    "duration": 261,
    "start_time": "2022-03-06T19:40:08.812Z"
   },
   {
    "duration": 192,
    "start_time": "2022-03-06T19:40:12.561Z"
   },
   {
    "duration": 221,
    "start_time": "2022-03-06T19:40:17.740Z"
   },
   {
    "duration": 67,
    "start_time": "2022-03-07T01:09:46.222Z"
   },
   {
    "duration": 62,
    "start_time": "2022-03-07T01:09:57.251Z"
   },
   {
    "duration": 235,
    "start_time": "2022-03-07T01:10:26.034Z"
   },
   {
    "duration": 62,
    "start_time": "2022-03-07T01:10:42.868Z"
   },
   {
    "duration": 254,
    "start_time": "2022-03-07T01:11:19.674Z"
   },
   {
    "duration": 84,
    "start_time": "2022-03-07T01:11:29.632Z"
   },
   {
    "duration": 86,
    "start_time": "2022-03-07T01:11:37.703Z"
   },
   {
    "duration": 267,
    "start_time": "2022-03-07T01:12:06.405Z"
   },
   {
    "duration": 275,
    "start_time": "2022-03-07T01:12:31.019Z"
   },
   {
    "duration": 3,
    "start_time": "2022-03-07T01:12:34.406Z"
   },
   {
    "duration": 270,
    "start_time": "2022-03-07T01:12:34.411Z"
   },
   {
    "duration": 7,
    "start_time": "2022-03-07T01:12:34.682Z"
   },
   {
    "duration": 12,
    "start_time": "2022-03-07T01:12:34.690Z"
   },
   {
    "duration": 7,
    "start_time": "2022-03-07T01:12:34.704Z"
   },
   {
    "duration": 12,
    "start_time": "2022-03-07T01:12:34.712Z"
   },
   {
    "duration": 7,
    "start_time": "2022-03-07T01:12:34.726Z"
   },
   {
    "duration": 25,
    "start_time": "2022-03-07T01:12:34.735Z"
   },
   {
    "duration": 18,
    "start_time": "2022-03-07T01:12:34.761Z"
   },
   {
    "duration": 4,
    "start_time": "2022-03-07T01:12:34.780Z"
   },
   {
    "duration": 14,
    "start_time": "2022-03-07T01:12:34.785Z"
   },
   {
    "duration": 4,
    "start_time": "2022-03-07T01:12:34.800Z"
   },
   {
    "duration": 7,
    "start_time": "2022-03-07T01:12:34.806Z"
   },
   {
    "duration": 7,
    "start_time": "2022-03-07T01:12:34.815Z"
   },
   {
    "duration": 49,
    "start_time": "2022-03-07T01:12:34.823Z"
   },
   {
    "duration": 9,
    "start_time": "2022-03-07T01:12:34.873Z"
   },
   {
    "duration": 6,
    "start_time": "2022-03-07T01:12:34.884Z"
   },
   {
    "duration": 11,
    "start_time": "2022-03-07T01:12:34.892Z"
   },
   {
    "duration": 16,
    "start_time": "2022-03-07T01:12:34.905Z"
   },
   {
    "duration": 37,
    "start_time": "2022-03-07T01:12:34.923Z"
   },
   {
    "duration": 34,
    "start_time": "2022-03-07T01:12:34.962Z"
   },
   {
    "duration": 20,
    "start_time": "2022-03-07T01:12:34.998Z"
   },
   {
    "duration": 17,
    "start_time": "2022-03-07T01:12:35.021Z"
   },
   {
    "duration": 18,
    "start_time": "2022-03-07T01:12:35.058Z"
   },
   {
    "duration": 21,
    "start_time": "2022-03-07T01:12:35.077Z"
   },
   {
    "duration": 10,
    "start_time": "2022-03-07T01:12:35.100Z"
   },
   {
    "duration": 7,
    "start_time": "2022-03-07T01:12:35.111Z"
   },
   {
    "duration": 51,
    "start_time": "2022-03-07T01:12:35.119Z"
   },
   {
    "duration": 12,
    "start_time": "2022-03-07T01:12:35.171Z"
   },
   {
    "duration": 12,
    "start_time": "2022-03-07T01:12:35.185Z"
   },
   {
    "duration": 17,
    "start_time": "2022-03-07T01:12:35.198Z"
   },
   {
    "duration": 46,
    "start_time": "2022-03-07T01:12:35.216Z"
   },
   {
    "duration": 8,
    "start_time": "2022-03-07T01:12:35.264Z"
   },
   {
    "duration": 51,
    "start_time": "2022-03-07T01:12:35.274Z"
   },
   {
    "duration": 42,
    "start_time": "2022-03-07T01:12:35.327Z"
   },
   {
    "duration": 17,
    "start_time": "2022-03-07T01:12:35.371Z"
   },
   {
    "duration": 20,
    "start_time": "2022-03-07T01:12:35.390Z"
   },
   {
    "duration": 8,
    "start_time": "2022-03-07T01:12:35.412Z"
   },
   {
    "duration": 64,
    "start_time": "2022-03-07T01:12:35.422Z"
   },
   {
    "duration": 27,
    "start_time": "2022-03-07T01:12:35.488Z"
   },
   {
    "duration": 43,
    "start_time": "2022-03-07T01:12:35.517Z"
   },
   {
    "duration": 23,
    "start_time": "2022-03-07T01:12:35.562Z"
   },
   {
    "duration": 26,
    "start_time": "2022-03-07T01:12:35.586Z"
   },
   {
    "duration": 92,
    "start_time": "2022-03-07T01:12:35.614Z"
   },
   {
    "duration": 2,
    "start_time": "2022-03-07T01:12:35.708Z"
   },
   {
    "duration": 5,
    "start_time": "2022-03-07T01:12:35.711Z"
   },
   {
    "duration": 4,
    "start_time": "2022-03-07T01:12:35.717Z"
   },
   {
    "duration": 3,
    "start_time": "2022-03-07T01:12:35.723Z"
   },
   {
    "duration": 5,
    "start_time": "2022-03-07T01:12:35.728Z"
   },
   {
    "duration": 25,
    "start_time": "2022-03-07T01:12:35.734Z"
   },
   {
    "duration": 2,
    "start_time": "2022-03-07T01:12:35.760Z"
   },
   {
    "duration": 4,
    "start_time": "2022-03-07T01:12:35.764Z"
   },
   {
    "duration": 4,
    "start_time": "2022-03-07T01:12:35.769Z"
   },
   {
    "duration": 223,
    "start_time": "2022-03-07T01:13:14.565Z"
   },
   {
    "duration": 24,
    "start_time": "2022-03-07T01:13:18.621Z"
   },
   {
    "duration": 25,
    "start_time": "2022-03-07T01:15:22.799Z"
   },
   {
    "duration": 27,
    "start_time": "2022-03-07T01:15:26.481Z"
   },
   {
    "duration": 71,
    "start_time": "2022-03-07T01:15:32.389Z"
   },
   {
    "duration": 70,
    "start_time": "2022-03-07T01:15:41.664Z"
   },
   {
    "duration": 18,
    "start_time": "2022-03-07T01:16:12.552Z"
   },
   {
    "duration": 24,
    "start_time": "2022-03-07T01:16:24.622Z"
   },
   {
    "duration": 62,
    "start_time": "2022-03-07T01:16:36.084Z"
   },
   {
    "duration": 14,
    "start_time": "2022-03-07T01:16:42.651Z"
   },
   {
    "duration": 216,
    "start_time": "2022-03-07T01:16:47.516Z"
   },
   {
    "duration": 62,
    "start_time": "2022-03-07T01:16:51.247Z"
   },
   {
    "duration": 60,
    "start_time": "2022-03-07T01:17:02.900Z"
   },
   {
    "duration": 10,
    "start_time": "2022-03-07T01:20:52.666Z"
   },
   {
    "duration": 19,
    "start_time": "2022-03-07T01:21:44.660Z"
   },
   {
    "duration": 393,
    "start_time": "2022-03-07T14:23:30.178Z"
   },
   {
    "duration": 1537,
    "start_time": "2022-03-07T14:23:34.813Z"
   },
   {
    "duration": 363,
    "start_time": "2022-03-07T14:23:36.352Z"
   },
   {
    "duration": 10,
    "start_time": "2022-03-07T14:23:36.718Z"
   },
   {
    "duration": 21,
    "start_time": "2022-03-07T14:23:36.731Z"
   },
   {
    "duration": 13,
    "start_time": "2022-03-07T14:23:36.755Z"
   },
   {
    "duration": 19,
    "start_time": "2022-03-07T14:23:36.770Z"
   },
   {
    "duration": 11,
    "start_time": "2022-03-07T14:23:36.791Z"
   },
   {
    "duration": 23,
    "start_time": "2022-03-07T14:23:36.805Z"
   },
   {
    "duration": 46,
    "start_time": "2022-03-07T14:23:36.832Z"
   },
   {
    "duration": 5,
    "start_time": "2022-03-07T14:23:36.882Z"
   },
   {
    "duration": 28,
    "start_time": "2022-03-07T14:23:36.890Z"
   },
   {
    "duration": 7,
    "start_time": "2022-03-07T14:23:36.973Z"
   },
   {
    "duration": 20,
    "start_time": "2022-03-07T14:23:36.983Z"
   },
   {
    "duration": 10,
    "start_time": "2022-03-07T14:23:37.006Z"
   },
   {
    "duration": 70,
    "start_time": "2022-03-07T14:23:37.019Z"
   },
   {
    "duration": 13,
    "start_time": "2022-03-07T14:23:37.091Z"
   },
   {
    "duration": 10,
    "start_time": "2022-03-07T14:23:37.106Z"
   },
   {
    "duration": 9,
    "start_time": "2022-03-07T14:23:37.119Z"
   },
   {
    "duration": 27,
    "start_time": "2022-03-07T14:23:37.130Z"
   },
   {
    "duration": 25,
    "start_time": "2022-03-07T14:23:37.159Z"
   },
   {
    "duration": 65,
    "start_time": "2022-03-07T14:23:37.186Z"
   },
   {
    "duration": 41,
    "start_time": "2022-03-07T14:23:37.253Z"
   },
   {
    "duration": 78,
    "start_time": "2022-03-07T14:23:37.296Z"
   },
   {
    "duration": 24,
    "start_time": "2022-03-07T14:23:37.376Z"
   },
   {
    "duration": 85,
    "start_time": "2022-03-07T14:23:37.403Z"
   },
   {
    "duration": 24,
    "start_time": "2022-03-07T14:23:37.491Z"
   },
   {
    "duration": 12,
    "start_time": "2022-03-07T14:23:37.573Z"
   },
   {
    "duration": 87,
    "start_time": "2022-03-07T14:23:37.588Z"
   },
   {
    "duration": 18,
    "start_time": "2022-03-07T14:23:37.677Z"
   },
   {
    "duration": 76,
    "start_time": "2022-03-07T14:23:37.697Z"
   },
   {
    "duration": 23,
    "start_time": "2022-03-07T14:23:37.776Z"
   },
   {
    "duration": 76,
    "start_time": "2022-03-07T14:23:37.801Z"
   },
   {
    "duration": 13,
    "start_time": "2022-03-07T14:23:37.879Z"
   },
   {
    "duration": 96,
    "start_time": "2022-03-07T14:23:37.895Z"
   },
   {
    "duration": 23,
    "start_time": "2022-03-07T14:23:37.993Z"
   },
   {
    "duration": 22,
    "start_time": "2022-03-07T14:23:38.018Z"
   },
   {
    "duration": 56,
    "start_time": "2022-03-07T14:23:38.043Z"
   },
   {
    "duration": 13,
    "start_time": "2022-03-07T14:23:38.101Z"
   },
   {
    "duration": 81,
    "start_time": "2022-03-07T14:23:38.116Z"
   },
   {
    "duration": 39,
    "start_time": "2022-03-07T14:23:38.199Z"
   },
   {
    "duration": 56,
    "start_time": "2022-03-07T14:23:38.240Z"
   },
   {
    "duration": 36,
    "start_time": "2022-03-07T14:23:38.299Z"
   },
   {
    "duration": 70,
    "start_time": "2022-03-07T14:23:38.338Z"
   },
   {
    "duration": 337,
    "start_time": "2022-03-07T14:23:38.410Z"
   },
   {
    "duration": -37,
    "start_time": "2022-03-07T14:23:38.786Z"
   },
   {
    "duration": -38,
    "start_time": "2022-03-07T14:23:38.789Z"
   },
   {
    "duration": -43,
    "start_time": "2022-03-07T14:23:38.796Z"
   },
   {
    "duration": -44,
    "start_time": "2022-03-07T14:23:38.799Z"
   },
   {
    "duration": -44,
    "start_time": "2022-03-07T14:23:38.801Z"
   },
   {
    "duration": -44,
    "start_time": "2022-03-07T14:23:38.803Z"
   },
   {
    "duration": -44,
    "start_time": "2022-03-07T14:23:38.805Z"
   },
   {
    "duration": -43,
    "start_time": "2022-03-07T14:23:38.806Z"
   },
   {
    "duration": -48,
    "start_time": "2022-03-07T14:23:38.812Z"
   },
   {
    "duration": 14,
    "start_time": "2022-03-07T14:23:56.378Z"
   },
   {
    "duration": 32,
    "start_time": "2022-03-07T14:24:46.963Z"
   },
   {
    "duration": 29,
    "start_time": "2022-03-07T14:24:56.247Z"
   },
   {
    "duration": 20,
    "start_time": "2022-03-07T14:25:21.673Z"
   },
   {
    "duration": 27,
    "start_time": "2022-03-07T14:25:33.670Z"
   },
   {
    "duration": 1361,
    "start_time": "2022-03-07T14:34:22.808Z"
   },
   {
    "duration": 1434,
    "start_time": "2022-03-07T14:34:29.472Z"
   },
   {
    "duration": 3558,
    "start_time": "2022-03-07T14:34:39.709Z"
   },
   {
    "duration": 1328,
    "start_time": "2022-03-07T14:34:55.870Z"
   },
   {
    "duration": 322,
    "start_time": "2022-03-07T14:36:44.661Z"
   },
   {
    "duration": 7,
    "start_time": "2022-03-07T14:37:07.723Z"
   },
   {
    "duration": 36,
    "start_time": "2022-03-07T14:37:13.930Z"
   },
   {
    "duration": 284,
    "start_time": "2022-03-07T14:37:22.819Z"
   },
   {
    "duration": 304,
    "start_time": "2022-03-07T14:42:26.411Z"
   },
   {
    "duration": 11,
    "start_time": "2022-03-07T14:42:52.715Z"
   },
   {
    "duration": 263,
    "start_time": "2022-03-07T14:43:01.872Z"
   },
   {
    "duration": 13,
    "start_time": "2022-03-07T14:43:05.012Z"
   },
   {
    "duration": 350,
    "start_time": "2022-03-07T14:43:51.592Z"
   },
   {
    "duration": 45,
    "start_time": "2022-03-07T14:44:10.149Z"
   },
   {
    "duration": 316,
    "start_time": "2022-03-07T14:45:40.922Z"
   },
   {
    "duration": 301,
    "start_time": "2022-03-07T14:45:48.268Z"
   },
   {
    "duration": 49,
    "start_time": "2022-03-07T14:45:55.306Z"
   },
   {
    "duration": 53,
    "start_time": "2022-03-07T14:46:09.604Z"
   },
   {
    "duration": 312,
    "start_time": "2022-03-07T14:46:19.111Z"
   },
   {
    "duration": 60,
    "start_time": "2022-03-07T14:46:27.545Z"
   },
   {
    "duration": 64,
    "start_time": "2022-03-07T14:46:58.919Z"
   },
   {
    "duration": 60,
    "start_time": "2022-03-07T14:47:07.428Z"
   },
   {
    "duration": 258,
    "start_time": "2022-03-07T14:48:46.623Z"
   },
   {
    "duration": 484,
    "start_time": "2022-03-07T14:49:00.245Z"
   },
   {
    "duration": 289,
    "start_time": "2022-03-07T14:49:14.890Z"
   },
   {
    "duration": 67,
    "start_time": "2022-03-07T14:51:38.040Z"
   },
   {
    "duration": 57,
    "start_time": "2022-03-07T14:51:55.716Z"
   },
   {
    "duration": 45,
    "start_time": "2022-03-07T14:53:06.055Z"
   },
   {
    "duration": 45,
    "start_time": "2022-03-07T14:55:34.229Z"
   },
   {
    "duration": 40,
    "start_time": "2022-03-07T14:56:27.466Z"
   },
   {
    "duration": 38,
    "start_time": "2022-03-07T14:56:35.482Z"
   },
   {
    "duration": 17,
    "start_time": "2022-03-07T14:57:32.352Z"
   },
   {
    "duration": 24,
    "start_time": "2022-03-07T14:59:30.343Z"
   },
   {
    "duration": 31,
    "start_time": "2022-03-07T14:59:46.278Z"
   },
   {
    "duration": 25,
    "start_time": "2022-03-07T14:59:51.201Z"
   },
   {
    "duration": 26,
    "start_time": "2022-03-07T15:00:01.073Z"
   },
   {
    "duration": 271,
    "start_time": "2022-03-07T15:02:13.917Z"
   },
   {
    "duration": 13,
    "start_time": "2022-03-07T15:02:28.597Z"
   },
   {
    "duration": 17,
    "start_time": "2022-03-07T15:02:34.279Z"
   },
   {
    "duration": 13,
    "start_time": "2022-03-07T15:02:45.582Z"
   },
   {
    "duration": 51,
    "start_time": "2022-03-07T15:02:49.373Z"
   },
   {
    "duration": 17,
    "start_time": "2022-03-07T15:03:33.760Z"
   },
   {
    "duration": 5,
    "start_time": "2022-03-07T15:03:47.458Z"
   },
   {
    "duration": 263,
    "start_time": "2022-03-07T15:03:57.648Z"
   },
   {
    "duration": -233,
    "start_time": "2022-03-07T15:04:19.309Z"
   },
   {
    "duration": 6701,
    "start_time": "2022-03-07T15:04:49.374Z"
   },
   {
    "duration": 6440,
    "start_time": "2022-03-07T15:05:06.271Z"
   },
   {
    "duration": 6660,
    "start_time": "2022-03-07T15:06:01.687Z"
   },
   {
    "duration": 3616,
    "start_time": "2022-03-07T15:06:30.162Z"
   },
   {
    "duration": 5,
    "start_time": "2022-03-07T15:08:07.163Z"
   },
   {
    "duration": 14,
    "start_time": "2022-03-07T15:08:13.080Z"
   },
   {
    "duration": 15,
    "start_time": "2022-03-07T15:08:21.401Z"
   },
   {
    "duration": 49,
    "start_time": "2022-03-07T15:08:24.534Z"
   },
   {
    "duration": 38,
    "start_time": "2022-03-07T15:09:11.642Z"
   },
   {
    "duration": 4,
    "start_time": "2022-03-07T15:09:20.898Z"
   },
   {
    "duration": 358,
    "start_time": "2022-03-07T15:09:20.905Z"
   },
   {
    "duration": 12,
    "start_time": "2022-03-07T15:09:21.266Z"
   },
   {
    "duration": 14,
    "start_time": "2022-03-07T15:09:21.281Z"
   },
   {
    "duration": 16,
    "start_time": "2022-03-07T15:09:21.297Z"
   },
   {
    "duration": 26,
    "start_time": "2022-03-07T15:09:21.315Z"
   },
   {
    "duration": 31,
    "start_time": "2022-03-07T15:09:21.343Z"
   },
   {
    "duration": 23,
    "start_time": "2022-03-07T15:09:21.377Z"
   },
   {
    "duration": 14,
    "start_time": "2022-03-07T15:09:21.404Z"
   },
   {
    "duration": 318,
    "start_time": "2022-03-07T15:09:21.421Z"
   },
   {
    "duration": 6,
    "start_time": "2022-03-07T15:09:21.741Z"
   },
   {
    "duration": 40,
    "start_time": "2022-03-07T15:09:21.749Z"
   },
   {
    "duration": 6,
    "start_time": "2022-03-07T15:09:21.791Z"
   },
   {
    "duration": 12,
    "start_time": "2022-03-07T15:09:21.799Z"
   },
   {
    "duration": 15,
    "start_time": "2022-03-07T15:09:21.814Z"
   },
   {
    "duration": 50,
    "start_time": "2022-03-07T15:09:21.831Z"
   },
   {
    "duration": 15,
    "start_time": "2022-03-07T15:09:21.884Z"
   },
   {
    "duration": 13,
    "start_time": "2022-03-07T15:09:21.901Z"
   },
   {
    "duration": 6,
    "start_time": "2022-03-07T15:09:21.917Z"
   },
   {
    "duration": 61,
    "start_time": "2022-03-07T15:09:21.925Z"
   },
   {
    "duration": 12,
    "start_time": "2022-03-07T15:09:21.989Z"
   },
   {
    "duration": 79,
    "start_time": "2022-03-07T15:09:22.004Z"
   },
   {
    "duration": 31,
    "start_time": "2022-03-07T15:09:22.086Z"
   },
   {
    "duration": 27,
    "start_time": "2022-03-07T15:09:22.119Z"
   },
   {
    "duration": 30,
    "start_time": "2022-03-07T15:09:22.174Z"
   },
   {
    "duration": 33,
    "start_time": "2022-03-07T15:09:22.207Z"
   },
   {
    "duration": 28,
    "start_time": "2022-03-07T15:09:22.276Z"
   },
   {
    "duration": 12,
    "start_time": "2022-03-07T15:09:22.308Z"
   },
   {
    "duration": 75,
    "start_time": "2022-03-07T15:09:22.323Z"
   },
   {
    "duration": 20,
    "start_time": "2022-03-07T15:09:22.401Z"
   },
   {
    "duration": 50,
    "start_time": "2022-03-07T15:09:22.423Z"
   },
   {
    "duration": 22,
    "start_time": "2022-03-07T15:09:22.476Z"
   },
   {
    "duration": 34,
    "start_time": "2022-03-07T15:09:22.501Z"
   },
   {
    "duration": 39,
    "start_time": "2022-03-07T15:09:22.538Z"
   },
   {
    "duration": 67,
    "start_time": "2022-03-07T15:09:22.580Z"
   },
   {
    "duration": 42,
    "start_time": "2022-03-07T15:09:22.650Z"
   },
   {
    "duration": 36,
    "start_time": "2022-03-07T15:09:22.694Z"
   },
   {
    "duration": 43,
    "start_time": "2022-03-07T15:09:22.732Z"
   },
   {
    "duration": 12,
    "start_time": "2022-03-07T15:09:22.777Z"
   },
   {
    "duration": 63,
    "start_time": "2022-03-07T15:09:22.792Z"
   },
   {
    "duration": 44,
    "start_time": "2022-03-07T15:09:22.873Z"
   },
   {
    "duration": 67,
    "start_time": "2022-03-07T15:09:22.919Z"
   },
   {
    "duration": 39,
    "start_time": "2022-03-07T15:09:22.988Z"
   },
   {
    "duration": 46,
    "start_time": "2022-03-07T15:09:23.029Z"
   },
   {
    "duration": 12,
    "start_time": "2022-03-07T15:09:23.077Z"
   },
   {
    "duration": 6,
    "start_time": "2022-03-07T15:09:23.091Z"
   },
   {
    "duration": 5,
    "start_time": "2022-03-07T15:09:23.099Z"
   },
   {
    "duration": 8,
    "start_time": "2022-03-07T15:09:23.106Z"
   },
   {
    "duration": 6,
    "start_time": "2022-03-07T15:09:23.116Z"
   },
   {
    "duration": 7,
    "start_time": "2022-03-07T15:09:23.124Z"
   },
   {
    "duration": 40,
    "start_time": "2022-03-07T15:09:23.133Z"
   },
   {
    "duration": 7,
    "start_time": "2022-03-07T15:09:23.176Z"
   },
   {
    "duration": 9,
    "start_time": "2022-03-07T15:09:23.186Z"
   },
   {
    "duration": 6,
    "start_time": "2022-03-07T15:09:23.197Z"
   },
   {
    "duration": 7,
    "start_time": "2022-03-07T15:09:23.205Z"
   },
   {
    "duration": 25,
    "start_time": "2022-03-07T15:09:38.286Z"
   },
   {
    "duration": 17,
    "start_time": "2022-03-07T15:10:19.180Z"
   },
   {
    "duration": 100,
    "start_time": "2022-03-07T15:12:21.370Z"
   },
   {
    "duration": 7,
    "start_time": "2022-03-07T15:12:50.746Z"
   },
   {
    "duration": 16,
    "start_time": "2022-03-07T15:12:58.266Z"
   },
   {
    "duration": 19,
    "start_time": "2022-03-07T15:13:27.038Z"
   },
   {
    "duration": 10,
    "start_time": "2022-03-07T15:13:45.193Z"
   },
   {
    "duration": 12,
    "start_time": "2022-03-07T15:14:08.788Z"
   },
   {
    "duration": 13,
    "start_time": "2022-03-07T15:16:17.748Z"
   },
   {
    "duration": 377,
    "start_time": "2022-03-07T15:19:10.905Z"
   },
   {
    "duration": 288,
    "start_time": "2022-03-07T15:19:20.052Z"
   },
   {
    "duration": 80,
    "start_time": "2022-03-07T15:25:24.843Z"
   },
   {
    "duration": 82,
    "start_time": "2022-03-07T15:25:34.406Z"
   },
   {
    "duration": 86,
    "start_time": "2022-03-07T15:26:46.746Z"
   },
   {
    "duration": 91,
    "start_time": "2022-03-07T15:27:29.831Z"
   },
   {
    "duration": 84,
    "start_time": "2022-03-07T15:27:34.802Z"
   },
   {
    "duration": 100,
    "start_time": "2022-03-07T15:27:41.637Z"
   },
   {
    "duration": 432,
    "start_time": "2022-03-07T15:27:47.411Z"
   },
   {
    "duration": 431,
    "start_time": "2022-03-07T15:27:55.156Z"
   },
   {
    "duration": 11,
    "start_time": "2022-03-07T15:33:21.832Z"
   },
   {
    "duration": 7,
    "start_time": "2022-03-07T15:38:57.305Z"
   },
   {
    "duration": 16,
    "start_time": "2022-03-07T15:40:17.927Z"
   },
   {
    "duration": 5,
    "start_time": "2022-03-07T15:41:12.788Z"
   },
   {
    "duration": 5,
    "start_time": "2022-03-07T15:41:14.702Z"
   },
   {
    "duration": 16,
    "start_time": "2022-03-07T15:41:16.455Z"
   },
   {
    "duration": 14,
    "start_time": "2022-03-07T15:42:14.505Z"
   },
   {
    "duration": 13,
    "start_time": "2022-03-07T15:42:33.538Z"
   },
   {
    "duration": 29,
    "start_time": "2022-03-07T15:42:41.916Z"
   },
   {
    "duration": 308,
    "start_time": "2022-03-07T15:43:10.598Z"
   },
   {
    "duration": 421,
    "start_time": "2022-03-07T15:43:16.152Z"
   },
   {
    "duration": 11,
    "start_time": "2022-03-07T16:11:28.602Z"
   },
   {
    "duration": 7,
    "start_time": "2022-03-07T16:11:30.985Z"
   },
   {
    "duration": 5,
    "start_time": "2022-03-07T16:11:31.536Z"
   },
   {
    "duration": 6,
    "start_time": "2022-03-07T16:11:32.581Z"
   },
   {
    "duration": 306,
    "start_time": "2022-03-07T16:11:33.841Z"
   },
   {
    "duration": 26,
    "start_time": "2022-03-07T16:11:53.939Z"
   },
   {
    "duration": 4,
    "start_time": "2022-03-07T16:13:45.788Z"
   },
   {
    "duration": 5,
    "start_time": "2022-03-07T16:14:23.449Z"
   },
   {
    "duration": 6,
    "start_time": "2022-03-07T16:15:06.091Z"
   },
   {
    "duration": 89,
    "start_time": "2022-03-07T16:15:57.878Z"
   },
   {
    "duration": 5,
    "start_time": "2022-03-07T16:16:04.898Z"
   },
   {
    "duration": 6,
    "start_time": "2022-03-07T16:16:05.646Z"
   },
   {
    "duration": 125,
    "start_time": "2022-03-07T16:16:06.336Z"
   },
   {
    "duration": 26,
    "start_time": "2022-03-07T16:16:13.926Z"
   },
   {
    "duration": 263,
    "start_time": "2022-03-07T16:16:50.758Z"
   },
   {
    "duration": 268,
    "start_time": "2022-03-07T16:17:00.714Z"
   },
   {
    "duration": 28,
    "start_time": "2022-03-07T16:17:05.390Z"
   },
   {
    "duration": 26,
    "start_time": "2022-03-07T16:17:11.178Z"
   },
   {
    "duration": 36,
    "start_time": "2022-03-07T16:17:29.305Z"
   },
   {
    "duration": 38,
    "start_time": "2022-03-07T16:17:39.387Z"
   },
   {
    "duration": 30,
    "start_time": "2022-03-07T16:18:12.096Z"
   },
   {
    "duration": 52,
    "start_time": "2022-03-07T16:18:16.371Z"
   },
   {
    "duration": 4,
    "start_time": "2022-03-07T16:19:28.959Z"
   },
   {
    "duration": 7586,
    "start_time": "2022-03-07T16:19:35.398Z"
   },
   {
    "duration": 5,
    "start_time": "2022-03-07T16:19:45.884Z"
   },
   {
    "duration": 6,
    "start_time": "2022-03-07T16:19:53.151Z"
   },
   {
    "duration": 37,
    "start_time": "2022-03-07T16:20:10.766Z"
   },
   {
    "duration": 4,
    "start_time": "2022-03-07T16:23:45.626Z"
   },
   {
    "duration": 528,
    "start_time": "2022-03-07T16:24:16.729Z"
   },
   {
    "duration": 5,
    "start_time": "2022-03-07T16:24:42.110Z"
   },
   {
    "duration": 7,
    "start_time": "2022-03-07T16:24:43.085Z"
   },
   {
    "duration": 38,
    "start_time": "2022-03-07T16:25:36.073Z"
   },
   {
    "duration": 87,
    "start_time": "2022-03-07T16:26:07.127Z"
   },
   {
    "duration": -50,
    "start_time": "2022-03-07T16:26:07.269Z"
   },
   {
    "duration": -50,
    "start_time": "2022-03-07T16:26:07.271Z"
   },
   {
    "duration": -105,
    "start_time": "2022-03-07T16:26:07.327Z"
   },
   {
    "duration": -110,
    "start_time": "2022-03-07T16:26:07.333Z"
   },
   {
    "duration": -111,
    "start_time": "2022-03-07T16:26:07.336Z"
   },
   {
    "duration": -112,
    "start_time": "2022-03-07T16:26:07.338Z"
   },
   {
    "duration": -112,
    "start_time": "2022-03-07T16:26:07.340Z"
   },
   {
    "duration": -179,
    "start_time": "2022-03-07T16:26:07.408Z"
   },
   {
    "duration": -178,
    "start_time": "2022-03-07T16:26:07.409Z"
   },
   {
    "duration": -179,
    "start_time": "2022-03-07T16:26:07.412Z"
   },
   {
    "duration": -179,
    "start_time": "2022-03-07T16:26:07.413Z"
   },
   {
    "duration": -179,
    "start_time": "2022-03-07T16:26:07.414Z"
   },
   {
    "duration": -178,
    "start_time": "2022-03-07T16:26:07.415Z"
   },
   {
    "duration": -179,
    "start_time": "2022-03-07T16:26:07.417Z"
   },
   {
    "duration": -179,
    "start_time": "2022-03-07T16:26:07.418Z"
   },
   {
    "duration": -178,
    "start_time": "2022-03-07T16:26:07.419Z"
   },
   {
    "duration": -178,
    "start_time": "2022-03-07T16:26:07.420Z"
   },
   {
    "duration": -178,
    "start_time": "2022-03-07T16:26:07.421Z"
   },
   {
    "duration": -177,
    "start_time": "2022-03-07T16:26:07.422Z"
   },
   {
    "duration": -177,
    "start_time": "2022-03-07T16:26:07.423Z"
   },
   {
    "duration": -176,
    "start_time": "2022-03-07T16:26:07.424Z"
   },
   {
    "duration": -176,
    "start_time": "2022-03-07T16:26:07.425Z"
   },
   {
    "duration": -175,
    "start_time": "2022-03-07T16:26:07.426Z"
   },
   {
    "duration": -154,
    "start_time": "2022-03-07T16:26:07.427Z"
   },
   {
    "duration": -153,
    "start_time": "2022-03-07T16:26:07.428Z"
   },
   {
    "duration": -198,
    "start_time": "2022-03-07T16:26:07.474Z"
   },
   {
    "duration": -200,
    "start_time": "2022-03-07T16:26:07.478Z"
   },
   {
    "duration": -200,
    "start_time": "2022-03-07T16:26:07.479Z"
   },
   {
    "duration": -199,
    "start_time": "2022-03-07T16:26:07.480Z"
   },
   {
    "duration": -198,
    "start_time": "2022-03-07T16:26:07.481Z"
   },
   {
    "duration": -197,
    "start_time": "2022-03-07T16:26:07.482Z"
   },
   {
    "duration": -196,
    "start_time": "2022-03-07T16:26:07.483Z"
   },
   {
    "duration": -195,
    "start_time": "2022-03-07T16:26:07.484Z"
   },
   {
    "duration": -195,
    "start_time": "2022-03-07T16:26:07.485Z"
   },
   {
    "duration": -194,
    "start_time": "2022-03-07T16:26:07.486Z"
   },
   {
    "duration": -193,
    "start_time": "2022-03-07T16:26:07.487Z"
   },
   {
    "duration": -192,
    "start_time": "2022-03-07T16:26:07.488Z"
   },
   {
    "duration": -192,
    "start_time": "2022-03-07T16:26:07.489Z"
   },
   {
    "duration": -191,
    "start_time": "2022-03-07T16:26:07.490Z"
   },
   {
    "duration": -191,
    "start_time": "2022-03-07T16:26:07.491Z"
   },
   {
    "duration": -286,
    "start_time": "2022-03-07T16:26:07.587Z"
   },
   {
    "duration": -301,
    "start_time": "2022-03-07T16:26:07.603Z"
   },
   {
    "duration": -311,
    "start_time": "2022-03-07T16:26:07.615Z"
   },
   {
    "duration": -328,
    "start_time": "2022-03-07T16:26:07.634Z"
   },
   {
    "duration": -326,
    "start_time": "2022-03-07T16:26:07.635Z"
   },
   {
    "duration": -325,
    "start_time": "2022-03-07T16:26:07.636Z"
   },
   {
    "duration": -260,
    "start_time": "2022-03-07T16:26:07.637Z"
   },
   {
    "duration": -259,
    "start_time": "2022-03-07T16:26:07.638Z"
   },
   {
    "duration": -258,
    "start_time": "2022-03-07T16:26:07.639Z"
   },
   {
    "duration": -257,
    "start_time": "2022-03-07T16:26:07.640Z"
   },
   {
    "duration": -255,
    "start_time": "2022-03-07T16:26:07.641Z"
   },
   {
    "duration": -254,
    "start_time": "2022-03-07T16:26:07.642Z"
   },
   {
    "duration": -253,
    "start_time": "2022-03-07T16:26:07.643Z"
   },
   {
    "duration": -251,
    "start_time": "2022-03-07T16:26:07.644Z"
   },
   {
    "duration": -250,
    "start_time": "2022-03-07T16:26:07.645Z"
   },
   {
    "duration": -249,
    "start_time": "2022-03-07T16:26:07.646Z"
   },
   {
    "duration": -248,
    "start_time": "2022-03-07T16:26:07.647Z"
   },
   {
    "duration": -246,
    "start_time": "2022-03-07T16:26:07.648Z"
   },
   {
    "duration": -245,
    "start_time": "2022-03-07T16:26:07.649Z"
   },
   {
    "duration": 63,
    "start_time": "2022-03-07T16:26:07.412Z"
   },
   {
    "duration": 10,
    "start_time": "2022-03-07T16:26:07.478Z"
   },
   {
    "duration": 5,
    "start_time": "2022-03-07T16:26:07.490Z"
   },
   {
    "duration": 9,
    "start_time": "2022-03-07T16:26:07.498Z"
   },
   {
    "duration": 5,
    "start_time": "2022-03-07T16:26:07.510Z"
   },
   {
    "duration": 56,
    "start_time": "2022-03-07T16:26:07.518Z"
   },
   {
    "duration": 81,
    "start_time": "2022-03-07T16:26:18.346Z"
   },
   {
    "duration": -49,
    "start_time": "2022-03-07T16:26:18.482Z"
   },
   {
    "duration": -50,
    "start_time": "2022-03-07T16:26:18.484Z"
   },
   {
    "duration": -50,
    "start_time": "2022-03-07T16:26:18.486Z"
   },
   {
    "duration": -99,
    "start_time": "2022-03-07T16:26:18.536Z"
   },
   {
    "duration": -99,
    "start_time": "2022-03-07T16:26:18.538Z"
   },
   {
    "duration": -101,
    "start_time": "2022-03-07T16:26:18.541Z"
   },
   {
    "duration": -102,
    "start_time": "2022-03-07T16:26:18.543Z"
   },
   {
    "duration": -192,
    "start_time": "2022-03-07T16:26:18.635Z"
   },
   {
    "duration": -192,
    "start_time": "2022-03-07T16:26:18.636Z"
   },
   {
    "duration": -192,
    "start_time": "2022-03-07T16:26:18.637Z"
   },
   {
    "duration": -192,
    "start_time": "2022-03-07T16:26:18.638Z"
   },
   {
    "duration": -191,
    "start_time": "2022-03-07T16:26:18.639Z"
   },
   {
    "duration": -191,
    "start_time": "2022-03-07T16:26:18.640Z"
   },
   {
    "duration": -192,
    "start_time": "2022-03-07T16:26:18.642Z"
   },
   {
    "duration": -192,
    "start_time": "2022-03-07T16:26:18.643Z"
   },
   {
    "duration": -192,
    "start_time": "2022-03-07T16:26:18.644Z"
   },
   {
    "duration": -190,
    "start_time": "2022-03-07T16:26:18.644Z"
   },
   {
    "duration": -190,
    "start_time": "2022-03-07T16:26:18.646Z"
   },
   {
    "duration": -189,
    "start_time": "2022-03-07T16:26:18.646Z"
   },
   {
    "duration": -175,
    "start_time": "2022-03-07T16:26:18.648Z"
   },
   {
    "duration": -174,
    "start_time": "2022-03-07T16:26:18.648Z"
   },
   {
    "duration": -173,
    "start_time": "2022-03-07T16:26:18.649Z"
   },
   {
    "duration": -173,
    "start_time": "2022-03-07T16:26:18.650Z"
   },
   {
    "duration": -172,
    "start_time": "2022-03-07T16:26:18.651Z"
   },
   {
    "duration": -203,
    "start_time": "2022-03-07T16:26:18.683Z"
   },
   {
    "duration": -202,
    "start_time": "2022-03-07T16:26:18.684Z"
   },
   {
    "duration": -202,
    "start_time": "2022-03-07T16:26:18.685Z"
   },
   {
    "duration": -202,
    "start_time": "2022-03-07T16:26:18.686Z"
   },
   {
    "duration": -201,
    "start_time": "2022-03-07T16:26:18.687Z"
   },
   {
    "duration": -201,
    "start_time": "2022-03-07T16:26:18.688Z"
   },
   {
    "duration": -201,
    "start_time": "2022-03-07T16:26:18.689Z"
   },
   {
    "duration": -200,
    "start_time": "2022-03-07T16:26:18.690Z"
   },
   {
    "duration": -200,
    "start_time": "2022-03-07T16:26:18.691Z"
   },
   {
    "duration": -374,
    "start_time": "2022-03-07T16:26:18.866Z"
   },
   {
    "duration": -382,
    "start_time": "2022-03-07T16:26:18.876Z"
   },
   {
    "duration": -382,
    "start_time": "2022-03-07T16:26:18.877Z"
   },
   {
    "duration": -382,
    "start_time": "2022-03-07T16:26:18.878Z"
   },
   {
    "duration": -381,
    "start_time": "2022-03-07T16:26:18.879Z"
   },
   {
    "duration": -381,
    "start_time": "2022-03-07T16:26:18.880Z"
   },
   {
    "duration": -380,
    "start_time": "2022-03-07T16:26:18.881Z"
   },
   {
    "duration": -380,
    "start_time": "2022-03-07T16:26:18.882Z"
   },
   {
    "duration": -380,
    "start_time": "2022-03-07T16:26:18.883Z"
   },
   {
    "duration": -379,
    "start_time": "2022-03-07T16:26:18.884Z"
   },
   {
    "duration": -379,
    "start_time": "2022-03-07T16:26:18.885Z"
   },
   {
    "duration": -378,
    "start_time": "2022-03-07T16:26:18.886Z"
   },
   {
    "duration": -378,
    "start_time": "2022-03-07T16:26:18.887Z"
   },
   {
    "duration": -377,
    "start_time": "2022-03-07T16:26:18.887Z"
   },
   {
    "duration": -313,
    "start_time": "2022-03-07T16:26:18.888Z"
   },
   {
    "duration": -311,
    "start_time": "2022-03-07T16:26:18.889Z"
   },
   {
    "duration": -310,
    "start_time": "2022-03-07T16:26:18.890Z"
   },
   {
    "duration": -309,
    "start_time": "2022-03-07T16:26:18.891Z"
   },
   {
    "duration": -308,
    "start_time": "2022-03-07T16:26:18.892Z"
   },
   {
    "duration": -307,
    "start_time": "2022-03-07T16:26:18.893Z"
   },
   {
    "duration": -306,
    "start_time": "2022-03-07T16:26:18.894Z"
   },
   {
    "duration": -305,
    "start_time": "2022-03-07T16:26:18.895Z"
   },
   {
    "duration": -303,
    "start_time": "2022-03-07T16:26:18.895Z"
   },
   {
    "duration": -302,
    "start_time": "2022-03-07T16:26:18.896Z"
   },
   {
    "duration": -301,
    "start_time": "2022-03-07T16:26:18.897Z"
   },
   {
    "duration": -300,
    "start_time": "2022-03-07T16:26:18.898Z"
   },
   {
    "duration": -299,
    "start_time": "2022-03-07T16:26:18.899Z"
   },
   {
    "duration": -297,
    "start_time": "2022-03-07T16:26:18.900Z"
   },
   {
    "duration": -296,
    "start_time": "2022-03-07T16:26:18.901Z"
   },
   {
    "duration": -295,
    "start_time": "2022-03-07T16:26:18.902Z"
   },
   {
    "duration": -294,
    "start_time": "2022-03-07T16:26:18.903Z"
   },
   {
    "duration": -291,
    "start_time": "2022-03-07T16:26:18.904Z"
   },
   {
    "duration": 534,
    "start_time": "2022-03-07T16:26:25.628Z"
   },
   {
    "duration": 20,
    "start_time": "2022-03-07T16:26:27.735Z"
   },
   {
    "duration": 18,
    "start_time": "2022-03-07T16:26:27.988Z"
   },
   {
    "duration": 16,
    "start_time": "2022-03-07T16:26:30.694Z"
   },
   {
    "duration": 19,
    "start_time": "2022-03-07T16:26:30.901Z"
   },
   {
    "duration": 12,
    "start_time": "2022-03-07T16:26:31.078Z"
   },
   {
    "duration": 30,
    "start_time": "2022-03-07T16:26:31.285Z"
   },
   {
    "duration": 13,
    "start_time": "2022-03-07T16:26:32.373Z"
   },
   {
    "duration": 303,
    "start_time": "2022-03-07T16:26:32.580Z"
   },
   {
    "duration": 6,
    "start_time": "2022-03-07T16:26:32.886Z"
   },
   {
    "duration": 30,
    "start_time": "2022-03-07T16:26:32.983Z"
   },
   {
    "duration": 6,
    "start_time": "2022-03-07T16:26:33.633Z"
   },
   {
    "duration": 12,
    "start_time": "2022-03-07T16:26:33.920Z"
   },
   {
    "duration": 6,
    "start_time": "2022-03-07T16:26:34.608Z"
   },
   {
    "duration": 20,
    "start_time": "2022-03-07T16:26:34.785Z"
   },
   {
    "duration": 14,
    "start_time": "2022-03-07T16:26:34.992Z"
   },
   {
    "duration": 10,
    "start_time": "2022-03-07T16:26:35.189Z"
   },
   {
    "duration": 5,
    "start_time": "2022-03-07T16:26:35.396Z"
   },
   {
    "duration": 39,
    "start_time": "2022-03-07T16:26:35.809Z"
   },
   {
    "duration": 12,
    "start_time": "2022-03-07T16:26:36.013Z"
   },
   {
    "duration": 61,
    "start_time": "2022-03-07T16:26:36.223Z"
   },
   {
    "duration": 33,
    "start_time": "2022-03-07T16:26:36.449Z"
   },
   {
    "duration": 27,
    "start_time": "2022-03-07T16:26:37.463Z"
   },
   {
    "duration": 28,
    "start_time": "2022-03-07T16:26:37.651Z"
   },
   {
    "duration": 32,
    "start_time": "2022-03-07T16:26:38.261Z"
   },
   {
    "duration": 30,
    "start_time": "2022-03-07T16:26:38.674Z"
   },
   {
    "duration": 12,
    "start_time": "2022-03-07T16:26:38.891Z"
   },
   {
    "duration": 38,
    "start_time": "2022-03-07T16:26:39.117Z"
   },
   {
    "duration": 18,
    "start_time": "2022-03-07T16:26:40.185Z"
   },
   {
    "duration": 20,
    "start_time": "2022-03-07T16:26:40.392Z"
   },
   {
    "duration": 24,
    "start_time": "2022-03-07T16:26:41.062Z"
   },
   {
    "duration": 34,
    "start_time": "2022-03-07T16:26:41.515Z"
   },
   {
    "duration": 15,
    "start_time": "2022-03-07T16:26:41.751Z"
   },
   {
    "duration": 63,
    "start_time": "2022-03-07T16:26:42.007Z"
   },
   {
    "duration": 22,
    "start_time": "2022-03-07T16:26:43.887Z"
   },
   {
    "duration": 22,
    "start_time": "2022-03-07T16:26:44.109Z"
   },
   {
    "duration": 28,
    "start_time": "2022-03-07T16:26:46.008Z"
   },
   {
    "duration": 27,
    "start_time": "2022-03-07T16:26:47.337Z"
   },
   {
    "duration": 92,
    "start_time": "2022-03-07T16:26:47.721Z"
   },
   {
    "duration": 71,
    "start_time": "2022-03-07T16:26:47.918Z"
   },
   {
    "duration": 73,
    "start_time": "2022-03-07T16:26:48.130Z"
   },
   {
    "duration": 62,
    "start_time": "2022-03-07T16:26:48.363Z"
   },
   {
    "duration": 44,
    "start_time": "2022-03-07T16:26:48.817Z"
   },
   {
    "duration": 25,
    "start_time": "2022-03-07T16:26:49.042Z"
   },
   {
    "duration": 12,
    "start_time": "2022-03-07T16:26:49.515Z"
   },
   {
    "duration": 10,
    "start_time": "2022-03-07T16:26:49.732Z"
   },
   {
    "duration": 8,
    "start_time": "2022-03-07T16:26:50.184Z"
   },
   {
    "duration": 4,
    "start_time": "2022-03-07T16:26:50.401Z"
   },
   {
    "duration": 7,
    "start_time": "2022-03-07T16:26:50.618Z"
   },
   {
    "duration": 25,
    "start_time": "2022-03-07T16:26:50.844Z"
   },
   {
    "duration": 4,
    "start_time": "2022-03-07T16:26:51.051Z"
   },
   {
    "duration": 5,
    "start_time": "2022-03-07T16:26:51.248Z"
   },
   {
    "duration": 35,
    "start_time": "2022-03-07T16:26:51.474Z"
   },
   {
    "duration": 4,
    "start_time": "2022-03-07T16:26:51.711Z"
   },
   {
    "duration": 6,
    "start_time": "2022-03-07T16:26:51.957Z"
   },
   {
    "duration": 36,
    "start_time": "2022-03-07T16:26:52.179Z"
   },
   {
    "duration": 3,
    "start_time": "2022-03-07T16:26:52.396Z"
   },
   {
    "duration": 3,
    "start_time": "2022-03-07T16:26:53.391Z"
   },
   {
    "duration": 4,
    "start_time": "2022-03-07T16:28:10.431Z"
   },
   {
    "duration": 517,
    "start_time": "2022-03-07T16:29:26.104Z"
   },
   {
    "duration": 4,
    "start_time": "2022-03-07T16:30:56.636Z"
   },
   {
    "duration": 6703,
    "start_time": "2022-03-07T16:31:00.200Z"
   },
   {
    "duration": 491,
    "start_time": "2022-03-07T16:33:05.552Z"
   },
   {
    "duration": 7,
    "start_time": "2022-03-07T16:34:12.979Z"
   },
   {
    "duration": 6274,
    "start_time": "2022-03-07T16:35:12.432Z"
   },
   {
    "duration": 79,
    "start_time": "2022-03-07T16:36:28.350Z"
   },
   {
    "duration": 5,
    "start_time": "2022-03-07T16:36:41.938Z"
   },
   {
    "duration": 5,
    "start_time": "2022-03-07T16:36:49.234Z"
   },
   {
    "duration": 15,
    "start_time": "2022-03-07T16:36:57.288Z"
   },
   {
    "duration": 10,
    "start_time": "2022-03-07T16:37:10.078Z"
   },
   {
    "duration": 5,
    "start_time": "2022-03-07T16:37:16.242Z"
   },
   {
    "duration": 5,
    "start_time": "2022-03-07T16:37:16.793Z"
   },
   {
    "duration": 7,
    "start_time": "2022-03-07T16:37:17.482Z"
   },
   {
    "duration": 28,
    "start_time": "2022-03-07T16:37:18.762Z"
   },
   {
    "duration": 28,
    "start_time": "2022-03-07T16:37:26.186Z"
   },
   {
    "duration": 9,
    "start_time": "2022-03-07T16:37:32.803Z"
   },
   {
    "duration": 4,
    "start_time": "2022-03-07T16:37:33.671Z"
   },
   {
    "duration": 6,
    "start_time": "2022-03-07T16:37:34.458Z"
   },
   {
    "duration": 27,
    "start_time": "2022-03-07T16:37:35.629Z"
   },
   {
    "duration": 4,
    "start_time": "2022-03-07T16:37:36.820Z"
   },
   {
    "duration": 6,
    "start_time": "2022-03-07T16:37:38.337Z"
   },
   {
    "duration": 37,
    "start_time": "2022-03-07T16:37:39.007Z"
   },
   {
    "duration": 4,
    "start_time": "2022-03-07T16:37:39.922Z"
   },
   {
    "duration": 6,
    "start_time": "2022-03-07T16:37:42.611Z"
   },
   {
    "duration": 42,
    "start_time": "2022-03-07T16:37:42.984Z"
   },
   {
    "duration": 6,
    "start_time": "2022-03-07T16:37:43.555Z"
   },
   {
    "duration": 5,
    "start_time": "2022-03-07T16:37:47.464Z"
   },
   {
    "duration": 296,
    "start_time": "2022-03-07T16:37:50.191Z"
   },
   {
    "duration": 200,
    "start_time": "2022-03-07T16:37:54.090Z"
   },
   {
    "duration": 20,
    "start_time": "2022-03-07T16:38:08.091Z"
   },
   {
    "duration": 259,
    "start_time": "2022-03-07T16:39:44.667Z"
   },
   {
    "duration": 20,
    "start_time": "2022-03-07T16:40:00.019Z"
   },
   {
    "duration": 5,
    "start_time": "2022-03-07T16:40:04.430Z"
   },
   {
    "duration": 6,
    "start_time": "2022-03-07T16:40:05.090Z"
   },
   {
    "duration": 14,
    "start_time": "2022-03-07T16:40:05.769Z"
   },
   {
    "duration": 5,
    "start_time": "2022-03-07T16:43:17.324Z"
   },
   {
    "duration": 12,
    "start_time": "2022-03-07T16:45:27.097Z"
   },
   {
    "duration": 4,
    "start_time": "2022-03-07T16:46:14.085Z"
   },
   {
    "duration": 263,
    "start_time": "2022-03-07T16:46:59.184Z"
   },
   {
    "duration": 4,
    "start_time": "2022-03-07T16:47:13.425Z"
   },
   {
    "duration": 6,
    "start_time": "2022-03-07T16:47:14.281Z"
   },
   {
    "duration": 6486,
    "start_time": "2022-03-07T16:48:32.371Z"
   },
   {
    "duration": 83,
    "start_time": "2022-03-07T16:48:56.318Z"
   },
   {
    "duration": -43,
    "start_time": "2022-03-07T16:48:56.452Z"
   },
   {
    "duration": -46,
    "start_time": "2022-03-07T16:48:56.457Z"
   },
   {
    "duration": -91,
    "start_time": "2022-03-07T16:48:56.504Z"
   },
   {
    "duration": -91,
    "start_time": "2022-03-07T16:48:56.506Z"
   },
   {
    "duration": -91,
    "start_time": "2022-03-07T16:48:56.508Z"
   },
   {
    "duration": -91,
    "start_time": "2022-03-07T16:48:56.510Z"
   },
   {
    "duration": -91,
    "start_time": "2022-03-07T16:48:56.512Z"
   },
   {
    "duration": -172,
    "start_time": "2022-03-07T16:48:56.595Z"
   },
   {
    "duration": -171,
    "start_time": "2022-03-07T16:48:56.596Z"
   },
   {
    "duration": -171,
    "start_time": "2022-03-07T16:48:56.598Z"
   },
   {
    "duration": -170,
    "start_time": "2022-03-07T16:48:56.599Z"
   },
   {
    "duration": -169,
    "start_time": "2022-03-07T16:48:56.600Z"
   },
   {
    "duration": -168,
    "start_time": "2022-03-07T16:48:56.601Z"
   },
   {
    "duration": -169,
    "start_time": "2022-03-07T16:48:56.603Z"
   },
   {
    "duration": -168,
    "start_time": "2022-03-07T16:48:56.604Z"
   },
   {
    "duration": -168,
    "start_time": "2022-03-07T16:48:56.605Z"
   },
   {
    "duration": -170,
    "start_time": "2022-03-07T16:48:56.609Z"
   },
   {
    "duration": -171,
    "start_time": "2022-03-07T16:48:56.611Z"
   },
   {
    "duration": -171,
    "start_time": "2022-03-07T16:48:56.612Z"
   },
   {
    "duration": -171,
    "start_time": "2022-03-07T16:48:56.613Z"
   },
   {
    "duration": -171,
    "start_time": "2022-03-07T16:48:56.614Z"
   },
   {
    "duration": -142,
    "start_time": "2022-03-07T16:48:56.615Z"
   },
   {
    "duration": -142,
    "start_time": "2022-03-07T16:48:56.616Z"
   },
   {
    "duration": -141,
    "start_time": "2022-03-07T16:48:56.617Z"
   },
   {
    "duration": -178,
    "start_time": "2022-03-07T16:48:56.655Z"
   },
   {
    "duration": -179,
    "start_time": "2022-03-07T16:48:56.657Z"
   },
   {
    "duration": -177,
    "start_time": "2022-03-07T16:48:56.657Z"
   },
   {
    "duration": -177,
    "start_time": "2022-03-07T16:48:56.658Z"
   },
   {
    "duration": -176,
    "start_time": "2022-03-07T16:48:56.659Z"
   },
   {
    "duration": -177,
    "start_time": "2022-03-07T16:48:56.661Z"
   },
   {
    "duration": -175,
    "start_time": "2022-03-07T16:48:56.661Z"
   },
   {
    "duration": -175,
    "start_time": "2022-03-07T16:48:56.662Z"
   },
   {
    "duration": -175,
    "start_time": "2022-03-07T16:48:56.663Z"
   },
   {
    "duration": -342,
    "start_time": "2022-03-07T16:48:56.832Z"
   },
   {
    "duration": -359,
    "start_time": "2022-03-07T16:48:56.850Z"
   },
   {
    "duration": -358,
    "start_time": "2022-03-07T16:48:56.851Z"
   },
   {
    "duration": -358,
    "start_time": "2022-03-07T16:48:56.852Z"
   },
   {
    "duration": -358,
    "start_time": "2022-03-07T16:48:56.853Z"
   },
   {
    "duration": -356,
    "start_time": "2022-03-07T16:48:56.853Z"
   },
   {
    "duration": -357,
    "start_time": "2022-03-07T16:48:56.855Z"
   },
   {
    "duration": -355,
    "start_time": "2022-03-07T16:48:56.855Z"
   },
   {
    "duration": -355,
    "start_time": "2022-03-07T16:48:56.856Z"
   },
   {
    "duration": -354,
    "start_time": "2022-03-07T16:48:56.857Z"
   },
   {
    "duration": -354,
    "start_time": "2022-03-07T16:48:56.858Z"
   },
   {
    "duration": -353,
    "start_time": "2022-03-07T16:48:56.859Z"
   },
   {
    "duration": -353,
    "start_time": "2022-03-07T16:48:56.860Z"
   },
   {
    "duration": -352,
    "start_time": "2022-03-07T16:48:56.861Z"
   },
   {
    "duration": -286,
    "start_time": "2022-03-07T16:48:56.862Z"
   },
   {
    "duration": -285,
    "start_time": "2022-03-07T16:48:56.863Z"
   },
   {
    "duration": -285,
    "start_time": "2022-03-07T16:48:56.864Z"
   },
   {
    "duration": -284,
    "start_time": "2022-03-07T16:48:56.865Z"
   },
   {
    "duration": -284,
    "start_time": "2022-03-07T16:48:56.866Z"
   },
   {
    "duration": -284,
    "start_time": "2022-03-07T16:48:56.867Z"
   },
   {
    "duration": -283,
    "start_time": "2022-03-07T16:48:56.868Z"
   },
   {
    "duration": -283,
    "start_time": "2022-03-07T16:48:56.869Z"
   },
   {
    "duration": -283,
    "start_time": "2022-03-07T16:48:56.870Z"
   },
   {
    "duration": -282,
    "start_time": "2022-03-07T16:48:56.871Z"
   },
   {
    "duration": -282,
    "start_time": "2022-03-07T16:48:56.872Z"
   },
   {
    "duration": -282,
    "start_time": "2022-03-07T16:48:56.873Z"
   },
   {
    "duration": -281,
    "start_time": "2022-03-07T16:48:56.874Z"
   },
   {
    "duration": -281,
    "start_time": "2022-03-07T16:48:56.875Z"
   },
   {
    "duration": -285,
    "start_time": "2022-03-07T16:48:56.880Z"
   },
   {
    "duration": -284,
    "start_time": "2022-03-07T16:48:56.881Z"
   },
   {
    "duration": -284,
    "start_time": "2022-03-07T16:48:56.882Z"
   },
   {
    "duration": -284,
    "start_time": "2022-03-07T16:48:56.883Z"
   },
   {
    "duration": -284,
    "start_time": "2022-03-07T16:48:56.884Z"
   },
   {
    "duration": -284,
    "start_time": "2022-03-07T16:48:56.885Z"
   },
   {
    "duration": -283,
    "start_time": "2022-03-07T16:48:56.886Z"
   },
   {
    "duration": -283,
    "start_time": "2022-03-07T16:48:56.887Z"
   },
   {
    "duration": 82,
    "start_time": "2022-03-07T16:49:19.442Z"
   },
   {
    "duration": 94,
    "start_time": "2022-03-07T16:49:24.237Z"
   },
   {
    "duration": 84,
    "start_time": "2022-03-07T16:49:32.665Z"
   },
   {
    "duration": 4,
    "start_time": "2022-03-07T16:49:37.273Z"
   },
   {
    "duration": 4,
    "start_time": "2022-03-07T16:49:41.636Z"
   },
   {
    "duration": 386,
    "start_time": "2022-03-07T16:49:41.644Z"
   },
   {
    "duration": 13,
    "start_time": "2022-03-07T16:49:42.033Z"
   },
   {
    "duration": 26,
    "start_time": "2022-03-07T16:49:42.049Z"
   },
   {
    "duration": 15,
    "start_time": "2022-03-07T16:49:42.078Z"
   },
   {
    "duration": 16,
    "start_time": "2022-03-07T16:49:42.095Z"
   },
   {
    "duration": 11,
    "start_time": "2022-03-07T16:49:42.114Z"
   },
   {
    "duration": 67,
    "start_time": "2022-03-07T16:49:42.127Z"
   },
   {
    "duration": 10,
    "start_time": "2022-03-07T16:49:42.198Z"
   },
   {
    "duration": 335,
    "start_time": "2022-03-07T16:49:42.211Z"
   },
   {
    "duration": 6,
    "start_time": "2022-03-07T16:49:42.548Z"
   },
   {
    "duration": 38,
    "start_time": "2022-03-07T16:49:42.556Z"
   },
   {
    "duration": 10,
    "start_time": "2022-03-07T16:49:42.597Z"
   },
   {
    "duration": 14,
    "start_time": "2022-03-07T16:49:42.609Z"
   },
   {
    "duration": 48,
    "start_time": "2022-03-07T16:49:42.626Z"
   },
   {
    "duration": 21,
    "start_time": "2022-03-07T16:49:42.677Z"
   },
   {
    "duration": 23,
    "start_time": "2022-03-07T16:49:42.700Z"
   },
   {
    "duration": 11,
    "start_time": "2022-03-07T16:49:42.725Z"
   },
   {
    "duration": 41,
    "start_time": "2022-03-07T16:49:42.738Z"
   },
   {
    "duration": 41,
    "start_time": "2022-03-07T16:49:42.781Z"
   },
   {
    "duration": 11,
    "start_time": "2022-03-07T16:49:42.824Z"
   },
   {
    "duration": 56,
    "start_time": "2022-03-07T16:49:42.873Z"
   },
   {
    "duration": 56,
    "start_time": "2022-03-07T16:49:42.931Z"
   },
   {
    "duration": 30,
    "start_time": "2022-03-07T16:49:42.989Z"
   },
   {
    "duration": 69,
    "start_time": "2022-03-07T16:49:43.022Z"
   },
   {
    "duration": 36,
    "start_time": "2022-03-07T16:49:43.094Z"
   },
   {
    "duration": 54,
    "start_time": "2022-03-07T16:49:43.136Z"
   },
   {
    "duration": 12,
    "start_time": "2022-03-07T16:49:43.193Z"
   },
   {
    "duration": 68,
    "start_time": "2022-03-07T16:49:43.208Z"
   },
   {
    "duration": 17,
    "start_time": "2022-03-07T16:49:43.278Z"
   },
   {
    "duration": 22,
    "start_time": "2022-03-07T16:49:43.297Z"
   },
   {
    "duration": 63,
    "start_time": "2022-03-07T16:49:43.321Z"
   },
   {
    "duration": 36,
    "start_time": "2022-03-07T16:49:43.386Z"
   },
   {
    "duration": 14,
    "start_time": "2022-03-07T16:49:43.425Z"
   },
   {
    "duration": 67,
    "start_time": "2022-03-07T16:49:43.473Z"
   },
   {
    "duration": 58,
    "start_time": "2022-03-07T16:49:43.542Z"
   },
   {
    "duration": 23,
    "start_time": "2022-03-07T16:49:43.603Z"
   },
   {
    "duration": 60,
    "start_time": "2022-03-07T16:49:43.628Z"
   },
   {
    "duration": 12,
    "start_time": "2022-03-07T16:49:43.690Z"
   },
   {
    "duration": 83,
    "start_time": "2022-03-07T16:49:43.704Z"
   },
   {
    "duration": 39,
    "start_time": "2022-03-07T16:49:43.790Z"
   },
   {
    "duration": 69,
    "start_time": "2022-03-07T16:49:43.831Z"
   },
   {
    "duration": 37,
    "start_time": "2022-03-07T16:49:43.902Z"
   },
   {
    "duration": 59,
    "start_time": "2022-03-07T16:49:43.941Z"
   },
   {
    "duration": 27,
    "start_time": "2022-03-07T16:49:44.003Z"
   },
   {
    "duration": 48,
    "start_time": "2022-03-07T16:49:44.032Z"
   },
   {
    "duration": 13,
    "start_time": "2022-03-07T16:49:44.083Z"
   },
   {
    "duration": 15,
    "start_time": "2022-03-07T16:49:44.098Z"
   },
   {
    "duration": 11,
    "start_time": "2022-03-07T16:49:44.116Z"
   },
   {
    "duration": 53,
    "start_time": "2022-03-07T16:49:44.129Z"
   },
   {
    "duration": 12,
    "start_time": "2022-03-07T16:49:44.185Z"
   },
   {
    "duration": 16,
    "start_time": "2022-03-07T16:49:44.200Z"
   },
   {
    "duration": 61,
    "start_time": "2022-03-07T16:49:44.219Z"
   },
   {
    "duration": 7,
    "start_time": "2022-03-07T16:49:44.283Z"
   },
   {
    "duration": 9,
    "start_time": "2022-03-07T16:49:44.292Z"
   },
   {
    "duration": 71,
    "start_time": "2022-03-07T16:49:44.304Z"
   },
   {
    "duration": 263,
    "start_time": "2022-03-07T16:49:44.378Z"
   },
   {
    "duration": -498,
    "start_time": "2022-03-07T16:49:45.141Z"
   },
   {
    "duration": -500,
    "start_time": "2022-03-07T16:49:45.144Z"
   },
   {
    "duration": -500,
    "start_time": "2022-03-07T16:49:45.146Z"
   },
   {
    "duration": -500,
    "start_time": "2022-03-07T16:49:45.148Z"
   },
   {
    "duration": -506,
    "start_time": "2022-03-07T16:49:45.156Z"
   },
   {
    "duration": -507,
    "start_time": "2022-03-07T16:49:45.158Z"
   },
   {
    "duration": -507,
    "start_time": "2022-03-07T16:49:45.160Z"
   },
   {
    "duration": -508,
    "start_time": "2022-03-07T16:49:45.162Z"
   },
   {
    "duration": -509,
    "start_time": "2022-03-07T16:49:45.164Z"
   },
   {
    "duration": -513,
    "start_time": "2022-03-07T16:49:45.169Z"
   },
   {
    "duration": -514,
    "start_time": "2022-03-07T16:49:45.171Z"
   },
   {
    "duration": -514,
    "start_time": "2022-03-07T16:49:45.172Z"
   },
   {
    "duration": -514,
    "start_time": "2022-03-07T16:49:45.174Z"
   },
   {
    "duration": 20,
    "start_time": "2022-03-07T16:50:38.817Z"
   },
   {
    "duration": 13,
    "start_time": "2022-03-07T16:50:48.003Z"
   },
   {
    "duration": 6,
    "start_time": "2022-03-07T16:50:51.045Z"
   },
   {
    "duration": 4,
    "start_time": "2022-03-07T16:50:54.610Z"
   },
   {
    "duration": 6,
    "start_time": "2022-03-07T16:50:55.889Z"
   },
   {
    "duration": 10,
    "start_time": "2022-03-07T16:51:15.079Z"
   },
   {
    "duration": 4,
    "start_time": "2022-03-07T16:51:54.356Z"
   },
   {
    "duration": 273,
    "start_time": "2022-03-07T16:52:15.122Z"
   },
   {
    "duration": 6,
    "start_time": "2022-03-07T16:52:21.463Z"
   },
   {
    "duration": 4,
    "start_time": "2022-03-07T16:53:41.660Z"
   },
   {
    "duration": 6,
    "start_time": "2022-03-07T16:54:36.382Z"
   },
   {
    "duration": 276,
    "start_time": "2022-03-07T17:16:15.872Z"
   },
   {
    "duration": 33,
    "start_time": "2022-03-07T17:16:24.478Z"
   },
   {
    "duration": 6467,
    "start_time": "2022-03-07T17:20:11.309Z"
   },
   {
    "duration": 35,
    "start_time": "2022-03-07T17:21:53.127Z"
   },
   {
    "duration": 35,
    "start_time": "2022-03-07T17:21:59.546Z"
   },
   {
    "duration": 21,
    "start_time": "2022-03-07T17:22:00.698Z"
   },
   {
    "duration": 5,
    "start_time": "2022-03-07T18:20:40.839Z"
   },
   {
    "duration": 370,
    "start_time": "2022-03-07T18:20:42.752Z"
   },
   {
    "duration": 14,
    "start_time": "2022-03-07T18:20:43.125Z"
   },
   {
    "duration": 19,
    "start_time": "2022-03-07T18:20:43.142Z"
   },
   {
    "duration": 22,
    "start_time": "2022-03-07T18:20:43.164Z"
   },
   {
    "duration": 18,
    "start_time": "2022-03-07T18:20:43.189Z"
   },
   {
    "duration": 13,
    "start_time": "2022-03-07T18:20:43.209Z"
   },
   {
    "duration": 57,
    "start_time": "2022-03-07T18:20:43.225Z"
   },
   {
    "duration": 12,
    "start_time": "2022-03-07T18:20:43.285Z"
   },
   {
    "duration": 312,
    "start_time": "2022-03-07T18:20:43.301Z"
   },
   {
    "duration": 6,
    "start_time": "2022-03-07T18:20:43.616Z"
   },
   {
    "duration": 22,
    "start_time": "2022-03-07T18:20:44.982Z"
   },
   {
    "duration": 59,
    "start_time": "2022-03-07T18:20:45.008Z"
   },
   {
    "duration": 12,
    "start_time": "2022-03-07T18:20:45.206Z"
   },
   {
    "duration": 14,
    "start_time": "2022-03-07T18:20:45.222Z"
   },
   {
    "duration": 23,
    "start_time": "2022-03-07T18:20:45.240Z"
   },
   {
    "duration": 15,
    "start_time": "2022-03-07T18:20:45.267Z"
   },
   {
    "duration": 11,
    "start_time": "2022-03-07T18:20:45.284Z"
   },
   {
    "duration": 5,
    "start_time": "2022-03-07T18:20:45.388Z"
   },
   {
    "duration": 42,
    "start_time": "2022-03-07T18:20:45.396Z"
   },
   {
    "duration": 12,
    "start_time": "2022-03-07T18:20:45.440Z"
   },
   {
    "duration": 69,
    "start_time": "2022-03-07T18:20:45.454Z"
   },
   {
    "duration": 48,
    "start_time": "2022-03-07T18:20:45.526Z"
   },
   {
    "duration": 27,
    "start_time": "2022-03-07T18:20:45.576Z"
   },
   {
    "duration": 30,
    "start_time": "2022-03-07T18:20:45.605Z"
   },
   {
    "duration": 63,
    "start_time": "2022-03-07T18:20:45.638Z"
   },
   {
    "duration": 29,
    "start_time": "2022-03-07T18:20:45.704Z"
   },
   {
    "duration": 46,
    "start_time": "2022-03-07T18:20:45.736Z"
   },
   {
    "duration": 31,
    "start_time": "2022-03-07T18:20:45.785Z"
   },
   {
    "duration": 53,
    "start_time": "2022-03-07T18:20:45.820Z"
   },
   {
    "duration": 19,
    "start_time": "2022-03-07T18:20:45.877Z"
   },
   {
    "duration": 23,
    "start_time": "2022-03-07T18:20:45.898Z"
   },
   {
    "duration": 66,
    "start_time": "2022-03-07T18:20:45.923Z"
   },
   {
    "duration": 15,
    "start_time": "2022-03-07T18:20:45.992Z"
   },
   {
    "duration": 111,
    "start_time": "2022-03-07T18:20:46.010Z"
   },
   {
    "duration": 23,
    "start_time": "2022-03-07T18:20:46.124Z"
   },
   {
    "duration": 39,
    "start_time": "2022-03-07T18:20:46.149Z"
   },
   {
    "duration": 27,
    "start_time": "2022-03-07T18:20:46.190Z"
   },
   {
    "duration": 11,
    "start_time": "2022-03-07T18:20:46.219Z"
   },
   {
    "duration": 96,
    "start_time": "2022-03-07T18:20:46.233Z"
   },
   {
    "duration": 62,
    "start_time": "2022-03-07T18:20:46.332Z"
   },
   {
    "duration": 46,
    "start_time": "2022-03-07T18:20:46.396Z"
   },
   {
    "duration": 59,
    "start_time": "2022-03-07T18:20:46.445Z"
   },
   {
    "duration": 26,
    "start_time": "2022-03-07T18:20:46.506Z"
   },
   {
    "duration": 46,
    "start_time": "2022-03-07T18:20:46.535Z"
   },
   {
    "duration": 12,
    "start_time": "2022-03-07T18:20:46.583Z"
   },
   {
    "duration": 8,
    "start_time": "2022-03-07T18:20:46.597Z"
   },
   {
    "duration": 7,
    "start_time": "2022-03-07T18:20:46.607Z"
   },
   {
    "duration": 6,
    "start_time": "2022-03-07T18:20:46.620Z"
   },
   {
    "duration": 52,
    "start_time": "2022-03-07T18:20:46.629Z"
   },
   {
    "duration": 4,
    "start_time": "2022-03-07T18:20:46.684Z"
   },
   {
    "duration": 10,
    "start_time": "2022-03-07T18:20:46.691Z"
   },
   {
    "duration": 43,
    "start_time": "2022-03-07T18:20:46.703Z"
   },
   {
    "duration": 26,
    "start_time": "2022-03-07T18:20:46.748Z"
   },
   {
    "duration": 9,
    "start_time": "2022-03-07T18:20:46.776Z"
   },
   {
    "duration": 37,
    "start_time": "2022-03-07T18:20:46.788Z"
   },
   {
    "duration": 50,
    "start_time": "2022-03-07T18:20:46.828Z"
   },
   {
    "duration": 14,
    "start_time": "2022-03-07T18:20:46.881Z"
   },
   {
    "duration": 15,
    "start_time": "2022-03-07T18:20:46.898Z"
   },
   {
    "duration": 22,
    "start_time": "2022-03-07T18:20:46.916Z"
   },
   {
    "duration": 24,
    "start_time": "2022-03-07T18:20:46.941Z"
   },
   {
    "duration": 23,
    "start_time": "2022-03-07T18:20:46.967Z"
   },
   {
    "duration": 14,
    "start_time": "2022-03-07T18:20:46.993Z"
   },
   {
    "duration": 12,
    "start_time": "2022-03-07T18:20:47.010Z"
   },
   {
    "duration": 69,
    "start_time": "2022-03-07T18:20:47.024Z"
   },
   {
    "duration": 7,
    "start_time": "2022-03-07T18:20:47.095Z"
   },
   {
    "duration": 20,
    "start_time": "2022-03-07T18:20:47.105Z"
   },
   {
    "duration": 52,
    "start_time": "2022-03-07T18:20:47.127Z"
   },
   {
    "duration": 37,
    "start_time": "2022-03-07T18:20:47.181Z"
   },
   {
    "duration": 272,
    "start_time": "2022-03-07T18:20:47.221Z"
   },
   {
    "duration": -1403,
    "start_time": "2022-03-07T18:20:48.898Z"
   },
   {
    "duration": -1404,
    "start_time": "2022-03-07T18:20:48.900Z"
   },
   {
    "duration": -1536,
    "start_time": "2022-03-07T18:20:49.034Z"
   },
   {
    "duration": -1538,
    "start_time": "2022-03-07T18:20:49.037Z"
   },
   {
    "duration": -1539,
    "start_time": "2022-03-07T18:20:49.039Z"
   },
   {
    "duration": -1539,
    "start_time": "2022-03-07T18:20:49.041Z"
   },
   {
    "duration": -1541,
    "start_time": "2022-03-07T18:20:49.044Z"
   },
   {
    "duration": 19,
    "start_time": "2022-03-07T18:23:05.556Z"
   },
   {
    "duration": 18,
    "start_time": "2022-03-07T18:23:15.920Z"
   },
   {
    "duration": 16,
    "start_time": "2022-03-07T18:23:41.717Z"
   },
   {
    "duration": 14,
    "start_time": "2022-03-07T18:24:08.251Z"
   },
   {
    "duration": 122,
    "start_time": "2022-03-07T18:25:21.071Z"
   },
   {
    "duration": 463,
    "start_time": "2022-03-07T18:29:56.111Z"
   },
   {
    "duration": 438,
    "start_time": "2022-03-07T18:30:09.085Z"
   },
   {
    "duration": 108,
    "start_time": "2022-03-07T18:30:18.379Z"
   },
   {
    "duration": 163,
    "start_time": "2022-03-07T18:31:04.824Z"
   },
   {
    "duration": 161,
    "start_time": "2022-03-07T18:31:50.559Z"
   },
   {
    "duration": 631,
    "start_time": "2022-03-07T18:31:59.883Z"
   },
   {
    "duration": 489,
    "start_time": "2022-03-07T18:32:59.984Z"
   },
   {
    "duration": 968,
    "start_time": "2022-03-07T18:33:12.890Z"
   },
   {
    "duration": 177,
    "start_time": "2022-03-07T18:35:03.531Z"
   },
   {
    "duration": 92,
    "start_time": "2022-03-07T18:35:30.588Z"
   },
   {
    "duration": 152,
    "start_time": "2022-03-07T18:37:30.011Z"
   },
   {
    "duration": 860,
    "start_time": "2022-03-07T18:37:53.228Z"
   },
   {
    "duration": 417,
    "start_time": "2022-03-07T18:38:27.680Z"
   },
   {
    "duration": 429,
    "start_time": "2022-03-07T18:38:36.669Z"
   },
   {
    "duration": 843,
    "start_time": "2022-03-07T18:42:03.225Z"
   },
   {
    "duration": 1102,
    "start_time": "2022-03-07T18:42:22.975Z"
   },
   {
    "duration": 406,
    "start_time": "2022-03-07T18:45:36.237Z"
   },
   {
    "duration": 493,
    "start_time": "2022-03-07T18:47:27.913Z"
   },
   {
    "duration": 607,
    "start_time": "2022-03-07T18:47:39.548Z"
   },
   {
    "duration": 415,
    "start_time": "2022-03-07T18:47:48.213Z"
   },
   {
    "duration": 466,
    "start_time": "2022-03-07T18:48:24.786Z"
   },
   {
    "duration": 468,
    "start_time": "2022-03-07T18:48:33.416Z"
   },
   {
    "duration": 432,
    "start_time": "2022-03-07T18:48:45.789Z"
   },
   {
    "duration": 491,
    "start_time": "2022-03-07T18:49:09.634Z"
   },
   {
    "duration": 506,
    "start_time": "2022-03-07T18:49:33.188Z"
   },
   {
    "duration": 967,
    "start_time": "2022-03-07T18:49:48.187Z"
   },
   {
    "duration": 402,
    "start_time": "2022-03-07T18:50:20.210Z"
   },
   {
    "duration": 623,
    "start_time": "2022-03-07T18:51:06.201Z"
   },
   {
    "duration": 605,
    "start_time": "2022-03-07T18:51:21.999Z"
   },
   {
    "duration": 621,
    "start_time": "2022-03-07T18:52:16.909Z"
   },
   {
    "duration": 628,
    "start_time": "2022-03-07T18:52:24.129Z"
   },
   {
    "duration": 17,
    "start_time": "2022-03-07T18:53:15.470Z"
   },
   {
    "duration": 24,
    "start_time": "2022-03-07T18:53:54.116Z"
   },
   {
    "duration": 275,
    "start_time": "2022-03-07T18:54:23.790Z"
   },
   {
    "duration": 25,
    "start_time": "2022-03-07T18:56:31.144Z"
   },
   {
    "duration": 6503,
    "start_time": "2022-03-07T18:56:49.971Z"
   },
   {
    "duration": 21,
    "start_time": "2022-03-07T18:57:06.999Z"
   },
   {
    "duration": 22,
    "start_time": "2022-03-07T18:58:01.208Z"
   },
   {
    "duration": 439,
    "start_time": "2022-03-07T18:58:06.122Z"
   },
   {
    "duration": 271,
    "start_time": "2022-03-07T18:58:22.598Z"
   },
   {
    "duration": 6973,
    "start_time": "2022-03-07T18:58:28.031Z"
   },
   {
    "duration": -280,
    "start_time": "2022-03-07T19:02:46.029Z"
   },
   {
    "duration": 114,
    "start_time": "2022-03-07T19:02:57.216Z"
   },
   {
    "duration": 165,
    "start_time": "2022-03-07T19:03:42.614Z"
   },
   {
    "duration": 148,
    "start_time": "2022-03-07T19:03:55.838Z"
   },
   {
    "duration": 172,
    "start_time": "2022-03-07T19:04:07.251Z"
   },
   {
    "duration": 268,
    "start_time": "2022-03-07T19:08:44.954Z"
   },
   {
    "duration": 635,
    "start_time": "2022-03-07T19:10:09.434Z"
   },
   {
    "duration": 286,
    "start_time": "2022-03-07T19:11:32.776Z"
   },
   {
    "duration": 329,
    "start_time": "2022-03-07T19:12:25.171Z"
   },
   {
    "duration": 337,
    "start_time": "2022-03-07T19:12:54.791Z"
   },
   {
    "duration": 326,
    "start_time": "2022-03-07T19:13:01.387Z"
   },
   {
    "duration": 623,
    "start_time": "2022-03-07T19:13:10.170Z"
   },
   {
    "duration": 346,
    "start_time": "2022-03-07T19:13:20.073Z"
   },
   {
    "duration": 545,
    "start_time": "2022-03-07T19:13:32.147Z"
   },
   {
    "duration": 332,
    "start_time": "2022-03-07T19:13:47.883Z"
   },
   {
    "duration": 346,
    "start_time": "2022-03-07T19:13:54.846Z"
   },
   {
    "duration": 335,
    "start_time": "2022-03-07T19:14:03.925Z"
   },
   {
    "duration": 332,
    "start_time": "2022-03-07T19:14:16.809Z"
   },
   {
    "duration": 16,
    "start_time": "2022-03-07T19:15:22.828Z"
   },
   {
    "duration": 673,
    "start_time": "2022-03-07T19:16:26.706Z"
   },
   {
    "duration": 15,
    "start_time": "2022-03-07T19:16:33.401Z"
   },
   {
    "duration": 681,
    "start_time": "2022-03-07T19:17:12.514Z"
   },
   {
    "duration": 763,
    "start_time": "2022-03-07T19:17:47.960Z"
   },
   {
    "duration": 24,
    "start_time": "2022-03-07T19:18:00.445Z"
   },
   {
    "duration": 34,
    "start_time": "2022-03-07T19:18:25.287Z"
   },
   {
    "duration": 33,
    "start_time": "2022-03-07T19:18:35.723Z"
   },
   {
    "duration": 51,
    "start_time": "2022-03-07T19:19:13.680Z"
   },
   {
    "duration": 281,
    "start_time": "2022-03-07T19:20:33.262Z"
   },
   {
    "duration": 217,
    "start_time": "2022-03-07T19:22:18.618Z"
   },
   {
    "duration": 286,
    "start_time": "2022-03-07T19:22:42.870Z"
   },
   {
    "duration": 216,
    "start_time": "2022-03-07T19:23:05.289Z"
   },
   {
    "duration": 243,
    "start_time": "2022-03-07T19:23:13.649Z"
   },
   {
    "duration": 335,
    "start_time": "2022-03-07T19:24:03.943Z"
   },
   {
    "duration": 52,
    "start_time": "2022-03-07T19:24:07.153Z"
   },
   {
    "duration": 22,
    "start_time": "2022-03-07T19:25:04.667Z"
   },
   {
    "duration": 495,
    "start_time": "2022-03-07T19:25:33.844Z"
   },
   {
    "duration": 222,
    "start_time": "2022-03-07T19:26:12.260Z"
   },
   {
    "duration": 317,
    "start_time": "2022-03-07T19:26:17.259Z"
   },
   {
    "duration": 49,
    "start_time": "2022-03-07T19:26:59.336Z"
   },
   {
    "duration": 333,
    "start_time": "2022-03-07T19:29:04.680Z"
   },
   {
    "duration": 78,
    "start_time": "2022-03-07T19:29:09.767Z"
   },
   {
    "duration": 322,
    "start_time": "2022-03-07T19:29:12.731Z"
   },
   {
    "duration": 223,
    "start_time": "2022-03-07T19:29:15.743Z"
   },
   {
    "duration": 151,
    "start_time": "2022-03-07T19:55:18.346Z"
   },
   {
    "duration": 147,
    "start_time": "2022-03-07T19:55:44.281Z"
   },
   {
    "duration": 6703,
    "start_time": "2022-03-07T19:55:52.798Z"
   },
   {
    "duration": 840,
    "start_time": "2022-03-07T19:56:25.056Z"
   },
   {
    "duration": 1079,
    "start_time": "2022-03-07T19:56:31.358Z"
   },
   {
    "duration": 6653,
    "start_time": "2022-03-07T19:57:22.066Z"
   },
   {
    "duration": 155,
    "start_time": "2022-03-07T19:57:43.166Z"
   },
   {
    "duration": 149,
    "start_time": "2022-03-07T19:58:04.227Z"
   },
   {
    "duration": 101,
    "start_time": "2022-03-07T19:58:21.901Z"
   },
   {
    "duration": 121,
    "start_time": "2022-03-07T19:58:27.277Z"
   },
   {
    "duration": 415,
    "start_time": "2022-03-07T19:58:44.626Z"
   },
   {
    "duration": 649,
    "start_time": "2022-03-07T19:58:52.827Z"
   },
   {
    "duration": 111,
    "start_time": "2022-03-07T19:59:10.412Z"
   },
   {
    "duration": 18,
    "start_time": "2022-03-07T19:59:27.979Z"
   },
   {
    "duration": 6762,
    "start_time": "2022-03-07T19:59:47.621Z"
   },
   {
    "duration": 272,
    "start_time": "2022-03-07T20:00:41.362Z"
   },
   {
    "duration": 262,
    "start_time": "2022-03-07T20:00:55.097Z"
   },
   {
    "duration": 14,
    "start_time": "2022-03-07T20:02:22.846Z"
   },
   {
    "duration": 310,
    "start_time": "2022-03-07T20:02:36.138Z"
   },
   {
    "duration": 13,
    "start_time": "2022-03-07T20:02:46.625Z"
   },
   {
    "duration": 16,
    "start_time": "2022-03-07T20:02:51.144Z"
   },
   {
    "duration": 266,
    "start_time": "2022-03-07T20:03:16.311Z"
   },
   {
    "duration": 288,
    "start_time": "2022-03-07T20:03:31.937Z"
   },
   {
    "duration": 17,
    "start_time": "2022-03-07T20:03:47.346Z"
   },
   {
    "duration": 5,
    "start_time": "2022-03-07T20:04:00.256Z"
   },
   {
    "duration": 398,
    "start_time": "2022-03-07T20:04:00.264Z"
   },
   {
    "duration": 13,
    "start_time": "2022-03-07T20:04:00.665Z"
   },
   {
    "duration": 28,
    "start_time": "2022-03-07T20:04:00.681Z"
   },
   {
    "duration": 24,
    "start_time": "2022-03-07T20:04:00.712Z"
   },
   {
    "duration": 47,
    "start_time": "2022-03-07T20:04:00.738Z"
   },
   {
    "duration": 22,
    "start_time": "2022-03-07T20:04:00.787Z"
   },
   {
    "duration": 25,
    "start_time": "2022-03-07T20:04:00.811Z"
   },
   {
    "duration": 10,
    "start_time": "2022-03-07T20:04:00.840Z"
   },
   {
    "duration": 295,
    "start_time": "2022-03-07T20:04:00.853Z"
   },
   {
    "duration": 6,
    "start_time": "2022-03-07T20:04:01.151Z"
   },
   {
    "duration": 37,
    "start_time": "2022-03-07T20:04:01.159Z"
   },
   {
    "duration": 22,
    "start_time": "2022-03-07T20:04:01.198Z"
   },
   {
    "duration": 252,
    "start_time": "2022-03-07T20:04:01.222Z"
   },
   {
    "duration": 17,
    "start_time": "2022-03-07T20:04:01.476Z"
   },
   {
    "duration": 35,
    "start_time": "2022-03-07T20:04:01.496Z"
   },
   {
    "duration": 26,
    "start_time": "2022-03-07T20:04:01.533Z"
   },
   {
    "duration": 13,
    "start_time": "2022-03-07T20:04:01.562Z"
   },
   {
    "duration": 13,
    "start_time": "2022-03-07T20:04:01.577Z"
   },
   {
    "duration": 49,
    "start_time": "2022-03-07T20:04:01.593Z"
   },
   {
    "duration": 12,
    "start_time": "2022-03-07T20:04:01.644Z"
   },
   {
    "duration": 75,
    "start_time": "2022-03-07T20:04:01.659Z"
   },
   {
    "duration": 49,
    "start_time": "2022-03-07T20:04:01.736Z"
   },
   {
    "duration": 27,
    "start_time": "2022-03-07T20:04:01.787Z"
   },
   {
    "duration": 57,
    "start_time": "2022-03-07T20:04:01.817Z"
   },
   {
    "duration": 32,
    "start_time": "2022-03-07T20:04:01.877Z"
   },
   {
    "duration": 28,
    "start_time": "2022-03-07T20:04:01.916Z"
   },
   {
    "duration": 12,
    "start_time": "2022-03-07T20:04:01.972Z"
   },
   {
    "duration": 44,
    "start_time": "2022-03-07T20:04:01.986Z"
   },
   {
    "duration": 18,
    "start_time": "2022-03-07T20:04:02.032Z"
   },
   {
    "duration": 21,
    "start_time": "2022-03-07T20:04:02.074Z"
   },
   {
    "duration": 23,
    "start_time": "2022-03-07T20:04:02.097Z"
   },
   {
    "duration": 66,
    "start_time": "2022-03-07T20:04:02.123Z"
   },
   {
    "duration": 13,
    "start_time": "2022-03-07T20:04:02.191Z"
   },
   {
    "duration": 111,
    "start_time": "2022-03-07T20:04:02.206Z"
   },
   {
    "duration": 21,
    "start_time": "2022-03-07T20:04:02.320Z"
   },
   {
    "duration": 36,
    "start_time": "2022-03-07T20:04:02.344Z"
   },
   {
    "duration": 29,
    "start_time": "2022-03-07T20:04:02.382Z"
   },
   {
    "duration": 14,
    "start_time": "2022-03-07T20:04:02.414Z"
   },
   {
    "duration": 95,
    "start_time": "2022-03-07T20:04:02.431Z"
   },
   {
    "duration": 59,
    "start_time": "2022-03-07T20:04:02.528Z"
   },
   {
    "duration": 46,
    "start_time": "2022-03-07T20:04:02.590Z"
   },
   {
    "duration": 64,
    "start_time": "2022-03-07T20:04:02.638Z"
   },
   {
    "duration": 29,
    "start_time": "2022-03-07T20:04:02.705Z"
   },
   {
    "duration": 45,
    "start_time": "2022-03-07T20:04:02.736Z"
   },
   {
    "duration": 13,
    "start_time": "2022-03-07T20:04:02.783Z"
   },
   {
    "duration": 10,
    "start_time": "2022-03-07T20:04:02.799Z"
   },
   {
    "duration": 8,
    "start_time": "2022-03-07T20:04:02.812Z"
   },
   {
    "duration": 14,
    "start_time": "2022-03-07T20:04:02.823Z"
   },
   {
    "duration": 42,
    "start_time": "2022-03-07T20:04:02.839Z"
   },
   {
    "duration": 8,
    "start_time": "2022-03-07T20:04:02.883Z"
   },
   {
    "duration": 10,
    "start_time": "2022-03-07T20:04:02.894Z"
   },
   {
    "duration": 34,
    "start_time": "2022-03-07T20:04:02.907Z"
   },
   {
    "duration": 4,
    "start_time": "2022-03-07T20:04:02.973Z"
   },
   {
    "duration": 10,
    "start_time": "2022-03-07T20:04:02.980Z"
   },
   {
    "duration": 38,
    "start_time": "2022-03-07T20:04:02.992Z"
   },
   {
    "duration": 48,
    "start_time": "2022-03-07T20:04:03.032Z"
   },
   {
    "duration": 16,
    "start_time": "2022-03-07T20:04:03.083Z"
   },
   {
    "duration": 8,
    "start_time": "2022-03-07T20:04:03.101Z"
   },
   {
    "duration": 7,
    "start_time": "2022-03-07T20:04:03.112Z"
   },
   {
    "duration": 9,
    "start_time": "2022-03-07T20:04:03.122Z"
   },
   {
    "duration": 45,
    "start_time": "2022-03-07T20:04:03.133Z"
   },
   {
    "duration": 4,
    "start_time": "2022-03-07T20:04:03.180Z"
   },
   {
    "duration": 15,
    "start_time": "2022-03-07T20:04:03.187Z"
   },
   {
    "duration": 36,
    "start_time": "2022-03-07T20:04:03.205Z"
   },
   {
    "duration": 5,
    "start_time": "2022-03-07T20:04:03.244Z"
   },
   {
    "duration": 7,
    "start_time": "2022-03-07T20:04:03.275Z"
   },
   {
    "duration": 42,
    "start_time": "2022-03-07T20:04:03.284Z"
   },
   {
    "duration": 54,
    "start_time": "2022-03-07T20:04:03.328Z"
   },
   {
    "duration": 19,
    "start_time": "2022-03-07T20:04:03.384Z"
   },
   {
    "duration": 355,
    "start_time": "2022-03-07T20:04:03.405Z"
   },
   {
    "duration": 61,
    "start_time": "2022-03-07T20:04:03.763Z"
   },
   {
    "duration": 237,
    "start_time": "2022-03-07T20:04:03.826Z"
   },
   {
    "duration": 223,
    "start_time": "2022-03-07T20:04:04.065Z"
   },
   {
    "duration": 366,
    "start_time": "2022-03-07T20:04:04.290Z"
   },
   {
    "duration": 61,
    "start_time": "2022-03-07T20:04:04.659Z"
   },
   {
    "duration": 266,
    "start_time": "2022-03-07T20:04:04.723Z"
   },
   {
    "duration": 238,
    "start_time": "2022-03-07T20:04:04.991Z"
   },
   {
    "duration": 335,
    "start_time": "2022-03-07T20:04:05.231Z"
   },
   {
    "duration": 50,
    "start_time": "2022-03-07T20:04:05.573Z"
   },
   {
    "duration": 231,
    "start_time": "2022-03-07T20:04:05.632Z"
   },
   {
    "duration": 340,
    "start_time": "2022-03-07T20:04:05.874Z"
   },
   {
    "duration": 3,
    "start_time": "2022-03-07T20:04:06.216Z"
   },
   {
    "duration": 7,
    "start_time": "2022-03-07T20:04:06.221Z"
   },
   {
    "duration": 270,
    "start_time": "2022-03-07T20:04:11.075Z"
   },
   {
    "duration": 91,
    "start_time": "2022-03-07T20:04:29.526Z"
   },
   {
    "duration": 274,
    "start_time": "2022-03-07T20:04:39.963Z"
   },
   {
    "duration": 291,
    "start_time": "2022-03-07T20:04:48.677Z"
   },
   {
    "duration": 266,
    "start_time": "2022-03-07T20:05:05.898Z"
   },
   {
    "duration": 40,
    "start_time": "2022-03-07T20:05:59.162Z"
   },
   {
    "duration": 51,
    "start_time": "2022-03-07T20:06:05.611Z"
   },
   {
    "duration": -360,
    "start_time": "2022-03-07T20:08:23.256Z"
   },
   {
    "duration": 55,
    "start_time": "2022-03-07T20:08:24.815Z"
   },
   {
    "duration": 79,
    "start_time": "2022-03-07T20:09:08.005Z"
   },
   {
    "duration": 2946,
    "start_time": "2022-03-07T20:09:16.888Z"
   },
   {
    "duration": 539,
    "start_time": "2022-03-07T20:10:10.263Z"
   },
   {
    "duration": 387,
    "start_time": "2022-03-07T20:10:19.371Z"
   },
   {
    "duration": 6660,
    "start_time": "2022-03-07T20:11:10.647Z"
   },
   {
    "duration": 358,
    "start_time": "2022-03-07T20:11:28.799Z"
   },
   {
    "duration": 557,
    "start_time": "2022-03-07T20:11:36.366Z"
   },
   {
    "duration": -333,
    "start_time": "2022-03-07T20:13:53.547Z"
   },
   {
    "duration": 19,
    "start_time": "2022-03-07T20:15:52.171Z"
   },
   {
    "duration": 18,
    "start_time": "2022-03-07T20:16:13.642Z"
   },
   {
    "duration": 18,
    "start_time": "2022-03-07T20:17:21.116Z"
   },
   {
    "duration": 52,
    "start_time": "2022-03-07T20:18:54.249Z"
   },
   {
    "duration": 8094,
    "start_time": "2022-03-07T20:19:39.511Z"
   },
   {
    "duration": 218,
    "start_time": "2022-03-07T20:19:57.511Z"
   },
   {
    "duration": 5,
    "start_time": "2022-03-08T01:54:15.963Z"
   },
   {
    "duration": 4,
    "start_time": "2022-03-08T02:07:21.879Z"
   },
   {
    "duration": 6,
    "start_time": "2022-03-08T02:08:01.962Z"
   },
   {
    "duration": 8,
    "start_time": "2022-03-08T02:08:48.832Z"
   },
   {
    "duration": 4,
    "start_time": "2022-03-08T02:18:20.803Z"
   },
   {
    "duration": 6,
    "start_time": "2022-03-08T02:18:21.551Z"
   },
   {
    "duration": 6,
    "start_time": "2022-03-08T02:18:30.964Z"
   },
   {
    "duration": 19,
    "start_time": "2022-03-08T02:18:47.329Z"
   },
   {
    "duration": 3,
    "start_time": "2022-03-08T02:18:58.316Z"
   },
   {
    "duration": 12,
    "start_time": "2022-03-08T02:19:00.245Z"
   },
   {
    "duration": 10,
    "start_time": "2022-03-08T02:19:12.412Z"
   },
   {
    "duration": 5,
    "start_time": "2022-03-08T02:19:19.692Z"
   },
   {
    "duration": 5,
    "start_time": "2022-03-08T02:19:32.827Z"
   },
   {
    "duration": 358,
    "start_time": "2022-03-08T02:19:32.838Z"
   },
   {
    "duration": 13,
    "start_time": "2022-03-08T02:19:33.199Z"
   },
   {
    "duration": 14,
    "start_time": "2022-03-08T02:19:33.215Z"
   },
   {
    "duration": 16,
    "start_time": "2022-03-08T02:19:33.232Z"
   },
   {
    "duration": 36,
    "start_time": "2022-03-08T02:19:33.250Z"
   },
   {
    "duration": 9,
    "start_time": "2022-03-08T02:19:33.288Z"
   },
   {
    "duration": 26,
    "start_time": "2022-03-08T02:19:33.299Z"
   },
   {
    "duration": 15,
    "start_time": "2022-03-08T02:19:33.327Z"
   },
   {
    "duration": 304,
    "start_time": "2022-03-08T02:19:33.374Z"
   },
   {
    "duration": 6,
    "start_time": "2022-03-08T02:19:33.681Z"
   },
   {
    "duration": 29,
    "start_time": "2022-03-08T02:19:33.689Z"
   },
   {
    "duration": 7,
    "start_time": "2022-03-08T02:19:33.720Z"
   },
   {
    "duration": 5,
    "start_time": "2022-03-08T02:19:33.730Z"
   },
   {
    "duration": 4,
    "start_time": "2022-03-08T02:19:33.774Z"
   },
   {
    "duration": 13,
    "start_time": "2022-03-08T02:19:33.780Z"
   },
   {
    "duration": 26,
    "start_time": "2022-03-08T02:19:33.795Z"
   },
   {
    "duration": 9,
    "start_time": "2022-03-08T02:19:33.823Z"
   },
   {
    "duration": 18,
    "start_time": "2022-03-08T02:19:33.834Z"
   },
   {
    "duration": 22,
    "start_time": "2022-03-08T02:19:33.854Z"
   },
   {
    "duration": 53,
    "start_time": "2022-03-08T02:19:33.879Z"
   },
   {
    "duration": 12,
    "start_time": "2022-03-08T02:19:33.935Z"
   },
   {
    "duration": 82,
    "start_time": "2022-03-08T02:19:33.949Z"
   },
   {
    "duration": 48,
    "start_time": "2022-03-08T02:19:34.033Z"
   },
   {
    "duration": 26,
    "start_time": "2022-03-08T02:19:34.083Z"
   },
   {
    "duration": 30,
    "start_time": "2022-03-08T02:19:34.112Z"
   },
   {
    "duration": 56,
    "start_time": "2022-03-08T02:19:34.144Z"
   },
   {
    "duration": 28,
    "start_time": "2022-03-08T02:19:34.207Z"
   },
   {
    "duration": 42,
    "start_time": "2022-03-08T02:19:34.241Z"
   },
   {
    "duration": 42,
    "start_time": "2022-03-08T02:19:34.285Z"
   },
   {
    "duration": 17,
    "start_time": "2022-03-08T02:19:34.330Z"
   },
   {
    "duration": 41,
    "start_time": "2022-03-08T02:19:34.350Z"
   },
   {
    "duration": 23,
    "start_time": "2022-03-08T02:19:34.394Z"
   },
   {
    "duration": 65,
    "start_time": "2022-03-08T02:19:34.420Z"
   },
   {
    "duration": 13,
    "start_time": "2022-03-08T02:19:34.488Z"
   },
   {
    "duration": 98,
    "start_time": "2022-03-08T02:19:34.503Z"
   },
   {
    "duration": 21,
    "start_time": "2022-03-08T02:19:34.603Z"
   },
   {
    "duration": 24,
    "start_time": "2022-03-08T02:19:34.626Z"
   },
   {
    "duration": 29,
    "start_time": "2022-03-08T02:19:34.672Z"
   },
   {
    "duration": 11,
    "start_time": "2022-03-08T02:19:34.703Z"
   },
   {
    "duration": 86,
    "start_time": "2022-03-08T02:19:34.717Z"
   },
   {
    "duration": 40,
    "start_time": "2022-03-08T02:19:34.805Z"
   },
   {
    "duration": 61,
    "start_time": "2022-03-08T02:19:34.847Z"
   },
   {
    "duration": 37,
    "start_time": "2022-03-08T02:19:34.911Z"
   },
   {
    "duration": 46,
    "start_time": "2022-03-08T02:19:34.950Z"
   },
   {
    "duration": 23,
    "start_time": "2022-03-08T02:19:34.998Z"
   },
   {
    "duration": 11,
    "start_time": "2022-03-08T02:19:35.024Z"
   },
   {
    "duration": 44,
    "start_time": "2022-03-08T02:19:35.037Z"
   },
   {
    "duration": 7,
    "start_time": "2022-03-08T02:19:35.083Z"
   },
   {
    "duration": 8,
    "start_time": "2022-03-08T02:19:35.092Z"
   },
   {
    "duration": 18,
    "start_time": "2022-03-08T02:19:35.102Z"
   },
   {
    "duration": 6,
    "start_time": "2022-03-08T02:19:35.122Z"
   },
   {
    "duration": 7,
    "start_time": "2022-03-08T02:19:35.130Z"
   },
   {
    "duration": 63,
    "start_time": "2022-03-08T02:19:35.139Z"
   },
   {
    "duration": 4,
    "start_time": "2022-03-08T02:19:35.205Z"
   },
   {
    "duration": 9,
    "start_time": "2022-03-08T02:19:35.211Z"
   },
   {
    "duration": 61,
    "start_time": "2022-03-08T02:19:35.222Z"
   },
   {
    "duration": 18,
    "start_time": "2022-03-08T02:19:35.286Z"
   },
   {
    "duration": 14,
    "start_time": "2022-03-08T02:19:35.306Z"
   },
   {
    "duration": 10,
    "start_time": "2022-03-08T02:19:35.322Z"
   },
   {
    "duration": 8,
    "start_time": "2022-03-08T02:19:35.334Z"
   },
   {
    "duration": 33,
    "start_time": "2022-03-08T02:19:35.344Z"
   },
   {
    "duration": 15,
    "start_time": "2022-03-08T02:19:35.379Z"
   },
   {
    "duration": 6,
    "start_time": "2022-03-08T02:19:35.397Z"
   },
   {
    "duration": 7,
    "start_time": "2022-03-08T02:19:35.406Z"
   },
   {
    "duration": 65,
    "start_time": "2022-03-08T02:19:35.415Z"
   },
   {
    "duration": 4,
    "start_time": "2022-03-08T02:19:35.483Z"
   },
   {
    "duration": 9,
    "start_time": "2022-03-08T02:19:35.489Z"
   },
   {
    "duration": 37,
    "start_time": "2022-03-08T02:19:35.501Z"
   },
   {
    "duration": 49,
    "start_time": "2022-03-08T02:19:35.540Z"
   },
   {
    "duration": -251,
    "start_time": "2022-03-08T02:21:54.447Z"
   },
   {
    "duration": -253,
    "start_time": "2022-03-08T02:21:54.451Z"
   },
   {
    "duration": -254,
    "start_time": "2022-03-08T02:21:54.455Z"
   },
   {
    "duration": -254,
    "start_time": "2022-03-08T02:21:54.457Z"
   },
   {
    "duration": -254,
    "start_time": "2022-03-08T02:21:54.460Z"
   },
   {
    "duration": -254,
    "start_time": "2022-03-08T02:21:54.462Z"
   },
   {
    "duration": -253,
    "start_time": "2022-03-08T02:21:54.464Z"
   },
   {
    "duration": -251,
    "start_time": "2022-03-08T02:21:54.466Z"
   },
   {
    "duration": -193,
    "start_time": "2022-03-08T02:21:54.468Z"
   },
   {
    "duration": -193,
    "start_time": "2022-03-08T02:21:54.470Z"
   },
   {
    "duration": -192,
    "start_time": "2022-03-08T02:21:54.472Z"
   },
   {
    "duration": -191,
    "start_time": "2022-03-08T02:21:54.474Z"
   },
   {
    "duration": -190,
    "start_time": "2022-03-08T02:21:54.475Z"
   },
   {
    "duration": -189,
    "start_time": "2022-03-08T02:21:54.477Z"
   },
   {
    "duration": -188,
    "start_time": "2022-03-08T02:21:54.479Z"
   },
   {
    "duration": -420,
    "start_time": "2022-03-08T02:21:54.713Z"
   },
   {
    "duration": -441,
    "start_time": "2022-03-08T02:21:54.737Z"
   },
   {
    "duration": -440,
    "start_time": "2022-03-08T02:21:54.738Z"
   },
   {
    "duration": -439,
    "start_time": "2022-03-08T02:21:54.740Z"
   },
   {
    "duration": -437,
    "start_time": "2022-03-08T02:21:54.741Z"
   },
   {
    "duration": -436,
    "start_time": "2022-03-08T02:21:54.742Z"
   },
   {
    "duration": -434,
    "start_time": "2022-03-08T02:21:54.743Z"
   },
   {
    "duration": -433,
    "start_time": "2022-03-08T02:21:54.744Z"
   },
   {
    "duration": -370,
    "start_time": "2022-03-08T02:21:54.745Z"
   },
   {
    "duration": -368,
    "start_time": "2022-03-08T02:21:54.746Z"
   },
   {
    "duration": -367,
    "start_time": "2022-03-08T02:21:54.747Z"
   },
   {
    "duration": -365,
    "start_time": "2022-03-08T02:21:54.748Z"
   },
   {
    "duration": -363,
    "start_time": "2022-03-08T02:21:54.749Z"
   },
   {
    "duration": -362,
    "start_time": "2022-03-08T02:21:54.750Z"
   },
   {
    "duration": -361,
    "start_time": "2022-03-08T02:21:54.751Z"
   },
   {
    "duration": -359,
    "start_time": "2022-03-08T02:21:54.752Z"
   },
   {
    "duration": -358,
    "start_time": "2022-03-08T02:21:54.753Z"
   },
   {
    "duration": -356,
    "start_time": "2022-03-08T02:21:54.754Z"
   },
   {
    "duration": -355,
    "start_time": "2022-03-08T02:21:54.755Z"
   },
   {
    "duration": -354,
    "start_time": "2022-03-08T02:21:54.757Z"
   },
   {
    "duration": -353,
    "start_time": "2022-03-08T02:21:54.758Z"
   },
   {
    "duration": -351,
    "start_time": "2022-03-08T02:21:54.759Z"
   },
   {
    "duration": -350,
    "start_time": "2022-03-08T02:21:54.760Z"
   },
   {
    "duration": -289,
    "start_time": "2022-03-08T02:21:54.761Z"
   },
   {
    "duration": -287,
    "start_time": "2022-03-08T02:21:54.762Z"
   },
   {
    "duration": -285,
    "start_time": "2022-03-08T02:21:54.763Z"
   },
   {
    "duration": -284,
    "start_time": "2022-03-08T02:21:54.764Z"
   },
   {
    "duration": -282,
    "start_time": "2022-03-08T02:21:54.765Z"
   },
   {
    "duration": -280,
    "start_time": "2022-03-08T02:21:54.766Z"
   },
   {
    "duration": -279,
    "start_time": "2022-03-08T02:21:54.767Z"
   },
   {
    "duration": -278,
    "start_time": "2022-03-08T02:21:54.768Z"
   },
   {
    "duration": -276,
    "start_time": "2022-03-08T02:21:54.769Z"
   },
   {
    "duration": -275,
    "start_time": "2022-03-08T02:21:54.770Z"
   },
   {
    "duration": -274,
    "start_time": "2022-03-08T02:21:54.771Z"
   },
   {
    "duration": -277,
    "start_time": "2022-03-08T02:21:54.777Z"
   },
   {
    "duration": -276,
    "start_time": "2022-03-08T02:21:54.778Z"
   },
   {
    "duration": -274,
    "start_time": "2022-03-08T02:21:54.779Z"
   },
   {
    "duration": -274,
    "start_time": "2022-03-08T02:21:54.781Z"
   },
   {
    "duration": -273,
    "start_time": "2022-03-08T02:21:54.782Z"
   },
   {
    "duration": -271,
    "start_time": "2022-03-08T02:21:54.783Z"
   },
   {
    "duration": -209,
    "start_time": "2022-03-08T02:21:54.784Z"
   },
   {
    "duration": -208,
    "start_time": "2022-03-08T02:21:54.785Z"
   },
   {
    "duration": -206,
    "start_time": "2022-03-08T02:21:54.786Z"
   },
   {
    "duration": -205,
    "start_time": "2022-03-08T02:21:54.787Z"
   },
   {
    "duration": -204,
    "start_time": "2022-03-08T02:21:54.788Z"
   },
   {
    "duration": -203,
    "start_time": "2022-03-08T02:21:54.789Z"
   },
   {
    "duration": -201,
    "start_time": "2022-03-08T02:21:54.790Z"
   },
   {
    "duration": -200,
    "start_time": "2022-03-08T02:21:54.791Z"
   },
   {
    "duration": -198,
    "start_time": "2022-03-08T02:21:54.792Z"
   },
   {
    "duration": -197,
    "start_time": "2022-03-08T02:21:54.793Z"
   },
   {
    "duration": -196,
    "start_time": "2022-03-08T02:21:54.794Z"
   },
   {
    "duration": -195,
    "start_time": "2022-03-08T02:21:54.796Z"
   },
   {
    "duration": -194,
    "start_time": "2022-03-08T02:21:54.797Z"
   },
   {
    "duration": -192,
    "start_time": "2022-03-08T02:21:54.798Z"
   },
   {
    "duration": -191,
    "start_time": "2022-03-08T02:21:54.799Z"
   },
   {
    "duration": -189,
    "start_time": "2022-03-08T02:21:54.800Z"
   },
   {
    "duration": -127,
    "start_time": "2022-03-08T02:21:54.801Z"
   },
   {
    "duration": -125,
    "start_time": "2022-03-08T02:21:54.802Z"
   },
   {
    "duration": -123,
    "start_time": "2022-03-08T02:21:54.803Z"
   },
   {
    "duration": -121,
    "start_time": "2022-03-08T02:21:54.804Z"
   },
   {
    "duration": -119,
    "start_time": "2022-03-08T02:21:54.805Z"
   },
   {
    "duration": -118,
    "start_time": "2022-03-08T02:21:54.807Z"
   },
   {
    "duration": -116,
    "start_time": "2022-03-08T02:21:54.808Z"
   },
   {
    "duration": -114,
    "start_time": "2022-03-08T02:21:54.809Z"
   },
   {
    "duration": -113,
    "start_time": "2022-03-08T02:21:54.810Z"
   },
   {
    "duration": -116,
    "start_time": "2022-03-08T02:21:54.816Z"
   },
   {
    "duration": -120,
    "start_time": "2022-03-08T02:21:54.822Z"
   },
   {
    "duration": -120,
    "start_time": "2022-03-08T02:21:54.824Z"
   },
   {
    "duration": -118,
    "start_time": "2022-03-08T02:21:54.825Z"
   },
   {
    "duration": -80,
    "start_time": "2022-03-08T02:21:54.864Z"
   },
   {
    "duration": -84,
    "start_time": "2022-03-08T02:21:54.871Z"
   },
   {
    "duration": -87,
    "start_time": "2022-03-08T02:21:54.877Z"
   },
   {
    "duration": -87,
    "start_time": "2022-03-08T02:21:54.879Z"
   },
   {
    "duration": -85,
    "start_time": "2022-03-08T02:21:54.880Z"
   },
   {
    "duration": 5,
    "start_time": "2022-03-08T02:22:01.235Z"
   },
   {
    "duration": 355,
    "start_time": "2022-03-08T02:22:04.721Z"
   },
   {
    "duration": 14,
    "start_time": "2022-03-08T02:22:06.621Z"
   },
   {
    "duration": 12,
    "start_time": "2022-03-08T02:22:06.868Z"
   },
   {
    "duration": 5,
    "start_time": "2022-03-08T02:22:09.095Z"
   },
   {
    "duration": 393,
    "start_time": "2022-03-08T02:22:09.103Z"
   },
   {
    "duration": 14,
    "start_time": "2022-03-08T02:22:09.499Z"
   },
   {
    "duration": 16,
    "start_time": "2022-03-08T02:22:09.515Z"
   },
   {
    "duration": 14,
    "start_time": "2022-03-08T02:22:09.533Z"
   },
   {
    "duration": 33,
    "start_time": "2022-03-08T02:22:09.549Z"
   },
   {
    "duration": 10,
    "start_time": "2022-03-08T02:22:09.584Z"
   },
   {
    "duration": 22,
    "start_time": "2022-03-08T02:22:09.596Z"
   },
   {
    "duration": 11,
    "start_time": "2022-03-08T02:22:09.621Z"
   },
   {
    "duration": 338,
    "start_time": "2022-03-08T02:22:09.635Z"
   },
   {
    "duration": 6,
    "start_time": "2022-03-08T02:22:09.976Z"
   },
   {
    "duration": 26,
    "start_time": "2022-03-08T02:22:09.984Z"
   },
   {
    "duration": 6,
    "start_time": "2022-03-08T02:22:10.012Z"
   },
   {
    "duration": 5,
    "start_time": "2022-03-08T02:22:10.021Z"
   },
   {
    "duration": 44,
    "start_time": "2022-03-08T02:22:10.029Z"
   },
   {
    "duration": 6,
    "start_time": "2022-03-08T02:22:10.076Z"
   },
   {
    "duration": 24,
    "start_time": "2022-03-08T02:22:10.084Z"
   },
   {
    "duration": 12,
    "start_time": "2022-03-08T02:22:10.110Z"
   },
   {
    "duration": 13,
    "start_time": "2022-03-08T02:22:10.124Z"
   },
   {
    "duration": 35,
    "start_time": "2022-03-08T02:22:10.140Z"
   },
   {
    "duration": 39,
    "start_time": "2022-03-08T02:22:10.177Z"
   },
   {
    "duration": 13,
    "start_time": "2022-03-08T02:22:10.218Z"
   },
   {
    "duration": 86,
    "start_time": "2022-03-08T02:22:10.233Z"
   },
   {
    "duration": 30,
    "start_time": "2022-03-08T02:22:10.322Z"
   },
   {
    "duration": 26,
    "start_time": "2022-03-08T02:22:10.373Z"
   },
   {
    "duration": 29,
    "start_time": "2022-03-08T02:22:10.401Z"
   },
   {
    "duration": 60,
    "start_time": "2022-03-08T02:22:10.437Z"
   },
   {
    "duration": 26,
    "start_time": "2022-03-08T02:22:10.502Z"
   },
   {
    "duration": 11,
    "start_time": "2022-03-08T02:22:10.530Z"
   },
   {
    "duration": 58,
    "start_time": "2022-03-08T02:22:10.543Z"
   },
   {
    "duration": 18,
    "start_time": "2022-03-08T02:22:10.603Z"
   },
   {
    "duration": 20,
    "start_time": "2022-03-08T02:22:10.623Z"
   },
   {
    "duration": 23,
    "start_time": "2022-03-08T02:22:10.675Z"
   },
   {
    "duration": 33,
    "start_time": "2022-03-08T02:22:10.701Z"
   },
   {
    "duration": 43,
    "start_time": "2022-03-08T02:22:10.736Z"
   },
   {
    "duration": 65,
    "start_time": "2022-03-08T02:22:10.781Z"
   },
   {
    "duration": 42,
    "start_time": "2022-03-08T02:22:10.848Z"
   },
   {
    "duration": 23,
    "start_time": "2022-03-08T02:22:10.893Z"
   },
   {
    "duration": 54,
    "start_time": "2022-03-08T02:22:10.919Z"
   },
   {
    "duration": 12,
    "start_time": "2022-03-08T02:22:10.976Z"
   },
   {
    "duration": 59,
    "start_time": "2022-03-08T02:22:10.991Z"
   },
   {
    "duration": 57,
    "start_time": "2022-03-08T02:22:11.052Z"
   },
   {
    "duration": 66,
    "start_time": "2022-03-08T02:22:11.112Z"
   },
   {
    "duration": 39,
    "start_time": "2022-03-08T02:22:11.180Z"
   },
   {
    "duration": 52,
    "start_time": "2022-03-08T02:22:11.221Z"
   },
   {
    "duration": 23,
    "start_time": "2022-03-08T02:22:11.275Z"
   },
   {
    "duration": 14,
    "start_time": "2022-03-08T02:22:11.300Z"
   },
   {
    "duration": 9,
    "start_time": "2022-03-08T02:22:11.316Z"
   },
   {
    "duration": 7,
    "start_time": "2022-03-08T02:22:11.327Z"
   },
   {
    "duration": 38,
    "start_time": "2022-03-08T02:22:11.336Z"
   },
   {
    "duration": 15,
    "start_time": "2022-03-08T02:22:11.377Z"
   },
   {
    "duration": 6,
    "start_time": "2022-03-08T02:22:11.395Z"
   },
   {
    "duration": 9,
    "start_time": "2022-03-08T02:22:11.403Z"
   },
   {
    "duration": 81,
    "start_time": "2022-03-08T02:22:11.415Z"
   },
   {
    "duration": 5,
    "start_time": "2022-03-08T02:22:11.499Z"
   },
   {
    "duration": 8,
    "start_time": "2022-03-08T02:22:11.507Z"
   },
   {
    "duration": 72,
    "start_time": "2022-03-08T02:22:11.517Z"
   },
   {
    "duration": 20,
    "start_time": "2022-03-08T02:22:11.592Z"
   },
   {
    "duration": 14,
    "start_time": "2022-03-08T02:22:11.614Z"
   },
   {
    "duration": 7,
    "start_time": "2022-03-08T02:22:11.631Z"
   },
   {
    "duration": 35,
    "start_time": "2022-03-08T02:22:11.640Z"
   },
   {
    "duration": 9,
    "start_time": "2022-03-08T02:22:11.677Z"
   },
   {
    "duration": 13,
    "start_time": "2022-03-08T02:22:11.688Z"
   },
   {
    "duration": 7,
    "start_time": "2022-03-08T02:22:11.703Z"
   },
   {
    "duration": 9,
    "start_time": "2022-03-08T02:22:11.713Z"
   },
   {
    "duration": 63,
    "start_time": "2022-03-08T02:22:11.724Z"
   },
   {
    "duration": 4,
    "start_time": "2022-03-08T02:22:11.790Z"
   },
   {
    "duration": 7,
    "start_time": "2022-03-08T02:22:11.796Z"
   },
   {
    "duration": 33,
    "start_time": "2022-03-08T02:22:11.805Z"
   },
   {
    "duration": 20,
    "start_time": "2022-03-08T02:22:11.873Z"
   },
   {
    "duration": 91,
    "start_time": "2022-03-08T02:25:48.628Z"
   },
   {
    "duration": 1624,
    "start_time": "2022-03-08T02:26:05.854Z"
   },
   {
    "duration": 368,
    "start_time": "2022-03-08T02:26:07.481Z"
   },
   {
    "duration": 16,
    "start_time": "2022-03-08T02:26:07.852Z"
   },
   {
    "duration": 14,
    "start_time": "2022-03-08T02:26:07.871Z"
   },
   {
    "duration": 28,
    "start_time": "2022-03-08T02:26:07.887Z"
   },
   {
    "duration": 15,
    "start_time": "2022-03-08T02:26:07.917Z"
   },
   {
    "duration": 15,
    "start_time": "2022-03-08T02:26:07.934Z"
   },
   {
    "duration": 40,
    "start_time": "2022-03-08T02:26:07.952Z"
   },
   {
    "duration": 15,
    "start_time": "2022-03-08T02:26:07.996Z"
   },
   {
    "duration": 318,
    "start_time": "2022-03-08T02:26:08.014Z"
   },
   {
    "duration": 6,
    "start_time": "2022-03-08T02:26:08.334Z"
   },
   {
    "duration": 42,
    "start_time": "2022-03-08T02:26:08.343Z"
   },
   {
    "duration": 9,
    "start_time": "2022-03-08T02:26:08.388Z"
   },
   {
    "duration": 5,
    "start_time": "2022-03-08T02:26:08.399Z"
   },
   {
    "duration": 9,
    "start_time": "2022-03-08T02:26:08.406Z"
   },
   {
    "duration": 10,
    "start_time": "2022-03-08T02:26:08.417Z"
   },
   {
    "duration": 51,
    "start_time": "2022-03-08T02:26:08.429Z"
   },
   {
    "duration": 3,
    "start_time": "2022-03-08T02:26:08.483Z"
   },
   {
    "duration": 14,
    "start_time": "2022-03-08T02:26:08.488Z"
   },
   {
    "duration": 5,
    "start_time": "2022-03-08T02:26:08.504Z"
   },
   {
    "duration": 64,
    "start_time": "2022-03-08T02:26:08.511Z"
   },
   {
    "duration": 12,
    "start_time": "2022-03-08T02:26:08.578Z"
   },
   {
    "duration": 85,
    "start_time": "2022-03-08T02:26:08.592Z"
   },
   {
    "duration": 33,
    "start_time": "2022-03-08T02:26:08.680Z"
   },
   {
    "duration": 59,
    "start_time": "2022-03-08T02:26:08.716Z"
   },
   {
    "duration": 28,
    "start_time": "2022-03-08T02:26:08.777Z"
   },
   {
    "duration": 33,
    "start_time": "2022-03-08T02:26:08.812Z"
   },
   {
    "duration": 28,
    "start_time": "2022-03-08T02:26:08.875Z"
   },
   {
    "duration": 11,
    "start_time": "2022-03-08T02:26:08.905Z"
   },
   {
    "duration": 67,
    "start_time": "2022-03-08T02:26:08.918Z"
   },
   {
    "duration": 18,
    "start_time": "2022-03-08T02:26:08.988Z"
   },
   {
    "duration": 20,
    "start_time": "2022-03-08T02:26:09.008Z"
   },
   {
    "duration": 52,
    "start_time": "2022-03-08T02:26:09.030Z"
   },
   {
    "duration": 33,
    "start_time": "2022-03-08T02:26:09.085Z"
   },
   {
    "duration": 12,
    "start_time": "2022-03-08T02:26:09.121Z"
   },
   {
    "duration": 111,
    "start_time": "2022-03-08T02:26:09.135Z"
   },
   {
    "duration": 36,
    "start_time": "2022-03-08T02:26:09.248Z"
   },
   {
    "duration": 24,
    "start_time": "2022-03-08T02:26:09.286Z"
   },
   {
    "duration": 32,
    "start_time": "2022-03-08T02:26:09.314Z"
   },
   {
    "duration": 13,
    "start_time": "2022-03-08T02:26:09.375Z"
   },
   {
    "duration": 96,
    "start_time": "2022-03-08T02:26:09.391Z"
   },
   {
    "duration": 49,
    "start_time": "2022-03-08T02:26:09.490Z"
   },
   {
    "duration": 70,
    "start_time": "2022-03-08T02:26:09.542Z"
   },
   {
    "duration": 64,
    "start_time": "2022-03-08T02:26:09.615Z"
   },
   {
    "duration": 26,
    "start_time": "2022-03-08T02:26:09.682Z"
   },
   {
    "duration": 21,
    "start_time": "2022-03-08T02:26:09.711Z"
   },
   {
    "duration": 46,
    "start_time": "2022-03-08T02:26:09.734Z"
   },
   {
    "duration": 8,
    "start_time": "2022-03-08T02:26:09.782Z"
   },
   {
    "duration": 7,
    "start_time": "2022-03-08T02:26:09.792Z"
   },
   {
    "duration": 6,
    "start_time": "2022-03-08T02:26:09.801Z"
   },
   {
    "duration": 13,
    "start_time": "2022-03-08T02:26:09.810Z"
   },
   {
    "duration": 6,
    "start_time": "2022-03-08T02:26:09.826Z"
   },
   {
    "duration": 43,
    "start_time": "2022-03-08T02:26:09.834Z"
   },
   {
    "duration": 34,
    "start_time": "2022-03-08T02:26:09.879Z"
   },
   {
    "duration": 4,
    "start_time": "2022-03-08T02:26:09.915Z"
   },
   {
    "duration": 11,
    "start_time": "2022-03-08T02:26:09.921Z"
   },
   {
    "duration": 67,
    "start_time": "2022-03-08T02:26:09.934Z"
   },
   {
    "duration": 21,
    "start_time": "2022-03-08T02:26:10.004Z"
   },
   {
    "duration": 45,
    "start_time": "2022-03-08T02:26:10.028Z"
   },
   {
    "duration": 9,
    "start_time": "2022-03-08T02:26:10.076Z"
   },
   {
    "duration": 5,
    "start_time": "2022-03-08T02:26:10.087Z"
   },
   {
    "duration": 7,
    "start_time": "2022-03-08T02:26:10.095Z"
   },
   {
    "duration": 11,
    "start_time": "2022-03-08T02:26:10.104Z"
   },
   {
    "duration": 7,
    "start_time": "2022-03-08T02:26:10.118Z"
   },
   {
    "duration": 46,
    "start_time": "2022-03-08T02:26:10.128Z"
   },
   {
    "duration": 35,
    "start_time": "2022-03-08T02:26:10.177Z"
   },
   {
    "duration": 4,
    "start_time": "2022-03-08T02:26:10.214Z"
   },
   {
    "duration": 12,
    "start_time": "2022-03-08T02:26:10.220Z"
   },
   {
    "duration": 65,
    "start_time": "2022-03-08T02:26:10.234Z"
   },
   {
    "duration": 20,
    "start_time": "2022-03-08T02:26:10.301Z"
   },
   {
    "duration": 82056,
    "start_time": "2022-03-08T02:26:10.324Z"
   },
   {
    "duration": -385,
    "start_time": "2022-03-08T02:27:32.772Z"
   },
   {
    "duration": -386,
    "start_time": "2022-03-08T02:27:32.775Z"
   },
   {
    "duration": -386,
    "start_time": "2022-03-08T02:27:32.777Z"
   },
   {
    "duration": -386,
    "start_time": "2022-03-08T02:27:32.780Z"
   },
   {
    "duration": -387,
    "start_time": "2022-03-08T02:27:32.783Z"
   },
   {
    "duration": -387,
    "start_time": "2022-03-08T02:27:32.785Z"
   },
   {
    "duration": -386,
    "start_time": "2022-03-08T02:27:32.787Z"
   },
   {
    "duration": -386,
    "start_time": "2022-03-08T02:27:32.789Z"
   },
   {
    "duration": -386,
    "start_time": "2022-03-08T02:27:32.791Z"
   },
   {
    "duration": -505,
    "start_time": "2022-03-08T02:27:32.912Z"
   },
   {
    "duration": -508,
    "start_time": "2022-03-08T02:27:32.917Z"
   },
   {
    "duration": -508,
    "start_time": "2022-03-08T02:27:32.919Z"
   },
   {
    "duration": -507,
    "start_time": "2022-03-08T02:27:32.920Z"
   },
   {
    "duration": -507,
    "start_time": "2022-03-08T02:27:32.922Z"
   },
   {
    "duration": -506,
    "start_time": "2022-03-08T02:27:32.924Z"
   },
   {
    "duration": -452,
    "start_time": "2022-03-08T02:27:32.925Z"
   },
   {
    "duration": -451,
    "start_time": "2022-03-08T02:27:32.927Z"
   },
   {
    "duration": -446,
    "start_time": "2022-03-08T02:27:32.928Z"
   },
   {
    "duration": 8,
    "start_time": "2022-03-08T02:28:19.903Z"
   },
   {
    "duration": 109,
    "start_time": "2022-03-08T02:28:23.901Z"
   },
   {
    "duration": 89,
    "start_time": "2022-03-08T02:28:44.099Z"
   },
   {
    "duration": 17,
    "start_time": "2022-03-08T02:29:00.464Z"
   },
   {
    "duration": 17,
    "start_time": "2022-03-08T02:29:17.605Z"
   },
   {
    "duration": 18,
    "start_time": "2022-03-08T02:29:47.334Z"
   },
   {
    "duration": 86,
    "start_time": "2022-03-08T02:30:05.431Z"
   },
   {
    "duration": 283,
    "start_time": "2022-03-08T02:30:11.565Z"
   },
   {
    "duration": 1358,
    "start_time": "2022-03-08T02:30:22.564Z"
   },
   {
    "duration": 39,
    "start_time": "2022-03-08T02:30:39.811Z"
   },
   {
    "duration": 288,
    "start_time": "2022-03-08T02:32:02.671Z"
   },
   {
    "duration": 5027,
    "start_time": "2022-03-08T02:32:37.176Z"
   },
   {
    "duration": 4928,
    "start_time": "2022-03-08T02:32:55.875Z"
   },
   {
    "duration": 5117,
    "start_time": "2022-03-08T02:33:22.518Z"
   },
   {
    "duration": 4913,
    "start_time": "2022-03-08T02:34:21.486Z"
   },
   {
    "duration": 4830,
    "start_time": "2022-03-08T02:35:45.967Z"
   },
   {
    "duration": 4855,
    "start_time": "2022-03-08T02:36:21.067Z"
   },
   {
    "duration": 18,
    "start_time": "2022-03-08T02:36:33.714Z"
   },
   {
    "duration": 5268,
    "start_time": "2022-03-08T02:36:54.517Z"
   },
   {
    "duration": 19,
    "start_time": "2022-03-08T02:37:34.899Z"
   },
   {
    "duration": 6350,
    "start_time": "2022-03-08T02:37:43.268Z"
   },
   {
    "duration": 49,
    "start_time": "2022-03-08T02:37:56.265Z"
   },
   {
    "duration": 6438,
    "start_time": "2022-03-08T02:39:45.467Z"
   },
   {
    "duration": 268,
    "start_time": "2022-03-08T02:41:50.390Z"
   },
   {
    "duration": 288,
    "start_time": "2022-03-08T02:42:10.978Z"
   },
   {
    "duration": 21,
    "start_time": "2022-03-08T02:43:28.933Z"
   },
   {
    "duration": 40,
    "start_time": "2022-03-08T02:44:26.227Z"
   },
   {
    "duration": 43,
    "start_time": "2022-03-08T02:44:47.136Z"
   },
   {
    "duration": 6965,
    "start_time": "2022-03-08T02:46:04.952Z"
   },
   {
    "duration": 25,
    "start_time": "2022-03-08T02:46:43.518Z"
   },
   {
    "duration": 6456,
    "start_time": "2022-03-08T02:46:53.912Z"
   },
   {
    "duration": 51,
    "start_time": "2022-03-08T02:47:20.970Z"
   },
   {
    "duration": 6469,
    "start_time": "2022-03-08T02:47:32.251Z"
   },
   {
    "duration": 28,
    "start_time": "2022-03-08T02:47:55.435Z"
   },
   {
    "duration": 6569,
    "start_time": "2022-03-08T02:48:04.913Z"
   },
   {
    "duration": 47,
    "start_time": "2022-03-08T02:48:51.025Z"
   },
   {
    "duration": 340,
    "start_time": "2022-03-08T02:49:12.580Z"
   },
   {
    "duration": 292,
    "start_time": "2022-03-08T02:49:31.668Z"
   },
   {
    "duration": 291,
    "start_time": "2022-03-08T02:49:38.679Z"
   },
   {
    "duration": 47,
    "start_time": "2022-03-08T02:49:52.109Z"
   },
   {
    "duration": 6387,
    "start_time": "2022-03-08T02:50:13.068Z"
   },
   {
    "duration": 49,
    "start_time": "2022-03-08T03:25:32.295Z"
   },
   {
    "duration": 5,
    "start_time": "2022-03-08T03:25:40.389Z"
   },
   {
    "duration": 386,
    "start_time": "2022-03-08T03:25:40.397Z"
   },
   {
    "duration": 13,
    "start_time": "2022-03-08T03:25:40.787Z"
   },
   {
    "duration": 15,
    "start_time": "2022-03-08T03:25:40.804Z"
   },
   {
    "duration": 20,
    "start_time": "2022-03-08T03:25:40.822Z"
   },
   {
    "duration": 39,
    "start_time": "2022-03-08T03:25:40.844Z"
   },
   {
    "duration": 12,
    "start_time": "2022-03-08T03:25:40.885Z"
   },
   {
    "duration": 22,
    "start_time": "2022-03-08T03:25:40.899Z"
   },
   {
    "duration": 14,
    "start_time": "2022-03-08T03:25:40.924Z"
   },
   {
    "duration": 335,
    "start_time": "2022-03-08T03:25:40.941Z"
   },
   {
    "duration": 6,
    "start_time": "2022-03-08T03:25:41.279Z"
   },
   {
    "duration": 37,
    "start_time": "2022-03-08T03:25:41.287Z"
   },
   {
    "duration": 12,
    "start_time": "2022-03-08T03:25:41.327Z"
   },
   {
    "duration": 8,
    "start_time": "2022-03-08T03:25:41.342Z"
   },
   {
    "duration": 25,
    "start_time": "2022-03-08T03:25:41.353Z"
   },
   {
    "duration": 19,
    "start_time": "2022-03-08T03:25:41.381Z"
   },
   {
    "duration": 54,
    "start_time": "2022-03-08T03:25:41.403Z"
   },
   {
    "duration": 3,
    "start_time": "2022-03-08T03:25:41.461Z"
   },
   {
    "duration": 20,
    "start_time": "2022-03-08T03:25:41.468Z"
   },
   {
    "duration": 10,
    "start_time": "2022-03-08T03:25:41.491Z"
   },
   {
    "duration": 71,
    "start_time": "2022-03-08T03:25:41.504Z"
   },
   {
    "duration": 18,
    "start_time": "2022-03-08T03:25:41.578Z"
   },
   {
    "duration": 107,
    "start_time": "2022-03-08T03:25:41.599Z"
   },
   {
    "duration": 43,
    "start_time": "2022-03-08T03:25:41.709Z"
   },
   {
    "duration": 58,
    "start_time": "2022-03-08T03:25:41.755Z"
   },
   {
    "duration": 61,
    "start_time": "2022-03-08T03:25:41.816Z"
   },
   {
    "duration": 42,
    "start_time": "2022-03-08T03:25:41.888Z"
   },
   {
    "duration": 63,
    "start_time": "2022-03-08T03:25:41.936Z"
   },
   {
    "duration": 15,
    "start_time": "2022-03-08T03:25:42.002Z"
   },
   {
    "duration": 55,
    "start_time": "2022-03-08T03:25:42.020Z"
   },
   {
    "duration": 18,
    "start_time": "2022-03-08T03:25:42.078Z"
   },
   {
    "duration": 21,
    "start_time": "2022-03-08T03:25:42.098Z"
   },
   {
    "duration": 55,
    "start_time": "2022-03-08T03:25:42.121Z"
   },
   {
    "duration": 34,
    "start_time": "2022-03-08T03:25:42.179Z"
   },
   {
    "duration": 14,
    "start_time": "2022-03-08T03:25:42.215Z"
   },
   {
    "duration": 111,
    "start_time": "2022-03-08T03:25:42.231Z"
   },
   {
    "duration": 34,
    "start_time": "2022-03-08T03:25:42.344Z"
   },
   {
    "duration": 25,
    "start_time": "2022-03-08T03:25:42.381Z"
   },
   {
    "duration": 28,
    "start_time": "2022-03-08T03:25:42.409Z"
   },
   {
    "duration": 14,
    "start_time": "2022-03-08T03:25:42.473Z"
   },
   {
    "duration": 90,
    "start_time": "2022-03-08T03:25:42.490Z"
   },
   {
    "duration": 49,
    "start_time": "2022-03-08T03:25:42.583Z"
   },
   {
    "duration": 77,
    "start_time": "2022-03-08T03:25:42.635Z"
   },
   {
    "duration": 59,
    "start_time": "2022-03-08T03:25:42.715Z"
   },
   {
    "duration": 29,
    "start_time": "2022-03-08T03:25:42.777Z"
   },
   {
    "duration": 22,
    "start_time": "2022-03-08T03:25:42.809Z"
   },
   {
    "duration": 42,
    "start_time": "2022-03-08T03:25:42.833Z"
   },
   {
    "duration": 8,
    "start_time": "2022-03-08T03:25:42.878Z"
   },
   {
    "duration": 8,
    "start_time": "2022-03-08T03:25:42.888Z"
   },
   {
    "duration": 10,
    "start_time": "2022-03-08T03:25:42.898Z"
   },
   {
    "duration": 20,
    "start_time": "2022-03-08T03:25:42.910Z"
   },
   {
    "duration": 7,
    "start_time": "2022-03-08T03:25:42.932Z"
   },
   {
    "duration": 33,
    "start_time": "2022-03-08T03:25:42.942Z"
   },
   {
    "duration": 41,
    "start_time": "2022-03-08T03:25:42.979Z"
   },
   {
    "duration": 5,
    "start_time": "2022-03-08T03:25:43.023Z"
   },
   {
    "duration": 10,
    "start_time": "2022-03-08T03:25:43.031Z"
   },
   {
    "duration": 36,
    "start_time": "2022-03-08T03:25:43.074Z"
   },
   {
    "duration": 21,
    "start_time": "2022-03-08T03:25:43.113Z"
   },
   {
    "duration": 46,
    "start_time": "2022-03-08T03:25:43.136Z"
   },
   {
    "duration": 7,
    "start_time": "2022-03-08T03:25:43.185Z"
   },
   {
    "duration": 5,
    "start_time": "2022-03-08T03:25:43.194Z"
   },
   {
    "duration": 7,
    "start_time": "2022-03-08T03:25:43.202Z"
   },
   {
    "duration": 10,
    "start_time": "2022-03-08T03:25:43.211Z"
   },
   {
    "duration": 49,
    "start_time": "2022-03-08T03:25:43.224Z"
   },
   {
    "duration": 5,
    "start_time": "2022-03-08T03:25:43.276Z"
   },
   {
    "duration": 36,
    "start_time": "2022-03-08T03:25:43.284Z"
   },
   {
    "duration": 4,
    "start_time": "2022-03-08T03:25:43.323Z"
   },
   {
    "duration": 7,
    "start_time": "2022-03-08T03:25:43.329Z"
   },
   {
    "duration": 68,
    "start_time": "2022-03-08T03:25:43.339Z"
   },
   {
    "duration": 23,
    "start_time": "2022-03-08T03:25:43.410Z"
   },
   {
    "duration": 365,
    "start_time": "2022-03-08T03:35:42.227Z"
   },
   {
    "duration": 284,
    "start_time": "2022-03-08T03:36:00.874Z"
   },
   {
    "duration": 1553,
    "start_time": "2022-03-08T03:36:05.405Z"
   },
   {
    "duration": 435,
    "start_time": "2022-03-08T03:36:06.961Z"
   },
   {
    "duration": 18,
    "start_time": "2022-03-08T03:36:07.399Z"
   },
   {
    "duration": 17,
    "start_time": "2022-03-08T03:36:07.421Z"
   },
   {
    "duration": 33,
    "start_time": "2022-03-08T03:36:07.441Z"
   },
   {
    "duration": 18,
    "start_time": "2022-03-08T03:36:07.477Z"
   },
   {
    "duration": 12,
    "start_time": "2022-03-08T03:36:07.498Z"
   },
   {
    "duration": 61,
    "start_time": "2022-03-08T03:36:07.512Z"
   },
   {
    "duration": 10,
    "start_time": "2022-03-08T03:36:07.577Z"
   },
   {
    "duration": 2730,
    "start_time": "2022-03-08T03:36:07.590Z"
   },
   {
    "duration": -243,
    "start_time": "2022-03-08T03:36:10.571Z"
   },
   {
    "duration": -245,
    "start_time": "2022-03-08T03:36:10.574Z"
   },
   {
    "duration": -246,
    "start_time": "2022-03-08T03:36:10.576Z"
   },
   {
    "duration": -247,
    "start_time": "2022-03-08T03:36:10.579Z"
   },
   {
    "duration": -248,
    "start_time": "2022-03-08T03:36:10.581Z"
   },
   {
    "duration": -250,
    "start_time": "2022-03-08T03:36:10.584Z"
   },
   {
    "duration": -250,
    "start_time": "2022-03-08T03:36:10.586Z"
   },
   {
    "duration": -251,
    "start_time": "2022-03-08T03:36:10.588Z"
   },
   {
    "duration": -252,
    "start_time": "2022-03-08T03:36:10.590Z"
   },
   {
    "duration": -253,
    "start_time": "2022-03-08T03:36:10.592Z"
   },
   {
    "duration": -445,
    "start_time": "2022-03-08T03:36:10.785Z"
   },
   {
    "duration": -469,
    "start_time": "2022-03-08T03:36:10.810Z"
   },
   {
    "duration": -469,
    "start_time": "2022-03-08T03:36:10.811Z"
   },
   {
    "duration": -470,
    "start_time": "2022-03-08T03:36:10.813Z"
   },
   {
    "duration": -469,
    "start_time": "2022-03-08T03:36:10.813Z"
   },
   {
    "duration": -469,
    "start_time": "2022-03-08T03:36:10.814Z"
   },
   {
    "duration": -469,
    "start_time": "2022-03-08T03:36:10.815Z"
   },
   {
    "duration": -469,
    "start_time": "2022-03-08T03:36:10.816Z"
   },
   {
    "duration": -469,
    "start_time": "2022-03-08T03:36:10.817Z"
   },
   {
    "duration": -469,
    "start_time": "2022-03-08T03:36:10.819Z"
   },
   {
    "duration": -468,
    "start_time": "2022-03-08T03:36:10.819Z"
   },
   {
    "duration": -469,
    "start_time": "2022-03-08T03:36:10.821Z"
   },
   {
    "duration": -467,
    "start_time": "2022-03-08T03:36:10.821Z"
   },
   {
    "duration": -468,
    "start_time": "2022-03-08T03:36:10.823Z"
   },
   {
    "duration": -468,
    "start_time": "2022-03-08T03:36:10.824Z"
   },
   {
    "duration": -467,
    "start_time": "2022-03-08T03:36:10.825Z"
   },
   {
    "duration": -467,
    "start_time": "2022-03-08T03:36:10.826Z"
   },
   {
    "duration": -467,
    "start_time": "2022-03-08T03:36:10.827Z"
   },
   {
    "duration": -467,
    "start_time": "2022-03-08T03:36:10.828Z"
   },
   {
    "duration": -466,
    "start_time": "2022-03-08T03:36:10.829Z"
   },
   {
    "duration": -466,
    "start_time": "2022-03-08T03:36:10.830Z"
   },
   {
    "duration": -458,
    "start_time": "2022-03-08T03:36:10.831Z"
   },
   {
    "duration": -458,
    "start_time": "2022-03-08T03:36:10.832Z"
   },
   {
    "duration": -457,
    "start_time": "2022-03-08T03:36:10.833Z"
   },
   {
    "duration": -457,
    "start_time": "2022-03-08T03:36:10.834Z"
   },
   {
    "duration": -457,
    "start_time": "2022-03-08T03:36:10.835Z"
   },
   {
    "duration": -459,
    "start_time": "2022-03-08T03:36:10.839Z"
   },
   {
    "duration": -460,
    "start_time": "2022-03-08T03:36:10.841Z"
   },
   {
    "duration": -460,
    "start_time": "2022-03-08T03:36:10.842Z"
   },
   {
    "duration": -459,
    "start_time": "2022-03-08T03:36:10.843Z"
   },
   {
    "duration": -459,
    "start_time": "2022-03-08T03:36:10.844Z"
   },
   {
    "duration": -458,
    "start_time": "2022-03-08T03:36:10.845Z"
   },
   {
    "duration": -458,
    "start_time": "2022-03-08T03:36:10.846Z"
   },
   {
    "duration": -458,
    "start_time": "2022-03-08T03:36:10.847Z"
   },
   {
    "duration": -457,
    "start_time": "2022-03-08T03:36:10.848Z"
   },
   {
    "duration": -457,
    "start_time": "2022-03-08T03:36:10.849Z"
   },
   {
    "duration": -456,
    "start_time": "2022-03-08T03:36:10.850Z"
   },
   {
    "duration": -456,
    "start_time": "2022-03-08T03:36:10.851Z"
   },
   {
    "duration": -455,
    "start_time": "2022-03-08T03:36:10.852Z"
   },
   {
    "duration": -455,
    "start_time": "2022-03-08T03:36:10.853Z"
   },
   {
    "duration": -454,
    "start_time": "2022-03-08T03:36:10.854Z"
   },
   {
    "duration": -454,
    "start_time": "2022-03-08T03:36:10.855Z"
   },
   {
    "duration": -453,
    "start_time": "2022-03-08T03:36:10.855Z"
   },
   {
    "duration": -452,
    "start_time": "2022-03-08T03:36:10.856Z"
   },
   {
    "duration": -452,
    "start_time": "2022-03-08T03:36:10.857Z"
   },
   {
    "duration": -452,
    "start_time": "2022-03-08T03:36:10.858Z"
   },
   {
    "duration": -451,
    "start_time": "2022-03-08T03:36:10.859Z"
   },
   {
    "duration": -452,
    "start_time": "2022-03-08T03:36:10.861Z"
   },
   {
    "duration": -389,
    "start_time": "2022-03-08T03:36:10.862Z"
   },
   {
    "duration": -388,
    "start_time": "2022-03-08T03:36:10.863Z"
   },
   {
    "duration": -388,
    "start_time": "2022-03-08T03:36:10.864Z"
   },
   {
    "duration": -387,
    "start_time": "2022-03-08T03:36:10.865Z"
   },
   {
    "duration": -387,
    "start_time": "2022-03-08T03:36:10.866Z"
   },
   {
    "duration": -527,
    "start_time": "2022-03-08T03:36:11.007Z"
   },
   {
    "duration": -561,
    "start_time": "2022-03-08T03:36:11.043Z"
   },
   {
    "duration": -576,
    "start_time": "2022-03-08T03:36:11.059Z"
   },
   {
    "duration": -580,
    "start_time": "2022-03-08T03:36:11.065Z"
   },
   {
    "duration": -580,
    "start_time": "2022-03-08T03:36:11.066Z"
   },
   {
    "duration": -580,
    "start_time": "2022-03-08T03:36:11.067Z"
   },
   {
    "duration": -579,
    "start_time": "2022-03-08T03:36:11.068Z"
   },
   {
    "duration": -579,
    "start_time": "2022-03-08T03:36:11.069Z"
   },
   {
    "duration": -578,
    "start_time": "2022-03-08T03:36:11.070Z"
   },
   {
    "duration": -578,
    "start_time": "2022-03-08T03:36:11.071Z"
   },
   {
    "duration": -577,
    "start_time": "2022-03-08T03:36:11.072Z"
   },
   {
    "duration": -577,
    "start_time": "2022-03-08T03:36:11.073Z"
   },
   {
    "duration": -577,
    "start_time": "2022-03-08T03:36:11.074Z"
   },
   {
    "duration": -575,
    "start_time": "2022-03-08T03:36:11.074Z"
   },
   {
    "duration": -575,
    "start_time": "2022-03-08T03:36:11.075Z"
   },
   {
    "duration": -575,
    "start_time": "2022-03-08T03:36:11.076Z"
   },
   {
    "duration": 13,
    "start_time": "2022-03-08T03:36:38.143Z"
   },
   {
    "duration": 14,
    "start_time": "2022-03-08T03:37:18.902Z"
   },
   {
    "duration": 2748,
    "start_time": "2022-03-08T03:37:20.251Z"
   },
   {
    "duration": 13,
    "start_time": "2022-03-08T03:37:37.541Z"
   },
   {
    "duration": 2535,
    "start_time": "2022-03-08T03:37:40.140Z"
   },
   {
    "duration": 10,
    "start_time": "2022-03-08T03:37:58.415Z"
   },
   {
    "duration": 2548,
    "start_time": "2022-03-08T03:38:02.275Z"
   },
   {
    "duration": 5,
    "start_time": "2022-03-08T03:38:17.656Z"
   },
   {
    "duration": 441,
    "start_time": "2022-03-08T03:38:17.664Z"
   },
   {
    "duration": 14,
    "start_time": "2022-03-08T03:38:18.108Z"
   },
   {
    "duration": 18,
    "start_time": "2022-03-08T03:38:18.126Z"
   },
   {
    "duration": 32,
    "start_time": "2022-03-08T03:38:18.146Z"
   },
   {
    "duration": 18,
    "start_time": "2022-03-08T03:38:18.182Z"
   },
   {
    "duration": 12,
    "start_time": "2022-03-08T03:38:18.203Z"
   },
   {
    "duration": 70,
    "start_time": "2022-03-08T03:38:18.218Z"
   },
   {
    "duration": 12,
    "start_time": "2022-03-08T03:38:18.292Z"
   },
   {
    "duration": 323,
    "start_time": "2022-03-08T03:38:18.307Z"
   },
   {
    "duration": 13,
    "start_time": "2022-03-08T03:40:13.587Z"
   },
   {
    "duration": 6,
    "start_time": "2022-03-08T03:40:17.674Z"
   },
   {
    "duration": 22,
    "start_time": "2022-03-08T03:40:18.688Z"
   },
   {
    "duration": 7,
    "start_time": "2022-03-08T03:41:03.872Z"
   },
   {
    "duration": 5,
    "start_time": "2022-03-08T03:41:05.240Z"
   },
   {
    "duration": 5,
    "start_time": "2022-03-08T03:41:08.116Z"
   },
   {
    "duration": 25,
    "start_time": "2022-03-08T03:41:09.011Z"
   },
   {
    "duration": 3,
    "start_time": "2022-03-08T03:41:10.724Z"
   },
   {
    "duration": 11,
    "start_time": "2022-03-08T03:41:20.694Z"
   },
   {
    "duration": 6,
    "start_time": "2022-03-08T03:41:22.042Z"
   },
   {
    "duration": 20,
    "start_time": "2022-03-08T03:41:28.835Z"
   },
   {
    "duration": 39,
    "start_time": "2022-03-08T03:42:33.114Z"
   },
   {
    "duration": 12,
    "start_time": "2022-03-08T03:42:36.442Z"
   },
   {
    "duration": 58,
    "start_time": "2022-03-08T03:42:39.720Z"
   },
   {
    "duration": 31,
    "start_time": "2022-03-08T03:42:40.794Z"
   },
   {
    "duration": 58,
    "start_time": "2022-03-08T03:45:20.315Z"
   },
   {
    "duration": 26,
    "start_time": "2022-03-08T03:45:52.521Z"
   },
   {
    "duration": 11,
    "start_time": "2022-03-08T03:45:53.122Z"
   },
   {
    "duration": 33,
    "start_time": "2022-03-08T03:45:54.412Z"
   },
   {
    "duration": 18,
    "start_time": "2022-03-08T03:46:49.331Z"
   },
   {
    "duration": 21,
    "start_time": "2022-03-08T03:46:50.233Z"
   },
   {
    "duration": 23,
    "start_time": "2022-03-08T03:46:53.601Z"
   },
   {
    "duration": 33,
    "start_time": "2022-03-08T03:46:59.419Z"
   },
   {
    "duration": 12,
    "start_time": "2022-03-08T03:47:02.522Z"
   },
   {
    "duration": 72,
    "start_time": "2022-03-08T03:47:03.545Z"
   },
   {
    "duration": 22,
    "start_time": "2022-03-08T03:47:28.771Z"
   },
   {
    "duration": 23,
    "start_time": "2022-03-08T03:47:29.372Z"
   },
   {
    "duration": 28,
    "start_time": "2022-03-08T03:47:35.910Z"
   },
   {
    "duration": 12,
    "start_time": "2022-03-08T03:47:55.435Z"
   },
   {
    "duration": 64,
    "start_time": "2022-03-08T03:48:11.839Z"
   },
   {
    "duration": 49,
    "start_time": "2022-03-08T03:48:47.491Z"
   },
   {
    "duration": 50,
    "start_time": "2022-03-08T03:49:10.672Z"
   },
   {
    "duration": 43,
    "start_time": "2022-03-08T03:49:24.752Z"
   },
   {
    "duration": 26,
    "start_time": "2022-03-08T03:49:39.265Z"
   },
   {
    "duration": 29,
    "start_time": "2022-03-08T03:49:51.346Z"
   },
   {
    "duration": 31,
    "start_time": "2022-03-08T03:50:08.409Z"
   },
   {
    "duration": 36,
    "start_time": "2022-03-08T03:50:15.292Z"
   },
   {
    "duration": 28,
    "start_time": "2022-03-08T03:50:29.963Z"
   },
   {
    "duration": 30,
    "start_time": "2022-03-08T03:50:37.209Z"
   },
   {
    "duration": 24,
    "start_time": "2022-03-08T03:50:45.312Z"
   },
   {
    "duration": 23,
    "start_time": "2022-03-08T03:50:57.719Z"
   },
   {
    "duration": 12,
    "start_time": "2022-03-08T03:53:06.342Z"
   },
   {
    "duration": 6288,
    "start_time": "2022-03-08T03:53:38.493Z"
   },
   {
    "duration": -227,
    "start_time": "2022-03-08T03:53:45.010Z"
   },
   {
    "duration": 12,
    "start_time": "2022-03-08T03:53:54.818Z"
   },
   {
    "duration": 6425,
    "start_time": "2022-03-08T03:54:04.083Z"
   },
   {
    "duration": 6398,
    "start_time": "2022-03-08T03:54:15.879Z"
   },
   {
    "duration": 4,
    "start_time": "2022-03-08T03:54:27.438Z"
   },
   {
    "duration": 408,
    "start_time": "2022-03-08T03:54:27.449Z"
   },
   {
    "duration": 14,
    "start_time": "2022-03-08T03:54:27.860Z"
   },
   {
    "duration": 12,
    "start_time": "2022-03-08T03:54:27.877Z"
   },
   {
    "duration": 18,
    "start_time": "2022-03-08T03:54:27.892Z"
   },
   {
    "duration": 19,
    "start_time": "2022-03-08T03:54:27.912Z"
   },
   {
    "duration": 41,
    "start_time": "2022-03-08T03:54:27.934Z"
   },
   {
    "duration": 37,
    "start_time": "2022-03-08T03:54:27.977Z"
   },
   {
    "duration": 10,
    "start_time": "2022-03-08T03:54:28.016Z"
   },
   {
    "duration": 306,
    "start_time": "2022-03-08T03:54:28.031Z"
   },
   {
    "duration": 6,
    "start_time": "2022-03-08T03:54:28.340Z"
   },
   {
    "duration": 36,
    "start_time": "2022-03-08T03:54:28.348Z"
   },
   {
    "duration": 6,
    "start_time": "2022-03-08T03:54:28.387Z"
   },
   {
    "duration": 5,
    "start_time": "2022-03-08T03:54:28.396Z"
   },
   {
    "duration": 11,
    "start_time": "2022-03-08T03:54:28.403Z"
   },
   {
    "duration": 57,
    "start_time": "2022-03-08T03:54:28.416Z"
   },
   {
    "duration": 12,
    "start_time": "2022-03-08T03:54:28.476Z"
   },
   {
    "duration": 19,
    "start_time": "2022-03-08T03:54:28.490Z"
   },
   {
    "duration": 64,
    "start_time": "2022-03-08T03:54:28.511Z"
   },
   {
    "duration": 12,
    "start_time": "2022-03-08T03:54:28.578Z"
   },
   {
    "duration": 81,
    "start_time": "2022-03-08T03:54:28.593Z"
   },
   {
    "duration": 29,
    "start_time": "2022-03-08T03:54:28.677Z"
   },
   {
    "duration": 25,
    "start_time": "2022-03-08T03:54:28.709Z"
   },
   {
    "duration": 55,
    "start_time": "2022-03-08T03:54:28.737Z"
   },
   {
    "duration": 31,
    "start_time": "2022-03-08T03:54:28.794Z"
   },
   {
    "duration": 51,
    "start_time": "2022-03-08T03:54:28.828Z"
   },
   {
    "duration": 11,
    "start_time": "2022-03-08T03:54:28.881Z"
   },
   {
    "duration": 31,
    "start_time": "2022-03-08T03:54:28.897Z"
   },
   {
    "duration": 46,
    "start_time": "2022-03-08T03:54:28.931Z"
   },
   {
    "duration": 24,
    "start_time": "2022-03-08T03:54:28.979Z"
   },
   {
    "duration": 24,
    "start_time": "2022-03-08T03:54:29.005Z"
   },
   {
    "duration": 63,
    "start_time": "2022-03-08T03:54:29.031Z"
   },
   {
    "duration": 11,
    "start_time": "2022-03-08T03:54:29.096Z"
   },
   {
    "duration": 98,
    "start_time": "2022-03-08T03:54:29.110Z"
   },
   {
    "duration": 23,
    "start_time": "2022-03-08T03:54:29.210Z"
   },
   {
    "duration": 43,
    "start_time": "2022-03-08T03:54:29.236Z"
   },
   {
    "duration": 28,
    "start_time": "2022-03-08T03:54:29.281Z"
   },
   {
    "duration": 12,
    "start_time": "2022-03-08T03:54:29.311Z"
   },
   {
    "duration": 97,
    "start_time": "2022-03-08T03:54:29.325Z"
   },
   {
    "duration": 59,
    "start_time": "2022-03-08T03:54:29.424Z"
   },
   {
    "duration": 48,
    "start_time": "2022-03-08T03:54:29.485Z"
   },
   {
    "duration": 61,
    "start_time": "2022-03-08T03:54:29.535Z"
   },
   {
    "duration": 30,
    "start_time": "2022-03-08T03:54:29.598Z"
   },
   {
    "duration": 45,
    "start_time": "2022-03-08T03:54:29.630Z"
   },
   {
    "duration": 13,
    "start_time": "2022-03-08T03:54:29.677Z"
   },
   {
    "duration": 7,
    "start_time": "2022-03-08T03:54:32.430Z"
   },
   {
    "duration": 4,
    "start_time": "2022-03-08T03:54:38.594Z"
   },
   {
    "duration": 6,
    "start_time": "2022-03-08T03:54:41.183Z"
   },
   {
    "duration": 12,
    "start_time": "2022-03-08T03:54:42.474Z"
   },
   {
    "duration": 4,
    "start_time": "2022-03-08T03:54:43.419Z"
   },
   {
    "duration": 6,
    "start_time": "2022-03-08T03:54:44.167Z"
   },
   {
    "duration": 34,
    "start_time": "2022-03-08T03:54:44.718Z"
   },
   {
    "duration": 5,
    "start_time": "2022-03-08T03:54:45.486Z"
   },
   {
    "duration": 6,
    "start_time": "2022-03-08T03:54:46.687Z"
   },
   {
    "duration": 37,
    "start_time": "2022-03-08T03:54:47.722Z"
   },
   {
    "duration": 19,
    "start_time": "2022-03-08T03:54:51.926Z"
   },
   {
    "duration": 12,
    "start_time": "2022-03-08T03:54:56.327Z"
   },
   {
    "duration": 6,
    "start_time": "2022-03-08T03:54:58.158Z"
   },
   {
    "duration": 4,
    "start_time": "2022-03-08T03:54:59.744Z"
   },
   {
    "duration": 7,
    "start_time": "2022-03-08T03:55:01.791Z"
   },
   {
    "duration": 10,
    "start_time": "2022-03-08T03:55:03.190Z"
   },
   {
    "duration": 4,
    "start_time": "2022-03-08T03:55:03.869Z"
   },
   {
    "duration": 7,
    "start_time": "2022-03-08T03:55:05.326Z"
   },
   {
    "duration": 33,
    "start_time": "2022-03-08T03:55:06.951Z"
   },
   {
    "duration": 4,
    "start_time": "2022-03-08T03:55:10.766Z"
   },
   {
    "duration": 6,
    "start_time": "2022-03-08T03:55:12.485Z"
   },
   {
    "duration": 34,
    "start_time": "2022-03-08T03:55:13.833Z"
   },
   {
    "duration": 23,
    "start_time": "2022-03-08T03:55:15.429Z"
   },
   {
    "duration": 311,
    "start_time": "2022-03-08T04:03:47.379Z"
   },
   {
    "duration": 1521,
    "start_time": "2022-03-08T04:03:54.326Z"
   },
   {
    "duration": 366,
    "start_time": "2022-03-08T04:03:55.850Z"
   },
   {
    "duration": 18,
    "start_time": "2022-03-08T04:03:56.220Z"
   },
   {
    "duration": 17,
    "start_time": "2022-03-08T04:03:56.242Z"
   },
   {
    "duration": 15,
    "start_time": "2022-03-08T04:03:56.274Z"
   },
   {
    "duration": 21,
    "start_time": "2022-03-08T04:03:56.291Z"
   },
   {
    "duration": 11,
    "start_time": "2022-03-08T04:03:56.314Z"
   },
   {
    "duration": 56,
    "start_time": "2022-03-08T04:03:56.327Z"
   },
   {
    "duration": 13,
    "start_time": "2022-03-08T04:03:56.387Z"
   },
   {
    "duration": 321,
    "start_time": "2022-03-08T04:03:56.404Z"
   },
   {
    "duration": 7,
    "start_time": "2022-03-08T04:03:56.728Z"
   },
   {
    "duration": 45,
    "start_time": "2022-03-08T04:03:56.738Z"
   },
   {
    "duration": 8,
    "start_time": "2022-03-08T04:03:56.786Z"
   },
   {
    "duration": 6,
    "start_time": "2022-03-08T04:03:56.797Z"
   },
   {
    "duration": 8,
    "start_time": "2022-03-08T04:03:56.806Z"
   },
   {
    "duration": 66,
    "start_time": "2022-03-08T04:03:56.817Z"
   },
   {
    "duration": 13,
    "start_time": "2022-03-08T04:03:56.886Z"
   },
   {
    "duration": 21,
    "start_time": "2022-03-08T04:03:56.902Z"
   },
   {
    "duration": 82,
    "start_time": "2022-03-08T04:03:56.926Z"
   },
   {
    "duration": 14,
    "start_time": "2022-03-08T04:03:57.011Z"
   },
   {
    "duration": 106,
    "start_time": "2022-03-08T04:03:57.028Z"
   },
   {
    "duration": 54,
    "start_time": "2022-03-08T04:03:57.137Z"
   },
   {
    "duration": 33,
    "start_time": "2022-03-08T04:03:57.194Z"
   },
   {
    "duration": 57,
    "start_time": "2022-03-08T04:03:57.229Z"
   },
   {
    "duration": 35,
    "start_time": "2022-03-08T04:03:57.289Z"
   },
   {
    "duration": 57,
    "start_time": "2022-03-08T04:03:57.327Z"
   },
   {
    "duration": 11,
    "start_time": "2022-03-08T04:03:57.392Z"
   },
   {
    "duration": 69,
    "start_time": "2022-03-08T04:03:57.408Z"
   },
   {
    "duration": 17,
    "start_time": "2022-03-08T04:03:57.479Z"
   },
   {
    "duration": 19,
    "start_time": "2022-03-08T04:03:57.498Z"
   },
   {
    "duration": 54,
    "start_time": "2022-03-08T04:03:57.519Z"
   },
   {
    "duration": 33,
    "start_time": "2022-03-08T04:03:57.575Z"
   },
   {
    "duration": 12,
    "start_time": "2022-03-08T04:03:57.610Z"
   },
   {
    "duration": 106,
    "start_time": "2022-03-08T04:03:57.624Z"
   },
   {
    "duration": 44,
    "start_time": "2022-03-08T04:03:57.733Z"
   },
   {
    "duration": 26,
    "start_time": "2022-03-08T04:03:57.780Z"
   },
   {
    "duration": 29,
    "start_time": "2022-03-08T04:03:57.809Z"
   },
   {
    "duration": 42,
    "start_time": "2022-03-08T04:03:57.841Z"
   },
   {
    "duration": 98,
    "start_time": "2022-03-08T04:03:57.887Z"
   },
   {
    "duration": 46,
    "start_time": "2022-03-08T04:03:57.988Z"
   },
   {
    "duration": 74,
    "start_time": "2022-03-08T04:03:58.037Z"
   },
   {
    "duration": 44,
    "start_time": "2022-03-08T04:03:58.114Z"
   },
   {
    "duration": 30,
    "start_time": "2022-03-08T04:03:58.174Z"
   },
   {
    "duration": 25,
    "start_time": "2022-03-08T04:03:58.206Z"
   },
   {
    "duration": 46,
    "start_time": "2022-03-08T04:03:58.234Z"
   },
   {
    "duration": 25,
    "start_time": "2022-03-08T04:03:58.283Z"
   },
   {
    "duration": 15,
    "start_time": "2022-03-08T04:03:58.310Z"
   },
   {
    "duration": 11,
    "start_time": "2022-03-08T04:03:58.327Z"
   },
   {
    "duration": 25,
    "start_time": "2022-03-08T04:03:58.341Z"
   },
   {
    "duration": 9,
    "start_time": "2022-03-08T04:03:58.369Z"
   },
   {
    "duration": 21,
    "start_time": "2022-03-08T04:03:58.381Z"
   },
   {
    "duration": 45,
    "start_time": "2022-03-08T04:03:58.404Z"
   },
   {
    "duration": 4,
    "start_time": "2022-03-08T04:03:58.452Z"
   },
   {
    "duration": 24,
    "start_time": "2022-03-08T04:03:58.459Z"
   },
   {
    "duration": 39,
    "start_time": "2022-03-08T04:03:58.485Z"
   },
   {
    "duration": 36,
    "start_time": "2022-03-08T04:03:58.527Z"
   },
   {
    "duration": 22,
    "start_time": "2022-03-08T04:03:58.566Z"
   },
   {
    "duration": 9,
    "start_time": "2022-03-08T04:03:58.591Z"
   },
   {
    "duration": 10,
    "start_time": "2022-03-08T04:03:58.603Z"
   },
   {
    "duration": 21,
    "start_time": "2022-03-08T04:03:58.615Z"
   },
   {
    "duration": 20,
    "start_time": "2022-03-08T04:03:58.638Z"
   },
   {
    "duration": 28,
    "start_time": "2022-03-08T04:03:58.660Z"
   },
   {
    "duration": 14,
    "start_time": "2022-03-08T04:03:58.691Z"
   },
   {
    "duration": 40,
    "start_time": "2022-03-08T04:03:58.708Z"
   },
   {
    "duration": 8,
    "start_time": "2022-03-08T04:03:58.751Z"
   },
   {
    "duration": 15,
    "start_time": "2022-03-08T04:03:58.762Z"
   },
   {
    "duration": 34,
    "start_time": "2022-03-08T04:03:58.780Z"
   },
   {
    "duration": 41,
    "start_time": "2022-03-08T04:03:58.817Z"
   },
   {
    "duration": 90997,
    "start_time": "2022-03-08T04:04:01.655Z"
   },
   {
    "duration": -904,
    "start_time": "2022-03-08T04:05:33.558Z"
   },
   {
    "duration": -905,
    "start_time": "2022-03-08T04:05:33.561Z"
   },
   {
    "duration": -905,
    "start_time": "2022-03-08T04:05:33.562Z"
   },
   {
    "duration": 18,
    "start_time": "2022-03-08T04:06:03.083Z"
   },
   {
    "duration": 40,
    "start_time": "2022-03-08T04:06:11.413Z"
   },
   {
    "duration": 47,
    "start_time": "2022-03-08T04:06:21.100Z"
   },
   {
    "duration": 531,
    "start_time": "2022-03-08T04:08:46.909Z"
   },
   {
    "duration": 326,
    "start_time": "2022-03-08T04:09:00.998Z"
   },
   {
    "duration": 48,
    "start_time": "2022-03-08T04:09:18.564Z"
   },
   {
    "duration": 213,
    "start_time": "2022-03-08T04:09:27.947Z"
   },
   {
    "duration": 212,
    "start_time": "2022-03-08T04:09:31.817Z"
   },
   {
    "duration": 339,
    "start_time": "2022-03-08T04:10:46.422Z"
   },
   {
    "duration": 51,
    "start_time": "2022-03-08T04:10:50.459Z"
   },
   {
    "duration": 220,
    "start_time": "2022-03-08T04:10:51.729Z"
   },
   {
    "duration": 215,
    "start_time": "2022-03-08T04:11:00.246Z"
   },
   {
    "duration": 88,
    "start_time": "2022-03-08T04:11:43.882Z"
   },
   {
    "duration": 312,
    "start_time": "2022-03-08T04:14:12.696Z"
   },
   {
    "duration": 54,
    "start_time": "2022-03-08T04:14:19.401Z"
   },
   {
    "duration": 210,
    "start_time": "2022-03-08T04:14:22.562Z"
   },
   {
    "duration": 213,
    "start_time": "2022-03-08T04:14:27.633Z"
   },
   {
    "duration": 52,
    "start_time": "2022-03-08T04:16:08.545Z"
   },
   {
    "duration": 208,
    "start_time": "2022-03-08T04:16:18.617Z"
   },
   {
    "duration": 223,
    "start_time": "2022-03-08T04:16:20.350Z"
   },
   {
    "duration": 58,
    "start_time": "2022-03-08T04:16:23.674Z"
   },
   {
    "duration": 319,
    "start_time": "2022-03-08T04:17:24.009Z"
   },
   {
    "duration": 8,
    "start_time": "2022-03-08T04:19:47.007Z"
   },
   {
    "duration": 7,
    "start_time": "2022-03-08T04:20:40.501Z"
   },
   {
    "duration": 25,
    "start_time": "2022-03-08T04:20:52.613Z"
   },
   {
    "duration": 6673,
    "start_time": "2022-03-08T04:21:03.346Z"
   },
   {
    "duration": 28,
    "start_time": "2022-03-08T04:21:31.634Z"
   },
   {
    "duration": 6311,
    "start_time": "2022-03-08T04:21:46.866Z"
   },
   {
    "duration": 32,
    "start_time": "2022-03-08T04:23:01.707Z"
   },
   {
    "duration": 6341,
    "start_time": "2022-03-08T04:23:39.515Z"
   },
   {
    "duration": 5,
    "start_time": "2022-03-08T04:24:01.050Z"
   },
   {
    "duration": 398,
    "start_time": "2022-03-08T04:24:01.058Z"
   },
   {
    "duration": 13,
    "start_time": "2022-03-08T04:24:01.459Z"
   },
   {
    "duration": 17,
    "start_time": "2022-03-08T04:24:01.475Z"
   },
   {
    "duration": 16,
    "start_time": "2022-03-08T04:24:01.494Z"
   },
   {
    "duration": 19,
    "start_time": "2022-03-08T04:24:01.513Z"
   },
   {
    "duration": 40,
    "start_time": "2022-03-08T04:24:01.535Z"
   },
   {
    "duration": 22,
    "start_time": "2022-03-08T04:24:01.577Z"
   },
   {
    "duration": 11,
    "start_time": "2022-03-08T04:24:01.603Z"
   },
   {
    "duration": 316,
    "start_time": "2022-03-08T04:24:01.617Z"
   },
   {
    "duration": 7,
    "start_time": "2022-03-08T04:24:01.935Z"
   },
   {
    "duration": 44,
    "start_time": "2022-03-08T04:24:01.944Z"
   },
   {
    "duration": 7,
    "start_time": "2022-03-08T04:24:01.990Z"
   },
   {
    "duration": 4,
    "start_time": "2022-03-08T04:24:02.000Z"
   },
   {
    "duration": 14,
    "start_time": "2022-03-08T04:24:02.007Z"
   },
   {
    "duration": 51,
    "start_time": "2022-03-08T04:24:02.023Z"
   },
   {
    "duration": 13,
    "start_time": "2022-03-08T04:24:02.077Z"
   },
   {
    "duration": 19,
    "start_time": "2022-03-08T04:24:02.093Z"
   },
   {
    "duration": 69,
    "start_time": "2022-03-08T04:24:02.115Z"
   },
   {
    "duration": 12,
    "start_time": "2022-03-08T04:24:02.186Z"
   },
   {
    "duration": 88,
    "start_time": "2022-03-08T04:24:02.201Z"
   },
   {
    "duration": 29,
    "start_time": "2022-03-08T04:24:02.291Z"
   },
   {
    "duration": 50,
    "start_time": "2022-03-08T04:24:02.323Z"
   },
   {
    "duration": 28,
    "start_time": "2022-03-08T04:24:02.376Z"
   },
   {
    "duration": 31,
    "start_time": "2022-03-08T04:24:02.406Z"
   },
   {
    "duration": 53,
    "start_time": "2022-03-08T04:24:02.440Z"
   },
   {
    "duration": 12,
    "start_time": "2022-03-08T04:24:02.502Z"
   },
   {
    "duration": 77,
    "start_time": "2022-03-08T04:24:02.520Z"
   },
   {
    "duration": 20,
    "start_time": "2022-03-08T04:24:02.600Z"
   },
   {
    "duration": 23,
    "start_time": "2022-03-08T04:24:02.623Z"
   },
   {
    "duration": 23,
    "start_time": "2022-03-08T04:24:02.674Z"
   },
   {
    "duration": 33,
    "start_time": "2022-03-08T04:24:02.700Z"
   },
   {
    "duration": 46,
    "start_time": "2022-03-08T04:24:02.736Z"
   },
   {
    "duration": 91,
    "start_time": "2022-03-08T04:24:02.785Z"
   },
   {
    "duration": 23,
    "start_time": "2022-03-08T04:24:02.878Z"
   },
   {
    "duration": 23,
    "start_time": "2022-03-08T04:24:02.903Z"
   },
   {
    "duration": 60,
    "start_time": "2022-03-08T04:24:02.928Z"
   },
   {
    "duration": 12,
    "start_time": "2022-03-08T04:24:02.991Z"
   },
   {
    "duration": 91,
    "start_time": "2022-03-08T04:24:03.006Z"
   },
   {
    "duration": 47,
    "start_time": "2022-03-08T04:24:03.100Z"
   },
   {
    "duration": 66,
    "start_time": "2022-03-08T04:24:03.150Z"
   },
   {
    "duration": 57,
    "start_time": "2022-03-08T04:24:03.219Z"
   },
   {
    "duration": 32,
    "start_time": "2022-03-08T04:24:03.279Z"
   },
   {
    "duration": 25,
    "start_time": "2022-03-08T04:24:03.313Z"
   },
   {
    "duration": 40,
    "start_time": "2022-03-08T04:24:03.340Z"
   },
   {
    "duration": 7,
    "start_time": "2022-03-08T04:24:03.383Z"
   },
   {
    "duration": 9,
    "start_time": "2022-03-08T04:24:03.392Z"
   },
   {
    "duration": 10,
    "start_time": "2022-03-08T04:24:03.403Z"
   },
   {
    "duration": 14,
    "start_time": "2022-03-08T04:24:03.416Z"
   },
   {
    "duration": 41,
    "start_time": "2022-03-08T04:24:03.432Z"
   },
   {
    "duration": 12,
    "start_time": "2022-03-08T04:24:03.476Z"
   },
   {
    "duration": 37,
    "start_time": "2022-03-08T04:24:03.490Z"
   },
   {
    "duration": 5,
    "start_time": "2022-03-08T04:24:03.529Z"
   },
   {
    "duration": 14,
    "start_time": "2022-03-08T04:24:03.536Z"
   },
   {
    "duration": 52,
    "start_time": "2022-03-08T04:24:03.552Z"
   },
   {
    "duration": 25,
    "start_time": "2022-03-08T04:24:03.607Z"
   },
   {
    "duration": 40,
    "start_time": "2022-03-08T04:24:03.635Z"
   },
   {
    "duration": 10,
    "start_time": "2022-03-08T04:24:03.678Z"
   },
   {
    "duration": 10,
    "start_time": "2022-03-08T04:24:03.690Z"
   },
   {
    "duration": 22,
    "start_time": "2022-03-08T04:24:03.702Z"
   },
   {
    "duration": 21,
    "start_time": "2022-03-08T04:24:03.726Z"
   },
   {
    "duration": 13,
    "start_time": "2022-03-08T04:24:03.750Z"
   },
   {
    "duration": 12,
    "start_time": "2022-03-08T04:24:03.765Z"
   },
   {
    "duration": 37,
    "start_time": "2022-03-08T04:24:03.779Z"
   },
   {
    "duration": 5,
    "start_time": "2022-03-08T04:24:03.818Z"
   },
   {
    "duration": 12,
    "start_time": "2022-03-08T04:24:03.825Z"
   },
   {
    "duration": 64,
    "start_time": "2022-03-08T04:24:03.839Z"
   },
   {
    "duration": 24,
    "start_time": "2022-03-08T04:24:03.906Z"
   },
   {
    "duration": 699,
    "start_time": "2022-03-08T04:24:03.932Z"
   },
   {
    "duration": 359,
    "start_time": "2022-03-08T04:24:04.634Z"
   },
   {
    "duration": 54,
    "start_time": "2022-03-08T04:24:04.996Z"
   },
   {
    "duration": 234,
    "start_time": "2022-03-08T04:24:05.074Z"
   },
   {
    "duration": 232,
    "start_time": "2022-03-08T04:24:05.311Z"
   },
   {
    "duration": 371,
    "start_time": "2022-03-08T04:24:05.545Z"
   },
   {
    "duration": 67,
    "start_time": "2022-03-08T04:24:05.919Z"
   },
   {
    "duration": 247,
    "start_time": "2022-03-08T04:24:05.988Z"
   },
   {
    "duration": 236,
    "start_time": "2022-03-08T04:24:06.237Z"
   },
   {
    "duration": 328,
    "start_time": "2022-03-08T04:24:06.475Z"
   },
   {
    "duration": 70,
    "start_time": "2022-03-08T04:24:06.805Z"
   },
   {
    "duration": 231,
    "start_time": "2022-03-08T04:24:06.877Z"
   },
   {
    "duration": 261,
    "start_time": "2022-03-08T04:24:07.115Z"
   },
   {
    "duration": 52,
    "start_time": "2022-03-08T04:24:07.379Z"
   },
   {
    "duration": 330,
    "start_time": "2022-03-08T04:24:07.433Z"
   },
   {
    "duration": 226,
    "start_time": "2022-03-08T04:24:07.765Z"
   },
   {
    "duration": 241,
    "start_time": "2022-03-08T04:24:07.993Z"
   },
   {
    "duration": 7,
    "start_time": "2022-03-08T04:24:08.236Z"
   },
   {
    "duration": 16,
    "start_time": "2022-03-08T04:24:12.677Z"
   },
   {
    "duration": 6623,
    "start_time": "2022-03-08T04:24:47.037Z"
   },
   {
    "duration": 16,
    "start_time": "2022-03-08T04:25:49.708Z"
   },
   {
    "duration": 29,
    "start_time": "2022-03-08T04:26:56.299Z"
   },
   {
    "duration": 322,
    "start_time": "2022-03-08T04:27:21.524Z"
   },
   {
    "duration": 5,
    "start_time": "2022-03-08T04:27:31.382Z"
   },
   {
    "duration": 423,
    "start_time": "2022-03-08T04:27:31.389Z"
   },
   {
    "duration": 15,
    "start_time": "2022-03-08T04:27:31.815Z"
   },
   {
    "duration": 21,
    "start_time": "2022-03-08T04:27:31.832Z"
   },
   {
    "duration": 23,
    "start_time": "2022-03-08T04:27:31.855Z"
   },
   {
    "duration": 15,
    "start_time": "2022-03-08T04:27:31.881Z"
   },
   {
    "duration": 12,
    "start_time": "2022-03-08T04:27:31.898Z"
   },
   {
    "duration": 21,
    "start_time": "2022-03-08T04:27:31.913Z"
   },
   {
    "duration": 44,
    "start_time": "2022-03-08T04:27:31.938Z"
   },
   {
    "duration": 308,
    "start_time": "2022-03-08T04:27:31.985Z"
   },
   {
    "duration": 7,
    "start_time": "2022-03-08T04:27:32.296Z"
   },
   {
    "duration": 35,
    "start_time": "2022-03-08T04:27:32.305Z"
   },
   {
    "duration": 9,
    "start_time": "2022-03-08T04:27:32.343Z"
   },
   {
    "duration": 4,
    "start_time": "2022-03-08T04:27:32.374Z"
   },
   {
    "duration": 11,
    "start_time": "2022-03-08T04:27:32.381Z"
   },
   {
    "duration": 21,
    "start_time": "2022-03-08T04:27:32.395Z"
   },
   {
    "duration": 13,
    "start_time": "2022-03-08T04:27:32.418Z"
   },
   {
    "duration": 52,
    "start_time": "2022-03-08T04:27:32.434Z"
   },
   {
    "duration": 40,
    "start_time": "2022-03-08T04:27:32.489Z"
   },
   {
    "duration": 13,
    "start_time": "2022-03-08T04:27:32.531Z"
   },
   {
    "duration": 62,
    "start_time": "2022-03-08T04:27:32.574Z"
   },
   {
    "duration": 50,
    "start_time": "2022-03-08T04:27:32.638Z"
   },
   {
    "duration": 27,
    "start_time": "2022-03-08T04:27:32.691Z"
   },
   {
    "duration": 53,
    "start_time": "2022-03-08T04:27:32.721Z"
   },
   {
    "duration": 33,
    "start_time": "2022-03-08T04:27:32.777Z"
   },
   {
    "duration": 28,
    "start_time": "2022-03-08T04:27:32.812Z"
   },
   {
    "duration": 12,
    "start_time": "2022-03-08T04:27:32.877Z"
   },
   {
    "duration": 31,
    "start_time": "2022-03-08T04:27:32.893Z"
   },
   {
    "duration": 48,
    "start_time": "2022-03-08T04:27:32.926Z"
   },
   {
    "duration": 23,
    "start_time": "2022-03-08T04:27:32.977Z"
   },
   {
    "duration": 24,
    "start_time": "2022-03-08T04:27:33.004Z"
   },
   {
    "duration": 69,
    "start_time": "2022-03-08T04:27:33.031Z"
   },
   {
    "duration": 14,
    "start_time": "2022-03-08T04:27:33.103Z"
   },
   {
    "duration": 118,
    "start_time": "2022-03-08T04:27:33.120Z"
   },
   {
    "duration": 39,
    "start_time": "2022-03-08T04:27:33.241Z"
   },
   {
    "duration": 27,
    "start_time": "2022-03-08T04:27:33.283Z"
   },
   {
    "duration": 28,
    "start_time": "2022-03-08T04:27:33.312Z"
   },
   {
    "duration": 41,
    "start_time": "2022-03-08T04:27:33.343Z"
   },
   {
    "duration": 88,
    "start_time": "2022-03-08T04:27:33.387Z"
   },
   {
    "duration": 49,
    "start_time": "2022-03-08T04:27:33.477Z"
   },
   {
    "duration": 69,
    "start_time": "2022-03-08T04:27:33.529Z"
   },
   {
    "duration": 41,
    "start_time": "2022-03-08T04:27:33.601Z"
   },
   {
    "duration": 52,
    "start_time": "2022-03-08T04:27:33.644Z"
   },
   {
    "duration": 24,
    "start_time": "2022-03-08T04:27:33.699Z"
   },
   {
    "duration": 18,
    "start_time": "2022-03-08T04:27:33.726Z"
   },
   {
    "duration": 32,
    "start_time": "2022-03-08T04:27:33.746Z"
   },
   {
    "duration": 8,
    "start_time": "2022-03-08T04:27:33.781Z"
   },
   {
    "duration": 11,
    "start_time": "2022-03-08T04:27:33.792Z"
   },
   {
    "duration": 24,
    "start_time": "2022-03-08T04:27:33.806Z"
   },
   {
    "duration": 16,
    "start_time": "2022-03-08T04:27:33.833Z"
   },
   {
    "duration": 28,
    "start_time": "2022-03-08T04:27:33.851Z"
   },
   {
    "duration": 35,
    "start_time": "2022-03-08T04:27:33.882Z"
   },
   {
    "duration": 5,
    "start_time": "2022-03-08T04:27:33.919Z"
   },
   {
    "duration": 11,
    "start_time": "2022-03-08T04:27:33.927Z"
   },
   {
    "duration": 36,
    "start_time": "2022-03-08T04:27:33.974Z"
   },
   {
    "duration": 25,
    "start_time": "2022-03-08T04:27:34.013Z"
   },
   {
    "duration": 34,
    "start_time": "2022-03-08T04:27:34.041Z"
   },
   {
    "duration": 10,
    "start_time": "2022-03-08T04:27:34.078Z"
   },
   {
    "duration": 7,
    "start_time": "2022-03-08T04:27:34.091Z"
   },
   {
    "duration": 13,
    "start_time": "2022-03-08T04:27:34.101Z"
   },
   {
    "duration": 22,
    "start_time": "2022-03-08T04:27:34.116Z"
   },
   {
    "duration": 16,
    "start_time": "2022-03-08T04:27:34.140Z"
   },
   {
    "duration": 17,
    "start_time": "2022-03-08T04:27:34.159Z"
   },
   {
    "duration": 37,
    "start_time": "2022-03-08T04:27:34.179Z"
   },
   {
    "duration": 5,
    "start_time": "2022-03-08T04:27:34.218Z"
   },
   {
    "duration": 19,
    "start_time": "2022-03-08T04:27:34.225Z"
   },
   {
    "duration": 55,
    "start_time": "2022-03-08T04:27:34.247Z"
   },
   {
    "duration": 26,
    "start_time": "2022-03-08T04:27:34.305Z"
   },
   {
    "duration": 599,
    "start_time": "2022-03-08T04:27:34.333Z"
   },
   {
    "duration": 344,
    "start_time": "2022-03-08T04:27:34.934Z"
   },
   {
    "duration": 48,
    "start_time": "2022-03-08T04:27:35.281Z"
   },
   {
    "duration": 244,
    "start_time": "2022-03-08T04:27:35.331Z"
   },
   {
    "duration": 229,
    "start_time": "2022-03-08T04:27:35.578Z"
   },
   {
    "duration": 359,
    "start_time": "2022-03-08T04:27:35.810Z"
   },
   {
    "duration": 48,
    "start_time": "2022-03-08T04:27:36.173Z"
   },
   {
    "duration": 253,
    "start_time": "2022-03-08T04:27:36.224Z"
   },
   {
    "duration": 238,
    "start_time": "2022-03-08T04:27:36.480Z"
   },
   {
    "duration": 334,
    "start_time": "2022-03-08T04:27:36.720Z"
   },
   {
    "duration": 63,
    "start_time": "2022-03-08T04:27:37.056Z"
   },
   {
    "duration": 227,
    "start_time": "2022-03-08T04:27:37.121Z"
   },
   {
    "duration": 238,
    "start_time": "2022-03-08T04:27:37.356Z"
   },
   {
    "duration": 52,
    "start_time": "2022-03-08T04:27:37.597Z"
   },
   {
    "duration": 345,
    "start_time": "2022-03-08T04:27:37.651Z"
   },
   {
    "duration": 230,
    "start_time": "2022-03-08T04:27:37.998Z"
   },
   {
    "duration": 235,
    "start_time": "2022-03-08T04:27:38.230Z"
   },
   {
    "duration": 25,
    "start_time": "2022-03-08T04:27:38.473Z"
   },
   {
    "duration": 50,
    "start_time": "2022-03-08T04:27:42.751Z"
   },
   {
    "duration": 358,
    "start_time": "2022-03-08T04:28:57.709Z"
   },
   {
    "duration": 329,
    "start_time": "2022-03-08T04:29:09.229Z"
   },
   {
    "duration": 223,
    "start_time": "2022-03-08T04:29:41.416Z"
   },
   {
    "duration": 206,
    "start_time": "2022-03-08T04:29:54.295Z"
   },
   {
    "duration": 4,
    "start_time": "2022-03-08T04:32:13.346Z"
   },
   {
    "duration": 7,
    "start_time": "2022-03-08T04:32:21.882Z"
   },
   {
    "duration": 8,
    "start_time": "2022-03-08T04:32:37.262Z"
   },
   {
    "duration": 7,
    "start_time": "2022-03-08T04:33:30.123Z"
   },
   {
    "duration": 1705,
    "start_time": "2022-03-08T15:32:51.747Z"
   },
   {
    "duration": 429,
    "start_time": "2022-03-08T15:32:53.455Z"
   },
   {
    "duration": 19,
    "start_time": "2022-03-08T15:32:53.887Z"
   },
   {
    "duration": 17,
    "start_time": "2022-03-08T15:32:53.909Z"
   },
   {
    "duration": 17,
    "start_time": "2022-03-08T15:32:53.928Z"
   },
   {
    "duration": 22,
    "start_time": "2022-03-08T15:32:53.947Z"
   },
   {
    "duration": 30,
    "start_time": "2022-03-08T15:32:53.971Z"
   },
   {
    "duration": 18,
    "start_time": "2022-03-08T15:32:54.004Z"
   },
   {
    "duration": 18,
    "start_time": "2022-03-08T15:32:54.024Z"
   },
   {
    "duration": 219,
    "start_time": "2022-03-08T15:32:54.045Z"
   },
   {
    "duration": 5,
    "start_time": "2022-03-08T15:32:54.266Z"
   },
   {
    "duration": 35,
    "start_time": "2022-03-08T15:32:54.273Z"
   },
   {
    "duration": 8,
    "start_time": "2022-03-08T15:32:54.310Z"
   },
   {
    "duration": 10,
    "start_time": "2022-03-08T15:32:54.320Z"
   },
   {
    "duration": 11,
    "start_time": "2022-03-08T15:32:54.332Z"
   },
   {
    "duration": 18,
    "start_time": "2022-03-08T15:32:54.346Z"
   },
   {
    "duration": 13,
    "start_time": "2022-03-08T15:32:54.366Z"
   },
   {
    "duration": 14,
    "start_time": "2022-03-08T15:32:54.402Z"
   },
   {
    "duration": 38,
    "start_time": "2022-03-08T15:32:54.418Z"
   },
   {
    "duration": 9,
    "start_time": "2022-03-08T15:32:54.457Z"
   },
   {
    "duration": 81,
    "start_time": "2022-03-08T15:32:54.468Z"
   },
   {
    "duration": 25,
    "start_time": "2022-03-08T15:32:54.551Z"
   },
   {
    "duration": 24,
    "start_time": "2022-03-08T15:32:54.600Z"
   },
   {
    "duration": 25,
    "start_time": "2022-03-08T15:32:54.628Z"
   },
   {
    "duration": 62,
    "start_time": "2022-03-08T15:32:54.655Z"
   },
   {
    "duration": 22,
    "start_time": "2022-03-08T15:32:54.719Z"
   },
   {
    "duration": 7,
    "start_time": "2022-03-08T15:32:54.743Z"
   },
   {
    "duration": 57,
    "start_time": "2022-03-08T15:32:54.752Z"
   },
   {
    "duration": 14,
    "start_time": "2022-03-08T15:32:54.811Z"
   },
   {
    "duration": 27,
    "start_time": "2022-03-08T15:32:54.827Z"
   },
   {
    "duration": 19,
    "start_time": "2022-03-08T15:32:54.856Z"
   },
   {
    "duration": 50,
    "start_time": "2022-03-08T15:32:54.877Z"
   },
   {
    "duration": 10,
    "start_time": "2022-03-08T15:32:54.929Z"
   },
   {
    "duration": 81,
    "start_time": "2022-03-08T15:32:54.941Z"
   },
   {
    "duration": 21,
    "start_time": "2022-03-08T15:32:55.025Z"
   },
   {
    "duration": 22,
    "start_time": "2022-03-08T15:32:55.048Z"
   },
   {
    "duration": 48,
    "start_time": "2022-03-08T15:32:55.072Z"
   },
   {
    "duration": 11,
    "start_time": "2022-03-08T15:32:55.122Z"
   },
   {
    "duration": 81,
    "start_time": "2022-03-08T15:32:55.135Z"
   },
   {
    "duration": 37,
    "start_time": "2022-03-08T15:32:55.218Z"
   },
   {
    "duration": 54,
    "start_time": "2022-03-08T15:32:55.258Z"
   },
   {
    "duration": 36,
    "start_time": "2022-03-08T15:32:55.314Z"
   },
   {
    "duration": 23,
    "start_time": "2022-03-08T15:32:55.352Z"
   },
   {
    "duration": 40,
    "start_time": "2022-03-08T15:32:55.377Z"
   },
   {
    "duration": 9,
    "start_time": "2022-03-08T15:32:55.419Z"
   },
   {
    "duration": 12,
    "start_time": "2022-03-08T15:32:55.430Z"
   },
   {
    "duration": 11,
    "start_time": "2022-03-08T15:32:55.444Z"
   },
   {
    "duration": 11,
    "start_time": "2022-03-08T15:32:55.457Z"
   },
   {
    "duration": 32,
    "start_time": "2022-03-08T15:32:55.469Z"
   },
   {
    "duration": 14,
    "start_time": "2022-03-08T15:32:55.503Z"
   },
   {
    "duration": 14,
    "start_time": "2022-03-08T15:32:55.519Z"
   },
   {
    "duration": 29,
    "start_time": "2022-03-08T15:32:55.535Z"
   },
   {
    "duration": 3,
    "start_time": "2022-03-08T15:32:55.567Z"
   },
   {
    "duration": 8,
    "start_time": "2022-03-08T15:32:55.572Z"
   },
   {
    "duration": 41,
    "start_time": "2022-03-08T15:32:55.582Z"
   },
   {
    "duration": 14,
    "start_time": "2022-03-08T15:32:55.624Z"
   },
   {
    "duration": 12,
    "start_time": "2022-03-08T15:32:55.640Z"
   },
   {
    "duration": 10,
    "start_time": "2022-03-08T15:32:55.654Z"
   },
   {
    "duration": 36,
    "start_time": "2022-03-08T15:32:55.666Z"
   },
   {
    "duration": 11,
    "start_time": "2022-03-08T15:32:55.704Z"
   },
   {
    "duration": 17,
    "start_time": "2022-03-08T15:32:55.717Z"
   },
   {
    "duration": 12,
    "start_time": "2022-03-08T15:32:55.736Z"
   },
   {
    "duration": 20,
    "start_time": "2022-03-08T15:32:55.750Z"
   },
   {
    "duration": 33,
    "start_time": "2022-03-08T15:32:55.772Z"
   },
   {
    "duration": 4,
    "start_time": "2022-03-08T15:32:55.807Z"
   },
   {
    "duration": 10,
    "start_time": "2022-03-08T15:32:55.813Z"
   },
   {
    "duration": 28,
    "start_time": "2022-03-08T15:32:55.826Z"
   },
   {
    "duration": 41,
    "start_time": "2022-03-08T15:32:55.861Z"
   },
   {
    "duration": 397,
    "start_time": "2022-03-08T15:32:55.905Z"
   },
   {
    "duration": 223,
    "start_time": "2022-03-08T15:32:56.304Z"
   },
   {
    "duration": 35,
    "start_time": "2022-03-08T15:32:56.529Z"
   },
   {
    "duration": 162,
    "start_time": "2022-03-08T15:32:56.566Z"
   },
   {
    "duration": 152,
    "start_time": "2022-03-08T15:32:56.730Z"
   },
   {
    "duration": 343,
    "start_time": "2022-03-08T15:32:56.884Z"
   },
   {
    "duration": 42,
    "start_time": "2022-03-08T15:32:57.230Z"
   },
   {
    "duration": 241,
    "start_time": "2022-03-08T15:32:57.274Z"
   },
   {
    "duration": 158,
    "start_time": "2022-03-08T15:32:57.518Z"
   },
   {
    "duration": 206,
    "start_time": "2022-03-08T15:32:57.682Z"
   },
   {
    "duration": 42,
    "start_time": "2022-03-08T15:32:57.890Z"
   },
   {
    "duration": 151,
    "start_time": "2022-03-08T15:32:57.934Z"
   },
   {
    "duration": 156,
    "start_time": "2022-03-08T15:32:58.087Z"
   },
   {
    "duration": 38,
    "start_time": "2022-03-08T15:32:58.245Z"
   },
   {
    "duration": 226,
    "start_time": "2022-03-08T15:32:58.300Z"
   },
   {
    "duration": 151,
    "start_time": "2022-03-08T15:32:58.529Z"
   },
   {
    "duration": 163,
    "start_time": "2022-03-08T15:32:58.682Z"
   },
   {
    "duration": 19,
    "start_time": "2022-03-08T15:32:58.847Z"
   },
   {
    "duration": 55,
    "start_time": "2022-03-08T15:32:58.868Z"
   },
   {
    "duration": 227,
    "start_time": "2022-03-08T15:32:58.925Z"
   },
   {
    "duration": 176,
    "start_time": "2022-03-08T15:32:59.154Z"
   },
   {
    "duration": 156,
    "start_time": "2022-03-08T15:32:59.332Z"
   },
   {
    "duration": 14,
    "start_time": "2022-03-08T15:32:59.490Z"
   },
   {
    "duration": 21,
    "start_time": "2022-03-08T15:32:59.506Z"
   },
   {
    "duration": 9,
    "start_time": "2022-03-08T15:39:44.388Z"
   },
   {
    "duration": 4,
    "start_time": "2022-03-10T02:12:08.725Z"
   },
   {
    "duration": 346,
    "start_time": "2022-03-10T02:12:14.337Z"
   },
   {
    "duration": 1094,
    "start_time": "2022-03-10T02:12:18.353Z"
   },
   {
    "duration": 306,
    "start_time": "2022-03-10T02:12:19.449Z"
   },
   {
    "duration": 11,
    "start_time": "2022-03-10T02:12:19.757Z"
   },
   {
    "duration": 19,
    "start_time": "2022-03-10T02:12:19.771Z"
   },
   {
    "duration": 9,
    "start_time": "2022-03-10T02:12:19.792Z"
   },
   {
    "duration": 11,
    "start_time": "2022-03-10T02:12:19.803Z"
   },
   {
    "duration": 8,
    "start_time": "2022-03-10T02:12:19.816Z"
   },
   {
    "duration": 14,
    "start_time": "2022-03-10T02:12:19.826Z"
   },
   {
    "duration": 7,
    "start_time": "2022-03-10T02:12:19.843Z"
   },
   {
    "duration": 191,
    "start_time": "2022-03-10T02:12:19.852Z"
   },
   {
    "duration": 4,
    "start_time": "2022-03-10T02:12:20.045Z"
   },
   {
    "duration": 19,
    "start_time": "2022-03-10T02:12:20.050Z"
   },
   {
    "duration": 4,
    "start_time": "2022-03-10T02:12:20.070Z"
   },
   {
    "duration": 5,
    "start_time": "2022-03-10T02:12:20.076Z"
   },
   {
    "duration": 23,
    "start_time": "2022-03-10T02:12:20.083Z"
   },
   {
    "duration": 13,
    "start_time": "2022-03-10T02:12:20.108Z"
   },
   {
    "duration": 6,
    "start_time": "2022-03-10T02:12:20.123Z"
   },
   {
    "duration": 11,
    "start_time": "2022-03-10T02:12:20.131Z"
   },
   {
    "duration": 28,
    "start_time": "2022-03-10T02:12:20.144Z"
   },
   {
    "duration": 32,
    "start_time": "2022-03-10T02:12:20.174Z"
   },
   {
    "duration": 43,
    "start_time": "2022-03-10T02:12:20.208Z"
   },
   {
    "duration": 21,
    "start_time": "2022-03-10T02:12:20.252Z"
   },
   {
    "duration": 40,
    "start_time": "2022-03-10T02:12:20.275Z"
   },
   {
    "duration": 19,
    "start_time": "2022-03-10T02:12:20.317Z"
   },
   {
    "duration": 21,
    "start_time": "2022-03-10T02:12:20.337Z"
   },
   {
    "duration": 18,
    "start_time": "2022-03-10T02:12:20.360Z"
   },
   {
    "duration": 8,
    "start_time": "2022-03-10T02:12:20.407Z"
   },
   {
    "duration": 24,
    "start_time": "2022-03-10T02:12:20.417Z"
   },
   {
    "duration": 12,
    "start_time": "2022-03-10T02:12:20.442Z"
   },
   {
    "duration": 12,
    "start_time": "2022-03-10T02:12:20.456Z"
   },
   {
    "duration": 39,
    "start_time": "2022-03-10T02:12:20.470Z"
   },
   {
    "duration": 23,
    "start_time": "2022-03-10T02:12:20.510Z"
   },
   {
    "duration": 8,
    "start_time": "2022-03-10T02:12:20.534Z"
   },
   {
    "duration": 68,
    "start_time": "2022-03-10T02:12:20.543Z"
   },
   {
    "duration": 16,
    "start_time": "2022-03-10T02:12:20.612Z"
   },
   {
    "duration": 16,
    "start_time": "2022-03-10T02:12:20.629Z"
   },
   {
    "duration": 17,
    "start_time": "2022-03-10T02:12:20.647Z"
   },
   {
    "duration": 7,
    "start_time": "2022-03-10T02:12:20.666Z"
   },
   {
    "duration": 44,
    "start_time": "2022-03-10T02:12:20.706Z"
   },
   {
    "duration": 28,
    "start_time": "2022-03-10T02:12:20.751Z"
   },
   {
    "duration": 46,
    "start_time": "2022-03-10T02:12:20.780Z"
   },
   {
    "duration": 27,
    "start_time": "2022-03-10T02:12:20.827Z"
   },
   {
    "duration": 18,
    "start_time": "2022-03-10T02:12:20.856Z"
   },
   {
    "duration": 35,
    "start_time": "2022-03-10T02:12:20.875Z"
   },
   {
    "duration": 7,
    "start_time": "2022-03-10T02:12:20.912Z"
   },
   {
    "duration": 9,
    "start_time": "2022-03-10T02:12:20.921Z"
   },
   {
    "duration": 8,
    "start_time": "2022-03-10T02:12:20.932Z"
   },
   {
    "duration": 25,
    "start_time": "2022-03-10T02:12:20.942Z"
   },
   {
    "duration": 21,
    "start_time": "2022-03-10T02:12:20.969Z"
   },
   {
    "duration": 4,
    "start_time": "2022-03-10T02:12:20.992Z"
   },
   {
    "duration": 8,
    "start_time": "2022-03-10T02:12:20.998Z"
   },
   {
    "duration": 26,
    "start_time": "2022-03-10T02:12:21.007Z"
   },
   {
    "duration": 3,
    "start_time": "2022-03-10T02:12:21.035Z"
   },
   {
    "duration": 12,
    "start_time": "2022-03-10T02:12:21.039Z"
   },
   {
    "duration": 22,
    "start_time": "2022-03-10T02:12:21.052Z"
   },
   {
    "duration": 11,
    "start_time": "2022-03-10T02:12:21.075Z"
   },
   {
    "duration": 18,
    "start_time": "2022-03-10T02:12:21.088Z"
   },
   {
    "duration": 5,
    "start_time": "2022-03-10T02:12:21.108Z"
   },
   {
    "duration": 4,
    "start_time": "2022-03-10T02:12:21.115Z"
   },
   {
    "duration": 6,
    "start_time": "2022-03-10T02:12:21.121Z"
   },
   {
    "duration": 7,
    "start_time": "2022-03-10T02:12:21.129Z"
   },
   {
    "duration": 6,
    "start_time": "2022-03-10T02:12:21.138Z"
   },
   {
    "duration": 5,
    "start_time": "2022-03-10T02:12:21.146Z"
   },
   {
    "duration": 20,
    "start_time": "2022-03-10T02:12:21.153Z"
   },
   {
    "duration": 3,
    "start_time": "2022-03-10T02:12:21.174Z"
   },
   {
    "duration": 4,
    "start_time": "2022-03-10T02:12:21.205Z"
   },
   {
    "duration": 64,
    "start_time": "2022-03-10T02:12:21.211Z"
   },
   {
    "duration": 14,
    "start_time": "2022-03-10T02:12:21.277Z"
   },
   {
    "duration": 321,
    "start_time": "2022-03-10T02:12:21.306Z"
   },
   {
    "duration": 193,
    "start_time": "2022-03-10T02:12:21.629Z"
   },
   {
    "duration": 28,
    "start_time": "2022-03-10T02:12:21.824Z"
   },
   {
    "duration": 131,
    "start_time": "2022-03-10T02:12:21.853Z"
   },
   {
    "duration": 123,
    "start_time": "2022-03-10T02:12:21.985Z"
   },
   {
    "duration": 198,
    "start_time": "2022-03-10T02:12:22.109Z"
   },
   {
    "duration": 30,
    "start_time": "2022-03-10T02:12:22.308Z"
   },
   {
    "duration": 208,
    "start_time": "2022-03-10T02:12:22.339Z"
   },
   {
    "duration": 121,
    "start_time": "2022-03-10T02:12:22.549Z"
   },
   {
    "duration": 176,
    "start_time": "2022-03-10T02:12:22.671Z"
   },
   {
    "duration": 29,
    "start_time": "2022-03-10T02:12:22.848Z"
   },
   {
    "duration": 129,
    "start_time": "2022-03-10T02:12:22.878Z"
   },
   {
    "duration": 126,
    "start_time": "2022-03-10T02:12:23.011Z"
   },
   {
    "duration": 32,
    "start_time": "2022-03-10T02:12:23.138Z"
   },
   {
    "duration": 187,
    "start_time": "2022-03-10T02:12:23.172Z"
   },
   {
    "duration": 127,
    "start_time": "2022-03-10T02:12:23.361Z"
   },
   {
    "duration": 124,
    "start_time": "2022-03-10T02:12:23.490Z"
   },
   {
    "duration": 15,
    "start_time": "2022-03-10T02:12:23.616Z"
   },
   {
    "duration": 28,
    "start_time": "2022-03-10T02:12:23.633Z"
   },
   {
    "duration": 203,
    "start_time": "2022-03-10T02:12:23.662Z"
   },
   {
    "duration": 133,
    "start_time": "2022-03-10T02:12:23.867Z"
   },
   {
    "duration": 127,
    "start_time": "2022-03-10T02:12:24.005Z"
   },
   {
    "duration": 5,
    "start_time": "2022-03-10T02:12:24.134Z"
   },
   {
    "duration": 8,
    "start_time": "2022-03-10T02:12:24.140Z"
   },
   {
    "duration": 4,
    "start_time": "2022-03-10T02:14:06.884Z"
   },
   {
    "duration": 4,
    "start_time": "2022-03-10T02:14:07.604Z"
   },
   {
    "duration": 3,
    "start_time": "2022-03-10T02:14:19.650Z"
   },
   {
    "duration": 4,
    "start_time": "2022-03-10T02:14:20.251Z"
   },
   {
    "duration": 3,
    "start_time": "2022-03-10T02:15:08.310Z"
   },
   {
    "duration": 4,
    "start_time": "2022-03-10T02:15:09.462Z"
   },
   {
    "duration": 3,
    "start_time": "2022-03-10T02:16:16.282Z"
   },
   {
    "duration": 5,
    "start_time": "2022-03-10T02:16:17.010Z"
   },
   {
    "duration": 3,
    "start_time": "2022-03-10T02:16:55.576Z"
   },
   {
    "duration": 5,
    "start_time": "2022-03-10T02:16:56.658Z"
   },
   {
    "duration": 3,
    "start_time": "2022-03-10T02:18:01.150Z"
   },
   {
    "duration": 5,
    "start_time": "2022-03-10T02:18:04.940Z"
   },
   {
    "duration": 381,
    "start_time": "2022-03-10T02:18:39.328Z"
   },
   {
    "duration": 8,
    "start_time": "2022-03-10T02:22:29.622Z"
   },
   {
    "duration": 5,
    "start_time": "2022-03-10T02:24:24.307Z"
   },
   {
    "duration": 9,
    "start_time": "2022-03-10T02:24:34.945Z"
   },
   {
    "duration": 365,
    "start_time": "2022-03-10T02:25:53.317Z"
   },
   {
    "duration": 295,
    "start_time": "2022-03-10T02:27:28.903Z"
   },
   {
    "duration": 3,
    "start_time": "2022-03-10T02:27:52.703Z"
   },
   {
    "duration": 271,
    "start_time": "2022-03-10T02:27:52.708Z"
   },
   {
    "duration": 8,
    "start_time": "2022-03-10T02:27:52.981Z"
   },
   {
    "duration": 9,
    "start_time": "2022-03-10T02:27:52.991Z"
   },
   {
    "duration": 6,
    "start_time": "2022-03-10T02:27:53.002Z"
   },
   {
    "duration": 11,
    "start_time": "2022-03-10T02:27:53.010Z"
   },
   {
    "duration": 8,
    "start_time": "2022-03-10T02:27:53.022Z"
   },
   {
    "duration": 14,
    "start_time": "2022-03-10T02:27:53.031Z"
   },
   {
    "duration": 6,
    "start_time": "2022-03-10T02:27:53.047Z"
   },
   {
    "duration": 152,
    "start_time": "2022-03-10T02:27:53.055Z"
   },
   {
    "duration": 3,
    "start_time": "2022-03-10T02:27:53.209Z"
   },
   {
    "duration": 14,
    "start_time": "2022-03-10T02:27:53.213Z"
   },
   {
    "duration": 6,
    "start_time": "2022-03-10T02:27:53.229Z"
   },
   {
    "duration": 6,
    "start_time": "2022-03-10T02:27:53.236Z"
   },
   {
    "duration": 11,
    "start_time": "2022-03-10T02:27:53.243Z"
   },
   {
    "duration": 12,
    "start_time": "2022-03-10T02:27:53.255Z"
   },
   {
    "duration": 10,
    "start_time": "2022-03-10T02:27:53.268Z"
   },
   {
    "duration": 27,
    "start_time": "2022-03-10T02:27:53.279Z"
   },
   {
    "duration": 26,
    "start_time": "2022-03-10T02:27:53.307Z"
   },
   {
    "duration": 6,
    "start_time": "2022-03-10T02:27:53.334Z"
   },
   {
    "duration": 31,
    "start_time": "2022-03-10T02:27:53.342Z"
   },
   {
    "duration": 42,
    "start_time": "2022-03-10T02:27:53.375Z"
   },
   {
    "duration": 15,
    "start_time": "2022-03-10T02:27:53.419Z"
   },
   {
    "duration": 18,
    "start_time": "2022-03-10T02:27:53.435Z"
   },
   {
    "duration": 18,
    "start_time": "2022-03-10T02:27:53.454Z"
   },
   {
    "duration": 36,
    "start_time": "2022-03-10T02:27:53.474Z"
   },
   {
    "duration": 6,
    "start_time": "2022-03-10T02:27:53.513Z"
   },
   {
    "duration": 16,
    "start_time": "2022-03-10T02:27:53.522Z"
   },
   {
    "duration": 9,
    "start_time": "2022-03-10T02:27:53.540Z"
   },
   {
    "duration": 11,
    "start_time": "2022-03-10T02:27:53.551Z"
   },
   {
    "duration": 42,
    "start_time": "2022-03-10T02:27:53.564Z"
   },
   {
    "duration": 20,
    "start_time": "2022-03-10T02:27:53.607Z"
   },
   {
    "duration": 6,
    "start_time": "2022-03-10T02:27:53.629Z"
   },
   {
    "duration": 44,
    "start_time": "2022-03-10T02:27:53.636Z"
   },
   {
    "duration": 34,
    "start_time": "2022-03-10T02:27:53.682Z"
   },
   {
    "duration": 14,
    "start_time": "2022-03-10T02:27:53.717Z"
   },
   {
    "duration": 16,
    "start_time": "2022-03-10T02:27:53.732Z"
   },
   {
    "duration": 7,
    "start_time": "2022-03-10T02:27:53.749Z"
   },
   {
    "duration": 60,
    "start_time": "2022-03-10T02:27:53.757Z"
   },
   {
    "duration": 287,
    "start_time": "2022-03-10T02:27:53.819Z"
   },
   {
    "duration": -117,
    "start_time": "2022-03-10T02:27:54.225Z"
   },
   {
    "duration": -118,
    "start_time": "2022-03-10T02:27:54.227Z"
   },
   {
    "duration": -119,
    "start_time": "2022-03-10T02:27:54.229Z"
   },
   {
    "duration": -121,
    "start_time": "2022-03-10T02:27:54.231Z"
   },
   {
    "duration": -123,
    "start_time": "2022-03-10T02:27:54.234Z"
   },
   {
    "duration": -124,
    "start_time": "2022-03-10T02:27:54.236Z"
   },
   {
    "duration": -139,
    "start_time": "2022-03-10T02:27:54.251Z"
   },
   {
    "duration": -141,
    "start_time": "2022-03-10T02:27:54.254Z"
   },
   {
    "duration": -142,
    "start_time": "2022-03-10T02:27:54.256Z"
   },
   {
    "duration": -143,
    "start_time": "2022-03-10T02:27:54.257Z"
   },
   {
    "duration": -144,
    "start_time": "2022-03-10T02:27:54.259Z"
   },
   {
    "duration": -144,
    "start_time": "2022-03-10T02:27:54.260Z"
   },
   {
    "duration": -145,
    "start_time": "2022-03-10T02:27:54.262Z"
   },
   {
    "duration": -146,
    "start_time": "2022-03-10T02:27:54.263Z"
   },
   {
    "duration": -147,
    "start_time": "2022-03-10T02:27:54.265Z"
   },
   {
    "duration": -147,
    "start_time": "2022-03-10T02:27:54.266Z"
   },
   {
    "duration": -148,
    "start_time": "2022-03-10T02:27:54.268Z"
   },
   {
    "duration": -149,
    "start_time": "2022-03-10T02:27:54.270Z"
   },
   {
    "duration": -149,
    "start_time": "2022-03-10T02:27:54.272Z"
   },
   {
    "duration": -149,
    "start_time": "2022-03-10T02:27:54.273Z"
   },
   {
    "duration": -150,
    "start_time": "2022-03-10T02:27:54.274Z"
   },
   {
    "duration": -150,
    "start_time": "2022-03-10T02:27:54.275Z"
   },
   {
    "duration": -151,
    "start_time": "2022-03-10T02:27:54.277Z"
   },
   {
    "duration": -151,
    "start_time": "2022-03-10T02:27:54.278Z"
   },
   {
    "duration": -151,
    "start_time": "2022-03-10T02:27:54.279Z"
   },
   {
    "duration": -151,
    "start_time": "2022-03-10T02:27:54.280Z"
   },
   {
    "duration": -151,
    "start_time": "2022-03-10T02:27:54.281Z"
   },
   {
    "duration": -152,
    "start_time": "2022-03-10T02:27:54.282Z"
   },
   {
    "duration": -153,
    "start_time": "2022-03-10T02:27:54.284Z"
   },
   {
    "duration": -154,
    "start_time": "2022-03-10T02:27:54.286Z"
   },
   {
    "duration": -160,
    "start_time": "2022-03-10T02:27:54.293Z"
   },
   {
    "duration": -160,
    "start_time": "2022-03-10T02:27:54.294Z"
   },
   {
    "duration": -160,
    "start_time": "2022-03-10T02:27:54.295Z"
   },
   {
    "duration": -161,
    "start_time": "2022-03-10T02:27:54.296Z"
   },
   {
    "duration": -161,
    "start_time": "2022-03-10T02:27:54.297Z"
   },
   {
    "duration": -161,
    "start_time": "2022-03-10T02:27:54.298Z"
   },
   {
    "duration": -162,
    "start_time": "2022-03-10T02:27:54.300Z"
   },
   {
    "duration": -163,
    "start_time": "2022-03-10T02:27:54.301Z"
   },
   {
    "duration": -168,
    "start_time": "2022-03-10T02:27:54.307Z"
   },
   {
    "duration": -168,
    "start_time": "2022-03-10T02:27:54.308Z"
   },
   {
    "duration": -169,
    "start_time": "2022-03-10T02:27:54.310Z"
   },
   {
    "duration": -169,
    "start_time": "2022-03-10T02:27:54.311Z"
   },
   {
    "duration": -169,
    "start_time": "2022-03-10T02:27:54.312Z"
   },
   {
    "duration": -169,
    "start_time": "2022-03-10T02:27:54.313Z"
   },
   {
    "duration": -170,
    "start_time": "2022-03-10T02:27:54.314Z"
   },
   {
    "duration": -170,
    "start_time": "2022-03-10T02:27:54.315Z"
   },
   {
    "duration": -170,
    "start_time": "2022-03-10T02:27:54.316Z"
   },
   {
    "duration": -170,
    "start_time": "2022-03-10T02:27:54.317Z"
   },
   {
    "duration": -172,
    "start_time": "2022-03-10T02:27:54.319Z"
   },
   {
    "duration": -120,
    "start_time": "2022-03-10T02:27:54.325Z"
   },
   {
    "duration": -171,
    "start_time": "2022-03-10T02:27:54.377Z"
   },
   {
    "duration": -171,
    "start_time": "2022-03-10T02:27:54.378Z"
   },
   {
    "duration": -172,
    "start_time": "2022-03-10T02:27:54.379Z"
   },
   {
    "duration": 95,
    "start_time": "2022-03-10T02:28:13.984Z"
   },
   {
    "duration": 308,
    "start_time": "2022-03-10T02:28:21.556Z"
   },
   {
    "duration": 4,
    "start_time": "2022-03-10T02:29:51.180Z"
   },
   {
    "duration": 10,
    "start_time": "2022-03-10T02:30:02.287Z"
   },
   {
    "duration": 30,
    "start_time": "2022-03-10T02:30:22.402Z"
   },
   {
    "duration": 31,
    "start_time": "2022-03-10T02:30:29.047Z"
   },
   {
    "duration": 431,
    "start_time": "2022-03-11T19:32:25.953Z"
   },
   {
    "duration": 1548,
    "start_time": "2022-03-11T19:32:30.238Z"
   },
   {
    "duration": 348,
    "start_time": "2022-03-11T19:32:31.789Z"
   },
   {
    "duration": 17,
    "start_time": "2022-03-11T19:32:32.141Z"
   },
   {
    "duration": 22,
    "start_time": "2022-03-11T19:32:32.161Z"
   },
   {
    "duration": 18,
    "start_time": "2022-03-11T19:32:32.186Z"
   },
   {
    "duration": 18,
    "start_time": "2022-03-11T19:32:32.207Z"
   },
   {
    "duration": 12,
    "start_time": "2022-03-11T19:32:32.228Z"
   },
   {
    "duration": 55,
    "start_time": "2022-03-11T19:32:32.243Z"
   },
   {
    "duration": 11,
    "start_time": "2022-03-11T19:32:32.303Z"
   },
   {
    "duration": 334,
    "start_time": "2022-03-11T19:32:32.317Z"
   },
   {
    "duration": 7,
    "start_time": "2022-03-11T19:32:32.653Z"
   },
   {
    "duration": 55,
    "start_time": "2022-03-11T19:32:32.662Z"
   },
   {
    "duration": 24,
    "start_time": "2022-03-11T19:32:32.719Z"
   },
   {
    "duration": 16,
    "start_time": "2022-03-11T19:32:32.746Z"
   },
   {
    "duration": 23,
    "start_time": "2022-03-11T19:32:32.764Z"
   },
   {
    "duration": 27,
    "start_time": "2022-03-11T19:32:32.789Z"
   },
   {
    "duration": 19,
    "start_time": "2022-03-11T19:32:32.818Z"
   },
   {
    "duration": 367,
    "start_time": "2022-03-11T19:32:32.839Z"
   },
   {
    "duration": -83,
    "start_time": "2022-03-11T19:32:33.295Z"
   },
   {
    "duration": -83,
    "start_time": "2022-03-11T19:32:33.297Z"
   },
   {
    "duration": -84,
    "start_time": "2022-03-11T19:32:33.299Z"
   },
   {
    "duration": -85,
    "start_time": "2022-03-11T19:32:33.301Z"
   },
   {
    "duration": -86,
    "start_time": "2022-03-11T19:32:33.304Z"
   },
   {
    "duration": -87,
    "start_time": "2022-03-11T19:32:33.306Z"
   },
   {
    "duration": -91,
    "start_time": "2022-03-11T19:32:33.312Z"
   },
   {
    "duration": -92,
    "start_time": "2022-03-11T19:32:33.315Z"
   },
   {
    "duration": -91,
    "start_time": "2022-03-11T19:32:33.316Z"
   },
   {
    "duration": -92,
    "start_time": "2022-03-11T19:32:33.318Z"
   },
   {
    "duration": -93,
    "start_time": "2022-03-11T19:32:33.320Z"
   },
   {
    "duration": -93,
    "start_time": "2022-03-11T19:32:33.322Z"
   },
   {
    "duration": -92,
    "start_time": "2022-03-11T19:32:33.323Z"
   },
   {
    "duration": -93,
    "start_time": "2022-03-11T19:32:33.325Z"
   },
   {
    "duration": -92,
    "start_time": "2022-03-11T19:32:33.326Z"
   },
   {
    "duration": -97,
    "start_time": "2022-03-11T19:32:33.332Z"
   },
   {
    "duration": -96,
    "start_time": "2022-03-11T19:32:33.333Z"
   },
   {
    "duration": -97,
    "start_time": "2022-03-11T19:32:33.335Z"
   },
   {
    "duration": -96,
    "start_time": "2022-03-11T19:32:33.336Z"
   },
   {
    "duration": -96,
    "start_time": "2022-03-11T19:32:33.337Z"
   },
   {
    "duration": -97,
    "start_time": "2022-03-11T19:32:33.340Z"
   },
   {
    "duration": -97,
    "start_time": "2022-03-11T19:32:33.342Z"
   },
   {
    "duration": -100,
    "start_time": "2022-03-11T19:32:33.346Z"
   },
   {
    "duration": -101,
    "start_time": "2022-03-11T19:32:33.348Z"
   },
   {
    "duration": -102,
    "start_time": "2022-03-11T19:32:33.350Z"
   },
   {
    "duration": -102,
    "start_time": "2022-03-11T19:32:33.351Z"
   },
   {
    "duration": -103,
    "start_time": "2022-03-11T19:32:33.353Z"
   },
   {
    "duration": -104,
    "start_time": "2022-03-11T19:32:33.355Z"
   },
   {
    "duration": -104,
    "start_time": "2022-03-11T19:32:33.356Z"
   },
   {
    "duration": -82,
    "start_time": "2022-03-11T19:32:33.363Z"
   },
   {
    "duration": -81,
    "start_time": "2022-03-11T19:32:33.364Z"
   },
   {
    "duration": -82,
    "start_time": "2022-03-11T19:32:33.367Z"
   },
   {
    "duration": -221,
    "start_time": "2022-03-11T19:32:33.507Z"
   },
   {
    "duration": -257,
    "start_time": "2022-03-11T19:32:33.544Z"
   },
   {
    "duration": -320,
    "start_time": "2022-03-11T19:32:33.609Z"
   },
   {
    "duration": -347,
    "start_time": "2022-03-11T19:32:33.637Z"
   },
   {
    "duration": -347,
    "start_time": "2022-03-11T19:32:33.638Z"
   },
   {
    "duration": -347,
    "start_time": "2022-03-11T19:32:33.640Z"
   },
   {
    "duration": -347,
    "start_time": "2022-03-11T19:32:33.641Z"
   },
   {
    "duration": -347,
    "start_time": "2022-03-11T19:32:33.642Z"
   },
   {
    "duration": -346,
    "start_time": "2022-03-11T19:32:33.643Z"
   },
   {
    "duration": -346,
    "start_time": "2022-03-11T19:32:33.644Z"
   },
   {
    "duration": -346,
    "start_time": "2022-03-11T19:32:33.645Z"
   },
   {
    "duration": -345,
    "start_time": "2022-03-11T19:32:33.646Z"
   },
   {
    "duration": -345,
    "start_time": "2022-03-11T19:32:33.647Z"
   },
   {
    "duration": -344,
    "start_time": "2022-03-11T19:32:33.648Z"
   },
   {
    "duration": -344,
    "start_time": "2022-03-11T19:32:33.649Z"
   },
   {
    "duration": -343,
    "start_time": "2022-03-11T19:32:33.650Z"
   },
   {
    "duration": -343,
    "start_time": "2022-03-11T19:32:33.651Z"
   },
   {
    "duration": -343,
    "start_time": "2022-03-11T19:32:33.652Z"
   },
   {
    "duration": -342,
    "start_time": "2022-03-11T19:32:33.653Z"
   },
   {
    "duration": -342,
    "start_time": "2022-03-11T19:32:33.654Z"
   },
   {
    "duration": -341,
    "start_time": "2022-03-11T19:32:33.654Z"
   },
   {
    "duration": -341,
    "start_time": "2022-03-11T19:32:33.656Z"
   },
   {
    "duration": -341,
    "start_time": "2022-03-11T19:32:33.657Z"
   },
   {
    "duration": -340,
    "start_time": "2022-03-11T19:32:33.658Z"
   },
   {
    "duration": -272,
    "start_time": "2022-03-11T19:32:33.658Z"
   },
   {
    "duration": -272,
    "start_time": "2022-03-11T19:32:33.659Z"
   },
   {
    "duration": -271,
    "start_time": "2022-03-11T19:32:33.660Z"
   },
   {
    "duration": -270,
    "start_time": "2022-03-11T19:32:33.661Z"
   },
   {
    "duration": -270,
    "start_time": "2022-03-11T19:32:33.662Z"
   },
   {
    "duration": -269,
    "start_time": "2022-03-11T19:32:33.663Z"
   },
   {
    "duration": -269,
    "start_time": "2022-03-11T19:32:33.664Z"
   },
   {
    "duration": -268,
    "start_time": "2022-03-11T19:32:33.665Z"
   },
   {
    "duration": -268,
    "start_time": "2022-03-11T19:32:33.666Z"
   },
   {
    "duration": -267,
    "start_time": "2022-03-11T19:32:33.667Z"
   },
   {
    "duration": -273,
    "start_time": "2022-03-11T19:32:33.674Z"
   },
   {
    "duration": -273,
    "start_time": "2022-03-11T19:32:33.675Z"
   },
   {
    "duration": -272,
    "start_time": "2022-03-11T19:32:33.676Z"
   },
   {
    "duration": -272,
    "start_time": "2022-03-11T19:32:33.677Z"
   },
   {
    "duration": -271,
    "start_time": "2022-03-11T19:32:33.678Z"
   },
   {
    "duration": -271,
    "start_time": "2022-03-11T19:32:33.679Z"
   },
   {
    "duration": -270,
    "start_time": "2022-03-11T19:32:33.680Z"
   },
   {
    "duration": -270,
    "start_time": "2022-03-11T19:32:33.681Z"
   },
   {
    "duration": 20,
    "start_time": "2022-03-11T19:44:52.247Z"
   },
   {
    "duration": 31,
    "start_time": "2022-03-11T19:45:19.342Z"
   },
   {
    "duration": 13,
    "start_time": "2022-03-11T19:45:41.575Z"
   },
   {
    "duration": 63,
    "start_time": "2022-03-11T19:45:41.592Z"
   },
   {
    "duration": 45,
    "start_time": "2022-03-11T19:45:41.658Z"
   },
   {
    "duration": 7,
    "start_time": "2022-03-11T19:45:41.707Z"
   },
   {
    "duration": 40,
    "start_time": "2022-03-11T19:45:41.716Z"
   },
   {
    "duration": 42,
    "start_time": "2022-03-11T19:45:41.758Z"
   },
   {
    "duration": 21,
    "start_time": "2022-03-11T19:45:41.803Z"
   },
   {
    "duration": 17,
    "start_time": "2022-03-11T19:45:41.826Z"
   },
   {
    "duration": 26,
    "start_time": "2022-03-11T19:45:44.437Z"
   },
   {
    "duration": 7,
    "start_time": "2022-03-11T19:45:44.466Z"
   },
   {
    "duration": 22,
    "start_time": "2022-03-11T19:45:47.197Z"
   },
   {
    "duration": 23,
    "start_time": "2022-03-11T19:45:47.221Z"
   },
   {
    "duration": 39,
    "start_time": "2022-03-11T19:45:47.247Z"
   },
   {
    "duration": 17,
    "start_time": "2022-03-11T19:45:47.290Z"
   },
   {
    "duration": 88,
    "start_time": "2022-03-11T19:45:47.310Z"
   },
   {
    "duration": 8,
    "start_time": "2022-03-11T19:45:47.400Z"
   },
   {
    "duration": 30,
    "start_time": "2022-03-11T19:45:47.410Z"
   },
   {
    "duration": 55,
    "start_time": "2022-03-11T19:45:47.442Z"
   },
   {
    "duration": 13,
    "start_time": "2022-03-11T19:45:47.500Z"
   },
   {
    "duration": 63,
    "start_time": "2022-03-11T19:45:49.695Z"
   },
   {
    "duration": 45,
    "start_time": "2022-03-11T19:45:50.011Z"
   },
   {
    "duration": 42,
    "start_time": "2022-03-11T19:45:50.059Z"
   },
   {
    "duration": 39,
    "start_time": "2022-03-11T19:45:50.104Z"
   },
   {
    "duration": 32,
    "start_time": "2022-03-11T19:45:50.176Z"
   },
   {
    "duration": 25,
    "start_time": "2022-03-11T19:45:50.211Z"
   },
   {
    "duration": 13,
    "start_time": "2022-03-11T19:45:50.239Z"
   },
   {
    "duration": 6,
    "start_time": "2022-03-11T19:45:50.283Z"
   },
   {
    "duration": 4,
    "start_time": "2022-03-11T19:45:50.319Z"
   },
   {
    "duration": 14,
    "start_time": "2022-03-11T19:45:50.327Z"
   },
   {
    "duration": 203,
    "start_time": "2022-03-11T19:45:50.344Z"
   },
   {
    "duration": 5,
    "start_time": "2022-03-11T19:45:50.549Z"
   },
   {
    "duration": 12,
    "start_time": "2022-03-11T19:45:50.557Z"
   },
   {
    "duration": 235,
    "start_time": "2022-03-11T19:45:50.583Z"
   },
   {
    "duration": 5,
    "start_time": "2022-03-11T19:45:50.821Z"
   },
   {
    "duration": 14,
    "start_time": "2022-03-11T19:45:50.829Z"
   },
   {
    "duration": 288,
    "start_time": "2022-03-11T19:45:50.847Z"
   },
   {
    "duration": 19,
    "start_time": "2022-03-11T19:45:51.138Z"
   },
   {
    "duration": 33,
    "start_time": "2022-03-11T19:45:51.159Z"
   },
   {
    "duration": 11,
    "start_time": "2022-03-11T19:45:51.194Z"
   },
   {
    "duration": 12,
    "start_time": "2022-03-11T19:45:51.208Z"
   },
   {
    "duration": 12,
    "start_time": "2022-03-11T19:45:51.222Z"
   },
   {
    "duration": 112,
    "start_time": "2022-03-11T19:45:51.236Z"
   },
   {
    "duration": 6,
    "start_time": "2022-03-11T19:45:51.351Z"
   },
   {
    "duration": 9,
    "start_time": "2022-03-11T19:45:51.359Z"
   },
   {
    "duration": 132,
    "start_time": "2022-03-11T19:45:51.385Z"
   },
   {
    "duration": 6,
    "start_time": "2022-03-11T19:45:51.522Z"
   },
   {
    "duration": 17,
    "start_time": "2022-03-11T19:45:51.530Z"
   },
   {
    "duration": 139,
    "start_time": "2022-03-11T19:45:51.550Z"
   },
   {
    "duration": 24,
    "start_time": "2022-03-11T19:45:51.692Z"
   },
   {
    "duration": 574,
    "start_time": "2022-03-11T19:45:51.718Z"
   },
   {
    "duration": 414,
    "start_time": "2022-03-11T19:45:52.294Z"
   },
   {
    "duration": 80,
    "start_time": "2022-03-11T19:45:52.711Z"
   },
   {
    "duration": 219,
    "start_time": "2022-03-11T19:45:52.794Z"
   },
   {
    "duration": 228,
    "start_time": "2022-03-11T19:45:53.016Z"
   },
   {
    "duration": 385,
    "start_time": "2022-03-11T19:45:53.246Z"
   },
   {
    "duration": 75,
    "start_time": "2022-03-11T19:45:53.634Z"
   },
   {
    "duration": 249,
    "start_time": "2022-03-11T19:45:53.712Z"
   },
   {
    "duration": 254,
    "start_time": "2022-03-11T19:45:53.964Z"
   },
   {
    "duration": 368,
    "start_time": "2022-03-11T19:45:54.221Z"
   },
   {
    "duration": 52,
    "start_time": "2022-03-11T19:45:54.592Z"
   },
   {
    "duration": 320,
    "start_time": "2022-03-11T19:45:54.647Z"
   },
   {
    "duration": 246,
    "start_time": "2022-03-11T19:45:54.970Z"
   },
   {
    "duration": 77,
    "start_time": "2022-03-11T19:45:55.218Z"
   },
   {
    "duration": 329,
    "start_time": "2022-03-11T19:45:55.298Z"
   },
   {
    "duration": 223,
    "start_time": "2022-03-11T19:45:55.630Z"
   },
   {
    "duration": 235,
    "start_time": "2022-03-11T19:45:55.855Z"
   },
   {
    "duration": 25,
    "start_time": "2022-03-11T19:45:56.092Z"
   },
   {
    "duration": 71,
    "start_time": "2022-03-11T19:45:56.120Z"
   },
   {
    "duration": 340,
    "start_time": "2022-03-11T19:45:56.194Z"
   },
   {
    "duration": 234,
    "start_time": "2022-03-11T19:45:56.536Z"
   },
   {
    "duration": 213,
    "start_time": "2022-03-11T19:45:56.773Z"
   },
   {
    "duration": 6,
    "start_time": "2022-03-11T19:45:56.989Z"
   },
   {
    "duration": 16,
    "start_time": "2022-03-11T19:45:56.998Z"
   },
   {
    "duration": 13,
    "start_time": "2022-03-11T19:46:00.499Z"
   },
   {
    "duration": 37,
    "start_time": "2022-03-11T19:46:13.191Z"
   },
   {
    "duration": 41,
    "start_time": "2022-03-11T19:46:22.308Z"
   },
   {
    "duration": 48,
    "start_time": "2022-03-11T19:46:29.483Z"
   },
   {
    "duration": 48,
    "start_time": "2022-03-11T19:46:38.049Z"
   },
   {
    "duration": 54,
    "start_time": "2022-03-11T19:46:46.237Z"
   },
   {
    "duration": 50,
    "start_time": "2022-03-11T19:47:16.273Z"
   },
   {
    "duration": 50,
    "start_time": "2022-03-11T19:47:58.442Z"
   },
   {
    "duration": 54,
    "start_time": "2022-03-11T19:48:33.290Z"
   },
   {
    "duration": 46,
    "start_time": "2022-03-11T19:49:13.820Z"
   },
   {
    "duration": 63,
    "start_time": "2022-03-11T19:52:23.609Z"
   },
   {
    "duration": 65,
    "start_time": "2022-03-11T19:53:25.133Z"
   },
   {
    "duration": 39,
    "start_time": "2022-03-11T19:54:45.140Z"
   },
   {
    "duration": 53,
    "start_time": "2022-03-11T19:55:01.979Z"
   },
   {
    "duration": 54,
    "start_time": "2022-03-11T19:55:06.527Z"
   },
   {
    "duration": 41,
    "start_time": "2022-03-11T20:18:17.778Z"
   },
   {
    "duration": 46,
    "start_time": "2022-03-11T20:19:26.937Z"
   },
   {
    "duration": 342,
    "start_time": "2022-03-11T20:19:42.603Z"
   },
   {
    "duration": 48,
    "start_time": "2022-03-11T20:19:53.867Z"
   },
   {
    "duration": 53,
    "start_time": "2022-03-11T20:19:59.174Z"
   },
   {
    "duration": 46,
    "start_time": "2022-03-11T20:20:18.417Z"
   },
   {
    "duration": 14,
    "start_time": "2022-03-11T20:21:38.476Z"
   },
   {
    "duration": 269,
    "start_time": "2022-03-11T20:22:19.446Z"
   },
   {
    "duration": 49,
    "start_time": "2022-03-11T20:22:26.574Z"
   },
   {
    "duration": 48,
    "start_time": "2022-03-11T20:22:42.781Z"
   },
   {
    "duration": 12,
    "start_time": "2022-03-11T20:23:53.613Z"
   },
   {
    "duration": 34,
    "start_time": "2022-03-11T20:25:10.138Z"
   },
   {
    "duration": 34,
    "start_time": "2022-03-11T20:26:19.081Z"
   },
   {
    "duration": 35,
    "start_time": "2022-03-11T20:27:00.982Z"
   },
   {
    "duration": 38,
    "start_time": "2022-03-11T20:28:04.766Z"
   },
   {
    "duration": 18,
    "start_time": "2022-03-11T20:29:13.081Z"
   },
   {
    "duration": 15,
    "start_time": "2022-03-11T20:29:30.952Z"
   },
   {
    "duration": 22,
    "start_time": "2022-03-11T20:29:36.012Z"
   },
   {
    "duration": 345,
    "start_time": "2022-03-11T20:29:46.952Z"
   },
   {
    "duration": 38,
    "start_time": "2022-03-11T20:30:40.003Z"
   },
   {
    "duration": 32,
    "start_time": "2022-03-11T20:30:46.038Z"
   },
   {
    "duration": 37,
    "start_time": "2022-03-11T20:31:31.482Z"
   },
   {
    "duration": 25,
    "start_time": "2022-03-11T20:31:41.650Z"
   },
   {
    "duration": 7,
    "start_time": "2022-03-11T20:31:55.967Z"
   },
   {
    "duration": 4,
    "start_time": "2022-03-11T20:31:58.418Z"
   },
   {
    "duration": 9,
    "start_time": "2022-03-11T20:32:01.648Z"
   },
   {
    "duration": 955,
    "start_time": "2022-03-11T20:32:02.573Z"
   },
   {
    "duration": 6,
    "start_time": "2022-03-11T20:32:04.720Z"
   },
   {
    "duration": 7,
    "start_time": "2022-03-11T20:32:05.232Z"
   },
   {
    "duration": 1038,
    "start_time": "2022-03-11T20:32:05.960Z"
   },
   {
    "duration": 5,
    "start_time": "2022-03-11T20:33:43.113Z"
   },
   {
    "duration": 6,
    "start_time": "2022-03-11T20:33:45.190Z"
   },
   {
    "duration": 8051,
    "start_time": "2022-03-11T20:33:46.214Z"
   },
   {
    "duration": 6,
    "start_time": "2022-03-11T20:35:31.617Z"
   },
   {
    "duration": 7772,
    "start_time": "2022-03-11T20:35:33.724Z"
   },
   {
    "duration": -266,
    "start_time": "2022-03-11T20:35:41.765Z"
   },
   {
    "duration": 542,
    "start_time": "2022-03-11T20:35:54.390Z"
   },
   {
    "duration": 5,
    "start_time": "2022-03-11T20:36:58.042Z"
   },
   {
    "duration": 6,
    "start_time": "2022-03-11T20:37:06.952Z"
   },
   {
    "duration": 524,
    "start_time": "2022-03-11T20:37:07.986Z"
   },
   {
    "duration": 5,
    "start_time": "2022-03-11T20:37:39.711Z"
   },
   {
    "duration": 530,
    "start_time": "2022-03-11T20:37:42.143Z"
   },
   {
    "duration": 5,
    "start_time": "2022-03-11T20:37:57.484Z"
   },
   {
    "duration": 6,
    "start_time": "2022-03-11T20:37:58.714Z"
   },
   {
    "duration": 885,
    "start_time": "2022-03-11T20:38:04.976Z"
   },
   {
    "duration": 97,
    "start_time": "2022-03-11T20:39:25.094Z"
   },
   {
    "duration": 90,
    "start_time": "2022-03-11T20:39:43.891Z"
   },
   {
    "duration": 5,
    "start_time": "2022-03-11T20:39:55.194Z"
   },
   {
    "duration": 529,
    "start_time": "2022-03-11T20:39:57.606Z"
   },
   {
    "duration": 310,
    "start_time": "2022-03-11T20:40:32.929Z"
   },
   {
    "duration": 263,
    "start_time": "2022-03-11T20:40:50.529Z"
   },
   {
    "duration": 34,
    "start_time": "2022-03-11T20:41:37.387Z"
   },
   {
    "duration": 33,
    "start_time": "2022-03-11T20:41:39.603Z"
   },
   {
    "duration": 25,
    "start_time": "2022-03-11T20:41:41.779Z"
   },
   {
    "duration": 12,
    "start_time": "2022-03-11T20:41:44.644Z"
   },
   {
    "duration": 24,
    "start_time": "2022-03-11T20:44:26.617Z"
   },
   {
    "duration": 22,
    "start_time": "2022-03-11T20:44:44.377Z"
   },
   {
    "duration": 127,
    "start_time": "2022-03-11T20:45:01.178Z"
   },
   {
    "duration": 22,
    "start_time": "2022-03-11T20:45:16.134Z"
   },
   {
    "duration": 23,
    "start_time": "2022-03-11T20:45:48.803Z"
   },
   {
    "duration": 23,
    "start_time": "2022-03-11T20:45:58.531Z"
   },
   {
    "duration": 36,
    "start_time": "2022-03-11T20:46:02.460Z"
   },
   {
    "duration": 22,
    "start_time": "2022-03-11T20:46:27.202Z"
   },
   {
    "duration": 301,
    "start_time": "2022-03-11T20:47:03.179Z"
   },
   {
    "duration": 6831,
    "start_time": "2022-03-11T20:47:13.693Z"
   },
   {
    "duration": 5,
    "start_time": "2022-03-11T20:47:44.938Z"
   },
   {
    "duration": 365,
    "start_time": "2022-03-11T20:47:44.946Z"
   },
   {
    "duration": 14,
    "start_time": "2022-03-11T20:47:45.314Z"
   },
   {
    "duration": 18,
    "start_time": "2022-03-11T20:47:45.332Z"
   },
   {
    "duration": 32,
    "start_time": "2022-03-11T20:47:45.353Z"
   },
   {
    "duration": 20,
    "start_time": "2022-03-11T20:47:45.388Z"
   },
   {
    "duration": 11,
    "start_time": "2022-03-11T20:47:45.411Z"
   },
   {
    "duration": 64,
    "start_time": "2022-03-11T20:47:45.426Z"
   },
   {
    "duration": 13,
    "start_time": "2022-03-11T20:47:45.495Z"
   },
   {
    "duration": 342,
    "start_time": "2022-03-11T20:47:45.511Z"
   },
   {
    "duration": 7,
    "start_time": "2022-03-11T20:47:45.856Z"
   },
   {
    "duration": 24,
    "start_time": "2022-03-11T20:47:45.882Z"
   },
   {
    "duration": 7,
    "start_time": "2022-03-11T20:47:45.909Z"
   },
   {
    "duration": 8,
    "start_time": "2022-03-11T20:47:45.918Z"
   },
   {
    "duration": 9,
    "start_time": "2022-03-11T20:47:45.929Z"
   },
   {
    "duration": 63,
    "start_time": "2022-03-11T20:47:45.941Z"
   },
   {
    "duration": 12,
    "start_time": "2022-03-11T20:47:46.008Z"
   },
   {
    "duration": 25,
    "start_time": "2022-03-11T20:47:46.022Z"
   },
   {
    "duration": 67,
    "start_time": "2022-03-11T20:47:46.050Z"
   },
   {
    "duration": 12,
    "start_time": "2022-03-11T20:47:46.119Z"
   },
   {
    "duration": 89,
    "start_time": "2022-03-11T20:47:46.134Z"
   },
   {
    "duration": 33,
    "start_time": "2022-03-11T20:47:46.226Z"
   },
   {
    "duration": 45,
    "start_time": "2022-03-11T20:47:46.262Z"
   },
   {
    "duration": 34,
    "start_time": "2022-03-11T20:47:46.310Z"
   },
   {
    "duration": 70,
    "start_time": "2022-03-11T20:47:46.347Z"
   },
   {
    "duration": 36,
    "start_time": "2022-03-11T20:47:46.420Z"
   },
   {
    "duration": 14,
    "start_time": "2022-03-11T20:47:46.491Z"
   },
   {
    "duration": 31,
    "start_time": "2022-03-11T20:47:46.510Z"
   },
   {
    "duration": 46,
    "start_time": "2022-03-11T20:47:46.544Z"
   },
   {
    "duration": 22,
    "start_time": "2022-03-11T20:47:46.593Z"
   },
   {
    "duration": 24,
    "start_time": "2022-03-11T20:47:46.618Z"
   },
   {
    "duration": 74,
    "start_time": "2022-03-11T20:47:46.645Z"
   },
   {
    "duration": 14,
    "start_time": "2022-03-11T20:47:46.721Z"
   },
   {
    "duration": 102,
    "start_time": "2022-03-11T20:47:46.738Z"
   },
   {
    "duration": 39,
    "start_time": "2022-03-11T20:47:46.843Z"
   },
   {
    "duration": 27,
    "start_time": "2022-03-11T20:47:46.885Z"
   },
   {
    "duration": 34,
    "start_time": "2022-03-11T20:47:46.914Z"
   },
   {
    "duration": 44,
    "start_time": "2022-03-11T20:47:46.951Z"
   },
   {
    "duration": 60,
    "start_time": "2022-03-11T20:47:46.998Z"
   },
   {
    "duration": 45,
    "start_time": "2022-03-11T20:47:47.082Z"
   },
   {
    "duration": 80,
    "start_time": "2022-03-11T20:47:47.129Z"
   },
   {
    "duration": 52,
    "start_time": "2022-03-11T20:47:47.212Z"
   },
   {
    "duration": 54,
    "start_time": "2022-03-11T20:47:47.267Z"
   },
   {
    "duration": 30,
    "start_time": "2022-03-11T20:47:47.324Z"
   },
   {
    "duration": 39,
    "start_time": "2022-03-11T20:47:47.356Z"
   },
   {
    "duration": 9,
    "start_time": "2022-03-11T20:47:47.398Z"
   },
   {
    "duration": 10,
    "start_time": "2022-03-11T20:47:47.409Z"
   },
   {
    "duration": 14,
    "start_time": "2022-03-11T20:47:47.422Z"
   },
   {
    "duration": 8974,
    "start_time": "2022-03-11T20:47:47.438Z"
   },
   {
    "duration": -337,
    "start_time": "2022-03-11T20:47:56.755Z"
   },
   {
    "duration": -356,
    "start_time": "2022-03-11T20:47:56.776Z"
   },
   {
    "duration": -366,
    "start_time": "2022-03-11T20:47:56.787Z"
   },
   {
    "duration": -371,
    "start_time": "2022-03-11T20:47:56.794Z"
   },
   {
    "duration": -370,
    "start_time": "2022-03-11T20:47:56.796Z"
   },
   {
    "duration": -369,
    "start_time": "2022-03-11T20:47:56.797Z"
   },
   {
    "duration": -369,
    "start_time": "2022-03-11T20:47:56.799Z"
   },
   {
    "duration": -369,
    "start_time": "2022-03-11T20:47:56.801Z"
   },
   {
    "duration": -368,
    "start_time": "2022-03-11T20:47:56.802Z"
   },
   {
    "duration": -366,
    "start_time": "2022-03-11T20:47:56.803Z"
   },
   {
    "duration": -511,
    "start_time": "2022-03-11T20:47:56.950Z"
   },
   {
    "duration": -511,
    "start_time": "2022-03-11T20:47:56.952Z"
   },
   {
    "duration": -509,
    "start_time": "2022-03-11T20:47:56.953Z"
   },
   {
    "duration": -508,
    "start_time": "2022-03-11T20:47:56.954Z"
   },
   {
    "duration": -508,
    "start_time": "2022-03-11T20:47:56.956Z"
   },
   {
    "duration": -507,
    "start_time": "2022-03-11T20:47:56.957Z"
   },
   {
    "duration": -506,
    "start_time": "2022-03-11T20:47:56.958Z"
   },
   {
    "duration": -505,
    "start_time": "2022-03-11T20:47:56.959Z"
   },
   {
    "duration": -475,
    "start_time": "2022-03-11T20:47:56.960Z"
   },
   {
    "duration": -474,
    "start_time": "2022-03-11T20:47:56.961Z"
   },
   {
    "duration": -473,
    "start_time": "2022-03-11T20:47:56.962Z"
   },
   {
    "duration": -472,
    "start_time": "2022-03-11T20:47:56.963Z"
   },
   {
    "duration": -471,
    "start_time": "2022-03-11T20:47:56.964Z"
   },
   {
    "duration": -470,
    "start_time": "2022-03-11T20:47:56.965Z"
   },
   {
    "duration": -469,
    "start_time": "2022-03-11T20:47:56.966Z"
   },
   {
    "duration": -468,
    "start_time": "2022-03-11T20:47:56.967Z"
   },
   {
    "duration": -468,
    "start_time": "2022-03-11T20:47:56.969Z"
   },
   {
    "duration": -467,
    "start_time": "2022-03-11T20:47:56.970Z"
   },
   {
    "duration": -466,
    "start_time": "2022-03-11T20:47:56.971Z"
   },
   {
    "duration": -465,
    "start_time": "2022-03-11T20:47:56.972Z"
   },
   {
    "duration": -464,
    "start_time": "2022-03-11T20:47:56.973Z"
   },
   {
    "duration": -463,
    "start_time": "2022-03-11T20:47:56.974Z"
   },
   {
    "duration": -462,
    "start_time": "2022-03-11T20:47:56.975Z"
   },
   {
    "duration": -461,
    "start_time": "2022-03-11T20:47:56.976Z"
   },
   {
    "duration": -459,
    "start_time": "2022-03-11T20:47:56.977Z"
   },
   {
    "duration": -458,
    "start_time": "2022-03-11T20:47:56.978Z"
   },
   {
    "duration": -458,
    "start_time": "2022-03-11T20:47:56.980Z"
   },
   {
    "duration": -398,
    "start_time": "2022-03-11T20:47:56.981Z"
   },
   {
    "duration": -397,
    "start_time": "2022-03-11T20:47:56.982Z"
   },
   {
    "duration": -396,
    "start_time": "2022-03-11T20:47:56.983Z"
   },
   {
    "duration": -395,
    "start_time": "2022-03-11T20:47:56.985Z"
   },
   {
    "duration": -394,
    "start_time": "2022-03-11T20:47:56.986Z"
   },
   {
    "duration": -393,
    "start_time": "2022-03-11T20:47:56.987Z"
   },
   {
    "duration": -391,
    "start_time": "2022-03-11T20:47:56.988Z"
   },
   {
    "duration": -390,
    "start_time": "2022-03-11T20:47:56.989Z"
   },
   {
    "duration": -389,
    "start_time": "2022-03-11T20:47:56.990Z"
   },
   {
    "duration": 5,
    "start_time": "2022-03-11T20:48:49.532Z"
   },
   {
    "duration": 8220,
    "start_time": "2022-03-11T20:48:53.127Z"
   },
   {
    "duration": 519,
    "start_time": "2022-03-11T20:49:04.815Z"
   },
   {
    "duration": 5,
    "start_time": "2022-03-11T20:49:20.412Z"
   },
   {
    "duration": 6,
    "start_time": "2022-03-11T20:49:21.908Z"
   },
   {
    "duration": 4,
    "start_time": "2022-03-11T20:50:25.230Z"
   },
   {
    "duration": 365,
    "start_time": "2022-03-11T20:50:25.237Z"
   },
   {
    "duration": 14,
    "start_time": "2022-03-11T20:50:25.605Z"
   },
   {
    "duration": 16,
    "start_time": "2022-03-11T20:50:25.622Z"
   },
   {
    "duration": 16,
    "start_time": "2022-03-11T20:50:25.640Z"
   },
   {
    "duration": 32,
    "start_time": "2022-03-11T20:50:25.659Z"
   },
   {
    "duration": 13,
    "start_time": "2022-03-11T20:50:25.694Z"
   },
   {
    "duration": 23,
    "start_time": "2022-03-11T20:50:25.710Z"
   },
   {
    "duration": 52,
    "start_time": "2022-03-11T20:50:25.740Z"
   },
   {
    "duration": 305,
    "start_time": "2022-03-11T20:50:25.796Z"
   },
   {
    "duration": 7,
    "start_time": "2022-03-11T20:50:26.104Z"
   },
   {
    "duration": 27,
    "start_time": "2022-03-11T20:50:26.114Z"
   },
   {
    "duration": 38,
    "start_time": "2022-03-11T20:50:26.144Z"
   },
   {
    "duration": 4,
    "start_time": "2022-03-11T20:50:26.185Z"
   },
   {
    "duration": 13,
    "start_time": "2022-03-11T20:50:26.192Z"
   },
   {
    "duration": 120,
    "start_time": "2022-03-11T20:50:26.208Z"
   },
   {
    "duration": 11,
    "start_time": "2022-03-11T20:50:26.331Z"
   },
   {
    "duration": 40,
    "start_time": "2022-03-11T20:50:26.344Z"
   },
   {
    "duration": 39,
    "start_time": "2022-03-11T20:50:26.387Z"
   },
   {
    "duration": 12,
    "start_time": "2022-03-11T20:50:26.428Z"
   },
   {
    "duration": 90,
    "start_time": "2022-03-11T20:50:26.443Z"
   },
   {
    "duration": 46,
    "start_time": "2022-03-11T20:50:26.536Z"
   },
   {
    "duration": 27,
    "start_time": "2022-03-11T20:50:26.585Z"
   },
   {
    "duration": 27,
    "start_time": "2022-03-11T20:50:26.614Z"
   },
   {
    "duration": 58,
    "start_time": "2022-03-11T20:50:26.643Z"
   },
   {
    "duration": 25,
    "start_time": "2022-03-11T20:50:26.704Z"
   },
   {
    "duration": 10,
    "start_time": "2022-03-11T20:50:26.736Z"
   },
   {
    "duration": 58,
    "start_time": "2022-03-11T20:50:26.750Z"
   },
   {
    "duration": 17,
    "start_time": "2022-03-11T20:50:26.810Z"
   },
   {
    "duration": 21,
    "start_time": "2022-03-11T20:50:26.829Z"
   },
   {
    "duration": 51,
    "start_time": "2022-03-11T20:50:26.852Z"
   },
   {
    "duration": 31,
    "start_time": "2022-03-11T20:50:26.906Z"
   },
   {
    "duration": 12,
    "start_time": "2022-03-11T20:50:26.939Z"
   },
   {
    "duration": 63,
    "start_time": "2022-03-11T20:50:26.983Z"
   },
   {
    "duration": 41,
    "start_time": "2022-03-11T20:50:27.048Z"
   },
   {
    "duration": 22,
    "start_time": "2022-03-11T20:50:27.092Z"
   },
   {
    "duration": 34,
    "start_time": "2022-03-11T20:50:27.117Z"
   },
   {
    "duration": 37,
    "start_time": "2022-03-11T20:50:27.153Z"
   },
   {
    "duration": 52,
    "start_time": "2022-03-11T20:50:27.193Z"
   },
   {
    "duration": 68,
    "start_time": "2022-03-11T20:50:27.247Z"
   },
   {
    "duration": 66,
    "start_time": "2022-03-11T20:50:27.318Z"
   },
   {
    "duration": 40,
    "start_time": "2022-03-11T20:50:27.387Z"
   },
   {
    "duration": 57,
    "start_time": "2022-03-11T20:50:27.430Z"
   },
   {
    "duration": 26,
    "start_time": "2022-03-11T20:50:27.489Z"
   },
   {
    "duration": 12,
    "start_time": "2022-03-11T20:50:27.519Z"
   },
   {
    "duration": 6,
    "start_time": "2022-03-11T20:50:27.534Z"
   },
   {
    "duration": 39,
    "start_time": "2022-03-11T20:50:27.543Z"
   },
   {
    "duration": 10,
    "start_time": "2022-03-11T20:50:27.585Z"
   },
   {
    "duration": 7670,
    "start_time": "2022-03-11T20:50:27.597Z"
   },
   {
    "duration": -326,
    "start_time": "2022-03-11T20:50:35.596Z"
   },
   {
    "duration": -328,
    "start_time": "2022-03-11T20:50:35.600Z"
   },
   {
    "duration": -330,
    "start_time": "2022-03-11T20:50:35.603Z"
   },
   {
    "duration": -331,
    "start_time": "2022-03-11T20:50:35.605Z"
   },
   {
    "duration": -331,
    "start_time": "2022-03-11T20:50:35.607Z"
   },
   {
    "duration": -332,
    "start_time": "2022-03-11T20:50:35.609Z"
   },
   {
    "duration": -338,
    "start_time": "2022-03-11T20:50:35.616Z"
   },
   {
    "duration": -344,
    "start_time": "2022-03-11T20:50:35.623Z"
   },
   {
    "duration": -344,
    "start_time": "2022-03-11T20:50:35.625Z"
   },
   {
    "duration": -507,
    "start_time": "2022-03-11T20:50:35.789Z"
   },
   {
    "duration": -507,
    "start_time": "2022-03-11T20:50:35.790Z"
   },
   {
    "duration": -506,
    "start_time": "2022-03-11T20:50:35.791Z"
   },
   {
    "duration": -506,
    "start_time": "2022-03-11T20:50:35.792Z"
   },
   {
    "duration": -507,
    "start_time": "2022-03-11T20:50:35.794Z"
   },
   {
    "duration": -510,
    "start_time": "2022-03-11T20:50:35.799Z"
   },
   {
    "duration": -511,
    "start_time": "2022-03-11T20:50:35.801Z"
   },
   {
    "duration": -511,
    "start_time": "2022-03-11T20:50:35.802Z"
   },
   {
    "duration": -510,
    "start_time": "2022-03-11T20:50:35.803Z"
   },
   {
    "duration": -510,
    "start_time": "2022-03-11T20:50:35.804Z"
   },
   {
    "duration": -509,
    "start_time": "2022-03-11T20:50:35.805Z"
   },
   {
    "duration": -510,
    "start_time": "2022-03-11T20:50:35.807Z"
   },
   {
    "duration": -510,
    "start_time": "2022-03-11T20:50:35.808Z"
   },
   {
    "duration": -510,
    "start_time": "2022-03-11T20:50:35.809Z"
   },
   {
    "duration": -509,
    "start_time": "2022-03-11T20:50:35.810Z"
   },
   {
    "duration": -514,
    "start_time": "2022-03-11T20:50:35.816Z"
   },
   {
    "duration": -514,
    "start_time": "2022-03-11T20:50:35.817Z"
   },
   {
    "duration": -515,
    "start_time": "2022-03-11T20:50:35.819Z"
   },
   {
    "duration": -514,
    "start_time": "2022-03-11T20:50:35.820Z"
   },
   {
    "duration": -514,
    "start_time": "2022-03-11T20:50:35.821Z"
   },
   {
    "duration": -514,
    "start_time": "2022-03-11T20:50:35.822Z"
   },
   {
    "duration": -513,
    "start_time": "2022-03-11T20:50:35.823Z"
   },
   {
    "duration": -513,
    "start_time": "2022-03-11T20:50:35.824Z"
   },
   {
    "duration": -513,
    "start_time": "2022-03-11T20:50:35.825Z"
   },
   {
    "duration": -513,
    "start_time": "2022-03-11T20:50:35.826Z"
   },
   {
    "duration": -514,
    "start_time": "2022-03-11T20:50:35.828Z"
   },
   {
    "duration": -517,
    "start_time": "2022-03-11T20:50:35.833Z"
   },
   {
    "duration": -518,
    "start_time": "2022-03-11T20:50:35.835Z"
   },
   {
    "duration": -518,
    "start_time": "2022-03-11T20:50:35.836Z"
   },
   {
    "duration": -517,
    "start_time": "2022-03-11T20:50:35.837Z"
   },
   {
    "duration": -517,
    "start_time": "2022-03-11T20:50:35.838Z"
   },
   {
    "duration": -458,
    "start_time": "2022-03-11T20:50:35.840Z"
   },
   {
    "duration": -457,
    "start_time": "2022-03-11T20:50:35.841Z"
   },
   {
    "duration": -457,
    "start_time": "2022-03-11T20:50:35.842Z"
   },
   {
    "duration": -456,
    "start_time": "2022-03-11T20:50:35.843Z"
   },
   {
    "duration": -456,
    "start_time": "2022-03-11T20:50:35.844Z"
   },
   {
    "duration": 5,
    "start_time": "2022-03-11T20:51:58.168Z"
   },
   {
    "duration": 350,
    "start_time": "2022-03-11T20:51:58.175Z"
   },
   {
    "duration": 12,
    "start_time": "2022-03-11T20:51:58.528Z"
   },
   {
    "duration": 14,
    "start_time": "2022-03-11T20:51:58.543Z"
   },
   {
    "duration": 25,
    "start_time": "2022-03-11T20:51:58.560Z"
   },
   {
    "duration": 16,
    "start_time": "2022-03-11T20:51:58.588Z"
   },
   {
    "duration": 13,
    "start_time": "2022-03-11T20:51:58.606Z"
   },
   {
    "duration": 22,
    "start_time": "2022-03-11T20:51:58.621Z"
   },
   {
    "duration": 43,
    "start_time": "2022-03-11T20:51:58.647Z"
   },
   {
    "duration": 308,
    "start_time": "2022-03-11T20:51:58.693Z"
   },
   {
    "duration": 7,
    "start_time": "2022-03-11T20:51:59.003Z"
   },
   {
    "duration": 24,
    "start_time": "2022-03-11T20:51:59.013Z"
   },
   {
    "duration": 8,
    "start_time": "2022-03-11T20:51:59.040Z"
   },
   {
    "duration": 33,
    "start_time": "2022-03-11T20:51:59.051Z"
   },
   {
    "duration": 11,
    "start_time": "2022-03-11T20:51:59.087Z"
   },
   {
    "duration": 20,
    "start_time": "2022-03-11T20:51:59.100Z"
   },
   {
    "duration": 11,
    "start_time": "2022-03-11T20:51:59.122Z"
   },
   {
    "duration": 56,
    "start_time": "2022-03-11T20:51:59.135Z"
   },
   {
    "duration": 39,
    "start_time": "2022-03-11T20:51:59.194Z"
   },
   {
    "duration": 13,
    "start_time": "2022-03-11T20:51:59.236Z"
   },
   {
    "duration": 56,
    "start_time": "2022-03-11T20:51:59.281Z"
   },
   {
    "duration": 56,
    "start_time": "2022-03-11T20:51:59.340Z"
   },
   {
    "duration": 26,
    "start_time": "2022-03-11T20:51:59.399Z"
   },
   {
    "duration": 27,
    "start_time": "2022-03-11T20:51:59.427Z"
   },
   {
    "duration": 52,
    "start_time": "2022-03-11T20:51:59.456Z"
   },
   {
    "duration": 30,
    "start_time": "2022-03-11T20:51:59.511Z"
   },
   {
    "duration": 43,
    "start_time": "2022-03-11T20:51:59.548Z"
   },
   {
    "duration": 29,
    "start_time": "2022-03-11T20:51:59.595Z"
   },
   {
    "duration": 17,
    "start_time": "2022-03-11T20:51:59.626Z"
   },
   {
    "duration": 52,
    "start_time": "2022-03-11T20:51:59.645Z"
   },
   {
    "duration": 21,
    "start_time": "2022-03-11T20:51:59.699Z"
   },
   {
    "duration": 31,
    "start_time": "2022-03-11T20:51:59.723Z"
   },
   {
    "duration": 12,
    "start_time": "2022-03-11T20:51:59.783Z"
   },
   {
    "duration": 62,
    "start_time": "2022-03-11T20:51:59.798Z"
   },
   {
    "duration": 37,
    "start_time": "2022-03-11T20:51:59.862Z"
   },
   {
    "duration": 22,
    "start_time": "2022-03-11T20:51:59.901Z"
   },
   {
    "duration": 63,
    "start_time": "2022-03-11T20:51:59.925Z"
   },
   {
    "duration": 12,
    "start_time": "2022-03-11T20:51:59.991Z"
   },
   {
    "duration": 53,
    "start_time": "2022-03-11T20:52:00.006Z"
   },
   {
    "duration": 43,
    "start_time": "2022-03-11T20:52:00.082Z"
   },
   {
    "duration": 75,
    "start_time": "2022-03-11T20:52:00.127Z"
   },
   {
    "duration": 37,
    "start_time": "2022-03-11T20:52:00.205Z"
   },
   {
    "duration": 401,
    "start_time": "2022-03-11T20:52:00.245Z"
   },
   {
    "duration": -119,
    "start_time": "2022-03-11T20:52:00.768Z"
   },
   {
    "duration": -122,
    "start_time": "2022-03-11T20:52:00.772Z"
   },
   {
    "duration": -133,
    "start_time": "2022-03-11T20:52:00.785Z"
   },
   {
    "duration": -135,
    "start_time": "2022-03-11T20:52:00.788Z"
   },
   {
    "duration": -140,
    "start_time": "2022-03-11T20:52:00.795Z"
   },
   {
    "duration": -140,
    "start_time": "2022-03-11T20:52:00.797Z"
   },
   {
    "duration": -141,
    "start_time": "2022-03-11T20:52:00.799Z"
   },
   {
    "duration": -141,
    "start_time": "2022-03-11T20:52:00.801Z"
   },
   {
    "duration": -142,
    "start_time": "2022-03-11T20:52:00.803Z"
   },
   {
    "duration": -143,
    "start_time": "2022-03-11T20:52:00.805Z"
   },
   {
    "duration": -146,
    "start_time": "2022-03-11T20:52:00.810Z"
   },
   {
    "duration": -147,
    "start_time": "2022-03-11T20:52:00.812Z"
   },
   {
    "duration": -147,
    "start_time": "2022-03-11T20:52:00.814Z"
   },
   {
    "duration": -147,
    "start_time": "2022-03-11T20:52:00.815Z"
   },
   {
    "duration": -147,
    "start_time": "2022-03-11T20:52:00.817Z"
   },
   {
    "duration": -147,
    "start_time": "2022-03-11T20:52:00.818Z"
   },
   {
    "duration": -146,
    "start_time": "2022-03-11T20:52:00.819Z"
   },
   {
    "duration": -147,
    "start_time": "2022-03-11T20:52:00.821Z"
   },
   {
    "duration": -150,
    "start_time": "2022-03-11T20:52:00.826Z"
   },
   {
    "duration": -150,
    "start_time": "2022-03-11T20:52:00.827Z"
   },
   {
    "duration": -150,
    "start_time": "2022-03-11T20:52:00.829Z"
   },
   {
    "duration": -150,
    "start_time": "2022-03-11T20:52:00.830Z"
   },
   {
    "duration": -252,
    "start_time": "2022-03-11T20:52:00.933Z"
   },
   {
    "duration": -314,
    "start_time": "2022-03-11T20:52:00.997Z"
   },
   {
    "duration": -320,
    "start_time": "2022-03-11T20:52:01.004Z"
   },
   {
    "duration": -320,
    "start_time": "2022-03-11T20:52:01.005Z"
   },
   {
    "duration": -319,
    "start_time": "2022-03-11T20:52:01.006Z"
   },
   {
    "duration": -319,
    "start_time": "2022-03-11T20:52:01.007Z"
   },
   {
    "duration": -319,
    "start_time": "2022-03-11T20:52:01.008Z"
   },
   {
    "duration": -319,
    "start_time": "2022-03-11T20:52:01.009Z"
   },
   {
    "duration": -318,
    "start_time": "2022-03-11T20:52:01.010Z"
   },
   {
    "duration": -318,
    "start_time": "2022-03-11T20:52:01.011Z"
   },
   {
    "duration": -318,
    "start_time": "2022-03-11T20:52:01.013Z"
   },
   {
    "duration": -318,
    "start_time": "2022-03-11T20:52:01.014Z"
   },
   {
    "duration": -318,
    "start_time": "2022-03-11T20:52:01.015Z"
   },
   {
    "duration": -318,
    "start_time": "2022-03-11T20:52:01.016Z"
   },
   {
    "duration": -317,
    "start_time": "2022-03-11T20:52:01.017Z"
   },
   {
    "duration": -317,
    "start_time": "2022-03-11T20:52:01.018Z"
   },
   {
    "duration": -317,
    "start_time": "2022-03-11T20:52:01.019Z"
   },
   {
    "duration": -317,
    "start_time": "2022-03-11T20:52:01.020Z"
   },
   {
    "duration": -316,
    "start_time": "2022-03-11T20:52:01.021Z"
   },
   {
    "duration": -316,
    "start_time": "2022-03-11T20:52:01.022Z"
   },
   {
    "duration": -316,
    "start_time": "2022-03-11T20:52:01.023Z"
   },
   {
    "duration": -316,
    "start_time": "2022-03-11T20:52:01.024Z"
   },
   {
    "duration": -315,
    "start_time": "2022-03-11T20:52:01.025Z"
   },
   {
    "duration": -315,
    "start_time": "2022-03-11T20:52:01.026Z"
   },
   {
    "duration": -315,
    "start_time": "2022-03-11T20:52:01.027Z"
   },
   {
    "duration": -315,
    "start_time": "2022-03-11T20:52:01.028Z"
   },
   {
    "duration": -315,
    "start_time": "2022-03-11T20:52:01.030Z"
   },
   {
    "duration": -315,
    "start_time": "2022-03-11T20:52:01.031Z"
   },
   {
    "duration": -315,
    "start_time": "2022-03-11T20:52:01.032Z"
   },
   {
    "duration": 35,
    "start_time": "2022-03-11T20:52:23.557Z"
   },
   {
    "duration": 32,
    "start_time": "2022-03-11T20:52:28.671Z"
   },
   {
    "duration": 17,
    "start_time": "2022-03-11T20:52:28.707Z"
   },
   {
    "duration": 56,
    "start_time": "2022-03-11T20:52:28.727Z"
   },
   {
    "duration": 10,
    "start_time": "2022-03-11T20:52:28.786Z"
   },
   {
    "duration": 9,
    "start_time": "2022-03-11T20:52:28.798Z"
   },
   {
    "duration": 879,
    "start_time": "2022-03-11T20:52:28.809Z"
   },
   {
    "duration": 4,
    "start_time": "2022-03-11T20:52:29.691Z"
   },
   {
    "duration": 9,
    "start_time": "2022-03-11T20:52:29.698Z"
   },
   {
    "duration": 1027,
    "start_time": "2022-03-11T20:52:29.711Z"
   },
   {
    "duration": 43,
    "start_time": "2022-03-11T20:52:30.742Z"
   },
   {
    "duration": 6,
    "start_time": "2022-03-11T20:52:30.787Z"
   },
   {
    "duration": 25,
    "start_time": "2022-03-11T20:52:30.795Z"
   },
   {
    "duration": 707,
    "start_time": "2022-03-11T20:52:30.823Z"
   },
   {
    "duration": 28,
    "start_time": "2022-03-11T20:52:31.533Z"
   },
   {
    "duration": 18,
    "start_time": "2022-03-11T20:52:31.583Z"
   },
   {
    "duration": 19,
    "start_time": "2022-03-11T20:52:31.604Z"
   },
   {
    "duration": 5,
    "start_time": "2022-03-11T20:52:31.625Z"
   },
   {
    "duration": 10,
    "start_time": "2022-03-11T20:52:31.632Z"
   },
   {
    "duration": 420,
    "start_time": "2022-03-11T20:52:31.645Z"
   },
   {
    "duration": 16,
    "start_time": "2022-03-11T20:52:32.067Z"
   },
   {
    "duration": 11,
    "start_time": "2022-03-11T20:52:32.086Z"
   },
   {
    "duration": 426,
    "start_time": "2022-03-11T20:52:32.099Z"
   },
   {
    "duration": 21,
    "start_time": "2022-03-11T20:52:32.527Z"
   },
   {
    "duration": 7,
    "start_time": "2022-03-11T20:52:32.550Z"
   },
   {
    "duration": 26,
    "start_time": "2022-03-11T20:52:32.559Z"
   },
   {
    "duration": 7640,
    "start_time": "2022-03-11T20:52:32.588Z"
   },
   {
    "duration": -287,
    "start_time": "2022-03-11T20:52:40.518Z"
   },
   {
    "duration": -309,
    "start_time": "2022-03-11T20:52:40.542Z"
   },
   {
    "duration": -310,
    "start_time": "2022-03-11T20:52:40.544Z"
   },
   {
    "duration": -310,
    "start_time": "2022-03-11T20:52:40.546Z"
   },
   {
    "duration": -311,
    "start_time": "2022-03-11T20:52:40.548Z"
   },
   {
    "duration": -310,
    "start_time": "2022-03-11T20:52:40.549Z"
   },
   {
    "duration": -311,
    "start_time": "2022-03-11T20:52:40.552Z"
   },
   {
    "duration": -316,
    "start_time": "2022-03-11T20:52:40.558Z"
   },
   {
    "duration": -456,
    "start_time": "2022-03-11T20:52:40.700Z"
   },
   {
    "duration": -461,
    "start_time": "2022-03-11T20:52:40.707Z"
   },
   {
    "duration": -461,
    "start_time": "2022-03-11T20:52:40.709Z"
   },
   {
    "duration": -461,
    "start_time": "2022-03-11T20:52:40.710Z"
   },
   {
    "duration": -461,
    "start_time": "2022-03-11T20:52:40.712Z"
   },
   {
    "duration": -461,
    "start_time": "2022-03-11T20:52:40.713Z"
   },
   {
    "duration": -462,
    "start_time": "2022-03-11T20:52:40.715Z"
   },
   {
    "duration": -462,
    "start_time": "2022-03-11T20:52:40.716Z"
   },
   {
    "duration": -461,
    "start_time": "2022-03-11T20:52:40.717Z"
   },
   {
    "duration": -461,
    "start_time": "2022-03-11T20:52:40.718Z"
   },
   {
    "duration": -465,
    "start_time": "2022-03-11T20:52:40.723Z"
   },
   {
    "duration": -465,
    "start_time": "2022-03-11T20:52:40.725Z"
   },
   {
    "duration": -464,
    "start_time": "2022-03-11T20:52:40.726Z"
   },
   {
    "duration": -464,
    "start_time": "2022-03-11T20:52:40.727Z"
   },
   {
    "duration": -464,
    "start_time": "2022-03-11T20:52:40.728Z"
   },
   {
    "duration": -465,
    "start_time": "2022-03-11T20:52:40.730Z"
   },
   {
    "duration": -464,
    "start_time": "2022-03-11T20:52:40.731Z"
   },
   {
    "duration": 5,
    "start_time": "2022-03-11T20:53:28.933Z"
   },
   {
    "duration": 6,
    "start_time": "2022-03-11T20:53:41.359Z"
   },
   {
    "duration": 521,
    "start_time": "2022-03-11T20:53:56.493Z"
   },
   {
    "duration": 6,
    "start_time": "2022-03-11T20:54:06.575Z"
   },
   {
    "duration": 620,
    "start_time": "2022-03-11T20:54:11.311Z"
   },
   {
    "duration": 20,
    "start_time": "2022-03-11T20:54:12.365Z"
   },
   {
    "duration": 4,
    "start_time": "2022-03-11T20:54:22.792Z"
   },
   {
    "duration": 6,
    "start_time": "2022-03-11T20:54:27.468Z"
   },
   {
    "duration": 535,
    "start_time": "2022-03-11T20:54:29.201Z"
   },
   {
    "duration": 4,
    "start_time": "2022-03-11T20:54:56.928Z"
   },
   {
    "duration": 6,
    "start_time": "2022-03-11T20:54:58.365Z"
   },
   {
    "duration": 480,
    "start_time": "2022-03-11T20:54:59.311Z"
   },
   {
    "duration": 20,
    "start_time": "2022-03-11T20:55:18.884Z"
   },
   {
    "duration": 5,
    "start_time": "2022-03-11T20:56:31.982Z"
   },
   {
    "duration": 5,
    "start_time": "2022-03-11T20:56:46.230Z"
   },
   {
    "duration": 529,
    "start_time": "2022-03-11T20:56:55.081Z"
   },
   {
    "duration": 5,
    "start_time": "2022-03-11T20:57:25.596Z"
   },
   {
    "duration": 513,
    "start_time": "2022-03-11T20:57:27.023Z"
   },
   {
    "duration": 5,
    "start_time": "2022-03-11T20:57:53.017Z"
   },
   {
    "duration": 7,
    "start_time": "2022-03-11T20:57:56.689Z"
   },
   {
    "duration": 262,
    "start_time": "2022-03-11T20:57:59.968Z"
   },
   {
    "duration": 25,
    "start_time": "2022-03-11T20:58:09.096Z"
   },
   {
    "duration": 553,
    "start_time": "2022-03-11T20:58:14.847Z"
   },
   {
    "duration": 341,
    "start_time": "2022-03-11T20:58:26.841Z"
   },
   {
    "duration": 48,
    "start_time": "2022-03-11T20:58:27.185Z"
   },
   {
    "duration": 231,
    "start_time": "2022-03-11T20:58:27.236Z"
   },
   {
    "duration": 224,
    "start_time": "2022-03-11T20:58:27.470Z"
   },
   {
    "duration": 352,
    "start_time": "2022-03-11T20:58:27.697Z"
   },
   {
    "duration": 60,
    "start_time": "2022-03-11T20:58:28.051Z"
   },
   {
    "duration": 238,
    "start_time": "2022-03-11T20:58:28.113Z"
   },
   {
    "duration": 234,
    "start_time": "2022-03-11T20:58:28.353Z"
   },
   {
    "duration": 7373,
    "start_time": "2022-03-11T20:58:28.591Z"
   },
   {
    "duration": -266,
    "start_time": "2022-03-11T20:58:36.233Z"
   },
   {
    "duration": -269,
    "start_time": "2022-03-11T20:58:36.237Z"
   },
   {
    "duration": -277,
    "start_time": "2022-03-11T20:58:36.247Z"
   },
   {
    "duration": -279,
    "start_time": "2022-03-11T20:58:36.250Z"
   },
   {
    "duration": -281,
    "start_time": "2022-03-11T20:58:36.254Z"
   },
   {
    "duration": -289,
    "start_time": "2022-03-11T20:58:36.263Z"
   },
   {
    "duration": -289,
    "start_time": "2022-03-11T20:58:36.265Z"
   },
   {
    "duration": -290,
    "start_time": "2022-03-11T20:58:36.267Z"
   },
   {
    "duration": -291,
    "start_time": "2022-03-11T20:58:36.270Z"
   },
   {
    "duration": -297,
    "start_time": "2022-03-11T20:58:36.277Z"
   },
   {
    "duration": -297,
    "start_time": "2022-03-11T20:58:36.279Z"
   },
   {
    "duration": -298,
    "start_time": "2022-03-11T20:58:36.281Z"
   },
   {
    "duration": -298,
    "start_time": "2022-03-11T20:58:36.283Z"
   },
   {
    "duration": -299,
    "start_time": "2022-03-11T20:58:36.285Z"
   },
   {
    "duration": 326,
    "start_time": "2022-03-11T20:59:43.856Z"
   },
   {
    "duration": 325,
    "start_time": "2022-03-11T20:59:47.225Z"
   },
   {
    "duration": 50,
    "start_time": "2022-03-11T20:59:52.807Z"
   },
   {
    "duration": 220,
    "start_time": "2022-03-11T21:00:03.323Z"
   },
   {
    "duration": 308,
    "start_time": "2022-03-11T21:00:07.877Z"
   },
   {
    "duration": 56,
    "start_time": "2022-03-11T21:00:15.788Z"
   },
   {
    "duration": 312,
    "start_time": "2022-03-11T21:00:16.812Z"
   },
   {
    "duration": 221,
    "start_time": "2022-03-11T21:00:21.953Z"
   },
   {
    "duration": 230,
    "start_time": "2022-03-11T21:00:22.177Z"
   },
   {
    "duration": 29,
    "start_time": "2022-03-11T21:00:22.410Z"
   },
   {
    "duration": 71,
    "start_time": "2022-03-11T21:00:22.442Z"
   },
   {
    "duration": 348,
    "start_time": "2022-03-11T21:00:22.516Z"
   },
   {
    "duration": 218,
    "start_time": "2022-03-11T21:00:22.867Z"
   },
   {
    "duration": 241,
    "start_time": "2022-03-11T21:00:23.089Z"
   },
   {
    "duration": 9,
    "start_time": "2022-03-11T21:00:23.333Z"
   },
   {
    "duration": 35,
    "start_time": "2022-03-11T21:00:23.347Z"
   },
   {
    "duration": 60,
    "start_time": "2022-03-11T21:42:25.830Z"
   },
   {
    "duration": 55,
    "start_time": "2022-03-11T21:45:08.180Z"
   },
   {
    "duration": 559,
    "start_time": "2022-03-11T21:45:08.237Z"
   },
   {
    "duration": 363,
    "start_time": "2022-03-11T21:45:08.799Z"
   },
   {
    "duration": 56,
    "start_time": "2022-03-11T21:45:09.165Z"
   },
   {
    "duration": 242,
    "start_time": "2022-03-11T21:45:09.224Z"
   },
   {
    "duration": 232,
    "start_time": "2022-03-11T21:45:09.469Z"
   },
   {
    "duration": 454,
    "start_time": "2022-03-11T21:45:09.704Z"
   },
   {
    "duration": 62,
    "start_time": "2022-03-11T21:45:10.160Z"
   },
   {
    "duration": 256,
    "start_time": "2022-03-11T21:45:10.226Z"
   },
   {
    "duration": 233,
    "start_time": "2022-03-11T21:45:10.485Z"
   },
   {
    "duration": 335,
    "start_time": "2022-03-11T21:45:10.721Z"
   },
   {
    "duration": 62,
    "start_time": "2022-03-11T21:45:11.059Z"
   },
   {
    "duration": 243,
    "start_time": "2022-03-11T21:45:11.124Z"
   },
   {
    "duration": 215,
    "start_time": "2022-03-11T21:45:11.370Z"
   },
   {
    "duration": 55,
    "start_time": "2022-03-11T21:45:11.588Z"
   },
   {
    "duration": 358,
    "start_time": "2022-03-11T21:45:11.646Z"
   },
   {
    "duration": 232,
    "start_time": "2022-03-11T21:45:12.008Z"
   },
   {
    "duration": 210,
    "start_time": "2022-03-11T21:45:12.243Z"
   },
   {
    "duration": 40,
    "start_time": "2022-03-11T21:45:12.456Z"
   },
   {
    "duration": 282,
    "start_time": "2022-03-11T21:45:12.498Z"
   },
   {
    "duration": -194,
    "start_time": "2022-03-11T21:45:12.976Z"
   },
   {
    "duration": -195,
    "start_time": "2022-03-11T21:45:12.979Z"
   },
   {
    "duration": -200,
    "start_time": "2022-03-11T21:45:12.986Z"
   },
   {
    "duration": -202,
    "start_time": "2022-03-11T21:45:12.989Z"
   },
   {
    "duration": -203,
    "start_time": "2022-03-11T21:45:12.991Z"
   },
   {
    "duration": 66,
    "start_time": "2022-03-11T21:45:59.649Z"
   },
   {
    "duration": 534,
    "start_time": "2022-03-11T21:51:37.817Z"
   },
   {
    "duration": 514,
    "start_time": "2022-03-11T21:52:02.315Z"
   },
   {
    "duration": 294,
    "start_time": "2022-03-11T21:54:54.755Z"
   },
   {
    "duration": 275,
    "start_time": "2022-03-11T21:55:00.574Z"
   },
   {
    "duration": 6,
    "start_time": "2022-03-11T21:55:42.803Z"
   },
   {
    "duration": 144,
    "start_time": "2022-03-11T21:55:50.119Z"
   },
   {
    "duration": 52,
    "start_time": "2022-03-11T21:55:56.489Z"
   },
   {
    "duration": 53,
    "start_time": "2022-03-11T22:53:11.431Z"
   },
   {
    "duration": 65,
    "start_time": "2022-03-11T22:53:15.152Z"
   },
   {
    "duration": 5,
    "start_time": "2022-03-12T01:09:30.884Z"
   },
   {
    "duration": 387,
    "start_time": "2022-03-12T01:09:30.892Z"
   },
   {
    "duration": 14,
    "start_time": "2022-03-12T01:09:31.282Z"
   },
   {
    "duration": 245,
    "start_time": "2022-03-12T01:09:31.299Z"
   },
   {
    "duration": 21,
    "start_time": "2022-03-12T01:09:31.547Z"
   },
   {
    "duration": 20,
    "start_time": "2022-03-12T01:09:31.570Z"
   },
   {
    "duration": 18,
    "start_time": "2022-03-12T01:09:31.593Z"
   },
   {
    "duration": 24,
    "start_time": "2022-03-12T01:09:31.616Z"
   },
   {
    "duration": 11,
    "start_time": "2022-03-12T01:09:31.643Z"
   },
   {
    "duration": 289,
    "start_time": "2022-03-12T01:09:31.656Z"
   },
   {
    "duration": 6,
    "start_time": "2022-03-12T01:09:31.947Z"
   },
   {
    "duration": 38,
    "start_time": "2022-03-12T01:09:31.955Z"
   },
   {
    "duration": 13,
    "start_time": "2022-03-12T01:09:31.996Z"
   },
   {
    "duration": 8,
    "start_time": "2022-03-12T01:09:32.011Z"
   },
   {
    "duration": 13,
    "start_time": "2022-03-12T01:09:32.022Z"
   },
   {
    "duration": 21,
    "start_time": "2022-03-12T01:09:32.037Z"
   },
   {
    "duration": 27,
    "start_time": "2022-03-12T01:09:32.060Z"
   },
   {
    "duration": 19,
    "start_time": "2022-03-12T01:09:32.089Z"
   },
   {
    "duration": 39,
    "start_time": "2022-03-12T01:09:32.111Z"
   },
   {
    "duration": 36,
    "start_time": "2022-03-12T01:09:32.153Z"
   },
   {
    "duration": 55,
    "start_time": "2022-03-12T01:09:32.192Z"
   },
   {
    "duration": 53,
    "start_time": "2022-03-12T01:09:32.249Z"
   },
   {
    "duration": 24,
    "start_time": "2022-03-12T01:09:32.308Z"
   },
   {
    "duration": 47,
    "start_time": "2022-03-12T01:09:32.336Z"
   },
   {
    "duration": 28,
    "start_time": "2022-03-12T01:09:32.386Z"
   },
   {
    "duration": 24,
    "start_time": "2022-03-12T01:09:32.417Z"
   },
   {
    "duration": 39,
    "start_time": "2022-03-12T01:09:32.443Z"
   },
   {
    "duration": 28,
    "start_time": "2022-03-12T01:09:32.484Z"
   },
   {
    "duration": 16,
    "start_time": "2022-03-12T01:09:32.514Z"
   },
   {
    "duration": 50,
    "start_time": "2022-03-12T01:09:32.532Z"
   },
   {
    "duration": 21,
    "start_time": "2022-03-12T01:09:32.585Z"
   },
   {
    "duration": 28,
    "start_time": "2022-03-12T01:09:32.608Z"
   },
   {
    "duration": 11,
    "start_time": "2022-03-12T01:09:32.638Z"
   },
   {
    "duration": 53,
    "start_time": "2022-03-12T01:09:32.683Z"
   },
   {
    "duration": 20,
    "start_time": "2022-03-12T01:09:32.738Z"
   },
   {
    "duration": 40,
    "start_time": "2022-03-12T01:09:32.761Z"
   },
   {
    "duration": 26,
    "start_time": "2022-03-12T01:09:32.803Z"
   },
   {
    "duration": 12,
    "start_time": "2022-03-12T01:09:32.831Z"
   },
   {
    "duration": 77,
    "start_time": "2022-03-12T01:09:32.846Z"
   },
   {
    "duration": 59,
    "start_time": "2022-03-12T01:09:32.925Z"
   },
   {
    "duration": 50,
    "start_time": "2022-03-12T01:09:32.986Z"
   },
   {
    "duration": 60,
    "start_time": "2022-03-12T01:09:33.038Z"
   },
   {
    "duration": 32,
    "start_time": "2022-03-12T01:09:33.101Z"
   },
   {
    "duration": 46,
    "start_time": "2022-03-12T01:09:33.136Z"
   },
   {
    "duration": 13,
    "start_time": "2022-03-12T01:09:33.184Z"
   },
   {
    "duration": 38,
    "start_time": "2022-03-12T01:09:33.199Z"
   },
   {
    "duration": 39,
    "start_time": "2022-03-12T01:09:33.240Z"
   },
   {
    "duration": 50,
    "start_time": "2022-03-12T01:09:33.281Z"
   },
   {
    "duration": 850,
    "start_time": "2022-03-12T01:09:33.334Z"
   },
   {
    "duration": 5,
    "start_time": "2022-03-12T01:09:34.187Z"
   },
   {
    "duration": 22,
    "start_time": "2022-03-12T01:09:34.194Z"
   },
   {
    "duration": 851,
    "start_time": "2022-03-12T01:09:34.218Z"
   },
   {
    "duration": 31,
    "start_time": "2022-03-12T01:09:35.072Z"
   },
   {
    "duration": 38,
    "start_time": "2022-03-12T01:09:35.106Z"
   },
   {
    "duration": 44,
    "start_time": "2022-03-12T01:09:35.147Z"
   },
   {
    "duration": 472,
    "start_time": "2022-03-12T01:09:35.194Z"
   },
   {
    "duration": 29,
    "start_time": "2022-03-12T01:09:35.668Z"
   },
   {
    "duration": 44,
    "start_time": "2022-03-12T01:09:35.699Z"
   },
   {
    "duration": 44,
    "start_time": "2022-03-12T01:09:35.745Z"
   },
   {
    "duration": 57,
    "start_time": "2022-03-12T01:09:35.792Z"
   },
   {
    "duration": 58,
    "start_time": "2022-03-12T01:09:35.852Z"
   },
   {
    "duration": 417,
    "start_time": "2022-03-12T01:09:35.912Z"
   },
   {
    "duration": 5,
    "start_time": "2022-03-12T01:09:36.332Z"
   },
   {
    "duration": 36,
    "start_time": "2022-03-12T01:09:36.339Z"
   },
   {
    "duration": 459,
    "start_time": "2022-03-12T01:09:36.378Z"
   },
   {
    "duration": 21,
    "start_time": "2022-03-12T01:09:36.840Z"
   },
   {
    "duration": 33,
    "start_time": "2022-03-12T01:09:36.864Z"
   },
   {
    "duration": 48,
    "start_time": "2022-03-12T01:09:36.905Z"
   },
   {
    "duration": 246,
    "start_time": "2022-03-12T01:09:36.957Z"
   },
   {
    "duration": 25,
    "start_time": "2022-03-12T01:09:37.206Z"
   },
   {
    "duration": 98,
    "start_time": "2022-03-12T01:09:37.234Z"
   },
   {
    "duration": 73,
    "start_time": "2022-03-12T01:09:37.335Z"
   },
   {
    "duration": 532,
    "start_time": "2022-03-12T01:09:37.411Z"
   },
   {
    "duration": 356,
    "start_time": "2022-03-12T01:09:37.945Z"
   },
   {
    "duration": 49,
    "start_time": "2022-03-12T01:09:38.303Z"
   },
   {
    "duration": 247,
    "start_time": "2022-03-12T01:09:38.354Z"
   },
   {
    "duration": 219,
    "start_time": "2022-03-12T01:09:38.603Z"
   },
   {
    "duration": 361,
    "start_time": "2022-03-12T01:09:38.824Z"
   },
   {
    "duration": 48,
    "start_time": "2022-03-12T01:09:39.188Z"
   },
   {
    "duration": 250,
    "start_time": "2022-03-12T01:09:39.239Z"
   },
   {
    "duration": 231,
    "start_time": "2022-03-12T01:09:39.491Z"
   },
   {
    "duration": 335,
    "start_time": "2022-03-12T01:09:39.724Z"
   },
   {
    "duration": 57,
    "start_time": "2022-03-12T01:09:40.062Z"
   },
   {
    "duration": 241,
    "start_time": "2022-03-12T01:09:40.121Z"
   },
   {
    "duration": 306,
    "start_time": "2022-03-12T01:09:40.364Z"
   },
   {
    "duration": 57,
    "start_time": "2022-03-12T01:09:40.673Z"
   },
   {
    "duration": 321,
    "start_time": "2022-03-12T01:09:40.732Z"
   },
   {
    "duration": 216,
    "start_time": "2022-03-12T01:09:41.055Z"
   },
   {
    "duration": 209,
    "start_time": "2022-03-12T01:09:41.273Z"
   },
   {
    "duration": 36,
    "start_time": "2022-03-12T01:09:41.484Z"
   },
   {
    "duration": 72,
    "start_time": "2022-03-12T01:09:41.523Z"
   },
   {
    "duration": 322,
    "start_time": "2022-03-12T01:09:41.597Z"
   },
   {
    "duration": 226,
    "start_time": "2022-03-12T01:09:41.921Z"
   },
   {
    "duration": 217,
    "start_time": "2022-03-12T01:09:42.150Z"
   },
   {
    "duration": 15,
    "start_time": "2022-03-12T01:09:42.370Z"
   },
   {
    "duration": 10,
    "start_time": "2022-03-12T01:09:42.388Z"
   },
   {
    "duration": 5,
    "start_time": "2022-03-12T01:14:42.496Z"
   },
   {
    "duration": 337,
    "start_time": "2022-03-12T01:14:42.503Z"
   },
   {
    "duration": 14,
    "start_time": "2022-03-12T01:14:42.843Z"
   },
   {
    "duration": 13,
    "start_time": "2022-03-12T01:14:42.860Z"
   },
   {
    "duration": 17,
    "start_time": "2022-03-12T01:14:42.875Z"
   },
   {
    "duration": 17,
    "start_time": "2022-03-12T01:14:42.894Z"
   },
   {
    "duration": 11,
    "start_time": "2022-03-12T01:14:42.913Z"
   },
   {
    "duration": 56,
    "start_time": "2022-03-12T01:14:42.926Z"
   },
   {
    "duration": 10,
    "start_time": "2022-03-12T01:14:42.988Z"
   },
   {
    "duration": 298,
    "start_time": "2022-03-12T01:14:43.003Z"
   },
   {
    "duration": 6,
    "start_time": "2022-03-12T01:14:43.304Z"
   },
   {
    "duration": 25,
    "start_time": "2022-03-12T01:14:43.313Z"
   },
   {
    "duration": 7,
    "start_time": "2022-03-12T01:14:43.340Z"
   },
   {
    "duration": 6,
    "start_time": "2022-03-12T01:14:43.383Z"
   },
   {
    "duration": 7,
    "start_time": "2022-03-12T01:14:43.392Z"
   },
   {
    "duration": 20,
    "start_time": "2022-03-12T01:14:43.402Z"
   },
   {
    "duration": 10,
    "start_time": "2022-03-12T01:14:43.424Z"
   },
   {
    "duration": 56,
    "start_time": "2022-03-12T01:14:43.436Z"
   },
   {
    "duration": 36,
    "start_time": "2022-03-12T01:14:43.495Z"
   },
   {
    "duration": 11,
    "start_time": "2022-03-12T01:14:43.533Z"
   },
   {
    "duration": 80,
    "start_time": "2022-03-12T01:14:43.546Z"
   },
   {
    "duration": 29,
    "start_time": "2022-03-12T01:14:43.629Z"
   },
   {
    "duration": 37,
    "start_time": "2022-03-12T01:14:43.660Z"
   },
   {
    "duration": 27,
    "start_time": "2022-03-12T01:14:43.699Z"
   },
   {
    "duration": 63,
    "start_time": "2022-03-12T01:14:43.729Z"
   },
   {
    "duration": 27,
    "start_time": "2022-03-12T01:14:43.795Z"
   },
   {
    "duration": 10,
    "start_time": "2022-03-12T01:14:43.831Z"
   },
   {
    "duration": 61,
    "start_time": "2022-03-12T01:14:43.847Z"
   },
   {
    "duration": 18,
    "start_time": "2022-03-12T01:14:43.911Z"
   },
   {
    "duration": 53,
    "start_time": "2022-03-12T01:14:43.931Z"
   },
   {
    "duration": 23,
    "start_time": "2022-03-12T01:14:43.988Z"
   },
   {
    "duration": 33,
    "start_time": "2022-03-12T01:14:44.013Z"
   },
   {
    "duration": 12,
    "start_time": "2022-03-12T01:14:44.083Z"
   },
   {
    "duration": 59,
    "start_time": "2022-03-12T01:14:44.097Z"
   },
   {
    "duration": 41,
    "start_time": "2022-03-12T01:14:44.159Z"
   },
   {
    "duration": 23,
    "start_time": "2022-03-12T01:14:44.202Z"
   },
   {
    "duration": 26,
    "start_time": "2022-03-12T01:14:44.227Z"
   },
   {
    "duration": 12,
    "start_time": "2022-03-12T01:14:44.282Z"
   },
   {
    "duration": 51,
    "start_time": "2022-03-12T01:14:44.296Z"
   },
   {
    "duration": 65,
    "start_time": "2022-03-12T01:14:44.350Z"
   },
   {
    "duration": 64,
    "start_time": "2022-03-12T01:14:44.418Z"
   },
   {
    "duration": 38,
    "start_time": "2022-03-12T01:14:44.484Z"
   },
   {
    "duration": 60,
    "start_time": "2022-03-12T01:14:44.524Z"
   },
   {
    "duration": 28,
    "start_time": "2022-03-12T01:14:44.586Z"
   },
   {
    "duration": 13,
    "start_time": "2022-03-12T01:14:44.616Z"
   },
   {
    "duration": 9,
    "start_time": "2022-03-12T01:14:44.631Z"
   },
   {
    "duration": 40,
    "start_time": "2022-03-12T01:14:44.642Z"
   },
   {
    "duration": 8,
    "start_time": "2022-03-12T01:14:44.684Z"
   },
   {
    "duration": 846,
    "start_time": "2022-03-12T01:14:44.695Z"
   },
   {
    "duration": 5,
    "start_time": "2022-03-12T01:14:45.543Z"
   },
   {
    "duration": 13,
    "start_time": "2022-03-12T01:14:45.550Z"
   },
   {
    "duration": 895,
    "start_time": "2022-03-12T01:14:45.565Z"
   },
   {
    "duration": 30,
    "start_time": "2022-03-12T01:14:46.463Z"
   },
   {
    "duration": 13,
    "start_time": "2022-03-12T01:14:46.495Z"
   },
   {
    "duration": 14,
    "start_time": "2022-03-12T01:14:46.511Z"
   },
   {
    "duration": 470,
    "start_time": "2022-03-12T01:14:46.527Z"
   },
   {
    "duration": 21,
    "start_time": "2022-03-12T01:14:46.999Z"
   },
   {
    "duration": 13,
    "start_time": "2022-03-12T01:14:47.022Z"
   },
   {
    "duration": 9,
    "start_time": "2022-03-12T01:14:47.037Z"
   },
   {
    "duration": 35,
    "start_time": "2022-03-12T01:14:47.048Z"
   },
   {
    "duration": 17,
    "start_time": "2022-03-12T01:14:47.085Z"
   },
   {
    "duration": 394,
    "start_time": "2022-03-12T01:14:47.104Z"
   },
   {
    "duration": 5,
    "start_time": "2022-03-12T01:14:47.500Z"
   },
   {
    "duration": 25,
    "start_time": "2022-03-12T01:14:47.507Z"
   },
   {
    "duration": 412,
    "start_time": "2022-03-12T01:14:47.534Z"
   },
   {
    "duration": 35,
    "start_time": "2022-03-12T01:14:47.949Z"
   },
   {
    "duration": 4,
    "start_time": "2022-03-12T01:14:47.987Z"
   },
   {
    "duration": 7,
    "start_time": "2022-03-12T01:14:47.995Z"
   },
   {
    "duration": 256,
    "start_time": "2022-03-12T01:14:48.005Z"
   },
   {
    "duration": 39,
    "start_time": "2022-03-12T01:14:48.264Z"
   },
   {
    "duration": 78,
    "start_time": "2022-03-12T01:14:48.306Z"
   },
   {
    "duration": 63,
    "start_time": "2022-03-12T01:14:48.387Z"
   },
   {
    "duration": 544,
    "start_time": "2022-03-12T01:14:48.453Z"
   },
   {
    "duration": 359,
    "start_time": "2022-03-12T01:14:49.000Z"
   },
   {
    "duration": 60,
    "start_time": "2022-03-12T01:14:49.362Z"
   },
   {
    "duration": 328,
    "start_time": "2022-03-12T01:14:49.425Z"
   },
   {
    "duration": 263,
    "start_time": "2022-03-12T01:14:49.756Z"
   },
   {
    "duration": 451,
    "start_time": "2022-03-12T01:14:50.022Z"
   },
   {
    "duration": 50,
    "start_time": "2022-03-12T01:14:50.475Z"
   },
   {
    "duration": 233,
    "start_time": "2022-03-12T01:14:50.528Z"
   },
   {
    "duration": 244,
    "start_time": "2022-03-12T01:14:50.769Z"
   },
   {
    "duration": 346,
    "start_time": "2022-03-12T01:14:51.016Z"
   },
   {
    "duration": 55,
    "start_time": "2022-03-12T01:14:51.364Z"
   },
   {
    "duration": 418,
    "start_time": "2022-03-12T01:14:51.421Z"
   },
   {
    "duration": 232,
    "start_time": "2022-03-12T01:14:51.883Z"
   },
   {
    "duration": 107,
    "start_time": "2022-03-12T01:14:52.117Z"
   },
   {
    "duration": 435,
    "start_time": "2022-03-12T01:14:52.226Z"
   },
   {
    "duration": 276,
    "start_time": "2022-03-12T01:14:52.664Z"
   },
   {
    "duration": 259,
    "start_time": "2022-03-12T01:14:52.942Z"
   },
   {
    "duration": 27,
    "start_time": "2022-03-12T01:14:53.204Z"
   },
   {
    "duration": 71,
    "start_time": "2022-03-12T01:14:53.233Z"
   },
   {
    "duration": 428,
    "start_time": "2022-03-12T01:14:53.307Z"
   },
   {
    "duration": 202,
    "start_time": "2022-03-12T01:14:53.738Z"
   },
   {
    "duration": 220,
    "start_time": "2022-03-12T01:14:53.944Z"
   },
   {
    "duration": 17,
    "start_time": "2022-03-12T01:14:54.167Z"
   },
   {
    "duration": 21,
    "start_time": "2022-03-12T01:14:54.187Z"
   },
   {
    "duration": 7,
    "start_time": "2022-03-12T01:19:41.455Z"
   },
   {
    "duration": 269,
    "start_time": "2022-03-12T01:27:00.749Z"
   },
   {
    "duration": 269,
    "start_time": "2022-03-12T01:27:09.495Z"
   },
   {
    "duration": 366,
    "start_time": "2022-03-12T01:29:38.989Z"
   },
   {
    "duration": 307,
    "start_time": "2022-03-12T01:29:53.412Z"
   },
   {
    "duration": 8,
    "start_time": "2022-03-12T01:30:41.485Z"
   },
   {
    "duration": 9,
    "start_time": "2022-03-12T01:31:03.034Z"
   },
   {
    "duration": 1043,
    "start_time": "2022-03-12T10:49:50.338Z"
   },
   {
    "duration": 269,
    "start_time": "2022-03-12T10:49:51.383Z"
   },
   {
    "duration": 11,
    "start_time": "2022-03-12T10:49:51.654Z"
   },
   {
    "duration": 10,
    "start_time": "2022-03-12T10:49:51.667Z"
   },
   {
    "duration": 9,
    "start_time": "2022-03-12T10:49:51.678Z"
   },
   {
    "duration": 9,
    "start_time": "2022-03-12T10:49:51.688Z"
   },
   {
    "duration": 7,
    "start_time": "2022-03-12T10:49:51.699Z"
   },
   {
    "duration": 14,
    "start_time": "2022-03-12T10:49:51.709Z"
   },
   {
    "duration": 7,
    "start_time": "2022-03-12T10:49:51.725Z"
   },
   {
    "duration": 173,
    "start_time": "2022-03-12T10:49:51.733Z"
   },
   {
    "duration": 4,
    "start_time": "2022-03-12T10:49:51.908Z"
   },
   {
    "duration": 17,
    "start_time": "2022-03-12T10:49:51.913Z"
   },
   {
    "duration": 4,
    "start_time": "2022-03-12T10:49:51.932Z"
   },
   {
    "duration": 4,
    "start_time": "2022-03-12T10:49:51.938Z"
   },
   {
    "duration": 9,
    "start_time": "2022-03-12T10:49:51.944Z"
   },
   {
    "duration": 13,
    "start_time": "2022-03-12T10:49:51.954Z"
   },
   {
    "duration": 8,
    "start_time": "2022-03-12T10:49:51.968Z"
   },
   {
    "duration": 12,
    "start_time": "2022-03-12T10:49:52.001Z"
   },
   {
    "duration": 27,
    "start_time": "2022-03-12T10:49:52.015Z"
   },
   {
    "duration": 7,
    "start_time": "2022-03-12T10:49:52.044Z"
   },
   {
    "duration": 65,
    "start_time": "2022-03-12T10:49:52.052Z"
   },
   {
    "duration": 20,
    "start_time": "2022-03-12T10:49:52.118Z"
   },
   {
    "duration": 18,
    "start_time": "2022-03-12T10:49:52.141Z"
   },
   {
    "duration": 18,
    "start_time": "2022-03-12T10:49:52.162Z"
   },
   {
    "duration": 21,
    "start_time": "2022-03-12T10:49:52.202Z"
   },
   {
    "duration": 18,
    "start_time": "2022-03-12T10:49:52.224Z"
   },
   {
    "duration": 6,
    "start_time": "2022-03-12T10:49:52.244Z"
   },
   {
    "duration": 21,
    "start_time": "2022-03-12T10:49:52.251Z"
   },
   {
    "duration": 37,
    "start_time": "2022-03-12T10:49:52.273Z"
   },
   {
    "duration": 13,
    "start_time": "2022-03-12T10:49:52.312Z"
   },
   {
    "duration": 15,
    "start_time": "2022-03-12T10:49:52.326Z"
   },
   {
    "duration": 22,
    "start_time": "2022-03-12T10:49:52.342Z"
   },
   {
    "duration": 78,
    "start_time": "2022-03-12T10:49:52.366Z"
   },
   {
    "duration": 50,
    "start_time": "2022-03-12T10:49:52.446Z"
   },
   {
    "duration": 15,
    "start_time": "2022-03-12T10:49:52.497Z"
   },
   {
    "duration": 26,
    "start_time": "2022-03-12T10:49:52.514Z"
   },
   {
    "duration": 42,
    "start_time": "2022-03-12T10:49:52.542Z"
   },
   {
    "duration": 12,
    "start_time": "2022-03-12T10:49:52.586Z"
   },
   {
    "duration": 43,
    "start_time": "2022-03-12T10:49:52.599Z"
   },
   {
    "duration": 28,
    "start_time": "2022-03-12T10:49:52.643Z"
   },
   {
    "duration": 36,
    "start_time": "2022-03-12T10:49:52.672Z"
   },
   {
    "duration": 23,
    "start_time": "2022-03-12T10:49:52.710Z"
   },
   {
    "duration": 34,
    "start_time": "2022-03-12T10:49:52.735Z"
   },
   {
    "duration": 15,
    "start_time": "2022-03-12T10:49:52.771Z"
   },
   {
    "duration": 7,
    "start_time": "2022-03-12T10:49:52.801Z"
   },
   {
    "duration": 10,
    "start_time": "2022-03-12T10:49:52.810Z"
   },
   {
    "duration": 9,
    "start_time": "2022-03-12T10:49:52.821Z"
   },
   {
    "duration": 12,
    "start_time": "2022-03-12T10:49:52.831Z"
   },
   {
    "duration": 407,
    "start_time": "2022-03-12T10:49:52.845Z"
   },
   {
    "duration": 3,
    "start_time": "2022-03-12T10:49:53.253Z"
   },
   {
    "duration": 11,
    "start_time": "2022-03-12T10:49:53.258Z"
   },
   {
    "duration": 405,
    "start_time": "2022-03-12T10:49:53.270Z"
   },
   {
    "duration": 14,
    "start_time": "2022-03-12T10:49:53.676Z"
   },
   {
    "duration": 3,
    "start_time": "2022-03-12T10:49:53.701Z"
   },
   {
    "duration": 7,
    "start_time": "2022-03-12T10:49:53.705Z"
   },
   {
    "duration": 240,
    "start_time": "2022-03-12T10:49:53.713Z"
   },
   {
    "duration": 12,
    "start_time": "2022-03-12T10:49:53.954Z"
   },
   {
    "duration": 9,
    "start_time": "2022-03-12T10:49:53.967Z"
   },
   {
    "duration": 24,
    "start_time": "2022-03-12T10:49:53.977Z"
   },
   {
    "duration": 2,
    "start_time": "2022-03-12T10:49:54.003Z"
   },
   {
    "duration": 10,
    "start_time": "2022-03-12T10:49:54.007Z"
   },
   {
    "duration": 220,
    "start_time": "2022-03-12T10:49:54.019Z"
   },
   {
    "duration": 3,
    "start_time": "2022-03-12T10:49:54.241Z"
   },
   {
    "duration": 8,
    "start_time": "2022-03-12T10:49:54.245Z"
   },
   {
    "duration": 196,
    "start_time": "2022-03-12T10:49:54.255Z"
   },
   {
    "duration": 12,
    "start_time": "2022-03-12T10:49:54.453Z"
   },
   {
    "duration": 4,
    "start_time": "2022-03-12T10:49:54.467Z"
   },
   {
    "duration": 3,
    "start_time": "2022-03-12T10:49:54.477Z"
   },
   {
    "duration": 119,
    "start_time": "2022-03-12T10:49:54.502Z"
   },
   {
    "duration": 16,
    "start_time": "2022-03-12T10:49:54.623Z"
   },
   {
    "duration": 32,
    "start_time": "2022-03-12T10:49:54.641Z"
   },
   {
    "duration": 56,
    "start_time": "2022-03-12T10:49:54.674Z"
   },
   {
    "duration": 300,
    "start_time": "2022-03-12T10:49:54.732Z"
   },
   {
    "duration": 195,
    "start_time": "2022-03-12T10:49:55.034Z"
   },
   {
    "duration": 31,
    "start_time": "2022-03-12T10:49:55.230Z"
   },
   {
    "duration": 136,
    "start_time": "2022-03-12T10:49:55.263Z"
   },
   {
    "duration": 123,
    "start_time": "2022-03-12T10:49:55.400Z"
   },
   {
    "duration": 188,
    "start_time": "2022-03-12T10:49:55.525Z"
   },
   {
    "duration": 28,
    "start_time": "2022-03-12T10:49:55.715Z"
   },
   {
    "duration": 190,
    "start_time": "2022-03-12T10:49:55.744Z"
   },
   {
    "duration": 133,
    "start_time": "2022-03-12T10:49:55.936Z"
   },
   {
    "duration": 188,
    "start_time": "2022-03-12T10:49:56.071Z"
   },
   {
    "duration": 27,
    "start_time": "2022-03-12T10:49:56.260Z"
   },
   {
    "duration": 129,
    "start_time": "2022-03-12T10:49:56.288Z"
   },
   {
    "duration": 116,
    "start_time": "2022-03-12T10:49:56.419Z"
   },
   {
    "duration": 31,
    "start_time": "2022-03-12T10:49:56.536Z"
   },
   {
    "duration": 185,
    "start_time": "2022-03-12T10:49:56.569Z"
   },
   {
    "duration": 126,
    "start_time": "2022-03-12T10:49:56.756Z"
   },
   {
    "duration": 119,
    "start_time": "2022-03-12T10:49:56.883Z"
   },
   {
    "duration": 15,
    "start_time": "2022-03-12T10:49:57.004Z"
   },
   {
    "duration": 26,
    "start_time": "2022-03-12T10:49:57.020Z"
   },
   {
    "duration": 191,
    "start_time": "2022-03-12T10:49:57.047Z"
   },
   {
    "duration": 120,
    "start_time": "2022-03-12T10:49:57.239Z"
   },
   {
    "duration": 116,
    "start_time": "2022-03-12T10:49:57.361Z"
   },
   {
    "duration": 5,
    "start_time": "2022-03-12T10:49:57.478Z"
   },
   {
    "duration": 21,
    "start_time": "2022-03-12T10:49:57.484Z"
   },
   {
    "duration": 8,
    "start_time": "2022-03-12T10:49:57.507Z"
   },
   {
    "duration": 13,
    "start_time": "2022-03-12T10:54:40.750Z"
   }
  ],
  "kernelspec": {
   "display_name": "Python 3 (ipykernel)",
   "language": "python",
   "name": "python3"
  },
  "language_info": {
   "codemirror_mode": {
    "name": "ipython",
    "version": 3
   },
   "file_extension": ".py",
   "mimetype": "text/x-python",
   "name": "python",
   "nbconvert_exporter": "python",
   "pygments_lexer": "ipython3",
   "version": "3.9.5"
  },
  "toc": {
   "base_numbering": 1,
   "nav_menu": {},
   "number_sections": true,
   "sideBar": true,
   "skip_h1_title": false,
   "title_cell": "Table of Contents",
   "title_sidebar": "Contents",
   "toc_cell": false,
   "toc_position": {},
   "toc_section_display": true,
   "toc_window_display": false
  }
 },
 "nbformat": 4,
 "nbformat_minor": 2
}
